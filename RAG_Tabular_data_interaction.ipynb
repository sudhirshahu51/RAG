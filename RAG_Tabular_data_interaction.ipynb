{
  "nbformat": 4,
  "nbformat_minor": 0,
  "metadata": {
    "colab": {
      "provenance": [],
      "authorship_tag": "ABX9TyNfPfh9l4/WQl+H5JUpesSb",
      "include_colab_link": true
    },
    "kernelspec": {
      "name": "python3",
      "display_name": "Python 3"
    },
    "language_info": {
      "name": "python"
    }
  },
  "cells": [
    {
      "cell_type": "markdown",
      "metadata": {
        "id": "view-in-github",
        "colab_type": "text"
      },
      "source": [
        "<a href=\"https://colab.research.google.com/github/sudhirshahu51/RAG/blob/main/RAG_Tabular_data_interaction.ipynb\" target=\"_parent\"><img src=\"https://colab.research.google.com/assets/colab-badge.svg\" alt=\"Open In Colab\"/></a>"
      ]
    },
    {
      "cell_type": "markdown",
      "source": [
        "#1. Installation\n",
        "\n",
        "[Link](https://docs.llamaindex.ai/en/stable/examples/query_engine/pandas_query_engine/)"
      ],
      "metadata": {
        "id": "6x8YDFPkXB73"
      }
    },
    {
      "cell_type": "code",
      "execution_count": 5,
      "metadata": {
        "id": "siC32wgQWx9w"
      },
      "outputs": [],
      "source": [
        "!pip install llama-index llama-index-experimental llama-index-llms-groq --quiet"
      ]
    },
    {
      "cell_type": "markdown",
      "source": [
        "LLM Config"
      ],
      "metadata": {
        "id": "HscGsRrPYXEj"
      }
    },
    {
      "cell_type": "code",
      "source": [
        "from google.colab import userdata\n",
        "from llama_index.llms.groq import Groq\n",
        "from llama_index.core.llms import ChatMessage\n",
        "groq_key = userdata.get('GROQ_API')\n",
        "llm = Groq(model=\"llama3-70b-8192\", api_key=groq_key) #https://docs.llamaindex.ai/en/stable/examples/llm/groq/#streaming"
      ],
      "metadata": {
        "id": "PGiHfVGDYVuc"
      },
      "execution_count": 7,
      "outputs": []
    },
    {
      "cell_type": "code",
      "source": [
        "from llama_index.core import Settings\n",
        "Settings.llm = llm"
      ],
      "metadata": {
        "id": "KitNb2BHZNAq"
      },
      "execution_count": 9,
      "outputs": []
    },
    {
      "cell_type": "code",
      "source": [
        "import logging\n",
        "import sys\n",
        "from IPython.display import Markdown, display\n",
        "\n",
        "import pandas as pd\n",
        "from llama_index.experimental.query_engine import PandasQueryEngine\n",
        "\n",
        "\n",
        "logging.basicConfig(stream=sys.stdout, level=logging.INFO)\n",
        "logging.getLogger().addHandler(logging.StreamHandler(stream=sys.stdout))"
      ],
      "metadata": {
        "id": "ZxEBdK27YMrh"
      },
      "execution_count": 2,
      "outputs": []
    },
    {
      "cell_type": "code",
      "source": [
        "# Test on some sample data\n",
        "df = pd.DataFrame(\n",
        "    {\n",
        "        \"city\": [\"Toronto\", \"Tokyo\", \"Berlin\"],\n",
        "        \"population\": [2930000, 13960000, 3645000],\n",
        "    }\n",
        ")"
      ],
      "metadata": {
        "id": "SWoDN_mXYTFT"
      },
      "execution_count": 3,
      "outputs": []
    },
    {
      "cell_type": "code",
      "source": [
        "query_engine = PandasQueryEngine(df=df, verbose=True)"
      ],
      "metadata": {
        "id": "vtIBvwSoYPKp"
      },
      "execution_count": 10,
      "outputs": []
    },
    {
      "cell_type": "code",
      "source": [
        "\n",
        "response = query_engine.query(\n",
        "    \"What is the city with the highest population?\",\n",
        ")"
      ],
      "metadata": {
        "colab": {
          "base_uri": "https://localhost:8080/"
        },
        "id": "j-eoh8F_YSaa",
        "outputId": "f6c2739e-64d6-4eaa-c213-f913e87c6417"
      },
      "execution_count": 11,
      "outputs": [
        {
          "output_type": "stream",
          "name": "stdout",
          "text": [
            "> Pandas Instructions:\n",
            "```\n",
            "df.loc[df['population'].idxmax()]['city']\n",
            "```\n",
            "> Pandas Output: Tokyo\n"
          ]
        }
      ]
    },
    {
      "cell_type": "code",
      "source": [
        "display(Markdown(f\"<b>{response}</b>\"))"
      ],
      "metadata": {
        "colab": {
          "base_uri": "https://localhost:8080/",
          "height": 46
        },
        "id": "mP2071fvZgK6",
        "outputId": "a33af06f-5b6b-4ddc-c083-395c41c7eb3b"
      },
      "execution_count": 13,
      "outputs": [
        {
          "output_type": "display_data",
          "data": {
            "text/plain": [
              "<IPython.core.display.Markdown object>"
            ],
            "text/markdown": "<b>Tokyo</b>"
          },
          "metadata": {}
        }
      ]
    },
    {
      "cell_type": "code",
      "source": [
        "# get pandas python instructions\n",
        "print(response.metadata[\"pandas_instruction_str\"])"
      ],
      "metadata": {
        "colab": {
          "base_uri": "https://localhost:8080/"
        },
        "id": "n-TbxUNCZzR6",
        "outputId": "8ad2125e-7f5f-4839-830b-56b12a596f0c"
      },
      "execution_count": 14,
      "outputs": [
        {
          "output_type": "stream",
          "name": "stdout",
          "text": [
            "df.loc[df['population'].idxmax()]['city']\n"
          ]
        }
      ]
    },
    {
      "cell_type": "code",
      "source": [
        "df.loc[df['population'].idxmax()]['city']"
      ],
      "metadata": {
        "colab": {
          "base_uri": "https://localhost:8080/",
          "height": 36
        },
        "id": "6SYkAxTHZ5pe",
        "outputId": "61142730-5ed8-4c5d-d3f1-995f9ecea737"
      },
      "execution_count": 15,
      "outputs": [
        {
          "output_type": "execute_result",
          "data": {
            "text/plain": [
              "'Tokyo'"
            ],
            "application/vnd.google.colaboratory.intrinsic+json": {
              "type": "string"
            }
          },
          "metadata": {},
          "execution_count": 15
        }
      ]
    },
    {
      "cell_type": "code",
      "source": [
        "df['population'].idxmax()"
      ],
      "metadata": {
        "colab": {
          "base_uri": "https://localhost:8080/"
        },
        "id": "zVHMDfbhZ_qH",
        "outputId": "e5344c30-dfc7-4f85-d1ac-c3e603fc605f"
      },
      "execution_count": 16,
      "outputs": [
        {
          "output_type": "execute_result",
          "data": {
            "text/plain": [
              "1"
            ]
          },
          "metadata": {},
          "execution_count": 16
        }
      ]
    },
    {
      "cell_type": "code",
      "source": [
        "query_engine = PandasQueryEngine(df=df, verbose=True, synthesize_response=True)\n",
        "response = query_engine.query(\n",
        "    \"What is the city with the highest population? Give both the city and population\",\n",
        ")\n",
        "print(str(response))"
      ],
      "metadata": {
        "colab": {
          "base_uri": "https://localhost:8080/"
        },
        "id": "1qw8SnEBadMF",
        "outputId": "e0278611-6888-4d22-dbe5-b6445e77e922"
      },
      "execution_count": 17,
      "outputs": [
        {
          "output_type": "stream",
          "name": "stdout",
          "text": [
            "> Pandas Instructions:\n",
            "```\n",
            "df.loc[df.population.idxmax()]\n",
            "```\n",
            "> Pandas Output: city             Tokyo\n",
            "population    13960000\n",
            "Name: 1, dtype: object\n",
            "The city with the highest population is Tokyo, with a population of 13,960,000.\n"
          ]
        }
      ]
    },
    {
      "cell_type": "code",
      "source": [],
      "metadata": {
        "id": "5XA-FJ3Gad_B"
      },
      "execution_count": null,
      "outputs": []
    }
  ]
}