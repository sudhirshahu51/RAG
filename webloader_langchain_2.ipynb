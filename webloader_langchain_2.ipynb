{
  "nbformat": 4,
  "nbformat_minor": 0,
  "metadata": {
    "colab": {
      "provenance": [],
      "authorship_tag": "ABX9TyPLjjZaI+ZAHZ1PcswlbVPo",
      "include_colab_link": true
    },
    "kernelspec": {
      "name": "python3",
      "display_name": "Python 3"
    },
    "language_info": {
      "name": "python"
    }
  },
  "cells": [
    {
      "cell_type": "markdown",
      "metadata": {
        "id": "view-in-github",
        "colab_type": "text"
      },
      "source": [
        "<a href=\"https://colab.research.google.com/github/sudhirshahu51/RAG/blob/main/webloader_langchain_2.ipynb\" target=\"_parent\"><img src=\"https://colab.research.google.com/assets/colab-badge.svg\" alt=\"Open In Colab\"/></a>"
      ]
    },
    {
      "cell_type": "code",
      "execution_count": 1,
      "metadata": {
        "colab": {
          "base_uri": "https://localhost:8080/"
        },
        "id": "1WSOHPeIcdrb",
        "outputId": "0699c17f-10f0-488f-fa1c-8acda6654fd6"
      },
      "outputs": [
        {
          "output_type": "stream",
          "name": "stdout",
          "text": [
            "\u001b[2K   \u001b[90m━━━━━━━━━━━━━━━━━━━━━━━━━━━━━━━━━━━━━━━━\u001b[0m \u001b[32m2.5/2.5 MB\u001b[0m \u001b[31m21.9 MB/s\u001b[0m eta \u001b[36m0:00:00\u001b[0m\n",
            "\u001b[2K   \u001b[90m━━━━━━━━━━━━━━━━━━━━━━━━━━━━━━━━━━━━━━━━\u001b[0m \u001b[32m45.1/45.1 MB\u001b[0m \u001b[31m16.9 MB/s\u001b[0m eta \u001b[36m0:00:00\u001b[0m\n",
            "\u001b[2K   \u001b[90m━━━━━━━━━━━━━━━━━━━━━━━━━━━━━━━━━━━━━━━━\u001b[0m \u001b[32m50.9/50.9 kB\u001b[0m \u001b[31m2.2 MB/s\u001b[0m eta \u001b[36m0:00:00\u001b[0m\n",
            "\u001b[?25h"
          ]
        }
      ],
      "source": [
        "!pip install langchain_community playwright beautifulsoup4 nest_asyncio html2text --quiet"
      ]
    },
    {
      "cell_type": "code",
      "source": [
        "!playwright install"
      ],
      "metadata": {
        "colab": {
          "base_uri": "https://localhost:8080/"
        },
        "id": "ILIx0S6cjJWf",
        "outputId": "0086d6a6-f168-42bb-d95f-614e8f3d2ee8"
      },
      "execution_count": 186,
      "outputs": [
        {
          "output_type": "stream",
          "name": "stdout",
          "text": [
            "Playwright Host validation warning: \n",
            "╔══════════════════════════════════════════════════════╗\n",
            "║ Host system is missing dependencies to run browsers. ║\n",
            "║ Missing libraries:                                   ║\n",
            "║     libgtk-4.so.1                                    ║\n",
            "║     libgraphene-1.0.so.0                             ║\n",
            "║     libwoff2dec.so.1.0.2                             ║\n",
            "║     libgstgl-1.0.so.0                                ║\n",
            "║     libgstcodecparsers-1.0.so.0                      ║\n",
            "║     libavif.so.13                                    ║\n",
            "║     libharfbuzz-icu.so.0                             ║\n",
            "║     libenchant-2.so.2                                ║\n",
            "║     libsecret-1.so.0                                 ║\n",
            "║     libhyphen.so.0                                   ║\n",
            "║     libmanette-0.2.so.0                              ║\n",
            "╚══════════════════════════════════════════════════════╝\n",
            "    at validateDependenciesLinux (/usr/local/lib/python3.11/dist-packages/playwright/driver/package/lib/server/registry/dependencies.js:216:9)\n",
            "\u001b[90m    at process.processTicksAndRejections (node:internal/process/task_queues:105:5)\u001b[39m\n",
            "    at async Registry._validateHostRequirements (/usr/local/lib/python3.11/dist-packages/playwright/driver/package/lib/server/registry/index.js:865:43)\n",
            "    at async Registry._validateHostRequirementsForExecutableIfNeeded (/usr/local/lib/python3.11/dist-packages/playwright/driver/package/lib/server/registry/index.js:963:7)\n",
            "    at async Registry.validateHostRequirementsForExecutablesIfNeeded (/usr/local/lib/python3.11/dist-packages/playwright/driver/package/lib/server/registry/index.js:952:43)\n",
            "    at async t.<anonymous> (/usr/local/lib/python3.11/dist-packages/playwright/driver/package/lib/cli/program.js:122:7)\n"
          ]
        }
      ]
    },
    {
      "cell_type": "code",
      "source": [
        "import nest_asyncio\n",
        "nest_asyncio.apply()"
      ],
      "metadata": {
        "id": "TPQfOnMxi9My"
      },
      "execution_count": 79,
      "outputs": []
    },
    {
      "cell_type": "code",
      "source": [
        "import textwrap\n",
        "import time\n",
        "from langchain_community.document_loaders import AsyncChromiumLoader\n",
        "from langchain_community.document_transformers import BeautifulSoupTransformer"
      ],
      "metadata": {
        "id": "MqlB3ExScuU2"
      },
      "execution_count": 96,
      "outputs": []
    },
    {
      "cell_type": "code",
      "source": [
        "link = \"https://docs.trychroma.com/docs/overview/introduction\""
      ],
      "metadata": {
        "id": "ztAQXlTvc089"
      },
      "execution_count": 19,
      "outputs": []
    },
    {
      "cell_type": "code",
      "source": [
        "loader=AsyncChromiumLoader([link])"
      ],
      "metadata": {
        "colab": {
          "base_uri": "https://localhost:8080/"
        },
        "id": "Wbfbk1tVc5Vy",
        "outputId": "d19e6a08-596c-4d20-e364-e0759d6fff44"
      },
      "execution_count": 153,
      "outputs": [
        {
          "output_type": "stream",
          "name": "stderr",
          "text": [
            "WARNING:langchain_community.utils.user_agent:USER_AGENT environment variable not set, consider setting it to identify your requests.\n"
          ]
        }
      ]
    },
    {
      "cell_type": "markdown",
      "source": [
        "Use https://stackoverflow.com/questions/50757497/simplest-async-await-example-possible-in-python asyncrous steps to build the agent to run async function as defined in link"
      ],
      "metadata": {
        "id": "kCmpRPQtwL6Z"
      }
    },
    {
      "cell_type": "code",
      "source": [
        "import asyncio\n",
        "import time\n",
        "from langchain_community.document_loaders import AsyncChromiumLoader\n",
        "\n",
        "links = [\"https://docs.trychroma.com/docs/overview/introduction\"]\n",
        "\n",
        "async def load_documents(links):\n",
        "    loader = AsyncChromiumLoader(links)\n",
        "    # Try using aload() if it exists\n",
        "    try:\n",
        "        docs = await loader.aload()\n",
        "        print(\"Using aload() for documents\")\n",
        "    except:\n",
        "        # Fallback to regular load\n",
        "        docs = loader.load()\n",
        "        time.sleep(2)\n",
        "        print(\"Using load() for documents\")\n",
        "    return docs\n",
        "\n",
        "# Run the async function\n",
        "docs = asyncio.run(load_documents(links))"
      ],
      "metadata": {
        "colab": {
          "base_uri": "https://localhost:8080/"
        },
        "id": "YkHkd7NR8VAB",
        "outputId": "cf74c88b-c9f4-402d-dcae-1525826958db"
      },
      "execution_count": 180,
      "outputs": [
        {
          "output_type": "stream",
          "name": "stderr",
          "text": [
            "WARNING:langchain_community.utils.user_agent:USER_AGENT environment variable not set, consider setting it to identify your requests.\n"
          ]
        },
        {
          "output_type": "stream",
          "name": "stdout",
          "text": [
            "Using aload() for documents\n"
          ]
        }
      ]
    },
    {
      "cell_type": "code",
      "source": [
        "docs = loader.load() #load_and_split(text_splitter: TextSplitter | None = None) → list[Document] #https://python.langchain.com/api_reference/community/document_loaders/langchain_community.document_loaders.chromium.AsyncChromiumLoader.html\n",
        "time.sleep(2)"
      ],
      "metadata": {
        "id": "GYSeK1Uckwb_"
      },
      "execution_count": 165,
      "outputs": []
    },
    {
      "cell_type": "code",
      "source": [
        "\n",
        "# Step 4: Transform HTML to text\n",
        "bs_transformer = BeautifulSoupTransformer()\n",
        "docs_transformed1 = bs_transformer.transform_documents(docs)\n",
        "\n",
        "# Step 5: Use extracted data\n",
        "print(docs_transformed1)"
      ],
      "metadata": {
        "colab": {
          "base_uri": "https://localhost:8080/"
        },
        "id": "f9Kn_OqTdIPa",
        "outputId": "04c41b59-5754-4a09-f3a5-14efd5ee7450"
      },
      "execution_count": 181,
      "outputs": [
        {
          "output_type": "stream",
          "name": "stdout",
          "text": [
            "[Document(metadata={'source': 'https://docs.trychroma.com/docs/overview/introduction'}, page_content='Search K 1000 online 18k 17.7k Toggle theme NEW Chroma Cloud Our fully managed hosted service, Chroma Cloud is here. Sign up (https://www.trychroma.com/signup) for early access! Docs Chroma Cloud New Production Integrations CLI Reference Guides & Examples Coming Soon Overview Introduction Getting Started Roadmap Contributing Telemetry About Run Chroma Ephemeral Client Persistent Client Client-Server Mode Python HTTP-Only Client Collections Create, Get, Delete Configure Add Data Update Data Delete Data Querying Collections Query And Get Metadata Filtering Full Text Search Embeddings Embedding Functions Multimodal w-5 h-5 Chroma Chroma is the open-source AI application database . Chroma makes it easy to build LLM apps by making knowledge, facts, and skills pluggable for LLMs. New to Chroma? Check out the getting started guide (./getting-started) Chroma gives you everything you need for retrieval: Store embeddings and their metadata Vector search Full-text search Document storage Metadata filtering Multi-modal retrieval Chroma runs as a server and provides Python and JavaScript/TypeScript client SDKs. Check out the Colab demo (https://colab.research.google.com/drive/1QEzFyqnoFxq7LUGyP1vzR4iLt9PpCDXv?usp=sharing) (yes, it can run in a Jupyter notebook). Chroma is licensed under Apache 2.0 (https://github.com/chroma-core/chroma/blob/main/LICENSE) Python In Python, Chroma can run in a python script or as a server. Install Chroma with Shell pip install chromadb JavaScript In JavaScript, use the Chroma JS/TS Client to connect to a Chroma server. Install Chroma with your favorite package manager: Terminal yarn npm pnpm yarn add chromadb chromadb-default-embed Continue with the full getting started guide (./getting-started) . Language Clients # (#language-clients) Language Client Python chromadb (by Chroma) Javascript chromadb (by Chroma) Ruby from @mariochavez (https://github.com/mariochavez/chroma) Java from @t_azarov (https://github.com/amikos-tech/chromadb-java-client) Go from @t_azarov (https://github.com/amikos-tech/chroma-go) C# from @microsoft (https://github.com/microsoft/semantic-kernel/tree/main/dotnet/src/Connectors/Connectors.Memory.Chroma) Rust from @Anush008 (https://crates.io/crates/chromadb) Elixir from @3zcurdia (https://hex.pm/packages/chroma/) Dart from @davidmigloz (https://pub.dev/packages/chromadb) PHP from @CodeWithKyrian (https://github.com/CodeWithKyrian/chromadb-php) PHP (Laravel) from @HelgeSverre (https://github.com/helgeSverre/chromadb) Clojure from @levand (https://github.com/levand/clojure-chroma-client) R from @cynkra (https://cynkra.github.io/rchroma/) We welcome contributions (/markdoc/content/docs/overview/contributing.md) for other languages! Getting Started Edit this page on GitHub (https://github.com/chroma-core/chroma/tree/main/docs/docs.trychroma.com/markdoc/content/docs/overview/introduction.md)')]\n"
          ]
        }
      ]
    },
    {
      "cell_type": "code",
      "source": [
        "#print(docs_transformed[0].page_content)"
      ],
      "metadata": {
        "colab": {
          "base_uri": "https://localhost:8080/"
        },
        "id": "4E3OCDDj4O7h",
        "outputId": "4e772285-8f26-4801-cd67-b14aa0e44b10"
      },
      "execution_count": 120,
      "outputs": [
        {
          "output_type": "stream",
          "name": "stdout",
          "text": [
            "Search K 978 online 18k 17.7k Toggle theme NEW Chroma Cloud Our fully managed hosted service, Chroma Cloud is here. Sign up (https://www.trychroma.com/signup) for early access! Docs Chroma Cloud New Production Integrations CLI Reference Guides & Examples Coming Soon Overview Introduction Getting Started Roadmap Contributing Telemetry About Run Chroma Ephemeral Client Persistent Client Client-Server Mode Python HTTP-Only Client Collections Create, Get, Delete Configure Add Data Update Data Delete Data Querying Collections Query And Get Metadata Filtering Full Text Search Embeddings Embedding Functions Multimodal w-5 h-5 Chroma Chroma is the open-source AI application database . Chroma makes it easy to build LLM apps by making knowledge, facts, and skills pluggable for LLMs. New to Chroma? Check out the getting started guide (./getting-started) Chroma gives you everything you need for retrieval: Store embeddings and their metadata Vector search Full-text search Document storage Metadata filtering Multi-modal retrieval Chroma runs as a server and provides Python and JavaScript/TypeScript client SDKs. Check out the Colab demo (https://colab.research.google.com/drive/1QEzFyqnoFxq7LUGyP1vzR4iLt9PpCDXv?usp=sharing) (yes, it can run in a Jupyter notebook). Chroma is licensed under Apache 2.0 (https://github.com/chroma-core/chroma/blob/main/LICENSE) Python In Python, Chroma can run in a python script or as a server. Install Chroma with Shell pip install chromadb JavaScript In JavaScript, use the Chroma JS/TS Client to connect to a Chroma server. Install Chroma with your favorite package manager: Terminal yarn npm pnpm yarn add chromadb chromadb-default-embed Continue with the full getting started guide (./getting-started) . Language Clients # (#language-clients) Language Client Python chromadb (by Chroma) Javascript chromadb (by Chroma) Ruby from @mariochavez (https://github.com/mariochavez/chroma) Java from @t_azarov (https://github.com/amikos-tech/chromadb-java-client) Go from @t_azarov (https://github.com/amikos-tech/chroma-go) C# from @microsoft (https://github.com/microsoft/semantic-kernel/tree/main/dotnet/src/Connectors/Connectors.Memory.Chroma) Rust from @Anush008 (https://crates.io/crates/chromadb) Elixir from @3zcurdia (https://hex.pm/packages/chroma/) Dart from @davidmigloz (https://pub.dev/packages/chromadb) PHP from @CodeWithKyrian (https://github.com/CodeWithKyrian/chromadb-php) PHP (Laravel) from @HelgeSverre (https://github.com/helgeSverre/chromadb) Clojure from @levand (https://github.com/levand/clojure-chroma-client) R from @cynkra (https://cynkra.github.io/rchroma/) We welcome contributions (/markdoc/content/docs/overview/contributing.md) for other languages! Getting Started Edit this page on GitHub (https://github.com/chroma-core/chroma/tree/main/docs/docs.trychroma.com/markdoc/content/docs/overview/introduction.md)\n"
          ]
        }
      ]
    },
    {
      "cell_type": "code",
      "source": [
        "!pip install html2text"
      ],
      "metadata": {
        "colab": {
          "base_uri": "https://localhost:8080/"
        },
        "id": "x_tcYb3X3Ha-",
        "outputId": "47afc6d4-5083-4093-950c-5cd0b10c5e92"
      },
      "execution_count": 104,
      "outputs": [
        {
          "output_type": "stream",
          "name": "stdout",
          "text": [
            "Collecting html2text\n",
            "  Downloading html2text-2024.2.26.tar.gz (56 kB)\n",
            "\u001b[?25l     \u001b[90m━━━━━━━━━━━━━━━━━━━━━━━━━━━━━━━━━━━━━━━━\u001b[0m \u001b[32m0.0/56.5 kB\u001b[0m \u001b[31m?\u001b[0m eta \u001b[36m-:--:--\u001b[0m\r\u001b[2K     \u001b[90m━━━━━━━━━━━━━━━━━━━━━━━━━━━━━━━━━━━━━━━━\u001b[0m \u001b[32m56.5/56.5 kB\u001b[0m \u001b[31m1.9 MB/s\u001b[0m eta \u001b[36m0:00:00\u001b[0m\n",
            "\u001b[?25h  Preparing metadata (setup.py) ... \u001b[?25l\u001b[?25hdone\n",
            "Building wheels for collected packages: html2text\n",
            "  Building wheel for html2text (setup.py) ... \u001b[?25l\u001b[?25hdone\n",
            "  Created wheel for html2text: filename=html2text-2024.2.26-py3-none-any.whl size=33111 sha256=d6f38673e7f0e74cfbdc81f2b128764a0f2ea545966790f8f2e2c97497fe2321\n",
            "  Stored in directory: /root/.cache/pip/wheels/23/58/7c/d9c8c4d924a1ac2b621add1b2c1d30b639629a33cfdfde6a45\n",
            "Successfully built html2text\n",
            "Installing collected packages: html2text\n",
            "Successfully installed html2text-2024.2.26\n"
          ]
        }
      ]
    },
    {
      "cell_type": "code",
      "source": [
        "from langchain_community.document_transformers import Html2TextTransformer\n",
        "\n",
        "html2text = Html2TextTransformer()\n",
        "docs_transformed2 = html2text.transform_documents(docs)\n",
        "print(docs_transformed2[0].page_content)\n"
      ],
      "metadata": {
        "colab": {
          "base_uri": "https://localhost:8080/"
        },
        "id": "rztJBBO32yut",
        "outputId": "9c74182b-4ef2-4528-b15d-ac11eec92abf"
      },
      "execution_count": 182,
      "outputs": [
        {
          "output_type": "stream",
          "name": "stdout",
          "text": [
            "Search K 1000 online 18k 17.7k Toggle theme NEW Chroma Cloud Our fully managed\n",
            "hosted service, Chroma Cloud is here. Sign up\n",
            "(https://www.trychroma.com/signup) for early access! Docs Chroma Cloud New\n",
            "Production Integrations CLI Reference Guides & Examples Coming Soon Overview\n",
            "Introduction Getting Started Roadmap Contributing Telemetry About Run Chroma\n",
            "Ephemeral Client Persistent Client Client-Server Mode Python HTTP-Only Client\n",
            "Collections Create, Get, Delete Configure Add Data Update Data Delete Data\n",
            "Querying Collections Query And Get Metadata Filtering Full Text Search\n",
            "Embeddings Embedding Functions Multimodal w-5 h-5 Chroma Chroma is the open-\n",
            "source AI application database . Chroma makes it easy to build LLM apps by\n",
            "making knowledge, facts, and skills pluggable for LLMs. New to Chroma? Check\n",
            "out the getting started guide (./getting-started) Chroma gives you everything\n",
            "you need for retrieval: Store embeddings and their metadata Vector search\n",
            "Full-text search Document storage Metadata filtering Multi-modal retrieval\n",
            "Chroma runs as a server and provides Python and JavaScript/TypeScript client\n",
            "SDKs. Check out the Colab demo\n",
            "(https://colab.research.google.com/drive/1QEzFyqnoFxq7LUGyP1vzR4iLt9PpCDXv?usp=sharing)\n",
            "(yes, it can run in a Jupyter notebook). Chroma is licensed under Apache 2.0\n",
            "(https://github.com/chroma-core/chroma/blob/main/LICENSE) Python In Python,\n",
            "Chroma can run in a python script or as a server. Install Chroma with Shell\n",
            "pip install chromadb JavaScript In JavaScript, use the Chroma JS/TS Client to\n",
            "connect to a Chroma server. Install Chroma with your favorite package manager:\n",
            "Terminal yarn npm pnpm yarn add chromadb chromadb-default-embed Continue with\n",
            "the full getting started guide (./getting-started) . Language Clients #\n",
            "(#language-clients) Language Client Python chromadb (by Chroma) Javascript\n",
            "chromadb (by Chroma) Ruby from @mariochavez\n",
            "(https://github.com/mariochavez/chroma) Java from @t_azarov\n",
            "(https://github.com/amikos-tech/chromadb-java-client) Go from @t_azarov\n",
            "(https://github.com/amikos-tech/chroma-go) C# from @microsoft\n",
            "(https://github.com/microsoft/semantic-\n",
            "kernel/tree/main/dotnet/src/Connectors/Connectors.Memory.Chroma) Rust from\n",
            "@Anush008 (https://crates.io/crates/chromadb) Elixir from @3zcurdia\n",
            "(https://hex.pm/packages/chroma/) Dart from @davidmigloz\n",
            "(https://pub.dev/packages/chromadb) PHP from @CodeWithKyrian\n",
            "(https://github.com/CodeWithKyrian/chromadb-php) PHP (Laravel) from\n",
            "@HelgeSverre (https://github.com/helgeSverre/chromadb) Clojure from @levand\n",
            "(https://github.com/levand/clojure-chroma-client) R from @cynkra\n",
            "(https://cynkra.github.io/rchroma/) We welcome contributions\n",
            "(/markdoc/content/docs/overview/contributing.md) for other languages! Getting\n",
            "Started Edit this page on GitHub (https://github.com/chroma-\n",
            "core/chroma/tree/main/docs/docs.trychroma.com/markdoc/content/docs/overview/introduction.md)\n",
            "\n",
            "\n"
          ]
        }
      ]
    },
    {
      "cell_type": "code",
      "source": [
        "print(docs_transformed2[0].page_content)"
      ],
      "metadata": {
        "colab": {
          "base_uri": "https://localhost:8080/"
        },
        "id": "MtD3ObPG3VWr",
        "outputId": "cab43ad2-c8ef-4503-c964-05e4e8b99964"
      },
      "execution_count": 177,
      "outputs": [
        {
          "output_type": "stream",
          "name": "stdout",
          "text": [
            "Search```K`\n",
            "\n",
            "1000 online18k\n",
            "\n",
            "17.7k\n",
            "\n",
            "Toggle theme\n",
            "\n",
            "NEW\n",
            "\n",
            "Chroma Cloud\n",
            "\n",
            "Our fully managed hosted service, Chroma Cloud is here.\n",
            "\n",
            "Sign up for early access!\n",
            "\n",
            "Docs\n",
            "\n",
            "Chroma Cloud\n",
            "\n",
            "New\n",
            "\n",
            "Production\n",
            "\n",
            "Integrations\n",
            "\n",
            "CLI\n",
            "\n",
            "Reference\n",
            "\n",
            "Guides & Examples\n",
            "\n",
            "Coming Soon\n",
            "\n",
            "Overview\n",
            "\n",
            "Introduction\n",
            "\n",
            "Getting Started\n",
            "\n",
            "Roadmap\n",
            "\n",
            "Contributing\n",
            "\n",
            "Telemetry\n",
            "\n",
            "About\n",
            "\n",
            "Run Chroma\n",
            "\n",
            "Ephemeral Client\n",
            "\n",
            "Persistent Client\n",
            "\n",
            "Client-Server Mode\n",
            "\n",
            "Python HTTP-Only Client\n",
            "\n",
            "Collections\n",
            "\n",
            "Create, Get, Delete\n",
            "\n",
            "Configure\n",
            "\n",
            "Add Data\n",
            "\n",
            "Update Data\n",
            "\n",
            "Delete Data\n",
            "\n",
            "Querying Collections\n",
            "\n",
            "Query And Get\n",
            "\n",
            "Metadata Filtering\n",
            "\n",
            "Full Text Search\n",
            "\n",
            "Embeddings\n",
            "\n",
            "Embedding Functions\n",
            "\n",
            "Multimodal\n",
            "\n",
            "w-5 h-5\n",
            "\n",
            "# Chroma\n",
            "\n",
            "**Chroma is the open-source AI application database**. Chroma makes it easy to\n",
            "build LLM apps by making knowledge, facts, and skills pluggable for LLMs.\n",
            "\n",
            "New to Chroma? Check out the getting started guide\n",
            "\n",
            "Chroma gives you everything you need for retrieval:\n",
            "\n",
            "  * Store embeddings and their metadata\n",
            "  * Vector search\n",
            "  * Full-text search\n",
            "  * Document storage\n",
            "  * Metadata filtering\n",
            "  * Multi-modal retrieval\n",
            "\n",
            "Chroma runs as a server and provides Python and JavaScript/TypeScript client\n",
            "SDKs. Check out the Colab demo (yes, it can run in a Jupyter notebook).\n",
            "\n",
            "Chroma is licensed under Apache 2.0\n",
            "\n",
            "### Python\n",
            "\n",
            "In Python, Chroma can run in a python script or as a server. Install Chroma\n",
            "with\n",
            "\n",
            "Shell\n",
            "\n",
            "    \n",
            "    \n",
            "    pip install chromadb\n",
            "    \n",
            "\n",
            "### JavaScript\n",
            "\n",
            "In JavaScript, use the Chroma JS/TS Client to connect to a Chroma server.\n",
            "Install Chroma with your favorite package manager:\n",
            "\n",
            "Terminal\n",
            "\n",
            "yarnnpmpnpm\n",
            "\n",
            "    \n",
            "    \n",
            "    yarn add chromadb chromadb-default-embed \n",
            "    \n",
            "\n",
            "Continue with the full getting started guide.\n",
            "\n",
            "* * *\n",
            "\n",
            "## Language Clients#\n",
            "\n",
            "Language| Client  \n",
            "---|---  \n",
            "Python| chromadb (by Chroma)  \n",
            "Javascript| chromadb (by Chroma)  \n",
            "Ruby| from @mariochavez  \n",
            "Java| from @t_azarov  \n",
            "Go| from @t_azarov  \n",
            "C#| from @microsoft  \n",
            "Rust| from @Anush008  \n",
            "Elixir| from @3zcurdia  \n",
            "Dart| from @davidmigloz  \n",
            "PHP| from @CodeWithKyrian  \n",
            "PHP (Laravel)| from @HelgeSverre  \n",
            "Clojure| from @levand  \n",
            "R| from @cynkra  \n",
            "  \n",
            "We welcome contributions for other languages!\n",
            "\n",
            "Getting Started\n",
            "\n",
            "Edit this page on GitHub\n",
            "\n",
            "\n"
          ]
        }
      ]
    },
    {
      "cell_type": "code",
      "source": [
        "text = docs_transformed1[0].page_content\n",
        "# Wrap text to a specified width\n",
        "wrapped_text = textwrap.fill(text, width=100)\n",
        "print(wrapped_text)"
      ],
      "metadata": {
        "colab": {
          "base_uri": "https://localhost:8080/"
        },
        "id": "BGD4i-Cgjfza",
        "outputId": "d602403f-08fe-4c93-86c2-c0d4f0e9540d"
      },
      "execution_count": 176,
      "outputs": [
        {
          "output_type": "stream",
          "name": "stdout",
          "text": [
            "Search K 1000 online 18k 17.7k Toggle theme NEW Chroma Cloud Our fully managed hosted service,\n",
            "Chroma Cloud is here. Sign up (https://www.trychroma.com/signup) for early access! Docs Chroma Cloud\n",
            "New Production Integrations CLI Reference Guides & Examples Coming Soon Overview Introduction\n",
            "Getting Started Roadmap Contributing Telemetry About Run Chroma Ephemeral Client Persistent Client\n",
            "Client-Server Mode Python HTTP-Only Client Collections Create, Get, Delete Configure Add Data Update\n",
            "Data Delete Data Querying Collections Query And Get Metadata Filtering Full Text Search Embeddings\n",
            "Embedding Functions Multimodal w-5 h-5 Chroma Chroma is the open-source AI application database .\n",
            "Chroma makes it easy to build LLM apps by making knowledge, facts, and skills pluggable for LLMs.\n",
            "New to Chroma? Check out the getting started guide (./getting-started) Chroma gives you everything\n",
            "you need for retrieval: Store embeddings and their metadata Vector search Full-text search Document\n",
            "storage Metadata filtering Multi-modal retrieval Chroma runs as a server and provides Python and\n",
            "JavaScript/TypeScript client SDKs. Check out the Colab demo\n",
            "(https://colab.research.google.com/drive/1QEzFyqnoFxq7LUGyP1vzR4iLt9PpCDXv?usp=sharing) (yes, it can\n",
            "run in a Jupyter notebook). Chroma is licensed under Apache 2.0 (https://github.com/chroma-\n",
            "core/chroma/blob/main/LICENSE) Python In Python, Chroma can run in a python script or as a server.\n",
            "Install Chroma with Shell pip install chromadb JavaScript In JavaScript, use the Chroma JS/TS Client\n",
            "to connect to a Chroma server. Install Chroma with your favorite package manager: Terminal yarn npm\n",
            "pnpm yarn add chromadb chromadb-default-embed Continue with the full getting started guide\n",
            "(./getting-started) . Language Clients # (#language-clients) Language Client Python chromadb (by\n",
            "Chroma) Javascript chromadb (by Chroma) Ruby from @mariochavez\n",
            "(https://github.com/mariochavez/chroma) Java from @t_azarov (https://github.com/amikos-\n",
            "tech/chromadb-java-client) Go from @t_azarov (https://github.com/amikos-tech/chroma-go) C# from\n",
            "@microsoft (https://github.com/microsoft/semantic-\n",
            "kernel/tree/main/dotnet/src/Connectors/Connectors.Memory.Chroma) Rust from @Anush008\n",
            "(https://crates.io/crates/chromadb) Elixir from @3zcurdia (https://hex.pm/packages/chroma/) Dart\n",
            "from @davidmigloz (https://pub.dev/packages/chromadb) PHP from @CodeWithKyrian\n",
            "(https://github.com/CodeWithKyrian/chromadb-php) PHP (Laravel) from @HelgeSverre\n",
            "(https://github.com/helgeSverre/chromadb) Clojure from @levand (https://github.com/levand/clojure-\n",
            "chroma-client) R from @cynkra (https://cynkra.github.io/rchroma/) We welcome contributions\n",
            "(/markdoc/content/docs/overview/contributing.md) for other languages! Getting Started Edit this page\n",
            "on GitHub (https://github.com/chroma-\n",
            "core/chroma/tree/main/docs/docs.trychroma.com/markdoc/content/docs/overview/introduction.md)\n"
          ]
        }
      ]
    }
  ]
}