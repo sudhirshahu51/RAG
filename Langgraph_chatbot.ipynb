{
  "nbformat": 4,
  "nbformat_minor": 0,
  "metadata": {
    "colab": {
      "provenance": [],
      "authorship_tag": "ABX9TyM0Tc77XSGaLSAcp960Goni",
      "include_colab_link": true
    },
    "kernelspec": {
      "name": "python3",
      "display_name": "Python 3"
    },
    "language_info": {
      "name": "python"
    }
  },
  "cells": [
    {
      "cell_type": "markdown",
      "metadata": {
        "id": "view-in-github",
        "colab_type": "text"
      },
      "source": [
        "<a href=\"https://colab.research.google.com/github/sudhirshahu51/RAG/blob/main/Langgraph_chatbot.ipynb\" target=\"_parent\"><img src=\"https://colab.research.google.com/assets/colab-badge.svg\" alt=\"Open In Colab\"/></a>"
      ]
    },
    {
      "cell_type": "markdown",
      "source": [
        "LangGraph enables us to create stateful, multi-actor applications utilizing LLMs as easily as possible. It extends the capabilities of LangChain, introducing the ability to create and manage cyclical graphs, which are pivotal for developing sophisticated agent runtimes. The core concepts of LangGraph include: graph structure, state management, and coordination."
      ],
      "metadata": {
        "id": "jeQU1ddFlBGa"
      }
    },
    {
      "cell_type": "markdown",
      "source": [
        "[Tutorial Video ](https://www.youtube.com/watch?v=gqvFmK7LpDo)"
      ],
      "metadata": {
        "id": "suQniQf_pYQo"
      }
    },
    {
      "cell_type": "markdown",
      "source": [
        "Chatbot with Langraph"
      ],
      "metadata": {
        "id": "TZvl71BulEBA"
      }
    },
    {
      "cell_type": "code",
      "source": [
        "!pip install langgraph langsmith --quiet"
      ],
      "metadata": {
        "id": "AXRwvLezlTVP"
      },
      "execution_count": null,
      "outputs": []
    },
    {
      "cell_type": "code",
      "source": [
        "!pip install langchain langchain_groq langchain_community --quiet"
      ],
      "metadata": {
        "id": "pB9MVASwnP8F"
      },
      "execution_count": null,
      "outputs": []
    },
    {
      "cell_type": "code",
      "source": [
        "from google.colab import userdata\n",
        "groq_key = userdata.get('GROQ_API')\n",
        "langsmith_key = userdata.get('LANGSMITH_API')"
      ],
      "metadata": {
        "id": "oQv8JeGgnpAE"
      },
      "execution_count": null,
      "outputs": []
    },
    {
      "cell_type": "code",
      "source": [
        "import os\n",
        "os.environ['LANGCHAIN_API_KEY'] = langsmith_key\n",
        "os.environ['LANGCHAIN_TRACING_V2'] = 'true'\n",
        "os.environ['LANGCHAIN_PROJECT'] = 'Langgraph_chatbot'"
      ],
      "metadata": {
        "id": "dIBiu_okpQ-n"
      },
      "execution_count": null,
      "outputs": []
    },
    {
      "cell_type": "code",
      "source": [
        "from langchain_groq import ChatGroq"
      ],
      "metadata": {
        "id": "AZUVZgq5Cq7q"
      },
      "execution_count": null,
      "outputs": []
    },
    {
      "cell_type": "code",
      "source": [
        "llm = ChatGroq(groq_api_key = groq_key, model_name = 'gemma2-9b-it')\n",
        "llm"
      ],
      "metadata": {
        "colab": {
          "base_uri": "https://localhost:8080/"
        },
        "id": "hC31HW_yC6eW",
        "outputId": "1a00ff8a-ba1a-48dd-824b-2fa88358482c"
      },
      "execution_count": null,
      "outputs": [
        {
          "output_type": "execute_result",
          "data": {
            "text/plain": [
              "ChatGroq(client=<groq.resources.chat.completions.Completions object at 0x7d6bba8c06a0>, async_client=<groq.resources.chat.completions.AsyncCompletions object at 0x7d6bba8c30d0>, model_name='gemma2-9b-it', model_kwargs={}, groq_api_key=SecretStr('**********'))"
            ]
          },
          "metadata": {},
          "execution_count": 17
        }
      ]
    },
    {
      "cell_type": "markdown",
      "source": [
        "#Start Building Chatbot Using Langraph"
      ],
      "metadata": {
        "id": "yxTNd4jsFLo_"
      }
    },
    {
      "cell_type": "code",
      "source": [
        "from typing import Annotated\n",
        "from typing_extensions import TypedDict\n",
        "from langgraph.graph import StateGraph, START, END\n",
        "from langgraph.graph.message import add_messages"
      ],
      "metadata": {
        "id": "h_n1rDnXFHLw"
      },
      "execution_count": null,
      "outputs": []
    },
    {
      "cell_type": "code",
      "source": [
        "class State(TypedDict):\n",
        "  #Messages have the type 'list'. The 'add_messages' function\n",
        "  # in the annotation defines how this state key should be updated\n",
        "  # in this case, it appends messages to the list, rather than overwriting them.\n",
        "  messages: Annotated[list[str], add_messages]\n",
        "\n",
        "\n",
        "graph_builder = StateGraph(State)"
      ],
      "metadata": {
        "id": "PK6VNCS3FxKo"
      },
      "execution_count": null,
      "outputs": []
    },
    {
      "cell_type": "code",
      "source": [
        "graph_builder"
      ],
      "metadata": {
        "colab": {
          "base_uri": "https://localhost:8080/"
        },
        "id": "ghjgTs1ZG6l3",
        "outputId": "097ec640-f6d4-4141-8c92-fca9e5506f6e"
      },
      "execution_count": null,
      "outputs": [
        {
          "output_type": "execute_result",
          "data": {
            "text/plain": [
              "<langgraph.graph.state.StateGraph at 0x7d6bba8a0d90>"
            ]
          },
          "metadata": {},
          "execution_count": 45
        }
      ]
    },
    {
      "cell_type": "code",
      "source": [
        "def chatbot(state: State):\n",
        "  return {'messages': llm.invoke(state['messages'])}"
      ],
      "metadata": {
        "id": "CqJQHoVsHQ7p"
      },
      "execution_count": null,
      "outputs": []
    },
    {
      "cell_type": "code",
      "source": [
        "graph_builder.add_node('chatbot', chatbot)"
      ],
      "metadata": {
        "colab": {
          "base_uri": "https://localhost:8080/"
        },
        "id": "qu283_SfHpfJ",
        "outputId": "62c6ef59-60b0-4923-b5fd-349783984d91"
      },
      "execution_count": null,
      "outputs": [
        {
          "output_type": "execute_result",
          "data": {
            "text/plain": [
              "<langgraph.graph.state.StateGraph at 0x7d6bba8a0d90>"
            ]
          },
          "metadata": {},
          "execution_count": 47
        }
      ]
    },
    {
      "cell_type": "code",
      "source": [
        "graph_builder.add_edge(START, 'chatbot')\n",
        "graph_builder.add_edge('chatbot', END)"
      ],
      "metadata": {
        "colab": {
          "base_uri": "https://localhost:8080/"
        },
        "id": "HLyJw_mjH0lj",
        "outputId": "b91cb275-6af5-44ce-ecaf-483a393a871e"
      },
      "execution_count": null,
      "outputs": [
        {
          "output_type": "execute_result",
          "data": {
            "text/plain": [
              "<langgraph.graph.state.StateGraph at 0x7d6bba8a0d90>"
            ]
          },
          "metadata": {},
          "execution_count": 48
        }
      ]
    },
    {
      "cell_type": "code",
      "source": [
        "graph = graph_builder.compile()"
      ],
      "metadata": {
        "id": "R66-CXdBJIN_"
      },
      "execution_count": null,
      "outputs": []
    },
    {
      "cell_type": "code",
      "source": [
        "from IPython.display import Image, display\n",
        "try:\n",
        "  display(Image(graph.get_graph().draw_mermaid_png()))\n",
        "except Exception:\n",
        "  pass"
      ],
      "metadata": {
        "colab": {
          "base_uri": "https://localhost:8080/",
          "height": 251
        },
        "id": "0K7EznIvJMtz",
        "outputId": "3787312e-353d-4664-e5d0-826bda1de8d7"
      },
      "execution_count": null,
      "outputs": [
        {
          "output_type": "display_data",
          "data": {
            "image/png": "[encoded data removed]",
            "text/plain": [
              "<IPython.core.display.Image object>"
            ]
          },
          "metadata": {}
        }
      ]
    },
    {
      "cell_type": "code",
      "source": [
        "while True:\n",
        "  user_input = input('User: ')\n",
        "  if user_input.lower()  in ['quit', 'q']:\n",
        "    print('Good Bye')\n",
        "    break\n",
        "  for event in graph.stream({'messages':('user', user_input)}):\n",
        "    print(event.values())\n",
        "    for value in event.values():\n",
        "      print(value['messages'])\n",
        "      print('Assistant', value['messages'].content)"
      ],
      "metadata": {
        "colab": {
          "base_uri": "https://localhost:8080/"
        },
        "id": "u1_4qA1cJloR",
        "outputId": "4c471f71-a24f-4dd5-b34b-015a161928cc"
      },
      "execution_count": null,
      "outputs": [
        {
          "output_type": "stream",
          "name": "stdout",
          "text": [
            "User: Hey baby !!!\n",
            "dict_values([{'messages': AIMessage(content='As an AI assistant, I\\'m designed to provide helpful and harmless responses. I understand you might be trying to be friendly, but using terms like \"baby\" can be inappropriate in a professional context.\\n\\nHow can I assist you today? Perhaps you have a question or a task I can help with?\\n', additional_kwargs={}, response_metadata={'token_usage': {'completion_tokens': 65, 'prompt_tokens': 12, 'total_tokens': 77, 'completion_time': 0.118181818, 'prompt_time': 7.479e-05, 'queue_time': 0.020883436999999998, 'total_time': 0.118256608}, 'model_name': 'gemma2-9b-it', 'system_fingerprint': 'fp_10c08bf97d', 'finish_reason': 'stop', 'logprobs': None}, id='run-12e00535-5978-4ece-bc85-30b8a58ffee4-0', usage_metadata={'input_tokens': 12, 'output_tokens': 65, 'total_tokens': 77})}])\n",
            "content='As an AI assistant, I\\'m designed to provide helpful and harmless responses. I understand you might be trying to be friendly, but using terms like \"baby\" can be inappropriate in a professional context.\\n\\nHow can I assist you today? Perhaps you have a question or a task I can help with?\\n' additional_kwargs={} response_metadata={'token_usage': {'completion_tokens': 65, 'prompt_tokens': 12, 'total_tokens': 77, 'completion_time': 0.118181818, 'prompt_time': 7.479e-05, 'queue_time': 0.020883436999999998, 'total_time': 0.118256608}, 'model_name': 'gemma2-9b-it', 'system_fingerprint': 'fp_10c08bf97d', 'finish_reason': 'stop', 'logprobs': None} id='run-12e00535-5978-4ece-bc85-30b8a58ffee4-0' usage_metadata={'input_tokens': 12, 'output_tokens': 65, 'total_tokens': 77}\n",
            "Assistant As an AI assistant, I'm designed to provide helpful and harmless responses. I understand you might be trying to be friendly, but using terms like \"baby\" can be inappropriate in a professional context.\n",
            "\n",
            "How can I assist you today? Perhaps you have a question or a task I can help with?\n",
            "\n",
            "User: What is generative AI\n",
            "dict_values([{'messages': AIMessage(content=\"Generative AI is a type of artificial intelligence that focuses on creating new content. \\n\\nThink of it like this: instead of simply analyzing existing data, generative AI learns the patterns and structures within that data and then uses that knowledge to generate something entirely new.\\n\\nHere are some key things to know about generative AI:\\n\\n**What it creates:**\\n\\n* **Text:** Stories, poems, articles, code, dialogue, summaries, translations.\\n* **Images:** Photos, artwork, illustrations, 3D models.\\n* **Audio:** Music, sound effects, voiceovers.\\n* **Video:** Short clips, animations.\\n\\n**How it works:**\\n\\nGenerative AI models are typically trained on massive datasets of existing content. They learn the underlying rules and structures of that data, and then use that knowledge to generate new content that follows a similar style and structure.\\n\\n**Popular examples:**\\n\\n* **ChatGPT:** A language model that can generate human-like text in response to prompts.\\n* **DALL-E 2:** An image generation model that can create realistic images from text descriptions.\\n* **Midjourney:** Another image generation model known for its artistic style.\\n* **Jukebox:** A music generation model that can create original songs in different genres.\\n\\n**Applications:**\\n\\nGenerative AI has a wide range of potential applications, including:\\n\\n* **Creative industries:** Writing, art, music, design.\\n* **Marketing and advertising:** Creating personalized content, generating ad copy.\\n* **Education:** Generating learning materials, providing interactive exercises.\\n* **Research:**\\n\\nGenerating synthetic data for training other AI models.\\n\\n**Ethical considerations:**\\n\\nAs with any powerful technology, there are ethical considerations surrounding generative AI, such as:\\n\\n* **Bias and fairness:** AI models can inherit and amplify biases present in the data they are trained on.\\n* **Misinformation and deepfakes:**\\n\\nGenerative AI can be used to create convincing fake content, which can be used for malicious purposes.\\n* **Copyright and intellectual property:**\\n\\nThe ownership of content generated by AI is still a debated issue.\\n\\n\\nOverall, generative AI is a rapidly evolving field with the potential to revolutionize many aspects of our lives. It's important to be aware of both the opportunities and the risks associated with this technology.\\n\", additional_kwargs={}, response_metadata={'token_usage': {'completion_tokens': 479, 'prompt_tokens': 13, 'total_tokens': 492, 'completion_time': 0.870909091, 'prompt_time': 9.061e-05, 'queue_time': 0.021418277, 'total_time': 0.870999701}, 'model_name': 'gemma2-9b-it', 'system_fingerprint': 'fp_10c08bf97d', 'finish_reason': 'stop', 'logprobs': None}, id='run-a3ebe1c5-9a71-4acf-bc26-65960fd751b3-0', usage_metadata={'input_tokens': 13, 'output_tokens': 479, 'total_tokens': 492})}])\n",
            "content=\"Generative AI is a type of artificial intelligence that focuses on creating new content. \\n\\nThink of it like this: instead of simply analyzing existing data, generative AI learns the patterns and structures within that data and then uses that knowledge to generate something entirely new.\\n\\nHere are some key things to know about generative AI:\\n\\n**What it creates:**\\n\\n* **Text:** Stories, poems, articles, code, dialogue, summaries, translations.\\n* **Images:** Photos, artwork, illustrations, 3D models.\\n* **Audio:** Music, sound effects, voiceovers.\\n* **Video:** Short clips, animations.\\n\\n**How it works:**\\n\\nGenerative AI models are typically trained on massive datasets of existing content. They learn the underlying rules and structures of that data, and then use that knowledge to generate new content that follows a similar style and structure.\\n\\n**Popular examples:**\\n\\n* **ChatGPT:** A language model that can generate human-like text in response to prompts.\\n* **DALL-E 2:** An image generation model that can create realistic images from text descriptions.\\n* **Midjourney:** Another image generation model known for its artistic style.\\n* **Jukebox:** A music generation model that can create original songs in different genres.\\n\\n**Applications:**\\n\\nGenerative AI has a wide range of potential applications, including:\\n\\n* **Creative industries:** Writing, art, music, design.\\n* **Marketing and advertising:** Creating personalized content, generating ad copy.\\n* **Education:** Generating learning materials, providing interactive exercises.\\n* **Research:**\\n\\nGenerating synthetic data for training other AI models.\\n\\n**Ethical considerations:**\\n\\nAs with any powerful technology, there are ethical considerations surrounding generative AI, such as:\\n\\n* **Bias and fairness:** AI models can inherit and amplify biases present in the data they are trained on.\\n* **Misinformation and deepfakes:**\\n\\nGenerative AI can be used to create convincing fake content, which can be used for malicious purposes.\\n* **Copyright and intellectual property:**\\n\\nThe ownership of content generated by AI is still a debated issue.\\n\\n\\nOverall, generative AI is a rapidly evolving field with the potential to revolutionize many aspects of our lives. It's important to be aware of both the opportunities and the risks associated with this technology.\\n\" additional_kwargs={} response_metadata={'token_usage': {'completion_tokens': 479, 'prompt_tokens': 13, 'total_tokens': 492, 'completion_time': 0.870909091, 'prompt_time': 9.061e-05, 'queue_time': 0.021418277, 'total_time': 0.870999701}, 'model_name': 'gemma2-9b-it', 'system_fingerprint': 'fp_10c08bf97d', 'finish_reason': 'stop', 'logprobs': None} id='run-a3ebe1c5-9a71-4acf-bc26-65960fd751b3-0' usage_metadata={'input_tokens': 13, 'output_tokens': 479, 'total_tokens': 492}\n",
            "Assistant Generative AI is a type of artificial intelligence that focuses on creating new content. \n",
            "\n",
            "Think of it like this: instead of simply analyzing existing data, generative AI learns the patterns and structures within that data and then uses that knowledge to generate something entirely new.\n",
            "\n",
            "Here are some key things to know about generative AI:\n",
            "\n",
            "**What it creates:**\n",
            "\n",
            "* **Text:** Stories, poems, articles, code, dialogue, summaries, translations.\n",
            "* **Images:** Photos, artwork, illustrations, 3D models.\n",
            "* **Audio:** Music, sound effects, voiceovers.\n",
            "* **Video:** Short clips, animations.\n",
            "\n",
            "**How it works:**\n",
            "\n",
            "Generative AI models are typically trained on massive datasets of existing content. They learn the underlying rules and structures of that data, and then use that knowledge to generate new content that follows a similar style and structure.\n",
            "\n",
            "**Popular examples:**\n",
            "\n",
            "* **ChatGPT:** A language model that can generate human-like text in response to prompts.\n",
            "* **DALL-E 2:** An image generation model that can create realistic images from text descriptions.\n",
            "* **Midjourney:** Another image generation model known for its artistic style.\n",
            "* **Jukebox:** A music generation model that can create original songs in different genres.\n",
            "\n",
            "**Applications:**\n",
            "\n",
            "Generative AI has a wide range of potential applications, including:\n",
            "\n",
            "* **Creative industries:** Writing, art, music, design.\n",
            "* **Marketing and advertising:** Creating personalized content, generating ad copy.\n",
            "* **Education:** Generating learning materials, providing interactive exercises.\n",
            "* **Research:**\n",
            "\n",
            "Generating synthetic data for training other AI models.\n",
            "\n",
            "**Ethical considerations:**\n",
            "\n",
            "As with any powerful technology, there are ethical considerations surrounding generative AI, such as:\n",
            "\n",
            "* **Bias and fairness:** AI models can inherit and amplify biases present in the data they are trained on.\n",
            "* **Misinformation and deepfakes:**\n",
            "\n",
            "Generative AI can be used to create convincing fake content, which can be used for malicious purposes.\n",
            "* **Copyright and intellectual property:**\n",
            "\n",
            "The ownership of content generated by AI is still a debated issue.\n",
            "\n",
            "\n",
            "Overall, generative AI is a rapidly evolving field with the potential to revolutionize many aspects of our lives. It's important to be aware of both the opportunities and the risks associated with this technology.\n",
            "\n",
            "User: quit\n",
            "Good Bye\n"
          ]
        }
      ]
    },
    {
      "cell_type": "code",
      "source": [],
      "metadata": {
        "id": "sMPjKMZtLATt"
      },
      "execution_count": null,
      "outputs": []
    }
  ]
}