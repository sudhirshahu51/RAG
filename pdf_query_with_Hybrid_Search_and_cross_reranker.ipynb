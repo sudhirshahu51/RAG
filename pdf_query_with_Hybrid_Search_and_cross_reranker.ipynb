{
  "nbformat": 4,
  "nbformat_minor": 0,
  "metadata": {
    "colab": {
      "provenance": [],
      "gpuType": "T4",
      "mount_file_id": "1c40n0F389fnphh92NQkMz_q6_iqD9jmb",
      "authorship_tag": "ABX9TyNBbC8TRnlPouW8pSgdj8PQ",
      "include_colab_link": true
    },
    "kernelspec": {
      "name": "python3",
      "display_name": "Python 3"
    },
    "language_info": {
      "name": "python"
    },
    "widgets": {
      "application/vnd.jupyter.widget-state+json": {
        "9030f1792ded4cb3b13072dc6c53cc98": {
          "model_module": "@jupyter-widgets/controls",
          "model_name": "HBoxModel",
          "model_module_version": "1.5.0",
          "state": {
            "_dom_classes": [],
            "_model_module": "@jupyter-widgets/controls",
            "_model_module_version": "1.5.0",
            "_model_name": "HBoxModel",
            "_view_count": null,
            "_view_module": "@jupyter-widgets/controls",
            "_view_module_version": "1.5.0",
            "_view_name": "HBoxView",
            "box_style": "",
            "children": [
              "IPY_MODEL_cb1effcf7ede4222ab1f891c3d6f841f",
              "IPY_MODEL_058d2fc1911143e79e5102fbc939f6b6",
              "IPY_MODEL_c801ee5f0a104359861c55bf85ae1e59"
            ],
            "layout": "IPY_MODEL_512c12cc61ea41698d1ef9a52c892a3c"
          }
        },
        "cb1effcf7ede4222ab1f891c3d6f841f": {
          "model_module": "@jupyter-widgets/controls",
          "model_name": "HTMLModel",
          "model_module_version": "1.5.0",
          "state": {
            "_dom_classes": [],
            "_model_module": "@jupyter-widgets/controls",
            "_model_module_version": "1.5.0",
            "_model_name": "HTMLModel",
            "_view_count": null,
            "_view_module": "@jupyter-widgets/controls",
            "_view_module_version": "1.5.0",
            "_view_name": "HTMLView",
            "description": "",
            "description_tooltip": null,
            "layout": "IPY_MODEL_95f23da2cf244e54a9b44e64fe316a9b",
            "placeholder": "​",
            "style": "IPY_MODEL_8e61da76766340f1b1b91b932b14a56b",
            "value": "config.json: 100%"
          }
        },
        "058d2fc1911143e79e5102fbc939f6b6": {
          "model_module": "@jupyter-widgets/controls",
          "model_name": "FloatProgressModel",
          "model_module_version": "1.5.0",
          "state": {
            "_dom_classes": [],
            "_model_module": "@jupyter-widgets/controls",
            "_model_module_version": "1.5.0",
            "_model_name": "FloatProgressModel",
            "_view_count": null,
            "_view_module": "@jupyter-widgets/controls",
            "_view_module_version": "1.5.0",
            "_view_name": "ProgressView",
            "bar_style": "success",
            "description": "",
            "description_tooltip": null,
            "layout": "IPY_MODEL_800bf1affd87406a8adfc8f5c9a9756c",
            "max": 794,
            "min": 0,
            "orientation": "horizontal",
            "style": "IPY_MODEL_c2efab9df1354d6b96029a7f21d6f106",
            "value": 794
          }
        },
        "c801ee5f0a104359861c55bf85ae1e59": {
          "model_module": "@jupyter-widgets/controls",
          "model_name": "HTMLModel",
          "model_module_version": "1.5.0",
          "state": {
            "_dom_classes": [],
            "_model_module": "@jupyter-widgets/controls",
            "_model_module_version": "1.5.0",
            "_model_name": "HTMLModel",
            "_view_count": null,
            "_view_module": "@jupyter-widgets/controls",
            "_view_module_version": "1.5.0",
            "_view_name": "HTMLView",
            "description": "",
            "description_tooltip": null,
            "layout": "IPY_MODEL_1fc0a49aa8b54ebc8b04cee4df62766f",
            "placeholder": "​",
            "style": "IPY_MODEL_9a8a7a532663484cb27f96a0a6594d41",
            "value": " 794/794 [00:00&lt;00:00, 21.0kB/s]"
          }
        },
        "512c12cc61ea41698d1ef9a52c892a3c": {
          "model_module": "@jupyter-widgets/base",
          "model_name": "LayoutModel",
          "model_module_version": "1.2.0",
          "state": {
            "_model_module": "@jupyter-widgets/base",
            "_model_module_version": "1.2.0",
            "_model_name": "LayoutModel",
            "_view_count": null,
            "_view_module": "@jupyter-widgets/base",
            "_view_module_version": "1.2.0",
            "_view_name": "LayoutView",
            "align_content": null,
            "align_items": null,
            "align_self": null,
            "border": null,
            "bottom": null,
            "display": null,
            "flex": null,
            "flex_flow": null,
            "grid_area": null,
            "grid_auto_columns": null,
            "grid_auto_flow": null,
            "grid_auto_rows": null,
            "grid_column": null,
            "grid_gap": null,
            "grid_row": null,
            "grid_template_areas": null,
            "grid_template_columns": null,
            "grid_template_rows": null,
            "height": null,
            "justify_content": null,
            "justify_items": null,
            "left": null,
            "margin": null,
            "max_height": null,
            "max_width": null,
            "min_height": null,
            "min_width": null,
            "object_fit": null,
            "object_position": null,
            "order": null,
            "overflow": null,
            "overflow_x": null,
            "overflow_y": null,
            "padding": null,
            "right": null,
            "top": null,
            "visibility": null,
            "width": null
          }
        },
        "95f23da2cf244e54a9b44e64fe316a9b": {
          "model_module": "@jupyter-widgets/base",
          "model_name": "LayoutModel",
          "model_module_version": "1.2.0",
          "state": {
            "_model_module": "@jupyter-widgets/base",
            "_model_module_version": "1.2.0",
            "_model_name": "LayoutModel",
            "_view_count": null,
            "_view_module": "@jupyter-widgets/base",
            "_view_module_version": "1.2.0",
            "_view_name": "LayoutView",
            "align_content": null,
            "align_items": null,
            "align_self": null,
            "border": null,
            "bottom": null,
            "display": null,
            "flex": null,
            "flex_flow": null,
            "grid_area": null,
            "grid_auto_columns": null,
            "grid_auto_flow": null,
            "grid_auto_rows": null,
            "grid_column": null,
            "grid_gap": null,
            "grid_row": null,
            "grid_template_areas": null,
            "grid_template_columns": null,
            "grid_template_rows": null,
            "height": null,
            "justify_content": null,
            "justify_items": null,
            "left": null,
            "margin": null,
            "max_height": null,
            "max_width": null,
            "min_height": null,
            "min_width": null,
            "object_fit": null,
            "object_position": null,
            "order": null,
            "overflow": null,
            "overflow_x": null,
            "overflow_y": null,
            "padding": null,
            "right": null,
            "top": null,
            "visibility": null,
            "width": null
          }
        },
        "8e61da76766340f1b1b91b932b14a56b": {
          "model_module": "@jupyter-widgets/controls",
          "model_name": "DescriptionStyleModel",
          "model_module_version": "1.5.0",
          "state": {
            "_model_module": "@jupyter-widgets/controls",
            "_model_module_version": "1.5.0",
            "_model_name": "DescriptionStyleModel",
            "_view_count": null,
            "_view_module": "@jupyter-widgets/base",
            "_view_module_version": "1.2.0",
            "_view_name": "StyleView",
            "description_width": ""
          }
        },
        "800bf1affd87406a8adfc8f5c9a9756c": {
          "model_module": "@jupyter-widgets/base",
          "model_name": "LayoutModel",
          "model_module_version": "1.2.0",
          "state": {
            "_model_module": "@jupyter-widgets/base",
            "_model_module_version": "1.2.0",
            "_model_name": "LayoutModel",
            "_view_count": null,
            "_view_module": "@jupyter-widgets/base",
            "_view_module_version": "1.2.0",
            "_view_name": "LayoutView",
            "align_content": null,
            "align_items": null,
            "align_self": null,
            "border": null,
            "bottom": null,
            "display": null,
            "flex": null,
            "flex_flow": null,
            "grid_area": null,
            "grid_auto_columns": null,
            "grid_auto_flow": null,
            "grid_auto_rows": null,
            "grid_column": null,
            "grid_gap": null,
            "grid_row": null,
            "grid_template_areas": null,
            "grid_template_columns": null,
            "grid_template_rows": null,
            "height": null,
            "justify_content": null,
            "justify_items": null,
            "left": null,
            "margin": null,
            "max_height": null,
            "max_width": null,
            "min_height": null,
            "min_width": null,
            "object_fit": null,
            "object_position": null,
            "order": null,
            "overflow": null,
            "overflow_x": null,
            "overflow_y": null,
            "padding": null,
            "right": null,
            "top": null,
            "visibility": null,
            "width": null
          }
        },
        "c2efab9df1354d6b96029a7f21d6f106": {
          "model_module": "@jupyter-widgets/controls",
          "model_name": "ProgressStyleModel",
          "model_module_version": "1.5.0",
          "state": {
            "_model_module": "@jupyter-widgets/controls",
            "_model_module_version": "1.5.0",
            "_model_name": "ProgressStyleModel",
            "_view_count": null,
            "_view_module": "@jupyter-widgets/base",
            "_view_module_version": "1.2.0",
            "_view_name": "StyleView",
            "bar_color": null,
            "description_width": ""
          }
        },
        "1fc0a49aa8b54ebc8b04cee4df62766f": {
          "model_module": "@jupyter-widgets/base",
          "model_name": "LayoutModel",
          "model_module_version": "1.2.0",
          "state": {
            "_model_module": "@jupyter-widgets/base",
            "_model_module_version": "1.2.0",
            "_model_name": "LayoutModel",
            "_view_count": null,
            "_view_module": "@jupyter-widgets/base",
            "_view_module_version": "1.2.0",
            "_view_name": "LayoutView",
            "align_content": null,
            "align_items": null,
            "align_self": null,
            "border": null,
            "bottom": null,
            "display": null,
            "flex": null,
            "flex_flow": null,
            "grid_area": null,
            "grid_auto_columns": null,
            "grid_auto_flow": null,
            "grid_auto_rows": null,
            "grid_column": null,
            "grid_gap": null,
            "grid_row": null,
            "grid_template_areas": null,
            "grid_template_columns": null,
            "grid_template_rows": null,
            "height": null,
            "justify_content": null,
            "justify_items": null,
            "left": null,
            "margin": null,
            "max_height": null,
            "max_width": null,
            "min_height": null,
            "min_width": null,
            "object_fit": null,
            "object_position": null,
            "order": null,
            "overflow": null,
            "overflow_x": null,
            "overflow_y": null,
            "padding": null,
            "right": null,
            "top": null,
            "visibility": null,
            "width": null
          }
        },
        "9a8a7a532663484cb27f96a0a6594d41": {
          "model_module": "@jupyter-widgets/controls",
          "model_name": "DescriptionStyleModel",
          "model_module_version": "1.5.0",
          "state": {
            "_model_module": "@jupyter-widgets/controls",
            "_model_module_version": "1.5.0",
            "_model_name": "DescriptionStyleModel",
            "_view_count": null,
            "_view_module": "@jupyter-widgets/base",
            "_view_module_version": "1.2.0",
            "_view_name": "StyleView",
            "description_width": ""
          }
        },
        "2335d48f2281439795f72087aacb9eb7": {
          "model_module": "@jupyter-widgets/controls",
          "model_name": "HBoxModel",
          "model_module_version": "1.5.0",
          "state": {
            "_dom_classes": [],
            "_model_module": "@jupyter-widgets/controls",
            "_model_module_version": "1.5.0",
            "_model_name": "HBoxModel",
            "_view_count": null,
            "_view_module": "@jupyter-widgets/controls",
            "_view_module_version": "1.5.0",
            "_view_name": "HBoxView",
            "box_style": "",
            "children": [
              "IPY_MODEL_2fff5d6eab29402bac658c0e40034354",
              "IPY_MODEL_24a60b95a38c4783beb08833ded63924",
              "IPY_MODEL_a65feb53ebe7442185d812f1cf92cbc9"
            ],
            "layout": "IPY_MODEL_fb1753db71804fddbb43ea944cf92ee5"
          }
        },
        "2fff5d6eab29402bac658c0e40034354": {
          "model_module": "@jupyter-widgets/controls",
          "model_name": "HTMLModel",
          "model_module_version": "1.5.0",
          "state": {
            "_dom_classes": [],
            "_model_module": "@jupyter-widgets/controls",
            "_model_module_version": "1.5.0",
            "_model_name": "HTMLModel",
            "_view_count": null,
            "_view_module": "@jupyter-widgets/controls",
            "_view_module_version": "1.5.0",
            "_view_name": "HTMLView",
            "description": "",
            "description_tooltip": null,
            "layout": "IPY_MODEL_92a05db2a2fd4515abcc52d2dda5d76c",
            "placeholder": "​",
            "style": "IPY_MODEL_b60c94cb64f447508de5098df1ff5e28",
            "value": "model.safetensors: 100%"
          }
        },
        "24a60b95a38c4783beb08833ded63924": {
          "model_module": "@jupyter-widgets/controls",
          "model_name": "FloatProgressModel",
          "model_module_version": "1.5.0",
          "state": {
            "_dom_classes": [],
            "_model_module": "@jupyter-widgets/controls",
            "_model_module_version": "1.5.0",
            "_model_name": "FloatProgressModel",
            "_view_count": null,
            "_view_module": "@jupyter-widgets/controls",
            "_view_module_version": "1.5.0",
            "_view_name": "ProgressView",
            "bar_style": "success",
            "description": "",
            "description_tooltip": null,
            "layout": "IPY_MODEL_8addc572c59f454a9311b87de1a912c3",
            "max": 90870598,
            "min": 0,
            "orientation": "horizontal",
            "style": "IPY_MODEL_b5e07a0ddd26408db63400408f8c4821",
            "value": 90870598
          }
        },
        "a65feb53ebe7442185d812f1cf92cbc9": {
          "model_module": "@jupyter-widgets/controls",
          "model_name": "HTMLModel",
          "model_module_version": "1.5.0",
          "state": {
            "_dom_classes": [],
            "_model_module": "@jupyter-widgets/controls",
            "_model_module_version": "1.5.0",
            "_model_name": "HTMLModel",
            "_view_count": null,
            "_view_module": "@jupyter-widgets/controls",
            "_view_module_version": "1.5.0",
            "_view_name": "HTMLView",
            "description": "",
            "description_tooltip": null,
            "layout": "IPY_MODEL_2a1ecf9bb5f94b89951b1e5cc515ac3f",
            "placeholder": "​",
            "style": "IPY_MODEL_479dcaecc7a0453a9093f689f0e5fb62",
            "value": " 90.9M/90.9M [00:01&lt;00:00, 109MB/s]"
          }
        },
        "fb1753db71804fddbb43ea944cf92ee5": {
          "model_module": "@jupyter-widgets/base",
          "model_name": "LayoutModel",
          "model_module_version": "1.2.0",
          "state": {
            "_model_module": "@jupyter-widgets/base",
            "_model_module_version": "1.2.0",
            "_model_name": "LayoutModel",
            "_view_count": null,
            "_view_module": "@jupyter-widgets/base",
            "_view_module_version": "1.2.0",
            "_view_name": "LayoutView",
            "align_content": null,
            "align_items": null,
            "align_self": null,
            "border": null,
            "bottom": null,
            "display": null,
            "flex": null,
            "flex_flow": null,
            "grid_area": null,
            "grid_auto_columns": null,
            "grid_auto_flow": null,
            "grid_auto_rows": null,
            "grid_column": null,
            "grid_gap": null,
            "grid_row": null,
            "grid_template_areas": null,
            "grid_template_columns": null,
            "grid_template_rows": null,
            "height": null,
            "justify_content": null,
            "justify_items": null,
            "left": null,
            "margin": null,
            "max_height": null,
            "max_width": null,
            "min_height": null,
            "min_width": null,
            "object_fit": null,
            "object_position": null,
            "order": null,
            "overflow": null,
            "overflow_x": null,
            "overflow_y": null,
            "padding": null,
            "right": null,
            "top": null,
            "visibility": null,
            "width": null
          }
        },
        "92a05db2a2fd4515abcc52d2dda5d76c": {
          "model_module": "@jupyter-widgets/base",
          "model_name": "LayoutModel",
          "model_module_version": "1.2.0",
          "state": {
            "_model_module": "@jupyter-widgets/base",
            "_model_module_version": "1.2.0",
            "_model_name": "LayoutModel",
            "_view_count": null,
            "_view_module": "@jupyter-widgets/base",
            "_view_module_version": "1.2.0",
            "_view_name": "LayoutView",
            "align_content": null,
            "align_items": null,
            "align_self": null,
            "border": null,
            "bottom": null,
            "display": null,
            "flex": null,
            "flex_flow": null,
            "grid_area": null,
            "grid_auto_columns": null,
            "grid_auto_flow": null,
            "grid_auto_rows": null,
            "grid_column": null,
            "grid_gap": null,
            "grid_row": null,
            "grid_template_areas": null,
            "grid_template_columns": null,
            "grid_template_rows": null,
            "height": null,
            "justify_content": null,
            "justify_items": null,
            "left": null,
            "margin": null,
            "max_height": null,
            "max_width": null,
            "min_height": null,
            "min_width": null,
            "object_fit": null,
            "object_position": null,
            "order": null,
            "overflow": null,
            "overflow_x": null,
            "overflow_y": null,
            "padding": null,
            "right": null,
            "top": null,
            "visibility": null,
            "width": null
          }
        },
        "b60c94cb64f447508de5098df1ff5e28": {
          "model_module": "@jupyter-widgets/controls",
          "model_name": "DescriptionStyleModel",
          "model_module_version": "1.5.0",
          "state": {
            "_model_module": "@jupyter-widgets/controls",
            "_model_module_version": "1.5.0",
            "_model_name": "DescriptionStyleModel",
            "_view_count": null,
            "_view_module": "@jupyter-widgets/base",
            "_view_module_version": "1.2.0",
            "_view_name": "StyleView",
            "description_width": ""
          }
        },
        "8addc572c59f454a9311b87de1a912c3": {
          "model_module": "@jupyter-widgets/base",
          "model_name": "LayoutModel",
          "model_module_version": "1.2.0",
          "state": {
            "_model_module": "@jupyter-widgets/base",
            "_model_module_version": "1.2.0",
            "_model_name": "LayoutModel",
            "_view_count": null,
            "_view_module": "@jupyter-widgets/base",
            "_view_module_version": "1.2.0",
            "_view_name": "LayoutView",
            "align_content": null,
            "align_items": null,
            "align_self": null,
            "border": null,
            "bottom": null,
            "display": null,
            "flex": null,
            "flex_flow": null,
            "grid_area": null,
            "grid_auto_columns": null,
            "grid_auto_flow": null,
            "grid_auto_rows": null,
            "grid_column": null,
            "grid_gap": null,
            "grid_row": null,
            "grid_template_areas": null,
            "grid_template_columns": null,
            "grid_template_rows": null,
            "height": null,
            "justify_content": null,
            "justify_items": null,
            "left": null,
            "margin": null,
            "max_height": null,
            "max_width": null,
            "min_height": null,
            "min_width": null,
            "object_fit": null,
            "object_position": null,
            "order": null,
            "overflow": null,
            "overflow_x": null,
            "overflow_y": null,
            "padding": null,
            "right": null,
            "top": null,
            "visibility": null,
            "width": null
          }
        },
        "b5e07a0ddd26408db63400408f8c4821": {
          "model_module": "@jupyter-widgets/controls",
          "model_name": "ProgressStyleModel",
          "model_module_version": "1.5.0",
          "state": {
            "_model_module": "@jupyter-widgets/controls",
            "_model_module_version": "1.5.0",
            "_model_name": "ProgressStyleModel",
            "_view_count": null,
            "_view_module": "@jupyter-widgets/base",
            "_view_module_version": "1.2.0",
            "_view_name": "StyleView",
            "bar_color": null,
            "description_width": ""
          }
        },
        "2a1ecf9bb5f94b89951b1e5cc515ac3f": {
          "model_module": "@jupyter-widgets/base",
          "model_name": "LayoutModel",
          "model_module_version": "1.2.0",
          "state": {
            "_model_module": "@jupyter-widgets/base",
            "_model_module_version": "1.2.0",
            "_model_name": "LayoutModel",
            "_view_count": null,
            "_view_module": "@jupyter-widgets/base",
            "_view_module_version": "1.2.0",
            "_view_name": "LayoutView",
            "align_content": null,
            "align_items": null,
            "align_self": null,
            "border": null,
            "bottom": null,
            "display": null,
            "flex": null,
            "flex_flow": null,
            "grid_area": null,
            "grid_auto_columns": null,
            "grid_auto_flow": null,
            "grid_auto_rows": null,
            "grid_column": null,
            "grid_gap": null,
            "grid_row": null,
            "grid_template_areas": null,
            "grid_template_columns": null,
            "grid_template_rows": null,
            "height": null,
            "justify_content": null,
            "justify_items": null,
            "left": null,
            "margin": null,
            "max_height": null,
            "max_width": null,
            "min_height": null,
            "min_width": null,
            "object_fit": null,
            "object_position": null,
            "order": null,
            "overflow": null,
            "overflow_x": null,
            "overflow_y": null,
            "padding": null,
            "right": null,
            "top": null,
            "visibility": null,
            "width": null
          }
        },
        "479dcaecc7a0453a9093f689f0e5fb62": {
          "model_module": "@jupyter-widgets/controls",
          "model_name": "DescriptionStyleModel",
          "model_module_version": "1.5.0",
          "state": {
            "_model_module": "@jupyter-widgets/controls",
            "_model_module_version": "1.5.0",
            "_model_name": "DescriptionStyleModel",
            "_view_count": null,
            "_view_module": "@jupyter-widgets/base",
            "_view_module_version": "1.2.0",
            "_view_name": "StyleView",
            "description_width": ""
          }
        },
        "51d915139c4f4bf28726a96b951cf246": {
          "model_module": "@jupyter-widgets/controls",
          "model_name": "HBoxModel",
          "model_module_version": "1.5.0",
          "state": {
            "_dom_classes": [],
            "_model_module": "@jupyter-widgets/controls",
            "_model_module_version": "1.5.0",
            "_model_name": "HBoxModel",
            "_view_count": null,
            "_view_module": "@jupyter-widgets/controls",
            "_view_module_version": "1.5.0",
            "_view_name": "HBoxView",
            "box_style": "",
            "children": [
              "IPY_MODEL_8ba8d6c71e5a46069934becf1c81f225",
              "IPY_MODEL_1e4da894885c47668a4b6834b7b9b262",
              "IPY_MODEL_32459beaa3a94af29d403059a6b34111"
            ],
            "layout": "IPY_MODEL_c216b7146a5348ccb432ce1467f997a6"
          }
        },
        "8ba8d6c71e5a46069934becf1c81f225": {
          "model_module": "@jupyter-widgets/controls",
          "model_name": "HTMLModel",
          "model_module_version": "1.5.0",
          "state": {
            "_dom_classes": [],
            "_model_module": "@jupyter-widgets/controls",
            "_model_module_version": "1.5.0",
            "_model_name": "HTMLModel",
            "_view_count": null,
            "_view_module": "@jupyter-widgets/controls",
            "_view_module_version": "1.5.0",
            "_view_name": "HTMLView",
            "description": "",
            "description_tooltip": null,
            "layout": "IPY_MODEL_2dcca4e47df4427f8e57450734dcbf7b",
            "placeholder": "​",
            "style": "IPY_MODEL_262b1755d2224351b87250359abd7ec3",
            "value": "tokenizer_config.json: 100%"
          }
        },
        "1e4da894885c47668a4b6834b7b9b262": {
          "model_module": "@jupyter-widgets/controls",
          "model_name": "FloatProgressModel",
          "model_module_version": "1.5.0",
          "state": {
            "_dom_classes": [],
            "_model_module": "@jupyter-widgets/controls",
            "_model_module_version": "1.5.0",
            "_model_name": "FloatProgressModel",
            "_view_count": null,
            "_view_module": "@jupyter-widgets/controls",
            "_view_module_version": "1.5.0",
            "_view_name": "ProgressView",
            "bar_style": "success",
            "description": "",
            "description_tooltip": null,
            "layout": "IPY_MODEL_1761a1e00e564e79bfefc9e8dbd3723b",
            "max": 316,
            "min": 0,
            "orientation": "horizontal",
            "style": "IPY_MODEL_31e649d997114f82bb65bae8765c6cb5",
            "value": 316
          }
        },
        "32459beaa3a94af29d403059a6b34111": {
          "model_module": "@jupyter-widgets/controls",
          "model_name": "HTMLModel",
          "model_module_version": "1.5.0",
          "state": {
            "_dom_classes": [],
            "_model_module": "@jupyter-widgets/controls",
            "_model_module_version": "1.5.0",
            "_model_name": "HTMLModel",
            "_view_count": null,
            "_view_module": "@jupyter-widgets/controls",
            "_view_module_version": "1.5.0",
            "_view_name": "HTMLView",
            "description": "",
            "description_tooltip": null,
            "layout": "IPY_MODEL_af52b0265dea4972a252a9bf5ab22e3a",
            "placeholder": "​",
            "style": "IPY_MODEL_61aff36ec1894bb78f0bfa3d40507e9f",
            "value": " 316/316 [00:00&lt;00:00, 9.25kB/s]"
          }
        },
        "c216b7146a5348ccb432ce1467f997a6": {
          "model_module": "@jupyter-widgets/base",
          "model_name": "LayoutModel",
          "model_module_version": "1.2.0",
          "state": {
            "_model_module": "@jupyter-widgets/base",
            "_model_module_version": "1.2.0",
            "_model_name": "LayoutModel",
            "_view_count": null,
            "_view_module": "@jupyter-widgets/base",
            "_view_module_version": "1.2.0",
            "_view_name": "LayoutView",
            "align_content": null,
            "align_items": null,
            "align_self": null,
            "border": null,
            "bottom": null,
            "display": null,
            "flex": null,
            "flex_flow": null,
            "grid_area": null,
            "grid_auto_columns": null,
            "grid_auto_flow": null,
            "grid_auto_rows": null,
            "grid_column": null,
            "grid_gap": null,
            "grid_row": null,
            "grid_template_areas": null,
            "grid_template_columns": null,
            "grid_template_rows": null,
            "height": null,
            "justify_content": null,
            "justify_items": null,
            "left": null,
            "margin": null,
            "max_height": null,
            "max_width": null,
            "min_height": null,
            "min_width": null,
            "object_fit": null,
            "object_position": null,
            "order": null,
            "overflow": null,
            "overflow_x": null,
            "overflow_y": null,
            "padding": null,
            "right": null,
            "top": null,
            "visibility": null,
            "width": null
          }
        },
        "2dcca4e47df4427f8e57450734dcbf7b": {
          "model_module": "@jupyter-widgets/base",
          "model_name": "LayoutModel",
          "model_module_version": "1.2.0",
          "state": {
            "_model_module": "@jupyter-widgets/base",
            "_model_module_version": "1.2.0",
            "_model_name": "LayoutModel",
            "_view_count": null,
            "_view_module": "@jupyter-widgets/base",
            "_view_module_version": "1.2.0",
            "_view_name": "LayoutView",
            "align_content": null,
            "align_items": null,
            "align_self": null,
            "border": null,
            "bottom": null,
            "display": null,
            "flex": null,
            "flex_flow": null,
            "grid_area": null,
            "grid_auto_columns": null,
            "grid_auto_flow": null,
            "grid_auto_rows": null,
            "grid_column": null,
            "grid_gap": null,
            "grid_row": null,
            "grid_template_areas": null,
            "grid_template_columns": null,
            "grid_template_rows": null,
            "height": null,
            "justify_content": null,
            "justify_items": null,
            "left": null,
            "margin": null,
            "max_height": null,
            "max_width": null,
            "min_height": null,
            "min_width": null,
            "object_fit": null,
            "object_position": null,
            "order": null,
            "overflow": null,
            "overflow_x": null,
            "overflow_y": null,
            "padding": null,
            "right": null,
            "top": null,
            "visibility": null,
            "width": null
          }
        },
        "262b1755d2224351b87250359abd7ec3": {
          "model_module": "@jupyter-widgets/controls",
          "model_name": "DescriptionStyleModel",
          "model_module_version": "1.5.0",
          "state": {
            "_model_module": "@jupyter-widgets/controls",
            "_model_module_version": "1.5.0",
            "_model_name": "DescriptionStyleModel",
            "_view_count": null,
            "_view_module": "@jupyter-widgets/base",
            "_view_module_version": "1.2.0",
            "_view_name": "StyleView",
            "description_width": ""
          }
        },
        "1761a1e00e564e79bfefc9e8dbd3723b": {
          "model_module": "@jupyter-widgets/base",
          "model_name": "LayoutModel",
          "model_module_version": "1.2.0",
          "state": {
            "_model_module": "@jupyter-widgets/base",
            "_model_module_version": "1.2.0",
            "_model_name": "LayoutModel",
            "_view_count": null,
            "_view_module": "@jupyter-widgets/base",
            "_view_module_version": "1.2.0",
            "_view_name": "LayoutView",
            "align_content": null,
            "align_items": null,
            "align_self": null,
            "border": null,
            "bottom": null,
            "display": null,
            "flex": null,
            "flex_flow": null,
            "grid_area": null,
            "grid_auto_columns": null,
            "grid_auto_flow": null,
            "grid_auto_rows": null,
            "grid_column": null,
            "grid_gap": null,
            "grid_row": null,
            "grid_template_areas": null,
            "grid_template_columns": null,
            "grid_template_rows": null,
            "height": null,
            "justify_content": null,
            "justify_items": null,
            "left": null,
            "margin": null,
            "max_height": null,
            "max_width": null,
            "min_height": null,
            "min_width": null,
            "object_fit": null,
            "object_position": null,
            "order": null,
            "overflow": null,
            "overflow_x": null,
            "overflow_y": null,
            "padding": null,
            "right": null,
            "top": null,
            "visibility": null,
            "width": null
          }
        },
        "31e649d997114f82bb65bae8765c6cb5": {
          "model_module": "@jupyter-widgets/controls",
          "model_name": "ProgressStyleModel",
          "model_module_version": "1.5.0",
          "state": {
            "_model_module": "@jupyter-widgets/controls",
            "_model_module_version": "1.5.0",
            "_model_name": "ProgressStyleModel",
            "_view_count": null,
            "_view_module": "@jupyter-widgets/base",
            "_view_module_version": "1.2.0",
            "_view_name": "StyleView",
            "bar_color": null,
            "description_width": ""
          }
        },
        "af52b0265dea4972a252a9bf5ab22e3a": {
          "model_module": "@jupyter-widgets/base",
          "model_name": "LayoutModel",
          "model_module_version": "1.2.0",
          "state": {
            "_model_module": "@jupyter-widgets/base",
            "_model_module_version": "1.2.0",
            "_model_name": "LayoutModel",
            "_view_count": null,
            "_view_module": "@jupyter-widgets/base",
            "_view_module_version": "1.2.0",
            "_view_name": "LayoutView",
            "align_content": null,
            "align_items": null,
            "align_self": null,
            "border": null,
            "bottom": null,
            "display": null,
            "flex": null,
            "flex_flow": null,
            "grid_area": null,
            "grid_auto_columns": null,
            "grid_auto_flow": null,
            "grid_auto_rows": null,
            "grid_column": null,
            "grid_gap": null,
            "grid_row": null,
            "grid_template_areas": null,
            "grid_template_columns": null,
            "grid_template_rows": null,
            "height": null,
            "justify_content": null,
            "justify_items": null,
            "left": null,
            "margin": null,
            "max_height": null,
            "max_width": null,
            "min_height": null,
            "min_width": null,
            "object_fit": null,
            "object_position": null,
            "order": null,
            "overflow": null,
            "overflow_x": null,
            "overflow_y": null,
            "padding": null,
            "right": null,
            "top": null,
            "visibility": null,
            "width": null
          }
        },
        "61aff36ec1894bb78f0bfa3d40507e9f": {
          "model_module": "@jupyter-widgets/controls",
          "model_name": "DescriptionStyleModel",
          "model_module_version": "1.5.0",
          "state": {
            "_model_module": "@jupyter-widgets/controls",
            "_model_module_version": "1.5.0",
            "_model_name": "DescriptionStyleModel",
            "_view_count": null,
            "_view_module": "@jupyter-widgets/base",
            "_view_module_version": "1.2.0",
            "_view_name": "StyleView",
            "description_width": ""
          }
        },
        "ba52de7f8c154c60a424adec50a3ece6": {
          "model_module": "@jupyter-widgets/controls",
          "model_name": "HBoxModel",
          "model_module_version": "1.5.0",
          "state": {
            "_dom_classes": [],
            "_model_module": "@jupyter-widgets/controls",
            "_model_module_version": "1.5.0",
            "_model_name": "HBoxModel",
            "_view_count": null,
            "_view_module": "@jupyter-widgets/controls",
            "_view_module_version": "1.5.0",
            "_view_name": "HBoxView",
            "box_style": "",
            "children": [
              "IPY_MODEL_4ff4dddf754e430b8101df6376966c39",
              "IPY_MODEL_c1275717dfd347869081cacd5abe24a1",
              "IPY_MODEL_ed4ba3c136794c2bb8b2c734f86a62e2"
            ],
            "layout": "IPY_MODEL_0dfbd366e7bc4e43b92dbd0767e9d8e8"
          }
        },
        "4ff4dddf754e430b8101df6376966c39": {
          "model_module": "@jupyter-widgets/controls",
          "model_name": "HTMLModel",
          "model_module_version": "1.5.0",
          "state": {
            "_dom_classes": [],
            "_model_module": "@jupyter-widgets/controls",
            "_model_module_version": "1.5.0",
            "_model_name": "HTMLModel",
            "_view_count": null,
            "_view_module": "@jupyter-widgets/controls",
            "_view_module_version": "1.5.0",
            "_view_name": "HTMLView",
            "description": "",
            "description_tooltip": null,
            "layout": "IPY_MODEL_663c3bb8adb1446183619cd4409d5bb2",
            "placeholder": "​",
            "style": "IPY_MODEL_7c58072f641841558ce98b70239411dd",
            "value": "vocab.txt: 100%"
          }
        },
        "c1275717dfd347869081cacd5abe24a1": {
          "model_module": "@jupyter-widgets/controls",
          "model_name": "FloatProgressModel",
          "model_module_version": "1.5.0",
          "state": {
            "_dom_classes": [],
            "_model_module": "@jupyter-widgets/controls",
            "_model_module_version": "1.5.0",
            "_model_name": "FloatProgressModel",
            "_view_count": null,
            "_view_module": "@jupyter-widgets/controls",
            "_view_module_version": "1.5.0",
            "_view_name": "ProgressView",
            "bar_style": "success",
            "description": "",
            "description_tooltip": null,
            "layout": "IPY_MODEL_336d229cecea41848fee7e715bc4f17a",
            "max": 231508,
            "min": 0,
            "orientation": "horizontal",
            "style": "IPY_MODEL_0802a0f73e0c4d519a72ab61551381b6",
            "value": 231508
          }
        },
        "ed4ba3c136794c2bb8b2c734f86a62e2": {
          "model_module": "@jupyter-widgets/controls",
          "model_name": "HTMLModel",
          "model_module_version": "1.5.0",
          "state": {
            "_dom_classes": [],
            "_model_module": "@jupyter-widgets/controls",
            "_model_module_version": "1.5.0",
            "_model_name": "HTMLModel",
            "_view_count": null,
            "_view_module": "@jupyter-widgets/controls",
            "_view_module_version": "1.5.0",
            "_view_name": "HTMLView",
            "description": "",
            "description_tooltip": null,
            "layout": "IPY_MODEL_1dee187e8bce43c9bfd16198a1fd8c16",
            "placeholder": "​",
            "style": "IPY_MODEL_5c33c81057e7423caca7f8f672aa3225",
            "value": " 232k/232k [00:00&lt;00:00, 2.60MB/s]"
          }
        },
        "0dfbd366e7bc4e43b92dbd0767e9d8e8": {
          "model_module": "@jupyter-widgets/base",
          "model_name": "LayoutModel",
          "model_module_version": "1.2.0",
          "state": {
            "_model_module": "@jupyter-widgets/base",
            "_model_module_version": "1.2.0",
            "_model_name": "LayoutModel",
            "_view_count": null,
            "_view_module": "@jupyter-widgets/base",
            "_view_module_version": "1.2.0",
            "_view_name": "LayoutView",
            "align_content": null,
            "align_items": null,
            "align_self": null,
            "border": null,
            "bottom": null,
            "display": null,
            "flex": null,
            "flex_flow": null,
            "grid_area": null,
            "grid_auto_columns": null,
            "grid_auto_flow": null,
            "grid_auto_rows": null,
            "grid_column": null,
            "grid_gap": null,
            "grid_row": null,
            "grid_template_areas": null,
            "grid_template_columns": null,
            "grid_template_rows": null,
            "height": null,
            "justify_content": null,
            "justify_items": null,
            "left": null,
            "margin": null,
            "max_height": null,
            "max_width": null,
            "min_height": null,
            "min_width": null,
            "object_fit": null,
            "object_position": null,
            "order": null,
            "overflow": null,
            "overflow_x": null,
            "overflow_y": null,
            "padding": null,
            "right": null,
            "top": null,
            "visibility": null,
            "width": null
          }
        },
        "663c3bb8adb1446183619cd4409d5bb2": {
          "model_module": "@jupyter-widgets/base",
          "model_name": "LayoutModel",
          "model_module_version": "1.2.0",
          "state": {
            "_model_module": "@jupyter-widgets/base",
            "_model_module_version": "1.2.0",
            "_model_name": "LayoutModel",
            "_view_count": null,
            "_view_module": "@jupyter-widgets/base",
            "_view_module_version": "1.2.0",
            "_view_name": "LayoutView",
            "align_content": null,
            "align_items": null,
            "align_self": null,
            "border": null,
            "bottom": null,
            "display": null,
            "flex": null,
            "flex_flow": null,
            "grid_area": null,
            "grid_auto_columns": null,
            "grid_auto_flow": null,
            "grid_auto_rows": null,
            "grid_column": null,
            "grid_gap": null,
            "grid_row": null,
            "grid_template_areas": null,
            "grid_template_columns": null,
            "grid_template_rows": null,
            "height": null,
            "justify_content": null,
            "justify_items": null,
            "left": null,
            "margin": null,
            "max_height": null,
            "max_width": null,
            "min_height": null,
            "min_width": null,
            "object_fit": null,
            "object_position": null,
            "order": null,
            "overflow": null,
            "overflow_x": null,
            "overflow_y": null,
            "padding": null,
            "right": null,
            "top": null,
            "visibility": null,
            "width": null
          }
        },
        "7c58072f641841558ce98b70239411dd": {
          "model_module": "@jupyter-widgets/controls",
          "model_name": "DescriptionStyleModel",
          "model_module_version": "1.5.0",
          "state": {
            "_model_module": "@jupyter-widgets/controls",
            "_model_module_version": "1.5.0",
            "_model_name": "DescriptionStyleModel",
            "_view_count": null,
            "_view_module": "@jupyter-widgets/base",
            "_view_module_version": "1.2.0",
            "_view_name": "StyleView",
            "description_width": ""
          }
        },
        "336d229cecea41848fee7e715bc4f17a": {
          "model_module": "@jupyter-widgets/base",
          "model_name": "LayoutModel",
          "model_module_version": "1.2.0",
          "state": {
            "_model_module": "@jupyter-widgets/base",
            "_model_module_version": "1.2.0",
            "_model_name": "LayoutModel",
            "_view_count": null,
            "_view_module": "@jupyter-widgets/base",
            "_view_module_version": "1.2.0",
            "_view_name": "LayoutView",
            "align_content": null,
            "align_items": null,
            "align_self": null,
            "border": null,
            "bottom": null,
            "display": null,
            "flex": null,
            "flex_flow": null,
            "grid_area": null,
            "grid_auto_columns": null,
            "grid_auto_flow": null,
            "grid_auto_rows": null,
            "grid_column": null,
            "grid_gap": null,
            "grid_row": null,
            "grid_template_areas": null,
            "grid_template_columns": null,
            "grid_template_rows": null,
            "height": null,
            "justify_content": null,
            "justify_items": null,
            "left": null,
            "margin": null,
            "max_height": null,
            "max_width": null,
            "min_height": null,
            "min_width": null,
            "object_fit": null,
            "object_position": null,
            "order": null,
            "overflow": null,
            "overflow_x": null,
            "overflow_y": null,
            "padding": null,
            "right": null,
            "top": null,
            "visibility": null,
            "width": null
          }
        },
        "0802a0f73e0c4d519a72ab61551381b6": {
          "model_module": "@jupyter-widgets/controls",
          "model_name": "ProgressStyleModel",
          "model_module_version": "1.5.0",
          "state": {
            "_model_module": "@jupyter-widgets/controls",
            "_model_module_version": "1.5.0",
            "_model_name": "ProgressStyleModel",
            "_view_count": null,
            "_view_module": "@jupyter-widgets/base",
            "_view_module_version": "1.2.0",
            "_view_name": "StyleView",
            "bar_color": null,
            "description_width": ""
          }
        },
        "1dee187e8bce43c9bfd16198a1fd8c16": {
          "model_module": "@jupyter-widgets/base",
          "model_name": "LayoutModel",
          "model_module_version": "1.2.0",
          "state": {
            "_model_module": "@jupyter-widgets/base",
            "_model_module_version": "1.2.0",
            "_model_name": "LayoutModel",
            "_view_count": null,
            "_view_module": "@jupyter-widgets/base",
            "_view_module_version": "1.2.0",
            "_view_name": "LayoutView",
            "align_content": null,
            "align_items": null,
            "align_self": null,
            "border": null,
            "bottom": null,
            "display": null,
            "flex": null,
            "flex_flow": null,
            "grid_area": null,
            "grid_auto_columns": null,
            "grid_auto_flow": null,
            "grid_auto_rows": null,
            "grid_column": null,
            "grid_gap": null,
            "grid_row": null,
            "grid_template_areas": null,
            "grid_template_columns": null,
            "grid_template_rows": null,
            "height": null,
            "justify_content": null,
            "justify_items": null,
            "left": null,
            "margin": null,
            "max_height": null,
            "max_width": null,
            "min_height": null,
            "min_width": null,
            "object_fit": null,
            "object_position": null,
            "order": null,
            "overflow": null,
            "overflow_x": null,
            "overflow_y": null,
            "padding": null,
            "right": null,
            "top": null,
            "visibility": null,
            "width": null
          }
        },
        "5c33c81057e7423caca7f8f672aa3225": {
          "model_module": "@jupyter-widgets/controls",
          "model_name": "DescriptionStyleModel",
          "model_module_version": "1.5.0",
          "state": {
            "_model_module": "@jupyter-widgets/controls",
            "_model_module_version": "1.5.0",
            "_model_name": "DescriptionStyleModel",
            "_view_count": null,
            "_view_module": "@jupyter-widgets/base",
            "_view_module_version": "1.2.0",
            "_view_name": "StyleView",
            "description_width": ""
          }
        },
        "579eef871ee74a79bf354872f3cc69ad": {
          "model_module": "@jupyter-widgets/controls",
          "model_name": "HBoxModel",
          "model_module_version": "1.5.0",
          "state": {
            "_dom_classes": [],
            "_model_module": "@jupyter-widgets/controls",
            "_model_module_version": "1.5.0",
            "_model_name": "HBoxModel",
            "_view_count": null,
            "_view_module": "@jupyter-widgets/controls",
            "_view_module_version": "1.5.0",
            "_view_name": "HBoxView",
            "box_style": "",
            "children": [
              "IPY_MODEL_1aa8cf92315c4a018cbe01084c7a2903",
              "IPY_MODEL_9e4b78a655b64911bbdb20c6f3464e7c",
              "IPY_MODEL_963cd9d15a4e4a7693a46c10a1a95435"
            ],
            "layout": "IPY_MODEL_168fdc89e05f4621be529f789d00667a"
          }
        },
        "1aa8cf92315c4a018cbe01084c7a2903": {
          "model_module": "@jupyter-widgets/controls",
          "model_name": "HTMLModel",
          "model_module_version": "1.5.0",
          "state": {
            "_dom_classes": [],
            "_model_module": "@jupyter-widgets/controls",
            "_model_module_version": "1.5.0",
            "_model_name": "HTMLModel",
            "_view_count": null,
            "_view_module": "@jupyter-widgets/controls",
            "_view_module_version": "1.5.0",
            "_view_name": "HTMLView",
            "description": "",
            "description_tooltip": null,
            "layout": "IPY_MODEL_308f4eb8c1bc4c1c9cd1e6287c60343b",
            "placeholder": "​",
            "style": "IPY_MODEL_0ba91ba852ad410d8a6e24f622dedb9a",
            "value": "special_tokens_map.json: 100%"
          }
        },
        "9e4b78a655b64911bbdb20c6f3464e7c": {
          "model_module": "@jupyter-widgets/controls",
          "model_name": "FloatProgressModel",
          "model_module_version": "1.5.0",
          "state": {
            "_dom_classes": [],
            "_model_module": "@jupyter-widgets/controls",
            "_model_module_version": "1.5.0",
            "_model_name": "FloatProgressModel",
            "_view_count": null,
            "_view_module": "@jupyter-widgets/controls",
            "_view_module_version": "1.5.0",
            "_view_name": "ProgressView",
            "bar_style": "success",
            "description": "",
            "description_tooltip": null,
            "layout": "IPY_MODEL_f7c1d50f52584d53a7d31d5b505049ae",
            "max": 112,
            "min": 0,
            "orientation": "horizontal",
            "style": "IPY_MODEL_efa565f2c8f8432aa2a0cd1bbbf5a812",
            "value": 112
          }
        },
        "963cd9d15a4e4a7693a46c10a1a95435": {
          "model_module": "@jupyter-widgets/controls",
          "model_name": "HTMLModel",
          "model_module_version": "1.5.0",
          "state": {
            "_dom_classes": [],
            "_model_module": "@jupyter-widgets/controls",
            "_model_module_version": "1.5.0",
            "_model_name": "HTMLModel",
            "_view_count": null,
            "_view_module": "@jupyter-widgets/controls",
            "_view_module_version": "1.5.0",
            "_view_name": "HTMLView",
            "description": "",
            "description_tooltip": null,
            "layout": "IPY_MODEL_0f38339bbd454fc18d1dd4cc360b2ace",
            "placeholder": "​",
            "style": "IPY_MODEL_f3dacff448f04fe49da3d34879fbe326",
            "value": " 112/112 [00:00&lt;00:00, 4.56kB/s]"
          }
        },
        "168fdc89e05f4621be529f789d00667a": {
          "model_module": "@jupyter-widgets/base",
          "model_name": "LayoutModel",
          "model_module_version": "1.2.0",
          "state": {
            "_model_module": "@jupyter-widgets/base",
            "_model_module_version": "1.2.0",
            "_model_name": "LayoutModel",
            "_view_count": null,
            "_view_module": "@jupyter-widgets/base",
            "_view_module_version": "1.2.0",
            "_view_name": "LayoutView",
            "align_content": null,
            "align_items": null,
            "align_self": null,
            "border": null,
            "bottom": null,
            "display": null,
            "flex": null,
            "flex_flow": null,
            "grid_area": null,
            "grid_auto_columns": null,
            "grid_auto_flow": null,
            "grid_auto_rows": null,
            "grid_column": null,
            "grid_gap": null,
            "grid_row": null,
            "grid_template_areas": null,
            "grid_template_columns": null,
            "grid_template_rows": null,
            "height": null,
            "justify_content": null,
            "justify_items": null,
            "left": null,
            "margin": null,
            "max_height": null,
            "max_width": null,
            "min_height": null,
            "min_width": null,
            "object_fit": null,
            "object_position": null,
            "order": null,
            "overflow": null,
            "overflow_x": null,
            "overflow_y": null,
            "padding": null,
            "right": null,
            "top": null,
            "visibility": null,
            "width": null
          }
        },
        "308f4eb8c1bc4c1c9cd1e6287c60343b": {
          "model_module": "@jupyter-widgets/base",
          "model_name": "LayoutModel",
          "model_module_version": "1.2.0",
          "state": {
            "_model_module": "@jupyter-widgets/base",
            "_model_module_version": "1.2.0",
            "_model_name": "LayoutModel",
            "_view_count": null,
            "_view_module": "@jupyter-widgets/base",
            "_view_module_version": "1.2.0",
            "_view_name": "LayoutView",
            "align_content": null,
            "align_items": null,
            "align_self": null,
            "border": null,
            "bottom": null,
            "display": null,
            "flex": null,
            "flex_flow": null,
            "grid_area": null,
            "grid_auto_columns": null,
            "grid_auto_flow": null,
            "grid_auto_rows": null,
            "grid_column": null,
            "grid_gap": null,
            "grid_row": null,
            "grid_template_areas": null,
            "grid_template_columns": null,
            "grid_template_rows": null,
            "height": null,
            "justify_content": null,
            "justify_items": null,
            "left": null,
            "margin": null,
            "max_height": null,
            "max_width": null,
            "min_height": null,
            "min_width": null,
            "object_fit": null,
            "object_position": null,
            "order": null,
            "overflow": null,
            "overflow_x": null,
            "overflow_y": null,
            "padding": null,
            "right": null,
            "top": null,
            "visibility": null,
            "width": null
          }
        },
        "0ba91ba852ad410d8a6e24f622dedb9a": {
          "model_module": "@jupyter-widgets/controls",
          "model_name": "DescriptionStyleModel",
          "model_module_version": "1.5.0",
          "state": {
            "_model_module": "@jupyter-widgets/controls",
            "_model_module_version": "1.5.0",
            "_model_name": "DescriptionStyleModel",
            "_view_count": null,
            "_view_module": "@jupyter-widgets/base",
            "_view_module_version": "1.2.0",
            "_view_name": "StyleView",
            "description_width": ""
          }
        },
        "f7c1d50f52584d53a7d31d5b505049ae": {
          "model_module": "@jupyter-widgets/base",
          "model_name": "LayoutModel",
          "model_module_version": "1.2.0",
          "state": {
            "_model_module": "@jupyter-widgets/base",
            "_model_module_version": "1.2.0",
            "_model_name": "LayoutModel",
            "_view_count": null,
            "_view_module": "@jupyter-widgets/base",
            "_view_module_version": "1.2.0",
            "_view_name": "LayoutView",
            "align_content": null,
            "align_items": null,
            "align_self": null,
            "border": null,
            "bottom": null,
            "display": null,
            "flex": null,
            "flex_flow": null,
            "grid_area": null,
            "grid_auto_columns": null,
            "grid_auto_flow": null,
            "grid_auto_rows": null,
            "grid_column": null,
            "grid_gap": null,
            "grid_row": null,
            "grid_template_areas": null,
            "grid_template_columns": null,
            "grid_template_rows": null,
            "height": null,
            "justify_content": null,
            "justify_items": null,
            "left": null,
            "margin": null,
            "max_height": null,
            "max_width": null,
            "min_height": null,
            "min_width": null,
            "object_fit": null,
            "object_position": null,
            "order": null,
            "overflow": null,
            "overflow_x": null,
            "overflow_y": null,
            "padding": null,
            "right": null,
            "top": null,
            "visibility": null,
            "width": null
          }
        },
        "efa565f2c8f8432aa2a0cd1bbbf5a812": {
          "model_module": "@jupyter-widgets/controls",
          "model_name": "ProgressStyleModel",
          "model_module_version": "1.5.0",
          "state": {
            "_model_module": "@jupyter-widgets/controls",
            "_model_module_version": "1.5.0",
            "_model_name": "ProgressStyleModel",
            "_view_count": null,
            "_view_module": "@jupyter-widgets/base",
            "_view_module_version": "1.2.0",
            "_view_name": "StyleView",
            "bar_color": null,
            "description_width": ""
          }
        },
        "0f38339bbd454fc18d1dd4cc360b2ace": {
          "model_module": "@jupyter-widgets/base",
          "model_name": "LayoutModel",
          "model_module_version": "1.2.0",
          "state": {
            "_model_module": "@jupyter-widgets/base",
            "_model_module_version": "1.2.0",
            "_model_name": "LayoutModel",
            "_view_count": null,
            "_view_module": "@jupyter-widgets/base",
            "_view_module_version": "1.2.0",
            "_view_name": "LayoutView",
            "align_content": null,
            "align_items": null,
            "align_self": null,
            "border": null,
            "bottom": null,
            "display": null,
            "flex": null,
            "flex_flow": null,
            "grid_area": null,
            "grid_auto_columns": null,
            "grid_auto_flow": null,
            "grid_auto_rows": null,
            "grid_column": null,
            "grid_gap": null,
            "grid_row": null,
            "grid_template_areas": null,
            "grid_template_columns": null,
            "grid_template_rows": null,
            "height": null,
            "justify_content": null,
            "justify_items": null,
            "left": null,
            "margin": null,
            "max_height": null,
            "max_width": null,
            "min_height": null,
            "min_width": null,
            "object_fit": null,
            "object_position": null,
            "order": null,
            "overflow": null,
            "overflow_x": null,
            "overflow_y": null,
            "padding": null,
            "right": null,
            "top": null,
            "visibility": null,
            "width": null
          }
        },
        "f3dacff448f04fe49da3d34879fbe326": {
          "model_module": "@jupyter-widgets/controls",
          "model_name": "DescriptionStyleModel",
          "model_module_version": "1.5.0",
          "state": {
            "_model_module": "@jupyter-widgets/controls",
            "_model_module_version": "1.5.0",
            "_model_name": "DescriptionStyleModel",
            "_view_count": null,
            "_view_module": "@jupyter-widgets/base",
            "_view_module_version": "1.2.0",
            "_view_name": "StyleView",
            "description_width": ""
          }
        },
        "0eedd37efc184ca6b0ba8d68e4129a2c": {
          "model_module": "@jupyter-widgets/controls",
          "model_name": "HBoxModel",
          "model_module_version": "1.5.0",
          "state": {
            "_dom_classes": [],
            "_model_module": "@jupyter-widgets/controls",
            "_model_module_version": "1.5.0",
            "_model_name": "HBoxModel",
            "_view_count": null,
            "_view_module": "@jupyter-widgets/controls",
            "_view_module_version": "1.5.0",
            "_view_name": "HBoxView",
            "box_style": "",
            "children": [
              "IPY_MODEL_a9cc37a7a441420da520847641c9b59c",
              "IPY_MODEL_32562f84e6944782a8a6235ce25bf9cb",
              "IPY_MODEL_14f0abeadb9a4168975ad04b8335cefe"
            ],
            "layout": "IPY_MODEL_16cdd3a460894525bc4af63ba1eb107a"
          }
        },
        "a9cc37a7a441420da520847641c9b59c": {
          "model_module": "@jupyter-widgets/controls",
          "model_name": "HTMLModel",
          "model_module_version": "1.5.0",
          "state": {
            "_dom_classes": [],
            "_model_module": "@jupyter-widgets/controls",
            "_model_module_version": "1.5.0",
            "_model_name": "HTMLModel",
            "_view_count": null,
            "_view_module": "@jupyter-widgets/controls",
            "_view_module_version": "1.5.0",
            "_view_name": "HTMLView",
            "description": "",
            "description_tooltip": null,
            "layout": "IPY_MODEL_114d063839de4e2b9791b942e683c2bb",
            "placeholder": "​",
            "style": "IPY_MODEL_23048925ddcc4d23b83d8ad626c1227b",
            "value": "modules.json: 100%"
          }
        },
        "32562f84e6944782a8a6235ce25bf9cb": {
          "model_module": "@jupyter-widgets/controls",
          "model_name": "FloatProgressModel",
          "model_module_version": "1.5.0",
          "state": {
            "_dom_classes": [],
            "_model_module": "@jupyter-widgets/controls",
            "_model_module_version": "1.5.0",
            "_model_name": "FloatProgressModel",
            "_view_count": null,
            "_view_module": "@jupyter-widgets/controls",
            "_view_module_version": "1.5.0",
            "_view_name": "ProgressView",
            "bar_style": "success",
            "description": "",
            "description_tooltip": null,
            "layout": "IPY_MODEL_e5b58a47cecb4f8a86f068a78dda970a",
            "max": 349,
            "min": 0,
            "orientation": "horizontal",
            "style": "IPY_MODEL_ce253b9c0d5c4307b0ae438a05634836",
            "value": 349
          }
        },
        "14f0abeadb9a4168975ad04b8335cefe": {
          "model_module": "@jupyter-widgets/controls",
          "model_name": "HTMLModel",
          "model_module_version": "1.5.0",
          "state": {
            "_dom_classes": [],
            "_model_module": "@jupyter-widgets/controls",
            "_model_module_version": "1.5.0",
            "_model_name": "HTMLModel",
            "_view_count": null,
            "_view_module": "@jupyter-widgets/controls",
            "_view_module_version": "1.5.0",
            "_view_name": "HTMLView",
            "description": "",
            "description_tooltip": null,
            "layout": "IPY_MODEL_1557ff698a8848d297948cc7fde9c3a5",
            "placeholder": "​",
            "style": "IPY_MODEL_1a3cc38acff4465f948fd4a3868cd441",
            "value": " 349/349 [00:00&lt;00:00, 17.5kB/s]"
          }
        },
        "16cdd3a460894525bc4af63ba1eb107a": {
          "model_module": "@jupyter-widgets/base",
          "model_name": "LayoutModel",
          "model_module_version": "1.2.0",
          "state": {
            "_model_module": "@jupyter-widgets/base",
            "_model_module_version": "1.2.0",
            "_model_name": "LayoutModel",
            "_view_count": null,
            "_view_module": "@jupyter-widgets/base",
            "_view_module_version": "1.2.0",
            "_view_name": "LayoutView",
            "align_content": null,
            "align_items": null,
            "align_self": null,
            "border": null,
            "bottom": null,
            "display": null,
            "flex": null,
            "flex_flow": null,
            "grid_area": null,
            "grid_auto_columns": null,
            "grid_auto_flow": null,
            "grid_auto_rows": null,
            "grid_column": null,
            "grid_gap": null,
            "grid_row": null,
            "grid_template_areas": null,
            "grid_template_columns": null,
            "grid_template_rows": null,
            "height": null,
            "justify_content": null,
            "justify_items": null,
            "left": null,
            "margin": null,
            "max_height": null,
            "max_width": null,
            "min_height": null,
            "min_width": null,
            "object_fit": null,
            "object_position": null,
            "order": null,
            "overflow": null,
            "overflow_x": null,
            "overflow_y": null,
            "padding": null,
            "right": null,
            "top": null,
            "visibility": null,
            "width": null
          }
        },
        "114d063839de4e2b9791b942e683c2bb": {
          "model_module": "@jupyter-widgets/base",
          "model_name": "LayoutModel",
          "model_module_version": "1.2.0",
          "state": {
            "_model_module": "@jupyter-widgets/base",
            "_model_module_version": "1.2.0",
            "_model_name": "LayoutModel",
            "_view_count": null,
            "_view_module": "@jupyter-widgets/base",
            "_view_module_version": "1.2.0",
            "_view_name": "LayoutView",
            "align_content": null,
            "align_items": null,
            "align_self": null,
            "border": null,
            "bottom": null,
            "display": null,
            "flex": null,
            "flex_flow": null,
            "grid_area": null,
            "grid_auto_columns": null,
            "grid_auto_flow": null,
            "grid_auto_rows": null,
            "grid_column": null,
            "grid_gap": null,
            "grid_row": null,
            "grid_template_areas": null,
            "grid_template_columns": null,
            "grid_template_rows": null,
            "height": null,
            "justify_content": null,
            "justify_items": null,
            "left": null,
            "margin": null,
            "max_height": null,
            "max_width": null,
            "min_height": null,
            "min_width": null,
            "object_fit": null,
            "object_position": null,
            "order": null,
            "overflow": null,
            "overflow_x": null,
            "overflow_y": null,
            "padding": null,
            "right": null,
            "top": null,
            "visibility": null,
            "width": null
          }
        },
        "23048925ddcc4d23b83d8ad626c1227b": {
          "model_module": "@jupyter-widgets/controls",
          "model_name": "DescriptionStyleModel",
          "model_module_version": "1.5.0",
          "state": {
            "_model_module": "@jupyter-widgets/controls",
            "_model_module_version": "1.5.0",
            "_model_name": "DescriptionStyleModel",
            "_view_count": null,
            "_view_module": "@jupyter-widgets/base",
            "_view_module_version": "1.2.0",
            "_view_name": "StyleView",
            "description_width": ""
          }
        },
        "e5b58a47cecb4f8a86f068a78dda970a": {
          "model_module": "@jupyter-widgets/base",
          "model_name": "LayoutModel",
          "model_module_version": "1.2.0",
          "state": {
            "_model_module": "@jupyter-widgets/base",
            "_model_module_version": "1.2.0",
            "_model_name": "LayoutModel",
            "_view_count": null,
            "_view_module": "@jupyter-widgets/base",
            "_view_module_version": "1.2.0",
            "_view_name": "LayoutView",
            "align_content": null,
            "align_items": null,
            "align_self": null,
            "border": null,
            "bottom": null,
            "display": null,
            "flex": null,
            "flex_flow": null,
            "grid_area": null,
            "grid_auto_columns": null,
            "grid_auto_flow": null,
            "grid_auto_rows": null,
            "grid_column": null,
            "grid_gap": null,
            "grid_row": null,
            "grid_template_areas": null,
            "grid_template_columns": null,
            "grid_template_rows": null,
            "height": null,
            "justify_content": null,
            "justify_items": null,
            "left": null,
            "margin": null,
            "max_height": null,
            "max_width": null,
            "min_height": null,
            "min_width": null,
            "object_fit": null,
            "object_position": null,
            "order": null,
            "overflow": null,
            "overflow_x": null,
            "overflow_y": null,
            "padding": null,
            "right": null,
            "top": null,
            "visibility": null,
            "width": null
          }
        },
        "ce253b9c0d5c4307b0ae438a05634836": {
          "model_module": "@jupyter-widgets/controls",
          "model_name": "ProgressStyleModel",
          "model_module_version": "1.5.0",
          "state": {
            "_model_module": "@jupyter-widgets/controls",
            "_model_module_version": "1.5.0",
            "_model_name": "ProgressStyleModel",
            "_view_count": null,
            "_view_module": "@jupyter-widgets/base",
            "_view_module_version": "1.2.0",
            "_view_name": "StyleView",
            "bar_color": null,
            "description_width": ""
          }
        },
        "1557ff698a8848d297948cc7fde9c3a5": {
          "model_module": "@jupyter-widgets/base",
          "model_name": "LayoutModel",
          "model_module_version": "1.2.0",
          "state": {
            "_model_module": "@jupyter-widgets/base",
            "_model_module_version": "1.2.0",
            "_model_name": "LayoutModel",
            "_view_count": null,
            "_view_module": "@jupyter-widgets/base",
            "_view_module_version": "1.2.0",
            "_view_name": "LayoutView",
            "align_content": null,
            "align_items": null,
            "align_self": null,
            "border": null,
            "bottom": null,
            "display": null,
            "flex": null,
            "flex_flow": null,
            "grid_area": null,
            "grid_auto_columns": null,
            "grid_auto_flow": null,
            "grid_auto_rows": null,
            "grid_column": null,
            "grid_gap": null,
            "grid_row": null,
            "grid_template_areas": null,
            "grid_template_columns": null,
            "grid_template_rows": null,
            "height": null,
            "justify_content": null,
            "justify_items": null,
            "left": null,
            "margin": null,
            "max_height": null,
            "max_width": null,
            "min_height": null,
            "min_width": null,
            "object_fit": null,
            "object_position": null,
            "order": null,
            "overflow": null,
            "overflow_x": null,
            "overflow_y": null,
            "padding": null,
            "right": null,
            "top": null,
            "visibility": null,
            "width": null
          }
        },
        "1a3cc38acff4465f948fd4a3868cd441": {
          "model_module": "@jupyter-widgets/controls",
          "model_name": "DescriptionStyleModel",
          "model_module_version": "1.5.0",
          "state": {
            "_model_module": "@jupyter-widgets/controls",
            "_model_module_version": "1.5.0",
            "_model_name": "DescriptionStyleModel",
            "_view_count": null,
            "_view_module": "@jupyter-widgets/base",
            "_view_module_version": "1.2.0",
            "_view_name": "StyleView",
            "description_width": ""
          }
        },
        "8e0c8be0baf14154b8f965222f3a1bc3": {
          "model_module": "@jupyter-widgets/controls",
          "model_name": "HBoxModel",
          "model_module_version": "1.5.0",
          "state": {
            "_dom_classes": [],
            "_model_module": "@jupyter-widgets/controls",
            "_model_module_version": "1.5.0",
            "_model_name": "HBoxModel",
            "_view_count": null,
            "_view_module": "@jupyter-widgets/controls",
            "_view_module_version": "1.5.0",
            "_view_name": "HBoxView",
            "box_style": "",
            "children": [
              "IPY_MODEL_d88cca34f02b4ed8a39b3cabf1bd357c",
              "IPY_MODEL_f1fc4238d10f406294f5c7bb14d05bac",
              "IPY_MODEL_9701439051ac4632bb5029fa4b3d267e"
            ],
            "layout": "IPY_MODEL_26f1d761cf3b49d8aa45d1705e215c88"
          }
        },
        "d88cca34f02b4ed8a39b3cabf1bd357c": {
          "model_module": "@jupyter-widgets/controls",
          "model_name": "HTMLModel",
          "model_module_version": "1.5.0",
          "state": {
            "_dom_classes": [],
            "_model_module": "@jupyter-widgets/controls",
            "_model_module_version": "1.5.0",
            "_model_name": "HTMLModel",
            "_view_count": null,
            "_view_module": "@jupyter-widgets/controls",
            "_view_module_version": "1.5.0",
            "_view_name": "HTMLView",
            "description": "",
            "description_tooltip": null,
            "layout": "IPY_MODEL_0a514446ab64417889972d83d4d187bf",
            "placeholder": "​",
            "style": "IPY_MODEL_24f63fb0cc77456eb071391d90c1e969",
            "value": "config_sentence_transformers.json: 100%"
          }
        },
        "f1fc4238d10f406294f5c7bb14d05bac": {
          "model_module": "@jupyter-widgets/controls",
          "model_name": "FloatProgressModel",
          "model_module_version": "1.5.0",
          "state": {
            "_dom_classes": [],
            "_model_module": "@jupyter-widgets/controls",
            "_model_module_version": "1.5.0",
            "_model_name": "FloatProgressModel",
            "_view_count": null,
            "_view_module": "@jupyter-widgets/controls",
            "_view_module_version": "1.5.0",
            "_view_name": "ProgressView",
            "bar_style": "success",
            "description": "",
            "description_tooltip": null,
            "layout": "IPY_MODEL_4f4cf5c1169e439c97ca6221e613ff4b",
            "max": 124,
            "min": 0,
            "orientation": "horizontal",
            "style": "IPY_MODEL_c8ed85cd418549bfa2bc5c3fa44c7491",
            "value": 124
          }
        },
        "9701439051ac4632bb5029fa4b3d267e": {
          "model_module": "@jupyter-widgets/controls",
          "model_name": "HTMLModel",
          "model_module_version": "1.5.0",
          "state": {
            "_dom_classes": [],
            "_model_module": "@jupyter-widgets/controls",
            "_model_module_version": "1.5.0",
            "_model_name": "HTMLModel",
            "_view_count": null,
            "_view_module": "@jupyter-widgets/controls",
            "_view_module_version": "1.5.0",
            "_view_name": "HTMLView",
            "description": "",
            "description_tooltip": null,
            "layout": "IPY_MODEL_3e28f86abc2f4c10b010a9c53d8dd31a",
            "placeholder": "​",
            "style": "IPY_MODEL_9ea8f9dd0d1c4cbf949a558c23124cf2",
            "value": " 124/124 [00:00&lt;00:00, 5.40kB/s]"
          }
        },
        "26f1d761cf3b49d8aa45d1705e215c88": {
          "model_module": "@jupyter-widgets/base",
          "model_name": "LayoutModel",
          "model_module_version": "1.2.0",
          "state": {
            "_model_module": "@jupyter-widgets/base",
            "_model_module_version": "1.2.0",
            "_model_name": "LayoutModel",
            "_view_count": null,
            "_view_module": "@jupyter-widgets/base",
            "_view_module_version": "1.2.0",
            "_view_name": "LayoutView",
            "align_content": null,
            "align_items": null,
            "align_self": null,
            "border": null,
            "bottom": null,
            "display": null,
            "flex": null,
            "flex_flow": null,
            "grid_area": null,
            "grid_auto_columns": null,
            "grid_auto_flow": null,
            "grid_auto_rows": null,
            "grid_column": null,
            "grid_gap": null,
            "grid_row": null,
            "grid_template_areas": null,
            "grid_template_columns": null,
            "grid_template_rows": null,
            "height": null,
            "justify_content": null,
            "justify_items": null,
            "left": null,
            "margin": null,
            "max_height": null,
            "max_width": null,
            "min_height": null,
            "min_width": null,
            "object_fit": null,
            "object_position": null,
            "order": null,
            "overflow": null,
            "overflow_x": null,
            "overflow_y": null,
            "padding": null,
            "right": null,
            "top": null,
            "visibility": null,
            "width": null
          }
        },
        "0a514446ab64417889972d83d4d187bf": {
          "model_module": "@jupyter-widgets/base",
          "model_name": "LayoutModel",
          "model_module_version": "1.2.0",
          "state": {
            "_model_module": "@jupyter-widgets/base",
            "_model_module_version": "1.2.0",
            "_model_name": "LayoutModel",
            "_view_count": null,
            "_view_module": "@jupyter-widgets/base",
            "_view_module_version": "1.2.0",
            "_view_name": "LayoutView",
            "align_content": null,
            "align_items": null,
            "align_self": null,
            "border": null,
            "bottom": null,
            "display": null,
            "flex": null,
            "flex_flow": null,
            "grid_area": null,
            "grid_auto_columns": null,
            "grid_auto_flow": null,
            "grid_auto_rows": null,
            "grid_column": null,
            "grid_gap": null,
            "grid_row": null,
            "grid_template_areas": null,
            "grid_template_columns": null,
            "grid_template_rows": null,
            "height": null,
            "justify_content": null,
            "justify_items": null,
            "left": null,
            "margin": null,
            "max_height": null,
            "max_width": null,
            "min_height": null,
            "min_width": null,
            "object_fit": null,
            "object_position": null,
            "order": null,
            "overflow": null,
            "overflow_x": null,
            "overflow_y": null,
            "padding": null,
            "right": null,
            "top": null,
            "visibility": null,
            "width": null
          }
        },
        "24f63fb0cc77456eb071391d90c1e969": {
          "model_module": "@jupyter-widgets/controls",
          "model_name": "DescriptionStyleModel",
          "model_module_version": "1.5.0",
          "state": {
            "_model_module": "@jupyter-widgets/controls",
            "_model_module_version": "1.5.0",
            "_model_name": "DescriptionStyleModel",
            "_view_count": null,
            "_view_module": "@jupyter-widgets/base",
            "_view_module_version": "1.2.0",
            "_view_name": "StyleView",
            "description_width": ""
          }
        },
        "4f4cf5c1169e439c97ca6221e613ff4b": {
          "model_module": "@jupyter-widgets/base",
          "model_name": "LayoutModel",
          "model_module_version": "1.2.0",
          "state": {
            "_model_module": "@jupyter-widgets/base",
            "_model_module_version": "1.2.0",
            "_model_name": "LayoutModel",
            "_view_count": null,
            "_view_module": "@jupyter-widgets/base",
            "_view_module_version": "1.2.0",
            "_view_name": "LayoutView",
            "align_content": null,
            "align_items": null,
            "align_self": null,
            "border": null,
            "bottom": null,
            "display": null,
            "flex": null,
            "flex_flow": null,
            "grid_area": null,
            "grid_auto_columns": null,
            "grid_auto_flow": null,
            "grid_auto_rows": null,
            "grid_column": null,
            "grid_gap": null,
            "grid_row": null,
            "grid_template_areas": null,
            "grid_template_columns": null,
            "grid_template_rows": null,
            "height": null,
            "justify_content": null,
            "justify_items": null,
            "left": null,
            "margin": null,
            "max_height": null,
            "max_width": null,
            "min_height": null,
            "min_width": null,
            "object_fit": null,
            "object_position": null,
            "order": null,
            "overflow": null,
            "overflow_x": null,
            "overflow_y": null,
            "padding": null,
            "right": null,
            "top": null,
            "visibility": null,
            "width": null
          }
        },
        "c8ed85cd418549bfa2bc5c3fa44c7491": {
          "model_module": "@jupyter-widgets/controls",
          "model_name": "ProgressStyleModel",
          "model_module_version": "1.5.0",
          "state": {
            "_model_module": "@jupyter-widgets/controls",
            "_model_module_version": "1.5.0",
            "_model_name": "ProgressStyleModel",
            "_view_count": null,
            "_view_module": "@jupyter-widgets/base",
            "_view_module_version": "1.2.0",
            "_view_name": "StyleView",
            "bar_color": null,
            "description_width": ""
          }
        },
        "3e28f86abc2f4c10b010a9c53d8dd31a": {
          "model_module": "@jupyter-widgets/base",
          "model_name": "LayoutModel",
          "model_module_version": "1.2.0",
          "state": {
            "_model_module": "@jupyter-widgets/base",
            "_model_module_version": "1.2.0",
            "_model_name": "LayoutModel",
            "_view_count": null,
            "_view_module": "@jupyter-widgets/base",
            "_view_module_version": "1.2.0",
            "_view_name": "LayoutView",
            "align_content": null,
            "align_items": null,
            "align_self": null,
            "border": null,
            "bottom": null,
            "display": null,
            "flex": null,
            "flex_flow": null,
            "grid_area": null,
            "grid_auto_columns": null,
            "grid_auto_flow": null,
            "grid_auto_rows": null,
            "grid_column": null,
            "grid_gap": null,
            "grid_row": null,
            "grid_template_areas": null,
            "grid_template_columns": null,
            "grid_template_rows": null,
            "height": null,
            "justify_content": null,
            "justify_items": null,
            "left": null,
            "margin": null,
            "max_height": null,
            "max_width": null,
            "min_height": null,
            "min_width": null,
            "object_fit": null,
            "object_position": null,
            "order": null,
            "overflow": null,
            "overflow_x": null,
            "overflow_y": null,
            "padding": null,
            "right": null,
            "top": null,
            "visibility": null,
            "width": null
          }
        },
        "9ea8f9dd0d1c4cbf949a558c23124cf2": {
          "model_module": "@jupyter-widgets/controls",
          "model_name": "DescriptionStyleModel",
          "model_module_version": "1.5.0",
          "state": {
            "_model_module": "@jupyter-widgets/controls",
            "_model_module_version": "1.5.0",
            "_model_name": "DescriptionStyleModel",
            "_view_count": null,
            "_view_module": "@jupyter-widgets/base",
            "_view_module_version": "1.2.0",
            "_view_name": "StyleView",
            "description_width": ""
          }
        },
        "5b4ccdd3c25a45aa821a71ede0cd52b7": {
          "model_module": "@jupyter-widgets/controls",
          "model_name": "HBoxModel",
          "model_module_version": "1.5.0",
          "state": {
            "_dom_classes": [],
            "_model_module": "@jupyter-widgets/controls",
            "_model_module_version": "1.5.0",
            "_model_name": "HBoxModel",
            "_view_count": null,
            "_view_module": "@jupyter-widgets/controls",
            "_view_module_version": "1.5.0",
            "_view_name": "HBoxView",
            "box_style": "",
            "children": [
              "IPY_MODEL_80ce83b5ff014a34b6d5aceef33a771b",
              "IPY_MODEL_243caa144d584ab0b0c03366b49859f8",
              "IPY_MODEL_678b5b1a57954d9794e3b27521599187"
            ],
            "layout": "IPY_MODEL_9231d6b1588b45d294be628bcfcdfd82"
          }
        },
        "80ce83b5ff014a34b6d5aceef33a771b": {
          "model_module": "@jupyter-widgets/controls",
          "model_name": "HTMLModel",
          "model_module_version": "1.5.0",
          "state": {
            "_dom_classes": [],
            "_model_module": "@jupyter-widgets/controls",
            "_model_module_version": "1.5.0",
            "_model_name": "HTMLModel",
            "_view_count": null,
            "_view_module": "@jupyter-widgets/controls",
            "_view_module_version": "1.5.0",
            "_view_name": "HTMLView",
            "description": "",
            "description_tooltip": null,
            "layout": "IPY_MODEL_8f6a230e7f87404f9daa5e0eda688226",
            "placeholder": "​",
            "style": "IPY_MODEL_f32cf17dc1c447bbb5b8ff8d58793ed0",
            "value": "README.md: 100%"
          }
        },
        "243caa144d584ab0b0c03366b49859f8": {
          "model_module": "@jupyter-widgets/controls",
          "model_name": "FloatProgressModel",
          "model_module_version": "1.5.0",
          "state": {
            "_dom_classes": [],
            "_model_module": "@jupyter-widgets/controls",
            "_model_module_version": "1.5.0",
            "_model_name": "FloatProgressModel",
            "_view_count": null,
            "_view_module": "@jupyter-widgets/controls",
            "_view_module_version": "1.5.0",
            "_view_name": "ProgressView",
            "bar_style": "success",
            "description": "",
            "description_tooltip": null,
            "layout": "IPY_MODEL_b47b99f9309a465e9acfa163904d59e8",
            "max": 94551,
            "min": 0,
            "orientation": "horizontal",
            "style": "IPY_MODEL_43cb172df926418a98703ce175037f59",
            "value": 94551
          }
        },
        "678b5b1a57954d9794e3b27521599187": {
          "model_module": "@jupyter-widgets/controls",
          "model_name": "HTMLModel",
          "model_module_version": "1.5.0",
          "state": {
            "_dom_classes": [],
            "_model_module": "@jupyter-widgets/controls",
            "_model_module_version": "1.5.0",
            "_model_name": "HTMLModel",
            "_view_count": null,
            "_view_module": "@jupyter-widgets/controls",
            "_view_module_version": "1.5.0",
            "_view_name": "HTMLView",
            "description": "",
            "description_tooltip": null,
            "layout": "IPY_MODEL_098c2dbbd85147279a9f66b3c28c3c6d",
            "placeholder": "​",
            "style": "IPY_MODEL_9bbf3b3c7ece40cc99d6e2275215d1e2",
            "value": " 94.6k/94.6k [00:00&lt;00:00, 5.02MB/s]"
          }
        },
        "9231d6b1588b45d294be628bcfcdfd82": {
          "model_module": "@jupyter-widgets/base",
          "model_name": "LayoutModel",
          "model_module_version": "1.2.0",
          "state": {
            "_model_module": "@jupyter-widgets/base",
            "_model_module_version": "1.2.0",
            "_model_name": "LayoutModel",
            "_view_count": null,
            "_view_module": "@jupyter-widgets/base",
            "_view_module_version": "1.2.0",
            "_view_name": "LayoutView",
            "align_content": null,
            "align_items": null,
            "align_self": null,
            "border": null,
            "bottom": null,
            "display": null,
            "flex": null,
            "flex_flow": null,
            "grid_area": null,
            "grid_auto_columns": null,
            "grid_auto_flow": null,
            "grid_auto_rows": null,
            "grid_column": null,
            "grid_gap": null,
            "grid_row": null,
            "grid_template_areas": null,
            "grid_template_columns": null,
            "grid_template_rows": null,
            "height": null,
            "justify_content": null,
            "justify_items": null,
            "left": null,
            "margin": null,
            "max_height": null,
            "max_width": null,
            "min_height": null,
            "min_width": null,
            "object_fit": null,
            "object_position": null,
            "order": null,
            "overflow": null,
            "overflow_x": null,
            "overflow_y": null,
            "padding": null,
            "right": null,
            "top": null,
            "visibility": null,
            "width": null
          }
        },
        "8f6a230e7f87404f9daa5e0eda688226": {
          "model_module": "@jupyter-widgets/base",
          "model_name": "LayoutModel",
          "model_module_version": "1.2.0",
          "state": {
            "_model_module": "@jupyter-widgets/base",
            "_model_module_version": "1.2.0",
            "_model_name": "LayoutModel",
            "_view_count": null,
            "_view_module": "@jupyter-widgets/base",
            "_view_module_version": "1.2.0",
            "_view_name": "LayoutView",
            "align_content": null,
            "align_items": null,
            "align_self": null,
            "border": null,
            "bottom": null,
            "display": null,
            "flex": null,
            "flex_flow": null,
            "grid_area": null,
            "grid_auto_columns": null,
            "grid_auto_flow": null,
            "grid_auto_rows": null,
            "grid_column": null,
            "grid_gap": null,
            "grid_row": null,
            "grid_template_areas": null,
            "grid_template_columns": null,
            "grid_template_rows": null,
            "height": null,
            "justify_content": null,
            "justify_items": null,
            "left": null,
            "margin": null,
            "max_height": null,
            "max_width": null,
            "min_height": null,
            "min_width": null,
            "object_fit": null,
            "object_position": null,
            "order": null,
            "overflow": null,
            "overflow_x": null,
            "overflow_y": null,
            "padding": null,
            "right": null,
            "top": null,
            "visibility": null,
            "width": null
          }
        },
        "f32cf17dc1c447bbb5b8ff8d58793ed0": {
          "model_module": "@jupyter-widgets/controls",
          "model_name": "DescriptionStyleModel",
          "model_module_version": "1.5.0",
          "state": {
            "_model_module": "@jupyter-widgets/controls",
            "_model_module_version": "1.5.0",
            "_model_name": "DescriptionStyleModel",
            "_view_count": null,
            "_view_module": "@jupyter-widgets/base",
            "_view_module_version": "1.2.0",
            "_view_name": "StyleView",
            "description_width": ""
          }
        },
        "b47b99f9309a465e9acfa163904d59e8": {
          "model_module": "@jupyter-widgets/base",
          "model_name": "LayoutModel",
          "model_module_version": "1.2.0",
          "state": {
            "_model_module": "@jupyter-widgets/base",
            "_model_module_version": "1.2.0",
            "_model_name": "LayoutModel",
            "_view_count": null,
            "_view_module": "@jupyter-widgets/base",
            "_view_module_version": "1.2.0",
            "_view_name": "LayoutView",
            "align_content": null,
            "align_items": null,
            "align_self": null,
            "border": null,
            "bottom": null,
            "display": null,
            "flex": null,
            "flex_flow": null,
            "grid_area": null,
            "grid_auto_columns": null,
            "grid_auto_flow": null,
            "grid_auto_rows": null,
            "grid_column": null,
            "grid_gap": null,
            "grid_row": null,
            "grid_template_areas": null,
            "grid_template_columns": null,
            "grid_template_rows": null,
            "height": null,
            "justify_content": null,
            "justify_items": null,
            "left": null,
            "margin": null,
            "max_height": null,
            "max_width": null,
            "min_height": null,
            "min_width": null,
            "object_fit": null,
            "object_position": null,
            "order": null,
            "overflow": null,
            "overflow_x": null,
            "overflow_y": null,
            "padding": null,
            "right": null,
            "top": null,
            "visibility": null,
            "width": null
          }
        },
        "43cb172df926418a98703ce175037f59": {
          "model_module": "@jupyter-widgets/controls",
          "model_name": "ProgressStyleModel",
          "model_module_version": "1.5.0",
          "state": {
            "_model_module": "@jupyter-widgets/controls",
            "_model_module_version": "1.5.0",
            "_model_name": "ProgressStyleModel",
            "_view_count": null,
            "_view_module": "@jupyter-widgets/base",
            "_view_module_version": "1.2.0",
            "_view_name": "StyleView",
            "bar_color": null,
            "description_width": ""
          }
        },
        "098c2dbbd85147279a9f66b3c28c3c6d": {
          "model_module": "@jupyter-widgets/base",
          "model_name": "LayoutModel",
          "model_module_version": "1.2.0",
          "state": {
            "_model_module": "@jupyter-widgets/base",
            "_model_module_version": "1.2.0",
            "_model_name": "LayoutModel",
            "_view_count": null,
            "_view_module": "@jupyter-widgets/base",
            "_view_module_version": "1.2.0",
            "_view_name": "LayoutView",
            "align_content": null,
            "align_items": null,
            "align_self": null,
            "border": null,
            "bottom": null,
            "display": null,
            "flex": null,
            "flex_flow": null,
            "grid_area": null,
            "grid_auto_columns": null,
            "grid_auto_flow": null,
            "grid_auto_rows": null,
            "grid_column": null,
            "grid_gap": null,
            "grid_row": null,
            "grid_template_areas": null,
            "grid_template_columns": null,
            "grid_template_rows": null,
            "height": null,
            "justify_content": null,
            "justify_items": null,
            "left": null,
            "margin": null,
            "max_height": null,
            "max_width": null,
            "min_height": null,
            "min_width": null,
            "object_fit": null,
            "object_position": null,
            "order": null,
            "overflow": null,
            "overflow_x": null,
            "overflow_y": null,
            "padding": null,
            "right": null,
            "top": null,
            "visibility": null,
            "width": null
          }
        },
        "9bbf3b3c7ece40cc99d6e2275215d1e2": {
          "model_module": "@jupyter-widgets/controls",
          "model_name": "DescriptionStyleModel",
          "model_module_version": "1.5.0",
          "state": {
            "_model_module": "@jupyter-widgets/controls",
            "_model_module_version": "1.5.0",
            "_model_name": "DescriptionStyleModel",
            "_view_count": null,
            "_view_module": "@jupyter-widgets/base",
            "_view_module_version": "1.2.0",
            "_view_name": "StyleView",
            "description_width": ""
          }
        },
        "757f3dfb21e24b2eb295ba5de10fd45b": {
          "model_module": "@jupyter-widgets/controls",
          "model_name": "HBoxModel",
          "model_module_version": "1.5.0",
          "state": {
            "_dom_classes": [],
            "_model_module": "@jupyter-widgets/controls",
            "_model_module_version": "1.5.0",
            "_model_name": "HBoxModel",
            "_view_count": null,
            "_view_module": "@jupyter-widgets/controls",
            "_view_module_version": "1.5.0",
            "_view_name": "HBoxView",
            "box_style": "",
            "children": [
              "IPY_MODEL_efb26688c604427286d6a92f2d442581",
              "IPY_MODEL_69cfcfd3e9db4fe9a9c97241408a11df",
              "IPY_MODEL_7c87df7bc7b54862afc4df2fde1efbd9"
            ],
            "layout": "IPY_MODEL_674a628bbb0c4c74b1f79121b8a5cb7a"
          }
        },
        "efb26688c604427286d6a92f2d442581": {
          "model_module": "@jupyter-widgets/controls",
          "model_name": "HTMLModel",
          "model_module_version": "1.5.0",
          "state": {
            "_dom_classes": [],
            "_model_module": "@jupyter-widgets/controls",
            "_model_module_version": "1.5.0",
            "_model_name": "HTMLModel",
            "_view_count": null,
            "_view_module": "@jupyter-widgets/controls",
            "_view_module_version": "1.5.0",
            "_view_name": "HTMLView",
            "description": "",
            "description_tooltip": null,
            "layout": "IPY_MODEL_8bb86e03cd6441afa06428424320ee78",
            "placeholder": "​",
            "style": "IPY_MODEL_07a15412f0e8465dab546a42627d38fe",
            "value": "sentence_bert_config.json: 100%"
          }
        },
        "69cfcfd3e9db4fe9a9c97241408a11df": {
          "model_module": "@jupyter-widgets/controls",
          "model_name": "FloatProgressModel",
          "model_module_version": "1.5.0",
          "state": {
            "_dom_classes": [],
            "_model_module": "@jupyter-widgets/controls",
            "_model_module_version": "1.5.0",
            "_model_name": "FloatProgressModel",
            "_view_count": null,
            "_view_module": "@jupyter-widgets/controls",
            "_view_module_version": "1.5.0",
            "_view_name": "ProgressView",
            "bar_style": "success",
            "description": "",
            "description_tooltip": null,
            "layout": "IPY_MODEL_e7f0e7a194484be08de1677d4746d6f6",
            "max": 52,
            "min": 0,
            "orientation": "horizontal",
            "style": "IPY_MODEL_d70999147cba43db80484d0b471de963",
            "value": 52
          }
        },
        "7c87df7bc7b54862afc4df2fde1efbd9": {
          "model_module": "@jupyter-widgets/controls",
          "model_name": "HTMLModel",
          "model_module_version": "1.5.0",
          "state": {
            "_dom_classes": [],
            "_model_module": "@jupyter-widgets/controls",
            "_model_module_version": "1.5.0",
            "_model_name": "HTMLModel",
            "_view_count": null,
            "_view_module": "@jupyter-widgets/controls",
            "_view_module_version": "1.5.0",
            "_view_name": "HTMLView",
            "description": "",
            "description_tooltip": null,
            "layout": "IPY_MODEL_b720c97b0ffe459ba2802934948f0019",
            "placeholder": "​",
            "style": "IPY_MODEL_a0eff43ee5d7472f96884f36ae4e7604",
            "value": " 52.0/52.0 [00:00&lt;00:00, 4.35kB/s]"
          }
        },
        "674a628bbb0c4c74b1f79121b8a5cb7a": {
          "model_module": "@jupyter-widgets/base",
          "model_name": "LayoutModel",
          "model_module_version": "1.2.0",
          "state": {
            "_model_module": "@jupyter-widgets/base",
            "_model_module_version": "1.2.0",
            "_model_name": "LayoutModel",
            "_view_count": null,
            "_view_module": "@jupyter-widgets/base",
            "_view_module_version": "1.2.0",
            "_view_name": "LayoutView",
            "align_content": null,
            "align_items": null,
            "align_self": null,
            "border": null,
            "bottom": null,
            "display": null,
            "flex": null,
            "flex_flow": null,
            "grid_area": null,
            "grid_auto_columns": null,
            "grid_auto_flow": null,
            "grid_auto_rows": null,
            "grid_column": null,
            "grid_gap": null,
            "grid_row": null,
            "grid_template_areas": null,
            "grid_template_columns": null,
            "grid_template_rows": null,
            "height": null,
            "justify_content": null,
            "justify_items": null,
            "left": null,
            "margin": null,
            "max_height": null,
            "max_width": null,
            "min_height": null,
            "min_width": null,
            "object_fit": null,
            "object_position": null,
            "order": null,
            "overflow": null,
            "overflow_x": null,
            "overflow_y": null,
            "padding": null,
            "right": null,
            "top": null,
            "visibility": null,
            "width": null
          }
        },
        "8bb86e03cd6441afa06428424320ee78": {
          "model_module": "@jupyter-widgets/base",
          "model_name": "LayoutModel",
          "model_module_version": "1.2.0",
          "state": {
            "_model_module": "@jupyter-widgets/base",
            "_model_module_version": "1.2.0",
            "_model_name": "LayoutModel",
            "_view_count": null,
            "_view_module": "@jupyter-widgets/base",
            "_view_module_version": "1.2.0",
            "_view_name": "LayoutView",
            "align_content": null,
            "align_items": null,
            "align_self": null,
            "border": null,
            "bottom": null,
            "display": null,
            "flex": null,
            "flex_flow": null,
            "grid_area": null,
            "grid_auto_columns": null,
            "grid_auto_flow": null,
            "grid_auto_rows": null,
            "grid_column": null,
            "grid_gap": null,
            "grid_row": null,
            "grid_template_areas": null,
            "grid_template_columns": null,
            "grid_template_rows": null,
            "height": null,
            "justify_content": null,
            "justify_items": null,
            "left": null,
            "margin": null,
            "max_height": null,
            "max_width": null,
            "min_height": null,
            "min_width": null,
            "object_fit": null,
            "object_position": null,
            "order": null,
            "overflow": null,
            "overflow_x": null,
            "overflow_y": null,
            "padding": null,
            "right": null,
            "top": null,
            "visibility": null,
            "width": null
          }
        },
        "07a15412f0e8465dab546a42627d38fe": {
          "model_module": "@jupyter-widgets/controls",
          "model_name": "DescriptionStyleModel",
          "model_module_version": "1.5.0",
          "state": {
            "_model_module": "@jupyter-widgets/controls",
            "_model_module_version": "1.5.0",
            "_model_name": "DescriptionStyleModel",
            "_view_count": null,
            "_view_module": "@jupyter-widgets/base",
            "_view_module_version": "1.2.0",
            "_view_name": "StyleView",
            "description_width": ""
          }
        },
        "e7f0e7a194484be08de1677d4746d6f6": {
          "model_module": "@jupyter-widgets/base",
          "model_name": "LayoutModel",
          "model_module_version": "1.2.0",
          "state": {
            "_model_module": "@jupyter-widgets/base",
            "_model_module_version": "1.2.0",
            "_model_name": "LayoutModel",
            "_view_count": null,
            "_view_module": "@jupyter-widgets/base",
            "_view_module_version": "1.2.0",
            "_view_name": "LayoutView",
            "align_content": null,
            "align_items": null,
            "align_self": null,
            "border": null,
            "bottom": null,
            "display": null,
            "flex": null,
            "flex_flow": null,
            "grid_area": null,
            "grid_auto_columns": null,
            "grid_auto_flow": null,
            "grid_auto_rows": null,
            "grid_column": null,
            "grid_gap": null,
            "grid_row": null,
            "grid_template_areas": null,
            "grid_template_columns": null,
            "grid_template_rows": null,
            "height": null,
            "justify_content": null,
            "justify_items": null,
            "left": null,
            "margin": null,
            "max_height": null,
            "max_width": null,
            "min_height": null,
            "min_width": null,
            "object_fit": null,
            "object_position": null,
            "order": null,
            "overflow": null,
            "overflow_x": null,
            "overflow_y": null,
            "padding": null,
            "right": null,
            "top": null,
            "visibility": null,
            "width": null
          }
        },
        "d70999147cba43db80484d0b471de963": {
          "model_module": "@jupyter-widgets/controls",
          "model_name": "ProgressStyleModel",
          "model_module_version": "1.5.0",
          "state": {
            "_model_module": "@jupyter-widgets/controls",
            "_model_module_version": "1.5.0",
            "_model_name": "ProgressStyleModel",
            "_view_count": null,
            "_view_module": "@jupyter-widgets/base",
            "_view_module_version": "1.2.0",
            "_view_name": "StyleView",
            "bar_color": null,
            "description_width": ""
          }
        },
        "b720c97b0ffe459ba2802934948f0019": {
          "model_module": "@jupyter-widgets/base",
          "model_name": "LayoutModel",
          "model_module_version": "1.2.0",
          "state": {
            "_model_module": "@jupyter-widgets/base",
            "_model_module_version": "1.2.0",
            "_model_name": "LayoutModel",
            "_view_count": null,
            "_view_module": "@jupyter-widgets/base",
            "_view_module_version": "1.2.0",
            "_view_name": "LayoutView",
            "align_content": null,
            "align_items": null,
            "align_self": null,
            "border": null,
            "bottom": null,
            "display": null,
            "flex": null,
            "flex_flow": null,
            "grid_area": null,
            "grid_auto_columns": null,
            "grid_auto_flow": null,
            "grid_auto_rows": null,
            "grid_column": null,
            "grid_gap": null,
            "grid_row": null,
            "grid_template_areas": null,
            "grid_template_columns": null,
            "grid_template_rows": null,
            "height": null,
            "justify_content": null,
            "justify_items": null,
            "left": null,
            "margin": null,
            "max_height": null,
            "max_width": null,
            "min_height": null,
            "min_width": null,
            "object_fit": null,
            "object_position": null,
            "order": null,
            "overflow": null,
            "overflow_x": null,
            "overflow_y": null,
            "padding": null,
            "right": null,
            "top": null,
            "visibility": null,
            "width": null
          }
        },
        "a0eff43ee5d7472f96884f36ae4e7604": {
          "model_module": "@jupyter-widgets/controls",
          "model_name": "DescriptionStyleModel",
          "model_module_version": "1.5.0",
          "state": {
            "_model_module": "@jupyter-widgets/controls",
            "_model_module_version": "1.5.0",
            "_model_name": "DescriptionStyleModel",
            "_view_count": null,
            "_view_module": "@jupyter-widgets/base",
            "_view_module_version": "1.2.0",
            "_view_name": "StyleView",
            "description_width": ""
          }
        },
        "ed8deeb60e3747a49ee114e013b733f4": {
          "model_module": "@jupyter-widgets/controls",
          "model_name": "HBoxModel",
          "model_module_version": "1.5.0",
          "state": {
            "_dom_classes": [],
            "_model_module": "@jupyter-widgets/controls",
            "_model_module_version": "1.5.0",
            "_model_name": "HBoxModel",
            "_view_count": null,
            "_view_module": "@jupyter-widgets/controls",
            "_view_module_version": "1.5.0",
            "_view_name": "HBoxView",
            "box_style": "",
            "children": [
              "IPY_MODEL_9f2c79bda9bf4ad1b3d8d0ed9052f4bb",
              "IPY_MODEL_2b8893d014fb4866bdf5e231e2f03bf0",
              "IPY_MODEL_4325cc044a48442f85e56d89356da0df"
            ],
            "layout": "IPY_MODEL_b3da9a057b244456b1ff5ebbcbd04094"
          }
        },
        "9f2c79bda9bf4ad1b3d8d0ed9052f4bb": {
          "model_module": "@jupyter-widgets/controls",
          "model_name": "HTMLModel",
          "model_module_version": "1.5.0",
          "state": {
            "_dom_classes": [],
            "_model_module": "@jupyter-widgets/controls",
            "_model_module_version": "1.5.0",
            "_model_name": "HTMLModel",
            "_view_count": null,
            "_view_module": "@jupyter-widgets/controls",
            "_view_module_version": "1.5.0",
            "_view_name": "HTMLView",
            "description": "",
            "description_tooltip": null,
            "layout": "IPY_MODEL_460d2d265e914f5da9a843fb3d96f53a",
            "placeholder": "​",
            "style": "IPY_MODEL_a4b8db2a03194cbdb90a4850740caf4c",
            "value": "config.json: 100%"
          }
        },
        "2b8893d014fb4866bdf5e231e2f03bf0": {
          "model_module": "@jupyter-widgets/controls",
          "model_name": "FloatProgressModel",
          "model_module_version": "1.5.0",
          "state": {
            "_dom_classes": [],
            "_model_module": "@jupyter-widgets/controls",
            "_model_module_version": "1.5.0",
            "_model_name": "FloatProgressModel",
            "_view_count": null,
            "_view_module": "@jupyter-widgets/controls",
            "_view_module_version": "1.5.0",
            "_view_name": "ProgressView",
            "bar_style": "success",
            "description": "",
            "description_tooltip": null,
            "layout": "IPY_MODEL_897b1eaa9b01483b93a0a737aa57f517",
            "max": 777,
            "min": 0,
            "orientation": "horizontal",
            "style": "IPY_MODEL_09e2f43a35af4f7a885fb61c76fe298a",
            "value": 777
          }
        },
        "4325cc044a48442f85e56d89356da0df": {
          "model_module": "@jupyter-widgets/controls",
          "model_name": "HTMLModel",
          "model_module_version": "1.5.0",
          "state": {
            "_dom_classes": [],
            "_model_module": "@jupyter-widgets/controls",
            "_model_module_version": "1.5.0",
            "_model_name": "HTMLModel",
            "_view_count": null,
            "_view_module": "@jupyter-widgets/controls",
            "_view_module_version": "1.5.0",
            "_view_name": "HTMLView",
            "description": "",
            "description_tooltip": null,
            "layout": "IPY_MODEL_7ce03b33e11544bf94ea4e279b91820a",
            "placeholder": "​",
            "style": "IPY_MODEL_fe946428227e4e76abfb4d0cf702f0bb",
            "value": " 777/777 [00:00&lt;00:00, 53.4kB/s]"
          }
        },
        "b3da9a057b244456b1ff5ebbcbd04094": {
          "model_module": "@jupyter-widgets/base",
          "model_name": "LayoutModel",
          "model_module_version": "1.2.0",
          "state": {
            "_model_module": "@jupyter-widgets/base",
            "_model_module_version": "1.2.0",
            "_model_name": "LayoutModel",
            "_view_count": null,
            "_view_module": "@jupyter-widgets/base",
            "_view_module_version": "1.2.0",
            "_view_name": "LayoutView",
            "align_content": null,
            "align_items": null,
            "align_self": null,
            "border": null,
            "bottom": null,
            "display": null,
            "flex": null,
            "flex_flow": null,
            "grid_area": null,
            "grid_auto_columns": null,
            "grid_auto_flow": null,
            "grid_auto_rows": null,
            "grid_column": null,
            "grid_gap": null,
            "grid_row": null,
            "grid_template_areas": null,
            "grid_template_columns": null,
            "grid_template_rows": null,
            "height": null,
            "justify_content": null,
            "justify_items": null,
            "left": null,
            "margin": null,
            "max_height": null,
            "max_width": null,
            "min_height": null,
            "min_width": null,
            "object_fit": null,
            "object_position": null,
            "order": null,
            "overflow": null,
            "overflow_x": null,
            "overflow_y": null,
            "padding": null,
            "right": null,
            "top": null,
            "visibility": null,
            "width": null
          }
        },
        "460d2d265e914f5da9a843fb3d96f53a": {
          "model_module": "@jupyter-widgets/base",
          "model_name": "LayoutModel",
          "model_module_version": "1.2.0",
          "state": {
            "_model_module": "@jupyter-widgets/base",
            "_model_module_version": "1.2.0",
            "_model_name": "LayoutModel",
            "_view_count": null,
            "_view_module": "@jupyter-widgets/base",
            "_view_module_version": "1.2.0",
            "_view_name": "LayoutView",
            "align_content": null,
            "align_items": null,
            "align_self": null,
            "border": null,
            "bottom": null,
            "display": null,
            "flex": null,
            "flex_flow": null,
            "grid_area": null,
            "grid_auto_columns": null,
            "grid_auto_flow": null,
            "grid_auto_rows": null,
            "grid_column": null,
            "grid_gap": null,
            "grid_row": null,
            "grid_template_areas": null,
            "grid_template_columns": null,
            "grid_template_rows": null,
            "height": null,
            "justify_content": null,
            "justify_items": null,
            "left": null,
            "margin": null,
            "max_height": null,
            "max_width": null,
            "min_height": null,
            "min_width": null,
            "object_fit": null,
            "object_position": null,
            "order": null,
            "overflow": null,
            "overflow_x": null,
            "overflow_y": null,
            "padding": null,
            "right": null,
            "top": null,
            "visibility": null,
            "width": null
          }
        },
        "a4b8db2a03194cbdb90a4850740caf4c": {
          "model_module": "@jupyter-widgets/controls",
          "model_name": "DescriptionStyleModel",
          "model_module_version": "1.5.0",
          "state": {
            "_model_module": "@jupyter-widgets/controls",
            "_model_module_version": "1.5.0",
            "_model_name": "DescriptionStyleModel",
            "_view_count": null,
            "_view_module": "@jupyter-widgets/base",
            "_view_module_version": "1.2.0",
            "_view_name": "StyleView",
            "description_width": ""
          }
        },
        "897b1eaa9b01483b93a0a737aa57f517": {
          "model_module": "@jupyter-widgets/base",
          "model_name": "LayoutModel",
          "model_module_version": "1.2.0",
          "state": {
            "_model_module": "@jupyter-widgets/base",
            "_model_module_version": "1.2.0",
            "_model_name": "LayoutModel",
            "_view_count": null,
            "_view_module": "@jupyter-widgets/base",
            "_view_module_version": "1.2.0",
            "_view_name": "LayoutView",
            "align_content": null,
            "align_items": null,
            "align_self": null,
            "border": null,
            "bottom": null,
            "display": null,
            "flex": null,
            "flex_flow": null,
            "grid_area": null,
            "grid_auto_columns": null,
            "grid_auto_flow": null,
            "grid_auto_rows": null,
            "grid_column": null,
            "grid_gap": null,
            "grid_row": null,
            "grid_template_areas": null,
            "grid_template_columns": null,
            "grid_template_rows": null,
            "height": null,
            "justify_content": null,
            "justify_items": null,
            "left": null,
            "margin": null,
            "max_height": null,
            "max_width": null,
            "min_height": null,
            "min_width": null,
            "object_fit": null,
            "object_position": null,
            "order": null,
            "overflow": null,
            "overflow_x": null,
            "overflow_y": null,
            "padding": null,
            "right": null,
            "top": null,
            "visibility": null,
            "width": null
          }
        },
        "09e2f43a35af4f7a885fb61c76fe298a": {
          "model_module": "@jupyter-widgets/controls",
          "model_name": "ProgressStyleModel",
          "model_module_version": "1.5.0",
          "state": {
            "_model_module": "@jupyter-widgets/controls",
            "_model_module_version": "1.5.0",
            "_model_name": "ProgressStyleModel",
            "_view_count": null,
            "_view_module": "@jupyter-widgets/base",
            "_view_module_version": "1.2.0",
            "_view_name": "StyleView",
            "bar_color": null,
            "description_width": ""
          }
        },
        "7ce03b33e11544bf94ea4e279b91820a": {
          "model_module": "@jupyter-widgets/base",
          "model_name": "LayoutModel",
          "model_module_version": "1.2.0",
          "state": {
            "_model_module": "@jupyter-widgets/base",
            "_model_module_version": "1.2.0",
            "_model_name": "LayoutModel",
            "_view_count": null,
            "_view_module": "@jupyter-widgets/base",
            "_view_module_version": "1.2.0",
            "_view_name": "LayoutView",
            "align_content": null,
            "align_items": null,
            "align_self": null,
            "border": null,
            "bottom": null,
            "display": null,
            "flex": null,
            "flex_flow": null,
            "grid_area": null,
            "grid_auto_columns": null,
            "grid_auto_flow": null,
            "grid_auto_rows": null,
            "grid_column": null,
            "grid_gap": null,
            "grid_row": null,
            "grid_template_areas": null,
            "grid_template_columns": null,
            "grid_template_rows": null,
            "height": null,
            "justify_content": null,
            "justify_items": null,
            "left": null,
            "margin": null,
            "max_height": null,
            "max_width": null,
            "min_height": null,
            "min_width": null,
            "object_fit": null,
            "object_position": null,
            "order": null,
            "overflow": null,
            "overflow_x": null,
            "overflow_y": null,
            "padding": null,
            "right": null,
            "top": null,
            "visibility": null,
            "width": null
          }
        },
        "fe946428227e4e76abfb4d0cf702f0bb": {
          "model_module": "@jupyter-widgets/controls",
          "model_name": "DescriptionStyleModel",
          "model_module_version": "1.5.0",
          "state": {
            "_model_module": "@jupyter-widgets/controls",
            "_model_module_version": "1.5.0",
            "_model_name": "DescriptionStyleModel",
            "_view_count": null,
            "_view_module": "@jupyter-widgets/base",
            "_view_module_version": "1.2.0",
            "_view_name": "StyleView",
            "description_width": ""
          }
        },
        "6be3292dc80a451cb14cd4ed148e955a": {
          "model_module": "@jupyter-widgets/controls",
          "model_name": "HBoxModel",
          "model_module_version": "1.5.0",
          "state": {
            "_dom_classes": [],
            "_model_module": "@jupyter-widgets/controls",
            "_model_module_version": "1.5.0",
            "_model_name": "HBoxModel",
            "_view_count": null,
            "_view_module": "@jupyter-widgets/controls",
            "_view_module_version": "1.5.0",
            "_view_name": "HBoxView",
            "box_style": "",
            "children": [
              "IPY_MODEL_17cb4545319440029cdc1c6407c15762",
              "IPY_MODEL_6e830779a21042c695c08051d5941353",
              "IPY_MODEL_bfc48d98bb4940d7b6890d39f703363d"
            ],
            "layout": "IPY_MODEL_a6dee2f01be9493f865228251da753c7"
          }
        },
        "17cb4545319440029cdc1c6407c15762": {
          "model_module": "@jupyter-widgets/controls",
          "model_name": "HTMLModel",
          "model_module_version": "1.5.0",
          "state": {
            "_dom_classes": [],
            "_model_module": "@jupyter-widgets/controls",
            "_model_module_version": "1.5.0",
            "_model_name": "HTMLModel",
            "_view_count": null,
            "_view_module": "@jupyter-widgets/controls",
            "_view_module_version": "1.5.0",
            "_view_name": "HTMLView",
            "description": "",
            "description_tooltip": null,
            "layout": "IPY_MODEL_4b726f9aa9d444949d74021fcdca4df2",
            "placeholder": "​",
            "style": "IPY_MODEL_a0b73e1b225e4177b6c4644d61c964ea",
            "value": "model.safetensors: 100%"
          }
        },
        "6e830779a21042c695c08051d5941353": {
          "model_module": "@jupyter-widgets/controls",
          "model_name": "FloatProgressModel",
          "model_module_version": "1.5.0",
          "state": {
            "_dom_classes": [],
            "_model_module": "@jupyter-widgets/controls",
            "_model_module_version": "1.5.0",
            "_model_name": "FloatProgressModel",
            "_view_count": null,
            "_view_module": "@jupyter-widgets/controls",
            "_view_module_version": "1.5.0",
            "_view_name": "ProgressView",
            "bar_style": "success",
            "description": "",
            "description_tooltip": null,
            "layout": "IPY_MODEL_3116f1881f8f4d5180956515f893d254",
            "max": 437955512,
            "min": 0,
            "orientation": "horizontal",
            "style": "IPY_MODEL_3e6dd0b26f0e48c28162e5cfc7ab6e6b",
            "value": 437955512
          }
        },
        "bfc48d98bb4940d7b6890d39f703363d": {
          "model_module": "@jupyter-widgets/controls",
          "model_name": "HTMLModel",
          "model_module_version": "1.5.0",
          "state": {
            "_dom_classes": [],
            "_model_module": "@jupyter-widgets/controls",
            "_model_module_version": "1.5.0",
            "_model_name": "HTMLModel",
            "_view_count": null,
            "_view_module": "@jupyter-widgets/controls",
            "_view_module_version": "1.5.0",
            "_view_name": "HTMLView",
            "description": "",
            "description_tooltip": null,
            "layout": "IPY_MODEL_9d4cf9da5b7149769b601955087ee8c7",
            "placeholder": "​",
            "style": "IPY_MODEL_1819593b13f440c0b45e94a0b8ddadd8",
            "value": " 438M/438M [00:02&lt;00:00, 234MB/s]"
          }
        },
        "a6dee2f01be9493f865228251da753c7": {
          "model_module": "@jupyter-widgets/base",
          "model_name": "LayoutModel",
          "model_module_version": "1.2.0",
          "state": {
            "_model_module": "@jupyter-widgets/base",
            "_model_module_version": "1.2.0",
            "_model_name": "LayoutModel",
            "_view_count": null,
            "_view_module": "@jupyter-widgets/base",
            "_view_module_version": "1.2.0",
            "_view_name": "LayoutView",
            "align_content": null,
            "align_items": null,
            "align_self": null,
            "border": null,
            "bottom": null,
            "display": null,
            "flex": null,
            "flex_flow": null,
            "grid_area": null,
            "grid_auto_columns": null,
            "grid_auto_flow": null,
            "grid_auto_rows": null,
            "grid_column": null,
            "grid_gap": null,
            "grid_row": null,
            "grid_template_areas": null,
            "grid_template_columns": null,
            "grid_template_rows": null,
            "height": null,
            "justify_content": null,
            "justify_items": null,
            "left": null,
            "margin": null,
            "max_height": null,
            "max_width": null,
            "min_height": null,
            "min_width": null,
            "object_fit": null,
            "object_position": null,
            "order": null,
            "overflow": null,
            "overflow_x": null,
            "overflow_y": null,
            "padding": null,
            "right": null,
            "top": null,
            "visibility": null,
            "width": null
          }
        },
        "4b726f9aa9d444949d74021fcdca4df2": {
          "model_module": "@jupyter-widgets/base",
          "model_name": "LayoutModel",
          "model_module_version": "1.2.0",
          "state": {
            "_model_module": "@jupyter-widgets/base",
            "_model_module_version": "1.2.0",
            "_model_name": "LayoutModel",
            "_view_count": null,
            "_view_module": "@jupyter-widgets/base",
            "_view_module_version": "1.2.0",
            "_view_name": "LayoutView",
            "align_content": null,
            "align_items": null,
            "align_self": null,
            "border": null,
            "bottom": null,
            "display": null,
            "flex": null,
            "flex_flow": null,
            "grid_area": null,
            "grid_auto_columns": null,
            "grid_auto_flow": null,
            "grid_auto_rows": null,
            "grid_column": null,
            "grid_gap": null,
            "grid_row": null,
            "grid_template_areas": null,
            "grid_template_columns": null,
            "grid_template_rows": null,
            "height": null,
            "justify_content": null,
            "justify_items": null,
            "left": null,
            "margin": null,
            "max_height": null,
            "max_width": null,
            "min_height": null,
            "min_width": null,
            "object_fit": null,
            "object_position": null,
            "order": null,
            "overflow": null,
            "overflow_x": null,
            "overflow_y": null,
            "padding": null,
            "right": null,
            "top": null,
            "visibility": null,
            "width": null
          }
        },
        "a0b73e1b225e4177b6c4644d61c964ea": {
          "model_module": "@jupyter-widgets/controls",
          "model_name": "DescriptionStyleModel",
          "model_module_version": "1.5.0",
          "state": {
            "_model_module": "@jupyter-widgets/controls",
            "_model_module_version": "1.5.0",
            "_model_name": "DescriptionStyleModel",
            "_view_count": null,
            "_view_module": "@jupyter-widgets/base",
            "_view_module_version": "1.2.0",
            "_view_name": "StyleView",
            "description_width": ""
          }
        },
        "3116f1881f8f4d5180956515f893d254": {
          "model_module": "@jupyter-widgets/base",
          "model_name": "LayoutModel",
          "model_module_version": "1.2.0",
          "state": {
            "_model_module": "@jupyter-widgets/base",
            "_model_module_version": "1.2.0",
            "_model_name": "LayoutModel",
            "_view_count": null,
            "_view_module": "@jupyter-widgets/base",
            "_view_module_version": "1.2.0",
            "_view_name": "LayoutView",
            "align_content": null,
            "align_items": null,
            "align_self": null,
            "border": null,
            "bottom": null,
            "display": null,
            "flex": null,
            "flex_flow": null,
            "grid_area": null,
            "grid_auto_columns": null,
            "grid_auto_flow": null,
            "grid_auto_rows": null,
            "grid_column": null,
            "grid_gap": null,
            "grid_row": null,
            "grid_template_areas": null,
            "grid_template_columns": null,
            "grid_template_rows": null,
            "height": null,
            "justify_content": null,
            "justify_items": null,
            "left": null,
            "margin": null,
            "max_height": null,
            "max_width": null,
            "min_height": null,
            "min_width": null,
            "object_fit": null,
            "object_position": null,
            "order": null,
            "overflow": null,
            "overflow_x": null,
            "overflow_y": null,
            "padding": null,
            "right": null,
            "top": null,
            "visibility": null,
            "width": null
          }
        },
        "3e6dd0b26f0e48c28162e5cfc7ab6e6b": {
          "model_module": "@jupyter-widgets/controls",
          "model_name": "ProgressStyleModel",
          "model_module_version": "1.5.0",
          "state": {
            "_model_module": "@jupyter-widgets/controls",
            "_model_module_version": "1.5.0",
            "_model_name": "ProgressStyleModel",
            "_view_count": null,
            "_view_module": "@jupyter-widgets/base",
            "_view_module_version": "1.2.0",
            "_view_name": "StyleView",
            "bar_color": null,
            "description_width": ""
          }
        },
        "9d4cf9da5b7149769b601955087ee8c7": {
          "model_module": "@jupyter-widgets/base",
          "model_name": "LayoutModel",
          "model_module_version": "1.2.0",
          "state": {
            "_model_module": "@jupyter-widgets/base",
            "_model_module_version": "1.2.0",
            "_model_name": "LayoutModel",
            "_view_count": null,
            "_view_module": "@jupyter-widgets/base",
            "_view_module_version": "1.2.0",
            "_view_name": "LayoutView",
            "align_content": null,
            "align_items": null,
            "align_self": null,
            "border": null,
            "bottom": null,
            "display": null,
            "flex": null,
            "flex_flow": null,
            "grid_area": null,
            "grid_auto_columns": null,
            "grid_auto_flow": null,
            "grid_auto_rows": null,
            "grid_column": null,
            "grid_gap": null,
            "grid_row": null,
            "grid_template_areas": null,
            "grid_template_columns": null,
            "grid_template_rows": null,
            "height": null,
            "justify_content": null,
            "justify_items": null,
            "left": null,
            "margin": null,
            "max_height": null,
            "max_width": null,
            "min_height": null,
            "min_width": null,
            "object_fit": null,
            "object_position": null,
            "order": null,
            "overflow": null,
            "overflow_x": null,
            "overflow_y": null,
            "padding": null,
            "right": null,
            "top": null,
            "visibility": null,
            "width": null
          }
        },
        "1819593b13f440c0b45e94a0b8ddadd8": {
          "model_module": "@jupyter-widgets/controls",
          "model_name": "DescriptionStyleModel",
          "model_module_version": "1.5.0",
          "state": {
            "_model_module": "@jupyter-widgets/controls",
            "_model_module_version": "1.5.0",
            "_model_name": "DescriptionStyleModel",
            "_view_count": null,
            "_view_module": "@jupyter-widgets/base",
            "_view_module_version": "1.2.0",
            "_view_name": "StyleView",
            "description_width": ""
          }
        },
        "954d5fb37c264aa5b9bc9294c926903d": {
          "model_module": "@jupyter-widgets/controls",
          "model_name": "HBoxModel",
          "model_module_version": "1.5.0",
          "state": {
            "_dom_classes": [],
            "_model_module": "@jupyter-widgets/controls",
            "_model_module_version": "1.5.0",
            "_model_name": "HBoxModel",
            "_view_count": null,
            "_view_module": "@jupyter-widgets/controls",
            "_view_module_version": "1.5.0",
            "_view_name": "HBoxView",
            "box_style": "",
            "children": [
              "IPY_MODEL_bd6e8c462d9d424cbdb184070616c853",
              "IPY_MODEL_0c3094a2031140068868c63b46a5b0d3",
              "IPY_MODEL_cc6ccc016a8a4d44a94aaa34ffdcd401"
            ],
            "layout": "IPY_MODEL_ecb22de1c15a482089e23d203a3b4697"
          }
        },
        "bd6e8c462d9d424cbdb184070616c853": {
          "model_module": "@jupyter-widgets/controls",
          "model_name": "HTMLModel",
          "model_module_version": "1.5.0",
          "state": {
            "_dom_classes": [],
            "_model_module": "@jupyter-widgets/controls",
            "_model_module_version": "1.5.0",
            "_model_name": "HTMLModel",
            "_view_count": null,
            "_view_module": "@jupyter-widgets/controls",
            "_view_module_version": "1.5.0",
            "_view_name": "HTMLView",
            "description": "",
            "description_tooltip": null,
            "layout": "IPY_MODEL_4f2ae3210b9a4c8eb2944f56c53b2db4",
            "placeholder": "​",
            "style": "IPY_MODEL_0b9989c418e44d33b3456c655986fdb7",
            "value": "tokenizer_config.json: 100%"
          }
        },
        "0c3094a2031140068868c63b46a5b0d3": {
          "model_module": "@jupyter-widgets/controls",
          "model_name": "FloatProgressModel",
          "model_module_version": "1.5.0",
          "state": {
            "_dom_classes": [],
            "_model_module": "@jupyter-widgets/controls",
            "_model_module_version": "1.5.0",
            "_model_name": "FloatProgressModel",
            "_view_count": null,
            "_view_module": "@jupyter-widgets/controls",
            "_view_module_version": "1.5.0",
            "_view_name": "ProgressView",
            "bar_style": "success",
            "description": "",
            "description_tooltip": null,
            "layout": "IPY_MODEL_e7734a473b0c407ea2d3846716c1ca95",
            "max": 366,
            "min": 0,
            "orientation": "horizontal",
            "style": "IPY_MODEL_bc3d9a38bd4246ecb2c0769cbb77d698",
            "value": 366
          }
        },
        "cc6ccc016a8a4d44a94aaa34ffdcd401": {
          "model_module": "@jupyter-widgets/controls",
          "model_name": "HTMLModel",
          "model_module_version": "1.5.0",
          "state": {
            "_dom_classes": [],
            "_model_module": "@jupyter-widgets/controls",
            "_model_module_version": "1.5.0",
            "_model_name": "HTMLModel",
            "_view_count": null,
            "_view_module": "@jupyter-widgets/controls",
            "_view_module_version": "1.5.0",
            "_view_name": "HTMLView",
            "description": "",
            "description_tooltip": null,
            "layout": "IPY_MODEL_bb0cdd688108457f967db208c5851325",
            "placeholder": "​",
            "style": "IPY_MODEL_ceb89949844c4aafba12618b64abe08c",
            "value": " 366/366 [00:00&lt;00:00, 29.5kB/s]"
          }
        },
        "ecb22de1c15a482089e23d203a3b4697": {
          "model_module": "@jupyter-widgets/base",
          "model_name": "LayoutModel",
          "model_module_version": "1.2.0",
          "state": {
            "_model_module": "@jupyter-widgets/base",
            "_model_module_version": "1.2.0",
            "_model_name": "LayoutModel",
            "_view_count": null,
            "_view_module": "@jupyter-widgets/base",
            "_view_module_version": "1.2.0",
            "_view_name": "LayoutView",
            "align_content": null,
            "align_items": null,
            "align_self": null,
            "border": null,
            "bottom": null,
            "display": null,
            "flex": null,
            "flex_flow": null,
            "grid_area": null,
            "grid_auto_columns": null,
            "grid_auto_flow": null,
            "grid_auto_rows": null,
            "grid_column": null,
            "grid_gap": null,
            "grid_row": null,
            "grid_template_areas": null,
            "grid_template_columns": null,
            "grid_template_rows": null,
            "height": null,
            "justify_content": null,
            "justify_items": null,
            "left": null,
            "margin": null,
            "max_height": null,
            "max_width": null,
            "min_height": null,
            "min_width": null,
            "object_fit": null,
            "object_position": null,
            "order": null,
            "overflow": null,
            "overflow_x": null,
            "overflow_y": null,
            "padding": null,
            "right": null,
            "top": null,
            "visibility": null,
            "width": null
          }
        },
        "4f2ae3210b9a4c8eb2944f56c53b2db4": {
          "model_module": "@jupyter-widgets/base",
          "model_name": "LayoutModel",
          "model_module_version": "1.2.0",
          "state": {
            "_model_module": "@jupyter-widgets/base",
            "_model_module_version": "1.2.0",
            "_model_name": "LayoutModel",
            "_view_count": null,
            "_view_module": "@jupyter-widgets/base",
            "_view_module_version": "1.2.0",
            "_view_name": "LayoutView",
            "align_content": null,
            "align_items": null,
            "align_self": null,
            "border": null,
            "bottom": null,
            "display": null,
            "flex": null,
            "flex_flow": null,
            "grid_area": null,
            "grid_auto_columns": null,
            "grid_auto_flow": null,
            "grid_auto_rows": null,
            "grid_column": null,
            "grid_gap": null,
            "grid_row": null,
            "grid_template_areas": null,
            "grid_template_columns": null,
            "grid_template_rows": null,
            "height": null,
            "justify_content": null,
            "justify_items": null,
            "left": null,
            "margin": null,
            "max_height": null,
            "max_width": null,
            "min_height": null,
            "min_width": null,
            "object_fit": null,
            "object_position": null,
            "order": null,
            "overflow": null,
            "overflow_x": null,
            "overflow_y": null,
            "padding": null,
            "right": null,
            "top": null,
            "visibility": null,
            "width": null
          }
        },
        "0b9989c418e44d33b3456c655986fdb7": {
          "model_module": "@jupyter-widgets/controls",
          "model_name": "DescriptionStyleModel",
          "model_module_version": "1.5.0",
          "state": {
            "_model_module": "@jupyter-widgets/controls",
            "_model_module_version": "1.5.0",
            "_model_name": "DescriptionStyleModel",
            "_view_count": null,
            "_view_module": "@jupyter-widgets/base",
            "_view_module_version": "1.2.0",
            "_view_name": "StyleView",
            "description_width": ""
          }
        },
        "e7734a473b0c407ea2d3846716c1ca95": {
          "model_module": "@jupyter-widgets/base",
          "model_name": "LayoutModel",
          "model_module_version": "1.2.0",
          "state": {
            "_model_module": "@jupyter-widgets/base",
            "_model_module_version": "1.2.0",
            "_model_name": "LayoutModel",
            "_view_count": null,
            "_view_module": "@jupyter-widgets/base",
            "_view_module_version": "1.2.0",
            "_view_name": "LayoutView",
            "align_content": null,
            "align_items": null,
            "align_self": null,
            "border": null,
            "bottom": null,
            "display": null,
            "flex": null,
            "flex_flow": null,
            "grid_area": null,
            "grid_auto_columns": null,
            "grid_auto_flow": null,
            "grid_auto_rows": null,
            "grid_column": null,
            "grid_gap": null,
            "grid_row": null,
            "grid_template_areas": null,
            "grid_template_columns": null,
            "grid_template_rows": null,
            "height": null,
            "justify_content": null,
            "justify_items": null,
            "left": null,
            "margin": null,
            "max_height": null,
            "max_width": null,
            "min_height": null,
            "min_width": null,
            "object_fit": null,
            "object_position": null,
            "order": null,
            "overflow": null,
            "overflow_x": null,
            "overflow_y": null,
            "padding": null,
            "right": null,
            "top": null,
            "visibility": null,
            "width": null
          }
        },
        "bc3d9a38bd4246ecb2c0769cbb77d698": {
          "model_module": "@jupyter-widgets/controls",
          "model_name": "ProgressStyleModel",
          "model_module_version": "1.5.0",
          "state": {
            "_model_module": "@jupyter-widgets/controls",
            "_model_module_version": "1.5.0",
            "_model_name": "ProgressStyleModel",
            "_view_count": null,
            "_view_module": "@jupyter-widgets/base",
            "_view_module_version": "1.2.0",
            "_view_name": "StyleView",
            "bar_color": null,
            "description_width": ""
          }
        },
        "bb0cdd688108457f967db208c5851325": {
          "model_module": "@jupyter-widgets/base",
          "model_name": "LayoutModel",
          "model_module_version": "1.2.0",
          "state": {
            "_model_module": "@jupyter-widgets/base",
            "_model_module_version": "1.2.0",
            "_model_name": "LayoutModel",
            "_view_count": null,
            "_view_module": "@jupyter-widgets/base",
            "_view_module_version": "1.2.0",
            "_view_name": "LayoutView",
            "align_content": null,
            "align_items": null,
            "align_self": null,
            "border": null,
            "bottom": null,
            "display": null,
            "flex": null,
            "flex_flow": null,
            "grid_area": null,
            "grid_auto_columns": null,
            "grid_auto_flow": null,
            "grid_auto_rows": null,
            "grid_column": null,
            "grid_gap": null,
            "grid_row": null,
            "grid_template_areas": null,
            "grid_template_columns": null,
            "grid_template_rows": null,
            "height": null,
            "justify_content": null,
            "justify_items": null,
            "left": null,
            "margin": null,
            "max_height": null,
            "max_width": null,
            "min_height": null,
            "min_width": null,
            "object_fit": null,
            "object_position": null,
            "order": null,
            "overflow": null,
            "overflow_x": null,
            "overflow_y": null,
            "padding": null,
            "right": null,
            "top": null,
            "visibility": null,
            "width": null
          }
        },
        "ceb89949844c4aafba12618b64abe08c": {
          "model_module": "@jupyter-widgets/controls",
          "model_name": "DescriptionStyleModel",
          "model_module_version": "1.5.0",
          "state": {
            "_model_module": "@jupyter-widgets/controls",
            "_model_module_version": "1.5.0",
            "_model_name": "DescriptionStyleModel",
            "_view_count": null,
            "_view_module": "@jupyter-widgets/base",
            "_view_module_version": "1.2.0",
            "_view_name": "StyleView",
            "description_width": ""
          }
        },
        "a8f45a9307a843649e42da2d6bb14fed": {
          "model_module": "@jupyter-widgets/controls",
          "model_name": "HBoxModel",
          "model_module_version": "1.5.0",
          "state": {
            "_dom_classes": [],
            "_model_module": "@jupyter-widgets/controls",
            "_model_module_version": "1.5.0",
            "_model_name": "HBoxModel",
            "_view_count": null,
            "_view_module": "@jupyter-widgets/controls",
            "_view_module_version": "1.5.0",
            "_view_name": "HBoxView",
            "box_style": "",
            "children": [
              "IPY_MODEL_bad6bb9972de4953a7d810a95dbcd2b9",
              "IPY_MODEL_083751134ef94627b830a31d63cf22c0",
              "IPY_MODEL_1d579e23e42443baa1b2fcaf0935506f"
            ],
            "layout": "IPY_MODEL_a18a00cfc86a43bc974bcb8a04dfa1ca"
          }
        },
        "bad6bb9972de4953a7d810a95dbcd2b9": {
          "model_module": "@jupyter-widgets/controls",
          "model_name": "HTMLModel",
          "model_module_version": "1.5.0",
          "state": {
            "_dom_classes": [],
            "_model_module": "@jupyter-widgets/controls",
            "_model_module_version": "1.5.0",
            "_model_name": "HTMLModel",
            "_view_count": null,
            "_view_module": "@jupyter-widgets/controls",
            "_view_module_version": "1.5.0",
            "_view_name": "HTMLView",
            "description": "",
            "description_tooltip": null,
            "layout": "IPY_MODEL_8f17c1a80c85408499bfd81509e294ed",
            "placeholder": "​",
            "style": "IPY_MODEL_48613172521140acb5f87caa7e6a6187",
            "value": "vocab.txt: 100%"
          }
        },
        "083751134ef94627b830a31d63cf22c0": {
          "model_module": "@jupyter-widgets/controls",
          "model_name": "FloatProgressModel",
          "model_module_version": "1.5.0",
          "state": {
            "_dom_classes": [],
            "_model_module": "@jupyter-widgets/controls",
            "_model_module_version": "1.5.0",
            "_model_name": "FloatProgressModel",
            "_view_count": null,
            "_view_module": "@jupyter-widgets/controls",
            "_view_module_version": "1.5.0",
            "_view_name": "ProgressView",
            "bar_style": "success",
            "description": "",
            "description_tooltip": null,
            "layout": "IPY_MODEL_b6d1eb1a898c4b35b2e2b0045af1dce3",
            "max": 231508,
            "min": 0,
            "orientation": "horizontal",
            "style": "IPY_MODEL_9be8ee363b0543f09b268935c8e59f54",
            "value": 231508
          }
        },
        "1d579e23e42443baa1b2fcaf0935506f": {
          "model_module": "@jupyter-widgets/controls",
          "model_name": "HTMLModel",
          "model_module_version": "1.5.0",
          "state": {
            "_dom_classes": [],
            "_model_module": "@jupyter-widgets/controls",
            "_model_module_version": "1.5.0",
            "_model_name": "HTMLModel",
            "_view_count": null,
            "_view_module": "@jupyter-widgets/controls",
            "_view_module_version": "1.5.0",
            "_view_name": "HTMLView",
            "description": "",
            "description_tooltip": null,
            "layout": "IPY_MODEL_473835b7efdf44d4adf543de876371bd",
            "placeholder": "​",
            "style": "IPY_MODEL_258bb88ca9f141c5b226fa5df047e284",
            "value": " 232k/232k [00:00&lt;00:00, 966kB/s]"
          }
        },
        "a18a00cfc86a43bc974bcb8a04dfa1ca": {
          "model_module": "@jupyter-widgets/base",
          "model_name": "LayoutModel",
          "model_module_version": "1.2.0",
          "state": {
            "_model_module": "@jupyter-widgets/base",
            "_model_module_version": "1.2.0",
            "_model_name": "LayoutModel",
            "_view_count": null,
            "_view_module": "@jupyter-widgets/base",
            "_view_module_version": "1.2.0",
            "_view_name": "LayoutView",
            "align_content": null,
            "align_items": null,
            "align_self": null,
            "border": null,
            "bottom": null,
            "display": null,
            "flex": null,
            "flex_flow": null,
            "grid_area": null,
            "grid_auto_columns": null,
            "grid_auto_flow": null,
            "grid_auto_rows": null,
            "grid_column": null,
            "grid_gap": null,
            "grid_row": null,
            "grid_template_areas": null,
            "grid_template_columns": null,
            "grid_template_rows": null,
            "height": null,
            "justify_content": null,
            "justify_items": null,
            "left": null,
            "margin": null,
            "max_height": null,
            "max_width": null,
            "min_height": null,
            "min_width": null,
            "object_fit": null,
            "object_position": null,
            "order": null,
            "overflow": null,
            "overflow_x": null,
            "overflow_y": null,
            "padding": null,
            "right": null,
            "top": null,
            "visibility": null,
            "width": null
          }
        },
        "8f17c1a80c85408499bfd81509e294ed": {
          "model_module": "@jupyter-widgets/base",
          "model_name": "LayoutModel",
          "model_module_version": "1.2.0",
          "state": {
            "_model_module": "@jupyter-widgets/base",
            "_model_module_version": "1.2.0",
            "_model_name": "LayoutModel",
            "_view_count": null,
            "_view_module": "@jupyter-widgets/base",
            "_view_module_version": "1.2.0",
            "_view_name": "LayoutView",
            "align_content": null,
            "align_items": null,
            "align_self": null,
            "border": null,
            "bottom": null,
            "display": null,
            "flex": null,
            "flex_flow": null,
            "grid_area": null,
            "grid_auto_columns": null,
            "grid_auto_flow": null,
            "grid_auto_rows": null,
            "grid_column": null,
            "grid_gap": null,
            "grid_row": null,
            "grid_template_areas": null,
            "grid_template_columns": null,
            "grid_template_rows": null,
            "height": null,
            "justify_content": null,
            "justify_items": null,
            "left": null,
            "margin": null,
            "max_height": null,
            "max_width": null,
            "min_height": null,
            "min_width": null,
            "object_fit": null,
            "object_position": null,
            "order": null,
            "overflow": null,
            "overflow_x": null,
            "overflow_y": null,
            "padding": null,
            "right": null,
            "top": null,
            "visibility": null,
            "width": null
          }
        },
        "48613172521140acb5f87caa7e6a6187": {
          "model_module": "@jupyter-widgets/controls",
          "model_name": "DescriptionStyleModel",
          "model_module_version": "1.5.0",
          "state": {
            "_model_module": "@jupyter-widgets/controls",
            "_model_module_version": "1.5.0",
            "_model_name": "DescriptionStyleModel",
            "_view_count": null,
            "_view_module": "@jupyter-widgets/base",
            "_view_module_version": "1.2.0",
            "_view_name": "StyleView",
            "description_width": ""
          }
        },
        "b6d1eb1a898c4b35b2e2b0045af1dce3": {
          "model_module": "@jupyter-widgets/base",
          "model_name": "LayoutModel",
          "model_module_version": "1.2.0",
          "state": {
            "_model_module": "@jupyter-widgets/base",
            "_model_module_version": "1.2.0",
            "_model_name": "LayoutModel",
            "_view_count": null,
            "_view_module": "@jupyter-widgets/base",
            "_view_module_version": "1.2.0",
            "_view_name": "LayoutView",
            "align_content": null,
            "align_items": null,
            "align_self": null,
            "border": null,
            "bottom": null,
            "display": null,
            "flex": null,
            "flex_flow": null,
            "grid_area": null,
            "grid_auto_columns": null,
            "grid_auto_flow": null,
            "grid_auto_rows": null,
            "grid_column": null,
            "grid_gap": null,
            "grid_row": null,
            "grid_template_areas": null,
            "grid_template_columns": null,
            "grid_template_rows": null,
            "height": null,
            "justify_content": null,
            "justify_items": null,
            "left": null,
            "margin": null,
            "max_height": null,
            "max_width": null,
            "min_height": null,
            "min_width": null,
            "object_fit": null,
            "object_position": null,
            "order": null,
            "overflow": null,
            "overflow_x": null,
            "overflow_y": null,
            "padding": null,
            "right": null,
            "top": null,
            "visibility": null,
            "width": null
          }
        },
        "9be8ee363b0543f09b268935c8e59f54": {
          "model_module": "@jupyter-widgets/controls",
          "model_name": "ProgressStyleModel",
          "model_module_version": "1.5.0",
          "state": {
            "_model_module": "@jupyter-widgets/controls",
            "_model_module_version": "1.5.0",
            "_model_name": "ProgressStyleModel",
            "_view_count": null,
            "_view_module": "@jupyter-widgets/base",
            "_view_module_version": "1.2.0",
            "_view_name": "StyleView",
            "bar_color": null,
            "description_width": ""
          }
        },
        "473835b7efdf44d4adf543de876371bd": {
          "model_module": "@jupyter-widgets/base",
          "model_name": "LayoutModel",
          "model_module_version": "1.2.0",
          "state": {
            "_model_module": "@jupyter-widgets/base",
            "_model_module_version": "1.2.0",
            "_model_name": "LayoutModel",
            "_view_count": null,
            "_view_module": "@jupyter-widgets/base",
            "_view_module_version": "1.2.0",
            "_view_name": "LayoutView",
            "align_content": null,
            "align_items": null,
            "align_self": null,
            "border": null,
            "bottom": null,
            "display": null,
            "flex": null,
            "flex_flow": null,
            "grid_area": null,
            "grid_auto_columns": null,
            "grid_auto_flow": null,
            "grid_auto_rows": null,
            "grid_column": null,
            "grid_gap": null,
            "grid_row": null,
            "grid_template_areas": null,
            "grid_template_columns": null,
            "grid_template_rows": null,
            "height": null,
            "justify_content": null,
            "justify_items": null,
            "left": null,
            "margin": null,
            "max_height": null,
            "max_width": null,
            "min_height": null,
            "min_width": null,
            "object_fit": null,
            "object_position": null,
            "order": null,
            "overflow": null,
            "overflow_x": null,
            "overflow_y": null,
            "padding": null,
            "right": null,
            "top": null,
            "visibility": null,
            "width": null
          }
        },
        "258bb88ca9f141c5b226fa5df047e284": {
          "model_module": "@jupyter-widgets/controls",
          "model_name": "DescriptionStyleModel",
          "model_module_version": "1.5.0",
          "state": {
            "_model_module": "@jupyter-widgets/controls",
            "_model_module_version": "1.5.0",
            "_model_name": "DescriptionStyleModel",
            "_view_count": null,
            "_view_module": "@jupyter-widgets/base",
            "_view_module_version": "1.2.0",
            "_view_name": "StyleView",
            "description_width": ""
          }
        },
        "9e56a11b922e481e8f6b30c6721dd248": {
          "model_module": "@jupyter-widgets/controls",
          "model_name": "HBoxModel",
          "model_module_version": "1.5.0",
          "state": {
            "_dom_classes": [],
            "_model_module": "@jupyter-widgets/controls",
            "_model_module_version": "1.5.0",
            "_model_name": "HBoxModel",
            "_view_count": null,
            "_view_module": "@jupyter-widgets/controls",
            "_view_module_version": "1.5.0",
            "_view_name": "HBoxView",
            "box_style": "",
            "children": [
              "IPY_MODEL_81584fb85c7a4542a40b1a1c2c501e65",
              "IPY_MODEL_6ee47b522ef84cafb73c32affa3f7a5b",
              "IPY_MODEL_7917a9df4334446fb0b1e459e0df0a3b"
            ],
            "layout": "IPY_MODEL_70a7def49213474a852afd52ea6e4615"
          }
        },
        "81584fb85c7a4542a40b1a1c2c501e65": {
          "model_module": "@jupyter-widgets/controls",
          "model_name": "HTMLModel",
          "model_module_version": "1.5.0",
          "state": {
            "_dom_classes": [],
            "_model_module": "@jupyter-widgets/controls",
            "_model_module_version": "1.5.0",
            "_model_name": "HTMLModel",
            "_view_count": null,
            "_view_module": "@jupyter-widgets/controls",
            "_view_module_version": "1.5.0",
            "_view_name": "HTMLView",
            "description": "",
            "description_tooltip": null,
            "layout": "IPY_MODEL_8679f77200ab4831987c12612bfc80c9",
            "placeholder": "​",
            "style": "IPY_MODEL_66cb6a94eb2d4d35a681d85543314648",
            "value": "tokenizer.json: 100%"
          }
        },
        "6ee47b522ef84cafb73c32affa3f7a5b": {
          "model_module": "@jupyter-widgets/controls",
          "model_name": "FloatProgressModel",
          "model_module_version": "1.5.0",
          "state": {
            "_dom_classes": [],
            "_model_module": "@jupyter-widgets/controls",
            "_model_module_version": "1.5.0",
            "_model_name": "FloatProgressModel",
            "_view_count": null,
            "_view_module": "@jupyter-widgets/controls",
            "_view_module_version": "1.5.0",
            "_view_name": "ProgressView",
            "bar_style": "success",
            "description": "",
            "description_tooltip": null,
            "layout": "IPY_MODEL_e69115c43cf0410b990095643badb921",
            "max": 711396,
            "min": 0,
            "orientation": "horizontal",
            "style": "IPY_MODEL_67e5153fcc394f179a7ea76424fa63dd",
            "value": 711396
          }
        },
        "7917a9df4334446fb0b1e459e0df0a3b": {
          "model_module": "@jupyter-widgets/controls",
          "model_name": "HTMLModel",
          "model_module_version": "1.5.0",
          "state": {
            "_dom_classes": [],
            "_model_module": "@jupyter-widgets/controls",
            "_model_module_version": "1.5.0",
            "_model_name": "HTMLModel",
            "_view_count": null,
            "_view_module": "@jupyter-widgets/controls",
            "_view_module_version": "1.5.0",
            "_view_name": "HTMLView",
            "description": "",
            "description_tooltip": null,
            "layout": "IPY_MODEL_ce29633d6e61442184663a24241c8a7f",
            "placeholder": "​",
            "style": "IPY_MODEL_57dc59fa66aa48efbbf144e49b8cf03c",
            "value": " 711k/711k [00:00&lt;00:00, 1.56MB/s]"
          }
        },
        "70a7def49213474a852afd52ea6e4615": {
          "model_module": "@jupyter-widgets/base",
          "model_name": "LayoutModel",
          "model_module_version": "1.2.0",
          "state": {
            "_model_module": "@jupyter-widgets/base",
            "_model_module_version": "1.2.0",
            "_model_name": "LayoutModel",
            "_view_count": null,
            "_view_module": "@jupyter-widgets/base",
            "_view_module_version": "1.2.0",
            "_view_name": "LayoutView",
            "align_content": null,
            "align_items": null,
            "align_self": null,
            "border": null,
            "bottom": null,
            "display": null,
            "flex": null,
            "flex_flow": null,
            "grid_area": null,
            "grid_auto_columns": null,
            "grid_auto_flow": null,
            "grid_auto_rows": null,
            "grid_column": null,
            "grid_gap": null,
            "grid_row": null,
            "grid_template_areas": null,
            "grid_template_columns": null,
            "grid_template_rows": null,
            "height": null,
            "justify_content": null,
            "justify_items": null,
            "left": null,
            "margin": null,
            "max_height": null,
            "max_width": null,
            "min_height": null,
            "min_width": null,
            "object_fit": null,
            "object_position": null,
            "order": null,
            "overflow": null,
            "overflow_x": null,
            "overflow_y": null,
            "padding": null,
            "right": null,
            "top": null,
            "visibility": null,
            "width": null
          }
        },
        "8679f77200ab4831987c12612bfc80c9": {
          "model_module": "@jupyter-widgets/base",
          "model_name": "LayoutModel",
          "model_module_version": "1.2.0",
          "state": {
            "_model_module": "@jupyter-widgets/base",
            "_model_module_version": "1.2.0",
            "_model_name": "LayoutModel",
            "_view_count": null,
            "_view_module": "@jupyter-widgets/base",
            "_view_module_version": "1.2.0",
            "_view_name": "LayoutView",
            "align_content": null,
            "align_items": null,
            "align_self": null,
            "border": null,
            "bottom": null,
            "display": null,
            "flex": null,
            "flex_flow": null,
            "grid_area": null,
            "grid_auto_columns": null,
            "grid_auto_flow": null,
            "grid_auto_rows": null,
            "grid_column": null,
            "grid_gap": null,
            "grid_row": null,
            "grid_template_areas": null,
            "grid_template_columns": null,
            "grid_template_rows": null,
            "height": null,
            "justify_content": null,
            "justify_items": null,
            "left": null,
            "margin": null,
            "max_height": null,
            "max_width": null,
            "min_height": null,
            "min_width": null,
            "object_fit": null,
            "object_position": null,
            "order": null,
            "overflow": null,
            "overflow_x": null,
            "overflow_y": null,
            "padding": null,
            "right": null,
            "top": null,
            "visibility": null,
            "width": null
          }
        },
        "66cb6a94eb2d4d35a681d85543314648": {
          "model_module": "@jupyter-widgets/controls",
          "model_name": "DescriptionStyleModel",
          "model_module_version": "1.5.0",
          "state": {
            "_model_module": "@jupyter-widgets/controls",
            "_model_module_version": "1.5.0",
            "_model_name": "DescriptionStyleModel",
            "_view_count": null,
            "_view_module": "@jupyter-widgets/base",
            "_view_module_version": "1.2.0",
            "_view_name": "StyleView",
            "description_width": ""
          }
        },
        "e69115c43cf0410b990095643badb921": {
          "model_module": "@jupyter-widgets/base",
          "model_name": "LayoutModel",
          "model_module_version": "1.2.0",
          "state": {
            "_model_module": "@jupyter-widgets/base",
            "_model_module_version": "1.2.0",
            "_model_name": "LayoutModel",
            "_view_count": null,
            "_view_module": "@jupyter-widgets/base",
            "_view_module_version": "1.2.0",
            "_view_name": "LayoutView",
            "align_content": null,
            "align_items": null,
            "align_self": null,
            "border": null,
            "bottom": null,
            "display": null,
            "flex": null,
            "flex_flow": null,
            "grid_area": null,
            "grid_auto_columns": null,
            "grid_auto_flow": null,
            "grid_auto_rows": null,
            "grid_column": null,
            "grid_gap": null,
            "grid_row": null,
            "grid_template_areas": null,
            "grid_template_columns": null,
            "grid_template_rows": null,
            "height": null,
            "justify_content": null,
            "justify_items": null,
            "left": null,
            "margin": null,
            "max_height": null,
            "max_width": null,
            "min_height": null,
            "min_width": null,
            "object_fit": null,
            "object_position": null,
            "order": null,
            "overflow": null,
            "overflow_x": null,
            "overflow_y": null,
            "padding": null,
            "right": null,
            "top": null,
            "visibility": null,
            "width": null
          }
        },
        "67e5153fcc394f179a7ea76424fa63dd": {
          "model_module": "@jupyter-widgets/controls",
          "model_name": "ProgressStyleModel",
          "model_module_version": "1.5.0",
          "state": {
            "_model_module": "@jupyter-widgets/controls",
            "_model_module_version": "1.5.0",
            "_model_name": "ProgressStyleModel",
            "_view_count": null,
            "_view_module": "@jupyter-widgets/base",
            "_view_module_version": "1.2.0",
            "_view_name": "StyleView",
            "bar_color": null,
            "description_width": ""
          }
        },
        "ce29633d6e61442184663a24241c8a7f": {
          "model_module": "@jupyter-widgets/base",
          "model_name": "LayoutModel",
          "model_module_version": "1.2.0",
          "state": {
            "_model_module": "@jupyter-widgets/base",
            "_model_module_version": "1.2.0",
            "_model_name": "LayoutModel",
            "_view_count": null,
            "_view_module": "@jupyter-widgets/base",
            "_view_module_version": "1.2.0",
            "_view_name": "LayoutView",
            "align_content": null,
            "align_items": null,
            "align_self": null,
            "border": null,
            "bottom": null,
            "display": null,
            "flex": null,
            "flex_flow": null,
            "grid_area": null,
            "grid_auto_columns": null,
            "grid_auto_flow": null,
            "grid_auto_rows": null,
            "grid_column": null,
            "grid_gap": null,
            "grid_row": null,
            "grid_template_areas": null,
            "grid_template_columns": null,
            "grid_template_rows": null,
            "height": null,
            "justify_content": null,
            "justify_items": null,
            "left": null,
            "margin": null,
            "max_height": null,
            "max_width": null,
            "min_height": null,
            "min_width": null,
            "object_fit": null,
            "object_position": null,
            "order": null,
            "overflow": null,
            "overflow_x": null,
            "overflow_y": null,
            "padding": null,
            "right": null,
            "top": null,
            "visibility": null,
            "width": null
          }
        },
        "57dc59fa66aa48efbbf144e49b8cf03c": {
          "model_module": "@jupyter-widgets/controls",
          "model_name": "DescriptionStyleModel",
          "model_module_version": "1.5.0",
          "state": {
            "_model_module": "@jupyter-widgets/controls",
            "_model_module_version": "1.5.0",
            "_model_name": "DescriptionStyleModel",
            "_view_count": null,
            "_view_module": "@jupyter-widgets/base",
            "_view_module_version": "1.2.0",
            "_view_name": "StyleView",
            "description_width": ""
          }
        },
        "11f3dea628694658953dbc10fb9c9cd8": {
          "model_module": "@jupyter-widgets/controls",
          "model_name": "HBoxModel",
          "model_module_version": "1.5.0",
          "state": {
            "_dom_classes": [],
            "_model_module": "@jupyter-widgets/controls",
            "_model_module_version": "1.5.0",
            "_model_name": "HBoxModel",
            "_view_count": null,
            "_view_module": "@jupyter-widgets/controls",
            "_view_module_version": "1.5.0",
            "_view_name": "HBoxView",
            "box_style": "",
            "children": [
              "IPY_MODEL_e5a3a13d126745459762e61d0773de04",
              "IPY_MODEL_e0f72c67779f4d38b8b516cb6ca2b327",
              "IPY_MODEL_d7a239d33b3040fb9090d016a8524f01"
            ],
            "layout": "IPY_MODEL_96eeb3a7b9284f28b0784238124d6e4c"
          }
        },
        "e5a3a13d126745459762e61d0773de04": {
          "model_module": "@jupyter-widgets/controls",
          "model_name": "HTMLModel",
          "model_module_version": "1.5.0",
          "state": {
            "_dom_classes": [],
            "_model_module": "@jupyter-widgets/controls",
            "_model_module_version": "1.5.0",
            "_model_name": "HTMLModel",
            "_view_count": null,
            "_view_module": "@jupyter-widgets/controls",
            "_view_module_version": "1.5.0",
            "_view_name": "HTMLView",
            "description": "",
            "description_tooltip": null,
            "layout": "IPY_MODEL_173e40ff05fe43baad37898d8634d4bb",
            "placeholder": "​",
            "style": "IPY_MODEL_c61162c652c04d5b8df0e6db34cef50d",
            "value": "special_tokens_map.json: 100%"
          }
        },
        "e0f72c67779f4d38b8b516cb6ca2b327": {
          "model_module": "@jupyter-widgets/controls",
          "model_name": "FloatProgressModel",
          "model_module_version": "1.5.0",
          "state": {
            "_dom_classes": [],
            "_model_module": "@jupyter-widgets/controls",
            "_model_module_version": "1.5.0",
            "_model_name": "FloatProgressModel",
            "_view_count": null,
            "_view_module": "@jupyter-widgets/controls",
            "_view_module_version": "1.5.0",
            "_view_name": "ProgressView",
            "bar_style": "success",
            "description": "",
            "description_tooltip": null,
            "layout": "IPY_MODEL_161ff54aa4f247e285ffd3180781ed42",
            "max": 125,
            "min": 0,
            "orientation": "horizontal",
            "style": "IPY_MODEL_971cb1992b7542ae8c8fa6f7139070ac",
            "value": 125
          }
        },
        "d7a239d33b3040fb9090d016a8524f01": {
          "model_module": "@jupyter-widgets/controls",
          "model_name": "HTMLModel",
          "model_module_version": "1.5.0",
          "state": {
            "_dom_classes": [],
            "_model_module": "@jupyter-widgets/controls",
            "_model_module_version": "1.5.0",
            "_model_name": "HTMLModel",
            "_view_count": null,
            "_view_module": "@jupyter-widgets/controls",
            "_view_module_version": "1.5.0",
            "_view_name": "HTMLView",
            "description": "",
            "description_tooltip": null,
            "layout": "IPY_MODEL_28276902284e4411b2090daee8647381",
            "placeholder": "​",
            "style": "IPY_MODEL_631ff6704a8d4b74a4de92ec48b74b1c",
            "value": " 125/125 [00:00&lt;00:00, 9.37kB/s]"
          }
        },
        "96eeb3a7b9284f28b0784238124d6e4c": {
          "model_module": "@jupyter-widgets/base",
          "model_name": "LayoutModel",
          "model_module_version": "1.2.0",
          "state": {
            "_model_module": "@jupyter-widgets/base",
            "_model_module_version": "1.2.0",
            "_model_name": "LayoutModel",
            "_view_count": null,
            "_view_module": "@jupyter-widgets/base",
            "_view_module_version": "1.2.0",
            "_view_name": "LayoutView",
            "align_content": null,
            "align_items": null,
            "align_self": null,
            "border": null,
            "bottom": null,
            "display": null,
            "flex": null,
            "flex_flow": null,
            "grid_area": null,
            "grid_auto_columns": null,
            "grid_auto_flow": null,
            "grid_auto_rows": null,
            "grid_column": null,
            "grid_gap": null,
            "grid_row": null,
            "grid_template_areas": null,
            "grid_template_columns": null,
            "grid_template_rows": null,
            "height": null,
            "justify_content": null,
            "justify_items": null,
            "left": null,
            "margin": null,
            "max_height": null,
            "max_width": null,
            "min_height": null,
            "min_width": null,
            "object_fit": null,
            "object_position": null,
            "order": null,
            "overflow": null,
            "overflow_x": null,
            "overflow_y": null,
            "padding": null,
            "right": null,
            "top": null,
            "visibility": null,
            "width": null
          }
        },
        "173e40ff05fe43baad37898d8634d4bb": {
          "model_module": "@jupyter-widgets/base",
          "model_name": "LayoutModel",
          "model_module_version": "1.2.0",
          "state": {
            "_model_module": "@jupyter-widgets/base",
            "_model_module_version": "1.2.0",
            "_model_name": "LayoutModel",
            "_view_count": null,
            "_view_module": "@jupyter-widgets/base",
            "_view_module_version": "1.2.0",
            "_view_name": "LayoutView",
            "align_content": null,
            "align_items": null,
            "align_self": null,
            "border": null,
            "bottom": null,
            "display": null,
            "flex": null,
            "flex_flow": null,
            "grid_area": null,
            "grid_auto_columns": null,
            "grid_auto_flow": null,
            "grid_auto_rows": null,
            "grid_column": null,
            "grid_gap": null,
            "grid_row": null,
            "grid_template_areas": null,
            "grid_template_columns": null,
            "grid_template_rows": null,
            "height": null,
            "justify_content": null,
            "justify_items": null,
            "left": null,
            "margin": null,
            "max_height": null,
            "max_width": null,
            "min_height": null,
            "min_width": null,
            "object_fit": null,
            "object_position": null,
            "order": null,
            "overflow": null,
            "overflow_x": null,
            "overflow_y": null,
            "padding": null,
            "right": null,
            "top": null,
            "visibility": null,
            "width": null
          }
        },
        "c61162c652c04d5b8df0e6db34cef50d": {
          "model_module": "@jupyter-widgets/controls",
          "model_name": "DescriptionStyleModel",
          "model_module_version": "1.5.0",
          "state": {
            "_model_module": "@jupyter-widgets/controls",
            "_model_module_version": "1.5.0",
            "_model_name": "DescriptionStyleModel",
            "_view_count": null,
            "_view_module": "@jupyter-widgets/base",
            "_view_module_version": "1.2.0",
            "_view_name": "StyleView",
            "description_width": ""
          }
        },
        "161ff54aa4f247e285ffd3180781ed42": {
          "model_module": "@jupyter-widgets/base",
          "model_name": "LayoutModel",
          "model_module_version": "1.2.0",
          "state": {
            "_model_module": "@jupyter-widgets/base",
            "_model_module_version": "1.2.0",
            "_model_name": "LayoutModel",
            "_view_count": null,
            "_view_module": "@jupyter-widgets/base",
            "_view_module_version": "1.2.0",
            "_view_name": "LayoutView",
            "align_content": null,
            "align_items": null,
            "align_self": null,
            "border": null,
            "bottom": null,
            "display": null,
            "flex": null,
            "flex_flow": null,
            "grid_area": null,
            "grid_auto_columns": null,
            "grid_auto_flow": null,
            "grid_auto_rows": null,
            "grid_column": null,
            "grid_gap": null,
            "grid_row": null,
            "grid_template_areas": null,
            "grid_template_columns": null,
            "grid_template_rows": null,
            "height": null,
            "justify_content": null,
            "justify_items": null,
            "left": null,
            "margin": null,
            "max_height": null,
            "max_width": null,
            "min_height": null,
            "min_width": null,
            "object_fit": null,
            "object_position": null,
            "order": null,
            "overflow": null,
            "overflow_x": null,
            "overflow_y": null,
            "padding": null,
            "right": null,
            "top": null,
            "visibility": null,
            "width": null
          }
        },
        "971cb1992b7542ae8c8fa6f7139070ac": {
          "model_module": "@jupyter-widgets/controls",
          "model_name": "ProgressStyleModel",
          "model_module_version": "1.5.0",
          "state": {
            "_model_module": "@jupyter-widgets/controls",
            "_model_module_version": "1.5.0",
            "_model_name": "ProgressStyleModel",
            "_view_count": null,
            "_view_module": "@jupyter-widgets/base",
            "_view_module_version": "1.2.0",
            "_view_name": "StyleView",
            "bar_color": null,
            "description_width": ""
          }
        },
        "28276902284e4411b2090daee8647381": {
          "model_module": "@jupyter-widgets/base",
          "model_name": "LayoutModel",
          "model_module_version": "1.2.0",
          "state": {
            "_model_module": "@jupyter-widgets/base",
            "_model_module_version": "1.2.0",
            "_model_name": "LayoutModel",
            "_view_count": null,
            "_view_module": "@jupyter-widgets/base",
            "_view_module_version": "1.2.0",
            "_view_name": "LayoutView",
            "align_content": null,
            "align_items": null,
            "align_self": null,
            "border": null,
            "bottom": null,
            "display": null,
            "flex": null,
            "flex_flow": null,
            "grid_area": null,
            "grid_auto_columns": null,
            "grid_auto_flow": null,
            "grid_auto_rows": null,
            "grid_column": null,
            "grid_gap": null,
            "grid_row": null,
            "grid_template_areas": null,
            "grid_template_columns": null,
            "grid_template_rows": null,
            "height": null,
            "justify_content": null,
            "justify_items": null,
            "left": null,
            "margin": null,
            "max_height": null,
            "max_width": null,
            "min_height": null,
            "min_width": null,
            "object_fit": null,
            "object_position": null,
            "order": null,
            "overflow": null,
            "overflow_x": null,
            "overflow_y": null,
            "padding": null,
            "right": null,
            "top": null,
            "visibility": null,
            "width": null
          }
        },
        "631ff6704a8d4b74a4de92ec48b74b1c": {
          "model_module": "@jupyter-widgets/controls",
          "model_name": "DescriptionStyleModel",
          "model_module_version": "1.5.0",
          "state": {
            "_model_module": "@jupyter-widgets/controls",
            "_model_module_version": "1.5.0",
            "_model_name": "DescriptionStyleModel",
            "_view_count": null,
            "_view_module": "@jupyter-widgets/base",
            "_view_module_version": "1.2.0",
            "_view_name": "StyleView",
            "description_width": ""
          }
        },
        "36a77dabed2a402a8a9f4a19bc7d378c": {
          "model_module": "@jupyter-widgets/controls",
          "model_name": "HBoxModel",
          "model_module_version": "1.5.0",
          "state": {
            "_dom_classes": [],
            "_model_module": "@jupyter-widgets/controls",
            "_model_module_version": "1.5.0",
            "_model_name": "HBoxModel",
            "_view_count": null,
            "_view_module": "@jupyter-widgets/controls",
            "_view_module_version": "1.5.0",
            "_view_name": "HBoxView",
            "box_style": "",
            "children": [
              "IPY_MODEL_d574c2ac1de043688ab2a0a7cd14d1c9",
              "IPY_MODEL_44cf68493e5f49dfbaa7e7aae2980c21",
              "IPY_MODEL_a9bf6113c32d4eed81a787c4ba80673c"
            ],
            "layout": "IPY_MODEL_86171e768017474dac2d5edd94b9b97d"
          }
        },
        "d574c2ac1de043688ab2a0a7cd14d1c9": {
          "model_module": "@jupyter-widgets/controls",
          "model_name": "HTMLModel",
          "model_module_version": "1.5.0",
          "state": {
            "_dom_classes": [],
            "_model_module": "@jupyter-widgets/controls",
            "_model_module_version": "1.5.0",
            "_model_name": "HTMLModel",
            "_view_count": null,
            "_view_module": "@jupyter-widgets/controls",
            "_view_module_version": "1.5.0",
            "_view_name": "HTMLView",
            "description": "",
            "description_tooltip": null,
            "layout": "IPY_MODEL_17bb6fbcde804dd09cefcd8a62d8bb1a",
            "placeholder": "​",
            "style": "IPY_MODEL_83d50dbba5484fe9a1eac81a142319c0",
            "value": "1_Pooling/config.json: 100%"
          }
        },
        "44cf68493e5f49dfbaa7e7aae2980c21": {
          "model_module": "@jupyter-widgets/controls",
          "model_name": "FloatProgressModel",
          "model_module_version": "1.5.0",
          "state": {
            "_dom_classes": [],
            "_model_module": "@jupyter-widgets/controls",
            "_model_module_version": "1.5.0",
            "_model_name": "FloatProgressModel",
            "_view_count": null,
            "_view_module": "@jupyter-widgets/controls",
            "_view_module_version": "1.5.0",
            "_view_name": "ProgressView",
            "bar_style": "success",
            "description": "",
            "description_tooltip": null,
            "layout": "IPY_MODEL_e10c2471ba84461682c7170321bdada3",
            "max": 190,
            "min": 0,
            "orientation": "horizontal",
            "style": "IPY_MODEL_1f863ad1740a4116aa1ee941707b0993",
            "value": 190
          }
        },
        "a9bf6113c32d4eed81a787c4ba80673c": {
          "model_module": "@jupyter-widgets/controls",
          "model_name": "HTMLModel",
          "model_module_version": "1.5.0",
          "state": {
            "_dom_classes": [],
            "_model_module": "@jupyter-widgets/controls",
            "_model_module_version": "1.5.0",
            "_model_name": "HTMLModel",
            "_view_count": null,
            "_view_module": "@jupyter-widgets/controls",
            "_view_module_version": "1.5.0",
            "_view_name": "HTMLView",
            "description": "",
            "description_tooltip": null,
            "layout": "IPY_MODEL_8577dad932c843f78fb2039a36376a20",
            "placeholder": "​",
            "style": "IPY_MODEL_30cb227ce0da49699adb8959f1654093",
            "value": " 190/190 [00:00&lt;00:00, 8.03kB/s]"
          }
        },
        "86171e768017474dac2d5edd94b9b97d": {
          "model_module": "@jupyter-widgets/base",
          "model_name": "LayoutModel",
          "model_module_version": "1.2.0",
          "state": {
            "_model_module": "@jupyter-widgets/base",
            "_model_module_version": "1.2.0",
            "_model_name": "LayoutModel",
            "_view_count": null,
            "_view_module": "@jupyter-widgets/base",
            "_view_module_version": "1.2.0",
            "_view_name": "LayoutView",
            "align_content": null,
            "align_items": null,
            "align_self": null,
            "border": null,
            "bottom": null,
            "display": null,
            "flex": null,
            "flex_flow": null,
            "grid_area": null,
            "grid_auto_columns": null,
            "grid_auto_flow": null,
            "grid_auto_rows": null,
            "grid_column": null,
            "grid_gap": null,
            "grid_row": null,
            "grid_template_areas": null,
            "grid_template_columns": null,
            "grid_template_rows": null,
            "height": null,
            "justify_content": null,
            "justify_items": null,
            "left": null,
            "margin": null,
            "max_height": null,
            "max_width": null,
            "min_height": null,
            "min_width": null,
            "object_fit": null,
            "object_position": null,
            "order": null,
            "overflow": null,
            "overflow_x": null,
            "overflow_y": null,
            "padding": null,
            "right": null,
            "top": null,
            "visibility": null,
            "width": null
          }
        },
        "17bb6fbcde804dd09cefcd8a62d8bb1a": {
          "model_module": "@jupyter-widgets/base",
          "model_name": "LayoutModel",
          "model_module_version": "1.2.0",
          "state": {
            "_model_module": "@jupyter-widgets/base",
            "_model_module_version": "1.2.0",
            "_model_name": "LayoutModel",
            "_view_count": null,
            "_view_module": "@jupyter-widgets/base",
            "_view_module_version": "1.2.0",
            "_view_name": "LayoutView",
            "align_content": null,
            "align_items": null,
            "align_self": null,
            "border": null,
            "bottom": null,
            "display": null,
            "flex": null,
            "flex_flow": null,
            "grid_area": null,
            "grid_auto_columns": null,
            "grid_auto_flow": null,
            "grid_auto_rows": null,
            "grid_column": null,
            "grid_gap": null,
            "grid_row": null,
            "grid_template_areas": null,
            "grid_template_columns": null,
            "grid_template_rows": null,
            "height": null,
            "justify_content": null,
            "justify_items": null,
            "left": null,
            "margin": null,
            "max_height": null,
            "max_width": null,
            "min_height": null,
            "min_width": null,
            "object_fit": null,
            "object_position": null,
            "order": null,
            "overflow": null,
            "overflow_x": null,
            "overflow_y": null,
            "padding": null,
            "right": null,
            "top": null,
            "visibility": null,
            "width": null
          }
        },
        "83d50dbba5484fe9a1eac81a142319c0": {
          "model_module": "@jupyter-widgets/controls",
          "model_name": "DescriptionStyleModel",
          "model_module_version": "1.5.0",
          "state": {
            "_model_module": "@jupyter-widgets/controls",
            "_model_module_version": "1.5.0",
            "_model_name": "DescriptionStyleModel",
            "_view_count": null,
            "_view_module": "@jupyter-widgets/base",
            "_view_module_version": "1.2.0",
            "_view_name": "StyleView",
            "description_width": ""
          }
        },
        "e10c2471ba84461682c7170321bdada3": {
          "model_module": "@jupyter-widgets/base",
          "model_name": "LayoutModel",
          "model_module_version": "1.2.0",
          "state": {
            "_model_module": "@jupyter-widgets/base",
            "_model_module_version": "1.2.0",
            "_model_name": "LayoutModel",
            "_view_count": null,
            "_view_module": "@jupyter-widgets/base",
            "_view_module_version": "1.2.0",
            "_view_name": "LayoutView",
            "align_content": null,
            "align_items": null,
            "align_self": null,
            "border": null,
            "bottom": null,
            "display": null,
            "flex": null,
            "flex_flow": null,
            "grid_area": null,
            "grid_auto_columns": null,
            "grid_auto_flow": null,
            "grid_auto_rows": null,
            "grid_column": null,
            "grid_gap": null,
            "grid_row": null,
            "grid_template_areas": null,
            "grid_template_columns": null,
            "grid_template_rows": null,
            "height": null,
            "justify_content": null,
            "justify_items": null,
            "left": null,
            "margin": null,
            "max_height": null,
            "max_width": null,
            "min_height": null,
            "min_width": null,
            "object_fit": null,
            "object_position": null,
            "order": null,
            "overflow": null,
            "overflow_x": null,
            "overflow_y": null,
            "padding": null,
            "right": null,
            "top": null,
            "visibility": null,
            "width": null
          }
        },
        "1f863ad1740a4116aa1ee941707b0993": {
          "model_module": "@jupyter-widgets/controls",
          "model_name": "ProgressStyleModel",
          "model_module_version": "1.5.0",
          "state": {
            "_model_module": "@jupyter-widgets/controls",
            "_model_module_version": "1.5.0",
            "_model_name": "ProgressStyleModel",
            "_view_count": null,
            "_view_module": "@jupyter-widgets/base",
            "_view_module_version": "1.2.0",
            "_view_name": "StyleView",
            "bar_color": null,
            "description_width": ""
          }
        },
        "8577dad932c843f78fb2039a36376a20": {
          "model_module": "@jupyter-widgets/base",
          "model_name": "LayoutModel",
          "model_module_version": "1.2.0",
          "state": {
            "_model_module": "@jupyter-widgets/base",
            "_model_module_version": "1.2.0",
            "_model_name": "LayoutModel",
            "_view_count": null,
            "_view_module": "@jupyter-widgets/base",
            "_view_module_version": "1.2.0",
            "_view_name": "LayoutView",
            "align_content": null,
            "align_items": null,
            "align_self": null,
            "border": null,
            "bottom": null,
            "display": null,
            "flex": null,
            "flex_flow": null,
            "grid_area": null,
            "grid_auto_columns": null,
            "grid_auto_flow": null,
            "grid_auto_rows": null,
            "grid_column": null,
            "grid_gap": null,
            "grid_row": null,
            "grid_template_areas": null,
            "grid_template_columns": null,
            "grid_template_rows": null,
            "height": null,
            "justify_content": null,
            "justify_items": null,
            "left": null,
            "margin": null,
            "max_height": null,
            "max_width": null,
            "min_height": null,
            "min_width": null,
            "object_fit": null,
            "object_position": null,
            "order": null,
            "overflow": null,
            "overflow_x": null,
            "overflow_y": null,
            "padding": null,
            "right": null,
            "top": null,
            "visibility": null,
            "width": null
          }
        },
        "30cb227ce0da49699adb8959f1654093": {
          "model_module": "@jupyter-widgets/controls",
          "model_name": "DescriptionStyleModel",
          "model_module_version": "1.5.0",
          "state": {
            "_model_module": "@jupyter-widgets/controls",
            "_model_module_version": "1.5.0",
            "_model_name": "DescriptionStyleModel",
            "_view_count": null,
            "_view_module": "@jupyter-widgets/base",
            "_view_module_version": "1.2.0",
            "_view_name": "StyleView",
            "description_width": ""
          }
        }
      }
    },
    "accelerator": "GPU"
  },
  "cells": [
    {
      "cell_type": "markdown",
      "metadata": {
        "id": "view-in-github",
        "colab_type": "text"
      },
      "source": [
        "<a href=\"https://colab.research.google.com/github/sudhirshahu51/RAG/blob/main/pdf_query_with_Hybrid_Search_and_cross_reranker.ipynb\" target=\"_parent\"><img src=\"https://colab.research.google.com/assets/colab-badge.svg\" alt=\"Open In Colab\"/></a>"
      ]
    },
    {
      "cell_type": "code",
      "execution_count": 1,
      "metadata": {
        "id": "JppxrlZLLP4Q",
        "colab": {
          "base_uri": "https://localhost:8080/"
        },
        "outputId": "639fe34d-56d9-485f-a5d0-b71b3cb208a9"
      },
      "outputs": [
        {
          "output_type": "stream",
          "name": "stdout",
          "text": [
            "\u001b[?25l     \u001b[90m━━━━━━━━━━━━━━━━━━━━━━━━━━━━━━━━━━━━━━━━\u001b[0m \u001b[32m0.0/67.3 kB\u001b[0m \u001b[31m?\u001b[0m eta \u001b[36m-:--:--\u001b[0m\r\u001b[2K     \u001b[90m━━━━━━━━━━━━━━━━━━━━━━━━━━━━━━━━━━━━━━━━\u001b[0m \u001b[32m67.3/67.3 kB\u001b[0m \u001b[31m4.9 MB/s\u001b[0m eta \u001b[36m0:00:00\u001b[0m\n",
            "\u001b[?25h  Installing build dependencies ... \u001b[?25l\u001b[?25hdone\n",
            "  Getting requirements to build wheel ... \u001b[?25l\u001b[?25hdone\n",
            "  Preparing metadata (pyproject.toml) ... \u001b[?25l\u001b[?25hdone\n",
            "\u001b[2K   \u001b[90m━━━━━━━━━━━━━━━━━━━━━━━━━━━━━━━━━━━━━━━━\u001b[0m \u001b[32m602.1/602.1 kB\u001b[0m \u001b[31m41.1 MB/s\u001b[0m eta \u001b[36m0:00:00\u001b[0m\n",
            "\u001b[2K   \u001b[90m━━━━━━━━━━━━━━━━━━━━━━━━━━━━━━━━━━━━━━━━\u001b[0m \u001b[32m2.4/2.4 MB\u001b[0m \u001b[31m90.2 MB/s\u001b[0m eta \u001b[36m0:00:00\u001b[0m\n",
            "\u001b[2K   \u001b[90m━━━━━━━━━━━━━━━━━━━━━━━━━━━━━━━━━━━━━━━━\u001b[0m \u001b[32m298.0/298.0 kB\u001b[0m \u001b[31m26.3 MB/s\u001b[0m eta \u001b[36m0:00:00\u001b[0m\n",
            "\u001b[2K   \u001b[90m━━━━━━━━━━━━━━━━━━━━━━━━━━━━━━━━━━━━━━━━\u001b[0m \u001b[32m278.6/278.6 kB\u001b[0m \u001b[31m25.3 MB/s\u001b[0m eta \u001b[36m0:00:00\u001b[0m\n",
            "\u001b[2K   \u001b[90m━━━━━━━━━━━━━━━━━━━━━━━━━━━━━━━━━━━━━━━━\u001b[0m \u001b[32m94.8/94.8 kB\u001b[0m \u001b[31m9.1 MB/s\u001b[0m eta \u001b[36m0:00:00\u001b[0m\n",
            "\u001b[2K   \u001b[90m━━━━━━━━━━━━━━━━━━━━━━━━━━━━━━━━━━━━━━━━\u001b[0m \u001b[32m1.9/1.9 MB\u001b[0m \u001b[31m73.9 MB/s\u001b[0m eta \u001b[36m0:00:00\u001b[0m\n",
            "\u001b[2K   \u001b[90m━━━━━━━━━━━━━━━━━━━━━━━━━━━━━━━━━━━━━━━━\u001b[0m \u001b[32m1.6/1.6 MB\u001b[0m \u001b[31m68.4 MB/s\u001b[0m eta \u001b[36m0:00:00\u001b[0m\n",
            "\u001b[2K   \u001b[90m━━━━━━━━━━━━━━━━━━━━━━━━━━━━━━━━━━━━━━━━\u001b[0m \u001b[32m93.2/93.2 kB\u001b[0m \u001b[31m8.8 MB/s\u001b[0m eta \u001b[36m0:00:00\u001b[0m\n",
            "\u001b[2K   \u001b[90m━━━━━━━━━━━━━━━━━━━━━━━━━━━━━━━━━━━━━━━━\u001b[0m \u001b[32m13.3/13.3 MB\u001b[0m \u001b[31m99.3 MB/s\u001b[0m eta \u001b[36m0:00:00\u001b[0m\n",
            "\u001b[2K   \u001b[90m━━━━━━━━━━━━━━━━━━━━━━━━━━━━━━━━━━━━━━━━\u001b[0m \u001b[32m55.8/55.8 kB\u001b[0m \u001b[31m5.2 MB/s\u001b[0m eta \u001b[36m0:00:00\u001b[0m\n",
            "\u001b[2K   \u001b[90m━━━━━━━━━━━━━━━━━━━━━━━━━━━━━━━━━━━━━━━━\u001b[0m \u001b[32m54.8/54.8 kB\u001b[0m \u001b[31m5.3 MB/s\u001b[0m eta \u001b[36m0:00:00\u001b[0m\n",
            "\u001b[2K   \u001b[90m━━━━━━━━━━━━━━━━━━━━━━━━━━━━━━━━━━━━━━━━\u001b[0m \u001b[32m62.3/62.3 kB\u001b[0m \u001b[31m6.1 MB/s\u001b[0m eta \u001b[36m0:00:00\u001b[0m\n",
            "\u001b[2K   \u001b[90m━━━━━━━━━━━━━━━━━━━━━━━━━━━━━━━━━━━━━━━━\u001b[0m \u001b[32m442.1/442.1 kB\u001b[0m \u001b[31m36.2 MB/s\u001b[0m eta \u001b[36m0:00:00\u001b[0m\n",
            "\u001b[2K   \u001b[90m━━━━━━━━━━━━━━━━━━━━━━━━━━━━━━━━━━━━━━━━\u001b[0m \u001b[32m242.1/242.1 kB\u001b[0m \u001b[31m21.7 MB/s\u001b[0m eta \u001b[36m0:00:00\u001b[0m\n",
            "\u001b[2K   \u001b[90m━━━━━━━━━━━━━━━━━━━━━━━━━━━━━━━━━━━━━━━━\u001b[0m \u001b[32m454.3/454.3 kB\u001b[0m \u001b[31m37.7 MB/s\u001b[0m eta \u001b[36m0:00:00\u001b[0m\n",
            "\u001b[2K   \u001b[90m━━━━━━━━━━━━━━━━━━━━━━━━━━━━━━━━━━━━━━━━\u001b[0m \u001b[32m319.7/319.7 kB\u001b[0m \u001b[31m28.0 MB/s\u001b[0m eta \u001b[36m0:00:00\u001b[0m\n",
            "\u001b[2K   \u001b[90m━━━━━━━━━━━━━━━━━━━━━━━━━━━━━━━━━━━━━━━━\u001b[0m \u001b[32m73.2/73.2 kB\u001b[0m \u001b[31m7.2 MB/s\u001b[0m eta \u001b[36m0:00:00\u001b[0m\n",
            "\u001b[2K   \u001b[90m━━━━━━━━━━━━━━━━━━━━━━━━━━━━━━━━━━━━━━━━\u001b[0m \u001b[32m1.2/1.2 MB\u001b[0m \u001b[31m67.4 MB/s\u001b[0m eta \u001b[36m0:00:00\u001b[0m\n",
            "\u001b[2K   \u001b[90m━━━━━━━━━━━━━━━━━━━━━━━━━━━━━━━━━━━━━━━━\u001b[0m \u001b[32m3.8/3.8 MB\u001b[0m \u001b[31m99.3 MB/s\u001b[0m eta \u001b[36m0:00:00\u001b[0m\n",
            "\u001b[2K   \u001b[90m━━━━━━━━━━━━━━━━━━━━━━━━━━━━━━━━━━━━━━━━\u001b[0m \u001b[32m443.8/443.8 kB\u001b[0m \u001b[31m36.3 MB/s\u001b[0m eta \u001b[36m0:00:00\u001b[0m\n",
            "\u001b[2K   \u001b[90m━━━━━━━━━━━━━━━━━━━━━━━━━━━━━━━━━━━━━━━━\u001b[0m \u001b[32m46.0/46.0 kB\u001b[0m \u001b[31m4.0 MB/s\u001b[0m eta \u001b[36m0:00:00\u001b[0m\n",
            "\u001b[2K   \u001b[90m━━━━━━━━━━━━━━━━━━━━━━━━━━━━━━━━━━━━━━━━\u001b[0m \u001b[32m86.8/86.8 kB\u001b[0m \u001b[31m8.3 MB/s\u001b[0m eta \u001b[36m0:00:00\u001b[0m\n",
            "\u001b[2K   \u001b[90m━━━━━━━━━━━━━━━━━━━━━━━━━━━━━━━━━━━━━━━━\u001b[0m \u001b[32m49.3/49.3 kB\u001b[0m \u001b[31m4.2 MB/s\u001b[0m eta \u001b[36m0:00:00\u001b[0m\n",
            "\u001b[?25h  Building wheel for pypika (pyproject.toml) ... \u001b[?25l\u001b[?25hdone\n",
            "\u001b[31mERROR: pip's dependency resolver does not currently take into account all the packages that are installed. This behaviour is the source of the following dependency conflicts.\n",
            "tensorflow 2.17.1 requires protobuf!=4.21.0,!=4.21.1,!=4.21.2,!=4.21.3,!=4.21.4,!=4.21.5,<5.0.0dev,>=3.20.3, but you have protobuf 5.29.2 which is incompatible.\n",
            "tensorflow-metadata 1.13.1 requires protobuf<5,>=3.20.3, but you have protobuf 5.29.2 which is incompatible.\u001b[0m\u001b[31m\n",
            "\u001b[0m"
          ]
        }
      ],
      "source": [
        "!pip install llama-index langchain chromadb pypdf llama-index-llms-groq llama-index-embeddings-huggingface llama-index-vector-stores-chroma --quiet"
      ]
    },
    {
      "cell_type": "code",
      "source": [
        "!pip install llama-index-retrievers-bm25 --quiet"
      ],
      "metadata": {
        "colab": {
          "base_uri": "https://localhost:8080/"
        },
        "id": "jG6Ep-wiyM2c",
        "outputId": "9a329e24-1fe6-4d67-bbe6-9e9c9919e8c2"
      },
      "execution_count": 2,
      "outputs": [
        {
          "output_type": "stream",
          "name": "stdout",
          "text": [
            "\u001b[?25l   \u001b[90m━━━━━━━━━━━━━━━━━━━━━━━━━━━━━━━━━━━━━━━━\u001b[0m \u001b[32m0.0/52.8 kB\u001b[0m \u001b[31m?\u001b[0m eta \u001b[36m-:--:--\u001b[0m\r\u001b[2K   \u001b[90m━━━━━━━━━━━━━━━━━━━━━━━━━━━━━━━━━━━━━━━━\u001b[0m \u001b[32m52.8/52.8 kB\u001b[0m \u001b[31m4.7 MB/s\u001b[0m eta \u001b[36m0:00:00\u001b[0m\n",
            "\u001b[?25h\u001b[?25l   \u001b[90m━━━━━━━━━━━━━━━━━━━━━━━━━━━━━━━━━━━━━━━━\u001b[0m \u001b[32m0.0/646.7 kB\u001b[0m \u001b[31m?\u001b[0m eta \u001b[36m-:--:--\u001b[0m\r\u001b[2K   \u001b[90m━━━━━━━━━━━━━━━━━━━━━━━━━━━━━━━━━━━━━━━━\u001b[0m \u001b[32m646.7/646.7 kB\u001b[0m \u001b[31m33.8 MB/s\u001b[0m eta \u001b[36m0:00:00\u001b[0m\n",
            "\u001b[?25h"
          ]
        }
      ]
    },
    {
      "cell_type": "code",
      "source": [
        "# to make async work well with jupyter notebook\n",
        "import nest_asyncio\n",
        "nest_asyncio.apply()"
      ],
      "metadata": {
        "id": "n7rAAN5GVE6p"
      },
      "execution_count": 3,
      "outputs": []
    },
    {
      "cell_type": "markdown",
      "source": [
        "# **1. Text Extraction from PDF file**"
      ],
      "metadata": {
        "id": "zjm77RMNPuVZ"
      }
    },
    {
      "cell_type": "code",
      "source": [
        "from llama_index.core import SimpleDirectoryReader"
      ],
      "metadata": {
        "id": "AaXrpKzQmZSn"
      },
      "execution_count": 4,
      "outputs": []
    },
    {
      "cell_type": "code",
      "source": [
        "documents = SimpleDirectoryReader(input_files=[\"/content/drive/MyDrive/Colab Notebooks/Data/microsoft_annual_report_2022.pdf\"]).load_data()"
      ],
      "metadata": {
        "id": "xzOzEEYRL-2T"
      },
      "execution_count": 5,
      "outputs": []
    },
    {
      "cell_type": "code",
      "source": [
        "documents[5].text"
      ],
      "metadata": {
        "colab": {
          "base_uri": "https://localhost:8080/",
          "height": 192
        },
        "id": "JNfHZMlynaml",
        "outputId": "d32ae77c-43cb-4e9e-e81d-10ec72dc7c72"
      },
      "execution_count": 6,
      "outputs": [
        {
          "output_type": "execute_result",
          "data": {
            "text/plain": [
              "'4 \\n  \\nOur commitment to responsibly develop and use technologies like AI is core to who we are. We put our commitment into \\npractice, not only within Microsoft but by empowering our customers and partners to do the same and by advocating for \\npolicy change. We released our Responsible AI Standard, which outlines 17 goals aligned to our six AI principles and \\nincludes tools and practices to support them. And we share our open -source tools, including the new Responsible AI \\nDashboard, to help developers building AI technologies identify and mitigate issues before deployment.  \\nFinally, we provide clear reporting and information on how we run our business and how we work with customers and \\npartners, delivering the transparency that is central to trust. Our annual Impact Summary shares more about our progress \\nand learnings across these four commitments, and our Reports Hub  provides detailed reports on our environmental data, \\nour political activities, our workforce demographics, our human rights work, and more. \\nWe should all be proud of this work —and I am. But it’s easy to talk about what we’re doing well. As we look to the next \\nyear and beyond, we’ll continue to reflect on where the world needs us to do better.  \\nOUR OPPORTUNITY  \\nNow, let me turn to how we are positioned to capture the massive opportunities ahead. Over the past few years, I’ve \\nwritten extensively about digital transformation, but now we need to go beyond that to deliver on what I call the “digital \\nimperative.”  \\nTechnology is a deflationary force in an inflationary economy. Every organization in every industry will need to infuse \\ntechnology into every business process and function so they can do more with less. It’s what I believe will make the \\ndifference between organizations that thrive and those that get left behind.  \\nIn the coming years, technology as a percentage of GDP will double from 5% to 10% and beyond, as technology moves \\nfrom a back -office cost center to a defining feature of every product and service. But even more important will be \\ntechnology’s influence on the other 90% of the world’s economy. From communications and commerce, to logistics, \\nfinancial services, energy, healthcare, and entertainment, digital technology will power the entire global economy as every \\ncompany becomes a software company in its own right.  \\nAcross our customer solution areas, we are delivering powerful platforms, tools, and services that expand our opportunity \\nto help every organization in every industry deliver on the digital imperative —with a business model that is trusted and \\nalways aligned with their success.  \\nApps and infrastructure  \\nWe are building Azure as the world’s computer, with more than 60 datacenter regions —more than any other provider —\\ndelivering faster access to cloud services while addressing critical data residency requirements. With Azure Arc, we’re \\nbringing Azure anywhere, meeting customers where they are and enabling them to run apps across on-premises, edge, or \\nmulticloud environments. And we’re extending our infrastructure to the 5G network edge with Azure for Operators, \\nintroducing new solutions to help telecom operators deliver ultra-low-latency services closer to end users.  \\nAs the digital and physical worlds come together, we’re also leading in the industrial metaverse. From smart factories, to \\nsmart buildings, to smart cities, we’re helping organizations use Azure IoT, Azure Digital Twins, and Microsoft Mesh to \\ndigitize people, places, and things, in order to visualize, simulate, and analyze any business process.  \\nData and AI  \\nFrom best-in-class databases and analytics to data governance, we have the most comprehensive data stack to help \\nevery organization turn its data into predictive and analytical power. With our new Microsoft Intelligent Data'"
            ],
            "application/vnd.google.colaboratory.intrinsic+json": {
              "type": "string"
            }
          },
          "metadata": {},
          "execution_count": 6
        }
      ]
    },
    {
      "cell_type": "code",
      "source": [
        "len(documents)"
      ],
      "metadata": {
        "colab": {
          "base_uri": "https://localhost:8080/"
        },
        "id": "SwB0pWrpNqrL",
        "outputId": "d5256e31-5f00-43e5-84e2-f274b5ad84ee"
      },
      "execution_count": 7,
      "outputs": [
        {
          "output_type": "execute_result",
          "data": {
            "text/plain": [
              "93"
            ]
          },
          "metadata": {},
          "execution_count": 7
        }
      ]
    },
    {
      "cell_type": "markdown",
      "source": [
        "# **2. Splitting Chunks**"
      ],
      "metadata": {
        "id": "TFNqhYaXP7Gi"
      }
    },
    {
      "cell_type": "code",
      "source": [
        "from langchain.text_splitter import RecursiveCharacterTextSplitter, SentenceTransformersTokenTextSplitter\n",
        "from llama_index.core.node_parser import LangchainNodeParser          #understand sentence and token based splitting can also be done iusing llamaindex or wrapper of langchain in llamaindex."
      ],
      "metadata": {
        "id": "7KpXI1yRNu2o"
      },
      "execution_count": 8,
      "outputs": []
    },
    {
      "cell_type": "code",
      "source": [
        "parser  = LangchainNodeParser(RecursiveCharacterTextSplitter(\n",
        "    separators=[\"\\n\\n\", \"\\n\", \". \", \" \", \"\"],\n",
        "    chunk_size=512,\n",
        "    chunk_overlap=100))\n",
        "nodes = parser.get_nodes_from_documents(documents)"
      ],
      "metadata": {
        "id": "LHp83aUXhVuC"
      },
      "execution_count": 9,
      "outputs": []
    },
    {
      "cell_type": "code",
      "source": [
        "len(nodes)"
      ],
      "metadata": {
        "colab": {
          "base_uri": "https://localhost:8080/"
        },
        "id": "7A0NIEKjoR96",
        "outputId": "b0a80cd4-bff4-457c-efe0-e2c1aca46391"
      },
      "execution_count": 10,
      "outputs": [
        {
          "output_type": "execute_result",
          "data": {
            "text/plain": [
              "684"
            ]
          },
          "metadata": {},
          "execution_count": 10
        }
      ]
    },
    {
      "cell_type": "markdown",
      "source": [
        "# **3. BM25 Retriver**"
      ],
      "metadata": {
        "id": "OPWPkO3rxwdK"
      }
    },
    {
      "cell_type": "code",
      "source": [
        "from llama_index.core.storage.docstore import SimpleDocumentStore\n",
        "\n",
        "docstore = SimpleDocumentStore()\n",
        "docstore.add_documents(nodes)"
      ],
      "metadata": {
        "id": "g3xePPZDxuuc"
      },
      "execution_count": 11,
      "outputs": []
    },
    {
      "cell_type": "code",
      "source": [
        "from llama_index.retrievers.bm25 import BM25Retriever\n",
        "import Stemmer\n",
        "\n",
        "# We can pass in the index, docstore, or list of nodes to create the retriever\n",
        "bm25_retriever = BM25Retriever.from_defaults(\n",
        "    docstore=docstore,\n",
        "    similarity_top_k=5,\n",
        "    # Optional: We can pass in the stemmer and set the language for stopwords\n",
        "    # This is important for removing stopwords and stemming the query + text\n",
        "    # The default is english for both\n",
        "    stemmer=Stemmer.Stemmer(\"english\"),\n",
        "    language=\"english\",\n",
        ")"
      ],
      "metadata": {
        "colab": {
          "base_uri": "https://localhost:8080/"
        },
        "id": "AcRk5YBtgVLg",
        "outputId": "95203dfd-4228-4999-97c0-86f4135e64b5"
      },
      "execution_count": 12,
      "outputs": [
        {
          "output_type": "stream",
          "name": "stderr",
          "text": [
            "DEBUG:bm25s:Building index from IDs objects\n"
          ]
        }
      ]
    },
    {
      "cell_type": "code",
      "source": [
        "from llama_index.core.response.notebook_utils import display_source_node\n",
        "\n",
        "# will retrieve context from specific companies\n",
        "retrieved_nodes = bm25_retriever.retrieve(\"Measure revenue sources of mircrosoft?\")\n",
        "\n",
        "for node in retrieved_nodes:\n",
        "    display_source_node(node, source_length=5000)"
      ],
      "metadata": {
        "colab": {
          "base_uri": "https://localhost:8080/",
          "height": 351
        },
        "id": "NHIkGIhGy8uu",
        "outputId": "80fa75c3-fe9b-41c8-d4eb-daf66a5a9515"
      },
      "execution_count": 13,
      "outputs": [
        {
          "output_type": "display_data",
          "data": {
            "text/plain": [
              "<IPython.core.display.Markdown object>"
            ],
            "text/markdown": "**Node ID:** c0e14145-fd5a-4fb1-8e46-6a52c7647d40<br>**Similarity:** 2.5193252563476562<br>**Text:** impracticability of determining the geographic source of the revenue.  \nRevenue, classified by significant product and service offerings, was as follows:  \n  \n(In millions)         \n        \nYear Ended June 30, 2022 2021 2020 \n        \nServer products and cloud services $ 67,321  $ 52,589  $ 41,379  \nOffice products and cloud services  44,862   39,872   35,316  \nWindows  24,761   22,488   21,510  \nGaming  16,230   15,370   11,575  \nLinkedIn  13,816   10,289   8,077<br>"
          },
          "metadata": {}
        },
        {
          "output_type": "display_data",
          "data": {
            "text/plain": [
              "<IPython.core.display.Markdown object>"
            ],
            "text/markdown": "**Node ID:** e11a9a93-c491-42a5-a821-3215b4e65e21<br>**Similarity:** 2.3889145851135254<br>**Text:** may incur future impairments.  \nEquity investments with readily determinable fair values are measured at fair value. Equity investments without readily \ndeterminable fair values are measured using the equity method or measured at cost with adjustments for observable \nchanges in price or impairments (referred to as the measurement alternative). We perform a qualitative assessment on a<br>"
          },
          "metadata": {}
        }
      ]
    },
    {
      "cell_type": "markdown",
      "source": [
        "# **3. Create embeddings**"
      ],
      "metadata": {
        "id": "z8lgrjDnQkfo"
      }
    },
    {
      "cell_type": "code",
      "source": [
        "from llama_index.core import VectorStoreIndex\n",
        "from llama_index.vector_stores.chroma import ChromaVectorStore\n",
        "from llama_index.core import StorageContext\n",
        "from llama_index.embeddings.huggingface import HuggingFaceEmbedding\n",
        "from IPython.display import Markdown, display\n",
        "import chromadb"
      ],
      "metadata": {
        "id": "WDvsUZex3HQg"
      },
      "execution_count": 14,
      "outputs": []
    },
    {
      "cell_type": "code",
      "source": [
        "# define embedding function\n",
        "embed_model = HuggingFaceEmbedding(model_name=\"BAAI/bge-base-en-v1.5\")"
      ],
      "metadata": {
        "colab": {
          "base_uri": "https://localhost:8080/",
          "height": 369,
          "referenced_widgets": [
            "0eedd37efc184ca6b0ba8d68e4129a2c",
            "a9cc37a7a441420da520847641c9b59c",
            "32562f84e6944782a8a6235ce25bf9cb",
            "14f0abeadb9a4168975ad04b8335cefe",
            "16cdd3a460894525bc4af63ba1eb107a",
            "114d063839de4e2b9791b942e683c2bb",
            "23048925ddcc4d23b83d8ad626c1227b",
            "e5b58a47cecb4f8a86f068a78dda970a",
            "ce253b9c0d5c4307b0ae438a05634836",
            "1557ff698a8848d297948cc7fde9c3a5",
            "1a3cc38acff4465f948fd4a3868cd441",
            "8e0c8be0baf14154b8f965222f3a1bc3",
            "d88cca34f02b4ed8a39b3cabf1bd357c",
            "f1fc4238d10f406294f5c7bb14d05bac",
            "9701439051ac4632bb5029fa4b3d267e",
            "26f1d761cf3b49d8aa45d1705e215c88",
            "0a514446ab64417889972d83d4d187bf",
            "24f63fb0cc77456eb071391d90c1e969",
            "4f4cf5c1169e439c97ca6221e613ff4b",
            "c8ed85cd418549bfa2bc5c3fa44c7491",
            "3e28f86abc2f4c10b010a9c53d8dd31a",
            "9ea8f9dd0d1c4cbf949a558c23124cf2",
            "5b4ccdd3c25a45aa821a71ede0cd52b7",
            "80ce83b5ff014a34b6d5aceef33a771b",
            "243caa144d584ab0b0c03366b49859f8",
            "678b5b1a57954d9794e3b27521599187",
            "9231d6b1588b45d294be628bcfcdfd82",
            "8f6a230e7f87404f9daa5e0eda688226",
            "f32cf17dc1c447bbb5b8ff8d58793ed0",
            "b47b99f9309a465e9acfa163904d59e8",
            "43cb172df926418a98703ce175037f59",
            "098c2dbbd85147279a9f66b3c28c3c6d",
            "9bbf3b3c7ece40cc99d6e2275215d1e2",
            "757f3dfb21e24b2eb295ba5de10fd45b",
            "efb26688c604427286d6a92f2d442581",
            "69cfcfd3e9db4fe9a9c97241408a11df",
            "7c87df7bc7b54862afc4df2fde1efbd9",
            "674a628bbb0c4c74b1f79121b8a5cb7a",
            "8bb86e03cd6441afa06428424320ee78",
            "07a15412f0e8465dab546a42627d38fe",
            "e7f0e7a194484be08de1677d4746d6f6",
            "d70999147cba43db80484d0b471de963",
            "b720c97b0ffe459ba2802934948f0019",
            "a0eff43ee5d7472f96884f36ae4e7604",
            "ed8deeb60e3747a49ee114e013b733f4",
            "9f2c79bda9bf4ad1b3d8d0ed9052f4bb",
            "2b8893d014fb4866bdf5e231e2f03bf0",
            "4325cc044a48442f85e56d89356da0df",
            "b3da9a057b244456b1ff5ebbcbd04094",
            "460d2d265e914f5da9a843fb3d96f53a",
            "a4b8db2a03194cbdb90a4850740caf4c",
            "897b1eaa9b01483b93a0a737aa57f517",
            "09e2f43a35af4f7a885fb61c76fe298a",
            "7ce03b33e11544bf94ea4e279b91820a",
            "fe946428227e4e76abfb4d0cf702f0bb",
            "6be3292dc80a451cb14cd4ed148e955a",
            "17cb4545319440029cdc1c6407c15762",
            "6e830779a21042c695c08051d5941353",
            "bfc48d98bb4940d7b6890d39f703363d",
            "a6dee2f01be9493f865228251da753c7",
            "4b726f9aa9d444949d74021fcdca4df2",
            "a0b73e1b225e4177b6c4644d61c964ea",
            "3116f1881f8f4d5180956515f893d254",
            "3e6dd0b26f0e48c28162e5cfc7ab6e6b",
            "9d4cf9da5b7149769b601955087ee8c7",
            "1819593b13f440c0b45e94a0b8ddadd8",
            "954d5fb37c264aa5b9bc9294c926903d",
            "bd6e8c462d9d424cbdb184070616c853",
            "0c3094a2031140068868c63b46a5b0d3",
            "cc6ccc016a8a4d44a94aaa34ffdcd401",
            "ecb22de1c15a482089e23d203a3b4697",
            "4f2ae3210b9a4c8eb2944f56c53b2db4",
            "0b9989c418e44d33b3456c655986fdb7",
            "e7734a473b0c407ea2d3846716c1ca95",
            "bc3d9a38bd4246ecb2c0769cbb77d698",
            "bb0cdd688108457f967db208c5851325",
            "ceb89949844c4aafba12618b64abe08c",
            "a8f45a9307a843649e42da2d6bb14fed",
            "bad6bb9972de4953a7d810a95dbcd2b9",
            "083751134ef94627b830a31d63cf22c0",
            "1d579e23e42443baa1b2fcaf0935506f",
            "a18a00cfc86a43bc974bcb8a04dfa1ca",
            "8f17c1a80c85408499bfd81509e294ed",
            "48613172521140acb5f87caa7e6a6187",
            "b6d1eb1a898c4b35b2e2b0045af1dce3",
            "9be8ee363b0543f09b268935c8e59f54",
            "473835b7efdf44d4adf543de876371bd",
            "258bb88ca9f141c5b226fa5df047e284",
            "9e56a11b922e481e8f6b30c6721dd248",
            "81584fb85c7a4542a40b1a1c2c501e65",
            "6ee47b522ef84cafb73c32affa3f7a5b",
            "7917a9df4334446fb0b1e459e0df0a3b",
            "70a7def49213474a852afd52ea6e4615",
            "8679f77200ab4831987c12612bfc80c9",
            "66cb6a94eb2d4d35a681d85543314648",
            "e69115c43cf0410b990095643badb921",
            "67e5153fcc394f179a7ea76424fa63dd",
            "ce29633d6e61442184663a24241c8a7f",
            "57dc59fa66aa48efbbf144e49b8cf03c",
            "11f3dea628694658953dbc10fb9c9cd8",
            "e5a3a13d126745459762e61d0773de04",
            "e0f72c67779f4d38b8b516cb6ca2b327",
            "d7a239d33b3040fb9090d016a8524f01",
            "96eeb3a7b9284f28b0784238124d6e4c",
            "173e40ff05fe43baad37898d8634d4bb",
            "c61162c652c04d5b8df0e6db34cef50d",
            "161ff54aa4f247e285ffd3180781ed42",
            "971cb1992b7542ae8c8fa6f7139070ac",
            "28276902284e4411b2090daee8647381",
            "631ff6704a8d4b74a4de92ec48b74b1c",
            "36a77dabed2a402a8a9f4a19bc7d378c",
            "d574c2ac1de043688ab2a0a7cd14d1c9",
            "44cf68493e5f49dfbaa7e7aae2980c21",
            "a9bf6113c32d4eed81a787c4ba80673c",
            "86171e768017474dac2d5edd94b9b97d",
            "17bb6fbcde804dd09cefcd8a62d8bb1a",
            "83d50dbba5484fe9a1eac81a142319c0",
            "e10c2471ba84461682c7170321bdada3",
            "1f863ad1740a4116aa1ee941707b0993",
            "8577dad932c843f78fb2039a36376a20",
            "30cb227ce0da49699adb8959f1654093"
          ]
        },
        "id": "Yr7JQRfm3uZ1",
        "outputId": "bb257858-ca45-4633-84f0-849c4cc8b675"
      },
      "execution_count": 15,
      "outputs": [
        {
          "output_type": "display_data",
          "data": {
            "text/plain": [
              "modules.json:   0%|          | 0.00/349 [00:00<?, ?B/s]"
            ],
            "application/vnd.jupyter.widget-view+json": {
              "version_major": 2,
              "version_minor": 0,
              "model_id": "0eedd37efc184ca6b0ba8d68e4129a2c"
            }
          },
          "metadata": {}
        },
        {
          "output_type": "display_data",
          "data": {
            "text/plain": [
              "config_sentence_transformers.json:   0%|          | 0.00/124 [00:00<?, ?B/s]"
            ],
            "application/vnd.jupyter.widget-view+json": {
              "version_major": 2,
              "version_minor": 0,
              "model_id": "8e0c8be0baf14154b8f965222f3a1bc3"
            }
          },
          "metadata": {}
        },
        {
          "output_type": "display_data",
          "data": {
            "text/plain": [
              "README.md:   0%|          | 0.00/94.6k [00:00<?, ?B/s]"
            ],
            "application/vnd.jupyter.widget-view+json": {
              "version_major": 2,
              "version_minor": 0,
              "model_id": "5b4ccdd3c25a45aa821a71ede0cd52b7"
            }
          },
          "metadata": {}
        },
        {
          "output_type": "display_data",
          "data": {
            "text/plain": [
              "sentence_bert_config.json:   0%|          | 0.00/52.0 [00:00<?, ?B/s]"
            ],
            "application/vnd.jupyter.widget-view+json": {
              "version_major": 2,
              "version_minor": 0,
              "model_id": "757f3dfb21e24b2eb295ba5de10fd45b"
            }
          },
          "metadata": {}
        },
        {
          "output_type": "display_data",
          "data": {
            "text/plain": [
              "config.json:   0%|          | 0.00/777 [00:00<?, ?B/s]"
            ],
            "application/vnd.jupyter.widget-view+json": {
              "version_major": 2,
              "version_minor": 0,
              "model_id": "ed8deeb60e3747a49ee114e013b733f4"
            }
          },
          "metadata": {}
        },
        {
          "output_type": "display_data",
          "data": {
            "text/plain": [
              "model.safetensors:   0%|          | 0.00/438M [00:00<?, ?B/s]"
            ],
            "application/vnd.jupyter.widget-view+json": {
              "version_major": 2,
              "version_minor": 0,
              "model_id": "6be3292dc80a451cb14cd4ed148e955a"
            }
          },
          "metadata": {}
        },
        {
          "output_type": "display_data",
          "data": {
            "text/plain": [
              "tokenizer_config.json:   0%|          | 0.00/366 [00:00<?, ?B/s]"
            ],
            "application/vnd.jupyter.widget-view+json": {
              "version_major": 2,
              "version_minor": 0,
              "model_id": "954d5fb37c264aa5b9bc9294c926903d"
            }
          },
          "metadata": {}
        },
        {
          "output_type": "display_data",
          "data": {
            "text/plain": [
              "vocab.txt:   0%|          | 0.00/232k [00:00<?, ?B/s]"
            ],
            "application/vnd.jupyter.widget-view+json": {
              "version_major": 2,
              "version_minor": 0,
              "model_id": "a8f45a9307a843649e42da2d6bb14fed"
            }
          },
          "metadata": {}
        },
        {
          "output_type": "display_data",
          "data": {
            "text/plain": [
              "tokenizer.json:   0%|          | 0.00/711k [00:00<?, ?B/s]"
            ],
            "application/vnd.jupyter.widget-view+json": {
              "version_major": 2,
              "version_minor": 0,
              "model_id": "9e56a11b922e481e8f6b30c6721dd248"
            }
          },
          "metadata": {}
        },
        {
          "output_type": "display_data",
          "data": {
            "text/plain": [
              "special_tokens_map.json:   0%|          | 0.00/125 [00:00<?, ?B/s]"
            ],
            "application/vnd.jupyter.widget-view+json": {
              "version_major": 2,
              "version_minor": 0,
              "model_id": "11f3dea628694658953dbc10fb9c9cd8"
            }
          },
          "metadata": {}
        },
        {
          "output_type": "display_data",
          "data": {
            "text/plain": [
              "1_Pooling/config.json:   0%|          | 0.00/190 [00:00<?, ?B/s]"
            ],
            "application/vnd.jupyter.widget-view+json": {
              "version_major": 2,
              "version_minor": 0,
              "model_id": "36a77dabed2a402a8a9f4a19bc7d378c"
            }
          },
          "metadata": {}
        }
      ]
    },
    {
      "cell_type": "code",
      "source": [
        "import chromadb\n",
        "from chromadb.utils.embedding_functions import SentenceTransformerEmbeddingFunction\n"
      ],
      "metadata": {
        "id": "2WJ6yr0sQic6"
      },
      "execution_count": 16,
      "outputs": []
    },
    {
      "cell_type": "code",
      "source": [
        "chroma_client = chromadb.Client()\n",
        "chroma_collection = chroma_client.create_collection(\"microsoft_annual_report_20221\")\n",
        "vector_store = ChromaVectorStore(chroma_collection=chroma_collection)\n",
        "storage_context = StorageContext.from_defaults(vector_store=vector_store)"
      ],
      "metadata": {
        "id": "4QtCFV0g4my1"
      },
      "execution_count": 17,
      "outputs": []
    },
    {
      "cell_type": "code",
      "source": [
        "index = VectorStoreIndex(nodes, storage_context=storage_context, embed_model=embed_model, show_progress=True, use_async=True)\n"
      ],
      "metadata": {
        "colab": {
          "base_uri": "https://localhost:8080/"
        },
        "id": "2XTKFMzDUu06",
        "outputId": "5f809a90-9a06-4b30-b03e-2bc019d391e0"
      },
      "execution_count": 18,
      "outputs": [
        {
          "output_type": "stream",
          "name": "stderr",
          "text": [
            "Generating embeddings: 100%|██████████| 69/69 [00:09<00:00,  7.14it/s]\n"
          ]
        }
      ]
    },
    {
      "cell_type": "code",
      "source": [
        "#index = VectorStoreIndex.from_documents(\n",
        "#    documents, storage_context=storage_context, embed_model=embed_model, transformation = [SentenceSplitter(chunk_size=25, chunk_overlap=0),\n",
        "#        TitleExtractor(),], show_progress=True, use_async=True\n",
        "#)"
      ],
      "metadata": {
        "id": "OtzNdaqFQOhu"
      },
      "execution_count": 19,
      "outputs": []
    },
    {
      "cell_type": "markdown",
      "source": [
        "# **4. Calling LLM using GROQ API**"
      ],
      "metadata": {
        "id": "ZsALu_RYSoRz"
      }
    },
    {
      "cell_type": "code",
      "source": [
        "from google.colab import userdata\n",
        "from llama_index.llms.groq import Groq\n",
        "from llama_index.core.llms import ChatMessage\n",
        "groq_key = userdata.get('GROQ_API')\n",
        "llm = Groq(model=\"llama3-70b-8192\", api_key=groq_key) #https://docs.llamaindex.ai/en/stable/examples/llm/groq/#streaming"
      ],
      "metadata": {
        "id": "zhlzOC9CRb4I"
      },
      "execution_count": 20,
      "outputs": []
    },
    {
      "cell_type": "markdown",
      "source": [],
      "metadata": {
        "id": "ViSaDQFySm8b"
      }
    },
    {
      "cell_type": "code",
      "source": [
        "response = llm.complete(\"Explain the importance of low latency LLMs\")"
      ],
      "metadata": {
        "id": "HWn7wF0tSSQ3"
      },
      "execution_count": 21,
      "outputs": []
    },
    {
      "cell_type": "code",
      "source": [
        "print(response)"
      ],
      "metadata": {
        "colab": {
          "base_uri": "https://localhost:8080/"
        },
        "id": "5Z3YEHCOSdmt",
        "outputId": "c1de4af2-75da-43a9-f91b-19ad9f9d9277"
      },
      "execution_count": 22,
      "outputs": [
        {
          "output_type": "stream",
          "name": "stdout",
          "text": [
            "Low-latency Large Language Models (LLMs) are crucial in various applications where real-time or near-real-time processing is essential. Here are some reasons why low-latency LLMs are important:\n",
            "\n",
            "1. **Real-time Conversational AI**: In conversational AI, such as chatbots, virtual assistants, and voice assistants, low-latency LLMs enable rapid response times, making interactions feel more natural and human-like. This is particularly important in applications like customer service, where timely responses can significantly impact user experience and satisfaction.\n",
            "2. **Live Translation and Interpretation**: Low-latency LLMs can facilitate real-time language translation and interpretation, enabling seamless communication across languages and cultures. This is critical in applications like conference calls, video conferencing, and live events, where instant translation is necessary for effective communication.\n",
            "3. **Speech Recognition and Synthesis**: Low-latency LLMs can improve the accuracy and responsiveness of speech recognition systems, enabling faster and more accurate transcription of spoken language. This is essential in applications like voice-controlled devices, voice assistants, and transcription services.\n",
            "4. **Gaming and Interactive Systems**: In gaming and interactive systems, low-latency LLMs can enhance the overall gaming experience by enabling faster and more responsive interactions. This is particularly important in applications like online gaming, where latency can significantly impact gameplay and user experience.\n",
            "5. **Healthcare and Emergency Services**: In healthcare and emergency services, low-latency LLMs can facilitate rapid response times, enabling faster diagnosis, treatment, and decision-making. This is critical in applications like telemedicine, emergency response systems, and medical diagnosis.\n",
            "6. **Autonomous Systems and Robotics**: Low-latency LLMs can improve the responsiveness and decision-making capabilities of autonomous systems and robots, enabling them to react faster to changing environments and situations. This is essential in applications like self-driving cars, drones, and robotic assistants.\n",
            "7. **Edge Computing and IoT**: With the proliferation of edge computing and IoT devices, low-latency LLMs can enable real-time processing and analysis of data at the edge, reducing latency and improving overall system performance.\n",
            "8. **Improved User Experience**: Low-latency LLMs can significantly improve user experience by reducing waiting times, enabling faster interactions, and providing more responsive systems. This can lead to increased user satisfaction, engagement, and loyalty.\n",
            "9. **Competitive Advantage**: In many industries, low-latency LLMs can provide a competitive advantage by enabling faster and more responsive systems, which can lead to increased market share, revenue, and customer loyalty.\n",
            "10. **Future-Proofing**: As the demand for real-time processing and analysis continues to grow, low-latency LLMs will become increasingly important for future-proofing systems and applications, ensuring they can keep pace with evolving user expectations and technological advancements.\n",
            "\n",
            "In summary, low-latency LLMs are essential for applications that require real-time or near-real-time processing, enabling faster and more responsive interactions, improved user experience, and competitive advantage.\n"
          ]
        }
      ]
    },
    {
      "cell_type": "code",
      "source": [
        "response = llm.stream_complete(\"Explain the importance of low latency LLMs\")"
      ],
      "metadata": {
        "id": "YKawPvfbSjiX"
      },
      "execution_count": 23,
      "outputs": []
    },
    {
      "cell_type": "code",
      "source": [
        "for r in response:\n",
        "    print(r.delta, end=\"\")"
      ],
      "metadata": {
        "colab": {
          "base_uri": "https://localhost:8080/"
        },
        "id": "KlKZ2G-iTStZ",
        "outputId": "56ea0bd2-bfde-4dee-8707-d32325bacea8"
      },
      "execution_count": 24,
      "outputs": [
        {
          "output_type": "stream",
          "name": "stdout",
          "text": [
            "Low-latency Large Language Models (LLMs) are crucial in various applications where real-time or near-real-time processing is essential. Here are some reasons why low-latency LLMs are important:\n",
            "\n",
            "1. **Real-time Conversational AI**: In conversational AI, such as chatbots, voice assistants, and customer service platforms, low-latency LLMs enable rapid response times, making interactions feel more natural and human-like. This is particularly important in applications where users expect immediate responses, such as in customer support or virtual assistants.\n",
            "2. **Live Streaming and Broadcasting**: Low-latency LLMs are essential for live streaming and broadcasting applications, such as real-time transcription, subtitles, and closed captions. This ensures that viewers receive accurate and timely information, enhancing their overall experience.\n",
            "3. **Gaming and Interactive Systems**: In gaming and interactive systems, low-latency LLMs enable faster processing of player inputs, allowing for more responsive and immersive experiences. This is critical in applications where split-second decisions can affect gameplay outcomes.\n",
            "4. **Healthcare and Medical Applications**: In healthcare, low-latency LLMs can be used for real-time medical transcription, clinical decision support systems, and patient monitoring. Fast processing times are vital in these applications, where timely decisions can impact patient outcomes.\n",
            "5. **Financial Trading and Analytics**: In financial trading and analytics, low-latency LLMs enable rapid processing of large datasets, facilitating timely insights and decision-making. This is critical in applications where market trends and prices can change rapidly.\n",
            "6. **Autonomous Systems and Robotics**: Low-latency LLMs are essential in autonomous systems and robotics, where fast processing times are necessary for real-time decision-making and control. This is critical in applications such as self-driving cars, drones, and robotic assistants.\n",
            "7. **Edge Computing and IoT**: In edge computing and IoT applications, low-latency LLMs enable processing and analysis of data closer to the source, reducing latency and improving real-time decision-making capabilities.\n",
            "8. **Improved User Experience**: Low-latency LLMs can significantly improve user experience by reducing waiting times, enabling faster interactions, and providing more responsive systems. This leads to increased user satisfaction, engagement, and loyalty.\n",
            "9. **Competitive Advantage**: In many industries, low-latency LLMs can provide a competitive advantage by enabling faster decision-making, improved customer service, and more efficient operations.\n",
            "10. **Scalability and Efficiency**: Low-latency LLMs can also lead to improved scalability and efficiency, as they can handle larger volumes of data and requests without sacrificing performance.\n",
            "\n",
            "In summary, low-latency LLMs are crucial in various applications where real-time or near-real-time processing is essential. They enable faster decision-making, improved user experiences, and competitive advantages, making them a critical component of many modern technologies."
          ]
        }
      ]
    },
    {
      "cell_type": "markdown",
      "source": [
        "# **5. Query Engine**"
      ],
      "metadata": {
        "id": "kQUeFPM1Z2x-"
      }
    },
    {
      "cell_type": "code",
      "source": [
        "# Query Data\n",
        "query_engine = index.as_query_engine(llm = llm)\n",
        "response = query_engine.query(\"Measure revenue sources of mircrosoft?\")\n",
        "display(Markdown(f\"<b>{response}</b>\"))"
      ],
      "metadata": {
        "colab": {
          "base_uri": "https://localhost:8080/",
          "height": 116
        },
        "id": "qSZ8QepHZ1w-",
        "outputId": "a6c30bab-cac9-49a2-cbab-bd0a3a4956ef"
      },
      "execution_count": 25,
      "outputs": [
        {
          "output_type": "display_data",
          "data": {
            "text/plain": [
              "<IPython.core.display.Markdown object>"
            ],
            "text/markdown": "<b>Microsoft's revenue sources can be measured by the following categories: Server products and cloud services, Office products and cloud services, Windows, Gaming, and LinkedIn. Additionally, product revenue includes sales from operating systems, cross-device productivity applications, server applications, business solution applications, desktop and server management tools, software development tools, video games, and hardware such as PCs, tablets, gaming and entertainment consoles, other intelligent devices, and related accessories.</b>"
          },
          "metadata": {}
        }
      ]
    },
    {
      "cell_type": "markdown",
      "source": [
        "#**6. Hybrid Search**"
      ],
      "metadata": {
        "id": "VMQA3z9xac1E"
      }
    },
    {
      "cell_type": "code",
      "source": [
        "from llama_index.core import Settings\n",
        "Settings.llm = llm\n",
        "Settings.embed_model = embed_model"
      ],
      "metadata": {
        "id": "O453yeaUbNNZ"
      },
      "execution_count": 26,
      "outputs": []
    },
    {
      "cell_type": "code",
      "source": [
        "from llama_index.core.retrievers import QueryFusionRetriever\n",
        "\n",
        "\n",
        "retriever = QueryFusionRetriever(\n",
        "    [\n",
        "        index.as_retriever(similarity_top_k=4),\n",
        "        bm25_retriever,\n",
        "    ],\n",
        "    similarity_top_k=4, num_queries=1, use_async=True)"
      ],
      "metadata": {
        "id": "q-snbFIgabwa"
      },
      "execution_count": 27,
      "outputs": []
    },
    {
      "cell_type": "code",
      "source": [
        "# check how decide Alpha for Above"
      ],
      "metadata": {
        "id": "MQNL4NjPdAgj"
      },
      "execution_count": null,
      "outputs": []
    },
    {
      "cell_type": "markdown",
      "source": [],
      "metadata": {
        "id": "YAnSkUdtc_4m"
      }
    },
    {
      "cell_type": "code",
      "source": [
        "nodes = retriever.retrieve(\"Measure revenue sources of mircrosoft?\")\n",
        "for node in nodes:\n",
        "    display_source_node(node, source_length=5000)\n"
      ],
      "metadata": {
        "colab": {
          "base_uri": "https://localhost:8080/",
          "height": 588
        },
        "id": "b27hj2wnbULx",
        "outputId": "08b34c4b-8ff2-4bfb-eb26-77cc0b5a438a"
      },
      "execution_count": 28,
      "outputs": [
        {
          "output_type": "display_data",
          "data": {
            "text/plain": [
              "<IPython.core.display.Markdown object>"
            ],
            "text/markdown": "**Node ID:** c0e14145-fd5a-4fb1-8e46-6a52c7647d40<br>**Similarity:** 2.5193252563476562<br>**Text:** impracticability of determining the geographic source of the revenue.  \nRevenue, classified by significant product and service offerings, was as follows:  \n  \n(In millions)         \n        \nYear Ended June 30, 2022 2021 2020 \n        \nServer products and cloud services $ 67,321  $ 52,589  $ 41,379  \nOffice products and cloud services  44,862   39,872   35,316  \nWindows  24,761   22,488   21,510  \nGaming  16,230   15,370   11,575  \nLinkedIn  13,816   10,289   8,077<br>"
          },
          "metadata": {}
        },
        {
          "output_type": "display_data",
          "data": {
            "text/plain": [
              "<IPython.core.display.Markdown object>"
            ],
            "text/markdown": "**Node ID:** e11a9a93-c491-42a5-a821-3215b4e65e21<br>**Similarity:** 2.3889145851135254<br>**Text:** may incur future impairments.  \nEquity investments with readily determinable fair values are measured at fair value. Equity investments without readily \ndeterminable fair values are measured using the equity method or measured at cost with adjustments for observable \nchanges in price or impairments (referred to as the measurement alternative). We perform a qualitative assessment on a<br>"
          },
          "metadata": {}
        },
        {
          "output_type": "display_data",
          "data": {
            "text/plain": [
              "<IPython.core.display.Markdown object>"
            ],
            "text/markdown": "**Node ID:** 868f1a73-a39d-47eb-9383-e6d880059f0b<br>**Similarity:** 0.43679614752699<br>**Text:** Revenue  \nProduct Revenue and Service and Other Revenue  \nProduct revenue includes sales from operating systems, cross -device productivity applications, server applications, \nbusiness solution applications, desktop and server management tools, software development tools, video games, and \nhardware such as PCs, tablets, gaming and entertainment consoles, other intelligent devices, and related accessories.<br>"
          },
          "metadata": {}
        },
        {
          "output_type": "display_data",
          "data": {
            "text/plain": [
              "<IPython.core.display.Markdown object>"
            ],
            "text/markdown": "**Node ID:** 6b3c8c56-e690-4746-99c1-ac11e89f8485<br>**Similarity:** 0.43507119774795394<br>**Text:** support new startups, improve educational and health outcomes, and empower human ingenuity.  \nWe generate revenue by offering a wide range of cloud-based and other services to people and businesses; licensing and \nsupporting an array of software products; designing, manufacturing, and selling devices; and delivering relevant online \nadvertising to a global audience. Our most significant expenses are related to compensating employees; designing,<br>"
          },
          "metadata": {}
        }
      ]
    },
    {
      "cell_type": "code",
      "source": [
        "from llama_index.core.query_engine import RetrieverQueryEngine\n",
        "\n",
        "query_engine = RetrieverQueryEngine(retriever)"
      ],
      "metadata": {
        "id": "mTFipAJVdPU2"
      },
      "execution_count": 29,
      "outputs": []
    },
    {
      "cell_type": "code",
      "source": [
        "response = query_engine.query(\"Measure revenue sources of mircrosoft?\")\n",
        "print(response)"
      ],
      "metadata": {
        "colab": {
          "base_uri": "https://localhost:8080/"
        },
        "id": "JGxwNMLXdUu2",
        "outputId": "d7b84db6-8181-4be5-be52-10dfacf6716f"
      },
      "execution_count": 30,
      "outputs": [
        {
          "output_type": "stream",
          "name": "stdout",
          "text": [
            "Revenue sources of Microsoft can be measured by classifying them into significant product and service offerings, which include Server products and cloud services, Office products and cloud services, Windows, Gaming, and LinkedIn.\n"
          ]
        }
      ]
    },
    {
      "cell_type": "markdown",
      "source": [
        "# Cross- ReRanker"
      ],
      "metadata": {
        "id": "znFq5HmoFkeh"
      }
    },
    {
      "cell_type": "markdown",
      "source": [
        "# **5. Query Expansion**"
      ],
      "metadata": {
        "id": "i2QPGMWNHRVK"
      }
    },
    {
      "cell_type": "code",
      "source": [
        "!pip install umap-learn --quiet"
      ],
      "metadata": {
        "colab": {
          "base_uri": "https://localhost:8080/"
        },
        "id": "xHZuEyXzLiT6",
        "outputId": "cda1ea3e-4a4c-4fd8-c181-28cf088da523"
      },
      "execution_count": 31,
      "outputs": [
        {
          "output_type": "stream",
          "name": "stdout",
          "text": [
            "\u001b[?25l   \u001b[90m━━━━━━━━━━━━━━━━━━━━━━━━━━━━━━━━━━━━━━━━\u001b[0m \u001b[32m0.0/88.8 kB\u001b[0m \u001b[31m?\u001b[0m eta \u001b[36m-:--:--\u001b[0m\r\u001b[2K   \u001b[90m━━━━━━━━━━━━━━━━━━━━━━━━━━━━━━━━━━━━━━━━\u001b[0m \u001b[32m88.8/88.8 kB\u001b[0m \u001b[31m8.3 MB/s\u001b[0m eta \u001b[36m0:00:00\u001b[0m\n",
            "\u001b[?25h\u001b[?25l   \u001b[90m━━━━━━━━━━━━━━━━━━━━━━━━━━━━━━━━━━━━━━━━\u001b[0m \u001b[32m0.0/56.9 kB\u001b[0m \u001b[31m?\u001b[0m eta \u001b[36m-:--:--\u001b[0m\r\u001b[2K   \u001b[90m━━━━━━━━━━━━━━━━━━━━━━━━━━━━━━━━━━━━━━━━\u001b[0m \u001b[32m56.9/56.9 kB\u001b[0m \u001b[31m5.5 MB/s\u001b[0m eta \u001b[36m0:00:00\u001b[0m\n",
            "\u001b[?25h"
          ]
        }
      ]
    },
    {
      "cell_type": "code",
      "source": [
        "import umap.umap_ as umap\n",
        "import numpy as np\n",
        "from tqdm import tqdm"
      ],
      "metadata": {
        "id": "RAN_f2QWL2Bc"
      },
      "execution_count": 32,
      "outputs": []
    },
    {
      "cell_type": "markdown",
      "source": [
        "\n",
        "*   Expansion with multiple queries\n",
        "\n"
      ],
      "metadata": {
        "id": "TvwB6ED1NRnb"
      }
    },
    {
      "cell_type": "code",
      "source": [
        "def augment_multiple_query(query, llm):\n",
        "\n",
        "    messages = [\n",
        "    ChatMessage(\n",
        "        role=\"system\", content=\"You are a helpful expert financial research assistant. Your users are asking questions about an annual report. \"\n",
        "            \"Suggest up to five additional related questions to help them find the information they need, for the provided question. \"\n",
        "            \"Suggest only short questions without compound sentences. Suggest a variety of questions that cover different aspects of the topic.\"\n",
        "            \"Make sure they are complete questions, and that they are related to the original question.\"\n",
        "            \"Output one question per line. Do not number the questions.\"\n",
        "    ),\n",
        "    ChatMessage(role=\"user\", content=query ),\n",
        "    ]\n",
        "    resp = llm.chat(messages)\n",
        "    return resp"
      ],
      "metadata": {
        "id": "iEDhiQuXMVX0"
      },
      "execution_count": 33,
      "outputs": []
    },
    {
      "cell_type": "code",
      "source": [
        "original_query = \"What were the most important factors that contributed to increases in revenue?\"\n",
        "aug_queries = augment_multiple_query(original_query, llm)\n",
        "print(aug_queries)\n"
      ],
      "metadata": {
        "colab": {
          "base_uri": "https://localhost:8080/"
        },
        "id": "Hf4mamDNMdAX",
        "outputId": "6ff62d28-7f70-4bde-b095-1777818dc16d"
      },
      "execution_count": 34,
      "outputs": [
        {
          "output_type": "stream",
          "name": "stdout",
          "text": [
            "assistant: What was the total revenue for the year?\n",
            "Which product or service segment generated the most revenue?\n",
            "Were there any significant changes in pricing or sales volume?\n",
            "Did the company experience any notable acquisitions or divestitures?\n",
            "Were there any changes in the company's business model or strategy?\n"
          ]
        }
      ]
    },
    {
      "cell_type": "code",
      "source": [
        "augmented_queries = aug_queries.message.blocks[0].text.split(\"\\n\")\n",
        "queries = [original_query] + augmented_queries"
      ],
      "metadata": {
        "id": "bsxtTaBOM_eo"
      },
      "execution_count": 35,
      "outputs": []
    },
    {
      "cell_type": "code",
      "source": [
        "results = chroma_collection.query(query_texts=queries, n_results=5, include=['documents', 'embeddings'])\n"
      ],
      "metadata": {
        "id": "MWjKh7BKNFpT"
      },
      "execution_count": null,
      "outputs": []
    },
    {
      "cell_type": "markdown",
      "source": [
        "Now integrate re-ranker, graph search too and later on image search.  "
      ],
      "metadata": {
        "id": "oQPWy0UadgQX"
      }
    },
    {
      "cell_type": "code",
      "source": [
        "def rag(query, retrieved_documents, llm):\n",
        "    information = \"\\n\\n\".join(retrieved_documents)\n",
        "\n",
        "    messages = [\n",
        "    ChatMessage(\n",
        "        role=\"system\", content=\"You are a helpful expert financial research assistant. Your users are asking questions about information contained in an annual report. You will be shown the user's question, and the relevant information from the annual report. Answer the user's question using only this information.\"\n",
        "    ),\n",
        "    ChatMessage(role=\"user\", content=f\"Question: {query}. \\n Information: {information}\"),\n",
        "    ]\n",
        "\n",
        "    resp = llm.stream_chat(messages)\n",
        "    return resp\n"
      ],
      "metadata": {
        "id": "kHlBXNmdXlqh"
      },
      "execution_count": null,
      "outputs": []
    },
    {
      "cell_type": "code",
      "source": [
        "output = rag(query=query, retrieved_documents=retrieved_documents, llm = llm)\n",
        "\n",
        "for r in output:\n",
        "    print(r.delta, end=\"\")"
      ],
      "metadata": {
        "colab": {
          "base_uri": "https://localhost:8080/"
        },
        "id": "ftHZwTByYclb",
        "outputId": "ab77697e-0af1-4adb-dad6-401aafaf554e"
      },
      "execution_count": null,
      "outputs": [
        {
          "output_type": "stream",
          "name": "stdout",
          "text": [
            "The total revenue was $198,270 million."
          ]
        }
      ]
    },
    {
      "cell_type": "code",
      "source": [],
      "metadata": {
        "id": "QLGcquB-H6zl",
        "colab": {
          "base_uri": "https://localhost:8080/"
        },
        "outputId": "c73906df-a82c-4dcc-9f04-a79b64cd7621"
      },
      "execution_count": null,
      "outputs": [
        {
          "output_type": "stream",
          "name": "stdout",
          "text": [
            "\u001b[?25l   \u001b[90m━━━━━━━━━━━━━━━━━━━━━━━━━━━━━━━━━━━━━━━━\u001b[0m \u001b[32m0.0/88.8 kB\u001b[0m \u001b[31m?\u001b[0m eta \u001b[36m-:--:--\u001b[0m\r\u001b[2K   \u001b[90m━━━━━━━━━━━━━━━━━━━━━━━━━━━━━━━━━━━━━━━━\u001b[0m \u001b[32m88.8/88.8 kB\u001b[0m \u001b[31m3.5 MB/s\u001b[0m eta \u001b[36m0:00:00\u001b[0m\n",
            "\u001b[?25h\u001b[?25l   \u001b[90m━━━━━━━━━━━━━━━━━━━━━━━━━━━━━━━━━━━━━━━━\u001b[0m \u001b[32m0.0/56.9 kB\u001b[0m \u001b[31m?\u001b[0m eta \u001b[36m-:--:--\u001b[0m\r\u001b[2K   \u001b[90m━━━━━━━━━━━━━━━━━━━━━━━━━━━━━━━━━━━━━━━━\u001b[0m \u001b[32m56.9/56.9 kB\u001b[0m \u001b[31m3.9 MB/s\u001b[0m eta \u001b[36m0:00:00\u001b[0m\n",
            "\u001b[?25h"
          ]
        }
      ]
    },
    {
      "cell_type": "code",
      "source": [],
      "metadata": {
        "id": "9NyydtJ0L7hW"
      },
      "execution_count": null,
      "outputs": []
    },
    {
      "cell_type": "code",
      "source": [
        "#!pip uninstall umap\n"
      ],
      "metadata": {
        "id": "aaZxDg-cLY1a"
      },
      "execution_count": null,
      "outputs": []
    },
    {
      "cell_type": "code",
      "source": [
        "#import umap\n",
        "import umap.umap_ as umap\n",
        "import numpy as np\n",
        "from tqdm import tqdm"
      ],
      "metadata": {
        "id": "eWhc4pDcHB0t"
      },
      "execution_count": null,
      "outputs": []
    },
    {
      "cell_type": "code",
      "source": [
        "embeddings = chroma_collection.get(include=['embeddings'])['embeddings']\n",
        "umap_tranform = umap.UMAP(random_state=0, transform_seed=0).fit(embeddings)"
      ],
      "metadata": {
        "id": "m-PCyh8lHeb6",
        "colab": {
          "base_uri": "https://localhost:8080/"
        },
        "outputId": "0162365b-1603-48e3-e373-a0cab1e273d5"
      },
      "execution_count": null,
      "outputs": [
        {
          "output_type": "stream",
          "name": "stderr",
          "text": [
            "/usr/local/lib/python3.10/dist-packages/sklearn/utils/deprecation.py:151: FutureWarning: 'force_all_finite' was renamed to 'ensure_all_finite' in 1.6 and will be removed in 1.8.\n",
            "  warnings.warn(\n",
            "/usr/local/lib/python3.10/dist-packages/umap/umap_.py:1952: UserWarning: n_jobs value 1 overridden to 1 by setting random_state. Use no seed for parallelism.\n",
            "  warn(\n"
          ]
        }
      ]
    },
    {
      "cell_type": "markdown",
      "source": [
        "\n",
        "\n",
        "*   Expansion with generated answers\n",
        "\n"
      ],
      "metadata": {
        "id": "9Xwk2aUXMhAa"
      }
    },
    {
      "cell_type": "code",
      "source": [
        "def augment_query_generated(query, llm):\n",
        "    messages = [\n",
        "    ChatMessage(\n",
        "        role=\"system\", content=\"You are a helpful expert financial research assistant. Provide an example answer to the given question, that might be found in a document like an annual report. \"\n",
        "    ),\n",
        "    ChatMessage(role=\"user\", content=f\"Question: {query}\"),\n",
        "    ]\n",
        "\n",
        "    resp = llm.chat(messages)\n",
        "    return resp"
      ],
      "metadata": {
        "id": "j9yw-ISKMrq7"
      },
      "execution_count": null,
      "outputs": []
    },
    {
      "cell_type": "code",
      "source": [
        "original_query = \"Was there significant turnover in the executive team?\"\n",
        "hypothetical_answer = augment_query_generated(original_query, llm)\n",
        "\n",
        "joint_query = f\"{original_query} {hypothetical_answer}\"\n",
        "print(textwrap.fill(joint_query))"
      ],
      "metadata": {
        "colab": {
          "base_uri": "https://localhost:8080/"
        },
        "id": "bhyxZrDoN8Cx",
        "outputId": "700ee6a5-e5f3-4b44-dca9-855129203b0d"
      },
      "execution_count": null,
      "outputs": [
        {
          "output_type": "stream",
          "name": "stdout",
          "text": [
            "Was there significant turnover in the executive team? assistant:\n",
            "Here's an example answer that might be found in an annual report:\n",
            "**Executive Team Changes**  During the fiscal year, our company\n",
            "experienced some changes in its executive leadership team. In January,\n",
            "our Chief Operating Officer (COO), John Smith, announced his\n",
            "retirement after 10 years of service to the company. John played a\n",
            "crucial role in shaping our operational strategy and will be deeply\n",
            "missed. We are grateful for his contributions and wish him all the\n",
            "best in his future endeavors.  In February, we appointed Jane Doe as\n",
            "our new COO. Jane brings over 15 years of experience in the industry\n",
            "and has a proven track record of driving operational excellence and\n",
            "growth. We are excited to have her on board and are confident that she\n",
            "will continue to build on the strong foundation established by her\n",
            "predecessor.  Additionally, in June, our Chief Financial Officer\n",
            "(CFO), Michael Johnson, left the company to pursue another\n",
            "opportunity. We appreciate the significant contributions Michael made\n",
            "during his three-year tenure, including his role in guiding the\n",
            "company through a period of rapid growth.  In July, we welcomed Emily\n",
            "Chen as our new CFO. Emily has an impressive background in finance and\n",
            "accounting, with over a decade of experience in the industry. We are\n",
            "confident that her expertise will be invaluable in helping us achieve\n",
            "our long-term financial goals.  While these changes presented some\n",
            "challenges, we are pleased to report that the transitions were smooth\n",
            "and did not disrupt our operations. Our executive team remains\n",
            "committed to driving growth, innovation, and value creation for our\n",
            "shareholders.\n"
          ]
        }
      ]
    },
    {
      "cell_type": "code",
      "source": [
        "results = chroma_collection.query(query_texts=joint_query, n_results=5, include=['documents', 'embeddings'])\n",
        "retrieved_documents = results['documents'][0]\n",
        "\n",
        "for doc in retrieved_documents:\n",
        "    print(textwrap.fill(doc))\n",
        "    print('')"
      ],
      "metadata": {
        "colab": {
          "base_uri": "https://localhost:8080/"
        },
        "id": "7KwAe1jkObjB",
        "outputId": "e080011c-9b03-41ac-b186-8944689c1d97"
      },
      "execution_count": null,
      "outputs": [
        {
          "output_type": "stream",
          "name": "stdout",
          "text": [
            "89 directors and executive officers of microsoft corporation directors\n",
            "satya nadella chairman and chief executive officer, microsoft\n",
            "corporation sandra e. peterson 2, 3 operating partner, clayton,\n",
            "dubilier & rice, llc john w. stanton 1, 4 founder and chairman,\n",
            "trilogy partnerships reid g. hoffman 4 general partner, greylock\n",
            "partners penny s. pritzker 4 founder and chairman, psp partners, llc\n",
            "john w. thompson 3, 4 lead independent director, microsoft corporation\n",
            "hugh f. johnston 1 vice chairman and executive vice president and\n",
            "chief financial officer, pepsico, inc. carlos a. rodriguez 1 chief\n",
            "executive officer, adp, inc. emma n. walmsley 2, 4 chief executive\n",
            "officer, gsk, plc teri l. list 1, 3 former executive vice president\n",
            "and chief financial officer, gap, inc. charles w. scharf 2, 3 chief\n",
            "executive officer and president, wells fargo & company padmasree\n",
            "warrior 2 founder, president and chief executive\n",
            "\n",
            "officer, fable group inc. board committees 1. audit committee 2.\n",
            "compensation committee 3. governance and nominating committee 4.\n",
            "environmental, social, and public policy committee executive officers\n",
            "satya nadella chairman and chief executive officer amy e. hood\n",
            "executive vice president and chief financial officer judson althoff\n",
            "executive vice president and chief commercial officer bradford l.\n",
            "smith vice chair and president christopher c. capossela executive vice\n",
            "president, marketing and consumer business, and chief marketing\n",
            "officer christopher d. young executive vice president, business\n",
            "development, strategy, and ventures kathleen t. hogan executive vice\n",
            "president and chief human resources officer\n",
            "\n",
            "30 management ’ s discussion and analysis of financial condition and\n",
            "results of operations the following management ’ s discussion and\n",
            "analysis of financial condition and results of operations ( “ md & a ”\n",
            ") is intended to help the reader understand the results of operations\n",
            "and financial condition of microsoft corporation. md & a is provided\n",
            "as a supplement to, and should be read in conjunction with, our\n",
            "consolidated financial statements and the accompanying notes to\n",
            "financial statements in our fiscal year 2022 form 10 - k. this section\n",
            "generally discusses the results of our operations for the year ended\n",
            "june 30, 2022 compared to the year ended june 30, 2021. for a\n",
            "discussion of the year ended june 30, 2021 compared to the year ended\n",
            "june 30, 2020, please refer to in our fiscal year 2022 form 10 - k, “\n",
            "management ’ s discussion and analysis of financial condition and\n",
            "results of operations ” in our annual report on form 10 - k for the\n",
            "year ended june 30, 2021. overview\n",
            "\n",
            "88 report of independent registered public accounting firm to the\n",
            "stockholders and the board of directors of microsoft corporation\n",
            "opinion on internal control over financial reporting we have audited\n",
            "the internal control over financial reporting of microsoft corporation\n",
            "and subsidiaries ( the “ company ” ) as of june 30, 2022, based on\n",
            "criteria established in internal control — integrated framework ( 2013\n",
            ") issued by the committee of sponsoring organizations of the treadway\n",
            "commission ( coso ). in our opinion, the company maintained, in all\n",
            "material respects, effective internal control over financial reporting\n",
            "as of june 30, 2022, based on criteria establis hed in internal\n",
            "control — integrated framework ( 2013 ) issued by coso. we have also\n",
            "audited, in accordance with the standards of the public company\n",
            "accounting oversight board ( united states ) ( pcaob ), the\n",
            "consolidated financial statements as of and for the year ended june\n",
            "30, 2022, of the company and\n",
            "\n",
            "84 report of independent registered public accounting firm to the\n",
            "stockholders and the board of directors of microsoft corporation\n",
            "opinion on the financial statements we have audited the accompanying\n",
            "consolidated balance sheets of microsoft corporation and subsidiaries\n",
            "( the “ company ” ) as of june 30, 2022 and 2021, the related\n",
            "consolidated statements of income, comprehensive income, cash flows,\n",
            "and stockholders ’ equity, for each of the three years in the period\n",
            "ended june 30, 2022, and the related notes ( collectively referred to\n",
            "as the “ financial statements ” ). in our opinion, the financial\n",
            "statements present fairly, in all mat erial respects, the financial\n",
            "position of the company as of june 30, 2022 and 2021, and the results\n",
            "of its operations and its cash flows for each of the three years in\n",
            "the period ended june 30, 2022, in conformity with accounting\n",
            "principles generally accepted in the united states of america.\n",
            "\n"
          ]
        }
      ]
    },
    {
      "cell_type": "markdown",
      "source": [
        "\n",
        "*   Expansion with multiple queries\n",
        "\n",
        "\n"
      ],
      "metadata": {
        "id": "-Sc80P7LMYlL"
      }
    },
    {
      "cell_type": "code",
      "source": [
        "def augment_multiple_query(query, llm):\n",
        "\n",
        "    messages = [\n",
        "    ChatMessage(\n",
        "        role=\"system\", content=\"You are a helpful expert financial research assistant. Your users are asking questions about an annual report. \"\n",
        "            \"Suggest up to five additional related questions to help them find the information they need, for the provided question. \"\n",
        "            \"Suggest only short questions without compound sentences. Suggest a variety of questions that cover different aspects of the topic.\"\n",
        "            \"Make sure they are complete questions, and that they are related to the original question.\"\n",
        "            \"Output one question per line. Do not number the questions.\"\n",
        "    ),\n",
        "    ChatMessage(role=\"user\", content=query ),\n",
        "    ]\n",
        "    resp = llm.chat(messages)\n",
        "    return resp"
      ],
      "metadata": {
        "id": "rZh8L4neLEOR"
      },
      "execution_count": null,
      "outputs": []
    },
    {
      "cell_type": "code",
      "source": [
        "original_query = \"What were the most important factors that contributed to increases in revenue?\"\n",
        "aug_queries = augment_multiple_query(original_query, llm)\n",
        "print(aug_queries)\n",
        "\n"
      ],
      "metadata": {
        "colab": {
          "base_uri": "https://localhost:8080/"
        },
        "id": "CRz5aqB6PTUi",
        "outputId": "6becda96-32f4-455d-808f-36899a7c1c0e"
      },
      "execution_count": null,
      "outputs": [
        {
          "output_type": "stream",
          "name": "stdout",
          "text": [
            "assistant: What was the total revenue for the year?\n",
            "Were there any new product or service launches?\n",
            "Did the company experience any changes in pricing?\n",
            "Were there any significant acquisitions or divestitures?\n",
            "Did the company expand into new markets or geographies?\n"
          ]
        }
      ]
    },
    {
      "cell_type": "code",
      "source": [
        "augmented_queries = aug_queries.message.blocks[0].text.split(\"\\n\")\n",
        "queries = [original_query] + augmented_queries\n",
        "results = chroma_collection.query(query_texts=queries, n_results=5, include=['documents', 'embeddings'])\n",
        "\n",
        "retrieved_documents = results['documents']\n",
        "\n",
        "# Deduplicate the retrieved documents\n",
        "unique_documents = set()\n",
        "for documents in retrieved_documents:\n",
        "    for document in documents:\n",
        "        unique_documents.add(document)\n",
        "\n",
        "for i, documents in enumerate(retrieved_documents):\n",
        "    print(f\"Query: {queries[i]}\")\n",
        "    print('')\n",
        "    print(\"Results:\")\n",
        "    for doc in documents:\n",
        "        print(textwrap.fill(doc))\n",
        "        print('')\n",
        "    print('-'*100)"
      ],
      "metadata": {
        "colab": {
          "base_uri": "https://localhost:8080/"
        },
        "id": "yNSwDKkGRDub",
        "outputId": "003c5493-7670-4c80-b67b-5825a73ace6b"
      },
      "execution_count": null,
      "outputs": [
        {
          "output_type": "stream",
          "name": "stdout",
          "text": [
            "Query: What were the most important factors that contributed to increases in revenue?\n",
            "\n",
            "Results:\n",
            "engineering, gaming, and linkedin. • sales and marketing expenses\n",
            "increased $ 1. 7 billion or 8 % driven by investments in commercial\n",
            "sales and linkedin. sales and marketing included a favorable foreign\n",
            "currency impact of 2 %. • general and administrative expenses\n",
            "increased $ 793 million or 16 % driven by investments in corporate\n",
            "functions. operating income increased $ 13. 5 billion or 19 % driven\n",
            "by growth across each of our segments. current year net income and\n",
            "diluted eps were positively impacted by the net tax benefit related to\n",
            "the transfer of intangible properties, which resulted in an increase\n",
            "to net income and diluted eps of $ 3. 3 billion and $ 0. 44,\n",
            "respectively. prior year net income and diluted eps were positively\n",
            "impacted by the net tax benefit related to the india supreme court\n",
            "decision on withholding taxes, which resulted in an increase to net\n",
            "income and diluted eps of $ 620 million and $ 0. 08, respectively.\n",
            "\n",
            "independent recalculation of prices where appropriate. cash flows cash\n",
            "from operations increased $ 12. 3 billion to $ 89. 0 billion for\n",
            "fiscal year 2022, mainly due to an increase in cash received from\n",
            "customers, offset in part by an increase in cash paid to suppliers and\n",
            "employees. cash used in financing increased $ 10. 4 billion to $ 58. 9\n",
            "billion for fiscal year 2022, mainly due to a $ 5. 3 billion increase\n",
            "in common stock repurchases and a $ 5. 3 billion increase in\n",
            "repayments of debt. cash used in investing increased $ 2. 7 billion to\n",
            "$ 30. 3 billion for fiscal year 2022, mainly due to a $ 13. 1 billion\n",
            "increase in cash used for acquisitions of companies, net of cash\n",
            "acquired, and purchases of intangible and other assets, and a $ 3. 3\n",
            "billion increase in additions to property and equipment, offset in\n",
            "part by a $ 15. 6 billion increase in cash from net investment\n",
            "purchases, sales, and maturities.\n",
            "\n",
            "37 general and administrative expenses include payroll, employee\n",
            "benefits, stock - based compensation expense, and other headcount -\n",
            "related expenses associated with finance, legal, facilities, certain\n",
            "human resources and other administrative personnel, certain taxes, and\n",
            "legal and other administrative fees. general and administrative\n",
            "expenses increased $ 793 million or 16 % driven by investments in\n",
            "corporate functions. other income ( expense ), net the components of\n",
            "other income ( expense ), net were as follows : ( in millions ) year\n",
            "ended june 30, 2022 2021 interest and dividends income $ 2, 094 $ 2,\n",
            "131 interest expense ( 2, 063 ) ( 2, 346 ) net recognized gains on\n",
            "investments 461 1, 232 net gains ( losses ) on derivatives ( 52 ) 17\n",
            "net gains ( losses ) on foreign currency remeasurements ( 75 ) 54\n",
            "other, net ( 32 ) 98 total $ 333 $ 1, 186\n",
            "\n",
            "• windows revenue increased $ 2. 3 billion or 10 % driven by growth in\n",
            "windows oem and windows commercial. windows oem revenue increased 11 %\n",
            "driven by continued strength in the commercial pc market, which has\n",
            "higher revenue per license. windows commercial products and cloud\n",
            "services revenue increased 11 % driven by demand for microsoft 365.\n",
            "\n",
            "34 net income tax benefit related to an india supreme court decision\n",
            "on withholding taxes in the third quarter of fiscal year 2021. refer\n",
            "to the non - gaap financial measures section below for a\n",
            "reconciliation of our financial results reported in accordance with\n",
            "gaap to non - gaap financial results. see note 12 – income taxes of\n",
            "the notes to financial statements in our fiscal year 2022 form 10 - k\n",
            "for further discussion. fiscal year 2022 compared with fiscal year\n",
            "2021 revenue increased $ 30. 2 billion or 18 % driven by growth across\n",
            "each of our segments. intelligent cloud revenue increased driven by\n",
            "azure and other cloud services. productivity and business processes\n",
            "revenue increased driven by office 365 commercial and linkedin. more\n",
            "personal computing revenue increased driven by search and news\n",
            "advertising and windows. cost of revenue increased $ 10. 4 billion or\n",
            "20 % driven by growth in microsoft cloud.\n",
            "\n",
            "----------------------------------------------------------------------------------------------------\n",
            "Query: What was the total revenue for the year?\n",
            "\n",
            "Results:\n",
            "74 note 13 — unearned revenue unearned revenue by segment was as\n",
            "follows : ( in millions ) june 30, 2022 2021 productivity and business\n",
            "processes $ 24, 558 $ 22, 120 intelligent cloud 19, 371 17, 710 more\n",
            "personal computing 4, 479 4, 311 total $ 48, 408 $ 44, 141 changes in\n",
            "unearned revenue were as follows : ( in millions ) year ended june 30,\n",
            "2022 balance, beginning of period $ 44, 141 deferral of revenue 110,\n",
            "455 recognition of unearned revenue ( 106, 188 ) balance, end of\n",
            "period $ 48, 408 revenue allocated to remaining performance\n",
            "obligations, which includes unearned revenue and amounts that will be\n",
            "invoiced and recognized as revenue in future periods, was $ 193\n",
            "billion as of june 30, 2022, of which $ 189 billion is related to the\n",
            "commercial portion of revenue. we expect to recognize approximately 45\n",
            "% of this revenue over the next 12 months and the remainder\n",
            "thereafter. note 14 — leases\n",
            "\n",
            "that are not sold separately. • we tested the mathematical accuracy of\n",
            "management ’ s calculations of revenue and the associated timing of\n",
            "revenue recognized in the financial statements.\n",
            "\n",
            "intelligent cloud 32, 721 26, 126 18, 324 more personal computing 20,\n",
            "975 19, 439 15, 911 total $ 83, 383 $ 69, 916 $ 52, 959 no sales to an\n",
            "individual customer or country other than the united states accounted\n",
            "for more than 10 % of revenue for fiscal years 2022, 2021, or 2020.\n",
            "revenue, classified by the major geographic areas in which our\n",
            "customers were located, was as follows : ( in millions ) year ended\n",
            "june 30, 2022 2021 2020 united states ( a ) $ 100, 218 $ 83, 953 $ 73,\n",
            "160 other countries 98, 052 84, 135 69, 855 total $ 198, 270 $ 168,\n",
            "088 $ 143, 015 ( a ) includes billings to oems and certain\n",
            "multinational organizations because of the nature of these businesses\n",
            "and the impracticability of determining the geographic source of the\n",
            "revenue. revenue, classified by significant product and service\n",
            "offerings, was as follows : ( in millions ) year ended june 30, 2022\n",
            "2021 2020\n",
            "\n",
            "47 financial statements and supplementary data income statements ( in\n",
            "millions, except per share amounts ) year ended june 30, 2022 2021\n",
            "2020 revenue : product $ 72, 732 $ 71, 074 $ 68, 041 service and other\n",
            "125, 538 97, 014 74, 974 total revenue 198, 270 168, 088 143, 015 cost\n",
            "of revenue : product 19, 064 18, 219 16, 017 service and other 43, 586\n",
            "34, 013 30, 061 total cost of revenue 62, 650 52, 232 46, 078 gross\n",
            "margin 135, 620 115, 856 96, 937 research and development 24, 512 20,\n",
            "716 19, 269 sales and marketing 21, 825 20, 117 19, 598 general and\n",
            "administrative 5, 900 5, 107 5, 111 operating income 83, 383 69, 916\n",
            "52, 959 other income, net 333 1, 186 77 income before income taxes 83,\n",
            "716 71, 102 53, 036 provision for income taxes 10, 978 9, 831 8, 755\n",
            "net income $ 72, 738 $ 61, 271 $ 44, 281\n",
            "\n",
            "82 in addition, certain costs incurred at a corporate level that are\n",
            "identifiable and that benefit our segments are allocated to them.\n",
            "these allocated costs include legal, including settlements and fines,\n",
            "information technology, human resources, finance, excise taxes, field\n",
            "selling, shared facilities services, and customer service and support.\n",
            "each allocation is measured differently based on the specific facts\n",
            "and circumstances of the costs being allocated. segment revenue and\n",
            "operating income were as follows during the periods presented : ( in\n",
            "millions ) year ended june 30, 2022 2021 2020 revenue productivity and\n",
            "business processes $ 63, 364 $ 53, 915 $ 46, 398 intelligent cloud 75,\n",
            "251 60, 080 48, 366 more personal computing 59, 655 54, 093 48, 251\n",
            "total $ 198, 270 $ 168, 088 $ 143, 015 operating income productivity\n",
            "and business processes $ 29, 687 $ 24, 351 $ 18, 724\n",
            "\n",
            "----------------------------------------------------------------------------------------------------\n",
            "Query: Were there any new product or service launches?\n",
            "\n",
            "Results:\n",
            "31 industry trends our industry is dynamic and highly competitive,\n",
            "with frequent changes in both technologies and business models. each\n",
            "industry shift is an opportunity to conceive new products, new\n",
            "technologies, or new ideas that can further transform the industry and\n",
            "our business. at microsoft, we push the boundaries of what is possible\n",
            "through a broad range of research and development activities that seek\n",
            "to identify and address the changing demands of customers and users,\n",
            "industry trends, and competitive forces. economic conditions,\n",
            "challenges, and risks the markets for software, devices, and cloud -\n",
            "based services are dynamic and highly competitive. our competitors are\n",
            "developing new software and devices, while also deploying competing\n",
            "cloud - based services for consumers and businesses. the devices and\n",
            "form factors customers prefer evolve rapidly, and influence how users\n",
            "access services in\n",
            "\n",
            "our success is based on our ability to create new and compelling\n",
            "products, services, and experiences for our users, to initiate and\n",
            "embrace disruptive technology trends, to enter new geographic and\n",
            "product markets, and to drive broad adoption of our products and\n",
            "services. we invest in a range of emerging technology trends and\n",
            "breakthroughs that we believe offer significant opportunities to\n",
            "deliver value to our customers and growth for the company. based on\n",
            "our assessment of key technology trends, we maintain our long - term\n",
            "commitment to research and development across a wide spectrum of\n",
            "technologies, tools, and platforms spanning digital work and life\n",
            "experiences, cloud computing, ai, devices, and operating systems.\n",
            "while our main product research and development facilities are located\n",
            "in redmond, washington, we also operate research and development\n",
            "facilities in other parts of the u. s. and around the world. this\n",
            "global approach helps us remain\n",
            "\n",
            "6 modern life the pc has never been more relevant to work, life, and\n",
            "play. this year, we launched windows 11, the biggest update to our\n",
            "operating system in a decade. it reimagines everything from the user\n",
            "experience to the store to help people and organizations be more\n",
            "productive, connected, and secure, and to build a more open ecosystem\n",
            "for developers and creators. there are now more than 1. 4 billion\n",
            "monthly active devices running windows 10 or windows 11. we launched\n",
            "new surface devices to support every person and work style. and we\n",
            "have nearly 60 million microsoft 365 consumer subscriptions as we help\n",
            "people create, connect, and share wherever they go. security\n",
            "cybersecurity is the number one threat facing every business today. to\n",
            "keep our customers secure, we build security by design into every\n",
            "product we sell, and we deliver end - to - end solutions spanning\n",
            "security, compliance, identity, device\n",
            "\n",
            "12 we offer an array of services, including cloud - based solutions\n",
            "that provide customers with software, services, platforms, and\n",
            "content, and we provide solution support and consulting services. we\n",
            "also deliver relevant online advertising to a global audience. our\n",
            "products include operating systems, cross - device productivity and\n",
            "collaboration applications, server applications, business solution\n",
            "applications, desktop and server management tools, software\n",
            "development tools, and video games. we also design and sell devices,\n",
            "including pcs, tablets, gaming and entertainment consoles, other\n",
            "intelligent devices, and related accessories. the ambitions that drive\n",
            "us to achieve our vision, our research and development efforts focus\n",
            "on three interconnected ambitions : • reinvent productivity and\n",
            "business processes. • build the intelligent cloud and intelligent edge\n",
            "platform. • create more personal computing. reinvent productivity and\n",
            "business processes\n",
            "\n",
            "achieve more. we strive to create local opportunity, growth, and\n",
            "impact in every country around the world. our platforms and tools help\n",
            "drive small business productivity, large business competitiveness, and\n",
            "public - sector efficiency. we are creating the tools and platforms\n",
            "that deliver better, faster, and more effective solutions to support\n",
            "new startups, improve educational and health outcomes, and empower\n",
            "human ingenuity. microsoft is innovating and expanding our entire\n",
            "portfolio to help people and organizations overcome today ’ s\n",
            "challenges and emerge stronger. we bring technology and products\n",
            "together into experiences and solutions that unlock value for our\n",
            "customers. in a dynamic environment, digital technology is the key\n",
            "input that powers the world ’ s economic output. our ecosystem of\n",
            "customers and partners have learned that while hybrid work is complex,\n",
            "embracing flexibility, different work styles, and a\n",
            "\n",
            "----------------------------------------------------------------------------------------------------\n",
            "Query: Did the company experience any changes in pricing?\n",
            "\n",
            "Results:\n",
            "percentage change sales and marketing $ 21, 825 $ 20, 117 8 % as a\n",
            "percent of revenue 11 % 12 % ( 1 ) ppt sales and marketing expenses\n",
            "include payroll, employee benefits, stock - based compensation\n",
            "expense, and other headcount - related expenses associated with sales\n",
            "and marketing personnel, and the costs of advertising, promotions,\n",
            "trade shows, seminars, and other programs. sales and marketing\n",
            "expenses increased $ 1. 7 billion or 8 % driven by investments in\n",
            "commercial sales and linkedin. sales and marketing included a\n",
            "favorable foreign currency impact of 2 %. general and administrative (\n",
            "in millions, except percentages ) 2022 2021 percentage change general\n",
            "and administrative $ 5, 900 $ 5, 107 16 % as a percent of revenue 3 %\n",
            "3 % 0ppt\n",
            "\n",
            "financial results of nuance have been included in our consolidated\n",
            "financial statements since the date of the acquisition. nuance is\n",
            "reported as part of our intelligent cloud segment. the purchase price\n",
            "allocation as of the date of acquisition was based on a preliminary\n",
            "valuation and is subject to revision as more detailed analyses are\n",
            "completed and additional information about the fair value of assets\n",
            "acquired and liabilities assumed becomes available.\n",
            "\n",
            "• operating expenses increased $ 1. 5 billion or 14 % driven by\n",
            "investments in gaming, search and news advertising, and windows\n",
            "marketing. operating expenses research and development ( in millions,\n",
            "except percentages ) 2022 2021 percentage change research and\n",
            "development $ 24, 512 $ 20, 716 18 % as a percent of revenue 12 % 12 %\n",
            "0ppt research and development expenses include payroll, employee\n",
            "benefits, stock - based compensation expense, and other headcount -\n",
            "related expenses associated with product development. research and\n",
            "development expenses also include third - party development and\n",
            "programming costs, localization costs incurred to translate software\n",
            "for international markets, and the amortization of purchased software\n",
            "code and services content. research and development expenses increased\n",
            "$ 3. 8 billion or 18 % driven by investments in cloud engineering,\n",
            "gaming, and linkedin. sales and marketing ( in millions, except\n",
            "percentages ) 2022 2021\n",
            "\n",
            "that are not sold separately. • we tested the mathematical accuracy of\n",
            "management ’ s calculations of revenue and the associated timing of\n",
            "revenue recognized in the financial statements.\n",
            "\n",
            "highlights from fiscal year 2022 compared with fiscal year 2021\n",
            "included : • microsoft cloud ( formerly commercial cloud ) revenue\n",
            "increased 32 % to $ 91. 2 billion. • office commercial products and\n",
            "cloud services revenue increased 13 % driven by office 365 commercial\n",
            "growth of 18 %. • office consumer products and cloud services revenue\n",
            "increased 11 % and microsoft 365 consumer subscribers grew to 59. 7\n",
            "million. • linkedin revenue increased 34 %. • dynamics products and\n",
            "cloud services revenue increased 25 % driven by dynamics 365 growth of\n",
            "39 %. • server products and cloud services revenue increased 28 %\n",
            "driven by azure and other cloud services growth of 45 %. • windows\n",
            "original equipment manufacturer licensing ( “ windows oem ” ) revenue\n",
            "increased 11 %. • windows commercial products and cloud services\n",
            "revenue increased 11 %. • xbox content and services revenue increased\n",
            "3 %. • search and news advertising revenue excluding traffic\n",
            "acquisition costs increased 27 %.\n",
            "\n",
            "----------------------------------------------------------------------------------------------------\n",
            "Query: Were there any significant acquisitions or divestitures?\n",
            "\n",
            "Results:\n",
            "financial results of nuance have been included in our consolidated\n",
            "financial statements since the date of the acquisition. nuance is\n",
            "reported as part of our intelligent cloud segment. the purchase price\n",
            "allocation as of the date of acquisition was based on a preliminary\n",
            "valuation and is subject to revision as more detailed analyses are\n",
            "completed and additional information about the fair value of assets\n",
            "acquired and liabilities assumed becomes available.\n",
            "\n",
            "vigorously, adverse outcomes that we estimate could reach\n",
            "approximately $ 600 million in aggregate beyond recorded amounts are\n",
            "reasonably possible. were unfavorable final outcomes to occur, there\n",
            "exists the possibility of a material adverse impact in our\n",
            "consolidated financial statements for the period in which the effects\n",
            "become reasonably estimable.\n",
            "\n",
            "growth in our cloud offerings. we have operating and finance leases\n",
            "for datacenters, corporate offices, research and development\n",
            "facilities, microsoft experience centers, and certain equipment. we\n",
            "have not engaged in any related party transactions or arrangements\n",
            "with unconsolidated entities or other persons that are reasonably\n",
            "likely to materially affect liquidity or the availability of capital\n",
            "resources.\n",
            "\n",
            "66 gains ( losses ), net of tax, on derivative instruments recognized\n",
            "in our consolidated comprehensive income statements were as follows :\n",
            "( in millions ) year ended june 30, 2022 2021 2020 designated as cash\n",
            "flow hedging instruments foreign exchange contracts included in\n",
            "effectiveness assessment $ ( 57 ) $ 34 $ ( 38 ) note 6 — inventories\n",
            "the components of inventories were as follows : ( in millions ) june\n",
            "30, 2022 2021 raw materials $ 1, 144 $ 1, 190 work in process 82 79\n",
            "finished goods 2, 516 1, 367 total $ 3, 742 $ 2, 636 note 7 — property\n",
            "and equipment the components of property and equipment were as follows\n",
            ": ( in millions ) june 30, 2022 2021 land $ 4, 734 $ 3, 660 buildings\n",
            "and improvements 55, 014 43, 928 leasehold improvements 7, 819 6, 884\n",
            "computer equipment and software 60, 631 51, 250\n",
            "\n",
            "net cash from operations 89, 035 76, 740 60, 675 financing cash\n",
            "premium on debt exchange 0 ( 1, 754 ) ( 3, 417 ) repayments of debt (\n",
            "9, 023 ) ( 3, 750 ) ( 5, 518 ) common stock issued 1, 841 1, 693 1,\n",
            "343 common stock repurchased ( 32, 696 ) ( 27, 385 ) ( 22, 968 )\n",
            "common stock cash dividends paid ( 18, 135 ) ( 16, 521 ) ( 15, 137 )\n",
            "other, net ( 863 ) ( 769 ) ( 334 ) net cash used in financing ( 58,\n",
            "876 ) ( 48, 486 ) ( 46, 031 ) investing additions to property and\n",
            "equipment ( 23, 886 ) ( 20, 622 ) ( 15, 441 ) acquisition of\n",
            "companies, net of cash acquired, and purchases of intangible and other\n",
            "assets ( 22, 038 ) ( 8, 909 ) ( 2, 521 ) purchases of investments (\n",
            "26, 456 ) ( 62, 924 ) ( 77, 190 ) maturities of investments 16, 451\n",
            "51, 792 66, 449 sales of investments 28, 443 14, 008 17, 72\n",
            "\n",
            "----------------------------------------------------------------------------------------------------\n",
            "Query: Did the company expand into new markets or geographies?\n",
            "\n",
            "Results:\n",
            "company and with countries over 10 % of the total shown separately,\n",
            "were as follows : ( in millions ) june 30, 2022 2021 2020 united\n",
            "states $ 106, 430 $ 76, 153 $ 60, 789 ireland 15, 505 13, 303 12, 734\n",
            "other countries 44, 433 38, 858 29, 770 total $ 166, 368 $ 128, 314 $\n",
            "103, 293\n",
            "\n",
            "markets, we localize many of our products to reflect local languages\n",
            "and conventions. localizing a product may require modifying the user\n",
            "interface, altering dialog boxes, and translating text. our devices\n",
            "are primarily manufactured by third - party contract manufacturers.\n",
            "for the majority of our products, we have the ability to use other\n",
            "manufacturers if a current vendor becomes unavailable or unable to\n",
            "meet our requirements. however, some of our products contain certain\n",
            "components for which there are very few qualified suppliers. for these\n",
            "components, we have limited near - term flexibility to use other\n",
            "manufacturers if a current vendor becomes unavailable or is unable to\n",
            "meet our requirements. extended disruptions at these suppliers and /\n",
            "or manufacturers could lead to a similar disruption in our ability to\n",
            "manufacture devices on time to meet consumer demand. research and\n",
            "development product and service development, and intellectual property\n",
            "\n",
            "36 • search and news advertising revenue increased $ 2. 3 billion or\n",
            "25 %. search and news advertising revenue excluding traffic\n",
            "acquisition costs increased 27 % driven by higher revenue per search\n",
            "and search volume. • gaming revenue increased $ 860 million or 6 % on\n",
            "a strong prior year comparable that benefited from xbox series x | s\n",
            "launches and stay - at - home scenarios, driven by growth in xbox\n",
            "hardware and xbox content and services. xbox hardware revenue\n",
            "increased 16 % due to continued demand for xbox series x | s. xbox\n",
            "content and services revenue increased 3 % driven by growth in xbox\n",
            "game pass subscriptions and first - party content, offset in part by a\n",
            "decline in third - party content. • surface revenue increased $ 226\n",
            "million or 3 %. operating income increased $ 1. 5 billion or 8 %. •\n",
            "gross margin increased $ 3. 1 billion or 10 % driven by growth in\n",
            "windows and search and news advertising. gross margin percentage was\n",
            "relatively unchanged.\n",
            "\n",
            "personnel that solicit orders from distributors and resellers and\n",
            "provide product training and sales support. our dynamics business\n",
            "solutions are also licensed to enterprises through a global network of\n",
            "channel partners providing vertical solutions and specialized\n",
            "services.\n",
            "\n",
            "• evolving our ecosystem : using our balance sheet and relationships\n",
            "with suppliers and partners to foster societal change and create new\n",
            "opportunities.\n",
            "\n",
            "----------------------------------------------------------------------------------------------------\n"
          ]
        }
      ]
    },
    {
      "cell_type": "code",
      "source": [
        "original_query_embedding = embedding_function([original_query])\n",
        "augmented_query_embeddings = embedding_function(augmented_queries)"
      ],
      "metadata": {
        "id": "K8-V4eEiSyK9"
      },
      "execution_count": null,
      "outputs": []
    },
    {
      "cell_type": "markdown",
      "source": [
        "# **6. Re-ranking**"
      ],
      "metadata": {
        "id": "57s8RorLTUNh"
      }
    },
    {
      "cell_type": "code",
      "source": [
        "from sentence_transformers import CrossEncoder\n",
        "cross_encoder = CrossEncoder('cross-encoder/ms-marco-MiniLM-L-6-v2')"
      ],
      "metadata": {
        "colab": {
          "base_uri": "https://localhost:8080/",
          "height": 177,
          "referenced_widgets": [
            "9030f1792ded4cb3b13072dc6c53cc98",
            "cb1effcf7ede4222ab1f891c3d6f841f",
            "058d2fc1911143e79e5102fbc939f6b6",
            "c801ee5f0a104359861c55bf85ae1e59",
            "512c12cc61ea41698d1ef9a52c892a3c",
            "95f23da2cf244e54a9b44e64fe316a9b",
            "8e61da76766340f1b1b91b932b14a56b",
            "800bf1affd87406a8adfc8f5c9a9756c",
            "c2efab9df1354d6b96029a7f21d6f106",
            "1fc0a49aa8b54ebc8b04cee4df62766f",
            "9a8a7a532663484cb27f96a0a6594d41",
            "2335d48f2281439795f72087aacb9eb7",
            "2fff5d6eab29402bac658c0e40034354",
            "24a60b95a38c4783beb08833ded63924",
            "a65feb53ebe7442185d812f1cf92cbc9",
            "fb1753db71804fddbb43ea944cf92ee5",
            "92a05db2a2fd4515abcc52d2dda5d76c",
            "b60c94cb64f447508de5098df1ff5e28",
            "8addc572c59f454a9311b87de1a912c3",
            "b5e07a0ddd26408db63400408f8c4821",
            "2a1ecf9bb5f94b89951b1e5cc515ac3f",
            "479dcaecc7a0453a9093f689f0e5fb62",
            "51d915139c4f4bf28726a96b951cf246",
            "8ba8d6c71e5a46069934becf1c81f225",
            "1e4da894885c47668a4b6834b7b9b262",
            "32459beaa3a94af29d403059a6b34111",
            "c216b7146a5348ccb432ce1467f997a6",
            "2dcca4e47df4427f8e57450734dcbf7b",
            "262b1755d2224351b87250359abd7ec3",
            "1761a1e00e564e79bfefc9e8dbd3723b",
            "31e649d997114f82bb65bae8765c6cb5",
            "af52b0265dea4972a252a9bf5ab22e3a",
            "61aff36ec1894bb78f0bfa3d40507e9f",
            "ba52de7f8c154c60a424adec50a3ece6",
            "4ff4dddf754e430b8101df6376966c39",
            "c1275717dfd347869081cacd5abe24a1",
            "ed4ba3c136794c2bb8b2c734f86a62e2",
            "0dfbd366e7bc4e43b92dbd0767e9d8e8",
            "663c3bb8adb1446183619cd4409d5bb2",
            "7c58072f641841558ce98b70239411dd",
            "336d229cecea41848fee7e715bc4f17a",
            "0802a0f73e0c4d519a72ab61551381b6",
            "1dee187e8bce43c9bfd16198a1fd8c16",
            "5c33c81057e7423caca7f8f672aa3225",
            "579eef871ee74a79bf354872f3cc69ad",
            "1aa8cf92315c4a018cbe01084c7a2903",
            "9e4b78a655b64911bbdb20c6f3464e7c",
            "963cd9d15a4e4a7693a46c10a1a95435",
            "168fdc89e05f4621be529f789d00667a",
            "308f4eb8c1bc4c1c9cd1e6287c60343b",
            "0ba91ba852ad410d8a6e24f622dedb9a",
            "f7c1d50f52584d53a7d31d5b505049ae",
            "efa565f2c8f8432aa2a0cd1bbbf5a812",
            "0f38339bbd454fc18d1dd4cc360b2ace",
            "f3dacff448f04fe49da3d34879fbe326"
          ]
        },
        "id": "0WMiccfjTI4s",
        "outputId": "b0597e5f-420f-4f1a-ce39-32250fb18a75"
      },
      "execution_count": null,
      "outputs": [
        {
          "output_type": "display_data",
          "data": {
            "text/plain": [
              "config.json:   0%|          | 0.00/794 [00:00<?, ?B/s]"
            ],
            "application/vnd.jupyter.widget-view+json": {
              "version_major": 2,
              "version_minor": 0,
              "model_id": "9030f1792ded4cb3b13072dc6c53cc98"
            }
          },
          "metadata": {}
        },
        {
          "output_type": "display_data",
          "data": {
            "text/plain": [
              "model.safetensors:   0%|          | 0.00/90.9M [00:00<?, ?B/s]"
            ],
            "application/vnd.jupyter.widget-view+json": {
              "version_major": 2,
              "version_minor": 0,
              "model_id": "2335d48f2281439795f72087aacb9eb7"
            }
          },
          "metadata": {}
        },
        {
          "output_type": "display_data",
          "data": {
            "text/plain": [
              "tokenizer_config.json:   0%|          | 0.00/316 [00:00<?, ?B/s]"
            ],
            "application/vnd.jupyter.widget-view+json": {
              "version_major": 2,
              "version_minor": 0,
              "model_id": "51d915139c4f4bf28726a96b951cf246"
            }
          },
          "metadata": {}
        },
        {
          "output_type": "display_data",
          "data": {
            "text/plain": [
              "vocab.txt:   0%|          | 0.00/232k [00:00<?, ?B/s]"
            ],
            "application/vnd.jupyter.widget-view+json": {
              "version_major": 2,
              "version_minor": 0,
              "model_id": "ba52de7f8c154c60a424adec50a3ece6"
            }
          },
          "metadata": {}
        },
        {
          "output_type": "display_data",
          "data": {
            "text/plain": [
              "special_tokens_map.json:   0%|          | 0.00/112 [00:00<?, ?B/s]"
            ],
            "application/vnd.jupyter.widget-view+json": {
              "version_major": 2,
              "version_minor": 0,
              "model_id": "579eef871ee74a79bf354872f3cc69ad"
            }
          },
          "metadata": {}
        }
      ]
    },
    {
      "cell_type": "code",
      "source": [
        "results = chroma_collection.query(query_texts=queries, n_results=10, include=['documents', 'embeddings'])\n",
        "retrieved_documents = results['documents']"
      ],
      "metadata": {
        "id": "3JnZCX3pTrgH"
      },
      "execution_count": null,
      "outputs": []
    },
    {
      "cell_type": "code",
      "source": [
        "# Deduplicate the retrieved documents\n",
        "%%timeit -n100 -r3\n",
        "unique_documents = set()\n",
        "for documents in retrieved_documents:\n",
        "    for document in documents:\n",
        "        unique_documents.add(document)\n",
        "\n",
        "unique_documents = list(unique_documents)"
      ],
      "metadata": {
        "colab": {
          "base_uri": "https://localhost:8080/"
        },
        "id": "-QcT47JsT_XP",
        "outputId": "03346a75-8841-4a5e-9003-84ae935ea96c"
      },
      "execution_count": null,
      "outputs": [
        {
          "output_type": "stream",
          "name": "stdout",
          "text": [
            "The slowest run took 4.56 times longer than the fastest. This could mean that an intermediate result is being cached.\n",
            "24 µs ± 11.8 µs per loop (mean ± std. dev. of 3 runs, 100 loops each)\n"
          ]
        }
      ]
    },
    {
      "cell_type": "code",
      "source": [
        "#%%timeit -n100 -r3\n",
        "#faster\n",
        "flatList = sum(retrieved_documents, [])\n",
        "unique_documents = set(flatList)\n",
        "#flatList = list(np.concatenate(lst)) #Slow"
      ],
      "metadata": {
        "id": "U4XIXZAEXJCz"
      },
      "execution_count": null,
      "outputs": []
    },
    {
      "cell_type": "code",
      "source": [
        "pairs = []\n",
        "for doc in unique_documents:\n",
        "    pairs.append([original_query, doc])"
      ],
      "metadata": {
        "id": "edvNrLctU1Dc"
      },
      "execution_count": null,
      "outputs": []
    },
    {
      "cell_type": "code",
      "source": [
        "scores = cross_encoder.predict(pairs) #learn how cross encoders works"
      ],
      "metadata": {
        "id": "HUicX2ZyYdPx"
      },
      "execution_count": null,
      "outputs": []
    },
    {
      "cell_type": "code",
      "source": [
        "print(\"Scores:\")\n",
        "for score in scores: print(score)"
      ],
      "metadata": {
        "colab": {
          "base_uri": "https://localhost:8080/"
        },
        "id": "KsS7q9jXYlUs",
        "outputId": "70f25b62-3c59-47da-fbf1-2c968b58becd"
      },
      "execution_count": null,
      "outputs": [
        {
          "output_type": "stream",
          "name": "stdout",
          "text": [
            "Scores:\n",
            "-7.73989\n",
            "-11.079268\n",
            "-11.040518\n",
            "-11.116722\n",
            "-7.445792\n",
            "-10.886526\n",
            "-10.743448\n",
            "-10.859211\n",
            "-11.121365\n",
            "-11.007851\n",
            "-10.985082\n",
            "-11.233842\n",
            "-11.022106\n",
            "-11.142147\n",
            "-11.1664505\n",
            "-7.503585\n",
            "-11.05914\n",
            "-4.6518903\n",
            "-10.017991\n",
            "-6.902089\n",
            "-9.316702\n",
            "-7.917177\n",
            "-10.822462\n",
            "-10.973504\n",
            "-9.4284725\n",
            "-11.11678\n",
            "-4.3417664\n",
            "-10.947717\n",
            "-10.088552\n",
            "-10.311901\n",
            "-11.072828\n",
            "-11.024439\n",
            "-11.248009\n",
            "-1.1369962\n",
            "-11.141821\n",
            "-9.768026\n",
            "-11.04459\n",
            "-10.187727\n",
            "-4.8184843\n",
            "-10.814183\n",
            "-11.074697\n",
            "-11.137989\n",
            "-11.103973\n",
            "-11.157962\n",
            "-11.078432\n",
            "-10.882423\n",
            "-8.505108\n",
            "-3.768155\n",
            "-5.2747493\n",
            "-10.119463\n"
          ]
        }
      ]
    },
    {
      "cell_type": "code",
      "source": [
        "print(\"New Ordering:\")\n",
        "for o in np.argsort(scores)[::-1]:print(o)"
      ],
      "metadata": {
        "colab": {
          "base_uri": "https://localhost:8080/"
        },
        "id": "TfEa0SB_Yoo5",
        "outputId": "aa715200-3292-4b10-fb13-e354bb1b8c31"
      },
      "execution_count": null,
      "outputs": [
        {
          "output_type": "stream",
          "name": "stdout",
          "text": [
            "New Ordering:\n",
            "33\n",
            "47\n",
            "26\n",
            "17\n",
            "38\n",
            "48\n",
            "19\n",
            "4\n",
            "15\n",
            "0\n",
            "21\n",
            "46\n",
            "20\n",
            "24\n",
            "35\n",
            "18\n",
            "28\n",
            "49\n",
            "37\n",
            "29\n",
            "6\n",
            "39\n",
            "22\n",
            "7\n",
            "45\n",
            "5\n",
            "27\n",
            "23\n",
            "10\n",
            "9\n",
            "12\n",
            "31\n",
            "2\n",
            "36\n",
            "16\n",
            "30\n",
            "40\n",
            "44\n",
            "1\n",
            "42\n",
            "3\n",
            "25\n",
            "8\n",
            "41\n",
            "34\n",
            "13\n",
            "43\n",
            "14\n",
            "11\n",
            "32\n"
          ]
        }
      ]
    },
    {
      "cell_type": "markdown",
      "source": [
        "# **7. Apply Embedding Adaptors to improve the results more.**\n",
        "from 5th tutorial."
      ],
      "metadata": {
        "id": "PUDKFc_4ZCCY"
      }
    },
    {
      "cell_type": "code",
      "source": [],
      "metadata": {
        "id": "1_YbTRa-ZNFQ"
      },
      "execution_count": null,
      "outputs": []
    },
    {
      "cell_type": "markdown",
      "source": [
        "# **8. Applying Hybrid Search**\n",
        "\n",
        "[link](https://superlinked.com/vectorhub/articles/optimizing-rag-with-hybrid-search-reranking)"
      ],
      "metadata": {
        "id": "Gw1QI-5e-9KQ"
      }
    },
    {
      "cell_type": "code",
      "source": [],
      "metadata": {
        "colab": {
          "base_uri": "https://localhost:8080/"
        },
        "id": "uY232hCi_CgS",
        "outputId": "ad342c8d-a721-4b97-b118-a4230e128f83"
      },
      "execution_count": null,
      "outputs": [
        {
          "output_type": "stream",
          "name": "stdout",
          "text": [
            "\u001b[31mERROR: Could not find a version that satisfies the requirement install (from versions: none)\u001b[0m\u001b[31m\n",
            "\u001b[0m\u001b[31mERROR: No matching distribution found for install\u001b[0m\u001b[31m\n",
            "\u001b[0m"
          ]
        }
      ]
    },
    {
      "cell_type": "code",
      "source": [],
      "metadata": {
        "id": "bp4OsNipY-3e"
      },
      "execution_count": null,
      "outputs": []
    }
  ]
}