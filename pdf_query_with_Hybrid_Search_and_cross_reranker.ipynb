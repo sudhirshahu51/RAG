{
  "cells": [
    {
      "cell_type": "markdown",
      "metadata": {
        "id": "view-in-github",
        "colab_type": "text"
      },
      "source": [
        "<a href=\"https://colab.research.google.com/github/sudhirshahu51/RAG/blob/main/pdf_query_with_Hybrid_Search_and_cross_reranker.ipynb\" target=\"_parent\"><img src=\"https://colab.research.google.com/assets/colab-badge.svg\" alt=\"Open In Colab\"/></a>"
      ]
    },
    {
      "cell_type": "code",
      "execution_count": null,
      "metadata": {
        "colab": {
          "base_uri": "https://localhost:8080/"
        },
        "id": "JppxrlZLLP4Q",
        "outputId": "606043ec-8544-4518-9f14-bdc39b6bfb96"
      },
      "outputs": [
        {
          "name": "stdout",
          "output_type": "stream",
          "text": [
            "\u001b[?25l     \u001b[90m━━━━━━━━━━━━━━━━━━━━━━━━━━━━━━━━━━━━━━━━\u001b[0m \u001b[32m0.0/67.3 kB\u001b[0m \u001b[31m?\u001b[0m eta \u001b[36m-:--:--\u001b[0m\r\u001b[2K     \u001b[90m━━━━━━━━━━━━━━━━━━━━━━━━━━━━━━━━━━━━━━━━\u001b[0m \u001b[32m67.3/67.3 kB\u001b[0m \u001b[31m3.3 MB/s\u001b[0m eta \u001b[36m0:00:00\u001b[0m\n",
            "\u001b[?25h  Installing build dependencies ... \u001b[?25l\u001b[?25hdone\n",
            "  Getting requirements to build wheel ... \u001b[?25l\u001b[?25hdone\n",
            "  Preparing metadata (pyproject.toml) ... \u001b[?25l\u001b[?25hdone\n",
            "\u001b[2K   \u001b[90m━━━━━━━━━━━━━━━━━━━━━━━━━━━━━━━━━━━━━━━━\u001b[0m \u001b[32m602.1/602.1 kB\u001b[0m \u001b[31m12.5 MB/s\u001b[0m eta \u001b[36m0:00:00\u001b[0m\n",
            "\u001b[2K   \u001b[90m━━━━━━━━━━━━━━━━━━━━━━━━━━━━━━━━━━━━━━━━\u001b[0m \u001b[32m2.4/2.4 MB\u001b[0m \u001b[31m45.3 MB/s\u001b[0m eta \u001b[36m0:00:00\u001b[0m\n",
            "\u001b[2K   \u001b[90m━━━━━━━━━━━━━━━━━━━━━━━━━━━━━━━━━━━━━━━━\u001b[0m \u001b[32m298.0/298.0 kB\u001b[0m \u001b[31m24.1 MB/s\u001b[0m eta \u001b[36m0:00:00\u001b[0m\n",
            "\u001b[2K   \u001b[90m━━━━━━━━━━━━━━━━━━━━━━━━━━━━━━━━━━━━━━━━\u001b[0m \u001b[32m278.6/278.6 kB\u001b[0m \u001b[31m24.3 MB/s\u001b[0m eta \u001b[36m0:00:00\u001b[0m\n",
            "\u001b[2K   \u001b[90m━━━━━━━━━━━━━━━━━━━━━━━━━━━━━━━━━━━━━━━━\u001b[0m \u001b[32m94.8/94.8 kB\u001b[0m \u001b[31m9.6 MB/s\u001b[0m eta \u001b[36m0:00:00\u001b[0m\n",
            "\u001b[2K   \u001b[90m━━━━━━━━━━━━━━━━━━━━━━━━━━━━━━━━━━━━━━━━\u001b[0m \u001b[32m1.9/1.9 MB\u001b[0m \u001b[31m60.1 MB/s\u001b[0m eta \u001b[36m0:00:00\u001b[0m\n",
            "\u001b[2K   \u001b[90m━━━━━━━━━━━━━━━━━━━━━━━━━━━━━━━━━━━━━━━━\u001b[0m \u001b[32m1.6/1.6 MB\u001b[0m \u001b[31m57.6 MB/s\u001b[0m eta \u001b[36m0:00:00\u001b[0m\n",
            "\u001b[2K   \u001b[90m━━━━━━━━━━━━━━━━━━━━━━━━━━━━━━━━━━━━━━━━\u001b[0m \u001b[32m93.2/93.2 kB\u001b[0m \u001b[31m9.0 MB/s\u001b[0m eta \u001b[36m0:00:00\u001b[0m\n",
            "\u001b[2K   \u001b[90m━━━━━━━━━━━━━━━━━━━━━━━━━━━━━━━━━━━━━━━━\u001b[0m \u001b[32m13.3/13.3 MB\u001b[0m \u001b[31m84.8 MB/s\u001b[0m eta \u001b[36m0:00:00\u001b[0m\n",
            "\u001b[2K   \u001b[90m━━━━━━━━━━━━━━━━━━━━━━━━━━━━━━━━━━━━━━━━\u001b[0m \u001b[32m55.8/55.8 kB\u001b[0m \u001b[31m5.3 MB/s\u001b[0m eta \u001b[36m0:00:00\u001b[0m\n",
            "\u001b[2K   \u001b[90m━━━━━━━━━━━━━━━━━━━━━━━━━━━━━━━━━━━━━━━━\u001b[0m \u001b[32m54.8/54.8 kB\u001b[0m \u001b[31m4.9 MB/s\u001b[0m eta \u001b[36m0:00:00\u001b[0m\n",
            "\u001b[2K   \u001b[90m━━━━━━━━━━━━━━━━━━━━━━━━━━━━━━━━━━━━━━━━\u001b[0m \u001b[32m62.3/62.3 kB\u001b[0m \u001b[31m5.9 MB/s\u001b[0m eta \u001b[36m0:00:00\u001b[0m\n",
            "\u001b[2K   \u001b[90m━━━━━━━━━━━━━━━━━━━━━━━━━━━━━━━━━━━━━━━━\u001b[0m \u001b[32m442.1/442.1 kB\u001b[0m \u001b[31m26.3 MB/s\u001b[0m eta \u001b[36m0:00:00\u001b[0m\n",
            "\u001b[2K   \u001b[90m━━━━━━━━━━━━━━━━━━━━━━━━━━━━━━━━━━━━━━━━\u001b[0m \u001b[32m242.1/242.1 kB\u001b[0m \u001b[31m19.2 MB/s\u001b[0m eta \u001b[36m0:00:00\u001b[0m\n",
            "\u001b[2K   \u001b[90m━━━━━━━━━━━━━━━━━━━━━━━━━━━━━━━━━━━━━━━━\u001b[0m \u001b[32m454.3/454.3 kB\u001b[0m \u001b[31m23.9 MB/s\u001b[0m eta \u001b[36m0:00:00\u001b[0m\n",
            "\u001b[2K   \u001b[90m━━━━━━━━━━━━━━━━━━━━━━━━━━━━━━━━━━━━━━━━\u001b[0m \u001b[32m319.7/319.7 kB\u001b[0m \u001b[31m20.3 MB/s\u001b[0m eta \u001b[36m0:00:00\u001b[0m\n",
            "\u001b[2K   \u001b[90m━━━━━━━━━━━━━━━━━━━━━━━━━━━━━━━━━━━━━━━━\u001b[0m \u001b[32m73.2/73.2 kB\u001b[0m \u001b[31m4.3 MB/s\u001b[0m eta \u001b[36m0:00:00\u001b[0m\n",
            "\u001b[2K   \u001b[90m━━━━━━━━━━━━━━━━━━━━━━━━━━━━━━━━━━━━━━━━\u001b[0m \u001b[32m1.2/1.2 MB\u001b[0m \u001b[31m38.8 MB/s\u001b[0m eta \u001b[36m0:00:00\u001b[0m\n",
            "\u001b[2K   \u001b[90m━━━━━━━━━━━━━━━━━━━━━━━━━━━━━━━━━━━━━━━━\u001b[0m \u001b[32m3.8/3.8 MB\u001b[0m \u001b[31m64.5 MB/s\u001b[0m eta \u001b[36m0:00:00\u001b[0m\n",
            "\u001b[2K   \u001b[90m━━━━━━━━━━━━━━━━━━━━━━━━━━━━━━━━━━━━━━━━\u001b[0m \u001b[32m443.8/443.8 kB\u001b[0m \u001b[31m33.1 MB/s\u001b[0m eta \u001b[36m0:00:00\u001b[0m\n",
            "\u001b[2K   \u001b[90m━━━━━━━━━━━━━━━━━━━━━━━━━━━━━━━━━━━━━━━━\u001b[0m \u001b[32m46.0/46.0 kB\u001b[0m \u001b[31m4.2 MB/s\u001b[0m eta \u001b[36m0:00:00\u001b[0m\n",
            "\u001b[2K   \u001b[90m━━━━━━━━━━━━━━━━━━━━━━━━━━━━━━━━━━━━━━━━\u001b[0m \u001b[32m86.8/86.8 kB\u001b[0m \u001b[31m9.6 MB/s\u001b[0m eta \u001b[36m0:00:00\u001b[0m\n",
            "\u001b[2K   \u001b[90m━━━━━━━━━━━━━━━━━━━━━━━━━━━━━━━━━━━━━━━━\u001b[0m \u001b[32m49.3/49.3 kB\u001b[0m \u001b[31m4.3 MB/s\u001b[0m eta \u001b[36m0:00:00\u001b[0m\n",
            "\u001b[?25h  Building wheel for pypika (pyproject.toml) ... \u001b[?25l\u001b[?25hdone\n",
            "\u001b[31mERROR: pip's dependency resolver does not currently take into account all the packages that are installed. This behaviour is the source of the following dependency conflicts.\n",
            "tensorflow 2.17.1 requires protobuf!=4.21.0,!=4.21.1,!=4.21.2,!=4.21.3,!=4.21.4,!=4.21.5,<5.0.0dev,>=3.20.3, but you have protobuf 5.29.2 which is incompatible.\n",
            "tensorflow-metadata 1.13.1 requires protobuf<5,>=3.20.3, but you have protobuf 5.29.2 which is incompatible.\u001b[0m\u001b[31m\n",
            "\u001b[0m"
          ]
        }
      ],
      "source": [
        "!pip install llama-index langchain chromadb pypdf llama-index-llms-groq llama-index-embeddings-huggingface llama-index-vector-stores-chroma --quiet"
      ]
    },
    {
      "cell_type": "code",
      "execution_count": null,
      "metadata": {
        "colab": {
          "base_uri": "https://localhost:8080/"
        },
        "id": "jG6Ep-wiyM2c",
        "outputId": "a8fef2d0-d4f4-4fd0-b98b-0fa904133961"
      },
      "outputs": [
        {
          "name": "stdout",
          "output_type": "stream",
          "text": [
            "\u001b[?25l   \u001b[90m━━━━━━━━━━━━━━━━━━━━━━━━━━━━━━━━━━━━━━━━\u001b[0m \u001b[32m0.0/52.8 kB\u001b[0m \u001b[31m?\u001b[0m eta \u001b[36m-:--:--\u001b[0m\r\u001b[2K   \u001b[90m━━━━━━━━━━━━━━━━━━━━━━━━━━━━━━━━━━━━━━━━\u001b[0m \u001b[32m52.8/52.8 kB\u001b[0m \u001b[31m2.2 MB/s\u001b[0m eta \u001b[36m0:00:00\u001b[0m\n",
            "\u001b[?25h\u001b[?25l   \u001b[90m━━━━━━━━━━━━━━━━━━━━━━━━━━━━━━━━━━━━━━━━\u001b[0m \u001b[32m0.0/646.7 kB\u001b[0m \u001b[31m?\u001b[0m eta \u001b[36m-:--:--\u001b[0m\r\u001b[2K   \u001b[91m━━━━━━━━━━━━━━━━━━━━━━━━━━━━━━━\u001b[0m\u001b[90m╺\u001b[0m\u001b[90m━━━━━━━━\u001b[0m \u001b[32m501.8/646.7 kB\u001b[0m \u001b[31m15.1 MB/s\u001b[0m eta \u001b[36m0:00:01\u001b[0m\r\u001b[2K   \u001b[90m━━━━━━━━━━━━━━━━━━━━━━━━━━━━━━━━━━━━━━━━\u001b[0m \u001b[32m646.7/646.7 kB\u001b[0m \u001b[31m12.3 MB/s\u001b[0m eta \u001b[36m0:00:00\u001b[0m\n",
            "\u001b[?25h"
          ]
        }
      ],
      "source": [
        "!pip install llama-index-retrievers-bm25 --quiet"
      ]
    },
    {
      "cell_type": "code",
      "execution_count": null,
      "metadata": {
        "id": "n7rAAN5GVE6p"
      },
      "outputs": [],
      "source": [
        "# to make async work well with jupyter notebook\n",
        "import nest_asyncio\n",
        "nest_asyncio.apply()"
      ]
    },
    {
      "cell_type": "markdown",
      "metadata": {
        "id": "zjm77RMNPuVZ"
      },
      "source": [
        "# **1. Text Extraction from PDF file**"
      ]
    },
    {
      "cell_type": "code",
      "execution_count": null,
      "metadata": {
        "id": "AaXrpKzQmZSn"
      },
      "outputs": [],
      "source": [
        "from llama_index.core import SimpleDirectoryReader"
      ]
    },
    {
      "cell_type": "code",
      "execution_count": null,
      "metadata": {
        "id": "xzOzEEYRL-2T"
      },
      "outputs": [],
      "source": [
        "documents = SimpleDirectoryReader(input_files=[\"/content/drive/MyDrive/Colab Notebooks/Data/microsoft_annual_report_2022.pdf\"]).load_data()"
      ]
    },
    {
      "cell_type": "code",
      "execution_count": null,
      "metadata": {
        "colab": {
          "base_uri": "https://localhost:8080/",
          "height": 227
        },
        "id": "JNfHZMlynaml",
        "outputId": "8dd481ba-3376-4b33-a232-ce1aaba11ff1"
      },
      "outputs": [
        {
          "data": {
            "application/vnd.google.colaboratory.intrinsic+json": {
              "type": "string"
            },
            "text/plain": [
              "'4 \\n  \\nOur commitment to responsibly develop and use technologies like AI is core to who we are. We put our commitment into \\npractice, not only within Microsoft but by empowering our customers and partners to do the same and by advocating for \\npolicy change. We released our Responsible AI Standard, which outlines 17 goals aligned to our six AI principles and \\nincludes tools and practices to support them. And we share our open -source tools, including the new Responsible AI \\nDashboard, to help developers building AI technologies identify and mitigate issues before deployment.  \\nFinally, we provide clear reporting and information on how we run our business and how we work with customers and \\npartners, delivering the transparency that is central to trust. Our annual Impact Summary shares more about our progress \\nand learnings across these four commitments, and our Reports Hub  provides detailed reports on our environmental data, \\nour political activities, our workforce demographics, our human rights work, and more. \\nWe should all be proud of this work —and I am. But it’s easy to talk about what we’re doing well. As we look to the next \\nyear and beyond, we’ll continue to reflect on where the world needs us to do better.  \\nOUR OPPORTUNITY  \\nNow, let me turn to how we are positioned to capture the massive opportunities ahead. Over the past few years, I’ve \\nwritten extensively about digital transformation, but now we need to go beyond that to deliver on what I call the “digital \\nimperative.”  \\nTechnology is a deflationary force in an inflationary economy. Every organization in every industry will need to infuse \\ntechnology into every business process and function so they can do more with less. It’s what I believe will make the \\ndifference between organizations that thrive and those that get left behind.  \\nIn the coming years, technology as a percentage of GDP will double from 5% to 10% and beyond, as technology moves \\nfrom a back -office cost center to a defining feature of every product and service. But even more important will be \\ntechnology’s influence on the other 90% of the world’s economy. From communications and commerce, to logistics, \\nfinancial services, energy, healthcare, and entertainment, digital technology will power the entire global economy as every \\ncompany becomes a software company in its own right.  \\nAcross our customer solution areas, we are delivering powerful platforms, tools, and services that expand our opportunity \\nto help every organization in every industry deliver on the digital imperative —with a business model that is trusted and \\nalways aligned with their success.  \\nApps and infrastructure  \\nWe are building Azure as the world’s computer, with more than 60 datacenter regions —more than any other provider —\\ndelivering faster access to cloud services while addressing critical data residency requirements. With Azure Arc, we’re \\nbringing Azure anywhere, meeting customers where they are and enabling them to run apps across on-premises, edge, or \\nmulticloud environments. And we’re extending our infrastructure to the 5G network edge with Azure for Operators, \\nintroducing new solutions to help telecom operators deliver ultra-low-latency services closer to end users.  \\nAs the digital and physical worlds come together, we’re also leading in the industrial metaverse. From smart factories, to \\nsmart buildings, to smart cities, we’re helping organizations use Azure IoT, Azure Digital Twins, and Microsoft Mesh to \\ndigitize people, places, and things, in order to visualize, simulate, and analyze any business process.  \\nData and AI  \\nFrom best-in-class databases and analytics to data governance, we have the most comprehensive data stack to help \\nevery organization turn its data into predictive and analytical power. With our new Microsoft Intelligent Data'"
            ]
          },
          "execution_count": 6,
          "metadata": {},
          "output_type": "execute_result"
        }
      ],
      "source": [
        "documents[5].text"
      ]
    },
    {
      "cell_type": "code",
      "execution_count": null,
      "metadata": {
        "colab": {
          "base_uri": "https://localhost:8080/"
        },
        "id": "SwB0pWrpNqrL",
        "outputId": "1ee54c13-14b9-402d-8756-f948779d047b"
      },
      "outputs": [
        {
          "data": {
            "text/plain": [
              "93"
            ]
          },
          "execution_count": 7,
          "metadata": {},
          "output_type": "execute_result"
        }
      ],
      "source": [
        "len(documents)"
      ]
    },
    {
      "cell_type": "markdown",
      "metadata": {
        "id": "TFNqhYaXP7Gi"
      },
      "source": [
        "# **2. Splitting Chunks**"
      ]
    },
    {
      "cell_type": "code",
      "execution_count": null,
      "metadata": {
        "id": "7KpXI1yRNu2o"
      },
      "outputs": [],
      "source": [
        "from langchain.text_splitter import RecursiveCharacterTextSplitter, SentenceTransformersTokenTextSplitter\n",
        "from llama_index.core.node_parser import LangchainNodeParser          #understand sentence and token based splitting can also be done iusing llamaindex or wrapper of langchain in llamaindex."
      ]
    },
    {
      "cell_type": "code",
      "execution_count": null,
      "metadata": {
        "id": "LHp83aUXhVuC"
      },
      "outputs": [],
      "source": [
        "parser  = LangchainNodeParser(RecursiveCharacterTextSplitter(\n",
        "    separators=[\"\\n\\n\", \"\\n\", \". \", \" \", \"\"],\n",
        "    chunk_size=512,\n",
        "    chunk_overlap=100))\n",
        "nodes = parser.get_nodes_from_documents(documents)"
      ]
    },
    {
      "cell_type": "code",
      "execution_count": null,
      "metadata": {
        "colab": {
          "base_uri": "https://localhost:8080/"
        },
        "id": "7A0NIEKjoR96",
        "outputId": "623613ec-43b7-4784-cfd4-bbda0b0e1496"
      },
      "outputs": [
        {
          "data": {
            "text/plain": [
              "684"
            ]
          },
          "execution_count": 10,
          "metadata": {},
          "output_type": "execute_result"
        }
      ],
      "source": [
        "len(nodes)"
      ]
    },
    {
      "cell_type": "markdown",
      "metadata": {
        "id": "z8lgrjDnQkfo"
      },
      "source": [
        "# **3. Create embeddings**"
      ]
    },
    {
      "cell_type": "code",
      "execution_count": null,
      "metadata": {
        "id": "WDvsUZex3HQg"
      },
      "outputs": [],
      "source": [
        "from llama_index.core import VectorStoreIndex\n",
        "from llama_index.vector_stores.chroma import ChromaVectorStore\n",
        "from llama_index.core import StorageContext\n",
        "from llama_index.embeddings.huggingface import HuggingFaceEmbedding\n",
        "from IPython.display import Markdown, display\n",
        "import chromadb"
      ]
    },
    {
      "cell_type": "code",
      "execution_count": null,
      "metadata": {
        "colab": {
          "base_uri": "https://localhost:8080/",
          "height": 369,
          "referenced_widgets": [
            "bfa347faed8144b18f4391d3220a1620",
            "15bc27c8b1c44ed1b3c445e22cfda06f",
            "717badedb2f04654a04a66ca66082d93",
            "3cd8339a0fd14180912e9a74404a0b6e",
            "928c688f6e474ccfb0ebd9c9628e09d0",
            "06939a8cd59e46e4ad46fce3f13b0120",
            "73344bbbdb984632a7aba169e3e349a7",
            "64af6dd0651c436d8282fcd8db35c25e",
            "62374f9dbab9422ca4a44f8dea0dffa7",
            "c16eaad3b4934c61876a8684fcf83916",
            "d5ec698528f946d8a11d5e13416fd0f6",
            "2b2373098e714cb0a4c051f381a60407",
            "2cdd798ff11f4348903f1e4b05290d44",
            "ea726e49b84641df80706081720dab15",
            "1192971fe15d4217896766ec02663fc7",
            "03bf85e7e43c41e8b9ec69ef15b1f16c",
            "9957ce71ef514f2f88afb5bbc72e71db",
            "13949be6b37c4088a12685ac5ae5c9fb",
            "9203cbe723fa4cd7b4222b1542a9cea3",
            "37aa7a65b0d44b3891e0c4bdb5439cb8",
            "70c43a6fe05d4e74992b933914960da0",
            "af10ed1ec41d43b1b43e2cb9941f3d59",
            "12016d3b25bf4192b8f280e6fd0ef892",
            "8855d3612e184899bf978a1530da53aa",
            "12c04244a9f848868171c99059db43b3",
            "c22e7c138de14515a4a34b0854775e8a",
            "59ae1f14345748218fbba66cc2234b66",
            "bcc5a71be5844aa4b24de91e3e901657",
            "4597ed8fba99406bb52bb772433292b9",
            "5204e686fe62497eab519c2fb474637d",
            "01d31e87cdcc46a386e464fc0c9e04a5",
            "5cdedfea2965439fa014d591d849ac50",
            "105748bda9d8423db6048229842928d2",
            "1fe6c82d9c7c4516bbc7a4b1679bd76e",
            "8f8bda2283a34fe585f307507cda0524",
            "bb5817bff01d4187887ef9fcefbc6a74",
            "e60463ad30a0401b99f9e9b084528a1c",
            "0f7851be8bd44001bf503dc45d6351ee",
            "2cff133eba1540c1a332450e7b11d1ae",
            "7975376ad419478ea3e500603e7a50e2",
            "68302c153add45de9876b4212dacc63e",
            "8ecc1daddd1149b4b06d62032ada1ed4",
            "5b322d58886b4b4babd2807f521b3a0f",
            "bf4e0fd93d7b418eb819eff419b695f3",
            "5a9210df08064529849b5e87b9e305ff",
            "593fbaaa75044b1cb9785f3115bc9032",
            "5e48c3aa8e7f4ce3b9cfc2a427fdbf20",
            "5b67164b1d844ee3a54012d0030ce0b8",
            "587cea8bd8b94410a8008cead0473439",
            "9e99166a57a7478c8f2267956cd95513",
            "d957727f8a374a50971377a7d3c02e0a",
            "dae13cdecc214d42801bc0bfb5bd5e34",
            "b093fab9129346ed927fcee6506f8c72",
            "0a3c24f381c24beeb0d0322b1aa9d67a",
            "7e3a91ae8e3c438eab74626552bc7485",
            "fc9f1a69fce44a85b354a9be8671dc49",
            "57aa9846388b492eb3de4eb546fd7e1d",
            "8cf75e84453d4d2c8f02ed4ea82f459c",
            "31fcc3e3c0534a65884801b57b8e6855",
            "45ce1f99e597478a97d2991a1f1ccc8e",
            "dd376d129e9546468db5b0e398277f49",
            "17f8b2ed29e74f229bea744137a5ff3a",
            "46c9f973e7ca4db28ced97c120d13768",
            "12fd86e1582044d5a600668efdf2610b",
            "857cd17f06064948b52e09c15e1e8790",
            "92f74e81b5864eb8891a05a39ab1b4c9",
            "5ae98562baff43f1a45a8290d0586979",
            "a9d02f8a68d74ae4842bf052296efb2e",
            "6da67c39d41b4250bc72d55612ded767",
            "4068ee62109142c3b096f7c0c04e52d2",
            "298b8072d28341d89c3a1837315d050b",
            "36ffaa401899454693fb8300bb65cfaf",
            "f6a7cade429f4ccba24fc56e3e9288e8",
            "71c6d41f45e04a6e9426600c75afceee",
            "7dddda7462c5492c9d3448b99f761180",
            "c43955658d354e1f9320c7bd2c66a57f",
            "5ac1c0e16c234783af2d789ff55eca37",
            "aeee5e27f1894bf89d290fcf6483229b",
            "494375ef238743168ed4177a85bc1dc6",
            "0e580b598b2944a38414738488ffb38c",
            "f07cd8676e314adc9af000400e503b09",
            "9fe3b6c8d29642569bf82a9cd671e881",
            "65f5f9cc3c454edc9b5b11a1d6b682fb",
            "09d8178b038f4f4891d6b5d5c300819b",
            "dde241b9f7d84bc280ed0be566fd30c7",
            "e4063cf1ecf04e7a8d92ec6373bae9c5",
            "bf4362364a4c4eb6941d902116c3b89e",
            "f29dcbdb3df34700832a3c956e46ef05",
            "7cc3aab113794b608e7a990b2842dfa1",
            "4eeaa67cbaf74b39b9d242b03cc68e7d",
            "f79155f0175646b5a9bf4836d43f9c0a",
            "073498f9595d4cd1b6789588d116f501",
            "c4300a6fea0041eeb96928cd53ef0e7d",
            "c184292202d4472e83d51b18699aefcd",
            "eb420a8f24fd49a3bf67a6b30841325e",
            "77604783fa844a50a8527702fa248298",
            "9d783011156d46ee9965fe078beab7b3",
            "a9d5b861b9804a078140eab2bc3cb8d9",
            "558c0804bb8e495db4757670cf17f173",
            "bc32af56b8dc48e79a964707afdf42d9",
            "8d082854c7ec486f8710aea11858f5f4",
            "96bf47b28c154a8db5be33fd34118d5d",
            "5fc47b86920941c29082bf3ad5872f13",
            "9cfc940ae9474b9f8bf9d7db668c39cb",
            "5a4041dff8874e5c9165c382f632407a",
            "633335cae8544e8d805ddb37456c9f08",
            "e17e4ec8ba9b4ffa831accc56b084780",
            "c24feaced2ea4351ab14ccfc6534cb84",
            "2c7f2c1df50342c19155fa9d56b98ba0",
            "c4d81836a2dc442da8a0fc330815e6f9",
            "9bd4b3145675448a92495731e103e2b6",
            "a462d2a7fa7b417ba2d35be8ce64d5f7",
            "a66d48e825354424836452ac91693851",
            "e6ab0e3c3e834b2fa047969b44e42b44",
            "17dd04791555473aa39e2c0884dc5b53",
            "97df33060a994cf1975c05b0ed1590fd",
            "c626e3a431f04d7b9d88e8745fb8d4c9",
            "e4d5a9ed65e84751b199138d4364aad6",
            "edb5d28df46f458a9f9baa49397a3945",
            "9fb99b6da35c43b4b393dff30485439f",
            "8d7bc377835d44f4b02cf8fc439cce70"
          ]
        },
        "id": "Yr7JQRfm3uZ1",
        "outputId": "7cc17b27-aedc-47b1-c8f4-84458d970de1"
      },
      "outputs": [
        {
          "data": {
            "application/vnd.jupyter.widget-view+json": {
              "model_id": "bfa347faed8144b18f4391d3220a1620",
              "version_major": 2,
              "version_minor": 0
            },
            "text/plain": [
              "modules.json:   0%|          | 0.00/349 [00:00<?, ?B/s]"
            ]
          },
          "metadata": {},
          "output_type": "display_data"
        },
        {
          "data": {
            "application/vnd.jupyter.widget-view+json": {
              "model_id": "2b2373098e714cb0a4c051f381a60407",
              "version_major": 2,
              "version_minor": 0
            },
            "text/plain": [
              "config_sentence_transformers.json:   0%|          | 0.00/124 [00:00<?, ?B/s]"
            ]
          },
          "metadata": {},
          "output_type": "display_data"
        },
        {
          "data": {
            "application/vnd.jupyter.widget-view+json": {
              "model_id": "12016d3b25bf4192b8f280e6fd0ef892",
              "version_major": 2,
              "version_minor": 0
            },
            "text/plain": [
              "README.md:   0%|          | 0.00/94.6k [00:00<?, ?B/s]"
            ]
          },
          "metadata": {},
          "output_type": "display_data"
        },
        {
          "data": {
            "application/vnd.jupyter.widget-view+json": {
              "model_id": "1fe6c82d9c7c4516bbc7a4b1679bd76e",
              "version_major": 2,
              "version_minor": 0
            },
            "text/plain": [
              "sentence_bert_config.json:   0%|          | 0.00/52.0 [00:00<?, ?B/s]"
            ]
          },
          "metadata": {},
          "output_type": "display_data"
        },
        {
          "data": {
            "application/vnd.jupyter.widget-view+json": {
              "model_id": "5a9210df08064529849b5e87b9e305ff",
              "version_major": 2,
              "version_minor": 0
            },
            "text/plain": [
              "config.json:   0%|          | 0.00/777 [00:00<?, ?B/s]"
            ]
          },
          "metadata": {},
          "output_type": "display_data"
        },
        {
          "data": {
            "application/vnd.jupyter.widget-view+json": {
              "model_id": "fc9f1a69fce44a85b354a9be8671dc49",
              "version_major": 2,
              "version_minor": 0
            },
            "text/plain": [
              "model.safetensors:   0%|          | 0.00/438M [00:00<?, ?B/s]"
            ]
          },
          "metadata": {},
          "output_type": "display_data"
        },
        {
          "data": {
            "application/vnd.jupyter.widget-view+json": {
              "model_id": "5ae98562baff43f1a45a8290d0586979",
              "version_major": 2,
              "version_minor": 0
            },
            "text/plain": [
              "tokenizer_config.json:   0%|          | 0.00/366 [00:00<?, ?B/s]"
            ]
          },
          "metadata": {},
          "output_type": "display_data"
        },
        {
          "data": {
            "application/vnd.jupyter.widget-view+json": {
              "model_id": "aeee5e27f1894bf89d290fcf6483229b",
              "version_major": 2,
              "version_minor": 0
            },
            "text/plain": [
              "vocab.txt:   0%|          | 0.00/232k [00:00<?, ?B/s]"
            ]
          },
          "metadata": {},
          "output_type": "display_data"
        },
        {
          "data": {
            "application/vnd.jupyter.widget-view+json": {
              "model_id": "7cc3aab113794b608e7a990b2842dfa1",
              "version_major": 2,
              "version_minor": 0
            },
            "text/plain": [
              "tokenizer.json:   0%|          | 0.00/711k [00:00<?, ?B/s]"
            ]
          },
          "metadata": {},
          "output_type": "display_data"
        },
        {
          "data": {
            "application/vnd.jupyter.widget-view+json": {
              "model_id": "bc32af56b8dc48e79a964707afdf42d9",
              "version_major": 2,
              "version_minor": 0
            },
            "text/plain": [
              "special_tokens_map.json:   0%|          | 0.00/125 [00:00<?, ?B/s]"
            ]
          },
          "metadata": {},
          "output_type": "display_data"
        },
        {
          "data": {
            "application/vnd.jupyter.widget-view+json": {
              "model_id": "9bd4b3145675448a92495731e103e2b6",
              "version_major": 2,
              "version_minor": 0
            },
            "text/plain": [
              "1_Pooling/config.json:   0%|          | 0.00/190 [00:00<?, ?B/s]"
            ]
          },
          "metadata": {},
          "output_type": "display_data"
        }
      ],
      "source": [
        "# define embedding function\n",
        "embed_model = HuggingFaceEmbedding(model_name=\"BAAI/bge-base-en-v1.5\")"
      ]
    },
    {
      "cell_type": "code",
      "execution_count": null,
      "metadata": {
        "id": "2WJ6yr0sQic6"
      },
      "outputs": [],
      "source": [
        "import chromadb\n",
        "# chromadb.utils.embedding_functions import SentenceTransformerEmbeddingFunction\n"
      ]
    },
    {
      "cell_type": "code",
      "execution_count": null,
      "metadata": {
        "id": "4QtCFV0g4my1"
      },
      "outputs": [],
      "source": [
        "chroma_client = chromadb.Client()\n",
        "chroma_collection = chroma_client.create_collection(\"microsoft_annual_report_20221\")\n",
        "vector_store = ChromaVectorStore(chroma_collection=chroma_collection)\n",
        "storage_context = StorageContext.from_defaults(vector_store=vector_store)"
      ]
    },
    {
      "cell_type": "code",
      "execution_count": null,
      "metadata": {
        "colab": {
          "background_save": true,
          "base_uri": "https://localhost:8080/"
        },
        "id": "2XTKFMzDUu06",
        "outputId": "f4a0a1f8-cf0f-4476-90cd-9de31b531593"
      },
      "outputs": [
        {
          "name": "stderr",
          "output_type": "stream",
          "text": [
            "Generating embeddings: 100%|██████████| 69/69 [05:37<00:00,  4.90s/it]  \n"
          ]
        }
      ],
      "source": [
        "index = VectorStoreIndex(nodes, storage_context=storage_context, embed_model=embed_model, show_progress=True, use_async=True)\n"
      ]
    },
    {
      "cell_type": "code",
      "execution_count": null,
      "metadata": {
        "colab": {
          "background_save": true
        },
        "id": "OtzNdaqFQOhu"
      },
      "outputs": [],
      "source": [
        "#index = VectorStoreIndex.from_documents(\n",
        "#    documents, storage_context=storage_context, embed_model=embed_model, transformation = [SentenceSplitter(chunk_size=25, chunk_overlap=0),\n",
        "#        TitleExtractor(),], show_progress=True, use_async=True\n",
        "#)"
      ]
    },
    {
      "cell_type": "markdown",
      "metadata": {
        "id": "ZsALu_RYSoRz"
      },
      "source": [
        "# **4. Calling LLM using GROQ API**"
      ]
    },
    {
      "cell_type": "code",
      "execution_count": null,
      "metadata": {
        "colab": {
          "background_save": true
        },
        "id": "zhlzOC9CRb4I",
        "outputId": "83c81352-b69f-4fb1-d1cd-1677ff7905d2"
      },
      "outputs": [
        {
          "ename": "TimeoutException",
          "evalue": "Requesting secret GROQ_API timed out. Secrets can only be fetched when running from the Colab UI.",
          "output_type": "error",
          "traceback": [
            "\u001b[0;31m---------------------------------------------------------------------------\u001b[0m",
            "\u001b[0;31mTimeoutException\u001b[0m                          Traceback (most recent call last)",
            "\u001b[0;32m<ipython-input-17-89223ff94118>\u001b[0m in \u001b[0;36m<cell line: 4>\u001b[0;34m()\u001b[0m\n\u001b[1;32m      2\u001b[0m \u001b[0;32mfrom\u001b[0m \u001b[0mllama_index\u001b[0m\u001b[0;34m.\u001b[0m\u001b[0mllms\u001b[0m\u001b[0;34m.\u001b[0m\u001b[0mgroq\u001b[0m \u001b[0;32mimport\u001b[0m \u001b[0mGroq\u001b[0m\u001b[0;34m\u001b[0m\u001b[0;34m\u001b[0m\u001b[0m\n\u001b[1;32m      3\u001b[0m \u001b[0;32mfrom\u001b[0m \u001b[0mllama_index\u001b[0m\u001b[0;34m.\u001b[0m\u001b[0mcore\u001b[0m\u001b[0;34m.\u001b[0m\u001b[0mllms\u001b[0m \u001b[0;32mimport\u001b[0m \u001b[0mChatMessage\u001b[0m\u001b[0;34m\u001b[0m\u001b[0;34m\u001b[0m\u001b[0m\n\u001b[0;32m----> 4\u001b[0;31m \u001b[0mgroq_key\u001b[0m \u001b[0;34m=\u001b[0m \u001b[0muserdata\u001b[0m\u001b[0;34m.\u001b[0m\u001b[0mget\u001b[0m\u001b[0;34m(\u001b[0m\u001b[0;34m'GROQ_API'\u001b[0m\u001b[0;34m)\u001b[0m\u001b[0;34m\u001b[0m\u001b[0;34m\u001b[0m\u001b[0m\n\u001b[0m\u001b[1;32m      5\u001b[0m \u001b[0mllm\u001b[0m \u001b[0;34m=\u001b[0m \u001b[0mGroq\u001b[0m\u001b[0;34m(\u001b[0m\u001b[0mmodel\u001b[0m\u001b[0;34m=\u001b[0m\u001b[0;34m\"llama3-70b-8192\"\u001b[0m\u001b[0;34m,\u001b[0m \u001b[0mapi_key\u001b[0m\u001b[0;34m=\u001b[0m\u001b[0mgroq_key\u001b[0m\u001b[0;34m)\u001b[0m \u001b[0;31m#https://docs.llamaindex.ai/en/stable/examples/llm/groq/#streaming\u001b[0m\u001b[0;34m\u001b[0m\u001b[0;34m\u001b[0m\u001b[0m\n",
            "\u001b[0;32m/usr/local/lib/python3.10/dist-packages/google/colab/userdata.py\u001b[0m in \u001b[0;36mget\u001b[0;34m(key)\u001b[0m\n\u001b[1;32m     64\u001b[0m     )\n\u001b[1;32m     65\u001b[0m   \u001b[0;32mif\u001b[0m \u001b[0;32mnot\u001b[0m \u001b[0mresp\u001b[0m\u001b[0;34m:\u001b[0m\u001b[0;34m\u001b[0m\u001b[0;34m\u001b[0m\u001b[0m\n\u001b[0;32m---> 66\u001b[0;31m     \u001b[0;32mraise\u001b[0m \u001b[0mTimeoutException\u001b[0m\u001b[0;34m(\u001b[0m\u001b[0mkey\u001b[0m\u001b[0;34m)\u001b[0m\u001b[0;34m\u001b[0m\u001b[0;34m\u001b[0m\u001b[0m\n\u001b[0m\u001b[1;32m     67\u001b[0m   \u001b[0;32mif\u001b[0m \u001b[0;32mnot\u001b[0m \u001b[0mresp\u001b[0m\u001b[0;34m.\u001b[0m\u001b[0mget\u001b[0m\u001b[0;34m(\u001b[0m\u001b[0;34m'exists'\u001b[0m\u001b[0;34m,\u001b[0m \u001b[0;32mFalse\u001b[0m\u001b[0;34m)\u001b[0m\u001b[0;34m:\u001b[0m\u001b[0;34m\u001b[0m\u001b[0;34m\u001b[0m\u001b[0m\n\u001b[1;32m     68\u001b[0m     \u001b[0;32mraise\u001b[0m \u001b[0mSecretNotFoundError\u001b[0m\u001b[0;34m(\u001b[0m\u001b[0mkey\u001b[0m\u001b[0;34m)\u001b[0m\u001b[0;34m\u001b[0m\u001b[0;34m\u001b[0m\u001b[0m\n",
            "\u001b[0;31mTimeoutException\u001b[0m: Requesting secret GROQ_API timed out. Secrets can only be fetched when running from the Colab UI."
          ]
        }
      ],
      "source": [
        "from google.colab import userdata\n",
        "from llama_index.llms.groq import Groq\n",
        "from llama_index.core.llms import ChatMessage\n",
        "groq_key = userdata.get('GROQ_API')\n",
        "llm = Groq(model=\"llama3-70b-8192\", api_key=groq_key) #https://docs.llamaindex.ai/en/stable/examples/llm/groq/#streaming"
      ]
    },
    {
      "cell_type": "markdown",
      "metadata": {
        "id": "ViSaDQFySm8b"
      },
      "source": []
    },
    {
      "cell_type": "code",
      "execution_count": null,
      "metadata": {
        "colab": {
          "background_save": true
        },
        "id": "HWn7wF0tSSQ3"
      },
      "outputs": [],
      "source": [
        "response = llm.complete(\"Explain the importance of low latency LLMs\")"
      ]
    },
    {
      "cell_type": "code",
      "execution_count": null,
      "metadata": {
        "colab": {
          "background_save": true
        },
        "id": "5Z3YEHCOSdmt"
      },
      "outputs": [],
      "source": [
        "print(response)"
      ]
    },
    {
      "cell_type": "code",
      "execution_count": null,
      "metadata": {
        "colab": {
          "background_save": true
        },
        "id": "YKawPvfbSjiX"
      },
      "outputs": [],
      "source": [
        "response = llm.stream_complete(\"Explain the importance of low latency LLMs\")"
      ]
    },
    {
      "cell_type": "code",
      "execution_count": null,
      "metadata": {
        "colab": {
          "base_uri": "https://localhost:8080/"
        },
        "id": "KlKZ2G-iTStZ",
        "outputId": "8589ae42-ec53-4096-bf48-d0eab9ecab6c"
      },
      "outputs": [
        {
          "name": "stdout",
          "output_type": "stream",
          "text": [
            "Low-latency Large Language Models (LLMs) are crucial in various applications where real-time or near-real-time processing is essential. Here are some reasons why low-latency LLMs are important:\n",
            "\n",
            "1. **Interactive Systems**: In interactive systems like chatbots, virtual assistants, and conversational AI, low-latency LLMs enable rapid response times, ensuring a seamless user experience. Delays in response can lead to user frustration and abandonment.\n",
            "2. **Real-time Applications**: Low-latency LLMs are vital in real-time applications like language translation, sentiment analysis, and text summarization, where timely processing is critical. For instance, in live subtitles or real-time language translation, delays can cause confusion or miscommunication.\n",
            "3. **Edge AI**: With the proliferation of edge AI, low-latency LLMs are necessary to process data closer to the source, reducing latency and improving performance. This is particularly important in applications like autonomous vehicles, smart homes, and IoT devices.\n",
            "4. **Latency-Sensitive Industries**: Certain industries, such as finance, healthcare, and customer service, require low-latency LLMs to ensure timely decision-making, accurate diagnosis, or prompt customer support.\n",
            "5. **User Experience**: Low-latency LLMs can significantly improve user experience in applications like voice assistants, where rapid response times are essential for a natural and engaging interaction.\n",
            "6. **Scalability**: As the volume of data and user requests increases, low-latency LLMs become essential to maintain performance and scalability. This is particularly important in cloud-based services, where latency can impact the overall user experience.\n",
            "7. **Cost-Effectiveness**: Low-latency LLMs can help reduce infrastructure costs by minimizing the need for expensive hardware or distributed computing systems. This is especially important in resource-constrained environments or edge computing scenarios.\n",
            "8. **Security**: In security-critical applications, low-latency LLMs can help detect and respond to threats in real-time, reducing the attack surface and minimizing the risk of data breaches or system compromise.\n",
            "9. **Autonomous Systems**: Low-latency LLMs are essential in autonomous systems like robots, drones, or self-driving cars, where timely processing and decision-making are critical for safety and efficiency.\n",
            "10. **Future-Proofing**: As AI applications continue to evolve, low-latency LLMs will become increasingly important to support emerging use cases like augmented reality, virtual reality, and other latency-sensitive applications.\n",
            "\n",
            "To achieve low latency in LLMs, researchers and developers are exploring various techniques, including:\n",
            "\n",
            "1. Model pruning and knowledge distillation\n",
            "2. Quantization and precision reduction\n",
            "3. Efficient neural network architectures\n",
            "4. Parallel processing and distributed computing\n",
            "5. Caching and memoization\n",
            "6. Specialized hardware accelerators (e.g., TPUs, GPUs, FPGAs)\n",
            "7. Optimized software frameworks and libraries\n",
            "\n",
            "By developing and deploying low-latency LLMs, we can unlock the full potential of AI applications, enabling faster, more efficient, and more effective interactions between humans and machines."
          ]
        }
      ],
      "source": [
        "\n",
        "for r in response:\n",
        "    print(r.delta, end=\"\")"
      ]
    },
    {
      "cell_type": "markdown",
      "metadata": {
        "id": "kQUeFPM1Z2x-"
      },
      "source": [
        "# **5. Query Engine**"
      ]
    },
    {
      "cell_type": "markdown",
      "metadata": {
        "id": "OPWPkO3rxwdK"
      },
      "source": [
        "### **i. BM25 Retriver**"
      ]
    },
    {
      "cell_type": "code",
      "execution_count": null,
      "metadata": {
        "id": "g3xePPZDxuuc"
      },
      "outputs": [],
      "source": [
        "from llama_index.core.storage.docstore import SimpleDocumentStore\n",
        "from llama_index.retrievers.bm25 import BM25Retriever\n",
        "import Stemmer\n",
        "\n",
        "docstore = SimpleDocumentStore()\n",
        "docstore.add_documents(nodes)"
      ]
    },
    {
      "cell_type": "code",
      "execution_count": null,
      "metadata": {
        "colab": {
          "base_uri": "https://localhost:8080/"
        },
        "id": "AcRk5YBtgVLg",
        "outputId": "05574511-8024-4c75-81ec-d74215f1e280"
      },
      "outputs": [
        {
          "name": "stderr",
          "output_type": "stream",
          "text": [
            "DEBUG:bm25s:Building index from IDs objects\n"
          ]
        }
      ],
      "source": [
        "# We can pass in the index, docstore, or list of nodes to create the retriever\n",
        "bm25_retriever = BM25Retriever.from_defaults(\n",
        "    docstore=docstore,\n",
        "    similarity_top_k=2,\n",
        "    # Optional: We can pass in the stemmer and set the language for stopwords\n",
        "    # This is important for removing stopwords and stemming the query + text\n",
        "    # The default is english for both\n",
        "    stemmer=Stemmer.Stemmer(\"english\"),\n",
        "    language=\"english\",\n",
        ")"
      ]
    },
    {
      "cell_type": "code",
      "execution_count": null,
      "metadata": {
        "colab": {
          "base_uri": "https://localhost:8080/",
          "height": 716
        },
        "id": "NHIkGIhGy8uu",
        "outputId": "42535b1f-6c33-4f4c-f526-5b64cbcc3ef8"
      },
      "outputs": [
        {
          "data": {
            "text/markdown": "**Node ID:** 3132c5a7-cee2-415c-90f3-5d8d89411d01<br>**Similarity:** 2.5193252563476562<br>**Text:** impracticability of determining the geographic source of the revenue.  \nRevenue, classified by significant product and service offerings, was as follows:  \n  \n(In millions)         \n        \nYear Ended June 30, 2022 2021 2020 \n        \nServer products and cloud services $ 67,321  $ 52,589  $ 41,379  \nOffice products and cloud services  44,862   39,872   35,316  \nWindows  24,761   22,488   21,510  \nGaming  16,230   15,370   11,575  \nLinkedIn  13,816   10,289   8,077<br>",
            "text/plain": [
              "<IPython.core.display.Markdown object>"
            ]
          },
          "metadata": {},
          "output_type": "display_data"
        },
        {
          "data": {
            "text/markdown": "**Node ID:** c67218f2-6ede-42a6-bef5-9b2d0aae3667<br>**Similarity:** 2.3889145851135254<br>**Text:** may incur future impairments.  \nEquity investments with readily determinable fair values are measured at fair value. Equity investments without readily \ndeterminable fair values are measured using the equity method or measured at cost with adjustments for observable \nchanges in price or impairments (referred to as the measurement alternative). We perform a qualitative assessment on a<br>",
            "text/plain": [
              "<IPython.core.display.Markdown object>"
            ]
          },
          "metadata": {},
          "output_type": "display_data"
        },
        {
          "data": {
            "text/markdown": "**Node ID:** 6fbc6d6e-5766-4657-b0da-9663954dbe8f<br>**Similarity:** 2.329604387283325<br>**Text:** GAAP measures aid investors by providing additional insight into our operational performance and help clarify trends \naffecting our business. For comparability of reporting, management considers non -GAAP measures in conjunction with \nGAAP financial results in evaluating business performance. These non-GAAP financial measures presented should not be \nconsidered a substitute for, or superior to, the measures of financial performance prepared in accordance with GAAP.<br>",
            "text/plain": [
              "<IPython.core.display.Markdown object>"
            ]
          },
          "metadata": {},
          "output_type": "display_data"
        },
        {
          "data": {
            "text/markdown": "**Node ID:** c934d185-d824-4799-9c11-e8e0b393f712<br>**Similarity:** 2.32543683052063<br>**Text:** source projects, including Eclipse (sponsored by CA Technologies, IBM, Oracle, and SAP), PHP, and Ruby on Rails.<br>",
            "text/plain": [
              "<IPython.core.display.Markdown object>"
            ]
          },
          "metadata": {},
          "output_type": "display_data"
        },
        {
          "data": {
            "text/markdown": "**Node ID:** 5bc745a2-7536-4b82-ab7a-87906f308800<br>**Similarity:** 2.2575418949127197<br>**Text:** recognized in other income (expense), net.  \nFair Value Measurements  \nWe account for certain assets and liabilities at fair value. The hierarchy below lists three levels of fair value based on th e \nextent to which inputs used in measuring fair value are observable in the market.  We categorize each of our fair value \nmeasurements in one of these three levels based on the lowest level input that is significant to the fair value measurement \nin its entirety. These levels are:<br>",
            "text/plain": [
              "<IPython.core.display.Markdown object>"
            ]
          },
          "metadata": {},
          "output_type": "display_data"
        }
      ],
      "source": [
        "from llama_index.core.response.notebook_utils import display_source_node\n",
        "\n",
        "# will retrieve context from specific companies\n",
        "retrieved_nodes = bm25_retriever.retrieve(\"Measure revenue sources of mircrosoft?\")\n",
        "\n",
        "for node in retrieved_nodes:\n",
        "    display_source_node(node, source_length=5000)"
      ]
    },
    {
      "cell_type": "markdown",
      "metadata": {
        "id": "HSmiYkW9T6et"
      },
      "source": [
        "### **ii. Vector Store Retriever**"
      ]
    },
    {
      "cell_type": "code",
      "execution_count": null,
      "metadata": {
        "id": "y6ap_16rSet1"
      },
      "outputs": [],
      "source": [
        "vector_retriever  = index.as_retriever(similarity_top_k=2, )"
      ]
    },
    {
      "cell_type": "code",
      "execution_count": null,
      "metadata": {
        "colab": {
          "base_uri": "https://localhost:8080/",
          "height": 64
        },
        "id": "4x3WV6OO2tX6",
        "outputId": "64c6f485-e2c3-4a7d-ba9b-925788192bd6"
      },
      "outputs": [
        {
          "data": {
            "text/markdown": "<b>The revenue sources of Microsoft can be measured by the following categories: Server products and cloud services, Office products and cloud services, Windows, Gaming, and LinkedIn.</b>",
            "text/plain": [
              "<IPython.core.display.Markdown object>"
            ]
          },
          "metadata": {},
          "output_type": "display_data"
        }
      ],
      "source": [
        "# Query Data\n",
        "query_engine = index.as_query_engine(llm = llm)\n",
        "response = query_engine.query(\"Measure revenue sources of mircrosoft?\")\n",
        "display(Markdown(f\"<b>{response}</b>\"))"
      ]
    },
    {
      "cell_type": "markdown",
      "metadata": {
        "id": "VMQA3z9xac1E"
      },
      "source": [
        "#**6. Hybrid Search**"
      ]
    },
    {
      "cell_type": "code",
      "execution_count": null,
      "metadata": {
        "id": "O453yeaUbNNZ"
      },
      "outputs": [],
      "source": [
        "from llama_index.core import Settings\n",
        "Settings.llm = llm\n",
        "Settings.embed_model = embed_model"
      ]
    },
    {
      "cell_type": "markdown",
      "metadata": {
        "id": "N3BZFWuQWjSt"
      },
      "source": [
        "## **i. Hybrid Search using Reciprocal Rerank Fusion score.**"
      ]
    },
    {
      "cell_type": "code",
      "execution_count": null,
      "metadata": {
        "id": "q-snbFIgabwa"
      },
      "outputs": [],
      "source": [
        "from llama_index.core.retrievers import QueryFusionRetriever\n",
        "\n",
        "\n",
        "retriever = QueryFusionRetriever(\n",
        "        [vector_retriever,\n",
        "        bm25_retriever],\n",
        "        similarity_top_k=5, #Get top 5 nodes from naximum of 2*(5)(vector retriver) + 2*(5)(bm25) = 20 nodes. (5) for 5 artificial queries.\n",
        "        num_queries = 5,  # 5 Artificial Query generation.\n",
        "        use_async=True)"
      ]
    },
    {
      "cell_type": "code",
      "execution_count": null,
      "metadata": {
        "id": "MQNL4NjPdAgj"
      },
      "outputs": [],
      "source": [
        "# check how decide Alpha for Above"
      ]
    },
    {
      "cell_type": "markdown",
      "metadata": {
        "id": "YAnSkUdtc_4m"
      },
      "source": []
    },
    {
      "cell_type": "code",
      "execution_count": null,
      "metadata": {
        "colab": {
          "base_uri": "https://localhost:8080/",
          "height": 1000
        },
        "id": "b27hj2wnbULx",
        "outputId": "6365ee1c-65cc-4fe1-cd2f-fee77948090a"
      },
      "outputs": [
        {
          "name": "stdout",
          "output_type": "stream",
          "text": [
            "Score: 6.42 - to access our content and services, and the ability to create new experiences through first-party content creators.  \n",
            "Search and News Advertising  \n",
            "Our Search and news advertising business is designed to deliver relevant search, native, and display advertising to a \n",
            "global audience. We have several partnerships with other companies, including Yahoo, through which we provide and \n",
            "monetize search queries. Growth depends on our ability to attract new users, understand intent, and match intent with...\n",
            "-----\n",
            "\n"
          ]
        },
        {
          "data": {
            "text/markdown": "**Node ID:** a60419fd-aa57-4c4e-8977-7ba4114880af<br>**Similarity:** 6.423602104187012<br>**Text:** to access our content and services, and the ability to create new experiences through first-party content creators.  \nSearch and News Advertising  \nOur Search and news advertising business is designed to deliver relevant search, native, and display advertising to a \nglobal audience. We have several partnerships with other companies, including Yahoo, through which we provide and \nmonetize search queries. Growth depends on our ability to attract new users, understand intent, and match intent with<br>",
            "text/plain": [
              "<IPython.core.display.Markdown object>"
            ]
          },
          "metadata": {},
          "output_type": "display_data"
        },
        {
          "name": "stdout",
          "output_type": "stream",
          "text": [
            "--------------------------------------------------\n",
            "Score: 4.58 - web.queries@computershare.com  \n",
            "You can also send mail to the transfer agent at:  \n",
            "Computershare  \n",
            "P.O. Box 43006  \n",
            "Providence RI 02940-3078  \n",
            "Shareholders can sign up for electronic alerts to access the \n",
            "annual report and proxy statement online. The service gets \n",
            "you the information you need faster and also gives you the \n",
            "power and convenience of online proxy voting. To sign up for \n",
            "this free service, visit the Annual Report site on the Investor \n",
            "Relations website at:...\n",
            "-----\n",
            "\n"
          ]
        },
        {
          "data": {
            "text/markdown": "**Node ID:** 9b17796b-59ce-4327-91ec-7d047fad0033<br>**Similarity:** 4.581233501434326<br>**Text:** web.queries@computershare.com  \nYou can also send mail to the transfer agent at:  \nComputershare  \nP.O. Box 43006  \nProvidence RI 02940-3078  \nShareholders can sign up for electronic alerts to access the \nannual report and proxy statement online. The service gets \nyou the information you need faster and also gives you the \npower and convenience of online proxy voting. To sign up for \nthis free service, visit the Annual Report site on the Investor \nRelations website at:<br>",
            "text/plain": [
              "<IPython.core.display.Markdown object>"
            ]
          },
          "metadata": {},
          "output_type": "display_data"
        },
        {
          "name": "stdout",
          "output_type": "stream",
          "text": [
            "--------------------------------------------------\n",
            "Score: 3.99 - 84 \n",
            "REPORT OF INDEPENDENT REGISTERED PUBLIC ACCOUNTING FIRM  \n",
            "To the Stockholders and the Board of Directors of Microsoft Corporation  \n",
            "Opinion on the Financial Statements  \n",
            "We have audited the accompanying consolidated balance sheets of Microsoft Corporation and subsidiaries (the \n",
            "“Company”) as of June 30, 2022 and 2021, the related consolidated statements of income, comprehensive income, cash...\n",
            "-----\n",
            "\n"
          ]
        },
        {
          "data": {
            "text/markdown": "**Node ID:** 5b820a72-dd9d-4a14-abb6-41cbc9d670ed<br>**Similarity:** 3.990421772003174<br>**Text:** 84 \nREPORT OF INDEPENDENT REGISTERED PUBLIC ACCOUNTING FIRM  \nTo the Stockholders and the Board of Directors of Microsoft Corporation  \nOpinion on the Financial Statements  \nWe have audited the accompanying consolidated balance sheets of Microsoft Corporation and subsidiaries (the \n“Company”) as of June 30, 2022 and 2021, the related consolidated statements of income, comprehensive income, cash<br>",
            "text/plain": [
              "<IPython.core.display.Markdown object>"
            ]
          },
          "metadata": {},
          "output_type": "display_data"
        },
        {
          "name": "stdout",
          "output_type": "stream",
          "text": [
            "--------------------------------------------------\n",
            "Score: 3.98 - • Transfer of stock to another person  \n",
            "• Additional administrative services  \n",
            "Computershare also administers a direct stock purchase plan \n",
            "and a dividend reinvestment program for the company.  \n",
            "Contact Computershare directly to find out more about these \n",
            "services and programs at 800 -285-7772, option 1, or visit \n",
            "online at: https://www.computershare.com/Microsoft  \n",
            "You can e-mail the transfer agent at:  \n",
            "web.queries@computershare.com  \n",
            "You can also send mail to the transfer agent at:  \n",
            "Computershare...\n",
            "-----\n",
            "\n"
          ]
        },
        {
          "data": {
            "text/markdown": "**Node ID:** fc997991-76ee-4e31-82de-e3f26aa8d753<br>**Similarity:** 3.9779536724090576<br>**Text:** • Transfer of stock to another person  \n• Additional administrative services  \nComputershare also administers a direct stock purchase plan \nand a dividend reinvestment program for the company.  \nContact Computershare directly to find out more about these \nservices and programs at 800 -285-7772, option 1, or visit \nonline at: https://www.computershare.com/Microsoft  \nYou can e-mail the transfer agent at:  \nweb.queries@computershare.com  \nYou can also send mail to the transfer agent at:  \nComputershare<br>",
            "text/plain": [
              "<IPython.core.display.Markdown object>"
            ]
          },
          "metadata": {},
          "output_type": "display_data"
        },
        {
          "name": "stdout",
          "output_type": "stream",
          "text": [
            "--------------------------------------------------\n",
            "Score: 3.71 - across the Company. \n",
            "In addition to our main research and development operations, we also operate Microsoft Research. Microsoft Research is \n",
            "one of the world’s largest corporate research organizations and works in close collaboration with top universities around \n",
            "the world to advance the state-of-the-art in computer science and a broad range of other disciplines, providing us a unique \n",
            "perspective on future trends and contributing to our innovation....\n",
            "-----\n",
            "\n"
          ]
        },
        {
          "data": {
            "text/markdown": "**Node ID:** e46b0772-2e49-4d37-8664-7475b6d74333<br>**Similarity:** 3.7086267471313477<br>**Text:** across the Company. \nIn addition to our main research and development operations, we also operate Microsoft Research. Microsoft Research is \none of the world’s largest corporate research organizations and works in close collaboration with top universities around \nthe world to advance the state-of-the-art in computer science and a broad range of other disciplines, providing us a unique \nperspective on future trends and contributing to our innovation.<br>",
            "text/plain": [
              "<IPython.core.display.Markdown object>"
            ]
          },
          "metadata": {},
          "output_type": "display_data"
        },
        {
          "name": "stdout",
          "output_type": "stream",
          "text": [
            "--------------------------------------------------\n",
            "Score: 3.15 - 89 \n",
            "  \n",
            "DIRECTORS AND EXECUTIVE OFFICERS OF MICROSOFT CORPORATION  \n",
            "  \n",
            "DIRECTORS  \n",
            "  \n",
            "Satya Nadella \n",
            "Chairman and Chief Executive Officer, \n",
            "Microsoft Corporation  \n",
            "Sandra E. Peterson 2,3 \n",
            "Operating Partner, \n",
            "Clayton, Dubilier & Rice, LLC \n",
            "John W. Stanton 1,4 \n",
            "Founder and Chairman, Trilogy \n",
            "Partnerships \n",
            "      \n",
            "Reid G. Hoffman 4 \n",
            "General Partner, Greylock Partners \n",
            "Penny S. Pritzker 4 \n",
            "Founder and Chairman, \n",
            "PSP Partners, LLC \n",
            "John W. Thompson 3,4 \n",
            "Lead Independent Director, \n",
            "Microsoft Corporation...\n",
            "-----\n",
            "\n"
          ]
        },
        {
          "data": {
            "text/markdown": "**Node ID:** 98381a47-de3a-40e0-b95b-24dcee35e926<br>**Similarity:** 3.153303861618042<br>**Text:** 89 \n  \nDIRECTORS AND EXECUTIVE OFFICERS OF MICROSOFT CORPORATION  \n  \nDIRECTORS  \n  \nSatya Nadella \nChairman and Chief Executive Officer, \nMicrosoft Corporation  \nSandra E. Peterson 2,3 \nOperating Partner, \nClayton, Dubilier & Rice, LLC \nJohn W. Stanton 1,4 \nFounder and Chairman, Trilogy \nPartnerships \n      \nReid G. Hoffman 4 \nGeneral Partner, Greylock Partners \nPenny S. Pritzker 4 \nFounder and Chairman, \nPSP Partners, LLC \nJohn W. Thompson 3,4 \nLead Independent Director, \nMicrosoft Corporation<br>",
            "text/plain": [
              "<IPython.core.display.Markdown object>"
            ]
          },
          "metadata": {},
          "output_type": "display_data"
        },
        {
          "name": "stdout",
          "output_type": "stream",
          "text": [
            "--------------------------------------------------\n"
          ]
        }
      ],
      "source": [
        "nodes = retriever.retrieve(\"Measure revenue sources of mircrosoft?\")\n",
        "\n",
        "for node in nodes:\n",
        "    print(f\"Score: {node.score:.2f} - {node.text}...\\n-----\\n\")\n",
        "    display_source_node(node, source_length=5000)\n",
        "    print(\"--------------------------------------------------\")\n"
      ]
    },
    {
      "cell_type": "code",
      "execution_count": null,
      "metadata": {
        "id": "mTFipAJVdPU2"
      },
      "outputs": [],
      "source": [
        "from llama_index.core.query_engine import RetrieverQueryEngine\n",
        "\n",
        "query_engine = RetrieverQueryEngine(retriever)"
      ]
    },
    {
      "cell_type": "code",
      "execution_count": null,
      "metadata": {
        "colab": {
          "base_uri": "https://localhost:8080/",
          "height": 295
        },
        "id": "JGxwNMLXdUu2",
        "outputId": "f9e74942-ad82-40db-a275-051e34f0c671"
      },
      "outputs": [
        {
          "data": {
            "text/markdown": "<b>Based on the provided context, Microsoft's revenue sources can be measured from the following areas:\n\n1. Search and News Advertising: Through partnerships with companies like Yahoo, Microsoft provides and monetizes search queries, generating revenue from relevant search, native, and display advertising.\n\n2. Services: Microsoft offers services that assist customers in developing, deploying, and managing Microsoft server solutions, Microsoft desktop solutions, and Nuance conversational AI and ambient intelligent solutions, along with providing training and certification to developers and IT professionals on various Microsoft products.\n\n3. OEMs (Original Equipment Manufacturers): Microsoft generates revenue from two broad categories of OEMs: regional and local OEMs, and system builders. These OEMs source Microsoft software for pre-installation and local redistribution.\n\n4. Direct Agreements: Many organizations that license Microsoft products and services transact directly with the company through Enterprise Agreements and other direct relationships.</b>",
            "text/plain": [
              "<IPython.core.display.Markdown object>"
            ]
          },
          "metadata": {},
          "output_type": "display_data"
        }
      ],
      "source": [
        "response = query_engine.query(\"Measure revenue sources of mircrosoft?\")\n",
        "display(Markdown(f\"<b>{response}</b>\"))"
      ]
    },
    {
      "cell_type": "markdown",
      "metadata": {
        "id": "junxlzPKWu89"
      },
      "source": [
        "## **ii\\. Hybrid Search with query expansion and using cosine similarity for final nodes**"
      ]
    },
    {
      "cell_type": "markdown",
      "metadata": {
        "id": "znFq5HmoFkeh"
      },
      "source": [
        "# Cross- ReRanker"
      ]
    },
    {
      "cell_type": "markdown",
      "metadata": {
        "id": "i2QPGMWNHRVK"
      },
      "source": [
        "# **Query Expansion**"
      ]
    },
    {
      "cell_type": "code",
      "execution_count": null,
      "metadata": {
        "id": "xHZuEyXzLiT6"
      },
      "outputs": [],
      "source": [
        "!pip install umap-learn --quiet"
      ]
    },
    {
      "cell_type": "code",
      "execution_count": null,
      "metadata": {
        "id": "RAN_f2QWL2Bc"
      },
      "outputs": [],
      "source": [
        "import umap.umap_ as umap\n",
        "import numpy as np\n",
        "from tqdm import tqdm"
      ]
    },
    {
      "cell_type": "markdown",
      "metadata": {
        "id": "TvwB6ED1NRnb"
      },
      "source": [
        "\n",
        "*   Expansion with multiple queries\n",
        "\n"
      ]
    },
    {
      "cell_type": "code",
      "execution_count": null,
      "metadata": {
        "id": "iEDhiQuXMVX0"
      },
      "outputs": [],
      "source": [
        "def augment_multiple_query(query, llm):\n",
        "\n",
        "    messages = [\n",
        "    ChatMessage(\n",
        "        role=\"system\", content=\"You are a helpful expert financial research assistant. Your users are asking questions about an annual report. \"\n",
        "            \"Suggest up to five additional related questions to help them find the information they need, for the provided question. \"\n",
        "            \"Suggest only short questions without compound sentences. Suggest a variety of questions that cover different aspects of the topic.\"\n",
        "            \"Make sure they are complete questions, and that they are related to the original question.\"\n",
        "            \"Output one question per line. Do not number the questions.\"\n",
        "    ),\n",
        "    ChatMessage(role=\"user\", content=query ),\n",
        "    ]\n",
        "    resp = llm.chat(messages)\n",
        "    return resp"
      ]
    },
    {
      "cell_type": "code",
      "execution_count": null,
      "metadata": {
        "colab": {
          "base_uri": "https://localhost:8080/"
        },
        "id": "Hf4mamDNMdAX",
        "outputId": "2db0214c-4e87-42ed-a06d-339ab28420ea"
      },
      "outputs": [
        {
          "name": "stdout",
          "output_type": "stream",
          "text": [
            "assistant: What was the total revenue for the year?\n",
            "Which product or service segment generated the most revenue?\n",
            "Were there any significant changes in pricing or sales volume?\n",
            "Did the company experience any notable acquisitions or divestitures?\n",
            "Were there any changes in the company's business model or strategy?\n"
          ]
        }
      ],
      "source": [
        "original_query = \"What were the most important factors that contributed to increases in revenue?\"\n",
        "aug_queries = augment_multiple_query(original_query, llm)\n",
        "print(aug_queries)\n"
      ]
    },
    {
      "cell_type": "code",
      "execution_count": null,
      "metadata": {
        "id": "bsxtTaBOM_eo"
      },
      "outputs": [],
      "source": [
        "augmented_queries = aug_queries.message.blocks[0].text.split(\"\\n\")\n",
        "queries = [original_query] + augmented_queries"
      ]
    },
    {
      "cell_type": "code",
      "execution_count": null,
      "metadata": {
        "id": "Y2AWQzNZ4Wg2"
      },
      "outputs": [],
      "source": [
        "vector_retriever  = index.as_retriever(similarity_top_k=2,)\n",
        "bm25_retriever = BM25Retriever.from_defaults(\n",
        "    docstore=docstore,\n",
        "    similarity_top_k=2,\n",
        "    # Optional: We can pass in the stemmer and set the language for stopwords\n",
        "    # This is important for removing stopwords and stemming the query + text\n",
        "    # The default is english for both\n",
        "    stemmer=Stemmer.Stemmer(\"english\"),\n",
        "    language=\"english\",\n",
        ")"
      ]
    },
    {
      "cell_type": "code",
      "execution_count": null,
      "metadata": {
        "id": "K4QvWtzV7_e5"
      },
      "outputs": [],
      "source": [
        "all_nodes = []"
      ]
    },
    {
      "cell_type": "code",
      "execution_count": null,
      "metadata": {
        "id": "ANXb9BeF72Cm"
      },
      "outputs": [],
      "source": [
        "for query in queries:\n",
        "  nodes_v = vector_retriever.retrieve(original_query)\n",
        "  nodes_b = bm25_retriever.retrieve(original_query)\n",
        "  all_nodes = all_nodes + nodes_v + nodes_b"
      ]
    },
    {
      "cell_type": "code",
      "source": [
        "for node in all_nodes:\n",
        "  print(node.text)"
      ],
      "metadata": {
        "id": "qPXY5JeiT5Uy"
      },
      "execution_count": null,
      "outputs": []
    },
    {
      "cell_type": "code",
      "execution_count": null,
      "metadata": {
        "colab": {
          "base_uri": "https://localhost:8080/"
        },
        "id": "ORhYOtO29EuZ",
        "outputId": "7aab3447-3d7b-428f-9a55-dc76541ec0c9"
      },
      "outputs": [
        {
          "data": {
            "text/plain": [
              "12"
            ]
          },
          "execution_count": 113,
          "metadata": {},
          "output_type": "execute_result"
        }
      ],
      "source": [
        "len(all_nodes) # Remove the dublicate nodes"
      ]
    },
    {
      "cell_type": "code",
      "execution_count": null,
      "metadata": {
        "colab": {
          "base_uri": "https://localhost:8080/",
          "height": 36
        },
        "id": "o30gluM3-dnN",
        "outputId": "1d2e509d-b580-4fae-fbf7-309d2cd07efc"
      },
      "outputs": [
        {
          "data": {
            "application/vnd.google.colaboratory.intrinsic+json": {
              "type": "string"
            },
            "text/plain": [
              "'a3b621ec-febe-4ad5-a7ce-ed616eba07c0'"
            ]
          },
          "execution_count": 117,
          "metadata": {},
          "output_type": "execute_result"
        }
      ],
      "source": [
        "all_nodes[0].node_id"
      ]
    },
    {
      "cell_type": "code",
      "execution_count": null,
      "metadata": {
        "id": "hVxAEr9U8fjS"
      },
      "outputs": [],
      "source": [
        "retrieved_documents = results['documents']\n",
        "\n",
        "# Deduplicate the retrieved documents\n",
        "unique_documents = set()\n",
        "for documents in retrieved_documents:\n",
        "    for document in documents:\n",
        "        unique_documents.add(document)"
      ]
    },
    {
      "cell_type": "code",
      "execution_count": null,
      "metadata": {
        "colab": {
          "base_uri": "https://localhost:8080/"
        },
        "id": "ocSe9aNe4wfu",
        "outputId": "5838c876-5482-41bb-b736-9d3274419a3d"
      },
      "outputs": [
        {
          "data": {
            "text/plain": [
              "[NodeWithScore(node=TextNode(id_='a3b621ec-febe-4ad5-a7ce-ed616eba07c0', embedding=None, metadata={'page_label': '37', 'file_name': 'microsoft_annual_report_2022.pdf', 'file_path': '/content/drive/MyDrive/Colab Notebooks/Data/microsoft_annual_report_2022.pdf', 'file_type': 'application/pdf', 'file_size': 1285495, 'creation_date': '2024-12-27', 'last_modified_date': '2024-12-27'}, excluded_embed_metadata_keys=['file_name', 'file_type', 'file_size', 'creation_date', 'last_modified_date', 'last_accessed_date'], excluded_llm_metadata_keys=['file_name', 'file_type', 'file_size', 'creation_date', 'last_modified_date', 'last_accessed_date'], relationships={<NodeRelationship.SOURCE: '1'>: RelatedNodeInfo(node_id='abf922c2-ece5-4261-b6f5-f2860084d4dc', node_type='4', metadata={'page_label': '37', 'file_name': 'microsoft_annual_report_2022.pdf', 'file_path': '/content/drive/MyDrive/Colab Notebooks/Data/microsoft_annual_report_2022.pdf', 'file_type': 'application/pdf', 'file_size': 1285495, 'creation_date': '2024-12-27', 'last_modified_date': '2024-12-27'}, hash='4a4e4fd2a7d23b2f3168140a72fa0ad58834ff5d48ea8b3eaa12f46095a3a349'), <NodeRelationship.PREVIOUS: '2'>: RelatedNodeInfo(node_id='d9f1d1cf-fc88-4242-b899-98e26fb81d90', node_type='1', metadata={'page_label': '37', 'file_name': 'microsoft_annual_report_2022.pdf', 'file_path': '/content/drive/MyDrive/Colab Notebooks/Data/microsoft_annual_report_2022.pdf', 'file_type': 'application/pdf', 'file_size': 1285495, 'creation_date': '2024-12-27', 'last_modified_date': '2024-12-27'}, hash='19c5eed8a78e501bcb4acc63fa64294d0f2e67d11f5b8c740b28bb7546d7c88f')}, metadata_template='{key}: {value}', metadata_separator='\\n', text='• Windows revenue increased $2.3  billion or 10% driven by growth in Windows OEM and Windows \\nCommercial. Windows OEM revenue increased 11% driven by continued strength in the commercial PC \\nmarket, which has higher revenue per license. Windows Commercial products and cloud services revenue \\nincreased 11% driven by demand for Microsoft 365.', mimetype='text/plain', start_char_idx=2833, end_char_idx=3175, metadata_seperator='\\n', text_template='{metadata_str}\\n\\n{content}'), score=0.4516958247778144),\n",
              " NodeWithScore(node=TextNode(id_='b68536a7-ad82-470d-aeae-3e9d4da0c4ee', embedding=None, metadata={'page_label': '37', 'file_name': 'microsoft_annual_report_2022.pdf', 'file_path': '/content/drive/MyDrive/Colab Notebooks/Data/microsoft_annual_report_2022.pdf', 'file_type': 'application/pdf', 'file_size': 1285495, 'creation_date': '2025-01-02', 'last_modified_date': '2024-12-27'}, excluded_embed_metadata_keys=['file_name', 'file_type', 'file_size', 'creation_date', 'last_modified_date', 'last_accessed_date'], excluded_llm_metadata_keys=['file_name', 'file_type', 'file_size', 'creation_date', 'last_modified_date', 'last_accessed_date'], relationships={<NodeRelationship.SOURCE: '1'>: RelatedNodeInfo(node_id='f20d4ddb-1f1d-46ae-8f6e-f069be530082', node_type='4', metadata={'page_label': '37', 'file_name': 'microsoft_annual_report_2022.pdf', 'file_path': '/content/drive/MyDrive/Colab Notebooks/Data/microsoft_annual_report_2022.pdf', 'file_type': 'application/pdf', 'file_size': 1285495, 'creation_date': '2025-01-02', 'last_modified_date': '2024-12-27'}, hash='4a4e4fd2a7d23b2f3168140a72fa0ad58834ff5d48ea8b3eaa12f46095a3a349'), <NodeRelationship.PREVIOUS: '2'>: RelatedNodeInfo(node_id='c77d6c0c-27f4-45bd-893c-276470556bf3', node_type='1', metadata={'page_label': '37', 'file_name': 'microsoft_annual_report_2022.pdf', 'file_path': '/content/drive/MyDrive/Colab Notebooks/Data/microsoft_annual_report_2022.pdf', 'file_type': 'application/pdf', 'file_size': 1285495, 'creation_date': '2025-01-02', 'last_modified_date': '2024-12-27'}, hash='17ec6da0ba1ef1590df53a33894b349d63fd1d657e5a662f121f145256aacd95')}, metadata_template='{key}: {value}', metadata_separator='\\n', text='• Windows revenue increased $2.3  billion or 10% driven by growth in Windows OEM and Windows \\nCommercial. Windows OEM revenue increased 11% driven by continued strength in the commercial PC \\nmarket, which has higher revenue per license. Windows Commercial products and cloud services revenue \\nincreased 11% driven by demand for Microsoft 365.', mimetype='text/plain', start_char_idx=2833, end_char_idx=3175, metadata_seperator='\\n', text_template='{metadata_str}\\n\\n{content}'), score=0.4516958247778144)]"
            ]
          },
          "execution_count": 103,
          "metadata": {},
          "output_type": "execute_result"
        }
      ],
      "source": [
        "nodes = vector_retriever.retrieve(original_query)"
      ]
    },
    {
      "cell_type": "code",
      "execution_count": null,
      "metadata": {
        "colab": {
          "base_uri": "https://localhost:8080/"
        },
        "id": "q7WX9M8o7kl7",
        "outputId": "68a3d4dc-5e0a-4d10-87df-1b576b561aba"
      },
      "outputs": [
        {
          "data": {
            "text/plain": [
              "6"
            ]
          },
          "execution_count": 105,
          "metadata": {},
          "output_type": "execute_result"
        }
      ],
      "source": [
        "len(nodes)"
      ]
    },
    {
      "cell_type": "code",
      "execution_count": null,
      "metadata": {
        "colab": {
          "base_uri": "https://localhost:8080/",
          "height": 122
        },
        "id": "dOTArDMK7o0A",
        "outputId": "ca98b229-a783-4d28-c570-39a220ede7ad"
      },
      "outputs": [
        {
          "data": {
            "application/vnd.google.colaboratory.intrinsic+json": {
              "type": "string"
            },
            "text/plain": [
              "'web.queries@computershare.com  \\nYou can also send mail to the transfer agent at:  \\nComputershare  \\nP.O. Box 43006  \\nProvidence RI 02940-3078  \\nShareholders can sign up for electronic alerts to access the \\nannual report and proxy statement online. The service gets \\nyou the information you need faster and also gives you the \\npower and convenience of online proxy voting. To sign up for \\nthis free service, visit the Annual Report site on the Investor \\nRelations website at:'"
            ]
          },
          "execution_count": 107,
          "metadata": {},
          "output_type": "execute_result"
        }
      ],
      "source": [
        "nodes[1].text"
      ]
    },
    {
      "cell_type": "code",
      "execution_count": null,
      "metadata": {
        "colab": {
          "base_uri": "https://localhost:8080/"
        },
        "id": "8jfgRm697b9V",
        "outputId": "aec9a56a-1041-44b1-e010-5528de8bcccd"
      },
      "outputs": [
        {
          "name": "stdout",
          "output_type": "stream",
          "text": [
            "to access our content and services, and the ability to create new experiences through first-party content creators.  \n",
            "Search and News Advertising  \n",
            "Our Search and news advertising business is designed to deliver relevant search, native, and display advertising to a \n",
            "global audience. We have several partnerships with other companies, including Yahoo, through which we provide and \n",
            "monetize search queries. Growth depends on our ability to attract new users, understand intent, and match intent with\n",
            "web.queries@computershare.com  \n",
            "You can also send mail to the transfer agent at:  \n",
            "Computershare  \n",
            "P.O. Box 43006  \n",
            "Providence RI 02940-3078  \n",
            "Shareholders can sign up for electronic alerts to access the \n",
            "annual report and proxy statement online. The service gets \n",
            "you the information you need faster and also gives you the \n",
            "power and convenience of online proxy voting. To sign up for \n",
            "this free service, visit the Annual Report site on the Investor \n",
            "Relations website at:\n",
            "84 \n",
            "REPORT OF INDEPENDENT REGISTERED PUBLIC ACCOUNTING FIRM  \n",
            "To the Stockholders and the Board of Directors of Microsoft Corporation  \n",
            "Opinion on the Financial Statements  \n",
            "We have audited the accompanying consolidated balance sheets of Microsoft Corporation and subsidiaries (the \n",
            "“Company”) as of June 30, 2022 and 2021, the related consolidated statements of income, comprehensive income, cash\n",
            "• Transfer of stock to another person  \n",
            "• Additional administrative services  \n",
            "Computershare also administers a direct stock purchase plan \n",
            "and a dividend reinvestment program for the company.  \n",
            "Contact Computershare directly to find out more about these \n",
            "services and programs at 800 -285-7772, option 1, or visit \n",
            "online at: https://www.computershare.com/Microsoft  \n",
            "You can e-mail the transfer agent at:  \n",
            "web.queries@computershare.com  \n",
            "You can also send mail to the transfer agent at:  \n",
            "Computershare\n",
            "across the Company. \n",
            "In addition to our main research and development operations, we also operate Microsoft Research. Microsoft Research is \n",
            "one of the world’s largest corporate research organizations and works in close collaboration with top universities around \n",
            "the world to advance the state-of-the-art in computer science and a broad range of other disciplines, providing us a unique \n",
            "perspective on future trends and contributing to our innovation.\n",
            "89 \n",
            "  \n",
            "DIRECTORS AND EXECUTIVE OFFICERS OF MICROSOFT CORPORATION  \n",
            "  \n",
            "DIRECTORS  \n",
            "  \n",
            "Satya Nadella \n",
            "Chairman and Chief Executive Officer, \n",
            "Microsoft Corporation  \n",
            "Sandra E. Peterson 2,3 \n",
            "Operating Partner, \n",
            "Clayton, Dubilier & Rice, LLC \n",
            "John W. Stanton 1,4 \n",
            "Founder and Chairman, Trilogy \n",
            "Partnerships \n",
            "      \n",
            "Reid G. Hoffman 4 \n",
            "General Partner, Greylock Partners \n",
            "Penny S. Pritzker 4 \n",
            "Founder and Chairman, \n",
            "PSP Partners, LLC \n",
            "John W. Thompson 3,4 \n",
            "Lead Independent Director, \n",
            "Microsoft Corporation\n"
          ]
        }
      ],
      "source": [
        "for node in nodes:\n",
        "  print(node.text)"
      ]
    },
    {
      "cell_type": "code",
      "execution_count": null,
      "metadata": {
        "id": "LND-29RF29PO"
      },
      "outputs": [],
      "source": [
        "# Query Data\n",
        "query_engine = index.as_query_engine(llm = llm)\n",
        "response = query_engine.query(\"Measure revenue sources of mircrosoft?\")\n",
        "display(Markdown(f\"<b>{response}</b>\"))"
      ]
    },
    {
      "cell_type": "code",
      "execution_count": null,
      "metadata": {
        "id": "ATtD-coh4LR7"
      },
      "outputs": [],
      "source": []
    },
    {
      "cell_type": "markdown",
      "metadata": {
        "id": "AetPKG4ghooF"
      },
      "source": [
        "1. Take 20 chunks using vector retriver for augumneted queries.\n",
        "2. Take 20 chunks using BM25 retriver for augumneted queries.\n",
        "3. remove the duplicates.\n",
        "4.  Based u[on dot matrix product with query, choose top 5 and pass as context."
      ]
    },
    {
      "cell_type": "code",
      "execution_count": null,
      "metadata": {
        "colab": {
          "base_uri": "https://localhost:8080/"
        },
        "id": "FGcHTUAI3D1K",
        "outputId": "5282804f-8dc7-4591-b18b-1186cc1a6311"
      },
      "outputs": [
        {
          "data": {
            "text/plain": [
              "['What were the most important factors that contributed to increases in revenue?',\n",
              " 'What was the total revenue for the year?',\n",
              " 'Which product or service segment generated the most revenue?',\n",
              " 'Were there any significant changes in pricing or sales volume?',\n",
              " 'Did the company experience any notable acquisitions or divestitures?',\n",
              " \"Were there any changes in the company's business model or strategy?\"]"
            ]
          },
          "execution_count": 99,
          "metadata": {},
          "output_type": "execute_result"
        }
      ],
      "source": [
        "queries"
      ]
    },
    {
      "cell_type": "code",
      "execution_count": null,
      "metadata": {
        "colab": {
          "base_uri": "https://localhost:8080/",
          "height": 321
        },
        "id": "1zHz6o9z290k",
        "outputId": "e016a34d-9d87-45cd-cc3c-e10bbb8b7938"
      },
      "outputs": [
        {
          "ename": "ValueError",
          "evalue": "llm must start with str 'local' or of type LLM or BaseLanguageModel",
          "output_type": "error",
          "traceback": [
            "\u001b[0;31m---------------------------------------------------------------------------\u001b[0m",
            "\u001b[0;31mValueError\u001b[0m                                Traceback (most recent call last)",
            "\u001b[0;32m<ipython-input-100-ee6e69275261>\u001b[0m in \u001b[0;36m<cell line: 1>\u001b[0;34m()\u001b[0m\n\u001b[0;32m----> 1\u001b[0;31m \u001b[0mindex\u001b[0m\u001b[0;34m.\u001b[0m\u001b[0mas_query_engine\u001b[0m\u001b[0;34m(\u001b[0m\u001b[0moriginal_query\u001b[0m\u001b[0;34m)\u001b[0m\u001b[0;34m\u001b[0m\u001b[0;34m\u001b[0m\u001b[0m\n\u001b[0m",
            "\u001b[0;32m/usr/local/lib/python3.10/dist-packages/llama_index/core/indices/base.py\u001b[0m in \u001b[0;36mas_query_engine\u001b[0;34m(self, llm, **kwargs)\u001b[0m\n\u001b[1;32m    374\u001b[0m         \u001b[0mretriever\u001b[0m \u001b[0;34m=\u001b[0m \u001b[0mself\u001b[0m\u001b[0;34m.\u001b[0m\u001b[0mas_retriever\u001b[0m\u001b[0;34m(\u001b[0m\u001b[0;34m**\u001b[0m\u001b[0mkwargs\u001b[0m\u001b[0;34m)\u001b[0m\u001b[0;34m\u001b[0m\u001b[0;34m\u001b[0m\u001b[0m\n\u001b[1;32m    375\u001b[0m         llm = (\n\u001b[0;32m--> 376\u001b[0;31m             \u001b[0mresolve_llm\u001b[0m\u001b[0;34m(\u001b[0m\u001b[0mllm\u001b[0m\u001b[0;34m,\u001b[0m \u001b[0mcallback_manager\u001b[0m\u001b[0;34m=\u001b[0m\u001b[0mself\u001b[0m\u001b[0;34m.\u001b[0m\u001b[0m_callback_manager\u001b[0m\u001b[0;34m)\u001b[0m\u001b[0;34m\u001b[0m\u001b[0;34m\u001b[0m\u001b[0m\n\u001b[0m\u001b[1;32m    377\u001b[0m             \u001b[0;32mif\u001b[0m \u001b[0mllm\u001b[0m\u001b[0;34m\u001b[0m\u001b[0;34m\u001b[0m\u001b[0m\n\u001b[1;32m    378\u001b[0m             \u001b[0;32melse\u001b[0m \u001b[0mSettings\u001b[0m\u001b[0;34m.\u001b[0m\u001b[0mllm\u001b[0m\u001b[0;34m\u001b[0m\u001b[0;34m\u001b[0m\u001b[0m\n",
            "\u001b[0;32m/usr/local/lib/python3.10/dist-packages/llama_index/core/llms/utils.py\u001b[0m in \u001b[0;36mresolve_llm\u001b[0;34m(llm, callback_manager)\u001b[0m\n\u001b[1;32m     62\u001b[0m         \u001b[0mmodel_path\u001b[0m \u001b[0;34m=\u001b[0m \u001b[0msplits\u001b[0m\u001b[0;34m[\u001b[0m\u001b[0;36m1\u001b[0m\u001b[0;34m]\u001b[0m \u001b[0;32mif\u001b[0m \u001b[0mlen\u001b[0m\u001b[0;34m(\u001b[0m\u001b[0msplits\u001b[0m\u001b[0;34m)\u001b[0m \u001b[0;34m>\u001b[0m \u001b[0;36m1\u001b[0m \u001b[0;32melse\u001b[0m \u001b[0;32mNone\u001b[0m\u001b[0;34m\u001b[0m\u001b[0;34m\u001b[0m\u001b[0m\n\u001b[1;32m     63\u001b[0m         \u001b[0;32mif\u001b[0m \u001b[0mis_local\u001b[0m \u001b[0;34m!=\u001b[0m \u001b[0;34m\"local\"\u001b[0m\u001b[0;34m:\u001b[0m\u001b[0;34m\u001b[0m\u001b[0;34m\u001b[0m\u001b[0m\n\u001b[0;32m---> 64\u001b[0;31m             raise ValueError(\n\u001b[0m\u001b[1;32m     65\u001b[0m                 \u001b[0;34m\"llm must start with str 'local' or of type LLM or BaseLanguageModel\"\u001b[0m\u001b[0;34m\u001b[0m\u001b[0;34m\u001b[0m\u001b[0m\n\u001b[1;32m     66\u001b[0m             )\n",
            "\u001b[0;31mValueError\u001b[0m: llm must start with str 'local' or of type LLM or BaseLanguageModel"
          ]
        }
      ],
      "source": [
        "index.as_query_engine(original_query)"
      ]
    },
    {
      "cell_type": "code",
      "execution_count": null,
      "metadata": {
        "colab": {
          "base_uri": "https://localhost:8080/",
          "height": 376
        },
        "id": "MWjKh7BKNFpT",
        "outputId": "960e3331-e1ae-445d-e76e-1d15bc84b9d7"
      },
      "outputs": [
        {
          "name": "stderr",
          "output_type": "stream",
          "text": [
            "/root/.cache/chroma/onnx_models/all-MiniLM-L6-v2/onnx.tar.gz: 100%|██████████| 79.3M/79.3M [00:07<00:00, 10.5MiB/s]\n"
          ]
        },
        {
          "ename": "InvalidDimensionException",
          "evalue": "Embedding dimension 384 does not match collection dimensionality 768",
          "output_type": "error",
          "traceback": [
            "\u001b[0;31m---------------------------------------------------------------------------\u001b[0m",
            "\u001b[0;31mInvalidDimensionException\u001b[0m                 Traceback (most recent call last)",
            "\u001b[0;32m<ipython-input-89-7d7690130059>\u001b[0m in \u001b[0;36m<cell line: 1>\u001b[0;34m()\u001b[0m\n\u001b[0;32m----> 1\u001b[0;31m \u001b[0mresults\u001b[0m \u001b[0;34m=\u001b[0m \u001b[0mchroma_collection\u001b[0m\u001b[0;34m.\u001b[0m\u001b[0mquery\u001b[0m\u001b[0;34m(\u001b[0m\u001b[0mquery_texts\u001b[0m\u001b[0;34m=\u001b[0m\u001b[0mqueries\u001b[0m\u001b[0;34m,\u001b[0m \u001b[0mn_results\u001b[0m\u001b[0;34m=\u001b[0m\u001b[0;36m5\u001b[0m\u001b[0;34m)\u001b[0m\u001b[0;34m\u001b[0m\u001b[0;34m\u001b[0m\u001b[0m\n\u001b[0m",
            "\u001b[0;32m/usr/local/lib/python3.10/dist-packages/chromadb/api/models/Collection.py\u001b[0m in \u001b[0;36mquery\u001b[0;34m(self, query_embeddings, query_texts, query_images, query_uris, n_results, where, where_document, include)\u001b[0m\n\u001b[1;32m    220\u001b[0m         )\n\u001b[1;32m    221\u001b[0m \u001b[0;34m\u001b[0m\u001b[0m\n\u001b[0;32m--> 222\u001b[0;31m         query_results = self._client._query(\n\u001b[0m\u001b[1;32m    223\u001b[0m             \u001b[0mcollection_id\u001b[0m\u001b[0;34m=\u001b[0m\u001b[0mself\u001b[0m\u001b[0;34m.\u001b[0m\u001b[0mid\u001b[0m\u001b[0;34m,\u001b[0m\u001b[0;34m\u001b[0m\u001b[0;34m\u001b[0m\u001b[0m\n\u001b[1;32m    224\u001b[0m             \u001b[0mquery_embeddings\u001b[0m\u001b[0;34m=\u001b[0m\u001b[0mquery_request\u001b[0m\u001b[0;34m[\u001b[0m\u001b[0;34m\"embeddings\"\u001b[0m\u001b[0;34m]\u001b[0m\u001b[0;34m,\u001b[0m\u001b[0;34m\u001b[0m\u001b[0;34m\u001b[0m\u001b[0m\n",
            "\u001b[0;32m/usr/local/lib/python3.10/dist-packages/chromadb/telemetry/opentelemetry/__init__.py\u001b[0m in \u001b[0;36mwrapper\u001b[0;34m(*args, **kwargs)\u001b[0m\n\u001b[1;32m    148\u001b[0m                 \u001b[0;32mglobal\u001b[0m \u001b[0mtracer\u001b[0m\u001b[0;34m,\u001b[0m \u001b[0mgranularity\u001b[0m\u001b[0;34m\u001b[0m\u001b[0;34m\u001b[0m\u001b[0m\n\u001b[1;32m    149\u001b[0m                 \u001b[0;32mif\u001b[0m \u001b[0mtrace_granularity\u001b[0m \u001b[0;34m<\u001b[0m \u001b[0mgranularity\u001b[0m\u001b[0;34m:\u001b[0m\u001b[0;34m\u001b[0m\u001b[0;34m\u001b[0m\u001b[0m\n\u001b[0;32m--> 150\u001b[0;31m                     \u001b[0;32mreturn\u001b[0m \u001b[0mf\u001b[0m\u001b[0;34m(\u001b[0m\u001b[0;34m*\u001b[0m\u001b[0margs\u001b[0m\u001b[0;34m,\u001b[0m \u001b[0;34m**\u001b[0m\u001b[0mkwargs\u001b[0m\u001b[0;34m)\u001b[0m\u001b[0;34m\u001b[0m\u001b[0;34m\u001b[0m\u001b[0m\n\u001b[0m\u001b[1;32m    151\u001b[0m                 \u001b[0;32mif\u001b[0m \u001b[0;32mnot\u001b[0m \u001b[0mtracer\u001b[0m\u001b[0;34m:\u001b[0m\u001b[0;34m\u001b[0m\u001b[0;34m\u001b[0m\u001b[0m\n\u001b[1;32m    152\u001b[0m                     \u001b[0;32mreturn\u001b[0m \u001b[0mf\u001b[0m\u001b[0;34m(\u001b[0m\u001b[0;34m*\u001b[0m\u001b[0margs\u001b[0m\u001b[0;34m,\u001b[0m \u001b[0;34m**\u001b[0m\u001b[0mkwargs\u001b[0m\u001b[0;34m)\u001b[0m\u001b[0;34m\u001b[0m\u001b[0;34m\u001b[0m\u001b[0m\n",
            "\u001b[0;32m/usr/local/lib/python3.10/dist-packages/tenacity/__init__.py\u001b[0m in \u001b[0;36mwrapped_f\u001b[0;34m(*args, **kw)\u001b[0m\n\u001b[1;32m    334\u001b[0m             \u001b[0mcopy\u001b[0m \u001b[0;34m=\u001b[0m \u001b[0mself\u001b[0m\u001b[0;34m.\u001b[0m\u001b[0mcopy\u001b[0m\u001b[0;34m(\u001b[0m\u001b[0;34m)\u001b[0m\u001b[0;34m\u001b[0m\u001b[0;34m\u001b[0m\u001b[0m\n\u001b[1;32m    335\u001b[0m             \u001b[0mwrapped_f\u001b[0m\u001b[0;34m.\u001b[0m\u001b[0mstatistics\u001b[0m \u001b[0;34m=\u001b[0m \u001b[0mcopy\u001b[0m\u001b[0;34m.\u001b[0m\u001b[0mstatistics\u001b[0m  \u001b[0;31m# type: ignore[attr-defined]\u001b[0m\u001b[0;34m\u001b[0m\u001b[0;34m\u001b[0m\u001b[0m\n\u001b[0;32m--> 336\u001b[0;31m             \u001b[0;32mreturn\u001b[0m \u001b[0mcopy\u001b[0m\u001b[0;34m(\u001b[0m\u001b[0mf\u001b[0m\u001b[0;34m,\u001b[0m \u001b[0;34m*\u001b[0m\u001b[0margs\u001b[0m\u001b[0;34m,\u001b[0m \u001b[0;34m**\u001b[0m\u001b[0mkw\u001b[0m\u001b[0;34m)\u001b[0m\u001b[0;34m\u001b[0m\u001b[0;34m\u001b[0m\u001b[0m\n\u001b[0m\u001b[1;32m    337\u001b[0m \u001b[0;34m\u001b[0m\u001b[0m\n\u001b[1;32m    338\u001b[0m         \u001b[0;32mdef\u001b[0m \u001b[0mretry_with\u001b[0m\u001b[0;34m(\u001b[0m\u001b[0;34m*\u001b[0m\u001b[0margs\u001b[0m\u001b[0;34m:\u001b[0m \u001b[0mt\u001b[0m\u001b[0;34m.\u001b[0m\u001b[0mAny\u001b[0m\u001b[0;34m,\u001b[0m \u001b[0;34m**\u001b[0m\u001b[0mkwargs\u001b[0m\u001b[0;34m:\u001b[0m \u001b[0mt\u001b[0m\u001b[0;34m.\u001b[0m\u001b[0mAny\u001b[0m\u001b[0;34m)\u001b[0m \u001b[0;34m->\u001b[0m \u001b[0mWrappedFn\u001b[0m\u001b[0;34m:\u001b[0m\u001b[0;34m\u001b[0m\u001b[0;34m\u001b[0m\u001b[0m\n",
            "\u001b[0;32m/usr/local/lib/python3.10/dist-packages/tenacity/__init__.py\u001b[0m in \u001b[0;36m__call__\u001b[0;34m(self, fn, *args, **kwargs)\u001b[0m\n\u001b[1;32m    473\u001b[0m         \u001b[0mretry_state\u001b[0m \u001b[0;34m=\u001b[0m \u001b[0mRetryCallState\u001b[0m\u001b[0;34m(\u001b[0m\u001b[0mretry_object\u001b[0m\u001b[0;34m=\u001b[0m\u001b[0mself\u001b[0m\u001b[0;34m,\u001b[0m \u001b[0mfn\u001b[0m\u001b[0;34m=\u001b[0m\u001b[0mfn\u001b[0m\u001b[0;34m,\u001b[0m \u001b[0margs\u001b[0m\u001b[0;34m=\u001b[0m\u001b[0margs\u001b[0m\u001b[0;34m,\u001b[0m \u001b[0mkwargs\u001b[0m\u001b[0;34m=\u001b[0m\u001b[0mkwargs\u001b[0m\u001b[0;34m)\u001b[0m\u001b[0;34m\u001b[0m\u001b[0;34m\u001b[0m\u001b[0m\n\u001b[1;32m    474\u001b[0m         \u001b[0;32mwhile\u001b[0m \u001b[0;32mTrue\u001b[0m\u001b[0;34m:\u001b[0m\u001b[0;34m\u001b[0m\u001b[0;34m\u001b[0m\u001b[0m\n\u001b[0;32m--> 475\u001b[0;31m             \u001b[0mdo\u001b[0m \u001b[0;34m=\u001b[0m \u001b[0mself\u001b[0m\u001b[0;34m.\u001b[0m\u001b[0miter\u001b[0m\u001b[0;34m(\u001b[0m\u001b[0mretry_state\u001b[0m\u001b[0;34m=\u001b[0m\u001b[0mretry_state\u001b[0m\u001b[0;34m)\u001b[0m\u001b[0;34m\u001b[0m\u001b[0;34m\u001b[0m\u001b[0m\n\u001b[0m\u001b[1;32m    476\u001b[0m             \u001b[0;32mif\u001b[0m \u001b[0misinstance\u001b[0m\u001b[0;34m(\u001b[0m\u001b[0mdo\u001b[0m\u001b[0;34m,\u001b[0m \u001b[0mDoAttempt\u001b[0m\u001b[0;34m)\u001b[0m\u001b[0;34m:\u001b[0m\u001b[0;34m\u001b[0m\u001b[0;34m\u001b[0m\u001b[0m\n\u001b[1;32m    477\u001b[0m                 \u001b[0;32mtry\u001b[0m\u001b[0;34m:\u001b[0m\u001b[0;34m\u001b[0m\u001b[0;34m\u001b[0m\u001b[0m\n",
            "\u001b[0;32m/usr/local/lib/python3.10/dist-packages/tenacity/__init__.py\u001b[0m in \u001b[0;36miter\u001b[0;34m(self, retry_state)\u001b[0m\n\u001b[1;32m    374\u001b[0m         \u001b[0mresult\u001b[0m \u001b[0;34m=\u001b[0m \u001b[0;32mNone\u001b[0m\u001b[0;34m\u001b[0m\u001b[0;34m\u001b[0m\u001b[0m\n\u001b[1;32m    375\u001b[0m         \u001b[0;32mfor\u001b[0m \u001b[0maction\u001b[0m \u001b[0;32min\u001b[0m \u001b[0mself\u001b[0m\u001b[0;34m.\u001b[0m\u001b[0miter_state\u001b[0m\u001b[0;34m.\u001b[0m\u001b[0mactions\u001b[0m\u001b[0;34m:\u001b[0m\u001b[0;34m\u001b[0m\u001b[0;34m\u001b[0m\u001b[0m\n\u001b[0;32m--> 376\u001b[0;31m             \u001b[0mresult\u001b[0m \u001b[0;34m=\u001b[0m \u001b[0maction\u001b[0m\u001b[0;34m(\u001b[0m\u001b[0mretry_state\u001b[0m\u001b[0;34m)\u001b[0m\u001b[0;34m\u001b[0m\u001b[0;34m\u001b[0m\u001b[0m\n\u001b[0m\u001b[1;32m    377\u001b[0m         \u001b[0;32mreturn\u001b[0m \u001b[0mresult\u001b[0m\u001b[0;34m\u001b[0m\u001b[0;34m\u001b[0m\u001b[0m\n\u001b[1;32m    378\u001b[0m \u001b[0;34m\u001b[0m\u001b[0m\n",
            "\u001b[0;32m/usr/local/lib/python3.10/dist-packages/tenacity/__init__.py\u001b[0m in \u001b[0;36m<lambda>\u001b[0;34m(rs)\u001b[0m\n\u001b[1;32m    396\u001b[0m     \u001b[0;32mdef\u001b[0m \u001b[0m_post_retry_check_actions\u001b[0m\u001b[0;34m(\u001b[0m\u001b[0mself\u001b[0m\u001b[0;34m,\u001b[0m \u001b[0mretry_state\u001b[0m\u001b[0;34m:\u001b[0m \u001b[0;34m\"RetryCallState\"\u001b[0m\u001b[0;34m)\u001b[0m \u001b[0;34m->\u001b[0m \u001b[0;32mNone\u001b[0m\u001b[0;34m:\u001b[0m\u001b[0;34m\u001b[0m\u001b[0;34m\u001b[0m\u001b[0m\n\u001b[1;32m    397\u001b[0m         \u001b[0;32mif\u001b[0m \u001b[0;32mnot\u001b[0m \u001b[0;34m(\u001b[0m\u001b[0mself\u001b[0m\u001b[0;34m.\u001b[0m\u001b[0miter_state\u001b[0m\u001b[0;34m.\u001b[0m\u001b[0mis_explicit_retry\u001b[0m \u001b[0;32mor\u001b[0m \u001b[0mself\u001b[0m\u001b[0;34m.\u001b[0m\u001b[0miter_state\u001b[0m\u001b[0;34m.\u001b[0m\u001b[0mretry_run_result\u001b[0m\u001b[0;34m)\u001b[0m\u001b[0;34m:\u001b[0m\u001b[0;34m\u001b[0m\u001b[0;34m\u001b[0m\u001b[0m\n\u001b[0;32m--> 398\u001b[0;31m             \u001b[0mself\u001b[0m\u001b[0;34m.\u001b[0m\u001b[0m_add_action_func\u001b[0m\u001b[0;34m(\u001b[0m\u001b[0;32mlambda\u001b[0m \u001b[0mrs\u001b[0m\u001b[0;34m:\u001b[0m \u001b[0mrs\u001b[0m\u001b[0;34m.\u001b[0m\u001b[0moutcome\u001b[0m\u001b[0;34m.\u001b[0m\u001b[0mresult\u001b[0m\u001b[0;34m(\u001b[0m\u001b[0;34m)\u001b[0m\u001b[0;34m)\u001b[0m\u001b[0;34m\u001b[0m\u001b[0;34m\u001b[0m\u001b[0m\n\u001b[0m\u001b[1;32m    399\u001b[0m             \u001b[0;32mreturn\u001b[0m\u001b[0;34m\u001b[0m\u001b[0;34m\u001b[0m\u001b[0m\n\u001b[1;32m    400\u001b[0m \u001b[0;34m\u001b[0m\u001b[0m\n",
            "\u001b[0;32m/usr/lib/python3.10/concurrent/futures/_base.py\u001b[0m in \u001b[0;36mresult\u001b[0;34m(self, timeout)\u001b[0m\n\u001b[1;32m    449\u001b[0m                     \u001b[0;32mraise\u001b[0m \u001b[0mCancelledError\u001b[0m\u001b[0;34m(\u001b[0m\u001b[0;34m)\u001b[0m\u001b[0;34m\u001b[0m\u001b[0;34m\u001b[0m\u001b[0m\n\u001b[1;32m    450\u001b[0m                 \u001b[0;32melif\u001b[0m \u001b[0mself\u001b[0m\u001b[0;34m.\u001b[0m\u001b[0m_state\u001b[0m \u001b[0;34m==\u001b[0m \u001b[0mFINISHED\u001b[0m\u001b[0;34m:\u001b[0m\u001b[0;34m\u001b[0m\u001b[0;34m\u001b[0m\u001b[0m\n\u001b[0;32m--> 451\u001b[0;31m                     \u001b[0;32mreturn\u001b[0m \u001b[0mself\u001b[0m\u001b[0;34m.\u001b[0m\u001b[0m__get_result\u001b[0m\u001b[0;34m(\u001b[0m\u001b[0;34m)\u001b[0m\u001b[0;34m\u001b[0m\u001b[0;34m\u001b[0m\u001b[0m\n\u001b[0m\u001b[1;32m    452\u001b[0m \u001b[0;34m\u001b[0m\u001b[0m\n\u001b[1;32m    453\u001b[0m                 \u001b[0mself\u001b[0m\u001b[0;34m.\u001b[0m\u001b[0m_condition\u001b[0m\u001b[0;34m.\u001b[0m\u001b[0mwait\u001b[0m\u001b[0;34m(\u001b[0m\u001b[0mtimeout\u001b[0m\u001b[0;34m)\u001b[0m\u001b[0;34m\u001b[0m\u001b[0;34m\u001b[0m\u001b[0m\n",
            "\u001b[0;32m/usr/lib/python3.10/concurrent/futures/_base.py\u001b[0m in \u001b[0;36m__get_result\u001b[0;34m(self)\u001b[0m\n\u001b[1;32m    401\u001b[0m         \u001b[0;32mif\u001b[0m \u001b[0mself\u001b[0m\u001b[0;34m.\u001b[0m\u001b[0m_exception\u001b[0m\u001b[0;34m:\u001b[0m\u001b[0;34m\u001b[0m\u001b[0;34m\u001b[0m\u001b[0m\n\u001b[1;32m    402\u001b[0m             \u001b[0;32mtry\u001b[0m\u001b[0;34m:\u001b[0m\u001b[0;34m\u001b[0m\u001b[0;34m\u001b[0m\u001b[0m\n\u001b[0;32m--> 403\u001b[0;31m                 \u001b[0;32mraise\u001b[0m \u001b[0mself\u001b[0m\u001b[0;34m.\u001b[0m\u001b[0m_exception\u001b[0m\u001b[0;34m\u001b[0m\u001b[0;34m\u001b[0m\u001b[0m\n\u001b[0m\u001b[1;32m    404\u001b[0m             \u001b[0;32mfinally\u001b[0m\u001b[0;34m:\u001b[0m\u001b[0;34m\u001b[0m\u001b[0;34m\u001b[0m\u001b[0m\n\u001b[1;32m    405\u001b[0m                 \u001b[0;31m# Break a reference cycle with the exception in self._exception\u001b[0m\u001b[0;34m\u001b[0m\u001b[0;34m\u001b[0m\u001b[0m\n",
            "\u001b[0;32m/usr/local/lib/python3.10/dist-packages/tenacity/__init__.py\u001b[0m in \u001b[0;36m__call__\u001b[0;34m(self, fn, *args, **kwargs)\u001b[0m\n\u001b[1;32m    476\u001b[0m             \u001b[0;32mif\u001b[0m \u001b[0misinstance\u001b[0m\u001b[0;34m(\u001b[0m\u001b[0mdo\u001b[0m\u001b[0;34m,\u001b[0m \u001b[0mDoAttempt\u001b[0m\u001b[0;34m)\u001b[0m\u001b[0;34m:\u001b[0m\u001b[0;34m\u001b[0m\u001b[0;34m\u001b[0m\u001b[0m\n\u001b[1;32m    477\u001b[0m                 \u001b[0;32mtry\u001b[0m\u001b[0;34m:\u001b[0m\u001b[0;34m\u001b[0m\u001b[0;34m\u001b[0m\u001b[0m\n\u001b[0;32m--> 478\u001b[0;31m                     \u001b[0mresult\u001b[0m \u001b[0;34m=\u001b[0m \u001b[0mfn\u001b[0m\u001b[0;34m(\u001b[0m\u001b[0;34m*\u001b[0m\u001b[0margs\u001b[0m\u001b[0;34m,\u001b[0m \u001b[0;34m**\u001b[0m\u001b[0mkwargs\u001b[0m\u001b[0;34m)\u001b[0m\u001b[0;34m\u001b[0m\u001b[0;34m\u001b[0m\u001b[0m\n\u001b[0m\u001b[1;32m    479\u001b[0m                 \u001b[0;32mexcept\u001b[0m \u001b[0mBaseException\u001b[0m\u001b[0;34m:\u001b[0m  \u001b[0;31m# noqa: B902\u001b[0m\u001b[0;34m\u001b[0m\u001b[0;34m\u001b[0m\u001b[0m\n\u001b[1;32m    480\u001b[0m                     \u001b[0mretry_state\u001b[0m\u001b[0;34m.\u001b[0m\u001b[0mset_exception\u001b[0m\u001b[0;34m(\u001b[0m\u001b[0msys\u001b[0m\u001b[0;34m.\u001b[0m\u001b[0mexc_info\u001b[0m\u001b[0;34m(\u001b[0m\u001b[0;34m)\u001b[0m\u001b[0;34m)\u001b[0m  \u001b[0;31m# type: ignore[arg-type]\u001b[0m\u001b[0;34m\u001b[0m\u001b[0;34m\u001b[0m\u001b[0m\n",
            "\u001b[0;32m/usr/local/lib/python3.10/dist-packages/chromadb/api/segment.py\u001b[0m in \u001b[0;36mwrapper\u001b[0;34m(*args, **kwargs)\u001b[0m\n\u001b[1;32m    101\u001b[0m     \u001b[0;32mdef\u001b[0m \u001b[0mwrapper\u001b[0m\u001b[0;34m(\u001b[0m\u001b[0;34m*\u001b[0m\u001b[0margs\u001b[0m\u001b[0;34m:\u001b[0m \u001b[0mAny\u001b[0m\u001b[0;34m,\u001b[0m \u001b[0;34m**\u001b[0m\u001b[0mkwargs\u001b[0m\u001b[0;34m:\u001b[0m \u001b[0mAny\u001b[0m\u001b[0;34m)\u001b[0m \u001b[0;34m->\u001b[0m \u001b[0mAny\u001b[0m\u001b[0;34m:\u001b[0m\u001b[0;34m\u001b[0m\u001b[0;34m\u001b[0m\u001b[0m\n\u001b[1;32m    102\u001b[0m         \u001b[0mself\u001b[0m \u001b[0;34m=\u001b[0m \u001b[0margs\u001b[0m\u001b[0;34m[\u001b[0m\u001b[0;36m0\u001b[0m\u001b[0;34m]\u001b[0m\u001b[0;34m\u001b[0m\u001b[0;34m\u001b[0m\u001b[0m\n\u001b[0;32m--> 103\u001b[0;31m         \u001b[0;32mreturn\u001b[0m \u001b[0mself\u001b[0m\u001b[0;34m.\u001b[0m\u001b[0m_rate_limit_enforcer\u001b[0m\u001b[0;34m.\u001b[0m\u001b[0mrate_limit\u001b[0m\u001b[0;34m(\u001b[0m\u001b[0mfunc\u001b[0m\u001b[0;34m)\u001b[0m\u001b[0;34m(\u001b[0m\u001b[0;34m*\u001b[0m\u001b[0margs\u001b[0m\u001b[0;34m,\u001b[0m \u001b[0;34m**\u001b[0m\u001b[0mkwargs\u001b[0m\u001b[0;34m)\u001b[0m\u001b[0;34m\u001b[0m\u001b[0;34m\u001b[0m\u001b[0m\n\u001b[0m\u001b[1;32m    104\u001b[0m \u001b[0;34m\u001b[0m\u001b[0m\n\u001b[1;32m    105\u001b[0m     \u001b[0;32mreturn\u001b[0m \u001b[0mwrapper\u001b[0m  \u001b[0;31m# type: ignore\u001b[0m\u001b[0;34m\u001b[0m\u001b[0;34m\u001b[0m\u001b[0m\n",
            "\u001b[0;32m/usr/local/lib/python3.10/dist-packages/chromadb/rate_limit/simple_rate_limit/__init__.py\u001b[0m in \u001b[0;36mwrapper\u001b[0;34m(*args, **kwargs)\u001b[0m\n\u001b[1;32m     21\u001b[0m         \u001b[0;34m@\u001b[0m\u001b[0mwraps\u001b[0m\u001b[0;34m(\u001b[0m\u001b[0mfunc\u001b[0m\u001b[0;34m)\u001b[0m\u001b[0;34m\u001b[0m\u001b[0;34m\u001b[0m\u001b[0m\n\u001b[1;32m     22\u001b[0m         \u001b[0;32mdef\u001b[0m \u001b[0mwrapper\u001b[0m\u001b[0;34m(\u001b[0m\u001b[0;34m*\u001b[0m\u001b[0margs\u001b[0m\u001b[0;34m:\u001b[0m \u001b[0mAny\u001b[0m\u001b[0;34m,\u001b[0m \u001b[0;34m**\u001b[0m\u001b[0mkwargs\u001b[0m\u001b[0;34m:\u001b[0m \u001b[0mAny\u001b[0m\u001b[0;34m)\u001b[0m \u001b[0;34m->\u001b[0m \u001b[0mAny\u001b[0m\u001b[0;34m:\u001b[0m\u001b[0;34m\u001b[0m\u001b[0;34m\u001b[0m\u001b[0m\n\u001b[0;32m---> 23\u001b[0;31m             \u001b[0;32mreturn\u001b[0m \u001b[0mfunc\u001b[0m\u001b[0;34m(\u001b[0m\u001b[0;34m*\u001b[0m\u001b[0margs\u001b[0m\u001b[0;34m,\u001b[0m \u001b[0;34m**\u001b[0m\u001b[0mkwargs\u001b[0m\u001b[0;34m)\u001b[0m\u001b[0;34m\u001b[0m\u001b[0;34m\u001b[0m\u001b[0m\n\u001b[0m\u001b[1;32m     24\u001b[0m \u001b[0;34m\u001b[0m\u001b[0m\n\u001b[1;32m     25\u001b[0m         \u001b[0;32mreturn\u001b[0m \u001b[0mwrapper\u001b[0m  \u001b[0;31m# type: ignore\u001b[0m\u001b[0;34m\u001b[0m\u001b[0;34m\u001b[0m\u001b[0m\n",
            "\u001b[0;32m/usr/local/lib/python3.10/dist-packages/chromadb/api/segment.py\u001b[0m in \u001b[0;36m_query\u001b[0;34m(self, collection_id, query_embeddings, n_results, where, where_document, include, tenant, database)\u001b[0m\n\u001b[1;32m    787\u001b[0m         \u001b[0mscan\u001b[0m \u001b[0;34m=\u001b[0m \u001b[0mself\u001b[0m\u001b[0;34m.\u001b[0m\u001b[0m_scan\u001b[0m\u001b[0;34m(\u001b[0m\u001b[0mcollection_id\u001b[0m\u001b[0;34m)\u001b[0m\u001b[0;34m\u001b[0m\u001b[0;34m\u001b[0m\u001b[0m\n\u001b[1;32m    788\u001b[0m         \u001b[0;32mfor\u001b[0m \u001b[0membedding\u001b[0m \u001b[0;32min\u001b[0m \u001b[0mquery_embeddings\u001b[0m\u001b[0;34m:\u001b[0m\u001b[0;34m\u001b[0m\u001b[0;34m\u001b[0m\u001b[0m\n\u001b[0;32m--> 789\u001b[0;31m             \u001b[0mself\u001b[0m\u001b[0;34m.\u001b[0m\u001b[0m_validate_dimension\u001b[0m\u001b[0;34m(\u001b[0m\u001b[0mscan\u001b[0m\u001b[0;34m.\u001b[0m\u001b[0mcollection\u001b[0m\u001b[0;34m,\u001b[0m \u001b[0mlen\u001b[0m\u001b[0;34m(\u001b[0m\u001b[0membedding\u001b[0m\u001b[0;34m)\u001b[0m\u001b[0;34m,\u001b[0m \u001b[0mupdate\u001b[0m\u001b[0;34m=\u001b[0m\u001b[0;32mFalse\u001b[0m\u001b[0;34m)\u001b[0m\u001b[0;34m\u001b[0m\u001b[0;34m\u001b[0m\u001b[0m\n\u001b[0m\u001b[1;32m    790\u001b[0m \u001b[0;34m\u001b[0m\u001b[0m\n\u001b[1;32m    791\u001b[0m         self._quota_enforcer.enforce(\n",
            "\u001b[0;32m/usr/local/lib/python3.10/dist-packages/chromadb/api/segment.py\u001b[0m in \u001b[0;36m_validate_dimension\u001b[0;34m(self, collection, dim, update)\u001b[0m\n\u001b[1;32m    878\u001b[0m                 \u001b[0mcollection\u001b[0m\u001b[0;34m[\u001b[0m\u001b[0;34m\"dimension\"\u001b[0m\u001b[0;34m]\u001b[0m \u001b[0;34m=\u001b[0m \u001b[0mdim\u001b[0m\u001b[0;34m\u001b[0m\u001b[0;34m\u001b[0m\u001b[0m\n\u001b[1;32m    879\u001b[0m         \u001b[0;32melif\u001b[0m \u001b[0mcollection\u001b[0m\u001b[0;34m[\u001b[0m\u001b[0;34m\"dimension\"\u001b[0m\u001b[0;34m]\u001b[0m \u001b[0;34m!=\u001b[0m \u001b[0mdim\u001b[0m\u001b[0;34m:\u001b[0m\u001b[0;34m\u001b[0m\u001b[0;34m\u001b[0m\u001b[0m\n\u001b[0;32m--> 880\u001b[0;31m             raise InvalidDimensionException(\n\u001b[0m\u001b[1;32m    881\u001b[0m                 \u001b[0;34mf\"Embedding dimension {dim} does not match collection dimensionality {collection['dimension']}\"\u001b[0m\u001b[0;34m\u001b[0m\u001b[0;34m\u001b[0m\u001b[0m\n\u001b[1;32m    882\u001b[0m             )\n",
            "\u001b[0;31mInvalidDimensionException\u001b[0m: Embedding dimension 384 does not match collection dimensionality 768"
          ]
        }
      ],
      "source": [
        "results = chroma_collection.query(query_texts=queries, n_results=5)\n"
      ]
    },
    {
      "cell_type": "markdown",
      "metadata": {
        "id": "oQPWy0UadgQX"
      },
      "source": [
        "Now integrate re-ranker, graph search too and later on image search.  "
      ]
    },
    {
      "cell_type": "code",
      "execution_count": null,
      "metadata": {
        "id": "kHlBXNmdXlqh"
      },
      "outputs": [],
      "source": [
        "def rag(query, retrieved_documents, llm):\n",
        "    information = \"\\n\\n\".join(retrieved_documents)\n",
        "\n",
        "    messages = [\n",
        "    ChatMessage(\n",
        "        role=\"system\", content=\"You are a helpful expert financial research assistant. Your users are asking questions about information contained in an annual report. You will be shown the user's question, and the relevant information from the annual report. Answer the user's question using only this information.\"\n",
        "    ),\n",
        "    ChatMessage(role=\"user\", content=f\"Question: {query}. \\n Information: {information}\"),\n",
        "    ]\n",
        "\n",
        "    resp = llm.stream_chat(messages)\n",
        "    return resp\n"
      ]
    },
    {
      "cell_type": "code",
      "execution_count": null,
      "metadata": {
        "colab": {
          "base_uri": "https://localhost:8080/"
        },
        "id": "ftHZwTByYclb",
        "outputId": "ab77697e-0af1-4adb-dad6-401aafaf554e"
      },
      "outputs": [
        {
          "name": "stdout",
          "output_type": "stream",
          "text": [
            "The total revenue was $198,270 million."
          ]
        }
      ],
      "source": [
        "output = rag(query=query, retrieved_documents=retrieved_documents, llm = llm)\n",
        "\n",
        "for r in output:\n",
        "    print(r.delta, end=\"\")"
      ]
    },
    {
      "cell_type": "code",
      "execution_count": null,
      "metadata": {
        "colab": {
          "base_uri": "https://localhost:8080/"
        },
        "id": "QLGcquB-H6zl",
        "outputId": "c73906df-a82c-4dcc-9f04-a79b64cd7621"
      },
      "outputs": [
        {
          "name": "stdout",
          "output_type": "stream",
          "text": [
            "\u001b[?25l   \u001b[90m━━━━━━━━━━━━━━━━━━━━━━━━━━━━━━━━━━━━━━━━\u001b[0m \u001b[32m0.0/88.8 kB\u001b[0m \u001b[31m?\u001b[0m eta \u001b[36m-:--:--\u001b[0m\r\u001b[2K   \u001b[90m━━━━━━━━━━━━━━━━━━━━━━━━━━━━━━━━━━━━━━━━\u001b[0m \u001b[32m88.8/88.8 kB\u001b[0m \u001b[31m3.5 MB/s\u001b[0m eta \u001b[36m0:00:00\u001b[0m\n",
            "\u001b[?25h\u001b[?25l   \u001b[90m━━━━━━━━━━━━━━━━━━━━━━━━━━━━━━━━━━━━━━━━\u001b[0m \u001b[32m0.0/56.9 kB\u001b[0m \u001b[31m?\u001b[0m eta \u001b[36m-:--:--\u001b[0m\r\u001b[2K   \u001b[90m━━━━━━━━━━━━━━━━━━━━━━━━━━━━━━━━━━━━━━━━\u001b[0m \u001b[32m56.9/56.9 kB\u001b[0m \u001b[31m3.9 MB/s\u001b[0m eta \u001b[36m0:00:00\u001b[0m\n",
            "\u001b[?25h"
          ]
        }
      ],
      "source": []
    },
    {
      "cell_type": "code",
      "execution_count": null,
      "metadata": {
        "id": "9NyydtJ0L7hW"
      },
      "outputs": [],
      "source": []
    },
    {
      "cell_type": "code",
      "execution_count": null,
      "metadata": {
        "id": "aaZxDg-cLY1a"
      },
      "outputs": [],
      "source": [
        "#!pip uninstall umap\n"
      ]
    },
    {
      "cell_type": "code",
      "execution_count": null,
      "metadata": {
        "id": "eWhc4pDcHB0t"
      },
      "outputs": [],
      "source": [
        "#import umap\n",
        "import umap.umap_ as umap\n",
        "import numpy as np\n",
        "from tqdm import tqdm"
      ]
    },
    {
      "cell_type": "code",
      "execution_count": null,
      "metadata": {
        "colab": {
          "base_uri": "https://localhost:8080/"
        },
        "id": "m-PCyh8lHeb6",
        "outputId": "0162365b-1603-48e3-e373-a0cab1e273d5"
      },
      "outputs": [
        {
          "name": "stderr",
          "output_type": "stream",
          "text": [
            "/usr/local/lib/python3.10/dist-packages/sklearn/utils/deprecation.py:151: FutureWarning: 'force_all_finite' was renamed to 'ensure_all_finite' in 1.6 and will be removed in 1.8.\n",
            "  warnings.warn(\n",
            "/usr/local/lib/python3.10/dist-packages/umap/umap_.py:1952: UserWarning: n_jobs value 1 overridden to 1 by setting random_state. Use no seed for parallelism.\n",
            "  warn(\n"
          ]
        }
      ],
      "source": [
        "embeddings = chroma_collection.get(include=['embeddings'])['embeddings']\n",
        "umap_tranform = umap.UMAP(random_state=0, transform_seed=0).fit(embeddings)"
      ]
    },
    {
      "cell_type": "markdown",
      "metadata": {
        "id": "9Xwk2aUXMhAa"
      },
      "source": [
        "\n",
        "\n",
        "*   Expansion with generated answers\n",
        "\n"
      ]
    },
    {
      "cell_type": "code",
      "execution_count": null,
      "metadata": {
        "id": "j9yw-ISKMrq7"
      },
      "outputs": [],
      "source": [
        "def augment_query_generated(query, llm):\n",
        "    messages = [\n",
        "    ChatMessage(\n",
        "        role=\"system\", content=\"You are a helpful expert financial research assistant. Provide an example answer to the given question, that might be found in a document like an annual report. \"\n",
        "    ),\n",
        "    ChatMessage(role=\"user\", content=f\"Question: {query}\"),\n",
        "    ]\n",
        "\n",
        "    resp = llm.chat(messages)\n",
        "    return resp"
      ]
    },
    {
      "cell_type": "code",
      "execution_count": null,
      "metadata": {
        "colab": {
          "base_uri": "https://localhost:8080/"
        },
        "id": "bhyxZrDoN8Cx",
        "outputId": "700ee6a5-e5f3-4b44-dca9-855129203b0d"
      },
      "outputs": [
        {
          "name": "stdout",
          "output_type": "stream",
          "text": [
            "Was there significant turnover in the executive team? assistant:\n",
            "Here's an example answer that might be found in an annual report:\n",
            "**Executive Team Changes**  During the fiscal year, our company\n",
            "experienced some changes in its executive leadership team. In January,\n",
            "our Chief Operating Officer (COO), John Smith, announced his\n",
            "retirement after 10 years of service to the company. John played a\n",
            "crucial role in shaping our operational strategy and will be deeply\n",
            "missed. We are grateful for his contributions and wish him all the\n",
            "best in his future endeavors.  In February, we appointed Jane Doe as\n",
            "our new COO. Jane brings over 15 years of experience in the industry\n",
            "and has a proven track record of driving operational excellence and\n",
            "growth. We are excited to have her on board and are confident that she\n",
            "will continue to build on the strong foundation established by her\n",
            "predecessor.  Additionally, in June, our Chief Financial Officer\n",
            "(CFO), Michael Johnson, left the company to pursue another\n",
            "opportunity. We appreciate the significant contributions Michael made\n",
            "during his three-year tenure, including his role in guiding the\n",
            "company through a period of rapid growth.  In July, we welcomed Emily\n",
            "Chen as our new CFO. Emily has an impressive background in finance and\n",
            "accounting, with over a decade of experience in the industry. We are\n",
            "confident that her expertise will be invaluable in helping us achieve\n",
            "our long-term financial goals.  While these changes presented some\n",
            "challenges, we are pleased to report that the transitions were smooth\n",
            "and did not disrupt our operations. Our executive team remains\n",
            "committed to driving growth, innovation, and value creation for our\n",
            "shareholders.\n"
          ]
        }
      ],
      "source": [
        "original_query = \"Was there significant turnover in the executive team?\"\n",
        "hypothetical_answer = augment_query_generated(original_query, llm)\n",
        "\n",
        "joint_query = f\"{original_query} {hypothetical_answer}\"\n",
        "print(textwrap.fill(joint_query))"
      ]
    },
    {
      "cell_type": "code",
      "execution_count": null,
      "metadata": {
        "colab": {
          "base_uri": "https://localhost:8080/"
        },
        "id": "7KwAe1jkObjB",
        "outputId": "e080011c-9b03-41ac-b186-8944689c1d97"
      },
      "outputs": [
        {
          "name": "stdout",
          "output_type": "stream",
          "text": [
            "89 directors and executive officers of microsoft corporation directors\n",
            "satya nadella chairman and chief executive officer, microsoft\n",
            "corporation sandra e. peterson 2, 3 operating partner, clayton,\n",
            "dubilier & rice, llc john w. stanton 1, 4 founder and chairman,\n",
            "trilogy partnerships reid g. hoffman 4 general partner, greylock\n",
            "partners penny s. pritzker 4 founder and chairman, psp partners, llc\n",
            "john w. thompson 3, 4 lead independent director, microsoft corporation\n",
            "hugh f. johnston 1 vice chairman and executive vice president and\n",
            "chief financial officer, pepsico, inc. carlos a. rodriguez 1 chief\n",
            "executive officer, adp, inc. emma n. walmsley 2, 4 chief executive\n",
            "officer, gsk, plc teri l. list 1, 3 former executive vice president\n",
            "and chief financial officer, gap, inc. charles w. scharf 2, 3 chief\n",
            "executive officer and president, wells fargo & company padmasree\n",
            "warrior 2 founder, president and chief executive\n",
            "\n",
            "officer, fable group inc. board committees 1. audit committee 2.\n",
            "compensation committee 3. governance and nominating committee 4.\n",
            "environmental, social, and public policy committee executive officers\n",
            "satya nadella chairman and chief executive officer amy e. hood\n",
            "executive vice president and chief financial officer judson althoff\n",
            "executive vice president and chief commercial officer bradford l.\n",
            "smith vice chair and president christopher c. capossela executive vice\n",
            "president, marketing and consumer business, and chief marketing\n",
            "officer christopher d. young executive vice president, business\n",
            "development, strategy, and ventures kathleen t. hogan executive vice\n",
            "president and chief human resources officer\n",
            "\n",
            "30 management ’ s discussion and analysis of financial condition and\n",
            "results of operations the following management ’ s discussion and\n",
            "analysis of financial condition and results of operations ( “ md & a ”\n",
            ") is intended to help the reader understand the results of operations\n",
            "and financial condition of microsoft corporation. md & a is provided\n",
            "as a supplement to, and should be read in conjunction with, our\n",
            "consolidated financial statements and the accompanying notes to\n",
            "financial statements in our fiscal year 2022 form 10 - k. this section\n",
            "generally discusses the results of our operations for the year ended\n",
            "june 30, 2022 compared to the year ended june 30, 2021. for a\n",
            "discussion of the year ended june 30, 2021 compared to the year ended\n",
            "june 30, 2020, please refer to in our fiscal year 2022 form 10 - k, “\n",
            "management ’ s discussion and analysis of financial condition and\n",
            "results of operations ” in our annual report on form 10 - k for the\n",
            "year ended june 30, 2021. overview\n",
            "\n",
            "88 report of independent registered public accounting firm to the\n",
            "stockholders and the board of directors of microsoft corporation\n",
            "opinion on internal control over financial reporting we have audited\n",
            "the internal control over financial reporting of microsoft corporation\n",
            "and subsidiaries ( the “ company ” ) as of june 30, 2022, based on\n",
            "criteria established in internal control — integrated framework ( 2013\n",
            ") issued by the committee of sponsoring organizations of the treadway\n",
            "commission ( coso ). in our opinion, the company maintained, in all\n",
            "material respects, effective internal control over financial reporting\n",
            "as of june 30, 2022, based on criteria establis hed in internal\n",
            "control — integrated framework ( 2013 ) issued by coso. we have also\n",
            "audited, in accordance with the standards of the public company\n",
            "accounting oversight board ( united states ) ( pcaob ), the\n",
            "consolidated financial statements as of and for the year ended june\n",
            "30, 2022, of the company and\n",
            "\n",
            "84 report of independent registered public accounting firm to the\n",
            "stockholders and the board of directors of microsoft corporation\n",
            "opinion on the financial statements we have audited the accompanying\n",
            "consolidated balance sheets of microsoft corporation and subsidiaries\n",
            "( the “ company ” ) as of june 30, 2022 and 2021, the related\n",
            "consolidated statements of income, comprehensive income, cash flows,\n",
            "and stockholders ’ equity, for each of the three years in the period\n",
            "ended june 30, 2022, and the related notes ( collectively referred to\n",
            "as the “ financial statements ” ). in our opinion, the financial\n",
            "statements present fairly, in all mat erial respects, the financial\n",
            "position of the company as of june 30, 2022 and 2021, and the results\n",
            "of its operations and its cash flows for each of the three years in\n",
            "the period ended june 30, 2022, in conformity with accounting\n",
            "principles generally accepted in the united states of america.\n",
            "\n"
          ]
        }
      ],
      "source": [
        "results = chroma_collection.query(query_texts=joint_query, n_results=5, include=['documents', 'embeddings'])\n",
        "retrieved_documents = results['documents'][0]\n",
        "\n",
        "for doc in retrieved_documents:\n",
        "    print(textwrap.fill(doc))\n",
        "    print('')"
      ]
    },
    {
      "cell_type": "markdown",
      "metadata": {
        "id": "-Sc80P7LMYlL"
      },
      "source": [
        "\n",
        "*   Expansion with multiple queries\n",
        "\n",
        "\n"
      ]
    },
    {
      "cell_type": "code",
      "execution_count": null,
      "metadata": {
        "id": "rZh8L4neLEOR"
      },
      "outputs": [],
      "source": [
        "def augment_multiple_query(query, llm):\n",
        "\n",
        "    messages = [\n",
        "    ChatMessage(\n",
        "        role=\"system\", content=\"You are a helpful expert financial research assistant. Your users are asking questions about an annual report. \"\n",
        "            \"Suggest up to five additional related questions to help them find the information they need, for the provided question. \"\n",
        "            \"Suggest only short questions without compound sentences. Suggest a variety of questions that cover different aspects of the topic.\"\n",
        "            \"Make sure they are complete questions, and that they are related to the original question.\"\n",
        "            \"Output one question per line. Do not number the questions.\"\n",
        "    ),\n",
        "    ChatMessage(role=\"user\", content=query ),\n",
        "    ]\n",
        "    resp = llm.chat(messages)\n",
        "    return resp"
      ]
    },
    {
      "cell_type": "code",
      "execution_count": null,
      "metadata": {
        "colab": {
          "base_uri": "https://localhost:8080/"
        },
        "id": "CRz5aqB6PTUi",
        "outputId": "6becda96-32f4-455d-808f-36899a7c1c0e"
      },
      "outputs": [
        {
          "name": "stdout",
          "output_type": "stream",
          "text": [
            "assistant: What was the total revenue for the year?\n",
            "Were there any new product or service launches?\n",
            "Did the company experience any changes in pricing?\n",
            "Were there any significant acquisitions or divestitures?\n",
            "Did the company expand into new markets or geographies?\n"
          ]
        }
      ],
      "source": [
        "original_query = \"What were the most important factors that contributed to increases in revenue?\"\n",
        "aug_queries = augment_multiple_query(original_query, llm)\n",
        "print(aug_queries)\n",
        "\n"
      ]
    },
    {
      "cell_type": "code",
      "execution_count": null,
      "metadata": {
        "colab": {
          "base_uri": "https://localhost:8080/"
        },
        "id": "yNSwDKkGRDub",
        "outputId": "003c5493-7670-4c80-b67b-5825a73ace6b"
      },
      "outputs": [
        {
          "name": "stdout",
          "output_type": "stream",
          "text": [
            "Query: What were the most important factors that contributed to increases in revenue?\n",
            "\n",
            "Results:\n",
            "engineering, gaming, and linkedin. • sales and marketing expenses\n",
            "increased $ 1. 7 billion or 8 % driven by investments in commercial\n",
            "sales and linkedin. sales and marketing included a favorable foreign\n",
            "currency impact of 2 %. • general and administrative expenses\n",
            "increased $ 793 million or 16 % driven by investments in corporate\n",
            "functions. operating income increased $ 13. 5 billion or 19 % driven\n",
            "by growth across each of our segments. current year net income and\n",
            "diluted eps were positively impacted by the net tax benefit related to\n",
            "the transfer of intangible properties, which resulted in an increase\n",
            "to net income and diluted eps of $ 3. 3 billion and $ 0. 44,\n",
            "respectively. prior year net income and diluted eps were positively\n",
            "impacted by the net tax benefit related to the india supreme court\n",
            "decision on withholding taxes, which resulted in an increase to net\n",
            "income and diluted eps of $ 620 million and $ 0. 08, respectively.\n",
            "\n",
            "independent recalculation of prices where appropriate. cash flows cash\n",
            "from operations increased $ 12. 3 billion to $ 89. 0 billion for\n",
            "fiscal year 2022, mainly due to an increase in cash received from\n",
            "customers, offset in part by an increase in cash paid to suppliers and\n",
            "employees. cash used in financing increased $ 10. 4 billion to $ 58. 9\n",
            "billion for fiscal year 2022, mainly due to a $ 5. 3 billion increase\n",
            "in common stock repurchases and a $ 5. 3 billion increase in\n",
            "repayments of debt. cash used in investing increased $ 2. 7 billion to\n",
            "$ 30. 3 billion for fiscal year 2022, mainly due to a $ 13. 1 billion\n",
            "increase in cash used for acquisitions of companies, net of cash\n",
            "acquired, and purchases of intangible and other assets, and a $ 3. 3\n",
            "billion increase in additions to property and equipment, offset in\n",
            "part by a $ 15. 6 billion increase in cash from net investment\n",
            "purchases, sales, and maturities.\n",
            "\n",
            "37 general and administrative expenses include payroll, employee\n",
            "benefits, stock - based compensation expense, and other headcount -\n",
            "related expenses associated with finance, legal, facilities, certain\n",
            "human resources and other administrative personnel, certain taxes, and\n",
            "legal and other administrative fees. general and administrative\n",
            "expenses increased $ 793 million or 16 % driven by investments in\n",
            "corporate functions. other income ( expense ), net the components of\n",
            "other income ( expense ), net were as follows : ( in millions ) year\n",
            "ended june 30, 2022 2021 interest and dividends income $ 2, 094 $ 2,\n",
            "131 interest expense ( 2, 063 ) ( 2, 346 ) net recognized gains on\n",
            "investments 461 1, 232 net gains ( losses ) on derivatives ( 52 ) 17\n",
            "net gains ( losses ) on foreign currency remeasurements ( 75 ) 54\n",
            "other, net ( 32 ) 98 total $ 333 $ 1, 186\n",
            "\n",
            "• windows revenue increased $ 2. 3 billion or 10 % driven by growth in\n",
            "windows oem and windows commercial. windows oem revenue increased 11 %\n",
            "driven by continued strength in the commercial pc market, which has\n",
            "higher revenue per license. windows commercial products and cloud\n",
            "services revenue increased 11 % driven by demand for microsoft 365.\n",
            "\n",
            "34 net income tax benefit related to an india supreme court decision\n",
            "on withholding taxes in the third quarter of fiscal year 2021. refer\n",
            "to the non - gaap financial measures section below for a\n",
            "reconciliation of our financial results reported in accordance with\n",
            "gaap to non - gaap financial results. see note 12 – income taxes of\n",
            "the notes to financial statements in our fiscal year 2022 form 10 - k\n",
            "for further discussion. fiscal year 2022 compared with fiscal year\n",
            "2021 revenue increased $ 30. 2 billion or 18 % driven by growth across\n",
            "each of our segments. intelligent cloud revenue increased driven by\n",
            "azure and other cloud services. productivity and business processes\n",
            "revenue increased driven by office 365 commercial and linkedin. more\n",
            "personal computing revenue increased driven by search and news\n",
            "advertising and windows. cost of revenue increased $ 10. 4 billion or\n",
            "20 % driven by growth in microsoft cloud.\n",
            "\n",
            "----------------------------------------------------------------------------------------------------\n",
            "Query: What was the total revenue for the year?\n",
            "\n",
            "Results:\n",
            "74 note 13 — unearned revenue unearned revenue by segment was as\n",
            "follows : ( in millions ) june 30, 2022 2021 productivity and business\n",
            "processes $ 24, 558 $ 22, 120 intelligent cloud 19, 371 17, 710 more\n",
            "personal computing 4, 479 4, 311 total $ 48, 408 $ 44, 141 changes in\n",
            "unearned revenue were as follows : ( in millions ) year ended june 30,\n",
            "2022 balance, beginning of period $ 44, 141 deferral of revenue 110,\n",
            "455 recognition of unearned revenue ( 106, 188 ) balance, end of\n",
            "period $ 48, 408 revenue allocated to remaining performance\n",
            "obligations, which includes unearned revenue and amounts that will be\n",
            "invoiced and recognized as revenue in future periods, was $ 193\n",
            "billion as of june 30, 2022, of which $ 189 billion is related to the\n",
            "commercial portion of revenue. we expect to recognize approximately 45\n",
            "% of this revenue over the next 12 months and the remainder\n",
            "thereafter. note 14 — leases\n",
            "\n",
            "that are not sold separately. • we tested the mathematical accuracy of\n",
            "management ’ s calculations of revenue and the associated timing of\n",
            "revenue recognized in the financial statements.\n",
            "\n",
            "intelligent cloud 32, 721 26, 126 18, 324 more personal computing 20,\n",
            "975 19, 439 15, 911 total $ 83, 383 $ 69, 916 $ 52, 959 no sales to an\n",
            "individual customer or country other than the united states accounted\n",
            "for more than 10 % of revenue for fiscal years 2022, 2021, or 2020.\n",
            "revenue, classified by the major geographic areas in which our\n",
            "customers were located, was as follows : ( in millions ) year ended\n",
            "june 30, 2022 2021 2020 united states ( a ) $ 100, 218 $ 83, 953 $ 73,\n",
            "160 other countries 98, 052 84, 135 69, 855 total $ 198, 270 $ 168,\n",
            "088 $ 143, 015 ( a ) includes billings to oems and certain\n",
            "multinational organizations because of the nature of these businesses\n",
            "and the impracticability of determining the geographic source of the\n",
            "revenue. revenue, classified by significant product and service\n",
            "offerings, was as follows : ( in millions ) year ended june 30, 2022\n",
            "2021 2020\n",
            "\n",
            "47 financial statements and supplementary data income statements ( in\n",
            "millions, except per share amounts ) year ended june 30, 2022 2021\n",
            "2020 revenue : product $ 72, 732 $ 71, 074 $ 68, 041 service and other\n",
            "125, 538 97, 014 74, 974 total revenue 198, 270 168, 088 143, 015 cost\n",
            "of revenue : product 19, 064 18, 219 16, 017 service and other 43, 586\n",
            "34, 013 30, 061 total cost of revenue 62, 650 52, 232 46, 078 gross\n",
            "margin 135, 620 115, 856 96, 937 research and development 24, 512 20,\n",
            "716 19, 269 sales and marketing 21, 825 20, 117 19, 598 general and\n",
            "administrative 5, 900 5, 107 5, 111 operating income 83, 383 69, 916\n",
            "52, 959 other income, net 333 1, 186 77 income before income taxes 83,\n",
            "716 71, 102 53, 036 provision for income taxes 10, 978 9, 831 8, 755\n",
            "net income $ 72, 738 $ 61, 271 $ 44, 281\n",
            "\n",
            "82 in addition, certain costs incurred at a corporate level that are\n",
            "identifiable and that benefit our segments are allocated to them.\n",
            "these allocated costs include legal, including settlements and fines,\n",
            "information technology, human resources, finance, excise taxes, field\n",
            "selling, shared facilities services, and customer service and support.\n",
            "each allocation is measured differently based on the specific facts\n",
            "and circumstances of the costs being allocated. segment revenue and\n",
            "operating income were as follows during the periods presented : ( in\n",
            "millions ) year ended june 30, 2022 2021 2020 revenue productivity and\n",
            "business processes $ 63, 364 $ 53, 915 $ 46, 398 intelligent cloud 75,\n",
            "251 60, 080 48, 366 more personal computing 59, 655 54, 093 48, 251\n",
            "total $ 198, 270 $ 168, 088 $ 143, 015 operating income productivity\n",
            "and business processes $ 29, 687 $ 24, 351 $ 18, 724\n",
            "\n",
            "----------------------------------------------------------------------------------------------------\n",
            "Query: Were there any new product or service launches?\n",
            "\n",
            "Results:\n",
            "31 industry trends our industry is dynamic and highly competitive,\n",
            "with frequent changes in both technologies and business models. each\n",
            "industry shift is an opportunity to conceive new products, new\n",
            "technologies, or new ideas that can further transform the industry and\n",
            "our business. at microsoft, we push the boundaries of what is possible\n",
            "through a broad range of research and development activities that seek\n",
            "to identify and address the changing demands of customers and users,\n",
            "industry trends, and competitive forces. economic conditions,\n",
            "challenges, and risks the markets for software, devices, and cloud -\n",
            "based services are dynamic and highly competitive. our competitors are\n",
            "developing new software and devices, while also deploying competing\n",
            "cloud - based services for consumers and businesses. the devices and\n",
            "form factors customers prefer evolve rapidly, and influence how users\n",
            "access services in\n",
            "\n",
            "our success is based on our ability to create new and compelling\n",
            "products, services, and experiences for our users, to initiate and\n",
            "embrace disruptive technology trends, to enter new geographic and\n",
            "product markets, and to drive broad adoption of our products and\n",
            "services. we invest in a range of emerging technology trends and\n",
            "breakthroughs that we believe offer significant opportunities to\n",
            "deliver value to our customers and growth for the company. based on\n",
            "our assessment of key technology trends, we maintain our long - term\n",
            "commitment to research and development across a wide spectrum of\n",
            "technologies, tools, and platforms spanning digital work and life\n",
            "experiences, cloud computing, ai, devices, and operating systems.\n",
            "while our main product research and development facilities are located\n",
            "in redmond, washington, we also operate research and development\n",
            "facilities in other parts of the u. s. and around the world. this\n",
            "global approach helps us remain\n",
            "\n",
            "6 modern life the pc has never been more relevant to work, life, and\n",
            "play. this year, we launched windows 11, the biggest update to our\n",
            "operating system in a decade. it reimagines everything from the user\n",
            "experience to the store to help people and organizations be more\n",
            "productive, connected, and secure, and to build a more open ecosystem\n",
            "for developers and creators. there are now more than 1. 4 billion\n",
            "monthly active devices running windows 10 or windows 11. we launched\n",
            "new surface devices to support every person and work style. and we\n",
            "have nearly 60 million microsoft 365 consumer subscriptions as we help\n",
            "people create, connect, and share wherever they go. security\n",
            "cybersecurity is the number one threat facing every business today. to\n",
            "keep our customers secure, we build security by design into every\n",
            "product we sell, and we deliver end - to - end solutions spanning\n",
            "security, compliance, identity, device\n",
            "\n",
            "12 we offer an array of services, including cloud - based solutions\n",
            "that provide customers with software, services, platforms, and\n",
            "content, and we provide solution support and consulting services. we\n",
            "also deliver relevant online advertising to a global audience. our\n",
            "products include operating systems, cross - device productivity and\n",
            "collaboration applications, server applications, business solution\n",
            "applications, desktop and server management tools, software\n",
            "development tools, and video games. we also design and sell devices,\n",
            "including pcs, tablets, gaming and entertainment consoles, other\n",
            "intelligent devices, and related accessories. the ambitions that drive\n",
            "us to achieve our vision, our research and development efforts focus\n",
            "on three interconnected ambitions : • reinvent productivity and\n",
            "business processes. • build the intelligent cloud and intelligent edge\n",
            "platform. • create more personal computing. reinvent productivity and\n",
            "business processes\n",
            "\n",
            "achieve more. we strive to create local opportunity, growth, and\n",
            "impact in every country around the world. our platforms and tools help\n",
            "drive small business productivity, large business competitiveness, and\n",
            "public - sector efficiency. we are creating the tools and platforms\n",
            "that deliver better, faster, and more effective solutions to support\n",
            "new startups, improve educational and health outcomes, and empower\n",
            "human ingenuity. microsoft is innovating and expanding our entire\n",
            "portfolio to help people and organizations overcome today ’ s\n",
            "challenges and emerge stronger. we bring technology and products\n",
            "together into experiences and solutions that unlock value for our\n",
            "customers. in a dynamic environment, digital technology is the key\n",
            "input that powers the world ’ s economic output. our ecosystem of\n",
            "customers and partners have learned that while hybrid work is complex,\n",
            "embracing flexibility, different work styles, and a\n",
            "\n",
            "----------------------------------------------------------------------------------------------------\n",
            "Query: Did the company experience any changes in pricing?\n",
            "\n",
            "Results:\n",
            "percentage change sales and marketing $ 21, 825 $ 20, 117 8 % as a\n",
            "percent of revenue 11 % 12 % ( 1 ) ppt sales and marketing expenses\n",
            "include payroll, employee benefits, stock - based compensation\n",
            "expense, and other headcount - related expenses associated with sales\n",
            "and marketing personnel, and the costs of advertising, promotions,\n",
            "trade shows, seminars, and other programs. sales and marketing\n",
            "expenses increased $ 1. 7 billion or 8 % driven by investments in\n",
            "commercial sales and linkedin. sales and marketing included a\n",
            "favorable foreign currency impact of 2 %. general and administrative (\n",
            "in millions, except percentages ) 2022 2021 percentage change general\n",
            "and administrative $ 5, 900 $ 5, 107 16 % as a percent of revenue 3 %\n",
            "3 % 0ppt\n",
            "\n",
            "financial results of nuance have been included in our consolidated\n",
            "financial statements since the date of the acquisition. nuance is\n",
            "reported as part of our intelligent cloud segment. the purchase price\n",
            "allocation as of the date of acquisition was based on a preliminary\n",
            "valuation and is subject to revision as more detailed analyses are\n",
            "completed and additional information about the fair value of assets\n",
            "acquired and liabilities assumed becomes available.\n",
            "\n",
            "• operating expenses increased $ 1. 5 billion or 14 % driven by\n",
            "investments in gaming, search and news advertising, and windows\n",
            "marketing. operating expenses research and development ( in millions,\n",
            "except percentages ) 2022 2021 percentage change research and\n",
            "development $ 24, 512 $ 20, 716 18 % as a percent of revenue 12 % 12 %\n",
            "0ppt research and development expenses include payroll, employee\n",
            "benefits, stock - based compensation expense, and other headcount -\n",
            "related expenses associated with product development. research and\n",
            "development expenses also include third - party development and\n",
            "programming costs, localization costs incurred to translate software\n",
            "for international markets, and the amortization of purchased software\n",
            "code and services content. research and development expenses increased\n",
            "$ 3. 8 billion or 18 % driven by investments in cloud engineering,\n",
            "gaming, and linkedin. sales and marketing ( in millions, except\n",
            "percentages ) 2022 2021\n",
            "\n",
            "that are not sold separately. • we tested the mathematical accuracy of\n",
            "management ’ s calculations of revenue and the associated timing of\n",
            "revenue recognized in the financial statements.\n",
            "\n",
            "highlights from fiscal year 2022 compared with fiscal year 2021\n",
            "included : • microsoft cloud ( formerly commercial cloud ) revenue\n",
            "increased 32 % to $ 91. 2 billion. • office commercial products and\n",
            "cloud services revenue increased 13 % driven by office 365 commercial\n",
            "growth of 18 %. • office consumer products and cloud services revenue\n",
            "increased 11 % and microsoft 365 consumer subscribers grew to 59. 7\n",
            "million. • linkedin revenue increased 34 %. • dynamics products and\n",
            "cloud services revenue increased 25 % driven by dynamics 365 growth of\n",
            "39 %. • server products and cloud services revenue increased 28 %\n",
            "driven by azure and other cloud services growth of 45 %. • windows\n",
            "original equipment manufacturer licensing ( “ windows oem ” ) revenue\n",
            "increased 11 %. • windows commercial products and cloud services\n",
            "revenue increased 11 %. • xbox content and services revenue increased\n",
            "3 %. • search and news advertising revenue excluding traffic\n",
            "acquisition costs increased 27 %.\n",
            "\n",
            "----------------------------------------------------------------------------------------------------\n",
            "Query: Were there any significant acquisitions or divestitures?\n",
            "\n",
            "Results:\n",
            "financial results of nuance have been included in our consolidated\n",
            "financial statements since the date of the acquisition. nuance is\n",
            "reported as part of our intelligent cloud segment. the purchase price\n",
            "allocation as of the date of acquisition was based on a preliminary\n",
            "valuation and is subject to revision as more detailed analyses are\n",
            "completed and additional information about the fair value of assets\n",
            "acquired and liabilities assumed becomes available.\n",
            "\n",
            "vigorously, adverse outcomes that we estimate could reach\n",
            "approximately $ 600 million in aggregate beyond recorded amounts are\n",
            "reasonably possible. were unfavorable final outcomes to occur, there\n",
            "exists the possibility of a material adverse impact in our\n",
            "consolidated financial statements for the period in which the effects\n",
            "become reasonably estimable.\n",
            "\n",
            "growth in our cloud offerings. we have operating and finance leases\n",
            "for datacenters, corporate offices, research and development\n",
            "facilities, microsoft experience centers, and certain equipment. we\n",
            "have not engaged in any related party transactions or arrangements\n",
            "with unconsolidated entities or other persons that are reasonably\n",
            "likely to materially affect liquidity or the availability of capital\n",
            "resources.\n",
            "\n",
            "66 gains ( losses ), net of tax, on derivative instruments recognized\n",
            "in our consolidated comprehensive income statements were as follows :\n",
            "( in millions ) year ended june 30, 2022 2021 2020 designated as cash\n",
            "flow hedging instruments foreign exchange contracts included in\n",
            "effectiveness assessment $ ( 57 ) $ 34 $ ( 38 ) note 6 — inventories\n",
            "the components of inventories were as follows : ( in millions ) june\n",
            "30, 2022 2021 raw materials $ 1, 144 $ 1, 190 work in process 82 79\n",
            "finished goods 2, 516 1, 367 total $ 3, 742 $ 2, 636 note 7 — property\n",
            "and equipment the components of property and equipment were as follows\n",
            ": ( in millions ) june 30, 2022 2021 land $ 4, 734 $ 3, 660 buildings\n",
            "and improvements 55, 014 43, 928 leasehold improvements 7, 819 6, 884\n",
            "computer equipment and software 60, 631 51, 250\n",
            "\n",
            "net cash from operations 89, 035 76, 740 60, 675 financing cash\n",
            "premium on debt exchange 0 ( 1, 754 ) ( 3, 417 ) repayments of debt (\n",
            "9, 023 ) ( 3, 750 ) ( 5, 518 ) common stock issued 1, 841 1, 693 1,\n",
            "343 common stock repurchased ( 32, 696 ) ( 27, 385 ) ( 22, 968 )\n",
            "common stock cash dividends paid ( 18, 135 ) ( 16, 521 ) ( 15, 137 )\n",
            "other, net ( 863 ) ( 769 ) ( 334 ) net cash used in financing ( 58,\n",
            "876 ) ( 48, 486 ) ( 46, 031 ) investing additions to property and\n",
            "equipment ( 23, 886 ) ( 20, 622 ) ( 15, 441 ) acquisition of\n",
            "companies, net of cash acquired, and purchases of intangible and other\n",
            "assets ( 22, 038 ) ( 8, 909 ) ( 2, 521 ) purchases of investments (\n",
            "26, 456 ) ( 62, 924 ) ( 77, 190 ) maturities of investments 16, 451\n",
            "51, 792 66, 449 sales of investments 28, 443 14, 008 17, 72\n",
            "\n",
            "----------------------------------------------------------------------------------------------------\n",
            "Query: Did the company expand into new markets or geographies?\n",
            "\n",
            "Results:\n",
            "company and with countries over 10 % of the total shown separately,\n",
            "were as follows : ( in millions ) june 30, 2022 2021 2020 united\n",
            "states $ 106, 430 $ 76, 153 $ 60, 789 ireland 15, 505 13, 303 12, 734\n",
            "other countries 44, 433 38, 858 29, 770 total $ 166, 368 $ 128, 314 $\n",
            "103, 293\n",
            "\n",
            "markets, we localize many of our products to reflect local languages\n",
            "and conventions. localizing a product may require modifying the user\n",
            "interface, altering dialog boxes, and translating text. our devices\n",
            "are primarily manufactured by third - party contract manufacturers.\n",
            "for the majority of our products, we have the ability to use other\n",
            "manufacturers if a current vendor becomes unavailable or unable to\n",
            "meet our requirements. however, some of our products contain certain\n",
            "components for which there are very few qualified suppliers. for these\n",
            "components, we have limited near - term flexibility to use other\n",
            "manufacturers if a current vendor becomes unavailable or is unable to\n",
            "meet our requirements. extended disruptions at these suppliers and /\n",
            "or manufacturers could lead to a similar disruption in our ability to\n",
            "manufacture devices on time to meet consumer demand. research and\n",
            "development product and service development, and intellectual property\n",
            "\n",
            "36 • search and news advertising revenue increased $ 2. 3 billion or\n",
            "25 %. search and news advertising revenue excluding traffic\n",
            "acquisition costs increased 27 % driven by higher revenue per search\n",
            "and search volume. • gaming revenue increased $ 860 million or 6 % on\n",
            "a strong prior year comparable that benefited from xbox series x | s\n",
            "launches and stay - at - home scenarios, driven by growth in xbox\n",
            "hardware and xbox content and services. xbox hardware revenue\n",
            "increased 16 % due to continued demand for xbox series x | s. xbox\n",
            "content and services revenue increased 3 % driven by growth in xbox\n",
            "game pass subscriptions and first - party content, offset in part by a\n",
            "decline in third - party content. • surface revenue increased $ 226\n",
            "million or 3 %. operating income increased $ 1. 5 billion or 8 %. •\n",
            "gross margin increased $ 3. 1 billion or 10 % driven by growth in\n",
            "windows and search and news advertising. gross margin percentage was\n",
            "relatively unchanged.\n",
            "\n",
            "personnel that solicit orders from distributors and resellers and\n",
            "provide product training and sales support. our dynamics business\n",
            "solutions are also licensed to enterprises through a global network of\n",
            "channel partners providing vertical solutions and specialized\n",
            "services.\n",
            "\n",
            "• evolving our ecosystem : using our balance sheet and relationships\n",
            "with suppliers and partners to foster societal change and create new\n",
            "opportunities.\n",
            "\n",
            "----------------------------------------------------------------------------------------------------\n"
          ]
        }
      ],
      "source": [
        "augmented_queries = aug_queries.message.blocks[0].text.split(\"\\n\")\n",
        "queries = [original_query] + augmented_queries\n",
        "results = chroma_collection.query(query_texts=queries, n_results=5, include=['documents', 'embeddings'])\n",
        "\n",
        "retrieved_documents = results['documents']\n",
        "\n",
        "# Deduplicate the retrieved documents\n",
        "unique_documents = set()\n",
        "for documents in retrieved_documents:\n",
        "    for document in documents:\n",
        "        unique_documents.add(document)\n",
        "\n",
        "for i, documents in enumerate(retrieved_documents):\n",
        "    print(f\"Query: {queries[i]}\")\n",
        "    print('')\n",
        "    print(\"Results:\")\n",
        "    for doc in documents:\n",
        "        print(textwrap.fill(doc))\n",
        "        print('')\n",
        "    print('-'*100)"
      ]
    },
    {
      "cell_type": "code",
      "execution_count": null,
      "metadata": {
        "id": "K8-V4eEiSyK9"
      },
      "outputs": [],
      "source": [
        "original_query_embedding = embedding_function([original_query])\n",
        "augmented_query_embeddings = embedding_function(augmented_queries)"
      ]
    },
    {
      "cell_type": "markdown",
      "metadata": {
        "id": "57s8RorLTUNh"
      },
      "source": [
        "# **6. Re-ranking**"
      ]
    },
    {
      "cell_type": "code",
      "execution_count": null,
      "metadata": {
        "colab": {
          "base_uri": "https://localhost:8080/",
          "height": 177,
          "referenced_widgets": [
            "9030f1792ded4cb3b13072dc6c53cc98",
            "cb1effcf7ede4222ab1f891c3d6f841f",
            "058d2fc1911143e79e5102fbc939f6b6",
            "c801ee5f0a104359861c55bf85ae1e59",
            "512c12cc61ea41698d1ef9a52c892a3c",
            "95f23da2cf244e54a9b44e64fe316a9b",
            "8e61da76766340f1b1b91b932b14a56b",
            "800bf1affd87406a8adfc8f5c9a9756c",
            "c2efab9df1354d6b96029a7f21d6f106",
            "1fc0a49aa8b54ebc8b04cee4df62766f",
            "9a8a7a532663484cb27f96a0a6594d41",
            "2335d48f2281439795f72087aacb9eb7",
            "2fff5d6eab29402bac658c0e40034354",
            "24a60b95a38c4783beb08833ded63924",
            "a65feb53ebe7442185d812f1cf92cbc9",
            "fb1753db71804fddbb43ea944cf92ee5",
            "92a05db2a2fd4515abcc52d2dda5d76c",
            "b60c94cb64f447508de5098df1ff5e28",
            "8addc572c59f454a9311b87de1a912c3",
            "b5e07a0ddd26408db63400408f8c4821",
            "2a1ecf9bb5f94b89951b1e5cc515ac3f",
            "479dcaecc7a0453a9093f689f0e5fb62",
            "51d915139c4f4bf28726a96b951cf246",
            "8ba8d6c71e5a46069934becf1c81f225",
            "1e4da894885c47668a4b6834b7b9b262",
            "32459beaa3a94af29d403059a6b34111",
            "c216b7146a5348ccb432ce1467f997a6",
            "2dcca4e47df4427f8e57450734dcbf7b",
            "262b1755d2224351b87250359abd7ec3",
            "1761a1e00e564e79bfefc9e8dbd3723b",
            "31e649d997114f82bb65bae8765c6cb5",
            "af52b0265dea4972a252a9bf5ab22e3a",
            "61aff36ec1894bb78f0bfa3d40507e9f",
            "ba52de7f8c154c60a424adec50a3ece6",
            "4ff4dddf754e430b8101df6376966c39",
            "c1275717dfd347869081cacd5abe24a1",
            "ed4ba3c136794c2bb8b2c734f86a62e2",
            "0dfbd366e7bc4e43b92dbd0767e9d8e8",
            "663c3bb8adb1446183619cd4409d5bb2",
            "7c58072f641841558ce98b70239411dd",
            "336d229cecea41848fee7e715bc4f17a",
            "0802a0f73e0c4d519a72ab61551381b6",
            "1dee187e8bce43c9bfd16198a1fd8c16",
            "5c33c81057e7423caca7f8f672aa3225",
            "579eef871ee74a79bf354872f3cc69ad",
            "1aa8cf92315c4a018cbe01084c7a2903",
            "9e4b78a655b64911bbdb20c6f3464e7c",
            "963cd9d15a4e4a7693a46c10a1a95435",
            "168fdc89e05f4621be529f789d00667a",
            "308f4eb8c1bc4c1c9cd1e6287c60343b",
            "0ba91ba852ad410d8a6e24f622dedb9a",
            "f7c1d50f52584d53a7d31d5b505049ae",
            "efa565f2c8f8432aa2a0cd1bbbf5a812",
            "0f38339bbd454fc18d1dd4cc360b2ace",
            "f3dacff448f04fe49da3d34879fbe326"
          ]
        },
        "id": "0WMiccfjTI4s",
        "outputId": "b0597e5f-420f-4f1a-ce39-32250fb18a75"
      },
      "outputs": [
        {
          "data": {
            "application/vnd.jupyter.widget-view+json": {
              "model_id": "9030f1792ded4cb3b13072dc6c53cc98",
              "version_major": 2,
              "version_minor": 0
            },
            "text/plain": [
              "config.json:   0%|          | 0.00/794 [00:00<?, ?B/s]"
            ]
          },
          "metadata": {},
          "output_type": "display_data"
        },
        {
          "data": {
            "application/vnd.jupyter.widget-view+json": {
              "model_id": "2335d48f2281439795f72087aacb9eb7",
              "version_major": 2,
              "version_minor": 0
            },
            "text/plain": [
              "model.safetensors:   0%|          | 0.00/90.9M [00:00<?, ?B/s]"
            ]
          },
          "metadata": {},
          "output_type": "display_data"
        },
        {
          "data": {
            "application/vnd.jupyter.widget-view+json": {
              "model_id": "51d915139c4f4bf28726a96b951cf246",
              "version_major": 2,
              "version_minor": 0
            },
            "text/plain": [
              "tokenizer_config.json:   0%|          | 0.00/316 [00:00<?, ?B/s]"
            ]
          },
          "metadata": {},
          "output_type": "display_data"
        },
        {
          "data": {
            "application/vnd.jupyter.widget-view+json": {
              "model_id": "ba52de7f8c154c60a424adec50a3ece6",
              "version_major": 2,
              "version_minor": 0
            },
            "text/plain": [
              "vocab.txt:   0%|          | 0.00/232k [00:00<?, ?B/s]"
            ]
          },
          "metadata": {},
          "output_type": "display_data"
        },
        {
          "data": {
            "application/vnd.jupyter.widget-view+json": {
              "model_id": "579eef871ee74a79bf354872f3cc69ad",
              "version_major": 2,
              "version_minor": 0
            },
            "text/plain": [
              "special_tokens_map.json:   0%|          | 0.00/112 [00:00<?, ?B/s]"
            ]
          },
          "metadata": {},
          "output_type": "display_data"
        }
      ],
      "source": [
        "from sentence_transformers import CrossEncoder\n",
        "cross_encoder = CrossEncoder('cross-encoder/ms-marco-MiniLM-L-6-v2')"
      ]
    },
    {
      "cell_type": "code",
      "execution_count": null,
      "metadata": {
        "id": "3JnZCX3pTrgH"
      },
      "outputs": [],
      "source": [
        "results = chroma_collection.query(query_texts=queries, n_results=10, include=['documents', 'embeddings'])\n",
        "retrieved_documents = results['documents']"
      ]
    },
    {
      "cell_type": "code",
      "execution_count": null,
      "metadata": {
        "colab": {
          "base_uri": "https://localhost:8080/"
        },
        "id": "-QcT47JsT_XP",
        "outputId": "03346a75-8841-4a5e-9003-84ae935ea96c"
      },
      "outputs": [
        {
          "name": "stdout",
          "output_type": "stream",
          "text": [
            "The slowest run took 4.56 times longer than the fastest. This could mean that an intermediate result is being cached.\n",
            "24 µs ± 11.8 µs per loop (mean ± std. dev. of 3 runs, 100 loops each)\n"
          ]
        }
      ],
      "source": [
        "# Deduplicate the retrieved documents\n",
        "%%timeit -n100 -r3\n",
        "unique_documents = set()\n",
        "for documents in retrieved_documents:\n",
        "    for document in documents:\n",
        "        unique_documents.add(document)\n",
        "\n",
        "unique_documents = list(unique_documents)"
      ]
    },
    {
      "cell_type": "code",
      "execution_count": null,
      "metadata": {
        "id": "U4XIXZAEXJCz"
      },
      "outputs": [],
      "source": [
        "#%%timeit -n100 -r3\n",
        "#faster\n",
        "flatList = sum(retrieved_documents, [])\n",
        "unique_documents = set(flatList)\n",
        "#flatList = list(np.concatenate(lst)) #Slow"
      ]
    },
    {
      "cell_type": "code",
      "execution_count": null,
      "metadata": {
        "id": "edvNrLctU1Dc"
      },
      "outputs": [],
      "source": [
        "pairs = []\n",
        "for doc in unique_documents:\n",
        "    pairs.append([original_query, doc])"
      ]
    },
    {
      "cell_type": "code",
      "execution_count": null,
      "metadata": {
        "id": "HUicX2ZyYdPx"
      },
      "outputs": [],
      "source": [
        "scores = cross_encoder.predict(pairs) #learn how cross encoders works"
      ]
    },
    {
      "cell_type": "code",
      "execution_count": null,
      "metadata": {
        "colab": {
          "base_uri": "https://localhost:8080/"
        },
        "id": "KsS7q9jXYlUs",
        "outputId": "70f25b62-3c59-47da-fbf1-2c968b58becd"
      },
      "outputs": [
        {
          "name": "stdout",
          "output_type": "stream",
          "text": [
            "Scores:\n",
            "-7.73989\n",
            "-11.079268\n",
            "-11.040518\n",
            "-11.116722\n",
            "-7.445792\n",
            "-10.886526\n",
            "-10.743448\n",
            "-10.859211\n",
            "-11.121365\n",
            "-11.007851\n",
            "-10.985082\n",
            "-11.233842\n",
            "-11.022106\n",
            "-11.142147\n",
            "-11.1664505\n",
            "-7.503585\n",
            "-11.05914\n",
            "-4.6518903\n",
            "-10.017991\n",
            "-6.902089\n",
            "-9.316702\n",
            "-7.917177\n",
            "-10.822462\n",
            "-10.973504\n",
            "-9.4284725\n",
            "-11.11678\n",
            "-4.3417664\n",
            "-10.947717\n",
            "-10.088552\n",
            "-10.311901\n",
            "-11.072828\n",
            "-11.024439\n",
            "-11.248009\n",
            "-1.1369962\n",
            "-11.141821\n",
            "-9.768026\n",
            "-11.04459\n",
            "-10.187727\n",
            "-4.8184843\n",
            "-10.814183\n",
            "-11.074697\n",
            "-11.137989\n",
            "-11.103973\n",
            "-11.157962\n",
            "-11.078432\n",
            "-10.882423\n",
            "-8.505108\n",
            "-3.768155\n",
            "-5.2747493\n",
            "-10.119463\n"
          ]
        }
      ],
      "source": [
        "print(\"Scores:\")\n",
        "for score in scores: print(score)"
      ]
    },
    {
      "cell_type": "code",
      "execution_count": null,
      "metadata": {
        "colab": {
          "base_uri": "https://localhost:8080/"
        },
        "id": "TfEa0SB_Yoo5",
        "outputId": "aa715200-3292-4b10-fb13-e354bb1b8c31"
      },
      "outputs": [
        {
          "name": "stdout",
          "output_type": "stream",
          "text": [
            "New Ordering:\n",
            "33\n",
            "47\n",
            "26\n",
            "17\n",
            "38\n",
            "48\n",
            "19\n",
            "4\n",
            "15\n",
            "0\n",
            "21\n",
            "46\n",
            "20\n",
            "24\n",
            "35\n",
            "18\n",
            "28\n",
            "49\n",
            "37\n",
            "29\n",
            "6\n",
            "39\n",
            "22\n",
            "7\n",
            "45\n",
            "5\n",
            "27\n",
            "23\n",
            "10\n",
            "9\n",
            "12\n",
            "31\n",
            "2\n",
            "36\n",
            "16\n",
            "30\n",
            "40\n",
            "44\n",
            "1\n",
            "42\n",
            "3\n",
            "25\n",
            "8\n",
            "41\n",
            "34\n",
            "13\n",
            "43\n",
            "14\n",
            "11\n",
            "32\n"
          ]
        }
      ],
      "source": [
        "print(\"New Ordering:\")\n",
        "for o in np.argsort(scores)[::-1]:print(o)"
      ]
    },
    {
      "cell_type": "markdown",
      "metadata": {
        "id": "PUDKFc_4ZCCY"
      },
      "source": [
        "# **7. Apply Embedding Adaptors to improve the results more.**\n",
        "from 5th tutorial."
      ]
    },
    {
      "cell_type": "code",
      "execution_count": null,
      "metadata": {
        "id": "1_YbTRa-ZNFQ"
      },
      "outputs": [],
      "source": []
    },
    {
      "cell_type": "markdown",
      "metadata": {
        "id": "Gw1QI-5e-9KQ"
      },
      "source": [
        "# **8. Applying Hybrid Search**\n",
        "\n",
        "[link](https://superlinked.com/vectorhub/articles/optimizing-rag-with-hybrid-search-reranking)"
      ]
    },
    {
      "cell_type": "code",
      "execution_count": null,
      "metadata": {
        "colab": {
          "base_uri": "https://localhost:8080/"
        },
        "id": "uY232hCi_CgS",
        "outputId": "ad342c8d-a721-4b97-b118-a4230e128f83"
      },
      "outputs": [
        {
          "name": "stdout",
          "output_type": "stream",
          "text": [
            "\u001b[31mERROR: Could not find a version that satisfies the requirement install (from versions: none)\u001b[0m\u001b[31m\n",
            "\u001b[0m\u001b[31mERROR: No matching distribution found for install\u001b[0m\u001b[31m\n",
            "\u001b[0m"
          ]
        }
      ],
      "source": []
    },
    {
      "cell_type": "code",
      "execution_count": null,
      "metadata": {
        "id": "bp4OsNipY-3e"
      },
      "outputs": [],
      "source": []
    }
  ],
  "metadata": {
    "accelerator": "GPU",
    "colab": {
      "gpuType": "T4",
      "provenance": [],
      "mount_file_id": "1c40n0F389fnphh92NQkMz_q6_iqD9jmb",
      "authorship_tag": "ABX9TyPg/vyneJY9vX0esYLYhkBn",
      "include_colab_link": true
    },
    "kernelspec": {
      "display_name": "Python 3",
      "name": "python3"
    },
    "language_info": {
      "name": "python"
    },
    "widgets": {
      "application/vnd.jupyter.widget-state+json": {
        "01d31e87cdcc46a386e464fc0c9e04a5": {
          "model_module": "@jupyter-widgets/controls",
          "model_module_version": "1.5.0",
          "model_name": "ProgressStyleModel",
          "state": {
            "_model_module": "@jupyter-widgets/controls",
            "_model_module_version": "1.5.0",
            "_model_name": "ProgressStyleModel",
            "_view_count": null,
            "_view_module": "@jupyter-widgets/base",
            "_view_module_version": "1.2.0",
            "_view_name": "StyleView",
            "bar_color": null,
            "description_width": ""
          }
        },
        "03bf85e7e43c41e8b9ec69ef15b1f16c": {
          "model_module": "@jupyter-widgets/base",
          "model_module_version": "1.2.0",
          "model_name": "LayoutModel",
          "state": {
            "_model_module": "@jupyter-widgets/base",
            "_model_module_version": "1.2.0",
            "_model_name": "LayoutModel",
            "_view_count": null,
            "_view_module": "@jupyter-widgets/base",
            "_view_module_version": "1.2.0",
            "_view_name": "LayoutView",
            "align_content": null,
            "align_items": null,
            "align_self": null,
            "border": null,
            "bottom": null,
            "display": null,
            "flex": null,
            "flex_flow": null,
            "grid_area": null,
            "grid_auto_columns": null,
            "grid_auto_flow": null,
            "grid_auto_rows": null,
            "grid_column": null,
            "grid_gap": null,
            "grid_row": null,
            "grid_template_areas": null,
            "grid_template_columns": null,
            "grid_template_rows": null,
            "height": null,
            "justify_content": null,
            "justify_items": null,
            "left": null,
            "margin": null,
            "max_height": null,
            "max_width": null,
            "min_height": null,
            "min_width": null,
            "object_fit": null,
            "object_position": null,
            "order": null,
            "overflow": null,
            "overflow_x": null,
            "overflow_y": null,
            "padding": null,
            "right": null,
            "top": null,
            "visibility": null,
            "width": null
          }
        },
        "058d2fc1911143e79e5102fbc939f6b6": {
          "model_module": "@jupyter-widgets/controls",
          "model_module_version": "1.5.0",
          "model_name": "FloatProgressModel",
          "state": {
            "_dom_classes": [],
            "_model_module": "@jupyter-widgets/controls",
            "_model_module_version": "1.5.0",
            "_model_name": "FloatProgressModel",
            "_view_count": null,
            "_view_module": "@jupyter-widgets/controls",
            "_view_module_version": "1.5.0",
            "_view_name": "ProgressView",
            "bar_style": "success",
            "description": "",
            "description_tooltip": null,
            "layout": "IPY_MODEL_800bf1affd87406a8adfc8f5c9a9756c",
            "max": 794,
            "min": 0,
            "orientation": "horizontal",
            "style": "IPY_MODEL_c2efab9df1354d6b96029a7f21d6f106",
            "value": 794
          }
        },
        "06939a8cd59e46e4ad46fce3f13b0120": {
          "model_module": "@jupyter-widgets/base",
          "model_module_version": "1.2.0",
          "model_name": "LayoutModel",
          "state": {
            "_model_module": "@jupyter-widgets/base",
            "_model_module_version": "1.2.0",
            "_model_name": "LayoutModel",
            "_view_count": null,
            "_view_module": "@jupyter-widgets/base",
            "_view_module_version": "1.2.0",
            "_view_name": "LayoutView",
            "align_content": null,
            "align_items": null,
            "align_self": null,
            "border": null,
            "bottom": null,
            "display": null,
            "flex": null,
            "flex_flow": null,
            "grid_area": null,
            "grid_auto_columns": null,
            "grid_auto_flow": null,
            "grid_auto_rows": null,
            "grid_column": null,
            "grid_gap": null,
            "grid_row": null,
            "grid_template_areas": null,
            "grid_template_columns": null,
            "grid_template_rows": null,
            "height": null,
            "justify_content": null,
            "justify_items": null,
            "left": null,
            "margin": null,
            "max_height": null,
            "max_width": null,
            "min_height": null,
            "min_width": null,
            "object_fit": null,
            "object_position": null,
            "order": null,
            "overflow": null,
            "overflow_x": null,
            "overflow_y": null,
            "padding": null,
            "right": null,
            "top": null,
            "visibility": null,
            "width": null
          }
        },
        "073498f9595d4cd1b6789588d116f501": {
          "model_module": "@jupyter-widgets/controls",
          "model_module_version": "1.5.0",
          "model_name": "HTMLModel",
          "state": {
            "_dom_classes": [],
            "_model_module": "@jupyter-widgets/controls",
            "_model_module_version": "1.5.0",
            "_model_name": "HTMLModel",
            "_view_count": null,
            "_view_module": "@jupyter-widgets/controls",
            "_view_module_version": "1.5.0",
            "_view_name": "HTMLView",
            "description": "",
            "description_tooltip": null,
            "layout": "IPY_MODEL_a9d5b861b9804a078140eab2bc3cb8d9",
            "placeholder": "​",
            "style": "IPY_MODEL_558c0804bb8e495db4757670cf17f173",
            "value": " 711k/711k [00:00&lt;00:00, 12.4MB/s]"
          }
        },
        "0802a0f73e0c4d519a72ab61551381b6": {
          "model_module": "@jupyter-widgets/controls",
          "model_module_version": "1.5.0",
          "model_name": "ProgressStyleModel",
          "state": {
            "_model_module": "@jupyter-widgets/controls",
            "_model_module_version": "1.5.0",
            "_model_name": "ProgressStyleModel",
            "_view_count": null,
            "_view_module": "@jupyter-widgets/base",
            "_view_module_version": "1.2.0",
            "_view_name": "StyleView",
            "bar_color": null,
            "description_width": ""
          }
        },
        "09d8178b038f4f4891d6b5d5c300819b": {
          "model_module": "@jupyter-widgets/controls",
          "model_module_version": "1.5.0",
          "model_name": "DescriptionStyleModel",
          "state": {
            "_model_module": "@jupyter-widgets/controls",
            "_model_module_version": "1.5.0",
            "_model_name": "DescriptionStyleModel",
            "_view_count": null,
            "_view_module": "@jupyter-widgets/base",
            "_view_module_version": "1.2.0",
            "_view_name": "StyleView",
            "description_width": ""
          }
        },
        "0a3c24f381c24beeb0d0322b1aa9d67a": {
          "model_module": "@jupyter-widgets/base",
          "model_module_version": "1.2.0",
          "model_name": "LayoutModel",
          "state": {
            "_model_module": "@jupyter-widgets/base",
            "_model_module_version": "1.2.0",
            "_model_name": "LayoutModel",
            "_view_count": null,
            "_view_module": "@jupyter-widgets/base",
            "_view_module_version": "1.2.0",
            "_view_name": "LayoutView",
            "align_content": null,
            "align_items": null,
            "align_self": null,
            "border": null,
            "bottom": null,
            "display": null,
            "flex": null,
            "flex_flow": null,
            "grid_area": null,
            "grid_auto_columns": null,
            "grid_auto_flow": null,
            "grid_auto_rows": null,
            "grid_column": null,
            "grid_gap": null,
            "grid_row": null,
            "grid_template_areas": null,
            "grid_template_columns": null,
            "grid_template_rows": null,
            "height": null,
            "justify_content": null,
            "justify_items": null,
            "left": null,
            "margin": null,
            "max_height": null,
            "max_width": null,
            "min_height": null,
            "min_width": null,
            "object_fit": null,
            "object_position": null,
            "order": null,
            "overflow": null,
            "overflow_x": null,
            "overflow_y": null,
            "padding": null,
            "right": null,
            "top": null,
            "visibility": null,
            "width": null
          }
        },
        "0ba91ba852ad410d8a6e24f622dedb9a": {
          "model_module": "@jupyter-widgets/controls",
          "model_module_version": "1.5.0",
          "model_name": "DescriptionStyleModel",
          "state": {
            "_model_module": "@jupyter-widgets/controls",
            "_model_module_version": "1.5.0",
            "_model_name": "DescriptionStyleModel",
            "_view_count": null,
            "_view_module": "@jupyter-widgets/base",
            "_view_module_version": "1.2.0",
            "_view_name": "StyleView",
            "description_width": ""
          }
        },
        "0dfbd366e7bc4e43b92dbd0767e9d8e8": {
          "model_module": "@jupyter-widgets/base",
          "model_module_version": "1.2.0",
          "model_name": "LayoutModel",
          "state": {
            "_model_module": "@jupyter-widgets/base",
            "_model_module_version": "1.2.0",
            "_model_name": "LayoutModel",
            "_view_count": null,
            "_view_module": "@jupyter-widgets/base",
            "_view_module_version": "1.2.0",
            "_view_name": "LayoutView",
            "align_content": null,
            "align_items": null,
            "align_self": null,
            "border": null,
            "bottom": null,
            "display": null,
            "flex": null,
            "flex_flow": null,
            "grid_area": null,
            "grid_auto_columns": null,
            "grid_auto_flow": null,
            "grid_auto_rows": null,
            "grid_column": null,
            "grid_gap": null,
            "grid_row": null,
            "grid_template_areas": null,
            "grid_template_columns": null,
            "grid_template_rows": null,
            "height": null,
            "justify_content": null,
            "justify_items": null,
            "left": null,
            "margin": null,
            "max_height": null,
            "max_width": null,
            "min_height": null,
            "min_width": null,
            "object_fit": null,
            "object_position": null,
            "order": null,
            "overflow": null,
            "overflow_x": null,
            "overflow_y": null,
            "padding": null,
            "right": null,
            "top": null,
            "visibility": null,
            "width": null
          }
        },
        "0e580b598b2944a38414738488ffb38c": {
          "model_module": "@jupyter-widgets/controls",
          "model_module_version": "1.5.0",
          "model_name": "FloatProgressModel",
          "state": {
            "_dom_classes": [],
            "_model_module": "@jupyter-widgets/controls",
            "_model_module_version": "1.5.0",
            "_model_name": "FloatProgressModel",
            "_view_count": null,
            "_view_module": "@jupyter-widgets/controls",
            "_view_module_version": "1.5.0",
            "_view_name": "ProgressView",
            "bar_style": "success",
            "description": "",
            "description_tooltip": null,
            "layout": "IPY_MODEL_dde241b9f7d84bc280ed0be566fd30c7",
            "max": 231508,
            "min": 0,
            "orientation": "horizontal",
            "style": "IPY_MODEL_e4063cf1ecf04e7a8d92ec6373bae9c5",
            "value": 231508
          }
        },
        "0f38339bbd454fc18d1dd4cc360b2ace": {
          "model_module": "@jupyter-widgets/base",
          "model_module_version": "1.2.0",
          "model_name": "LayoutModel",
          "state": {
            "_model_module": "@jupyter-widgets/base",
            "_model_module_version": "1.2.0",
            "_model_name": "LayoutModel",
            "_view_count": null,
            "_view_module": "@jupyter-widgets/base",
            "_view_module_version": "1.2.0",
            "_view_name": "LayoutView",
            "align_content": null,
            "align_items": null,
            "align_self": null,
            "border": null,
            "bottom": null,
            "display": null,
            "flex": null,
            "flex_flow": null,
            "grid_area": null,
            "grid_auto_columns": null,
            "grid_auto_flow": null,
            "grid_auto_rows": null,
            "grid_column": null,
            "grid_gap": null,
            "grid_row": null,
            "grid_template_areas": null,
            "grid_template_columns": null,
            "grid_template_rows": null,
            "height": null,
            "justify_content": null,
            "justify_items": null,
            "left": null,
            "margin": null,
            "max_height": null,
            "max_width": null,
            "min_height": null,
            "min_width": null,
            "object_fit": null,
            "object_position": null,
            "order": null,
            "overflow": null,
            "overflow_x": null,
            "overflow_y": null,
            "padding": null,
            "right": null,
            "top": null,
            "visibility": null,
            "width": null
          }
        },
        "0f7851be8bd44001bf503dc45d6351ee": {
          "model_module": "@jupyter-widgets/base",
          "model_module_version": "1.2.0",
          "model_name": "LayoutModel",
          "state": {
            "_model_module": "@jupyter-widgets/base",
            "_model_module_version": "1.2.0",
            "_model_name": "LayoutModel",
            "_view_count": null,
            "_view_module": "@jupyter-widgets/base",
            "_view_module_version": "1.2.0",
            "_view_name": "LayoutView",
            "align_content": null,
            "align_items": null,
            "align_self": null,
            "border": null,
            "bottom": null,
            "display": null,
            "flex": null,
            "flex_flow": null,
            "grid_area": null,
            "grid_auto_columns": null,
            "grid_auto_flow": null,
            "grid_auto_rows": null,
            "grid_column": null,
            "grid_gap": null,
            "grid_row": null,
            "grid_template_areas": null,
            "grid_template_columns": null,
            "grid_template_rows": null,
            "height": null,
            "justify_content": null,
            "justify_items": null,
            "left": null,
            "margin": null,
            "max_height": null,
            "max_width": null,
            "min_height": null,
            "min_width": null,
            "object_fit": null,
            "object_position": null,
            "order": null,
            "overflow": null,
            "overflow_x": null,
            "overflow_y": null,
            "padding": null,
            "right": null,
            "top": null,
            "visibility": null,
            "width": null
          }
        },
        "105748bda9d8423db6048229842928d2": {
          "model_module": "@jupyter-widgets/controls",
          "model_module_version": "1.5.0",
          "model_name": "DescriptionStyleModel",
          "state": {
            "_model_module": "@jupyter-widgets/controls",
            "_model_module_version": "1.5.0",
            "_model_name": "DescriptionStyleModel",
            "_view_count": null,
            "_view_module": "@jupyter-widgets/base",
            "_view_module_version": "1.2.0",
            "_view_name": "StyleView",
            "description_width": ""
          }
        },
        "1192971fe15d4217896766ec02663fc7": {
          "model_module": "@jupyter-widgets/controls",
          "model_module_version": "1.5.0",
          "model_name": "HTMLModel",
          "state": {
            "_dom_classes": [],
            "_model_module": "@jupyter-widgets/controls",
            "_model_module_version": "1.5.0",
            "_model_name": "HTMLModel",
            "_view_count": null,
            "_view_module": "@jupyter-widgets/controls",
            "_view_module_version": "1.5.0",
            "_view_name": "HTMLView",
            "description": "",
            "description_tooltip": null,
            "layout": "IPY_MODEL_70c43a6fe05d4e74992b933914960da0",
            "placeholder": "​",
            "style": "IPY_MODEL_af10ed1ec41d43b1b43e2cb9941f3d59",
            "value": " 124/124 [00:00&lt;00:00, 4.76kB/s]"
          }
        },
        "12016d3b25bf4192b8f280e6fd0ef892": {
          "model_module": "@jupyter-widgets/controls",
          "model_module_version": "1.5.0",
          "model_name": "HBoxModel",
          "state": {
            "_dom_classes": [],
            "_model_module": "@jupyter-widgets/controls",
            "_model_module_version": "1.5.0",
            "_model_name": "HBoxModel",
            "_view_count": null,
            "_view_module": "@jupyter-widgets/controls",
            "_view_module_version": "1.5.0",
            "_view_name": "HBoxView",
            "box_style": "",
            "children": [
              "IPY_MODEL_8855d3612e184899bf978a1530da53aa",
              "IPY_MODEL_12c04244a9f848868171c99059db43b3",
              "IPY_MODEL_c22e7c138de14515a4a34b0854775e8a"
            ],
            "layout": "IPY_MODEL_59ae1f14345748218fbba66cc2234b66"
          }
        },
        "12c04244a9f848868171c99059db43b3": {
          "model_module": "@jupyter-widgets/controls",
          "model_module_version": "1.5.0",
          "model_name": "FloatProgressModel",
          "state": {
            "_dom_classes": [],
            "_model_module": "@jupyter-widgets/controls",
            "_model_module_version": "1.5.0",
            "_model_name": "FloatProgressModel",
            "_view_count": null,
            "_view_module": "@jupyter-widgets/controls",
            "_view_module_version": "1.5.0",
            "_view_name": "ProgressView",
            "bar_style": "success",
            "description": "",
            "description_tooltip": null,
            "layout": "IPY_MODEL_5204e686fe62497eab519c2fb474637d",
            "max": 94551,
            "min": 0,
            "orientation": "horizontal",
            "style": "IPY_MODEL_01d31e87cdcc46a386e464fc0c9e04a5",
            "value": 94551
          }
        },
        "12fd86e1582044d5a600668efdf2610b": {
          "model_module": "@jupyter-widgets/controls",
          "model_module_version": "1.5.0",
          "model_name": "ProgressStyleModel",
          "state": {
            "_model_module": "@jupyter-widgets/controls",
            "_model_module_version": "1.5.0",
            "_model_name": "ProgressStyleModel",
            "_view_count": null,
            "_view_module": "@jupyter-widgets/base",
            "_view_module_version": "1.2.0",
            "_view_name": "StyleView",
            "bar_color": null,
            "description_width": ""
          }
        },
        "13949be6b37c4088a12685ac5ae5c9fb": {
          "model_module": "@jupyter-widgets/controls",
          "model_module_version": "1.5.0",
          "model_name": "DescriptionStyleModel",
          "state": {
            "_model_module": "@jupyter-widgets/controls",
            "_model_module_version": "1.5.0",
            "_model_name": "DescriptionStyleModel",
            "_view_count": null,
            "_view_module": "@jupyter-widgets/base",
            "_view_module_version": "1.2.0",
            "_view_name": "StyleView",
            "description_width": ""
          }
        },
        "15bc27c8b1c44ed1b3c445e22cfda06f": {
          "model_module": "@jupyter-widgets/controls",
          "model_module_version": "1.5.0",
          "model_name": "HTMLModel",
          "state": {
            "_dom_classes": [],
            "_model_module": "@jupyter-widgets/controls",
            "_model_module_version": "1.5.0",
            "_model_name": "HTMLModel",
            "_view_count": null,
            "_view_module": "@jupyter-widgets/controls",
            "_view_module_version": "1.5.0",
            "_view_name": "HTMLView",
            "description": "",
            "description_tooltip": null,
            "layout": "IPY_MODEL_06939a8cd59e46e4ad46fce3f13b0120",
            "placeholder": "​",
            "style": "IPY_MODEL_73344bbbdb984632a7aba169e3e349a7",
            "value": "modules.json: 100%"
          }
        },
        "168fdc89e05f4621be529f789d00667a": {
          "model_module": "@jupyter-widgets/base",
          "model_module_version": "1.2.0",
          "model_name": "LayoutModel",
          "state": {
            "_model_module": "@jupyter-widgets/base",
            "_model_module_version": "1.2.0",
            "_model_name": "LayoutModel",
            "_view_count": null,
            "_view_module": "@jupyter-widgets/base",
            "_view_module_version": "1.2.0",
            "_view_name": "LayoutView",
            "align_content": null,
            "align_items": null,
            "align_self": null,
            "border": null,
            "bottom": null,
            "display": null,
            "flex": null,
            "flex_flow": null,
            "grid_area": null,
            "grid_auto_columns": null,
            "grid_auto_flow": null,
            "grid_auto_rows": null,
            "grid_column": null,
            "grid_gap": null,
            "grid_row": null,
            "grid_template_areas": null,
            "grid_template_columns": null,
            "grid_template_rows": null,
            "height": null,
            "justify_content": null,
            "justify_items": null,
            "left": null,
            "margin": null,
            "max_height": null,
            "max_width": null,
            "min_height": null,
            "min_width": null,
            "object_fit": null,
            "object_position": null,
            "order": null,
            "overflow": null,
            "overflow_x": null,
            "overflow_y": null,
            "padding": null,
            "right": null,
            "top": null,
            "visibility": null,
            "width": null
          }
        },
        "1761a1e00e564e79bfefc9e8dbd3723b": {
          "model_module": "@jupyter-widgets/base",
          "model_module_version": "1.2.0",
          "model_name": "LayoutModel",
          "state": {
            "_model_module": "@jupyter-widgets/base",
            "_model_module_version": "1.2.0",
            "_model_name": "LayoutModel",
            "_view_count": null,
            "_view_module": "@jupyter-widgets/base",
            "_view_module_version": "1.2.0",
            "_view_name": "LayoutView",
            "align_content": null,
            "align_items": null,
            "align_self": null,
            "border": null,
            "bottom": null,
            "display": null,
            "flex": null,
            "flex_flow": null,
            "grid_area": null,
            "grid_auto_columns": null,
            "grid_auto_flow": null,
            "grid_auto_rows": null,
            "grid_column": null,
            "grid_gap": null,
            "grid_row": null,
            "grid_template_areas": null,
            "grid_template_columns": null,
            "grid_template_rows": null,
            "height": null,
            "justify_content": null,
            "justify_items": null,
            "left": null,
            "margin": null,
            "max_height": null,
            "max_width": null,
            "min_height": null,
            "min_width": null,
            "object_fit": null,
            "object_position": null,
            "order": null,
            "overflow": null,
            "overflow_x": null,
            "overflow_y": null,
            "padding": null,
            "right": null,
            "top": null,
            "visibility": null,
            "width": null
          }
        },
        "17dd04791555473aa39e2c0884dc5b53": {
          "model_module": "@jupyter-widgets/base",
          "model_module_version": "1.2.0",
          "model_name": "LayoutModel",
          "state": {
            "_model_module": "@jupyter-widgets/base",
            "_model_module_version": "1.2.0",
            "_model_name": "LayoutModel",
            "_view_count": null,
            "_view_module": "@jupyter-widgets/base",
            "_view_module_version": "1.2.0",
            "_view_name": "LayoutView",
            "align_content": null,
            "align_items": null,
            "align_self": null,
            "border": null,
            "bottom": null,
            "display": null,
            "flex": null,
            "flex_flow": null,
            "grid_area": null,
            "grid_auto_columns": null,
            "grid_auto_flow": null,
            "grid_auto_rows": null,
            "grid_column": null,
            "grid_gap": null,
            "grid_row": null,
            "grid_template_areas": null,
            "grid_template_columns": null,
            "grid_template_rows": null,
            "height": null,
            "justify_content": null,
            "justify_items": null,
            "left": null,
            "margin": null,
            "max_height": null,
            "max_width": null,
            "min_height": null,
            "min_width": null,
            "object_fit": null,
            "object_position": null,
            "order": null,
            "overflow": null,
            "overflow_x": null,
            "overflow_y": null,
            "padding": null,
            "right": null,
            "top": null,
            "visibility": null,
            "width": null
          }
        },
        "17f8b2ed29e74f229bea744137a5ff3a": {
          "model_module": "@jupyter-widgets/controls",
          "model_module_version": "1.5.0",
          "model_name": "DescriptionStyleModel",
          "state": {
            "_model_module": "@jupyter-widgets/controls",
            "_model_module_version": "1.5.0",
            "_model_name": "DescriptionStyleModel",
            "_view_count": null,
            "_view_module": "@jupyter-widgets/base",
            "_view_module_version": "1.2.0",
            "_view_name": "StyleView",
            "description_width": ""
          }
        },
        "1aa8cf92315c4a018cbe01084c7a2903": {
          "model_module": "@jupyter-widgets/controls",
          "model_module_version": "1.5.0",
          "model_name": "HTMLModel",
          "state": {
            "_dom_classes": [],
            "_model_module": "@jupyter-widgets/controls",
            "_model_module_version": "1.5.0",
            "_model_name": "HTMLModel",
            "_view_count": null,
            "_view_module": "@jupyter-widgets/controls",
            "_view_module_version": "1.5.0",
            "_view_name": "HTMLView",
            "description": "",
            "description_tooltip": null,
            "layout": "IPY_MODEL_308f4eb8c1bc4c1c9cd1e6287c60343b",
            "placeholder": "​",
            "style": "IPY_MODEL_0ba91ba852ad410d8a6e24f622dedb9a",
            "value": "special_tokens_map.json: 100%"
          }
        },
        "1dee187e8bce43c9bfd16198a1fd8c16": {
          "model_module": "@jupyter-widgets/base",
          "model_module_version": "1.2.0",
          "model_name": "LayoutModel",
          "state": {
            "_model_module": "@jupyter-widgets/base",
            "_model_module_version": "1.2.0",
            "_model_name": "LayoutModel",
            "_view_count": null,
            "_view_module": "@jupyter-widgets/base",
            "_view_module_version": "1.2.0",
            "_view_name": "LayoutView",
            "align_content": null,
            "align_items": null,
            "align_self": null,
            "border": null,
            "bottom": null,
            "display": null,
            "flex": null,
            "flex_flow": null,
            "grid_area": null,
            "grid_auto_columns": null,
            "grid_auto_flow": null,
            "grid_auto_rows": null,
            "grid_column": null,
            "grid_gap": null,
            "grid_row": null,
            "grid_template_areas": null,
            "grid_template_columns": null,
            "grid_template_rows": null,
            "height": null,
            "justify_content": null,
            "justify_items": null,
            "left": null,
            "margin": null,
            "max_height": null,
            "max_width": null,
            "min_height": null,
            "min_width": null,
            "object_fit": null,
            "object_position": null,
            "order": null,
            "overflow": null,
            "overflow_x": null,
            "overflow_y": null,
            "padding": null,
            "right": null,
            "top": null,
            "visibility": null,
            "width": null
          }
        },
        "1e4da894885c47668a4b6834b7b9b262": {
          "model_module": "@jupyter-widgets/controls",
          "model_module_version": "1.5.0",
          "model_name": "FloatProgressModel",
          "state": {
            "_dom_classes": [],
            "_model_module": "@jupyter-widgets/controls",
            "_model_module_version": "1.5.0",
            "_model_name": "FloatProgressModel",
            "_view_count": null,
            "_view_module": "@jupyter-widgets/controls",
            "_view_module_version": "1.5.0",
            "_view_name": "ProgressView",
            "bar_style": "success",
            "description": "",
            "description_tooltip": null,
            "layout": "IPY_MODEL_1761a1e00e564e79bfefc9e8dbd3723b",
            "max": 316,
            "min": 0,
            "orientation": "horizontal",
            "style": "IPY_MODEL_31e649d997114f82bb65bae8765c6cb5",
            "value": 316
          }
        },
        "1fc0a49aa8b54ebc8b04cee4df62766f": {
          "model_module": "@jupyter-widgets/base",
          "model_module_version": "1.2.0",
          "model_name": "LayoutModel",
          "state": {
            "_model_module": "@jupyter-widgets/base",
            "_model_module_version": "1.2.0",
            "_model_name": "LayoutModel",
            "_view_count": null,
            "_view_module": "@jupyter-widgets/base",
            "_view_module_version": "1.2.0",
            "_view_name": "LayoutView",
            "align_content": null,
            "align_items": null,
            "align_self": null,
            "border": null,
            "bottom": null,
            "display": null,
            "flex": null,
            "flex_flow": null,
            "grid_area": null,
            "grid_auto_columns": null,
            "grid_auto_flow": null,
            "grid_auto_rows": null,
            "grid_column": null,
            "grid_gap": null,
            "grid_row": null,
            "grid_template_areas": null,
            "grid_template_columns": null,
            "grid_template_rows": null,
            "height": null,
            "justify_content": null,
            "justify_items": null,
            "left": null,
            "margin": null,
            "max_height": null,
            "max_width": null,
            "min_height": null,
            "min_width": null,
            "object_fit": null,
            "object_position": null,
            "order": null,
            "overflow": null,
            "overflow_x": null,
            "overflow_y": null,
            "padding": null,
            "right": null,
            "top": null,
            "visibility": null,
            "width": null
          }
        },
        "1fe6c82d9c7c4516bbc7a4b1679bd76e": {
          "model_module": "@jupyter-widgets/controls",
          "model_module_version": "1.5.0",
          "model_name": "HBoxModel",
          "state": {
            "_dom_classes": [],
            "_model_module": "@jupyter-widgets/controls",
            "_model_module_version": "1.5.0",
            "_model_name": "HBoxModel",
            "_view_count": null,
            "_view_module": "@jupyter-widgets/controls",
            "_view_module_version": "1.5.0",
            "_view_name": "HBoxView",
            "box_style": "",
            "children": [
              "IPY_MODEL_8f8bda2283a34fe585f307507cda0524",
              "IPY_MODEL_bb5817bff01d4187887ef9fcefbc6a74",
              "IPY_MODEL_e60463ad30a0401b99f9e9b084528a1c"
            ],
            "layout": "IPY_MODEL_0f7851be8bd44001bf503dc45d6351ee"
          }
        },
        "2335d48f2281439795f72087aacb9eb7": {
          "model_module": "@jupyter-widgets/controls",
          "model_module_version": "1.5.0",
          "model_name": "HBoxModel",
          "state": {
            "_dom_classes": [],
            "_model_module": "@jupyter-widgets/controls",
            "_model_module_version": "1.5.0",
            "_model_name": "HBoxModel",
            "_view_count": null,
            "_view_module": "@jupyter-widgets/controls",
            "_view_module_version": "1.5.0",
            "_view_name": "HBoxView",
            "box_style": "",
            "children": [
              "IPY_MODEL_2fff5d6eab29402bac658c0e40034354",
              "IPY_MODEL_24a60b95a38c4783beb08833ded63924",
              "IPY_MODEL_a65feb53ebe7442185d812f1cf92cbc9"
            ],
            "layout": "IPY_MODEL_fb1753db71804fddbb43ea944cf92ee5"
          }
        },
        "24a60b95a38c4783beb08833ded63924": {
          "model_module": "@jupyter-widgets/controls",
          "model_module_version": "1.5.0",
          "model_name": "FloatProgressModel",
          "state": {
            "_dom_classes": [],
            "_model_module": "@jupyter-widgets/controls",
            "_model_module_version": "1.5.0",
            "_model_name": "FloatProgressModel",
            "_view_count": null,
            "_view_module": "@jupyter-widgets/controls",
            "_view_module_version": "1.5.0",
            "_view_name": "ProgressView",
            "bar_style": "success",
            "description": "",
            "description_tooltip": null,
            "layout": "IPY_MODEL_8addc572c59f454a9311b87de1a912c3",
            "max": 90870598,
            "min": 0,
            "orientation": "horizontal",
            "style": "IPY_MODEL_b5e07a0ddd26408db63400408f8c4821",
            "value": 90870598
          }
        },
        "262b1755d2224351b87250359abd7ec3": {
          "model_module": "@jupyter-widgets/controls",
          "model_module_version": "1.5.0",
          "model_name": "DescriptionStyleModel",
          "state": {
            "_model_module": "@jupyter-widgets/controls",
            "_model_module_version": "1.5.0",
            "_model_name": "DescriptionStyleModel",
            "_view_count": null,
            "_view_module": "@jupyter-widgets/base",
            "_view_module_version": "1.2.0",
            "_view_name": "StyleView",
            "description_width": ""
          }
        },
        "298b8072d28341d89c3a1837315d050b": {
          "model_module": "@jupyter-widgets/base",
          "model_module_version": "1.2.0",
          "model_name": "LayoutModel",
          "state": {
            "_model_module": "@jupyter-widgets/base",
            "_model_module_version": "1.2.0",
            "_model_name": "LayoutModel",
            "_view_count": null,
            "_view_module": "@jupyter-widgets/base",
            "_view_module_version": "1.2.0",
            "_view_name": "LayoutView",
            "align_content": null,
            "align_items": null,
            "align_self": null,
            "border": null,
            "bottom": null,
            "display": null,
            "flex": null,
            "flex_flow": null,
            "grid_area": null,
            "grid_auto_columns": null,
            "grid_auto_flow": null,
            "grid_auto_rows": null,
            "grid_column": null,
            "grid_gap": null,
            "grid_row": null,
            "grid_template_areas": null,
            "grid_template_columns": null,
            "grid_template_rows": null,
            "height": null,
            "justify_content": null,
            "justify_items": null,
            "left": null,
            "margin": null,
            "max_height": null,
            "max_width": null,
            "min_height": null,
            "min_width": null,
            "object_fit": null,
            "object_position": null,
            "order": null,
            "overflow": null,
            "overflow_x": null,
            "overflow_y": null,
            "padding": null,
            "right": null,
            "top": null,
            "visibility": null,
            "width": null
          }
        },
        "2a1ecf9bb5f94b89951b1e5cc515ac3f": {
          "model_module": "@jupyter-widgets/base",
          "model_module_version": "1.2.0",
          "model_name": "LayoutModel",
          "state": {
            "_model_module": "@jupyter-widgets/base",
            "_model_module_version": "1.2.0",
            "_model_name": "LayoutModel",
            "_view_count": null,
            "_view_module": "@jupyter-widgets/base",
            "_view_module_version": "1.2.0",
            "_view_name": "LayoutView",
            "align_content": null,
            "align_items": null,
            "align_self": null,
            "border": null,
            "bottom": null,
            "display": null,
            "flex": null,
            "flex_flow": null,
            "grid_area": null,
            "grid_auto_columns": null,
            "grid_auto_flow": null,
            "grid_auto_rows": null,
            "grid_column": null,
            "grid_gap": null,
            "grid_row": null,
            "grid_template_areas": null,
            "grid_template_columns": null,
            "grid_template_rows": null,
            "height": null,
            "justify_content": null,
            "justify_items": null,
            "left": null,
            "margin": null,
            "max_height": null,
            "max_width": null,
            "min_height": null,
            "min_width": null,
            "object_fit": null,
            "object_position": null,
            "order": null,
            "overflow": null,
            "overflow_x": null,
            "overflow_y": null,
            "padding": null,
            "right": null,
            "top": null,
            "visibility": null,
            "width": null
          }
        },
        "2b2373098e714cb0a4c051f381a60407": {
          "model_module": "@jupyter-widgets/controls",
          "model_module_version": "1.5.0",
          "model_name": "HBoxModel",
          "state": {
            "_dom_classes": [],
            "_model_module": "@jupyter-widgets/controls",
            "_model_module_version": "1.5.0",
            "_model_name": "HBoxModel",
            "_view_count": null,
            "_view_module": "@jupyter-widgets/controls",
            "_view_module_version": "1.5.0",
            "_view_name": "HBoxView",
            "box_style": "",
            "children": [
              "IPY_MODEL_2cdd798ff11f4348903f1e4b05290d44",
              "IPY_MODEL_ea726e49b84641df80706081720dab15",
              "IPY_MODEL_1192971fe15d4217896766ec02663fc7"
            ],
            "layout": "IPY_MODEL_03bf85e7e43c41e8b9ec69ef15b1f16c"
          }
        },
        "2c7f2c1df50342c19155fa9d56b98ba0": {
          "model_module": "@jupyter-widgets/base",
          "model_module_version": "1.2.0",
          "model_name": "LayoutModel",
          "state": {
            "_model_module": "@jupyter-widgets/base",
            "_model_module_version": "1.2.0",
            "_model_name": "LayoutModel",
            "_view_count": null,
            "_view_module": "@jupyter-widgets/base",
            "_view_module_version": "1.2.0",
            "_view_name": "LayoutView",
            "align_content": null,
            "align_items": null,
            "align_self": null,
            "border": null,
            "bottom": null,
            "display": null,
            "flex": null,
            "flex_flow": null,
            "grid_area": null,
            "grid_auto_columns": null,
            "grid_auto_flow": null,
            "grid_auto_rows": null,
            "grid_column": null,
            "grid_gap": null,
            "grid_row": null,
            "grid_template_areas": null,
            "grid_template_columns": null,
            "grid_template_rows": null,
            "height": null,
            "justify_content": null,
            "justify_items": null,
            "left": null,
            "margin": null,
            "max_height": null,
            "max_width": null,
            "min_height": null,
            "min_width": null,
            "object_fit": null,
            "object_position": null,
            "order": null,
            "overflow": null,
            "overflow_x": null,
            "overflow_y": null,
            "padding": null,
            "right": null,
            "top": null,
            "visibility": null,
            "width": null
          }
        },
        "2cdd798ff11f4348903f1e4b05290d44": {
          "model_module": "@jupyter-widgets/controls",
          "model_module_version": "1.5.0",
          "model_name": "HTMLModel",
          "state": {
            "_dom_classes": [],
            "_model_module": "@jupyter-widgets/controls",
            "_model_module_version": "1.5.0",
            "_model_name": "HTMLModel",
            "_view_count": null,
            "_view_module": "@jupyter-widgets/controls",
            "_view_module_version": "1.5.0",
            "_view_name": "HTMLView",
            "description": "",
            "description_tooltip": null,
            "layout": "IPY_MODEL_9957ce71ef514f2f88afb5bbc72e71db",
            "placeholder": "​",
            "style": "IPY_MODEL_13949be6b37c4088a12685ac5ae5c9fb",
            "value": "config_sentence_transformers.json: 100%"
          }
        },
        "2cff133eba1540c1a332450e7b11d1ae": {
          "model_module": "@jupyter-widgets/base",
          "model_module_version": "1.2.0",
          "model_name": "LayoutModel",
          "state": {
            "_model_module": "@jupyter-widgets/base",
            "_model_module_version": "1.2.0",
            "_model_name": "LayoutModel",
            "_view_count": null,
            "_view_module": "@jupyter-widgets/base",
            "_view_module_version": "1.2.0",
            "_view_name": "LayoutView",
            "align_content": null,
            "align_items": null,
            "align_self": null,
            "border": null,
            "bottom": null,
            "display": null,
            "flex": null,
            "flex_flow": null,
            "grid_area": null,
            "grid_auto_columns": null,
            "grid_auto_flow": null,
            "grid_auto_rows": null,
            "grid_column": null,
            "grid_gap": null,
            "grid_row": null,
            "grid_template_areas": null,
            "grid_template_columns": null,
            "grid_template_rows": null,
            "height": null,
            "justify_content": null,
            "justify_items": null,
            "left": null,
            "margin": null,
            "max_height": null,
            "max_width": null,
            "min_height": null,
            "min_width": null,
            "object_fit": null,
            "object_position": null,
            "order": null,
            "overflow": null,
            "overflow_x": null,
            "overflow_y": null,
            "padding": null,
            "right": null,
            "top": null,
            "visibility": null,
            "width": null
          }
        },
        "2dcca4e47df4427f8e57450734dcbf7b": {
          "model_module": "@jupyter-widgets/base",
          "model_module_version": "1.2.0",
          "model_name": "LayoutModel",
          "state": {
            "_model_module": "@jupyter-widgets/base",
            "_model_module_version": "1.2.0",
            "_model_name": "LayoutModel",
            "_view_count": null,
            "_view_module": "@jupyter-widgets/base",
            "_view_module_version": "1.2.0",
            "_view_name": "LayoutView",
            "align_content": null,
            "align_items": null,
            "align_self": null,
            "border": null,
            "bottom": null,
            "display": null,
            "flex": null,
            "flex_flow": null,
            "grid_area": null,
            "grid_auto_columns": null,
            "grid_auto_flow": null,
            "grid_auto_rows": null,
            "grid_column": null,
            "grid_gap": null,
            "grid_row": null,
            "grid_template_areas": null,
            "grid_template_columns": null,
            "grid_template_rows": null,
            "height": null,
            "justify_content": null,
            "justify_items": null,
            "left": null,
            "margin": null,
            "max_height": null,
            "max_width": null,
            "min_height": null,
            "min_width": null,
            "object_fit": null,
            "object_position": null,
            "order": null,
            "overflow": null,
            "overflow_x": null,
            "overflow_y": null,
            "padding": null,
            "right": null,
            "top": null,
            "visibility": null,
            "width": null
          }
        },
        "2fff5d6eab29402bac658c0e40034354": {
          "model_module": "@jupyter-widgets/controls",
          "model_module_version": "1.5.0",
          "model_name": "HTMLModel",
          "state": {
            "_dom_classes": [],
            "_model_module": "@jupyter-widgets/controls",
            "_model_module_version": "1.5.0",
            "_model_name": "HTMLModel",
            "_view_count": null,
            "_view_module": "@jupyter-widgets/controls",
            "_view_module_version": "1.5.0",
            "_view_name": "HTMLView",
            "description": "",
            "description_tooltip": null,
            "layout": "IPY_MODEL_92a05db2a2fd4515abcc52d2dda5d76c",
            "placeholder": "​",
            "style": "IPY_MODEL_b60c94cb64f447508de5098df1ff5e28",
            "value": "model.safetensors: 100%"
          }
        },
        "308f4eb8c1bc4c1c9cd1e6287c60343b": {
          "model_module": "@jupyter-widgets/base",
          "model_module_version": "1.2.0",
          "model_name": "LayoutModel",
          "state": {
            "_model_module": "@jupyter-widgets/base",
            "_model_module_version": "1.2.0",
            "_model_name": "LayoutModel",
            "_view_count": null,
            "_view_module": "@jupyter-widgets/base",
            "_view_module_version": "1.2.0",
            "_view_name": "LayoutView",
            "align_content": null,
            "align_items": null,
            "align_self": null,
            "border": null,
            "bottom": null,
            "display": null,
            "flex": null,
            "flex_flow": null,
            "grid_area": null,
            "grid_auto_columns": null,
            "grid_auto_flow": null,
            "grid_auto_rows": null,
            "grid_column": null,
            "grid_gap": null,
            "grid_row": null,
            "grid_template_areas": null,
            "grid_template_columns": null,
            "grid_template_rows": null,
            "height": null,
            "justify_content": null,
            "justify_items": null,
            "left": null,
            "margin": null,
            "max_height": null,
            "max_width": null,
            "min_height": null,
            "min_width": null,
            "object_fit": null,
            "object_position": null,
            "order": null,
            "overflow": null,
            "overflow_x": null,
            "overflow_y": null,
            "padding": null,
            "right": null,
            "top": null,
            "visibility": null,
            "width": null
          }
        },
        "31e649d997114f82bb65bae8765c6cb5": {
          "model_module": "@jupyter-widgets/controls",
          "model_module_version": "1.5.0",
          "model_name": "ProgressStyleModel",
          "state": {
            "_model_module": "@jupyter-widgets/controls",
            "_model_module_version": "1.5.0",
            "_model_name": "ProgressStyleModel",
            "_view_count": null,
            "_view_module": "@jupyter-widgets/base",
            "_view_module_version": "1.2.0",
            "_view_name": "StyleView",
            "bar_color": null,
            "description_width": ""
          }
        },
        "31fcc3e3c0534a65884801b57b8e6855": {
          "model_module": "@jupyter-widgets/controls",
          "model_module_version": "1.5.0",
          "model_name": "HTMLModel",
          "state": {
            "_dom_classes": [],
            "_model_module": "@jupyter-widgets/controls",
            "_model_module_version": "1.5.0",
            "_model_name": "HTMLModel",
            "_view_count": null,
            "_view_module": "@jupyter-widgets/controls",
            "_view_module_version": "1.5.0",
            "_view_name": "HTMLView",
            "description": "",
            "description_tooltip": null,
            "layout": "IPY_MODEL_857cd17f06064948b52e09c15e1e8790",
            "placeholder": "​",
            "style": "IPY_MODEL_92f74e81b5864eb8891a05a39ab1b4c9",
            "value": " 438M/438M [00:03&lt;00:00, 110MB/s]"
          }
        },
        "32459beaa3a94af29d403059a6b34111": {
          "model_module": "@jupyter-widgets/controls",
          "model_module_version": "1.5.0",
          "model_name": "HTMLModel",
          "state": {
            "_dom_classes": [],
            "_model_module": "@jupyter-widgets/controls",
            "_model_module_version": "1.5.0",
            "_model_name": "HTMLModel",
            "_view_count": null,
            "_view_module": "@jupyter-widgets/controls",
            "_view_module_version": "1.5.0",
            "_view_name": "HTMLView",
            "description": "",
            "description_tooltip": null,
            "layout": "IPY_MODEL_af52b0265dea4972a252a9bf5ab22e3a",
            "placeholder": "​",
            "style": "IPY_MODEL_61aff36ec1894bb78f0bfa3d40507e9f",
            "value": " 316/316 [00:00&lt;00:00, 9.25kB/s]"
          }
        },
        "336d229cecea41848fee7e715bc4f17a": {
          "model_module": "@jupyter-widgets/base",
          "model_module_version": "1.2.0",
          "model_name": "LayoutModel",
          "state": {
            "_model_module": "@jupyter-widgets/base",
            "_model_module_version": "1.2.0",
            "_model_name": "LayoutModel",
            "_view_count": null,
            "_view_module": "@jupyter-widgets/base",
            "_view_module_version": "1.2.0",
            "_view_name": "LayoutView",
            "align_content": null,
            "align_items": null,
            "align_self": null,
            "border": null,
            "bottom": null,
            "display": null,
            "flex": null,
            "flex_flow": null,
            "grid_area": null,
            "grid_auto_columns": null,
            "grid_auto_flow": null,
            "grid_auto_rows": null,
            "grid_column": null,
            "grid_gap": null,
            "grid_row": null,
            "grid_template_areas": null,
            "grid_template_columns": null,
            "grid_template_rows": null,
            "height": null,
            "justify_content": null,
            "justify_items": null,
            "left": null,
            "margin": null,
            "max_height": null,
            "max_width": null,
            "min_height": null,
            "min_width": null,
            "object_fit": null,
            "object_position": null,
            "order": null,
            "overflow": null,
            "overflow_x": null,
            "overflow_y": null,
            "padding": null,
            "right": null,
            "top": null,
            "visibility": null,
            "width": null
          }
        },
        "36ffaa401899454693fb8300bb65cfaf": {
          "model_module": "@jupyter-widgets/base",
          "model_module_version": "1.2.0",
          "model_name": "LayoutModel",
          "state": {
            "_model_module": "@jupyter-widgets/base",
            "_model_module_version": "1.2.0",
            "_model_name": "LayoutModel",
            "_view_count": null,
            "_view_module": "@jupyter-widgets/base",
            "_view_module_version": "1.2.0",
            "_view_name": "LayoutView",
            "align_content": null,
            "align_items": null,
            "align_self": null,
            "border": null,
            "bottom": null,
            "display": null,
            "flex": null,
            "flex_flow": null,
            "grid_area": null,
            "grid_auto_columns": null,
            "grid_auto_flow": null,
            "grid_auto_rows": null,
            "grid_column": null,
            "grid_gap": null,
            "grid_row": null,
            "grid_template_areas": null,
            "grid_template_columns": null,
            "grid_template_rows": null,
            "height": null,
            "justify_content": null,
            "justify_items": null,
            "left": null,
            "margin": null,
            "max_height": null,
            "max_width": null,
            "min_height": null,
            "min_width": null,
            "object_fit": null,
            "object_position": null,
            "order": null,
            "overflow": null,
            "overflow_x": null,
            "overflow_y": null,
            "padding": null,
            "right": null,
            "top": null,
            "visibility": null,
            "width": null
          }
        },
        "37aa7a65b0d44b3891e0c4bdb5439cb8": {
          "model_module": "@jupyter-widgets/controls",
          "model_module_version": "1.5.0",
          "model_name": "ProgressStyleModel",
          "state": {
            "_model_module": "@jupyter-widgets/controls",
            "_model_module_version": "1.5.0",
            "_model_name": "ProgressStyleModel",
            "_view_count": null,
            "_view_module": "@jupyter-widgets/base",
            "_view_module_version": "1.2.0",
            "_view_name": "StyleView",
            "bar_color": null,
            "description_width": ""
          }
        },
        "3cd8339a0fd14180912e9a74404a0b6e": {
          "model_module": "@jupyter-widgets/controls",
          "model_module_version": "1.5.0",
          "model_name": "HTMLModel",
          "state": {
            "_dom_classes": [],
            "_model_module": "@jupyter-widgets/controls",
            "_model_module_version": "1.5.0",
            "_model_name": "HTMLModel",
            "_view_count": null,
            "_view_module": "@jupyter-widgets/controls",
            "_view_module_version": "1.5.0",
            "_view_name": "HTMLView",
            "description": "",
            "description_tooltip": null,
            "layout": "IPY_MODEL_c16eaad3b4934c61876a8684fcf83916",
            "placeholder": "​",
            "style": "IPY_MODEL_d5ec698528f946d8a11d5e13416fd0f6",
            "value": " 349/349 [00:00&lt;00:00, 12.2kB/s]"
          }
        },
        "4068ee62109142c3b096f7c0c04e52d2": {
          "model_module": "@jupyter-widgets/controls",
          "model_module_version": "1.5.0",
          "model_name": "HTMLModel",
          "state": {
            "_dom_classes": [],
            "_model_module": "@jupyter-widgets/controls",
            "_model_module_version": "1.5.0",
            "_model_name": "HTMLModel",
            "_view_count": null,
            "_view_module": "@jupyter-widgets/controls",
            "_view_module_version": "1.5.0",
            "_view_name": "HTMLView",
            "description": "",
            "description_tooltip": null,
            "layout": "IPY_MODEL_c43955658d354e1f9320c7bd2c66a57f",
            "placeholder": "​",
            "style": "IPY_MODEL_5ac1c0e16c234783af2d789ff55eca37",
            "value": " 366/366 [00:00&lt;00:00, 25.0kB/s]"
          }
        },
        "4597ed8fba99406bb52bb772433292b9": {
          "model_module": "@jupyter-widgets/controls",
          "model_module_version": "1.5.0",
          "model_name": "DescriptionStyleModel",
          "state": {
            "_model_module": "@jupyter-widgets/controls",
            "_model_module_version": "1.5.0",
            "_model_name": "DescriptionStyleModel",
            "_view_count": null,
            "_view_module": "@jupyter-widgets/base",
            "_view_module_version": "1.2.0",
            "_view_name": "StyleView",
            "description_width": ""
          }
        },
        "45ce1f99e597478a97d2991a1f1ccc8e": {
          "model_module": "@jupyter-widgets/base",
          "model_module_version": "1.2.0",
          "model_name": "LayoutModel",
          "state": {
            "_model_module": "@jupyter-widgets/base",
            "_model_module_version": "1.2.0",
            "_model_name": "LayoutModel",
            "_view_count": null,
            "_view_module": "@jupyter-widgets/base",
            "_view_module_version": "1.2.0",
            "_view_name": "LayoutView",
            "align_content": null,
            "align_items": null,
            "align_self": null,
            "border": null,
            "bottom": null,
            "display": null,
            "flex": null,
            "flex_flow": null,
            "grid_area": null,
            "grid_auto_columns": null,
            "grid_auto_flow": null,
            "grid_auto_rows": null,
            "grid_column": null,
            "grid_gap": null,
            "grid_row": null,
            "grid_template_areas": null,
            "grid_template_columns": null,
            "grid_template_rows": null,
            "height": null,
            "justify_content": null,
            "justify_items": null,
            "left": null,
            "margin": null,
            "max_height": null,
            "max_width": null,
            "min_height": null,
            "min_width": null,
            "object_fit": null,
            "object_position": null,
            "order": null,
            "overflow": null,
            "overflow_x": null,
            "overflow_y": null,
            "padding": null,
            "right": null,
            "top": null,
            "visibility": null,
            "width": null
          }
        },
        "46c9f973e7ca4db28ced97c120d13768": {
          "model_module": "@jupyter-widgets/base",
          "model_module_version": "1.2.0",
          "model_name": "LayoutModel",
          "state": {
            "_model_module": "@jupyter-widgets/base",
            "_model_module_version": "1.2.0",
            "_model_name": "LayoutModel",
            "_view_count": null,
            "_view_module": "@jupyter-widgets/base",
            "_view_module_version": "1.2.0",
            "_view_name": "LayoutView",
            "align_content": null,
            "align_items": null,
            "align_self": null,
            "border": null,
            "bottom": null,
            "display": null,
            "flex": null,
            "flex_flow": null,
            "grid_area": null,
            "grid_auto_columns": null,
            "grid_auto_flow": null,
            "grid_auto_rows": null,
            "grid_column": null,
            "grid_gap": null,
            "grid_row": null,
            "grid_template_areas": null,
            "grid_template_columns": null,
            "grid_template_rows": null,
            "height": null,
            "justify_content": null,
            "justify_items": null,
            "left": null,
            "margin": null,
            "max_height": null,
            "max_width": null,
            "min_height": null,
            "min_width": null,
            "object_fit": null,
            "object_position": null,
            "order": null,
            "overflow": null,
            "overflow_x": null,
            "overflow_y": null,
            "padding": null,
            "right": null,
            "top": null,
            "visibility": null,
            "width": null
          }
        },
        "479dcaecc7a0453a9093f689f0e5fb62": {
          "model_module": "@jupyter-widgets/controls",
          "model_module_version": "1.5.0",
          "model_name": "DescriptionStyleModel",
          "state": {
            "_model_module": "@jupyter-widgets/controls",
            "_model_module_version": "1.5.0",
            "_model_name": "DescriptionStyleModel",
            "_view_count": null,
            "_view_module": "@jupyter-widgets/base",
            "_view_module_version": "1.2.0",
            "_view_name": "StyleView",
            "description_width": ""
          }
        },
        "494375ef238743168ed4177a85bc1dc6": {
          "model_module": "@jupyter-widgets/controls",
          "model_module_version": "1.5.0",
          "model_name": "HTMLModel",
          "state": {
            "_dom_classes": [],
            "_model_module": "@jupyter-widgets/controls",
            "_model_module_version": "1.5.0",
            "_model_name": "HTMLModel",
            "_view_count": null,
            "_view_module": "@jupyter-widgets/controls",
            "_view_module_version": "1.5.0",
            "_view_name": "HTMLView",
            "description": "",
            "description_tooltip": null,
            "layout": "IPY_MODEL_65f5f9cc3c454edc9b5b11a1d6b682fb",
            "placeholder": "​",
            "style": "IPY_MODEL_09d8178b038f4f4891d6b5d5c300819b",
            "value": "vocab.txt: 100%"
          }
        },
        "4eeaa67cbaf74b39b9d242b03cc68e7d": {
          "model_module": "@jupyter-widgets/controls",
          "model_module_version": "1.5.0",
          "model_name": "HTMLModel",
          "state": {
            "_dom_classes": [],
            "_model_module": "@jupyter-widgets/controls",
            "_model_module_version": "1.5.0",
            "_model_name": "HTMLModel",
            "_view_count": null,
            "_view_module": "@jupyter-widgets/controls",
            "_view_module_version": "1.5.0",
            "_view_name": "HTMLView",
            "description": "",
            "description_tooltip": null,
            "layout": "IPY_MODEL_c184292202d4472e83d51b18699aefcd",
            "placeholder": "​",
            "style": "IPY_MODEL_eb420a8f24fd49a3bf67a6b30841325e",
            "value": "tokenizer.json: 100%"
          }
        },
        "4ff4dddf754e430b8101df6376966c39": {
          "model_module": "@jupyter-widgets/controls",
          "model_module_version": "1.5.0",
          "model_name": "HTMLModel",
          "state": {
            "_dom_classes": [],
            "_model_module": "@jupyter-widgets/controls",
            "_model_module_version": "1.5.0",
            "_model_name": "HTMLModel",
            "_view_count": null,
            "_view_module": "@jupyter-widgets/controls",
            "_view_module_version": "1.5.0",
            "_view_name": "HTMLView",
            "description": "",
            "description_tooltip": null,
            "layout": "IPY_MODEL_663c3bb8adb1446183619cd4409d5bb2",
            "placeholder": "​",
            "style": "IPY_MODEL_7c58072f641841558ce98b70239411dd",
            "value": "vocab.txt: 100%"
          }
        },
        "512c12cc61ea41698d1ef9a52c892a3c": {
          "model_module": "@jupyter-widgets/base",
          "model_module_version": "1.2.0",
          "model_name": "LayoutModel",
          "state": {
            "_model_module": "@jupyter-widgets/base",
            "_model_module_version": "1.2.0",
            "_model_name": "LayoutModel",
            "_view_count": null,
            "_view_module": "@jupyter-widgets/base",
            "_view_module_version": "1.2.0",
            "_view_name": "LayoutView",
            "align_content": null,
            "align_items": null,
            "align_self": null,
            "border": null,
            "bottom": null,
            "display": null,
            "flex": null,
            "flex_flow": null,
            "grid_area": null,
            "grid_auto_columns": null,
            "grid_auto_flow": null,
            "grid_auto_rows": null,
            "grid_column": null,
            "grid_gap": null,
            "grid_row": null,
            "grid_template_areas": null,
            "grid_template_columns": null,
            "grid_template_rows": null,
            "height": null,
            "justify_content": null,
            "justify_items": null,
            "left": null,
            "margin": null,
            "max_height": null,
            "max_width": null,
            "min_height": null,
            "min_width": null,
            "object_fit": null,
            "object_position": null,
            "order": null,
            "overflow": null,
            "overflow_x": null,
            "overflow_y": null,
            "padding": null,
            "right": null,
            "top": null,
            "visibility": null,
            "width": null
          }
        },
        "51d915139c4f4bf28726a96b951cf246": {
          "model_module": "@jupyter-widgets/controls",
          "model_module_version": "1.5.0",
          "model_name": "HBoxModel",
          "state": {
            "_dom_classes": [],
            "_model_module": "@jupyter-widgets/controls",
            "_model_module_version": "1.5.0",
            "_model_name": "HBoxModel",
            "_view_count": null,
            "_view_module": "@jupyter-widgets/controls",
            "_view_module_version": "1.5.0",
            "_view_name": "HBoxView",
            "box_style": "",
            "children": [
              "IPY_MODEL_8ba8d6c71e5a46069934becf1c81f225",
              "IPY_MODEL_1e4da894885c47668a4b6834b7b9b262",
              "IPY_MODEL_32459beaa3a94af29d403059a6b34111"
            ],
            "layout": "IPY_MODEL_c216b7146a5348ccb432ce1467f997a6"
          }
        },
        "5204e686fe62497eab519c2fb474637d": {
          "model_module": "@jupyter-widgets/base",
          "model_module_version": "1.2.0",
          "model_name": "LayoutModel",
          "state": {
            "_model_module": "@jupyter-widgets/base",
            "_model_module_version": "1.2.0",
            "_model_name": "LayoutModel",
            "_view_count": null,
            "_view_module": "@jupyter-widgets/base",
            "_view_module_version": "1.2.0",
            "_view_name": "LayoutView",
            "align_content": null,
            "align_items": null,
            "align_self": null,
            "border": null,
            "bottom": null,
            "display": null,
            "flex": null,
            "flex_flow": null,
            "grid_area": null,
            "grid_auto_columns": null,
            "grid_auto_flow": null,
            "grid_auto_rows": null,
            "grid_column": null,
            "grid_gap": null,
            "grid_row": null,
            "grid_template_areas": null,
            "grid_template_columns": null,
            "grid_template_rows": null,
            "height": null,
            "justify_content": null,
            "justify_items": null,
            "left": null,
            "margin": null,
            "max_height": null,
            "max_width": null,
            "min_height": null,
            "min_width": null,
            "object_fit": null,
            "object_position": null,
            "order": null,
            "overflow": null,
            "overflow_x": null,
            "overflow_y": null,
            "padding": null,
            "right": null,
            "top": null,
            "visibility": null,
            "width": null
          }
        },
        "558c0804bb8e495db4757670cf17f173": {
          "model_module": "@jupyter-widgets/controls",
          "model_module_version": "1.5.0",
          "model_name": "DescriptionStyleModel",
          "state": {
            "_model_module": "@jupyter-widgets/controls",
            "_model_module_version": "1.5.0",
            "_model_name": "DescriptionStyleModel",
            "_view_count": null,
            "_view_module": "@jupyter-widgets/base",
            "_view_module_version": "1.2.0",
            "_view_name": "StyleView",
            "description_width": ""
          }
        },
        "579eef871ee74a79bf354872f3cc69ad": {
          "model_module": "@jupyter-widgets/controls",
          "model_module_version": "1.5.0",
          "model_name": "HBoxModel",
          "state": {
            "_dom_classes": [],
            "_model_module": "@jupyter-widgets/controls",
            "_model_module_version": "1.5.0",
            "_model_name": "HBoxModel",
            "_view_count": null,
            "_view_module": "@jupyter-widgets/controls",
            "_view_module_version": "1.5.0",
            "_view_name": "HBoxView",
            "box_style": "",
            "children": [
              "IPY_MODEL_1aa8cf92315c4a018cbe01084c7a2903",
              "IPY_MODEL_9e4b78a655b64911bbdb20c6f3464e7c",
              "IPY_MODEL_963cd9d15a4e4a7693a46c10a1a95435"
            ],
            "layout": "IPY_MODEL_168fdc89e05f4621be529f789d00667a"
          }
        },
        "57aa9846388b492eb3de4eb546fd7e1d": {
          "model_module": "@jupyter-widgets/controls",
          "model_module_version": "1.5.0",
          "model_name": "HTMLModel",
          "state": {
            "_dom_classes": [],
            "_model_module": "@jupyter-widgets/controls",
            "_model_module_version": "1.5.0",
            "_model_name": "HTMLModel",
            "_view_count": null,
            "_view_module": "@jupyter-widgets/controls",
            "_view_module_version": "1.5.0",
            "_view_name": "HTMLView",
            "description": "",
            "description_tooltip": null,
            "layout": "IPY_MODEL_dd376d129e9546468db5b0e398277f49",
            "placeholder": "​",
            "style": "IPY_MODEL_17f8b2ed29e74f229bea744137a5ff3a",
            "value": "model.safetensors: 100%"
          }
        },
        "587cea8bd8b94410a8008cead0473439": {
          "model_module": "@jupyter-widgets/base",
          "model_module_version": "1.2.0",
          "model_name": "LayoutModel",
          "state": {
            "_model_module": "@jupyter-widgets/base",
            "_model_module_version": "1.2.0",
            "_model_name": "LayoutModel",
            "_view_count": null,
            "_view_module": "@jupyter-widgets/base",
            "_view_module_version": "1.2.0",
            "_view_name": "LayoutView",
            "align_content": null,
            "align_items": null,
            "align_self": null,
            "border": null,
            "bottom": null,
            "display": null,
            "flex": null,
            "flex_flow": null,
            "grid_area": null,
            "grid_auto_columns": null,
            "grid_auto_flow": null,
            "grid_auto_rows": null,
            "grid_column": null,
            "grid_gap": null,
            "grid_row": null,
            "grid_template_areas": null,
            "grid_template_columns": null,
            "grid_template_rows": null,
            "height": null,
            "justify_content": null,
            "justify_items": null,
            "left": null,
            "margin": null,
            "max_height": null,
            "max_width": null,
            "min_height": null,
            "min_width": null,
            "object_fit": null,
            "object_position": null,
            "order": null,
            "overflow": null,
            "overflow_x": null,
            "overflow_y": null,
            "padding": null,
            "right": null,
            "top": null,
            "visibility": null,
            "width": null
          }
        },
        "593fbaaa75044b1cb9785f3115bc9032": {
          "model_module": "@jupyter-widgets/controls",
          "model_module_version": "1.5.0",
          "model_name": "HTMLModel",
          "state": {
            "_dom_classes": [],
            "_model_module": "@jupyter-widgets/controls",
            "_model_module_version": "1.5.0",
            "_model_name": "HTMLModel",
            "_view_count": null,
            "_view_module": "@jupyter-widgets/controls",
            "_view_module_version": "1.5.0",
            "_view_name": "HTMLView",
            "description": "",
            "description_tooltip": null,
            "layout": "IPY_MODEL_9e99166a57a7478c8f2267956cd95513",
            "placeholder": "​",
            "style": "IPY_MODEL_d957727f8a374a50971377a7d3c02e0a",
            "value": "config.json: 100%"
          }
        },
        "59ae1f14345748218fbba66cc2234b66": {
          "model_module": "@jupyter-widgets/base",
          "model_module_version": "1.2.0",
          "model_name": "LayoutModel",
          "state": {
            "_model_module": "@jupyter-widgets/base",
            "_model_module_version": "1.2.0",
            "_model_name": "LayoutModel",
            "_view_count": null,
            "_view_module": "@jupyter-widgets/base",
            "_view_module_version": "1.2.0",
            "_view_name": "LayoutView",
            "align_content": null,
            "align_items": null,
            "align_self": null,
            "border": null,
            "bottom": null,
            "display": null,
            "flex": null,
            "flex_flow": null,
            "grid_area": null,
            "grid_auto_columns": null,
            "grid_auto_flow": null,
            "grid_auto_rows": null,
            "grid_column": null,
            "grid_gap": null,
            "grid_row": null,
            "grid_template_areas": null,
            "grid_template_columns": null,
            "grid_template_rows": null,
            "height": null,
            "justify_content": null,
            "justify_items": null,
            "left": null,
            "margin": null,
            "max_height": null,
            "max_width": null,
            "min_height": null,
            "min_width": null,
            "object_fit": null,
            "object_position": null,
            "order": null,
            "overflow": null,
            "overflow_x": null,
            "overflow_y": null,
            "padding": null,
            "right": null,
            "top": null,
            "visibility": null,
            "width": null
          }
        },
        "5a4041dff8874e5c9165c382f632407a": {
          "model_module": "@jupyter-widgets/base",
          "model_module_version": "1.2.0",
          "model_name": "LayoutModel",
          "state": {
            "_model_module": "@jupyter-widgets/base",
            "_model_module_version": "1.2.0",
            "_model_name": "LayoutModel",
            "_view_count": null,
            "_view_module": "@jupyter-widgets/base",
            "_view_module_version": "1.2.0",
            "_view_name": "LayoutView",
            "align_content": null,
            "align_items": null,
            "align_self": null,
            "border": null,
            "bottom": null,
            "display": null,
            "flex": null,
            "flex_flow": null,
            "grid_area": null,
            "grid_auto_columns": null,
            "grid_auto_flow": null,
            "grid_auto_rows": null,
            "grid_column": null,
            "grid_gap": null,
            "grid_row": null,
            "grid_template_areas": null,
            "grid_template_columns": null,
            "grid_template_rows": null,
            "height": null,
            "justify_content": null,
            "justify_items": null,
            "left": null,
            "margin": null,
            "max_height": null,
            "max_width": null,
            "min_height": null,
            "min_width": null,
            "object_fit": null,
            "object_position": null,
            "order": null,
            "overflow": null,
            "overflow_x": null,
            "overflow_y": null,
            "padding": null,
            "right": null,
            "top": null,
            "visibility": null,
            "width": null
          }
        },
        "5a9210df08064529849b5e87b9e305ff": {
          "model_module": "@jupyter-widgets/controls",
          "model_module_version": "1.5.0",
          "model_name": "HBoxModel",
          "state": {
            "_dom_classes": [],
            "_model_module": "@jupyter-widgets/controls",
            "_model_module_version": "1.5.0",
            "_model_name": "HBoxModel",
            "_view_count": null,
            "_view_module": "@jupyter-widgets/controls",
            "_view_module_version": "1.5.0",
            "_view_name": "HBoxView",
            "box_style": "",
            "children": [
              "IPY_MODEL_593fbaaa75044b1cb9785f3115bc9032",
              "IPY_MODEL_5e48c3aa8e7f4ce3b9cfc2a427fdbf20",
              "IPY_MODEL_5b67164b1d844ee3a54012d0030ce0b8"
            ],
            "layout": "IPY_MODEL_587cea8bd8b94410a8008cead0473439"
          }
        },
        "5ac1c0e16c234783af2d789ff55eca37": {
          "model_module": "@jupyter-widgets/controls",
          "model_module_version": "1.5.0",
          "model_name": "DescriptionStyleModel",
          "state": {
            "_model_module": "@jupyter-widgets/controls",
            "_model_module_version": "1.5.0",
            "_model_name": "DescriptionStyleModel",
            "_view_count": null,
            "_view_module": "@jupyter-widgets/base",
            "_view_module_version": "1.2.0",
            "_view_name": "StyleView",
            "description_width": ""
          }
        },
        "5ae98562baff43f1a45a8290d0586979": {
          "model_module": "@jupyter-widgets/controls",
          "model_module_version": "1.5.0",
          "model_name": "HBoxModel",
          "state": {
            "_dom_classes": [],
            "_model_module": "@jupyter-widgets/controls",
            "_model_module_version": "1.5.0",
            "_model_name": "HBoxModel",
            "_view_count": null,
            "_view_module": "@jupyter-widgets/controls",
            "_view_module_version": "1.5.0",
            "_view_name": "HBoxView",
            "box_style": "",
            "children": [
              "IPY_MODEL_a9d02f8a68d74ae4842bf052296efb2e",
              "IPY_MODEL_6da67c39d41b4250bc72d55612ded767",
              "IPY_MODEL_4068ee62109142c3b096f7c0c04e52d2"
            ],
            "layout": "IPY_MODEL_298b8072d28341d89c3a1837315d050b"
          }
        },
        "5b322d58886b4b4babd2807f521b3a0f": {
          "model_module": "@jupyter-widgets/base",
          "model_module_version": "1.2.0",
          "model_name": "LayoutModel",
          "state": {
            "_model_module": "@jupyter-widgets/base",
            "_model_module_version": "1.2.0",
            "_model_name": "LayoutModel",
            "_view_count": null,
            "_view_module": "@jupyter-widgets/base",
            "_view_module_version": "1.2.0",
            "_view_name": "LayoutView",
            "align_content": null,
            "align_items": null,
            "align_self": null,
            "border": null,
            "bottom": null,
            "display": null,
            "flex": null,
            "flex_flow": null,
            "grid_area": null,
            "grid_auto_columns": null,
            "grid_auto_flow": null,
            "grid_auto_rows": null,
            "grid_column": null,
            "grid_gap": null,
            "grid_row": null,
            "grid_template_areas": null,
            "grid_template_columns": null,
            "grid_template_rows": null,
            "height": null,
            "justify_content": null,
            "justify_items": null,
            "left": null,
            "margin": null,
            "max_height": null,
            "max_width": null,
            "min_height": null,
            "min_width": null,
            "object_fit": null,
            "object_position": null,
            "order": null,
            "overflow": null,
            "overflow_x": null,
            "overflow_y": null,
            "padding": null,
            "right": null,
            "top": null,
            "visibility": null,
            "width": null
          }
        },
        "5b67164b1d844ee3a54012d0030ce0b8": {
          "model_module": "@jupyter-widgets/controls",
          "model_module_version": "1.5.0",
          "model_name": "HTMLModel",
          "state": {
            "_dom_classes": [],
            "_model_module": "@jupyter-widgets/controls",
            "_model_module_version": "1.5.0",
            "_model_name": "HTMLModel",
            "_view_count": null,
            "_view_module": "@jupyter-widgets/controls",
            "_view_module_version": "1.5.0",
            "_view_name": "HTMLView",
            "description": "",
            "description_tooltip": null,
            "layout": "IPY_MODEL_0a3c24f381c24beeb0d0322b1aa9d67a",
            "placeholder": "​",
            "style": "IPY_MODEL_7e3a91ae8e3c438eab74626552bc7485",
            "value": " 777/777 [00:00&lt;00:00, 32.0kB/s]"
          }
        },
        "5c33c81057e7423caca7f8f672aa3225": {
          "model_module": "@jupyter-widgets/controls",
          "model_module_version": "1.5.0",
          "model_name": "DescriptionStyleModel",
          "state": {
            "_model_module": "@jupyter-widgets/controls",
            "_model_module_version": "1.5.0",
            "_model_name": "DescriptionStyleModel",
            "_view_count": null,
            "_view_module": "@jupyter-widgets/base",
            "_view_module_version": "1.2.0",
            "_view_name": "StyleView",
            "description_width": ""
          }
        },
        "5cdedfea2965439fa014d591d849ac50": {
          "model_module": "@jupyter-widgets/base",
          "model_module_version": "1.2.0",
          "model_name": "LayoutModel",
          "state": {
            "_model_module": "@jupyter-widgets/base",
            "_model_module_version": "1.2.0",
            "_model_name": "LayoutModel",
            "_view_count": null,
            "_view_module": "@jupyter-widgets/base",
            "_view_module_version": "1.2.0",
            "_view_name": "LayoutView",
            "align_content": null,
            "align_items": null,
            "align_self": null,
            "border": null,
            "bottom": null,
            "display": null,
            "flex": null,
            "flex_flow": null,
            "grid_area": null,
            "grid_auto_columns": null,
            "grid_auto_flow": null,
            "grid_auto_rows": null,
            "grid_column": null,
            "grid_gap": null,
            "grid_row": null,
            "grid_template_areas": null,
            "grid_template_columns": null,
            "grid_template_rows": null,
            "height": null,
            "justify_content": null,
            "justify_items": null,
            "left": null,
            "margin": null,
            "max_height": null,
            "max_width": null,
            "min_height": null,
            "min_width": null,
            "object_fit": null,
            "object_position": null,
            "order": null,
            "overflow": null,
            "overflow_x": null,
            "overflow_y": null,
            "padding": null,
            "right": null,
            "top": null,
            "visibility": null,
            "width": null
          }
        },
        "5e48c3aa8e7f4ce3b9cfc2a427fdbf20": {
          "model_module": "@jupyter-widgets/controls",
          "model_module_version": "1.5.0",
          "model_name": "FloatProgressModel",
          "state": {
            "_dom_classes": [],
            "_model_module": "@jupyter-widgets/controls",
            "_model_module_version": "1.5.0",
            "_model_name": "FloatProgressModel",
            "_view_count": null,
            "_view_module": "@jupyter-widgets/controls",
            "_view_module_version": "1.5.0",
            "_view_name": "ProgressView",
            "bar_style": "success",
            "description": "",
            "description_tooltip": null,
            "layout": "IPY_MODEL_dae13cdecc214d42801bc0bfb5bd5e34",
            "max": 777,
            "min": 0,
            "orientation": "horizontal",
            "style": "IPY_MODEL_b093fab9129346ed927fcee6506f8c72",
            "value": 777
          }
        },
        "5fc47b86920941c29082bf3ad5872f13": {
          "model_module": "@jupyter-widgets/controls",
          "model_module_version": "1.5.0",
          "model_name": "HTMLModel",
          "state": {
            "_dom_classes": [],
            "_model_module": "@jupyter-widgets/controls",
            "_model_module_version": "1.5.0",
            "_model_name": "HTMLModel",
            "_view_count": null,
            "_view_module": "@jupyter-widgets/controls",
            "_view_module_version": "1.5.0",
            "_view_name": "HTMLView",
            "description": "",
            "description_tooltip": null,
            "layout": "IPY_MODEL_2c7f2c1df50342c19155fa9d56b98ba0",
            "placeholder": "​",
            "style": "IPY_MODEL_c4d81836a2dc442da8a0fc330815e6f9",
            "value": " 125/125 [00:00&lt;00:00, 5.26kB/s]"
          }
        },
        "61aff36ec1894bb78f0bfa3d40507e9f": {
          "model_module": "@jupyter-widgets/controls",
          "model_module_version": "1.5.0",
          "model_name": "DescriptionStyleModel",
          "state": {
            "_model_module": "@jupyter-widgets/controls",
            "_model_module_version": "1.5.0",
            "_model_name": "DescriptionStyleModel",
            "_view_count": null,
            "_view_module": "@jupyter-widgets/base",
            "_view_module_version": "1.2.0",
            "_view_name": "StyleView",
            "description_width": ""
          }
        },
        "62374f9dbab9422ca4a44f8dea0dffa7": {
          "model_module": "@jupyter-widgets/controls",
          "model_module_version": "1.5.0",
          "model_name": "ProgressStyleModel",
          "state": {
            "_model_module": "@jupyter-widgets/controls",
            "_model_module_version": "1.5.0",
            "_model_name": "ProgressStyleModel",
            "_view_count": null,
            "_view_module": "@jupyter-widgets/base",
            "_view_module_version": "1.2.0",
            "_view_name": "StyleView",
            "bar_color": null,
            "description_width": ""
          }
        },
        "633335cae8544e8d805ddb37456c9f08": {
          "model_module": "@jupyter-widgets/controls",
          "model_module_version": "1.5.0",
          "model_name": "DescriptionStyleModel",
          "state": {
            "_model_module": "@jupyter-widgets/controls",
            "_model_module_version": "1.5.0",
            "_model_name": "DescriptionStyleModel",
            "_view_count": null,
            "_view_module": "@jupyter-widgets/base",
            "_view_module_version": "1.2.0",
            "_view_name": "StyleView",
            "description_width": ""
          }
        },
        "64af6dd0651c436d8282fcd8db35c25e": {
          "model_module": "@jupyter-widgets/base",
          "model_module_version": "1.2.0",
          "model_name": "LayoutModel",
          "state": {
            "_model_module": "@jupyter-widgets/base",
            "_model_module_version": "1.2.0",
            "_model_name": "LayoutModel",
            "_view_count": null,
            "_view_module": "@jupyter-widgets/base",
            "_view_module_version": "1.2.0",
            "_view_name": "LayoutView",
            "align_content": null,
            "align_items": null,
            "align_self": null,
            "border": null,
            "bottom": null,
            "display": null,
            "flex": null,
            "flex_flow": null,
            "grid_area": null,
            "grid_auto_columns": null,
            "grid_auto_flow": null,
            "grid_auto_rows": null,
            "grid_column": null,
            "grid_gap": null,
            "grid_row": null,
            "grid_template_areas": null,
            "grid_template_columns": null,
            "grid_template_rows": null,
            "height": null,
            "justify_content": null,
            "justify_items": null,
            "left": null,
            "margin": null,
            "max_height": null,
            "max_width": null,
            "min_height": null,
            "min_width": null,
            "object_fit": null,
            "object_position": null,
            "order": null,
            "overflow": null,
            "overflow_x": null,
            "overflow_y": null,
            "padding": null,
            "right": null,
            "top": null,
            "visibility": null,
            "width": null
          }
        },
        "65f5f9cc3c454edc9b5b11a1d6b682fb": {
          "model_module": "@jupyter-widgets/base",
          "model_module_version": "1.2.0",
          "model_name": "LayoutModel",
          "state": {
            "_model_module": "@jupyter-widgets/base",
            "_model_module_version": "1.2.0",
            "_model_name": "LayoutModel",
            "_view_count": null,
            "_view_module": "@jupyter-widgets/base",
            "_view_module_version": "1.2.0",
            "_view_name": "LayoutView",
            "align_content": null,
            "align_items": null,
            "align_self": null,
            "border": null,
            "bottom": null,
            "display": null,
            "flex": null,
            "flex_flow": null,
            "grid_area": null,
            "grid_auto_columns": null,
            "grid_auto_flow": null,
            "grid_auto_rows": null,
            "grid_column": null,
            "grid_gap": null,
            "grid_row": null,
            "grid_template_areas": null,
            "grid_template_columns": null,
            "grid_template_rows": null,
            "height": null,
            "justify_content": null,
            "justify_items": null,
            "left": null,
            "margin": null,
            "max_height": null,
            "max_width": null,
            "min_height": null,
            "min_width": null,
            "object_fit": null,
            "object_position": null,
            "order": null,
            "overflow": null,
            "overflow_x": null,
            "overflow_y": null,
            "padding": null,
            "right": null,
            "top": null,
            "visibility": null,
            "width": null
          }
        },
        "663c3bb8adb1446183619cd4409d5bb2": {
          "model_module": "@jupyter-widgets/base",
          "model_module_version": "1.2.0",
          "model_name": "LayoutModel",
          "state": {
            "_model_module": "@jupyter-widgets/base",
            "_model_module_version": "1.2.0",
            "_model_name": "LayoutModel",
            "_view_count": null,
            "_view_module": "@jupyter-widgets/base",
            "_view_module_version": "1.2.0",
            "_view_name": "LayoutView",
            "align_content": null,
            "align_items": null,
            "align_self": null,
            "border": null,
            "bottom": null,
            "display": null,
            "flex": null,
            "flex_flow": null,
            "grid_area": null,
            "grid_auto_columns": null,
            "grid_auto_flow": null,
            "grid_auto_rows": null,
            "grid_column": null,
            "grid_gap": null,
            "grid_row": null,
            "grid_template_areas": null,
            "grid_template_columns": null,
            "grid_template_rows": null,
            "height": null,
            "justify_content": null,
            "justify_items": null,
            "left": null,
            "margin": null,
            "max_height": null,
            "max_width": null,
            "min_height": null,
            "min_width": null,
            "object_fit": null,
            "object_position": null,
            "order": null,
            "overflow": null,
            "overflow_x": null,
            "overflow_y": null,
            "padding": null,
            "right": null,
            "top": null,
            "visibility": null,
            "width": null
          }
        },
        "68302c153add45de9876b4212dacc63e": {
          "model_module": "@jupyter-widgets/base",
          "model_module_version": "1.2.0",
          "model_name": "LayoutModel",
          "state": {
            "_model_module": "@jupyter-widgets/base",
            "_model_module_version": "1.2.0",
            "_model_name": "LayoutModel",
            "_view_count": null,
            "_view_module": "@jupyter-widgets/base",
            "_view_module_version": "1.2.0",
            "_view_name": "LayoutView",
            "align_content": null,
            "align_items": null,
            "align_self": null,
            "border": null,
            "bottom": null,
            "display": null,
            "flex": null,
            "flex_flow": null,
            "grid_area": null,
            "grid_auto_columns": null,
            "grid_auto_flow": null,
            "grid_auto_rows": null,
            "grid_column": null,
            "grid_gap": null,
            "grid_row": null,
            "grid_template_areas": null,
            "grid_template_columns": null,
            "grid_template_rows": null,
            "height": null,
            "justify_content": null,
            "justify_items": null,
            "left": null,
            "margin": null,
            "max_height": null,
            "max_width": null,
            "min_height": null,
            "min_width": null,
            "object_fit": null,
            "object_position": null,
            "order": null,
            "overflow": null,
            "overflow_x": null,
            "overflow_y": null,
            "padding": null,
            "right": null,
            "top": null,
            "visibility": null,
            "width": null
          }
        },
        "6da67c39d41b4250bc72d55612ded767": {
          "model_module": "@jupyter-widgets/controls",
          "model_module_version": "1.5.0",
          "model_name": "FloatProgressModel",
          "state": {
            "_dom_classes": [],
            "_model_module": "@jupyter-widgets/controls",
            "_model_module_version": "1.5.0",
            "_model_name": "FloatProgressModel",
            "_view_count": null,
            "_view_module": "@jupyter-widgets/controls",
            "_view_module_version": "1.5.0",
            "_view_name": "ProgressView",
            "bar_style": "success",
            "description": "",
            "description_tooltip": null,
            "layout": "IPY_MODEL_71c6d41f45e04a6e9426600c75afceee",
            "max": 366,
            "min": 0,
            "orientation": "horizontal",
            "style": "IPY_MODEL_7dddda7462c5492c9d3448b99f761180",
            "value": 366
          }
        },
        "70c43a6fe05d4e74992b933914960da0": {
          "model_module": "@jupyter-widgets/base",
          "model_module_version": "1.2.0",
          "model_name": "LayoutModel",
          "state": {
            "_model_module": "@jupyter-widgets/base",
            "_model_module_version": "1.2.0",
            "_model_name": "LayoutModel",
            "_view_count": null,
            "_view_module": "@jupyter-widgets/base",
            "_view_module_version": "1.2.0",
            "_view_name": "LayoutView",
            "align_content": null,
            "align_items": null,
            "align_self": null,
            "border": null,
            "bottom": null,
            "display": null,
            "flex": null,
            "flex_flow": null,
            "grid_area": null,
            "grid_auto_columns": null,
            "grid_auto_flow": null,
            "grid_auto_rows": null,
            "grid_column": null,
            "grid_gap": null,
            "grid_row": null,
            "grid_template_areas": null,
            "grid_template_columns": null,
            "grid_template_rows": null,
            "height": null,
            "justify_content": null,
            "justify_items": null,
            "left": null,
            "margin": null,
            "max_height": null,
            "max_width": null,
            "min_height": null,
            "min_width": null,
            "object_fit": null,
            "object_position": null,
            "order": null,
            "overflow": null,
            "overflow_x": null,
            "overflow_y": null,
            "padding": null,
            "right": null,
            "top": null,
            "visibility": null,
            "width": null
          }
        },
        "717badedb2f04654a04a66ca66082d93": {
          "model_module": "@jupyter-widgets/controls",
          "model_module_version": "1.5.0",
          "model_name": "FloatProgressModel",
          "state": {
            "_dom_classes": [],
            "_model_module": "@jupyter-widgets/controls",
            "_model_module_version": "1.5.0",
            "_model_name": "FloatProgressModel",
            "_view_count": null,
            "_view_module": "@jupyter-widgets/controls",
            "_view_module_version": "1.5.0",
            "_view_name": "ProgressView",
            "bar_style": "success",
            "description": "",
            "description_tooltip": null,
            "layout": "IPY_MODEL_64af6dd0651c436d8282fcd8db35c25e",
            "max": 349,
            "min": 0,
            "orientation": "horizontal",
            "style": "IPY_MODEL_62374f9dbab9422ca4a44f8dea0dffa7",
            "value": 349
          }
        },
        "71c6d41f45e04a6e9426600c75afceee": {
          "model_module": "@jupyter-widgets/base",
          "model_module_version": "1.2.0",
          "model_name": "LayoutModel",
          "state": {
            "_model_module": "@jupyter-widgets/base",
            "_model_module_version": "1.2.0",
            "_model_name": "LayoutModel",
            "_view_count": null,
            "_view_module": "@jupyter-widgets/base",
            "_view_module_version": "1.2.0",
            "_view_name": "LayoutView",
            "align_content": null,
            "align_items": null,
            "align_self": null,
            "border": null,
            "bottom": null,
            "display": null,
            "flex": null,
            "flex_flow": null,
            "grid_area": null,
            "grid_auto_columns": null,
            "grid_auto_flow": null,
            "grid_auto_rows": null,
            "grid_column": null,
            "grid_gap": null,
            "grid_row": null,
            "grid_template_areas": null,
            "grid_template_columns": null,
            "grid_template_rows": null,
            "height": null,
            "justify_content": null,
            "justify_items": null,
            "left": null,
            "margin": null,
            "max_height": null,
            "max_width": null,
            "min_height": null,
            "min_width": null,
            "object_fit": null,
            "object_position": null,
            "order": null,
            "overflow": null,
            "overflow_x": null,
            "overflow_y": null,
            "padding": null,
            "right": null,
            "top": null,
            "visibility": null,
            "width": null
          }
        },
        "73344bbbdb984632a7aba169e3e349a7": {
          "model_module": "@jupyter-widgets/controls",
          "model_module_version": "1.5.0",
          "model_name": "DescriptionStyleModel",
          "state": {
            "_model_module": "@jupyter-widgets/controls",
            "_model_module_version": "1.5.0",
            "_model_name": "DescriptionStyleModel",
            "_view_count": null,
            "_view_module": "@jupyter-widgets/base",
            "_view_module_version": "1.2.0",
            "_view_name": "StyleView",
            "description_width": ""
          }
        },
        "77604783fa844a50a8527702fa248298": {
          "model_module": "@jupyter-widgets/base",
          "model_module_version": "1.2.0",
          "model_name": "LayoutModel",
          "state": {
            "_model_module": "@jupyter-widgets/base",
            "_model_module_version": "1.2.0",
            "_model_name": "LayoutModel",
            "_view_count": null,
            "_view_module": "@jupyter-widgets/base",
            "_view_module_version": "1.2.0",
            "_view_name": "LayoutView",
            "align_content": null,
            "align_items": null,
            "align_self": null,
            "border": null,
            "bottom": null,
            "display": null,
            "flex": null,
            "flex_flow": null,
            "grid_area": null,
            "grid_auto_columns": null,
            "grid_auto_flow": null,
            "grid_auto_rows": null,
            "grid_column": null,
            "grid_gap": null,
            "grid_row": null,
            "grid_template_areas": null,
            "grid_template_columns": null,
            "grid_template_rows": null,
            "height": null,
            "justify_content": null,
            "justify_items": null,
            "left": null,
            "margin": null,
            "max_height": null,
            "max_width": null,
            "min_height": null,
            "min_width": null,
            "object_fit": null,
            "object_position": null,
            "order": null,
            "overflow": null,
            "overflow_x": null,
            "overflow_y": null,
            "padding": null,
            "right": null,
            "top": null,
            "visibility": null,
            "width": null
          }
        },
        "7975376ad419478ea3e500603e7a50e2": {
          "model_module": "@jupyter-widgets/controls",
          "model_module_version": "1.5.0",
          "model_name": "DescriptionStyleModel",
          "state": {
            "_model_module": "@jupyter-widgets/controls",
            "_model_module_version": "1.5.0",
            "_model_name": "DescriptionStyleModel",
            "_view_count": null,
            "_view_module": "@jupyter-widgets/base",
            "_view_module_version": "1.2.0",
            "_view_name": "StyleView",
            "description_width": ""
          }
        },
        "7c58072f641841558ce98b70239411dd": {
          "model_module": "@jupyter-widgets/controls",
          "model_module_version": "1.5.0",
          "model_name": "DescriptionStyleModel",
          "state": {
            "_model_module": "@jupyter-widgets/controls",
            "_model_module_version": "1.5.0",
            "_model_name": "DescriptionStyleModel",
            "_view_count": null,
            "_view_module": "@jupyter-widgets/base",
            "_view_module_version": "1.2.0",
            "_view_name": "StyleView",
            "description_width": ""
          }
        },
        "7cc3aab113794b608e7a990b2842dfa1": {
          "model_module": "@jupyter-widgets/controls",
          "model_module_version": "1.5.0",
          "model_name": "HBoxModel",
          "state": {
            "_dom_classes": [],
            "_model_module": "@jupyter-widgets/controls",
            "_model_module_version": "1.5.0",
            "_model_name": "HBoxModel",
            "_view_count": null,
            "_view_module": "@jupyter-widgets/controls",
            "_view_module_version": "1.5.0",
            "_view_name": "HBoxView",
            "box_style": "",
            "children": [
              "IPY_MODEL_4eeaa67cbaf74b39b9d242b03cc68e7d",
              "IPY_MODEL_f79155f0175646b5a9bf4836d43f9c0a",
              "IPY_MODEL_073498f9595d4cd1b6789588d116f501"
            ],
            "layout": "IPY_MODEL_c4300a6fea0041eeb96928cd53ef0e7d"
          }
        },
        "7dddda7462c5492c9d3448b99f761180": {
          "model_module": "@jupyter-widgets/controls",
          "model_module_version": "1.5.0",
          "model_name": "ProgressStyleModel",
          "state": {
            "_model_module": "@jupyter-widgets/controls",
            "_model_module_version": "1.5.0",
            "_model_name": "ProgressStyleModel",
            "_view_count": null,
            "_view_module": "@jupyter-widgets/base",
            "_view_module_version": "1.2.0",
            "_view_name": "StyleView",
            "bar_color": null,
            "description_width": ""
          }
        },
        "7e3a91ae8e3c438eab74626552bc7485": {
          "model_module": "@jupyter-widgets/controls",
          "model_module_version": "1.5.0",
          "model_name": "DescriptionStyleModel",
          "state": {
            "_model_module": "@jupyter-widgets/controls",
            "_model_module_version": "1.5.0",
            "_model_name": "DescriptionStyleModel",
            "_view_count": null,
            "_view_module": "@jupyter-widgets/base",
            "_view_module_version": "1.2.0",
            "_view_name": "StyleView",
            "description_width": ""
          }
        },
        "800bf1affd87406a8adfc8f5c9a9756c": {
          "model_module": "@jupyter-widgets/base",
          "model_module_version": "1.2.0",
          "model_name": "LayoutModel",
          "state": {
            "_model_module": "@jupyter-widgets/base",
            "_model_module_version": "1.2.0",
            "_model_name": "LayoutModel",
            "_view_count": null,
            "_view_module": "@jupyter-widgets/base",
            "_view_module_version": "1.2.0",
            "_view_name": "LayoutView",
            "align_content": null,
            "align_items": null,
            "align_self": null,
            "border": null,
            "bottom": null,
            "display": null,
            "flex": null,
            "flex_flow": null,
            "grid_area": null,
            "grid_auto_columns": null,
            "grid_auto_flow": null,
            "grid_auto_rows": null,
            "grid_column": null,
            "grid_gap": null,
            "grid_row": null,
            "grid_template_areas": null,
            "grid_template_columns": null,
            "grid_template_rows": null,
            "height": null,
            "justify_content": null,
            "justify_items": null,
            "left": null,
            "margin": null,
            "max_height": null,
            "max_width": null,
            "min_height": null,
            "min_width": null,
            "object_fit": null,
            "object_position": null,
            "order": null,
            "overflow": null,
            "overflow_x": null,
            "overflow_y": null,
            "padding": null,
            "right": null,
            "top": null,
            "visibility": null,
            "width": null
          }
        },
        "857cd17f06064948b52e09c15e1e8790": {
          "model_module": "@jupyter-widgets/base",
          "model_module_version": "1.2.0",
          "model_name": "LayoutModel",
          "state": {
            "_model_module": "@jupyter-widgets/base",
            "_model_module_version": "1.2.0",
            "_model_name": "LayoutModel",
            "_view_count": null,
            "_view_module": "@jupyter-widgets/base",
            "_view_module_version": "1.2.0",
            "_view_name": "LayoutView",
            "align_content": null,
            "align_items": null,
            "align_self": null,
            "border": null,
            "bottom": null,
            "display": null,
            "flex": null,
            "flex_flow": null,
            "grid_area": null,
            "grid_auto_columns": null,
            "grid_auto_flow": null,
            "grid_auto_rows": null,
            "grid_column": null,
            "grid_gap": null,
            "grid_row": null,
            "grid_template_areas": null,
            "grid_template_columns": null,
            "grid_template_rows": null,
            "height": null,
            "justify_content": null,
            "justify_items": null,
            "left": null,
            "margin": null,
            "max_height": null,
            "max_width": null,
            "min_height": null,
            "min_width": null,
            "object_fit": null,
            "object_position": null,
            "order": null,
            "overflow": null,
            "overflow_x": null,
            "overflow_y": null,
            "padding": null,
            "right": null,
            "top": null,
            "visibility": null,
            "width": null
          }
        },
        "8855d3612e184899bf978a1530da53aa": {
          "model_module": "@jupyter-widgets/controls",
          "model_module_version": "1.5.0",
          "model_name": "HTMLModel",
          "state": {
            "_dom_classes": [],
            "_model_module": "@jupyter-widgets/controls",
            "_model_module_version": "1.5.0",
            "_model_name": "HTMLModel",
            "_view_count": null,
            "_view_module": "@jupyter-widgets/controls",
            "_view_module_version": "1.5.0",
            "_view_name": "HTMLView",
            "description": "",
            "description_tooltip": null,
            "layout": "IPY_MODEL_bcc5a71be5844aa4b24de91e3e901657",
            "placeholder": "​",
            "style": "IPY_MODEL_4597ed8fba99406bb52bb772433292b9",
            "value": "README.md: 100%"
          }
        },
        "8addc572c59f454a9311b87de1a912c3": {
          "model_module": "@jupyter-widgets/base",
          "model_module_version": "1.2.0",
          "model_name": "LayoutModel",
          "state": {
            "_model_module": "@jupyter-widgets/base",
            "_model_module_version": "1.2.0",
            "_model_name": "LayoutModel",
            "_view_count": null,
            "_view_module": "@jupyter-widgets/base",
            "_view_module_version": "1.2.0",
            "_view_name": "LayoutView",
            "align_content": null,
            "align_items": null,
            "align_self": null,
            "border": null,
            "bottom": null,
            "display": null,
            "flex": null,
            "flex_flow": null,
            "grid_area": null,
            "grid_auto_columns": null,
            "grid_auto_flow": null,
            "grid_auto_rows": null,
            "grid_column": null,
            "grid_gap": null,
            "grid_row": null,
            "grid_template_areas": null,
            "grid_template_columns": null,
            "grid_template_rows": null,
            "height": null,
            "justify_content": null,
            "justify_items": null,
            "left": null,
            "margin": null,
            "max_height": null,
            "max_width": null,
            "min_height": null,
            "min_width": null,
            "object_fit": null,
            "object_position": null,
            "order": null,
            "overflow": null,
            "overflow_x": null,
            "overflow_y": null,
            "padding": null,
            "right": null,
            "top": null,
            "visibility": null,
            "width": null
          }
        },
        "8ba8d6c71e5a46069934becf1c81f225": {
          "model_module": "@jupyter-widgets/controls",
          "model_module_version": "1.5.0",
          "model_name": "HTMLModel",
          "state": {
            "_dom_classes": [],
            "_model_module": "@jupyter-widgets/controls",
            "_model_module_version": "1.5.0",
            "_model_name": "HTMLModel",
            "_view_count": null,
            "_view_module": "@jupyter-widgets/controls",
            "_view_module_version": "1.5.0",
            "_view_name": "HTMLView",
            "description": "",
            "description_tooltip": null,
            "layout": "IPY_MODEL_2dcca4e47df4427f8e57450734dcbf7b",
            "placeholder": "​",
            "style": "IPY_MODEL_262b1755d2224351b87250359abd7ec3",
            "value": "tokenizer_config.json: 100%"
          }
        },
        "8cf75e84453d4d2c8f02ed4ea82f459c": {
          "model_module": "@jupyter-widgets/controls",
          "model_module_version": "1.5.0",
          "model_name": "FloatProgressModel",
          "state": {
            "_dom_classes": [],
            "_model_module": "@jupyter-widgets/controls",
            "_model_module_version": "1.5.0",
            "_model_name": "FloatProgressModel",
            "_view_count": null,
            "_view_module": "@jupyter-widgets/controls",
            "_view_module_version": "1.5.0",
            "_view_name": "ProgressView",
            "bar_style": "success",
            "description": "",
            "description_tooltip": null,
            "layout": "IPY_MODEL_46c9f973e7ca4db28ced97c120d13768",
            "max": 437955512,
            "min": 0,
            "orientation": "horizontal",
            "style": "IPY_MODEL_12fd86e1582044d5a600668efdf2610b",
            "value": 437955512
          }
        },
        "8d082854c7ec486f8710aea11858f5f4": {
          "model_module": "@jupyter-widgets/controls",
          "model_module_version": "1.5.0",
          "model_name": "HTMLModel",
          "state": {
            "_dom_classes": [],
            "_model_module": "@jupyter-widgets/controls",
            "_model_module_version": "1.5.0",
            "_model_name": "HTMLModel",
            "_view_count": null,
            "_view_module": "@jupyter-widgets/controls",
            "_view_module_version": "1.5.0",
            "_view_name": "HTMLView",
            "description": "",
            "description_tooltip": null,
            "layout": "IPY_MODEL_5a4041dff8874e5c9165c382f632407a",
            "placeholder": "​",
            "style": "IPY_MODEL_633335cae8544e8d805ddb37456c9f08",
            "value": "special_tokens_map.json: 100%"
          }
        },
        "8d7bc377835d44f4b02cf8fc439cce70": {
          "model_module": "@jupyter-widgets/controls",
          "model_module_version": "1.5.0",
          "model_name": "DescriptionStyleModel",
          "state": {
            "_model_module": "@jupyter-widgets/controls",
            "_model_module_version": "1.5.0",
            "_model_name": "DescriptionStyleModel",
            "_view_count": null,
            "_view_module": "@jupyter-widgets/base",
            "_view_module_version": "1.2.0",
            "_view_name": "StyleView",
            "description_width": ""
          }
        },
        "8e61da76766340f1b1b91b932b14a56b": {
          "model_module": "@jupyter-widgets/controls",
          "model_module_version": "1.5.0",
          "model_name": "DescriptionStyleModel",
          "state": {
            "_model_module": "@jupyter-widgets/controls",
            "_model_module_version": "1.5.0",
            "_model_name": "DescriptionStyleModel",
            "_view_count": null,
            "_view_module": "@jupyter-widgets/base",
            "_view_module_version": "1.2.0",
            "_view_name": "StyleView",
            "description_width": ""
          }
        },
        "8ecc1daddd1149b4b06d62032ada1ed4": {
          "model_module": "@jupyter-widgets/controls",
          "model_module_version": "1.5.0",
          "model_name": "ProgressStyleModel",
          "state": {
            "_model_module": "@jupyter-widgets/controls",
            "_model_module_version": "1.5.0",
            "_model_name": "ProgressStyleModel",
            "_view_count": null,
            "_view_module": "@jupyter-widgets/base",
            "_view_module_version": "1.2.0",
            "_view_name": "StyleView",
            "bar_color": null,
            "description_width": ""
          }
        },
        "8f8bda2283a34fe585f307507cda0524": {
          "model_module": "@jupyter-widgets/controls",
          "model_module_version": "1.5.0",
          "model_name": "HTMLModel",
          "state": {
            "_dom_classes": [],
            "_model_module": "@jupyter-widgets/controls",
            "_model_module_version": "1.5.0",
            "_model_name": "HTMLModel",
            "_view_count": null,
            "_view_module": "@jupyter-widgets/controls",
            "_view_module_version": "1.5.0",
            "_view_name": "HTMLView",
            "description": "",
            "description_tooltip": null,
            "layout": "IPY_MODEL_2cff133eba1540c1a332450e7b11d1ae",
            "placeholder": "​",
            "style": "IPY_MODEL_7975376ad419478ea3e500603e7a50e2",
            "value": "sentence_bert_config.json: 100%"
          }
        },
        "9030f1792ded4cb3b13072dc6c53cc98": {
          "model_module": "@jupyter-widgets/controls",
          "model_module_version": "1.5.0",
          "model_name": "HBoxModel",
          "state": {
            "_dom_classes": [],
            "_model_module": "@jupyter-widgets/controls",
            "_model_module_version": "1.5.0",
            "_model_name": "HBoxModel",
            "_view_count": null,
            "_view_module": "@jupyter-widgets/controls",
            "_view_module_version": "1.5.0",
            "_view_name": "HBoxView",
            "box_style": "",
            "children": [
              "IPY_MODEL_cb1effcf7ede4222ab1f891c3d6f841f",
              "IPY_MODEL_058d2fc1911143e79e5102fbc939f6b6",
              "IPY_MODEL_c801ee5f0a104359861c55bf85ae1e59"
            ],
            "layout": "IPY_MODEL_512c12cc61ea41698d1ef9a52c892a3c"
          }
        },
        "9203cbe723fa4cd7b4222b1542a9cea3": {
          "model_module": "@jupyter-widgets/base",
          "model_module_version": "1.2.0",
          "model_name": "LayoutModel",
          "state": {
            "_model_module": "@jupyter-widgets/base",
            "_model_module_version": "1.2.0",
            "_model_name": "LayoutModel",
            "_view_count": null,
            "_view_module": "@jupyter-widgets/base",
            "_view_module_version": "1.2.0",
            "_view_name": "LayoutView",
            "align_content": null,
            "align_items": null,
            "align_self": null,
            "border": null,
            "bottom": null,
            "display": null,
            "flex": null,
            "flex_flow": null,
            "grid_area": null,
            "grid_auto_columns": null,
            "grid_auto_flow": null,
            "grid_auto_rows": null,
            "grid_column": null,
            "grid_gap": null,
            "grid_row": null,
            "grid_template_areas": null,
            "grid_template_columns": null,
            "grid_template_rows": null,
            "height": null,
            "justify_content": null,
            "justify_items": null,
            "left": null,
            "margin": null,
            "max_height": null,
            "max_width": null,
            "min_height": null,
            "min_width": null,
            "object_fit": null,
            "object_position": null,
            "order": null,
            "overflow": null,
            "overflow_x": null,
            "overflow_y": null,
            "padding": null,
            "right": null,
            "top": null,
            "visibility": null,
            "width": null
          }
        },
        "928c688f6e474ccfb0ebd9c9628e09d0": {
          "model_module": "@jupyter-widgets/base",
          "model_module_version": "1.2.0",
          "model_name": "LayoutModel",
          "state": {
            "_model_module": "@jupyter-widgets/base",
            "_model_module_version": "1.2.0",
            "_model_name": "LayoutModel",
            "_view_count": null,
            "_view_module": "@jupyter-widgets/base",
            "_view_module_version": "1.2.0",
            "_view_name": "LayoutView",
            "align_content": null,
            "align_items": null,
            "align_self": null,
            "border": null,
            "bottom": null,
            "display": null,
            "flex": null,
            "flex_flow": null,
            "grid_area": null,
            "grid_auto_columns": null,
            "grid_auto_flow": null,
            "grid_auto_rows": null,
            "grid_column": null,
            "grid_gap": null,
            "grid_row": null,
            "grid_template_areas": null,
            "grid_template_columns": null,
            "grid_template_rows": null,
            "height": null,
            "justify_content": null,
            "justify_items": null,
            "left": null,
            "margin": null,
            "max_height": null,
            "max_width": null,
            "min_height": null,
            "min_width": null,
            "object_fit": null,
            "object_position": null,
            "order": null,
            "overflow": null,
            "overflow_x": null,
            "overflow_y": null,
            "padding": null,
            "right": null,
            "top": null,
            "visibility": null,
            "width": null
          }
        },
        "92a05db2a2fd4515abcc52d2dda5d76c": {
          "model_module": "@jupyter-widgets/base",
          "model_module_version": "1.2.0",
          "model_name": "LayoutModel",
          "state": {
            "_model_module": "@jupyter-widgets/base",
            "_model_module_version": "1.2.0",
            "_model_name": "LayoutModel",
            "_view_count": null,
            "_view_module": "@jupyter-widgets/base",
            "_view_module_version": "1.2.0",
            "_view_name": "LayoutView",
            "align_content": null,
            "align_items": null,
            "align_self": null,
            "border": null,
            "bottom": null,
            "display": null,
            "flex": null,
            "flex_flow": null,
            "grid_area": null,
            "grid_auto_columns": null,
            "grid_auto_flow": null,
            "grid_auto_rows": null,
            "grid_column": null,
            "grid_gap": null,
            "grid_row": null,
            "grid_template_areas": null,
            "grid_template_columns": null,
            "grid_template_rows": null,
            "height": null,
            "justify_content": null,
            "justify_items": null,
            "left": null,
            "margin": null,
            "max_height": null,
            "max_width": null,
            "min_height": null,
            "min_width": null,
            "object_fit": null,
            "object_position": null,
            "order": null,
            "overflow": null,
            "overflow_x": null,
            "overflow_y": null,
            "padding": null,
            "right": null,
            "top": null,
            "visibility": null,
            "width": null
          }
        },
        "92f74e81b5864eb8891a05a39ab1b4c9": {
          "model_module": "@jupyter-widgets/controls",
          "model_module_version": "1.5.0",
          "model_name": "DescriptionStyleModel",
          "state": {
            "_model_module": "@jupyter-widgets/controls",
            "_model_module_version": "1.5.0",
            "_model_name": "DescriptionStyleModel",
            "_view_count": null,
            "_view_module": "@jupyter-widgets/base",
            "_view_module_version": "1.2.0",
            "_view_name": "StyleView",
            "description_width": ""
          }
        },
        "95f23da2cf244e54a9b44e64fe316a9b": {
          "model_module": "@jupyter-widgets/base",
          "model_module_version": "1.2.0",
          "model_name": "LayoutModel",
          "state": {
            "_model_module": "@jupyter-widgets/base",
            "_model_module_version": "1.2.0",
            "_model_name": "LayoutModel",
            "_view_count": null,
            "_view_module": "@jupyter-widgets/base",
            "_view_module_version": "1.2.0",
            "_view_name": "LayoutView",
            "align_content": null,
            "align_items": null,
            "align_self": null,
            "border": null,
            "bottom": null,
            "display": null,
            "flex": null,
            "flex_flow": null,
            "grid_area": null,
            "grid_auto_columns": null,
            "grid_auto_flow": null,
            "grid_auto_rows": null,
            "grid_column": null,
            "grid_gap": null,
            "grid_row": null,
            "grid_template_areas": null,
            "grid_template_columns": null,
            "grid_template_rows": null,
            "height": null,
            "justify_content": null,
            "justify_items": null,
            "left": null,
            "margin": null,
            "max_height": null,
            "max_width": null,
            "min_height": null,
            "min_width": null,
            "object_fit": null,
            "object_position": null,
            "order": null,
            "overflow": null,
            "overflow_x": null,
            "overflow_y": null,
            "padding": null,
            "right": null,
            "top": null,
            "visibility": null,
            "width": null
          }
        },
        "963cd9d15a4e4a7693a46c10a1a95435": {
          "model_module": "@jupyter-widgets/controls",
          "model_module_version": "1.5.0",
          "model_name": "HTMLModel",
          "state": {
            "_dom_classes": [],
            "_model_module": "@jupyter-widgets/controls",
            "_model_module_version": "1.5.0",
            "_model_name": "HTMLModel",
            "_view_count": null,
            "_view_module": "@jupyter-widgets/controls",
            "_view_module_version": "1.5.0",
            "_view_name": "HTMLView",
            "description": "",
            "description_tooltip": null,
            "layout": "IPY_MODEL_0f38339bbd454fc18d1dd4cc360b2ace",
            "placeholder": "​",
            "style": "IPY_MODEL_f3dacff448f04fe49da3d34879fbe326",
            "value": " 112/112 [00:00&lt;00:00, 4.56kB/s]"
          }
        },
        "96bf47b28c154a8db5be33fd34118d5d": {
          "model_module": "@jupyter-widgets/controls",
          "model_module_version": "1.5.0",
          "model_name": "FloatProgressModel",
          "state": {
            "_dom_classes": [],
            "_model_module": "@jupyter-widgets/controls",
            "_model_module_version": "1.5.0",
            "_model_name": "FloatProgressModel",
            "_view_count": null,
            "_view_module": "@jupyter-widgets/controls",
            "_view_module_version": "1.5.0",
            "_view_name": "ProgressView",
            "bar_style": "success",
            "description": "",
            "description_tooltip": null,
            "layout": "IPY_MODEL_e17e4ec8ba9b4ffa831accc56b084780",
            "max": 125,
            "min": 0,
            "orientation": "horizontal",
            "style": "IPY_MODEL_c24feaced2ea4351ab14ccfc6534cb84",
            "value": 125
          }
        },
        "97df33060a994cf1975c05b0ed1590fd": {
          "model_module": "@jupyter-widgets/base",
          "model_module_version": "1.2.0",
          "model_name": "LayoutModel",
          "state": {
            "_model_module": "@jupyter-widgets/base",
            "_model_module_version": "1.2.0",
            "_model_name": "LayoutModel",
            "_view_count": null,
            "_view_module": "@jupyter-widgets/base",
            "_view_module_version": "1.2.0",
            "_view_name": "LayoutView",
            "align_content": null,
            "align_items": null,
            "align_self": null,
            "border": null,
            "bottom": null,
            "display": null,
            "flex": null,
            "flex_flow": null,
            "grid_area": null,
            "grid_auto_columns": null,
            "grid_auto_flow": null,
            "grid_auto_rows": null,
            "grid_column": null,
            "grid_gap": null,
            "grid_row": null,
            "grid_template_areas": null,
            "grid_template_columns": null,
            "grid_template_rows": null,
            "height": null,
            "justify_content": null,
            "justify_items": null,
            "left": null,
            "margin": null,
            "max_height": null,
            "max_width": null,
            "min_height": null,
            "min_width": null,
            "object_fit": null,
            "object_position": null,
            "order": null,
            "overflow": null,
            "overflow_x": null,
            "overflow_y": null,
            "padding": null,
            "right": null,
            "top": null,
            "visibility": null,
            "width": null
          }
        },
        "9957ce71ef514f2f88afb5bbc72e71db": {
          "model_module": "@jupyter-widgets/base",
          "model_module_version": "1.2.0",
          "model_name": "LayoutModel",
          "state": {
            "_model_module": "@jupyter-widgets/base",
            "_model_module_version": "1.2.0",
            "_model_name": "LayoutModel",
            "_view_count": null,
            "_view_module": "@jupyter-widgets/base",
            "_view_module_version": "1.2.0",
            "_view_name": "LayoutView",
            "align_content": null,
            "align_items": null,
            "align_self": null,
            "border": null,
            "bottom": null,
            "display": null,
            "flex": null,
            "flex_flow": null,
            "grid_area": null,
            "grid_auto_columns": null,
            "grid_auto_flow": null,
            "grid_auto_rows": null,
            "grid_column": null,
            "grid_gap": null,
            "grid_row": null,
            "grid_template_areas": null,
            "grid_template_columns": null,
            "grid_template_rows": null,
            "height": null,
            "justify_content": null,
            "justify_items": null,
            "left": null,
            "margin": null,
            "max_height": null,
            "max_width": null,
            "min_height": null,
            "min_width": null,
            "object_fit": null,
            "object_position": null,
            "order": null,
            "overflow": null,
            "overflow_x": null,
            "overflow_y": null,
            "padding": null,
            "right": null,
            "top": null,
            "visibility": null,
            "width": null
          }
        },
        "9a8a7a532663484cb27f96a0a6594d41": {
          "model_module": "@jupyter-widgets/controls",
          "model_module_version": "1.5.0",
          "model_name": "DescriptionStyleModel",
          "state": {
            "_model_module": "@jupyter-widgets/controls",
            "_model_module_version": "1.5.0",
            "_model_name": "DescriptionStyleModel",
            "_view_count": null,
            "_view_module": "@jupyter-widgets/base",
            "_view_module_version": "1.2.0",
            "_view_name": "StyleView",
            "description_width": ""
          }
        },
        "9bd4b3145675448a92495731e103e2b6": {
          "model_module": "@jupyter-widgets/controls",
          "model_module_version": "1.5.0",
          "model_name": "HBoxModel",
          "state": {
            "_dom_classes": [],
            "_model_module": "@jupyter-widgets/controls",
            "_model_module_version": "1.5.0",
            "_model_name": "HBoxModel",
            "_view_count": null,
            "_view_module": "@jupyter-widgets/controls",
            "_view_module_version": "1.5.0",
            "_view_name": "HBoxView",
            "box_style": "",
            "children": [
              "IPY_MODEL_a462d2a7fa7b417ba2d35be8ce64d5f7",
              "IPY_MODEL_a66d48e825354424836452ac91693851",
              "IPY_MODEL_e6ab0e3c3e834b2fa047969b44e42b44"
            ],
            "layout": "IPY_MODEL_17dd04791555473aa39e2c0884dc5b53"
          }
        },
        "9cfc940ae9474b9f8bf9d7db668c39cb": {
          "model_module": "@jupyter-widgets/base",
          "model_module_version": "1.2.0",
          "model_name": "LayoutModel",
          "state": {
            "_model_module": "@jupyter-widgets/base",
            "_model_module_version": "1.2.0",
            "_model_name": "LayoutModel",
            "_view_count": null,
            "_view_module": "@jupyter-widgets/base",
            "_view_module_version": "1.2.0",
            "_view_name": "LayoutView",
            "align_content": null,
            "align_items": null,
            "align_self": null,
            "border": null,
            "bottom": null,
            "display": null,
            "flex": null,
            "flex_flow": null,
            "grid_area": null,
            "grid_auto_columns": null,
            "grid_auto_flow": null,
            "grid_auto_rows": null,
            "grid_column": null,
            "grid_gap": null,
            "grid_row": null,
            "grid_template_areas": null,
            "grid_template_columns": null,
            "grid_template_rows": null,
            "height": null,
            "justify_content": null,
            "justify_items": null,
            "left": null,
            "margin": null,
            "max_height": null,
            "max_width": null,
            "min_height": null,
            "min_width": null,
            "object_fit": null,
            "object_position": null,
            "order": null,
            "overflow": null,
            "overflow_x": null,
            "overflow_y": null,
            "padding": null,
            "right": null,
            "top": null,
            "visibility": null,
            "width": null
          }
        },
        "9d783011156d46ee9965fe078beab7b3": {
          "model_module": "@jupyter-widgets/controls",
          "model_module_version": "1.5.0",
          "model_name": "ProgressStyleModel",
          "state": {
            "_model_module": "@jupyter-widgets/controls",
            "_model_module_version": "1.5.0",
            "_model_name": "ProgressStyleModel",
            "_view_count": null,
            "_view_module": "@jupyter-widgets/base",
            "_view_module_version": "1.2.0",
            "_view_name": "StyleView",
            "bar_color": null,
            "description_width": ""
          }
        },
        "9e4b78a655b64911bbdb20c6f3464e7c": {
          "model_module": "@jupyter-widgets/controls",
          "model_module_version": "1.5.0",
          "model_name": "FloatProgressModel",
          "state": {
            "_dom_classes": [],
            "_model_module": "@jupyter-widgets/controls",
            "_model_module_version": "1.5.0",
            "_model_name": "FloatProgressModel",
            "_view_count": null,
            "_view_module": "@jupyter-widgets/controls",
            "_view_module_version": "1.5.0",
            "_view_name": "ProgressView",
            "bar_style": "success",
            "description": "",
            "description_tooltip": null,
            "layout": "IPY_MODEL_f7c1d50f52584d53a7d31d5b505049ae",
            "max": 112,
            "min": 0,
            "orientation": "horizontal",
            "style": "IPY_MODEL_efa565f2c8f8432aa2a0cd1bbbf5a812",
            "value": 112
          }
        },
        "9e99166a57a7478c8f2267956cd95513": {
          "model_module": "@jupyter-widgets/base",
          "model_module_version": "1.2.0",
          "model_name": "LayoutModel",
          "state": {
            "_model_module": "@jupyter-widgets/base",
            "_model_module_version": "1.2.0",
            "_model_name": "LayoutModel",
            "_view_count": null,
            "_view_module": "@jupyter-widgets/base",
            "_view_module_version": "1.2.0",
            "_view_name": "LayoutView",
            "align_content": null,
            "align_items": null,
            "align_self": null,
            "border": null,
            "bottom": null,
            "display": null,
            "flex": null,
            "flex_flow": null,
            "grid_area": null,
            "grid_auto_columns": null,
            "grid_auto_flow": null,
            "grid_auto_rows": null,
            "grid_column": null,
            "grid_gap": null,
            "grid_row": null,
            "grid_template_areas": null,
            "grid_template_columns": null,
            "grid_template_rows": null,
            "height": null,
            "justify_content": null,
            "justify_items": null,
            "left": null,
            "margin": null,
            "max_height": null,
            "max_width": null,
            "min_height": null,
            "min_width": null,
            "object_fit": null,
            "object_position": null,
            "order": null,
            "overflow": null,
            "overflow_x": null,
            "overflow_y": null,
            "padding": null,
            "right": null,
            "top": null,
            "visibility": null,
            "width": null
          }
        },
        "9fb99b6da35c43b4b393dff30485439f": {
          "model_module": "@jupyter-widgets/base",
          "model_module_version": "1.2.0",
          "model_name": "LayoutModel",
          "state": {
            "_model_module": "@jupyter-widgets/base",
            "_model_module_version": "1.2.0",
            "_model_name": "LayoutModel",
            "_view_count": null,
            "_view_module": "@jupyter-widgets/base",
            "_view_module_version": "1.2.0",
            "_view_name": "LayoutView",
            "align_content": null,
            "align_items": null,
            "align_self": null,
            "border": null,
            "bottom": null,
            "display": null,
            "flex": null,
            "flex_flow": null,
            "grid_area": null,
            "grid_auto_columns": null,
            "grid_auto_flow": null,
            "grid_auto_rows": null,
            "grid_column": null,
            "grid_gap": null,
            "grid_row": null,
            "grid_template_areas": null,
            "grid_template_columns": null,
            "grid_template_rows": null,
            "height": null,
            "justify_content": null,
            "justify_items": null,
            "left": null,
            "margin": null,
            "max_height": null,
            "max_width": null,
            "min_height": null,
            "min_width": null,
            "object_fit": null,
            "object_position": null,
            "order": null,
            "overflow": null,
            "overflow_x": null,
            "overflow_y": null,
            "padding": null,
            "right": null,
            "top": null,
            "visibility": null,
            "width": null
          }
        },
        "9fe3b6c8d29642569bf82a9cd671e881": {
          "model_module": "@jupyter-widgets/base",
          "model_module_version": "1.2.0",
          "model_name": "LayoutModel",
          "state": {
            "_model_module": "@jupyter-widgets/base",
            "_model_module_version": "1.2.0",
            "_model_name": "LayoutModel",
            "_view_count": null,
            "_view_module": "@jupyter-widgets/base",
            "_view_module_version": "1.2.0",
            "_view_name": "LayoutView",
            "align_content": null,
            "align_items": null,
            "align_self": null,
            "border": null,
            "bottom": null,
            "display": null,
            "flex": null,
            "flex_flow": null,
            "grid_area": null,
            "grid_auto_columns": null,
            "grid_auto_flow": null,
            "grid_auto_rows": null,
            "grid_column": null,
            "grid_gap": null,
            "grid_row": null,
            "grid_template_areas": null,
            "grid_template_columns": null,
            "grid_template_rows": null,
            "height": null,
            "justify_content": null,
            "justify_items": null,
            "left": null,
            "margin": null,
            "max_height": null,
            "max_width": null,
            "min_height": null,
            "min_width": null,
            "object_fit": null,
            "object_position": null,
            "order": null,
            "overflow": null,
            "overflow_x": null,
            "overflow_y": null,
            "padding": null,
            "right": null,
            "top": null,
            "visibility": null,
            "width": null
          }
        },
        "a462d2a7fa7b417ba2d35be8ce64d5f7": {
          "model_module": "@jupyter-widgets/controls",
          "model_module_version": "1.5.0",
          "model_name": "HTMLModel",
          "state": {
            "_dom_classes": [],
            "_model_module": "@jupyter-widgets/controls",
            "_model_module_version": "1.5.0",
            "_model_name": "HTMLModel",
            "_view_count": null,
            "_view_module": "@jupyter-widgets/controls",
            "_view_module_version": "1.5.0",
            "_view_name": "HTMLView",
            "description": "",
            "description_tooltip": null,
            "layout": "IPY_MODEL_97df33060a994cf1975c05b0ed1590fd",
            "placeholder": "​",
            "style": "IPY_MODEL_c626e3a431f04d7b9d88e8745fb8d4c9",
            "value": "1_Pooling/config.json: 100%"
          }
        },
        "a65feb53ebe7442185d812f1cf92cbc9": {
          "model_module": "@jupyter-widgets/controls",
          "model_module_version": "1.5.0",
          "model_name": "HTMLModel",
          "state": {
            "_dom_classes": [],
            "_model_module": "@jupyter-widgets/controls",
            "_model_module_version": "1.5.0",
            "_model_name": "HTMLModel",
            "_view_count": null,
            "_view_module": "@jupyter-widgets/controls",
            "_view_module_version": "1.5.0",
            "_view_name": "HTMLView",
            "description": "",
            "description_tooltip": null,
            "layout": "IPY_MODEL_2a1ecf9bb5f94b89951b1e5cc515ac3f",
            "placeholder": "​",
            "style": "IPY_MODEL_479dcaecc7a0453a9093f689f0e5fb62",
            "value": " 90.9M/90.9M [00:01&lt;00:00, 109MB/s]"
          }
        },
        "a66d48e825354424836452ac91693851": {
          "model_module": "@jupyter-widgets/controls",
          "model_module_version": "1.5.0",
          "model_name": "FloatProgressModel",
          "state": {
            "_dom_classes": [],
            "_model_module": "@jupyter-widgets/controls",
            "_model_module_version": "1.5.0",
            "_model_name": "FloatProgressModel",
            "_view_count": null,
            "_view_module": "@jupyter-widgets/controls",
            "_view_module_version": "1.5.0",
            "_view_name": "ProgressView",
            "bar_style": "success",
            "description": "",
            "description_tooltip": null,
            "layout": "IPY_MODEL_e4d5a9ed65e84751b199138d4364aad6",
            "max": 190,
            "min": 0,
            "orientation": "horizontal",
            "style": "IPY_MODEL_edb5d28df46f458a9f9baa49397a3945",
            "value": 190
          }
        },
        "a9d02f8a68d74ae4842bf052296efb2e": {
          "model_module": "@jupyter-widgets/controls",
          "model_module_version": "1.5.0",
          "model_name": "HTMLModel",
          "state": {
            "_dom_classes": [],
            "_model_module": "@jupyter-widgets/controls",
            "_model_module_version": "1.5.0",
            "_model_name": "HTMLModel",
            "_view_count": null,
            "_view_module": "@jupyter-widgets/controls",
            "_view_module_version": "1.5.0",
            "_view_name": "HTMLView",
            "description": "",
            "description_tooltip": null,
            "layout": "IPY_MODEL_36ffaa401899454693fb8300bb65cfaf",
            "placeholder": "​",
            "style": "IPY_MODEL_f6a7cade429f4ccba24fc56e3e9288e8",
            "value": "tokenizer_config.json: 100%"
          }
        },
        "a9d5b861b9804a078140eab2bc3cb8d9": {
          "model_module": "@jupyter-widgets/base",
          "model_module_version": "1.2.0",
          "model_name": "LayoutModel",
          "state": {
            "_model_module": "@jupyter-widgets/base",
            "_model_module_version": "1.2.0",
            "_model_name": "LayoutModel",
            "_view_count": null,
            "_view_module": "@jupyter-widgets/base",
            "_view_module_version": "1.2.0",
            "_view_name": "LayoutView",
            "align_content": null,
            "align_items": null,
            "align_self": null,
            "border": null,
            "bottom": null,
            "display": null,
            "flex": null,
            "flex_flow": null,
            "grid_area": null,
            "grid_auto_columns": null,
            "grid_auto_flow": null,
            "grid_auto_rows": null,
            "grid_column": null,
            "grid_gap": null,
            "grid_row": null,
            "grid_template_areas": null,
            "grid_template_columns": null,
            "grid_template_rows": null,
            "height": null,
            "justify_content": null,
            "justify_items": null,
            "left": null,
            "margin": null,
            "max_height": null,
            "max_width": null,
            "min_height": null,
            "min_width": null,
            "object_fit": null,
            "object_position": null,
            "order": null,
            "overflow": null,
            "overflow_x": null,
            "overflow_y": null,
            "padding": null,
            "right": null,
            "top": null,
            "visibility": null,
            "width": null
          }
        },
        "aeee5e27f1894bf89d290fcf6483229b": {
          "model_module": "@jupyter-widgets/controls",
          "model_module_version": "1.5.0",
          "model_name": "HBoxModel",
          "state": {
            "_dom_classes": [],
            "_model_module": "@jupyter-widgets/controls",
            "_model_module_version": "1.5.0",
            "_model_name": "HBoxModel",
            "_view_count": null,
            "_view_module": "@jupyter-widgets/controls",
            "_view_module_version": "1.5.0",
            "_view_name": "HBoxView",
            "box_style": "",
            "children": [
              "IPY_MODEL_494375ef238743168ed4177a85bc1dc6",
              "IPY_MODEL_0e580b598b2944a38414738488ffb38c",
              "IPY_MODEL_f07cd8676e314adc9af000400e503b09"
            ],
            "layout": "IPY_MODEL_9fe3b6c8d29642569bf82a9cd671e881"
          }
        },
        "af10ed1ec41d43b1b43e2cb9941f3d59": {
          "model_module": "@jupyter-widgets/controls",
          "model_module_version": "1.5.0",
          "model_name": "DescriptionStyleModel",
          "state": {
            "_model_module": "@jupyter-widgets/controls",
            "_model_module_version": "1.5.0",
            "_model_name": "DescriptionStyleModel",
            "_view_count": null,
            "_view_module": "@jupyter-widgets/base",
            "_view_module_version": "1.2.0",
            "_view_name": "StyleView",
            "description_width": ""
          }
        },
        "af52b0265dea4972a252a9bf5ab22e3a": {
          "model_module": "@jupyter-widgets/base",
          "model_module_version": "1.2.0",
          "model_name": "LayoutModel",
          "state": {
            "_model_module": "@jupyter-widgets/base",
            "_model_module_version": "1.2.0",
            "_model_name": "LayoutModel",
            "_view_count": null,
            "_view_module": "@jupyter-widgets/base",
            "_view_module_version": "1.2.0",
            "_view_name": "LayoutView",
            "align_content": null,
            "align_items": null,
            "align_self": null,
            "border": null,
            "bottom": null,
            "display": null,
            "flex": null,
            "flex_flow": null,
            "grid_area": null,
            "grid_auto_columns": null,
            "grid_auto_flow": null,
            "grid_auto_rows": null,
            "grid_column": null,
            "grid_gap": null,
            "grid_row": null,
            "grid_template_areas": null,
            "grid_template_columns": null,
            "grid_template_rows": null,
            "height": null,
            "justify_content": null,
            "justify_items": null,
            "left": null,
            "margin": null,
            "max_height": null,
            "max_width": null,
            "min_height": null,
            "min_width": null,
            "object_fit": null,
            "object_position": null,
            "order": null,
            "overflow": null,
            "overflow_x": null,
            "overflow_y": null,
            "padding": null,
            "right": null,
            "top": null,
            "visibility": null,
            "width": null
          }
        },
        "b093fab9129346ed927fcee6506f8c72": {
          "model_module": "@jupyter-widgets/controls",
          "model_module_version": "1.5.0",
          "model_name": "ProgressStyleModel",
          "state": {
            "_model_module": "@jupyter-widgets/controls",
            "_model_module_version": "1.5.0",
            "_model_name": "ProgressStyleModel",
            "_view_count": null,
            "_view_module": "@jupyter-widgets/base",
            "_view_module_version": "1.2.0",
            "_view_name": "StyleView",
            "bar_color": null,
            "description_width": ""
          }
        },
        "b5e07a0ddd26408db63400408f8c4821": {
          "model_module": "@jupyter-widgets/controls",
          "model_module_version": "1.5.0",
          "model_name": "ProgressStyleModel",
          "state": {
            "_model_module": "@jupyter-widgets/controls",
            "_model_module_version": "1.5.0",
            "_model_name": "ProgressStyleModel",
            "_view_count": null,
            "_view_module": "@jupyter-widgets/base",
            "_view_module_version": "1.2.0",
            "_view_name": "StyleView",
            "bar_color": null,
            "description_width": ""
          }
        },
        "b60c94cb64f447508de5098df1ff5e28": {
          "model_module": "@jupyter-widgets/controls",
          "model_module_version": "1.5.0",
          "model_name": "DescriptionStyleModel",
          "state": {
            "_model_module": "@jupyter-widgets/controls",
            "_model_module_version": "1.5.0",
            "_model_name": "DescriptionStyleModel",
            "_view_count": null,
            "_view_module": "@jupyter-widgets/base",
            "_view_module_version": "1.2.0",
            "_view_name": "StyleView",
            "description_width": ""
          }
        },
        "ba52de7f8c154c60a424adec50a3ece6": {
          "model_module": "@jupyter-widgets/controls",
          "model_module_version": "1.5.0",
          "model_name": "HBoxModel",
          "state": {
            "_dom_classes": [],
            "_model_module": "@jupyter-widgets/controls",
            "_model_module_version": "1.5.0",
            "_model_name": "HBoxModel",
            "_view_count": null,
            "_view_module": "@jupyter-widgets/controls",
            "_view_module_version": "1.5.0",
            "_view_name": "HBoxView",
            "box_style": "",
            "children": [
              "IPY_MODEL_4ff4dddf754e430b8101df6376966c39",
              "IPY_MODEL_c1275717dfd347869081cacd5abe24a1",
              "IPY_MODEL_ed4ba3c136794c2bb8b2c734f86a62e2"
            ],
            "layout": "IPY_MODEL_0dfbd366e7bc4e43b92dbd0767e9d8e8"
          }
        },
        "bb5817bff01d4187887ef9fcefbc6a74": {
          "model_module": "@jupyter-widgets/controls",
          "model_module_version": "1.5.0",
          "model_name": "FloatProgressModel",
          "state": {
            "_dom_classes": [],
            "_model_module": "@jupyter-widgets/controls",
            "_model_module_version": "1.5.0",
            "_model_name": "FloatProgressModel",
            "_view_count": null,
            "_view_module": "@jupyter-widgets/controls",
            "_view_module_version": "1.5.0",
            "_view_name": "ProgressView",
            "bar_style": "success",
            "description": "",
            "description_tooltip": null,
            "layout": "IPY_MODEL_68302c153add45de9876b4212dacc63e",
            "max": 52,
            "min": 0,
            "orientation": "horizontal",
            "style": "IPY_MODEL_8ecc1daddd1149b4b06d62032ada1ed4",
            "value": 52
          }
        },
        "bc32af56b8dc48e79a964707afdf42d9": {
          "model_module": "@jupyter-widgets/controls",
          "model_module_version": "1.5.0",
          "model_name": "HBoxModel",
          "state": {
            "_dom_classes": [],
            "_model_module": "@jupyter-widgets/controls",
            "_model_module_version": "1.5.0",
            "_model_name": "HBoxModel",
            "_view_count": null,
            "_view_module": "@jupyter-widgets/controls",
            "_view_module_version": "1.5.0",
            "_view_name": "HBoxView",
            "box_style": "",
            "children": [
              "IPY_MODEL_8d082854c7ec486f8710aea11858f5f4",
              "IPY_MODEL_96bf47b28c154a8db5be33fd34118d5d",
              "IPY_MODEL_5fc47b86920941c29082bf3ad5872f13"
            ],
            "layout": "IPY_MODEL_9cfc940ae9474b9f8bf9d7db668c39cb"
          }
        },
        "bcc5a71be5844aa4b24de91e3e901657": {
          "model_module": "@jupyter-widgets/base",
          "model_module_version": "1.2.0",
          "model_name": "LayoutModel",
          "state": {
            "_model_module": "@jupyter-widgets/base",
            "_model_module_version": "1.2.0",
            "_model_name": "LayoutModel",
            "_view_count": null,
            "_view_module": "@jupyter-widgets/base",
            "_view_module_version": "1.2.0",
            "_view_name": "LayoutView",
            "align_content": null,
            "align_items": null,
            "align_self": null,
            "border": null,
            "bottom": null,
            "display": null,
            "flex": null,
            "flex_flow": null,
            "grid_area": null,
            "grid_auto_columns": null,
            "grid_auto_flow": null,
            "grid_auto_rows": null,
            "grid_column": null,
            "grid_gap": null,
            "grid_row": null,
            "grid_template_areas": null,
            "grid_template_columns": null,
            "grid_template_rows": null,
            "height": null,
            "justify_content": null,
            "justify_items": null,
            "left": null,
            "margin": null,
            "max_height": null,
            "max_width": null,
            "min_height": null,
            "min_width": null,
            "object_fit": null,
            "object_position": null,
            "order": null,
            "overflow": null,
            "overflow_x": null,
            "overflow_y": null,
            "padding": null,
            "right": null,
            "top": null,
            "visibility": null,
            "width": null
          }
        },
        "bf4362364a4c4eb6941d902116c3b89e": {
          "model_module": "@jupyter-widgets/base",
          "model_module_version": "1.2.0",
          "model_name": "LayoutModel",
          "state": {
            "_model_module": "@jupyter-widgets/base",
            "_model_module_version": "1.2.0",
            "_model_name": "LayoutModel",
            "_view_count": null,
            "_view_module": "@jupyter-widgets/base",
            "_view_module_version": "1.2.0",
            "_view_name": "LayoutView",
            "align_content": null,
            "align_items": null,
            "align_self": null,
            "border": null,
            "bottom": null,
            "display": null,
            "flex": null,
            "flex_flow": null,
            "grid_area": null,
            "grid_auto_columns": null,
            "grid_auto_flow": null,
            "grid_auto_rows": null,
            "grid_column": null,
            "grid_gap": null,
            "grid_row": null,
            "grid_template_areas": null,
            "grid_template_columns": null,
            "grid_template_rows": null,
            "height": null,
            "justify_content": null,
            "justify_items": null,
            "left": null,
            "margin": null,
            "max_height": null,
            "max_width": null,
            "min_height": null,
            "min_width": null,
            "object_fit": null,
            "object_position": null,
            "order": null,
            "overflow": null,
            "overflow_x": null,
            "overflow_y": null,
            "padding": null,
            "right": null,
            "top": null,
            "visibility": null,
            "width": null
          }
        },
        "bf4e0fd93d7b418eb819eff419b695f3": {
          "model_module": "@jupyter-widgets/controls",
          "model_module_version": "1.5.0",
          "model_name": "DescriptionStyleModel",
          "state": {
            "_model_module": "@jupyter-widgets/controls",
            "_model_module_version": "1.5.0",
            "_model_name": "DescriptionStyleModel",
            "_view_count": null,
            "_view_module": "@jupyter-widgets/base",
            "_view_module_version": "1.2.0",
            "_view_name": "StyleView",
            "description_width": ""
          }
        },
        "bfa347faed8144b18f4391d3220a1620": {
          "model_module": "@jupyter-widgets/controls",
          "model_module_version": "1.5.0",
          "model_name": "HBoxModel",
          "state": {
            "_dom_classes": [],
            "_model_module": "@jupyter-widgets/controls",
            "_model_module_version": "1.5.0",
            "_model_name": "HBoxModel",
            "_view_count": null,
            "_view_module": "@jupyter-widgets/controls",
            "_view_module_version": "1.5.0",
            "_view_name": "HBoxView",
            "box_style": "",
            "children": [
              "IPY_MODEL_15bc27c8b1c44ed1b3c445e22cfda06f",
              "IPY_MODEL_717badedb2f04654a04a66ca66082d93",
              "IPY_MODEL_3cd8339a0fd14180912e9a74404a0b6e"
            ],
            "layout": "IPY_MODEL_928c688f6e474ccfb0ebd9c9628e09d0"
          }
        },
        "c1275717dfd347869081cacd5abe24a1": {
          "model_module": "@jupyter-widgets/controls",
          "model_module_version": "1.5.0",
          "model_name": "FloatProgressModel",
          "state": {
            "_dom_classes": [],
            "_model_module": "@jupyter-widgets/controls",
            "_model_module_version": "1.5.0",
            "_model_name": "FloatProgressModel",
            "_view_count": null,
            "_view_module": "@jupyter-widgets/controls",
            "_view_module_version": "1.5.0",
            "_view_name": "ProgressView",
            "bar_style": "success",
            "description": "",
            "description_tooltip": null,
            "layout": "IPY_MODEL_336d229cecea41848fee7e715bc4f17a",
            "max": 231508,
            "min": 0,
            "orientation": "horizontal",
            "style": "IPY_MODEL_0802a0f73e0c4d519a72ab61551381b6",
            "value": 231508
          }
        },
        "c16eaad3b4934c61876a8684fcf83916": {
          "model_module": "@jupyter-widgets/base",
          "model_module_version": "1.2.0",
          "model_name": "LayoutModel",
          "state": {
            "_model_module": "@jupyter-widgets/base",
            "_model_module_version": "1.2.0",
            "_model_name": "LayoutModel",
            "_view_count": null,
            "_view_module": "@jupyter-widgets/base",
            "_view_module_version": "1.2.0",
            "_view_name": "LayoutView",
            "align_content": null,
            "align_items": null,
            "align_self": null,
            "border": null,
            "bottom": null,
            "display": null,
            "flex": null,
            "flex_flow": null,
            "grid_area": null,
            "grid_auto_columns": null,
            "grid_auto_flow": null,
            "grid_auto_rows": null,
            "grid_column": null,
            "grid_gap": null,
            "grid_row": null,
            "grid_template_areas": null,
            "grid_template_columns": null,
            "grid_template_rows": null,
            "height": null,
            "justify_content": null,
            "justify_items": null,
            "left": null,
            "margin": null,
            "max_height": null,
            "max_width": null,
            "min_height": null,
            "min_width": null,
            "object_fit": null,
            "object_position": null,
            "order": null,
            "overflow": null,
            "overflow_x": null,
            "overflow_y": null,
            "padding": null,
            "right": null,
            "top": null,
            "visibility": null,
            "width": null
          }
        },
        "c184292202d4472e83d51b18699aefcd": {
          "model_module": "@jupyter-widgets/base",
          "model_module_version": "1.2.0",
          "model_name": "LayoutModel",
          "state": {
            "_model_module": "@jupyter-widgets/base",
            "_model_module_version": "1.2.0",
            "_model_name": "LayoutModel",
            "_view_count": null,
            "_view_module": "@jupyter-widgets/base",
            "_view_module_version": "1.2.0",
            "_view_name": "LayoutView",
            "align_content": null,
            "align_items": null,
            "align_self": null,
            "border": null,
            "bottom": null,
            "display": null,
            "flex": null,
            "flex_flow": null,
            "grid_area": null,
            "grid_auto_columns": null,
            "grid_auto_flow": null,
            "grid_auto_rows": null,
            "grid_column": null,
            "grid_gap": null,
            "grid_row": null,
            "grid_template_areas": null,
            "grid_template_columns": null,
            "grid_template_rows": null,
            "height": null,
            "justify_content": null,
            "justify_items": null,
            "left": null,
            "margin": null,
            "max_height": null,
            "max_width": null,
            "min_height": null,
            "min_width": null,
            "object_fit": null,
            "object_position": null,
            "order": null,
            "overflow": null,
            "overflow_x": null,
            "overflow_y": null,
            "padding": null,
            "right": null,
            "top": null,
            "visibility": null,
            "width": null
          }
        },
        "c216b7146a5348ccb432ce1467f997a6": {
          "model_module": "@jupyter-widgets/base",
          "model_module_version": "1.2.0",
          "model_name": "LayoutModel",
          "state": {
            "_model_module": "@jupyter-widgets/base",
            "_model_module_version": "1.2.0",
            "_model_name": "LayoutModel",
            "_view_count": null,
            "_view_module": "@jupyter-widgets/base",
            "_view_module_version": "1.2.0",
            "_view_name": "LayoutView",
            "align_content": null,
            "align_items": null,
            "align_self": null,
            "border": null,
            "bottom": null,
            "display": null,
            "flex": null,
            "flex_flow": null,
            "grid_area": null,
            "grid_auto_columns": null,
            "grid_auto_flow": null,
            "grid_auto_rows": null,
            "grid_column": null,
            "grid_gap": null,
            "grid_row": null,
            "grid_template_areas": null,
            "grid_template_columns": null,
            "grid_template_rows": null,
            "height": null,
            "justify_content": null,
            "justify_items": null,
            "left": null,
            "margin": null,
            "max_height": null,
            "max_width": null,
            "min_height": null,
            "min_width": null,
            "object_fit": null,
            "object_position": null,
            "order": null,
            "overflow": null,
            "overflow_x": null,
            "overflow_y": null,
            "padding": null,
            "right": null,
            "top": null,
            "visibility": null,
            "width": null
          }
        },
        "c22e7c138de14515a4a34b0854775e8a": {
          "model_module": "@jupyter-widgets/controls",
          "model_module_version": "1.5.0",
          "model_name": "HTMLModel",
          "state": {
            "_dom_classes": [],
            "_model_module": "@jupyter-widgets/controls",
            "_model_module_version": "1.5.0",
            "_model_name": "HTMLModel",
            "_view_count": null,
            "_view_module": "@jupyter-widgets/controls",
            "_view_module_version": "1.5.0",
            "_view_name": "HTMLView",
            "description": "",
            "description_tooltip": null,
            "layout": "IPY_MODEL_5cdedfea2965439fa014d591d849ac50",
            "placeholder": "​",
            "style": "IPY_MODEL_105748bda9d8423db6048229842928d2",
            "value": " 94.6k/94.6k [00:00&lt;00:00, 1.79MB/s]"
          }
        },
        "c24feaced2ea4351ab14ccfc6534cb84": {
          "model_module": "@jupyter-widgets/controls",
          "model_module_version": "1.5.0",
          "model_name": "ProgressStyleModel",
          "state": {
            "_model_module": "@jupyter-widgets/controls",
            "_model_module_version": "1.5.0",
            "_model_name": "ProgressStyleModel",
            "_view_count": null,
            "_view_module": "@jupyter-widgets/base",
            "_view_module_version": "1.2.0",
            "_view_name": "StyleView",
            "bar_color": null,
            "description_width": ""
          }
        },
        "c2efab9df1354d6b96029a7f21d6f106": {
          "model_module": "@jupyter-widgets/controls",
          "model_module_version": "1.5.0",
          "model_name": "ProgressStyleModel",
          "state": {
            "_model_module": "@jupyter-widgets/controls",
            "_model_module_version": "1.5.0",
            "_model_name": "ProgressStyleModel",
            "_view_count": null,
            "_view_module": "@jupyter-widgets/base",
            "_view_module_version": "1.2.0",
            "_view_name": "StyleView",
            "bar_color": null,
            "description_width": ""
          }
        },
        "c4300a6fea0041eeb96928cd53ef0e7d": {
          "model_module": "@jupyter-widgets/base",
          "model_module_version": "1.2.0",
          "model_name": "LayoutModel",
          "state": {
            "_model_module": "@jupyter-widgets/base",
            "_model_module_version": "1.2.0",
            "_model_name": "LayoutModel",
            "_view_count": null,
            "_view_module": "@jupyter-widgets/base",
            "_view_module_version": "1.2.0",
            "_view_name": "LayoutView",
            "align_content": null,
            "align_items": null,
            "align_self": null,
            "border": null,
            "bottom": null,
            "display": null,
            "flex": null,
            "flex_flow": null,
            "grid_area": null,
            "grid_auto_columns": null,
            "grid_auto_flow": null,
            "grid_auto_rows": null,
            "grid_column": null,
            "grid_gap": null,
            "grid_row": null,
            "grid_template_areas": null,
            "grid_template_columns": null,
            "grid_template_rows": null,
            "height": null,
            "justify_content": null,
            "justify_items": null,
            "left": null,
            "margin": null,
            "max_height": null,
            "max_width": null,
            "min_height": null,
            "min_width": null,
            "object_fit": null,
            "object_position": null,
            "order": null,
            "overflow": null,
            "overflow_x": null,
            "overflow_y": null,
            "padding": null,
            "right": null,
            "top": null,
            "visibility": null,
            "width": null
          }
        },
        "c43955658d354e1f9320c7bd2c66a57f": {
          "model_module": "@jupyter-widgets/base",
          "model_module_version": "1.2.0",
          "model_name": "LayoutModel",
          "state": {
            "_model_module": "@jupyter-widgets/base",
            "_model_module_version": "1.2.0",
            "_model_name": "LayoutModel",
            "_view_count": null,
            "_view_module": "@jupyter-widgets/base",
            "_view_module_version": "1.2.0",
            "_view_name": "LayoutView",
            "align_content": null,
            "align_items": null,
            "align_self": null,
            "border": null,
            "bottom": null,
            "display": null,
            "flex": null,
            "flex_flow": null,
            "grid_area": null,
            "grid_auto_columns": null,
            "grid_auto_flow": null,
            "grid_auto_rows": null,
            "grid_column": null,
            "grid_gap": null,
            "grid_row": null,
            "grid_template_areas": null,
            "grid_template_columns": null,
            "grid_template_rows": null,
            "height": null,
            "justify_content": null,
            "justify_items": null,
            "left": null,
            "margin": null,
            "max_height": null,
            "max_width": null,
            "min_height": null,
            "min_width": null,
            "object_fit": null,
            "object_position": null,
            "order": null,
            "overflow": null,
            "overflow_x": null,
            "overflow_y": null,
            "padding": null,
            "right": null,
            "top": null,
            "visibility": null,
            "width": null
          }
        },
        "c4d81836a2dc442da8a0fc330815e6f9": {
          "model_module": "@jupyter-widgets/controls",
          "model_module_version": "1.5.0",
          "model_name": "DescriptionStyleModel",
          "state": {
            "_model_module": "@jupyter-widgets/controls",
            "_model_module_version": "1.5.0",
            "_model_name": "DescriptionStyleModel",
            "_view_count": null,
            "_view_module": "@jupyter-widgets/base",
            "_view_module_version": "1.2.0",
            "_view_name": "StyleView",
            "description_width": ""
          }
        },
        "c626e3a431f04d7b9d88e8745fb8d4c9": {
          "model_module": "@jupyter-widgets/controls",
          "model_module_version": "1.5.0",
          "model_name": "DescriptionStyleModel",
          "state": {
            "_model_module": "@jupyter-widgets/controls",
            "_model_module_version": "1.5.0",
            "_model_name": "DescriptionStyleModel",
            "_view_count": null,
            "_view_module": "@jupyter-widgets/base",
            "_view_module_version": "1.2.0",
            "_view_name": "StyleView",
            "description_width": ""
          }
        },
        "c801ee5f0a104359861c55bf85ae1e59": {
          "model_module": "@jupyter-widgets/controls",
          "model_module_version": "1.5.0",
          "model_name": "HTMLModel",
          "state": {
            "_dom_classes": [],
            "_model_module": "@jupyter-widgets/controls",
            "_model_module_version": "1.5.0",
            "_model_name": "HTMLModel",
            "_view_count": null,
            "_view_module": "@jupyter-widgets/controls",
            "_view_module_version": "1.5.0",
            "_view_name": "HTMLView",
            "description": "",
            "description_tooltip": null,
            "layout": "IPY_MODEL_1fc0a49aa8b54ebc8b04cee4df62766f",
            "placeholder": "​",
            "style": "IPY_MODEL_9a8a7a532663484cb27f96a0a6594d41",
            "value": " 794/794 [00:00&lt;00:00, 21.0kB/s]"
          }
        },
        "cb1effcf7ede4222ab1f891c3d6f841f": {
          "model_module": "@jupyter-widgets/controls",
          "model_module_version": "1.5.0",
          "model_name": "HTMLModel",
          "state": {
            "_dom_classes": [],
            "_model_module": "@jupyter-widgets/controls",
            "_model_module_version": "1.5.0",
            "_model_name": "HTMLModel",
            "_view_count": null,
            "_view_module": "@jupyter-widgets/controls",
            "_view_module_version": "1.5.0",
            "_view_name": "HTMLView",
            "description": "",
            "description_tooltip": null,
            "layout": "IPY_MODEL_95f23da2cf244e54a9b44e64fe316a9b",
            "placeholder": "​",
            "style": "IPY_MODEL_8e61da76766340f1b1b91b932b14a56b",
            "value": "config.json: 100%"
          }
        },
        "d5ec698528f946d8a11d5e13416fd0f6": {
          "model_module": "@jupyter-widgets/controls",
          "model_module_version": "1.5.0",
          "model_name": "DescriptionStyleModel",
          "state": {
            "_model_module": "@jupyter-widgets/controls",
            "_model_module_version": "1.5.0",
            "_model_name": "DescriptionStyleModel",
            "_view_count": null,
            "_view_module": "@jupyter-widgets/base",
            "_view_module_version": "1.2.0",
            "_view_name": "StyleView",
            "description_width": ""
          }
        },
        "d957727f8a374a50971377a7d3c02e0a": {
          "model_module": "@jupyter-widgets/controls",
          "model_module_version": "1.5.0",
          "model_name": "DescriptionStyleModel",
          "state": {
            "_model_module": "@jupyter-widgets/controls",
            "_model_module_version": "1.5.0",
            "_model_name": "DescriptionStyleModel",
            "_view_count": null,
            "_view_module": "@jupyter-widgets/base",
            "_view_module_version": "1.2.0",
            "_view_name": "StyleView",
            "description_width": ""
          }
        },
        "dae13cdecc214d42801bc0bfb5bd5e34": {
          "model_module": "@jupyter-widgets/base",
          "model_module_version": "1.2.0",
          "model_name": "LayoutModel",
          "state": {
            "_model_module": "@jupyter-widgets/base",
            "_model_module_version": "1.2.0",
            "_model_name": "LayoutModel",
            "_view_count": null,
            "_view_module": "@jupyter-widgets/base",
            "_view_module_version": "1.2.0",
            "_view_name": "LayoutView",
            "align_content": null,
            "align_items": null,
            "align_self": null,
            "border": null,
            "bottom": null,
            "display": null,
            "flex": null,
            "flex_flow": null,
            "grid_area": null,
            "grid_auto_columns": null,
            "grid_auto_flow": null,
            "grid_auto_rows": null,
            "grid_column": null,
            "grid_gap": null,
            "grid_row": null,
            "grid_template_areas": null,
            "grid_template_columns": null,
            "grid_template_rows": null,
            "height": null,
            "justify_content": null,
            "justify_items": null,
            "left": null,
            "margin": null,
            "max_height": null,
            "max_width": null,
            "min_height": null,
            "min_width": null,
            "object_fit": null,
            "object_position": null,
            "order": null,
            "overflow": null,
            "overflow_x": null,
            "overflow_y": null,
            "padding": null,
            "right": null,
            "top": null,
            "visibility": null,
            "width": null
          }
        },
        "dd376d129e9546468db5b0e398277f49": {
          "model_module": "@jupyter-widgets/base",
          "model_module_version": "1.2.0",
          "model_name": "LayoutModel",
          "state": {
            "_model_module": "@jupyter-widgets/base",
            "_model_module_version": "1.2.0",
            "_model_name": "LayoutModel",
            "_view_count": null,
            "_view_module": "@jupyter-widgets/base",
            "_view_module_version": "1.2.0",
            "_view_name": "LayoutView",
            "align_content": null,
            "align_items": null,
            "align_self": null,
            "border": null,
            "bottom": null,
            "display": null,
            "flex": null,
            "flex_flow": null,
            "grid_area": null,
            "grid_auto_columns": null,
            "grid_auto_flow": null,
            "grid_auto_rows": null,
            "grid_column": null,
            "grid_gap": null,
            "grid_row": null,
            "grid_template_areas": null,
            "grid_template_columns": null,
            "grid_template_rows": null,
            "height": null,
            "justify_content": null,
            "justify_items": null,
            "left": null,
            "margin": null,
            "max_height": null,
            "max_width": null,
            "min_height": null,
            "min_width": null,
            "object_fit": null,
            "object_position": null,
            "order": null,
            "overflow": null,
            "overflow_x": null,
            "overflow_y": null,
            "padding": null,
            "right": null,
            "top": null,
            "visibility": null,
            "width": null
          }
        },
        "dde241b9f7d84bc280ed0be566fd30c7": {
          "model_module": "@jupyter-widgets/base",
          "model_module_version": "1.2.0",
          "model_name": "LayoutModel",
          "state": {
            "_model_module": "@jupyter-widgets/base",
            "_model_module_version": "1.2.0",
            "_model_name": "LayoutModel",
            "_view_count": null,
            "_view_module": "@jupyter-widgets/base",
            "_view_module_version": "1.2.0",
            "_view_name": "LayoutView",
            "align_content": null,
            "align_items": null,
            "align_self": null,
            "border": null,
            "bottom": null,
            "display": null,
            "flex": null,
            "flex_flow": null,
            "grid_area": null,
            "grid_auto_columns": null,
            "grid_auto_flow": null,
            "grid_auto_rows": null,
            "grid_column": null,
            "grid_gap": null,
            "grid_row": null,
            "grid_template_areas": null,
            "grid_template_columns": null,
            "grid_template_rows": null,
            "height": null,
            "justify_content": null,
            "justify_items": null,
            "left": null,
            "margin": null,
            "max_height": null,
            "max_width": null,
            "min_height": null,
            "min_width": null,
            "object_fit": null,
            "object_position": null,
            "order": null,
            "overflow": null,
            "overflow_x": null,
            "overflow_y": null,
            "padding": null,
            "right": null,
            "top": null,
            "visibility": null,
            "width": null
          }
        },
        "e17e4ec8ba9b4ffa831accc56b084780": {
          "model_module": "@jupyter-widgets/base",
          "model_module_version": "1.2.0",
          "model_name": "LayoutModel",
          "state": {
            "_model_module": "@jupyter-widgets/base",
            "_model_module_version": "1.2.0",
            "_model_name": "LayoutModel",
            "_view_count": null,
            "_view_module": "@jupyter-widgets/base",
            "_view_module_version": "1.2.0",
            "_view_name": "LayoutView",
            "align_content": null,
            "align_items": null,
            "align_self": null,
            "border": null,
            "bottom": null,
            "display": null,
            "flex": null,
            "flex_flow": null,
            "grid_area": null,
            "grid_auto_columns": null,
            "grid_auto_flow": null,
            "grid_auto_rows": null,
            "grid_column": null,
            "grid_gap": null,
            "grid_row": null,
            "grid_template_areas": null,
            "grid_template_columns": null,
            "grid_template_rows": null,
            "height": null,
            "justify_content": null,
            "justify_items": null,
            "left": null,
            "margin": null,
            "max_height": null,
            "max_width": null,
            "min_height": null,
            "min_width": null,
            "object_fit": null,
            "object_position": null,
            "order": null,
            "overflow": null,
            "overflow_x": null,
            "overflow_y": null,
            "padding": null,
            "right": null,
            "top": null,
            "visibility": null,
            "width": null
          }
        },
        "e4063cf1ecf04e7a8d92ec6373bae9c5": {
          "model_module": "@jupyter-widgets/controls",
          "model_module_version": "1.5.0",
          "model_name": "ProgressStyleModel",
          "state": {
            "_model_module": "@jupyter-widgets/controls",
            "_model_module_version": "1.5.0",
            "_model_name": "ProgressStyleModel",
            "_view_count": null,
            "_view_module": "@jupyter-widgets/base",
            "_view_module_version": "1.2.0",
            "_view_name": "StyleView",
            "bar_color": null,
            "description_width": ""
          }
        },
        "e4d5a9ed65e84751b199138d4364aad6": {
          "model_module": "@jupyter-widgets/base",
          "model_module_version": "1.2.0",
          "model_name": "LayoutModel",
          "state": {
            "_model_module": "@jupyter-widgets/base",
            "_model_module_version": "1.2.0",
            "_model_name": "LayoutModel",
            "_view_count": null,
            "_view_module": "@jupyter-widgets/base",
            "_view_module_version": "1.2.0",
            "_view_name": "LayoutView",
            "align_content": null,
            "align_items": null,
            "align_self": null,
            "border": null,
            "bottom": null,
            "display": null,
            "flex": null,
            "flex_flow": null,
            "grid_area": null,
            "grid_auto_columns": null,
            "grid_auto_flow": null,
            "grid_auto_rows": null,
            "grid_column": null,
            "grid_gap": null,
            "grid_row": null,
            "grid_template_areas": null,
            "grid_template_columns": null,
            "grid_template_rows": null,
            "height": null,
            "justify_content": null,
            "justify_items": null,
            "left": null,
            "margin": null,
            "max_height": null,
            "max_width": null,
            "min_height": null,
            "min_width": null,
            "object_fit": null,
            "object_position": null,
            "order": null,
            "overflow": null,
            "overflow_x": null,
            "overflow_y": null,
            "padding": null,
            "right": null,
            "top": null,
            "visibility": null,
            "width": null
          }
        },
        "e60463ad30a0401b99f9e9b084528a1c": {
          "model_module": "@jupyter-widgets/controls",
          "model_module_version": "1.5.0",
          "model_name": "HTMLModel",
          "state": {
            "_dom_classes": [],
            "_model_module": "@jupyter-widgets/controls",
            "_model_module_version": "1.5.0",
            "_model_name": "HTMLModel",
            "_view_count": null,
            "_view_module": "@jupyter-widgets/controls",
            "_view_module_version": "1.5.0",
            "_view_name": "HTMLView",
            "description": "",
            "description_tooltip": null,
            "layout": "IPY_MODEL_5b322d58886b4b4babd2807f521b3a0f",
            "placeholder": "​",
            "style": "IPY_MODEL_bf4e0fd93d7b418eb819eff419b695f3",
            "value": " 52.0/52.0 [00:00&lt;00:00, 1.57kB/s]"
          }
        },
        "e6ab0e3c3e834b2fa047969b44e42b44": {
          "model_module": "@jupyter-widgets/controls",
          "model_module_version": "1.5.0",
          "model_name": "HTMLModel",
          "state": {
            "_dom_classes": [],
            "_model_module": "@jupyter-widgets/controls",
            "_model_module_version": "1.5.0",
            "_model_name": "HTMLModel",
            "_view_count": null,
            "_view_module": "@jupyter-widgets/controls",
            "_view_module_version": "1.5.0",
            "_view_name": "HTMLView",
            "description": "",
            "description_tooltip": null,
            "layout": "IPY_MODEL_9fb99b6da35c43b4b393dff30485439f",
            "placeholder": "​",
            "style": "IPY_MODEL_8d7bc377835d44f4b02cf8fc439cce70",
            "value": " 190/190 [00:00&lt;00:00, 8.56kB/s]"
          }
        },
        "ea726e49b84641df80706081720dab15": {
          "model_module": "@jupyter-widgets/controls",
          "model_module_version": "1.5.0",
          "model_name": "FloatProgressModel",
          "state": {
            "_dom_classes": [],
            "_model_module": "@jupyter-widgets/controls",
            "_model_module_version": "1.5.0",
            "_model_name": "FloatProgressModel",
            "_view_count": null,
            "_view_module": "@jupyter-widgets/controls",
            "_view_module_version": "1.5.0",
            "_view_name": "ProgressView",
            "bar_style": "success",
            "description": "",
            "description_tooltip": null,
            "layout": "IPY_MODEL_9203cbe723fa4cd7b4222b1542a9cea3",
            "max": 124,
            "min": 0,
            "orientation": "horizontal",
            "style": "IPY_MODEL_37aa7a65b0d44b3891e0c4bdb5439cb8",
            "value": 124
          }
        },
        "eb420a8f24fd49a3bf67a6b30841325e": {
          "model_module": "@jupyter-widgets/controls",
          "model_module_version": "1.5.0",
          "model_name": "DescriptionStyleModel",
          "state": {
            "_model_module": "@jupyter-widgets/controls",
            "_model_module_version": "1.5.0",
            "_model_name": "DescriptionStyleModel",
            "_view_count": null,
            "_view_module": "@jupyter-widgets/base",
            "_view_module_version": "1.2.0",
            "_view_name": "StyleView",
            "description_width": ""
          }
        },
        "ed4ba3c136794c2bb8b2c734f86a62e2": {
          "model_module": "@jupyter-widgets/controls",
          "model_module_version": "1.5.0",
          "model_name": "HTMLModel",
          "state": {
            "_dom_classes": [],
            "_model_module": "@jupyter-widgets/controls",
            "_model_module_version": "1.5.0",
            "_model_name": "HTMLModel",
            "_view_count": null,
            "_view_module": "@jupyter-widgets/controls",
            "_view_module_version": "1.5.0",
            "_view_name": "HTMLView",
            "description": "",
            "description_tooltip": null,
            "layout": "IPY_MODEL_1dee187e8bce43c9bfd16198a1fd8c16",
            "placeholder": "​",
            "style": "IPY_MODEL_5c33c81057e7423caca7f8f672aa3225",
            "value": " 232k/232k [00:00&lt;00:00, 2.60MB/s]"
          }
        },
        "edb5d28df46f458a9f9baa49397a3945": {
          "model_module": "@jupyter-widgets/controls",
          "model_module_version": "1.5.0",
          "model_name": "ProgressStyleModel",
          "state": {
            "_model_module": "@jupyter-widgets/controls",
            "_model_module_version": "1.5.0",
            "_model_name": "ProgressStyleModel",
            "_view_count": null,
            "_view_module": "@jupyter-widgets/base",
            "_view_module_version": "1.2.0",
            "_view_name": "StyleView",
            "bar_color": null,
            "description_width": ""
          }
        },
        "efa565f2c8f8432aa2a0cd1bbbf5a812": {
          "model_module": "@jupyter-widgets/controls",
          "model_module_version": "1.5.0",
          "model_name": "ProgressStyleModel",
          "state": {
            "_model_module": "@jupyter-widgets/controls",
            "_model_module_version": "1.5.0",
            "_model_name": "ProgressStyleModel",
            "_view_count": null,
            "_view_module": "@jupyter-widgets/base",
            "_view_module_version": "1.2.0",
            "_view_name": "StyleView",
            "bar_color": null,
            "description_width": ""
          }
        },
        "f07cd8676e314adc9af000400e503b09": {
          "model_module": "@jupyter-widgets/controls",
          "model_module_version": "1.5.0",
          "model_name": "HTMLModel",
          "state": {
            "_dom_classes": [],
            "_model_module": "@jupyter-widgets/controls",
            "_model_module_version": "1.5.0",
            "_model_name": "HTMLModel",
            "_view_count": null,
            "_view_module": "@jupyter-widgets/controls",
            "_view_module_version": "1.5.0",
            "_view_name": "HTMLView",
            "description": "",
            "description_tooltip": null,
            "layout": "IPY_MODEL_bf4362364a4c4eb6941d902116c3b89e",
            "placeholder": "​",
            "style": "IPY_MODEL_f29dcbdb3df34700832a3c956e46ef05",
            "value": " 232k/232k [00:00&lt;00:00, 5.19MB/s]"
          }
        },
        "f29dcbdb3df34700832a3c956e46ef05": {
          "model_module": "@jupyter-widgets/controls",
          "model_module_version": "1.5.0",
          "model_name": "DescriptionStyleModel",
          "state": {
            "_model_module": "@jupyter-widgets/controls",
            "_model_module_version": "1.5.0",
            "_model_name": "DescriptionStyleModel",
            "_view_count": null,
            "_view_module": "@jupyter-widgets/base",
            "_view_module_version": "1.2.0",
            "_view_name": "StyleView",
            "description_width": ""
          }
        },
        "f3dacff448f04fe49da3d34879fbe326": {
          "model_module": "@jupyter-widgets/controls",
          "model_module_version": "1.5.0",
          "model_name": "DescriptionStyleModel",
          "state": {
            "_model_module": "@jupyter-widgets/controls",
            "_model_module_version": "1.5.0",
            "_model_name": "DescriptionStyleModel",
            "_view_count": null,
            "_view_module": "@jupyter-widgets/base",
            "_view_module_version": "1.2.0",
            "_view_name": "StyleView",
            "description_width": ""
          }
        },
        "f6a7cade429f4ccba24fc56e3e9288e8": {
          "model_module": "@jupyter-widgets/controls",
          "model_module_version": "1.5.0",
          "model_name": "DescriptionStyleModel",
          "state": {
            "_model_module": "@jupyter-widgets/controls",
            "_model_module_version": "1.5.0",
            "_model_name": "DescriptionStyleModel",
            "_view_count": null,
            "_view_module": "@jupyter-widgets/base",
            "_view_module_version": "1.2.0",
            "_view_name": "StyleView",
            "description_width": ""
          }
        },
        "f79155f0175646b5a9bf4836d43f9c0a": {
          "model_module": "@jupyter-widgets/controls",
          "model_module_version": "1.5.0",
          "model_name": "FloatProgressModel",
          "state": {
            "_dom_classes": [],
            "_model_module": "@jupyter-widgets/controls",
            "_model_module_version": "1.5.0",
            "_model_name": "FloatProgressModel",
            "_view_count": null,
            "_view_module": "@jupyter-widgets/controls",
            "_view_module_version": "1.5.0",
            "_view_name": "ProgressView",
            "bar_style": "success",
            "description": "",
            "description_tooltip": null,
            "layout": "IPY_MODEL_77604783fa844a50a8527702fa248298",
            "max": 711396,
            "min": 0,
            "orientation": "horizontal",
            "style": "IPY_MODEL_9d783011156d46ee9965fe078beab7b3",
            "value": 711396
          }
        },
        "f7c1d50f52584d53a7d31d5b505049ae": {
          "model_module": "@jupyter-widgets/base",
          "model_module_version": "1.2.0",
          "model_name": "LayoutModel",
          "state": {
            "_model_module": "@jupyter-widgets/base",
            "_model_module_version": "1.2.0",
            "_model_name": "LayoutModel",
            "_view_count": null,
            "_view_module": "@jupyter-widgets/base",
            "_view_module_version": "1.2.0",
            "_view_name": "LayoutView",
            "align_content": null,
            "align_items": null,
            "align_self": null,
            "border": null,
            "bottom": null,
            "display": null,
            "flex": null,
            "flex_flow": null,
            "grid_area": null,
            "grid_auto_columns": null,
            "grid_auto_flow": null,
            "grid_auto_rows": null,
            "grid_column": null,
            "grid_gap": null,
            "grid_row": null,
            "grid_template_areas": null,
            "grid_template_columns": null,
            "grid_template_rows": null,
            "height": null,
            "justify_content": null,
            "justify_items": null,
            "left": null,
            "margin": null,
            "max_height": null,
            "max_width": null,
            "min_height": null,
            "min_width": null,
            "object_fit": null,
            "object_position": null,
            "order": null,
            "overflow": null,
            "overflow_x": null,
            "overflow_y": null,
            "padding": null,
            "right": null,
            "top": null,
            "visibility": null,
            "width": null
          }
        },
        "fb1753db71804fddbb43ea944cf92ee5": {
          "model_module": "@jupyter-widgets/base",
          "model_module_version": "1.2.0",
          "model_name": "LayoutModel",
          "state": {
            "_model_module": "@jupyter-widgets/base",
            "_model_module_version": "1.2.0",
            "_model_name": "LayoutModel",
            "_view_count": null,
            "_view_module": "@jupyter-widgets/base",
            "_view_module_version": "1.2.0",
            "_view_name": "LayoutView",
            "align_content": null,
            "align_items": null,
            "align_self": null,
            "border": null,
            "bottom": null,
            "display": null,
            "flex": null,
            "flex_flow": null,
            "grid_area": null,
            "grid_auto_columns": null,
            "grid_auto_flow": null,
            "grid_auto_rows": null,
            "grid_column": null,
            "grid_gap": null,
            "grid_row": null,
            "grid_template_areas": null,
            "grid_template_columns": null,
            "grid_template_rows": null,
            "height": null,
            "justify_content": null,
            "justify_items": null,
            "left": null,
            "margin": null,
            "max_height": null,
            "max_width": null,
            "min_height": null,
            "min_width": null,
            "object_fit": null,
            "object_position": null,
            "order": null,
            "overflow": null,
            "overflow_x": null,
            "overflow_y": null,
            "padding": null,
            "right": null,
            "top": null,
            "visibility": null,
            "width": null
          }
        },
        "fc9f1a69fce44a85b354a9be8671dc49": {
          "model_module": "@jupyter-widgets/controls",
          "model_module_version": "1.5.0",
          "model_name": "HBoxModel",
          "state": {
            "_dom_classes": [],
            "_model_module": "@jupyter-widgets/controls",
            "_model_module_version": "1.5.0",
            "_model_name": "HBoxModel",
            "_view_count": null,
            "_view_module": "@jupyter-widgets/controls",
            "_view_module_version": "1.5.0",
            "_view_name": "HBoxView",
            "box_style": "",
            "children": [
              "IPY_MODEL_57aa9846388b492eb3de4eb546fd7e1d",
              "IPY_MODEL_8cf75e84453d4d2c8f02ed4ea82f459c",
              "IPY_MODEL_31fcc3e3c0534a65884801b57b8e6855"
            ],
            "layout": "IPY_MODEL_45ce1f99e597478a97d2991a1f1ccc8e"
          }
        }
      }
    }
  },
  "nbformat": 4,
  "nbformat_minor": 0
}