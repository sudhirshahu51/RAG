{
  "nbformat": 4,
  "nbformat_minor": 0,
  "metadata": {
    "colab": {
      "provenance": [],
      "mount_file_id": "19U721kVcQcT1Sa43ygYWwtlzEmBO-7Ud",
      "authorship_tag": "ABX9TyM+V51VTAlLxLuhXqH5waUC",
      "include_colab_link": true
    },
    "kernelspec": {
      "name": "python3",
      "display_name": "Python 3"
    },
    "language_info": {
      "name": "python"
    }
  },
  "cells": [
    {
      "cell_type": "markdown",
      "metadata": {
        "id": "view-in-github",
        "colab_type": "text"
      },
      "source": [
        "<a href=\"https://colab.research.google.com/github/sudhirshahu51/RAG/blob/main/Query_with_Jamba_llamaindex.ipynb\" target=\"_parent\"><img src=\"https://colab.research.google.com/assets/colab-badge.svg\" alt=\"Open In Colab\"/></a>"
      ]
    },
    {
      "cell_type": "code",
      "execution_count": 1,
      "metadata": {
        "colab": {
          "base_uri": "https://localhost:8080/"
        },
        "id": "PmOj7IQp25uX",
        "outputId": "5d43b90b-4dd4-485e-a6bc-c7fd288d2f81"
      },
      "outputs": [
        {
          "output_type": "stream",
          "name": "stdout",
          "text": [
            "\u001b[?25l   \u001b[90m━━━━━━━━━━━━━━━━━━━━━━━━━━━━━━━━━━━━━━━━\u001b[0m \u001b[32m0.0/171.5 kB\u001b[0m \u001b[31m?\u001b[0m eta \u001b[36m-:--:--\u001b[0m\r\u001b[2K   \u001b[90m━━━━━━━━━━━━━━━━━━━━━━━━━━━━━━━━━━━━━━━━\u001b[0m \u001b[32m171.5/171.5 kB\u001b[0m \u001b[31m5.4 MB/s\u001b[0m eta \u001b[36m0:00:00\u001b[0m\n",
            "\u001b[2K   \u001b[90m━━━━━━━━━━━━━━━━━━━━━━━━━━━━━━━━━━━━━━━━\u001b[0m \u001b[32m88.8/88.8 kB\u001b[0m \u001b[31m6.5 MB/s\u001b[0m eta \u001b[36m0:00:00\u001b[0m\n",
            "\u001b[2K   \u001b[90m━━━━━━━━━━━━━━━━━━━━━━━━━━━━━━━━━━━━━━━━\u001b[0m \u001b[32m1.6/1.6 MB\u001b[0m \u001b[31m27.8 MB/s\u001b[0m eta \u001b[36m0:00:00\u001b[0m\n",
            "\u001b[2K   \u001b[90m━━━━━━━━━━━━━━━━━━━━━━━━━━━━━━━━━━━━━━━━\u001b[0m \u001b[32m2.7/2.7 MB\u001b[0m \u001b[31m68.4 MB/s\u001b[0m eta \u001b[36m0:00:00\u001b[0m\n",
            "\u001b[2K   \u001b[90m━━━━━━━━━━━━━━━━━━━━━━━━━━━━━━━━━━━━━━━━\u001b[0m \u001b[32m76.4/76.4 kB\u001b[0m \u001b[31m5.5 MB/s\u001b[0m eta \u001b[36m0:00:00\u001b[0m\n",
            "\u001b[2K   \u001b[90m━━━━━━━━━━━━━━━━━━━━━━━━━━━━━━━━━━━━━━━━\u001b[0m \u001b[32m247.1/247.1 kB\u001b[0m \u001b[31m15.4 MB/s\u001b[0m eta \u001b[36m0:00:00\u001b[0m\n",
            "\u001b[2K   \u001b[90m━━━━━━━━━━━━━━━━━━━━━━━━━━━━━━━━━━━━━━━━\u001b[0m \u001b[32m298.0/298.0 kB\u001b[0m \u001b[31m20.9 MB/s\u001b[0m eta \u001b[36m0:00:00\u001b[0m\n",
            "\u001b[2K   \u001b[90m━━━━━━━━━━━━━━━━━━━━━━━━━━━━━━━━━━━━━━━━\u001b[0m \u001b[32m1.2/1.2 MB\u001b[0m \u001b[31m47.8 MB/s\u001b[0m eta \u001b[36m0:00:00\u001b[0m\n",
            "\u001b[2K   \u001b[90m━━━━━━━━━━━━━━━━━━━━━━━━━━━━━━━━━━━━━━━━\u001b[0m \u001b[32m96.0/96.0 kB\u001b[0m \u001b[31m7.1 MB/s\u001b[0m eta \u001b[36m0:00:00\u001b[0m\n",
            "\u001b[2K   \u001b[90m━━━━━━━━━━━━━━━━━━━━━━━━━━━━━━━━━━━━━━━━\u001b[0m \u001b[32m49.5/49.5 kB\u001b[0m \u001b[31m3.2 MB/s\u001b[0m eta \u001b[36m0:00:00\u001b[0m\n",
            "\u001b[?25h\u001b[31mERROR: pip's dependency resolver does not currently take into account all the packages that are installed. This behaviour is the source of the following dependency conflicts.\n",
            "jupyter-server 1.24.0 requires anyio<4,>=3.1.0, but you have anyio 4.8.0 which is incompatible.\u001b[0m\u001b[31m\n",
            "\u001b[0m"
          ]
        }
      ],
      "source": [
        "!pip install llama-index llama-index-llms-ai21 llama-index-llms-huggingface llama-index-llms-huggingface-api llama-index-embeddings-huggingface sentence-transformers llama-index-embeddings-instructor --quiet\n",
        "#llama-index-llms-text-generation-inference\n"
      ]
    },
    {
      "cell_type": "markdown",
      "source": [
        "[link](https://docs.llamaindex.ai/en/stable/examples/llm/ai21/)"
      ],
      "metadata": {
        "id": "Kkh7_quPO3R6"
      }
    },
    {
      "cell_type": "markdown",
      "source": [
        "# 1. LLM Calling"
      ],
      "metadata": {
        "id": "sIUwpn91OyWd"
      }
    },
    {
      "cell_type": "code",
      "source": [
        "# to make async work well with jupyter notebook\n",
        "import nest_asyncio\n",
        "nest_asyncio.apply()"
      ],
      "metadata": {
        "id": "JSYmv-Vk4EsV"
      },
      "execution_count": 2,
      "outputs": []
    },
    {
      "cell_type": "code",
      "source": [
        "#Envirnment Secret keys\n",
        "from google.colab import userdata\n",
        "key = userdata.get('JAMBA_API') #https://studio.ai21.com/v2/account/api-key"
      ],
      "metadata": {
        "id": "t3V8-hrm4Pk3"
      },
      "execution_count": 3,
      "outputs": []
    },
    {
      "cell_type": "code",
      "source": [
        "import textwrap\n",
        "from typing import List, Optional\n",
        "from llama_index.core import Settings\n",
        "from IPython.display import Markdown, display\n"
      ],
      "metadata": {
        "id": "xKV46Iwz4Tuo"
      },
      "execution_count": 4,
      "outputs": []
    },
    {
      "cell_type": "code",
      "source": [
        "import os\n",
        "from llama_index.llms.ai21 import AI21\n",
        "\n",
        "# EITHER\n",
        "\n",
        "os.environ[\"AI21_API_KEY\"] = key\n",
        "llm = AI21()\n",
        "\n",
        "# OR\n",
        "#llm = AI21(api_key=api_key)"
      ],
      "metadata": {
        "id": "KI27GJ6h4p-G"
      },
      "execution_count": 5,
      "outputs": []
    },
    {
      "cell_type": "code",
      "source": [
        "completion_response = llm.complete(\"what is jamba?\")\n",
        "display(Markdown(f'{completion_response}'))"
      ],
      "metadata": {
        "colab": {
          "base_uri": "https://localhost:8080/",
          "height": 221
        },
        "id": "qo-vPV_t5-QV",
        "outputId": "2746ad2f-6edc-4b26-bf23-2949dac159cc"
      },
      "execution_count": 6,
      "outputs": [
        {
          "output_type": "display_data",
          "data": {
            "text/plain": [
              "<IPython.core.display.Markdown object>"
            ],
            "text/markdown": "Jamba, also known as Jamba Juice, is a popular chain of smoothie and juice bars that originated in the United States. The company was founded in 1990 and is headquartered in Emeryville, California. Jamba Juice offers a variety of smoothies, juices, bowls, and snacks made from fresh fruits, vegetables, and other natural ingredients.\n\nThe brand is known for its commitment to health and wellness, providing customers with nutritious and delicious options. Some of their most popular menu items include classic smoothies like the \"Strawberry Whirl\" and \"Mango-A-Go-Go,\" as well as more health-focused options like the \"Peanut Power PlusTM\" and the \"Berry Yumberry Bowl.\"\n\nIn addition to their smoothies, Jamba Juice also offers a range of fresh-squeezed juices, such as the \"Orange Dream Machine\" and the \"Carrot Orange Fusion.\" They also have a selection of energy bowls, which are made with a blend of frozen yogurt, fresh fruits, and granola.\n\nJamba Juice has expanded significantly since its inception, with locations across the United States and internationally. The company has also diversified its product offerings to include items like energy bars, oatmeal, and baked goods, all of which align with their mission of promoting health and wellness."
          },
          "metadata": {}
        }
      ]
    },
    {
      "cell_type": "code",
      "source": [
        "from llama_index.core.llms import ChatMessage\n",
        "\n",
        "#Messages must be listed from oldest to newest, starting with a user role message and alternating between user and assistant messages.\n",
        "messages1 = [\n",
        "    ChatMessage(role=\"user\", content=\"hello there\"),\n",
        "    ChatMessage(\n",
        "        role=\"assistant\", content=\"Arrrr, matey! How can I help ye today?\"\n",
        "    ),\n",
        "    ChatMessage(role=\"user\", content=\"What is your name?\"),\n",
        "]\n",
        "\n",
        "\n",
        "messages = [\n",
        "    ChatMessage(\n",
        "        role='system',\n",
        "        content='You are a concise factual based question answering assistant.'\n",
        "         ),\n",
        "\n",
        "    ChatMessage(\n",
        "        role='user',\n",
        "        content='Explain SEC filings in one sentence.'\n",
        "        )\n",
        "          ]\n",
        "\n"
      ],
      "metadata": {
        "id": "7xTIancdPJj6"
      },
      "execution_count": 7,
      "outputs": []
    },
    {
      "cell_type": "markdown",
      "source": [
        "#2. Trying different LLM calling methods."
      ],
      "metadata": {
        "id": "rMzVA93OVVW-"
      }
    },
    {
      "cell_type": "code",
      "source": [
        "# Use `preamble_override` to specify the voice and tone of the assistant.\n",
        "response = llm.chat(messages=messages,\n",
        "                    preamble_override=\"You are a pirate with a colorful personality\",\n",
        "                    model='jamba-1.5-large', #model=\"jamba-1.5-mini\"\n",
        "                    max_tokens=4096,\n",
        "                    #temperature=0.4,\n",
        "                    #top_p=1.0,\n",
        "                    #stop = [], ## ['####', '\\n'],\n",
        "                    #n=1,\n",
        "                    #stream = False]\n",
        "                    )"
      ],
      "metadata": {
        "id": "K-qSUN0ZQImD"
      },
      "execution_count": 41,
      "outputs": []
    },
    {
      "cell_type": "code",
      "source": [
        "response"
      ],
      "metadata": {
        "colab": {
          "base_uri": "https://localhost:8080/"
        },
        "id": "h8P1z0KRVkA1",
        "outputId": "9dc08e76-98ef-44f8-e5d0-4aa4d95cfc9a"
      },
      "execution_count": 48,
      "outputs": [
        {
          "output_type": "execute_result",
          "data": {
            "text/plain": [
              "ChatResponse(message=ChatMessage(role=<MessageRole.ASSISTANT: 'assistant'>, additional_kwargs={}, blocks=[TextBlock(block_type='text', text='SEC filings are financial reports and documents that publicly traded companies are required to submit to the U.S. Securities and Exchange Commission, providing transparency and accountability to investors and the public.')]), raw={'id': 'chatcmpl-e14741a5-7835-ee9d-03a5-d4c154d8325b', 'choices': [{'index': 0, 'message': {'role': 'assistant', 'content': 'SEC filings are financial reports and documents that publicly traded companies are required to submit to the U.S. Securities and Exchange Commission, providing transparency and accountability to investors and the public.', 'tool_calls': None}, 'logprobs': None, 'finish_reason': 'stop'}], 'usage': {'prompt_tokens': 26, 'completion_tokens': 37, 'total_tokens': 63}}, delta=None, logprobs=None, additional_kwargs={})"
            ]
          },
          "metadata": {},
          "execution_count": 48
        }
      ]
    },
    {
      "cell_type": "code",
      "source": [
        "response.message.blocks[0].text #for langchain response.choices[0].message.content"
      ],
      "metadata": {
        "colab": {
          "base_uri": "https://localhost:8080/",
          "height": 53
        },
        "id": "h89tbPtXV37x",
        "outputId": "9260fa75-6c25-4788-f916-88d64de66ee9"
      },
      "execution_count": 49,
      "outputs": [
        {
          "output_type": "execute_result",
          "data": {
            "text/plain": [
              "'SEC filings are financial reports and documents that publicly traded companies are required to submit to the U.S. Securities and Exchange Commission, providing transparency and accountability to investors and the public.'"
            ],
            "application/vnd.google.colaboratory.intrinsic+json": {
              "type": "string"
            }
          },
          "metadata": {},
          "execution_count": 49
        }
      ]
    },
    {
      "cell_type": "code",
      "source": [
        "display(Markdown(f'{response}'))\n",
        "#print(response)"
      ],
      "metadata": {
        "colab": {
          "base_uri": "https://localhost:8080/",
          "height": 64
        },
        "id": "phzMxxgJRY3-",
        "outputId": "9d90e37f-8cbd-4ad0-a0b5-7318964f5e09"
      },
      "execution_count": 42,
      "outputs": [
        {
          "output_type": "display_data",
          "data": {
            "text/plain": [
              "<IPython.core.display.Markdown object>"
            ],
            "text/markdown": "assistant: SEC filings are financial reports and documents that publicly traded companies are required to submit to the U.S. Securities and Exchange Commission, providing transparency and accountability to investors and the public."
          },
          "metadata": {}
        }
      ]
    },
    {
      "cell_type": "code",
      "source": [
        "resp = llm.complete('Explain SEC filings in one sentence.')\n",
        "display(Markdown(f'{resp}'))"
      ],
      "metadata": {
        "colab": {
          "base_uri": "https://localhost:8080/",
          "height": 64
        },
        "id": "2kx9ZoPoPUtd",
        "outputId": "da728132-70a4-4bf8-d487-24016c4d4acd"
      },
      "execution_count": 33,
      "outputs": [
        {
          "output_type": "display_data",
          "data": {
            "text/plain": [
              "<IPython.core.display.Markdown object>"
            ],
            "text/markdown": "SEC filings are documents that publicly traded companies are required to submit to the U.S. Securities and Exchange Commission (SEC), providing detailed information about their financial performance, operations, and other material aspects to ensure transparency and protect investors."
          },
          "metadata": {}
        }
      ]
    },
    {
      "cell_type": "code",
      "source": [
        "#Streaming\n",
        "resp = llm.stream_complete('Explain SEC filings in one sentence.')\n",
        "for r in resp:\n",
        "    print(r.delta, end=\"\")\n"
      ],
      "metadata": {
        "colab": {
          "base_uri": "https://localhost:8080/"
        },
        "id": "owzVSiUZ6jsL",
        "outputId": "17a903cd-60d5-433a-a84c-0a2e5e1964e6"
      },
      "execution_count": 35,
      "outputs": [
        {
          "output_type": "stream",
          "name": "stdout",
          "text": [
            "NoneSEC filings are mandatory documents that publicly traded companies in the United States must submit to the Securities and Exchange Commission (SEC) to provide detailed information about their financial health, operations, and corporate governance."
          ]
        }
      ]
    },
    {
      "cell_type": "code",
      "source": [
        "#tokenizer\n",
        "llm_test = AI21(api_key = key, model=\"jamba-1.5-large\")\n",
        "resp = llm_test.complete('Explain SEC filings in one sentence.')\n",
        "#tokenizer = llm_test.tokenizer\n",
        "display(Markdown(f'{resp}'))"
      ],
      "metadata": {
        "colab": {
          "base_uri": "https://localhost:8080/",
          "height": 64
        },
        "id": "xjF4XVthS_ea",
        "outputId": "251b13c2-1121-4f4c-e337-8fdead96952c"
      },
      "execution_count": 46,
      "outputs": [
        {
          "output_type": "display_data",
          "data": {
            "text/plain": [
              "<IPython.core.display.Markdown object>"
            ],
            "text/markdown": "SEC filings are formal documents that publicly traded companies in the United States must submit to the Securities and Exchange Commission, providing detailed financial and operational information to ensure transparency and protect investors."
          },
          "metadata": {}
        }
      ]
    },
    {
      "cell_type": "markdown",
      "source": [
        "#3. Try different features of LLM"
      ],
      "metadata": {
        "id": "zsG5Z5SWWTBx"
      }
    },
    {
      "cell_type": "code",
      "source": [
        "import json"
      ],
      "metadata": {
        "id": "u8v8DwMzWpyF"
      },
      "execution_count": 52,
      "outputs": []
    },
    {
      "cell_type": "code",
      "source": [
        "messages = [ChatMessage(role='system',\n",
        "                        content='You are an assistant that provides information in JSON format.'),\n",
        "            ChatMessage(role='user',\n",
        "                        content=('List top 5 most common type of SEC '\n",
        "                                 'filings in JSON format, including '\n",
        "                                 'only form name and description'))]"
      ],
      "metadata": {
        "id": "hLyvV8zUU0ox"
      },
      "execution_count": 50,
      "outputs": []
    },
    {
      "cell_type": "code",
      "source": [
        "response = llm.chat(\n",
        "    messages=messages,\n",
        "    model=\"jamba-1.5-large\",\n",
        "    temperature = 0,\n",
        "    response_format={\"type\": \"json_object\"}\n",
        ")"
      ],
      "metadata": {
        "id": "WvFfwaicWbRu"
      },
      "execution_count": 51,
      "outputs": []
    },
    {
      "cell_type": "markdown",
      "source": [
        "JSON output"
      ],
      "metadata": {
        "id": "jVyZnReDbQhn"
      }
    },
    {
      "cell_type": "code",
      "source": [
        "#print(json.dumps(json.loads(response.choices[0].message.content), indent=2))  #for Langchain\n",
        "print(json.dumps(json.loads(response.message.blocks[0].text), indent=2))\n"
      ],
      "metadata": {
        "colab": {
          "base_uri": "https://localhost:8080/"
        },
        "id": "9wFFP8vwWg2d",
        "outputId": "4a50573d-ea02-4e57-dc89-d3dfe1ea313c"
      },
      "execution_count": 53,
      "outputs": [
        {
          "output_type": "stream",
          "name": "stdout",
          "text": [
            "{\n",
            "  \"top_5_sec_filings\": [\n",
            "    {\n",
            "      \"form_name\": \"10-K\",\n",
            "      \"description\": \"Annual report containing audited financial statements, management's discussion and analysis (MD&A) of financial condition and results of operations, and other information.\"\n",
            "    },\n",
            "    {\n",
            "      \"form_name\": \"10-Q\",\n",
            "      \"description\": \"Quarterly report containing unaudited financial statements and providing a continuing view of the company's financial position during the year.\"\n",
            "    },\n",
            "    {\n",
            "      \"form_name\": \"8-K\",\n",
            "      \"description\": \"Current report that provides information on material events that shareholders should know about, such as acquisitions, changes in executive leadership, or significant financial updates.\"\n",
            "    },\n",
            "    {\n",
            "      \"form_name\": \"S-1\",\n",
            "      \"description\": \"Registration statement used by companies planning to go public to register their securities with the SEC.\"\n",
            "    },\n",
            "    {\n",
            "      \"form_name\": \"DEF 14A\",\n",
            "      \"description\": \"Definitive proxy statement providing information related to matters to be brought to a vote at a company's annual or special meeting of shareholders.\"\n",
            "    }\n",
            "  ]\n",
            "}\n"
          ]
        }
      ]
    },
    {
      "cell_type": "markdown",
      "source": [
        "#4. Reading Documents"
      ],
      "metadata": {
        "id": "4JUYHe4gXNbx"
      }
    },
    {
      "cell_type": "code",
      "source": [
        "## The NVIDIA 10K filing data used in this lesson can be found online here\n",
        "## https://www.nasdaq.com/market-activity/stocks/nvda/sec-filings\n",
        "\n",
        "Filing2023_text = open('/content/drive/MyDrive/Colab Notebooks/Data/Nvidia_10K_20240128.txt', 'r', encoding='utf-8').read()\n",
        "Filing2024_text = open('/content/drive/MyDrive/Colab Notebooks/Data/Nvidia_10K_20230129.txt', 'r', encoding='utf-8').read()"
      ],
      "metadata": {
        "id": "43D6bk-_W7T2"
      },
      "execution_count": 8,
      "outputs": []
    },
    {
      "cell_type": "code",
      "source": [
        "!pip install ai21 --quiet"
      ],
      "metadata": {
        "id": "xC8tUxBoZOrs"
      },
      "execution_count": 58,
      "outputs": []
    },
    {
      "cell_type": "code",
      "source": [
        "from ai21.models.chat import DocumentSchema\n",
        "from ai21 import AI21Client"
      ],
      "metadata": {
        "id": "5EpoeNw8Y5t_"
      },
      "execution_count": 61,
      "outputs": []
    },
    {
      "cell_type": "code",
      "source": [
        "Filing2023_doc = DocumentSchema(\n",
        "    content=Filing2023_text,\n",
        "    metadata={'company': 'Nvida', 'doc_type': 'SEC annual financial earnings report', 'year': '2023'}\n",
        ")\n",
        "\n",
        "Filing2024_doc = DocumentSchema(\n",
        "    content=Filing2024_text,\n",
        "    metadata={'company': 'Nvida', 'doc_type': 'SEC annual financial earnings report', 'year': '2024'}\n",
        ")\n",
        "\n",
        "documents = [Filing2023_doc, Filing2024_doc]"
      ],
      "metadata": {
        "id": "pulgTDdpYaSD"
      },
      "execution_count": 60,
      "outputs": []
    },
    {
      "cell_type": "code",
      "source": [
        "client = AI21Client(api_key=key)"
      ],
      "metadata": {
        "id": "WbGNrZ_vaB0K"
      },
      "execution_count": 62,
      "outputs": []
    },
    {
      "cell_type": "code",
      "source": [
        "messages = [ChatMessage(\n",
        "                role='system',\n",
        "                content='You are a concise factual based question answering assistant. Your answer must be grounded with the document provided.'),\n",
        "            ChatMessage(\n",
        "                role='user',\n",
        "                content=('Create an html table of the financial performance '\n",
        "                         'from both of these separate Nvidia 10K filings. '\n",
        "                         'Include the fiscal year, revenue, and earnings per share'))]\n",
        "\n",
        "#response = llm.chat.completions.create(messages=messages, #Langchain\n",
        "response = llm.chat(messages=messages,\n",
        "                    model=\"jamba-1.5-large\",\n",
        "                    documents=documents\n",
        "                                          )\n",
        "\n",
        "print(response.message.blocks[0].text)"
      ],
      "metadata": {
        "colab": {
          "base_uri": "https://localhost:8080/"
        },
        "id": "pUTlH60jZXwV",
        "outputId": "cbc979e7-22a8-4b7c-d254-1c796685a986"
      },
      "execution_count": 64,
      "outputs": [
        {
          "output_type": "stream",
          "name": "stdout",
          "text": [
            "Sure, here is the HTML table representing the financial performance from both Nvidia 10K filings:\n",
            "\n",
            "```html\n",
            "<!DOCTYPE html>\n",
            "<html>\n",
            "<head>\n",
            "    <title>Nvidia Financial Performance</title>\n",
            "    <style>\n",
            "        table {\n",
            "            width: 100%;\n",
            "            border-collapse: collapse;\n",
            "        }\n",
            "        th, td {\n",
            "            border: 1px solid black;\n",
            "            padding: 8px;\n",
            "            text-align: left;\n",
            "        }\n",
            "        th {\n",
            "            background-color: #f2f2f2;\n",
            "        }\n",
            "    </style>\n",
            "</head>\n",
            "<body>\n",
            "    <h2>Nvidia Financial Performance</h2>\n",
            "    <table>\n",
            "        <thead>\n",
            "            <tr>\n",
            "                <th>Fiscal Year</th>\n",
            "                <th>Revenue ($ billions)</th>\n",
            "                <th>Earnings Per Share (EPS)</th>\n",
            "            </tr>\n",
            "        </thead>\n",
            "        <tbody>\n",
            "            <tr>\n",
            "                <td>2023</td>\n",
            "                <td>26.97</td>\n",
            "                <td>1.74</td>\n",
            "            </tr>\n",
            "            <tr>\n",
            "                <td>2024</td>\n",
            "                <td>60.92</td>\n",
            "                <td>11.93</td>\n",
            "            </tr>\n",
            "        </tbody>\n",
            "    </table>\n",
            "</body>\n",
            "</html>\n",
            "```\n",
            "\n",
            "This table includes the fiscal year, revenue in billions of dollars, and earnings per share (EPS) for Nvidia for the years 2023 and 2024.\n"
          ]
        }
      ]
    },
    {
      "cell_type": "code",
      "source": [
        "from IPython.display import HTML\n",
        "#display(HTML(response.choices[0].message.content))\n",
        "display(HTML(response.message.blocks[0].text))\n"
      ],
      "metadata": {
        "colab": {
          "base_uri": "https://localhost:8080/",
          "height": 202
        },
        "id": "aeyk35aDaG6e",
        "outputId": "8c6a0a07-c65f-4694-bec0-44ecd07aab95"
      },
      "execution_count": 66,
      "outputs": [
        {
          "output_type": "display_data",
          "data": {
            "text/plain": [
              "<IPython.core.display.HTML object>"
            ],
            "text/html": [
              "Sure, here is the HTML table representing the financial performance from both Nvidia 10K filings:\n",
              "\n",
              "```html\n",
              "<!DOCTYPE html>\n",
              "<html>\n",
              "<head>\n",
              "    <title>Nvidia Financial Performance</title>\n",
              "    <style>\n",
              "        table {\n",
              "            width: 100%;\n",
              "            border-collapse: collapse;\n",
              "        }\n",
              "        th, td {\n",
              "            border: 1px solid black;\n",
              "            padding: 8px;\n",
              "            text-align: left;\n",
              "        }\n",
              "        th {\n",
              "            background-color: #f2f2f2;\n",
              "        }\n",
              "    </style>\n",
              "</head>\n",
              "<body>\n",
              "    <h2>Nvidia Financial Performance</h2>\n",
              "    <table>\n",
              "        <thead>\n",
              "            <tr>\n",
              "                <th>Fiscal Year</th>\n",
              "                <th>Revenue ($ billions)</th>\n",
              "                <th>Earnings Per Share (EPS)</th>\n",
              "            </tr>\n",
              "        </thead>\n",
              "        <tbody>\n",
              "            <tr>\n",
              "                <td>2023</td>\n",
              "                <td>26.97</td>\n",
              "                <td>1.74</td>\n",
              "            </tr>\n",
              "            <tr>\n",
              "                <td>2024</td>\n",
              "                <td>60.92</td>\n",
              "                <td>11.93</td>\n",
              "            </tr>\n",
              "        </tbody>\n",
              "    </table>\n",
              "</body>\n",
              "</html>\n",
              "```\n",
              "\n",
              "This table includes the fiscal year, revenue in billions of dollars, and earnings per share (EPS) for Nvidia for the years 2023 and 2024."
            ]
          },
          "metadata": {}
        }
      ]
    },
    {
      "cell_type": "markdown",
      "source": [
        "#5. Tool Calling"
      ],
      "metadata": {
        "id": "OoEpAHGhgQ23"
      }
    },
    {
      "cell_type": "code",
      "source": [
        "def multiplication(a: float, b: float) -> float:\n",
        "    \"\"\"Multiply two floats and returns the result float\"\"\"\n",
        "    print(f\"Multiplying {a} and {b}...\")\n",
        "    return a * b\n",
        "\n",
        "def addition(a: float, b: float) -> float:\n",
        "    \"\"\"Add two floats and returns the result float\"\"\"\n",
        "    print(f\"Adding {a} and {b}...\")\n",
        "    return a + b\n",
        "\n",
        "def subtraction(a: float, b: float) -> float:\n",
        "    \"\"\"subtract two floats and returns the result float\"\"\"\n",
        "    print(f\"subtract {a} and {b}...\")\n",
        "    return a - b\n",
        "\n",
        "def division(a: float, b: float) -> float:\n",
        "    \"\"\"divide two floats and returns the result float\"\"\"\n",
        "    print(f\"divide {a} and {b}...\")\n",
        "    return a/b"
      ],
      "metadata": {
        "id": "RahGfkAKbU8X"
      },
      "execution_count": 80,
      "outputs": []
    },
    {
      "cell_type": "code",
      "source": [
        "\n",
        "from llama_index.core.agent import FunctionCallingAgentWorker\n",
        "from llama_index.core.tools import FunctionTool"
      ],
      "metadata": {
        "id": "lY6qKE_rgnG0"
      },
      "execution_count": 70,
      "outputs": []
    },
    {
      "cell_type": "code",
      "source": [
        "#Using Llamaindex\n",
        "multiplication_tool = FunctionTool.from_defaults(fn=multiplication)\n",
        "addition_tool = FunctionTool.from_defaults(fn=addition)\n",
        "subtraction_tool = FunctionTool.from_defaults(fn=subtraction)\n",
        "division_tool = FunctionTool.from_defaults(fn=division)\n",
        "\n",
        "\n",
        "#llm = AI21(model=\"jamba-1.5-mini\", api_key=key)\n",
        "\n",
        "agent_worker = FunctionCallingAgentWorker.from_tools(\n",
        "    [multiplication_tool, addition_tool, subtraction_tool, division_tool],\n",
        "    llm=llm,\n",
        "    verbose=True,\n",
        "    allow_parallel_tool_calls=True,\n",
        ")\n",
        "agent = agent_worker.as_agent()\n",
        "\n",
        "response = agent.chat(\n",
        "    \"My friend Moses had 10 apples. He ate 5 apples in the morning. Then he found a box with 25 apples. He divided all his apples between his 5 friends. How many apples did each friend get?\"\n",
        ")"
      ],
      "metadata": {
        "colab": {
          "base_uri": "https://localhost:8080/",
          "height": 602
        },
        "id": "2-k_x-hgi9N2",
        "outputId": "f8218eb9-db62-49ee-8826-ba0e7be013a5"
      },
      "execution_count": 82,
      "outputs": [
        {
          "output_type": "stream",
          "name": "stdout",
          "text": [
            "Added user message to memory: My friend Moses had 10 apples. He ate 5 apples in the morning. Then he found a box with 25 apples. He divided all his apples between his 5 friends. How many apples did each friend get?\n",
            "=== Calling Function ===\n",
            "Calling function: addition with args: {\"a\": 10, \"b\": 25}\n",
            "Adding 10 and 25...\n",
            "=== Function Output ===\n",
            "35\n",
            "=== Calling Function ===\n",
            "Calling function: division with args: {\"a\": 35, \"b\": 5}\n",
            "divide 35 and 5...\n",
            "=== Function Output ===\n",
            "7.0\n"
          ]
        },
        {
          "output_type": "stream",
          "name": "stderr",
          "text": [
            "Calling POST https://api.ai21.com/studio/v1 failed with a non-200 response code: 422 headers: Headers({'date': 'Thu, 09 Jan 2025 14:53:02 GMT', 'content-type': 'application/json', 'content-length': '81', 'connection': 'keep-alive', 'request-id': 'a97c9c46-cfe1-d80a-ac42-3541c9fa5f5b', 'via': '1.1 google', 'cf-cache-status': 'DYNAMIC', 'strict-transport-security': 'max-age=15552000; includeSubDomains', 'server': 'cloudflare', 'cf-ray': '8ff541262d39ded0-SEA'})\n"
          ]
        },
        {
          "output_type": "error",
          "ename": "UnprocessableEntity",
          "evalue": "Failed with http status code: 422 (UnprocessableEntity). Details: {\"detail\":{\"error\":[\"Value error, message content must not be an empty string\"]}}",
          "traceback": [
            "\u001b[0;31m---------------------------------------------------------------------------\u001b[0m",
            "\u001b[0;31mUnprocessableEntity\u001b[0m                       Traceback (most recent call last)",
            "\u001b[0;32m<ipython-input-82-0fdf5b86671a>\u001b[0m in \u001b[0;36m<cell line: 18>\u001b[0;34m()\u001b[0m\n\u001b[1;32m     16\u001b[0m \u001b[0magent\u001b[0m \u001b[0;34m=\u001b[0m \u001b[0magent_worker\u001b[0m\u001b[0;34m.\u001b[0m\u001b[0mas_agent\u001b[0m\u001b[0;34m(\u001b[0m\u001b[0;34m)\u001b[0m\u001b[0;34m\u001b[0m\u001b[0;34m\u001b[0m\u001b[0m\n\u001b[1;32m     17\u001b[0m \u001b[0;34m\u001b[0m\u001b[0m\n\u001b[0;32m---> 18\u001b[0;31m response = agent.chat(\n\u001b[0m\u001b[1;32m     19\u001b[0m     \u001b[0;34m\"My friend Moses had 10 apples. He ate 5 apples in the morning. Then he found a box with 25 apples. He divided all his apples between his 5 friends. How many apples did each friend get?\"\u001b[0m\u001b[0;34m\u001b[0m\u001b[0;34m\u001b[0m\u001b[0m\n\u001b[1;32m     20\u001b[0m )\n",
            "\u001b[0;32m/usr/local/lib/python3.10/dist-packages/llama_index/core/instrumentation/dispatcher.py\u001b[0m in \u001b[0;36mwrapper\u001b[0;34m(func, instance, args, kwargs)\u001b[0m\n\u001b[1;32m    319\u001b[0m \u001b[0;34m\u001b[0m\u001b[0m\n\u001b[1;32m    320\u001b[0m             \u001b[0;32mtry\u001b[0m\u001b[0;34m:\u001b[0m\u001b[0;34m\u001b[0m\u001b[0;34m\u001b[0m\u001b[0m\n\u001b[0;32m--> 321\u001b[0;31m                 \u001b[0mresult\u001b[0m \u001b[0;34m=\u001b[0m \u001b[0mfunc\u001b[0m\u001b[0;34m(\u001b[0m\u001b[0;34m*\u001b[0m\u001b[0margs\u001b[0m\u001b[0;34m,\u001b[0m \u001b[0;34m**\u001b[0m\u001b[0mkwargs\u001b[0m\u001b[0;34m)\u001b[0m\u001b[0;34m\u001b[0m\u001b[0;34m\u001b[0m\u001b[0m\n\u001b[0m\u001b[1;32m    322\u001b[0m                 \u001b[0;32mif\u001b[0m \u001b[0misinstance\u001b[0m\u001b[0;34m(\u001b[0m\u001b[0mresult\u001b[0m\u001b[0;34m,\u001b[0m \u001b[0masyncio\u001b[0m\u001b[0;34m.\u001b[0m\u001b[0mFuture\u001b[0m\u001b[0;34m)\u001b[0m\u001b[0;34m:\u001b[0m\u001b[0;34m\u001b[0m\u001b[0;34m\u001b[0m\u001b[0m\n\u001b[1;32m    323\u001b[0m                     \u001b[0;31m# If the result is a Future, wrap it\u001b[0m\u001b[0;34m\u001b[0m\u001b[0;34m\u001b[0m\u001b[0m\n",
            "\u001b[0;32m/usr/local/lib/python3.10/dist-packages/llama_index/core/callbacks/utils.py\u001b[0m in \u001b[0;36mwrapper\u001b[0;34m(self, *args, **kwargs)\u001b[0m\n\u001b[1;32m     39\u001b[0m             \u001b[0mcallback_manager\u001b[0m \u001b[0;34m=\u001b[0m \u001b[0mcast\u001b[0m\u001b[0;34m(\u001b[0m\u001b[0mCallbackManager\u001b[0m\u001b[0;34m,\u001b[0m \u001b[0mcallback_manager\u001b[0m\u001b[0;34m)\u001b[0m\u001b[0;34m\u001b[0m\u001b[0;34m\u001b[0m\u001b[0m\n\u001b[1;32m     40\u001b[0m             \u001b[0;32mwith\u001b[0m \u001b[0mcallback_manager\u001b[0m\u001b[0;34m.\u001b[0m\u001b[0mas_trace\u001b[0m\u001b[0;34m(\u001b[0m\u001b[0mtrace_id\u001b[0m\u001b[0;34m)\u001b[0m\u001b[0;34m:\u001b[0m\u001b[0;34m\u001b[0m\u001b[0;34m\u001b[0m\u001b[0m\n\u001b[0;32m---> 41\u001b[0;31m                 \u001b[0;32mreturn\u001b[0m \u001b[0mfunc\u001b[0m\u001b[0;34m(\u001b[0m\u001b[0mself\u001b[0m\u001b[0;34m,\u001b[0m \u001b[0;34m*\u001b[0m\u001b[0margs\u001b[0m\u001b[0;34m,\u001b[0m \u001b[0;34m**\u001b[0m\u001b[0mkwargs\u001b[0m\u001b[0;34m)\u001b[0m\u001b[0;34m\u001b[0m\u001b[0;34m\u001b[0m\u001b[0m\n\u001b[0m\u001b[1;32m     42\u001b[0m \u001b[0;34m\u001b[0m\u001b[0m\n\u001b[1;32m     43\u001b[0m         \u001b[0;34m@\u001b[0m\u001b[0mfunctools\u001b[0m\u001b[0;34m.\u001b[0m\u001b[0mwraps\u001b[0m\u001b[0;34m(\u001b[0m\u001b[0mfunc\u001b[0m\u001b[0;34m)\u001b[0m  \u001b[0;31m# preserve signature, name, etc. of func\u001b[0m\u001b[0;34m\u001b[0m\u001b[0;34m\u001b[0m\u001b[0m\n",
            "\u001b[0;32m/usr/local/lib/python3.10/dist-packages/llama_index/core/agent/runner/base.py\u001b[0m in \u001b[0;36mchat\u001b[0;34m(self, message, chat_history, tool_choice)\u001b[0m\n\u001b[1;32m    645\u001b[0m             \u001b[0mpayload\u001b[0m\u001b[0;34m=\u001b[0m\u001b[0;34m{\u001b[0m\u001b[0mEventPayload\u001b[0m\u001b[0;34m.\u001b[0m\u001b[0mMESSAGES\u001b[0m\u001b[0;34m:\u001b[0m \u001b[0;34m[\u001b[0m\u001b[0mmessage\u001b[0m\u001b[0;34m]\u001b[0m\u001b[0;34m}\u001b[0m\u001b[0;34m,\u001b[0m\u001b[0;34m\u001b[0m\u001b[0;34m\u001b[0m\u001b[0m\n\u001b[1;32m    646\u001b[0m         ) as e:\n\u001b[0;32m--> 647\u001b[0;31m             chat_response = self._chat(\n\u001b[0m\u001b[1;32m    648\u001b[0m                 \u001b[0mmessage\u001b[0m\u001b[0;34m=\u001b[0m\u001b[0mmessage\u001b[0m\u001b[0;34m,\u001b[0m\u001b[0;34m\u001b[0m\u001b[0;34m\u001b[0m\u001b[0m\n\u001b[1;32m    649\u001b[0m                 \u001b[0mchat_history\u001b[0m\u001b[0;34m=\u001b[0m\u001b[0mchat_history\u001b[0m\u001b[0;34m,\u001b[0m\u001b[0;34m\u001b[0m\u001b[0;34m\u001b[0m\u001b[0m\n",
            "\u001b[0;32m/usr/local/lib/python3.10/dist-packages/llama_index/core/instrumentation/dispatcher.py\u001b[0m in \u001b[0;36mwrapper\u001b[0;34m(func, instance, args, kwargs)\u001b[0m\n\u001b[1;32m    319\u001b[0m \u001b[0;34m\u001b[0m\u001b[0m\n\u001b[1;32m    320\u001b[0m             \u001b[0;32mtry\u001b[0m\u001b[0;34m:\u001b[0m\u001b[0;34m\u001b[0m\u001b[0;34m\u001b[0m\u001b[0m\n\u001b[0;32m--> 321\u001b[0;31m                 \u001b[0mresult\u001b[0m \u001b[0;34m=\u001b[0m \u001b[0mfunc\u001b[0m\u001b[0;34m(\u001b[0m\u001b[0;34m*\u001b[0m\u001b[0margs\u001b[0m\u001b[0;34m,\u001b[0m \u001b[0;34m**\u001b[0m\u001b[0mkwargs\u001b[0m\u001b[0;34m)\u001b[0m\u001b[0;34m\u001b[0m\u001b[0;34m\u001b[0m\u001b[0m\n\u001b[0m\u001b[1;32m    322\u001b[0m                 \u001b[0;32mif\u001b[0m \u001b[0misinstance\u001b[0m\u001b[0;34m(\u001b[0m\u001b[0mresult\u001b[0m\u001b[0;34m,\u001b[0m \u001b[0masyncio\u001b[0m\u001b[0;34m.\u001b[0m\u001b[0mFuture\u001b[0m\u001b[0;34m)\u001b[0m\u001b[0;34m:\u001b[0m\u001b[0;34m\u001b[0m\u001b[0;34m\u001b[0m\u001b[0m\n\u001b[1;32m    323\u001b[0m                     \u001b[0;31m# If the result is a Future, wrap it\u001b[0m\u001b[0;34m\u001b[0m\u001b[0;34m\u001b[0m\u001b[0m\n",
            "\u001b[0;32m/usr/local/lib/python3.10/dist-packages/llama_index/core/agent/runner/base.py\u001b[0m in \u001b[0;36m_chat\u001b[0;34m(self, message, chat_history, tool_choice, mode)\u001b[0m\n\u001b[1;32m    577\u001b[0m         \u001b[0;32mwhile\u001b[0m \u001b[0;32mTrue\u001b[0m\u001b[0;34m:\u001b[0m\u001b[0;34m\u001b[0m\u001b[0;34m\u001b[0m\u001b[0m\n\u001b[1;32m    578\u001b[0m             \u001b[0;31m# pass step queue in as argument, assume step executor is stateless\u001b[0m\u001b[0;34m\u001b[0m\u001b[0;34m\u001b[0m\u001b[0m\n\u001b[0;32m--> 579\u001b[0;31m             cur_step_output = self._run_step(\n\u001b[0m\u001b[1;32m    580\u001b[0m                 \u001b[0mtask\u001b[0m\u001b[0;34m.\u001b[0m\u001b[0mtask_id\u001b[0m\u001b[0;34m,\u001b[0m \u001b[0mmode\u001b[0m\u001b[0;34m=\u001b[0m\u001b[0mmode\u001b[0m\u001b[0;34m,\u001b[0m \u001b[0mtool_choice\u001b[0m\u001b[0;34m=\u001b[0m\u001b[0mtool_choice\u001b[0m\u001b[0;34m\u001b[0m\u001b[0;34m\u001b[0m\u001b[0m\n\u001b[1;32m    581\u001b[0m             )\n",
            "\u001b[0;32m/usr/local/lib/python3.10/dist-packages/llama_index/core/instrumentation/dispatcher.py\u001b[0m in \u001b[0;36mwrapper\u001b[0;34m(func, instance, args, kwargs)\u001b[0m\n\u001b[1;32m    319\u001b[0m \u001b[0;34m\u001b[0m\u001b[0m\n\u001b[1;32m    320\u001b[0m             \u001b[0;32mtry\u001b[0m\u001b[0;34m:\u001b[0m\u001b[0;34m\u001b[0m\u001b[0;34m\u001b[0m\u001b[0m\n\u001b[0;32m--> 321\u001b[0;31m                 \u001b[0mresult\u001b[0m \u001b[0;34m=\u001b[0m \u001b[0mfunc\u001b[0m\u001b[0;34m(\u001b[0m\u001b[0;34m*\u001b[0m\u001b[0margs\u001b[0m\u001b[0;34m,\u001b[0m \u001b[0;34m**\u001b[0m\u001b[0mkwargs\u001b[0m\u001b[0;34m)\u001b[0m\u001b[0;34m\u001b[0m\u001b[0;34m\u001b[0m\u001b[0m\n\u001b[0m\u001b[1;32m    322\u001b[0m                 \u001b[0;32mif\u001b[0m \u001b[0misinstance\u001b[0m\u001b[0;34m(\u001b[0m\u001b[0mresult\u001b[0m\u001b[0;34m,\u001b[0m \u001b[0masyncio\u001b[0m\u001b[0;34m.\u001b[0m\u001b[0mFuture\u001b[0m\u001b[0;34m)\u001b[0m\u001b[0;34m:\u001b[0m\u001b[0;34m\u001b[0m\u001b[0;34m\u001b[0m\u001b[0m\n\u001b[1;32m    323\u001b[0m                     \u001b[0;31m# If the result is a Future, wrap it\u001b[0m\u001b[0;34m\u001b[0m\u001b[0;34m\u001b[0m\u001b[0m\n",
            "\u001b[0;32m/usr/local/lib/python3.10/dist-packages/llama_index/core/agent/runner/base.py\u001b[0m in \u001b[0;36m_run_step\u001b[0;34m(self, task_id, step, input, mode, **kwargs)\u001b[0m\n\u001b[1;32m    410\u001b[0m \u001b[0;34m\u001b[0m\u001b[0m\n\u001b[1;32m    411\u001b[0m         \u001b[0;32mif\u001b[0m \u001b[0mmode\u001b[0m \u001b[0;34m==\u001b[0m \u001b[0mChatResponseMode\u001b[0m\u001b[0;34m.\u001b[0m\u001b[0mWAIT\u001b[0m\u001b[0;34m:\u001b[0m\u001b[0;34m\u001b[0m\u001b[0;34m\u001b[0m\u001b[0m\n\u001b[0;32m--> 412\u001b[0;31m             \u001b[0mcur_step_output\u001b[0m \u001b[0;34m=\u001b[0m \u001b[0mself\u001b[0m\u001b[0;34m.\u001b[0m\u001b[0magent_worker\u001b[0m\u001b[0;34m.\u001b[0m\u001b[0mrun_step\u001b[0m\u001b[0;34m(\u001b[0m\u001b[0mstep\u001b[0m\u001b[0;34m,\u001b[0m \u001b[0mtask\u001b[0m\u001b[0;34m,\u001b[0m \u001b[0;34m**\u001b[0m\u001b[0mkwargs\u001b[0m\u001b[0;34m)\u001b[0m\u001b[0;34m\u001b[0m\u001b[0;34m\u001b[0m\u001b[0m\n\u001b[0m\u001b[1;32m    413\u001b[0m         \u001b[0;32melif\u001b[0m \u001b[0mmode\u001b[0m \u001b[0;34m==\u001b[0m \u001b[0mChatResponseMode\u001b[0m\u001b[0;34m.\u001b[0m\u001b[0mSTREAM\u001b[0m\u001b[0;34m:\u001b[0m\u001b[0;34m\u001b[0m\u001b[0;34m\u001b[0m\u001b[0m\n\u001b[1;32m    414\u001b[0m             \u001b[0mcur_step_output\u001b[0m \u001b[0;34m=\u001b[0m \u001b[0mself\u001b[0m\u001b[0;34m.\u001b[0m\u001b[0magent_worker\u001b[0m\u001b[0;34m.\u001b[0m\u001b[0mstream_step\u001b[0m\u001b[0;34m(\u001b[0m\u001b[0mstep\u001b[0m\u001b[0;34m,\u001b[0m \u001b[0mtask\u001b[0m\u001b[0;34m,\u001b[0m \u001b[0;34m**\u001b[0m\u001b[0mkwargs\u001b[0m\u001b[0;34m)\u001b[0m\u001b[0;34m\u001b[0m\u001b[0;34m\u001b[0m\u001b[0m\n",
            "\u001b[0;32m/usr/local/lib/python3.10/dist-packages/llama_index/core/instrumentation/dispatcher.py\u001b[0m in \u001b[0;36mwrapper\u001b[0;34m(func, instance, args, kwargs)\u001b[0m\n\u001b[1;32m    319\u001b[0m \u001b[0;34m\u001b[0m\u001b[0m\n\u001b[1;32m    320\u001b[0m             \u001b[0;32mtry\u001b[0m\u001b[0;34m:\u001b[0m\u001b[0;34m\u001b[0m\u001b[0;34m\u001b[0m\u001b[0m\n\u001b[0;32m--> 321\u001b[0;31m                 \u001b[0mresult\u001b[0m \u001b[0;34m=\u001b[0m \u001b[0mfunc\u001b[0m\u001b[0;34m(\u001b[0m\u001b[0;34m*\u001b[0m\u001b[0margs\u001b[0m\u001b[0;34m,\u001b[0m \u001b[0;34m**\u001b[0m\u001b[0mkwargs\u001b[0m\u001b[0;34m)\u001b[0m\u001b[0;34m\u001b[0m\u001b[0;34m\u001b[0m\u001b[0m\n\u001b[0m\u001b[1;32m    322\u001b[0m                 \u001b[0;32mif\u001b[0m \u001b[0misinstance\u001b[0m\u001b[0;34m(\u001b[0m\u001b[0mresult\u001b[0m\u001b[0;34m,\u001b[0m \u001b[0masyncio\u001b[0m\u001b[0;34m.\u001b[0m\u001b[0mFuture\u001b[0m\u001b[0;34m)\u001b[0m\u001b[0;34m:\u001b[0m\u001b[0;34m\u001b[0m\u001b[0;34m\u001b[0m\u001b[0m\n\u001b[1;32m    323\u001b[0m                     \u001b[0;31m# If the result is a Future, wrap it\u001b[0m\u001b[0;34m\u001b[0m\u001b[0;34m\u001b[0m\u001b[0m\n",
            "\u001b[0;32m/usr/local/lib/python3.10/dist-packages/llama_index/core/callbacks/utils.py\u001b[0m in \u001b[0;36mwrapper\u001b[0;34m(self, *args, **kwargs)\u001b[0m\n\u001b[1;32m     39\u001b[0m             \u001b[0mcallback_manager\u001b[0m \u001b[0;34m=\u001b[0m \u001b[0mcast\u001b[0m\u001b[0;34m(\u001b[0m\u001b[0mCallbackManager\u001b[0m\u001b[0;34m,\u001b[0m \u001b[0mcallback_manager\u001b[0m\u001b[0;34m)\u001b[0m\u001b[0;34m\u001b[0m\u001b[0;34m\u001b[0m\u001b[0m\n\u001b[1;32m     40\u001b[0m             \u001b[0;32mwith\u001b[0m \u001b[0mcallback_manager\u001b[0m\u001b[0;34m.\u001b[0m\u001b[0mas_trace\u001b[0m\u001b[0;34m(\u001b[0m\u001b[0mtrace_id\u001b[0m\u001b[0;34m)\u001b[0m\u001b[0;34m:\u001b[0m\u001b[0;34m\u001b[0m\u001b[0;34m\u001b[0m\u001b[0m\n\u001b[0;32m---> 41\u001b[0;31m                 \u001b[0;32mreturn\u001b[0m \u001b[0mfunc\u001b[0m\u001b[0;34m(\u001b[0m\u001b[0mself\u001b[0m\u001b[0;34m,\u001b[0m \u001b[0;34m*\u001b[0m\u001b[0margs\u001b[0m\u001b[0;34m,\u001b[0m \u001b[0;34m**\u001b[0m\u001b[0mkwargs\u001b[0m\u001b[0;34m)\u001b[0m\u001b[0;34m\u001b[0m\u001b[0;34m\u001b[0m\u001b[0m\n\u001b[0m\u001b[1;32m     42\u001b[0m \u001b[0;34m\u001b[0m\u001b[0m\n\u001b[1;32m     43\u001b[0m         \u001b[0;34m@\u001b[0m\u001b[0mfunctools\u001b[0m\u001b[0;34m.\u001b[0m\u001b[0mwraps\u001b[0m\u001b[0;34m(\u001b[0m\u001b[0mfunc\u001b[0m\u001b[0;34m)\u001b[0m  \u001b[0;31m# preserve signature, name, etc. of func\u001b[0m\u001b[0;34m\u001b[0m\u001b[0;34m\u001b[0m\u001b[0m\n",
            "\u001b[0;32m/usr/local/lib/python3.10/dist-packages/llama_index/core/agent/function_calling/step.py\u001b[0m in \u001b[0;36mrun_step\u001b[0;34m(self, step, task, **kwargs)\u001b[0m\n\u001b[1;32m    306\u001b[0m \u001b[0;34m\u001b[0m\u001b[0m\n\u001b[1;32m    307\u001b[0m         \u001b[0;31m# get response and tool call (if exists)\u001b[0m\u001b[0;34m\u001b[0m\u001b[0;34m\u001b[0m\u001b[0m\n\u001b[0;32m--> 308\u001b[0;31m         response = self._llm.chat_with_tools(\n\u001b[0m\u001b[1;32m    309\u001b[0m             \u001b[0mtools\u001b[0m\u001b[0;34m=\u001b[0m\u001b[0mtools\u001b[0m\u001b[0;34m,\u001b[0m\u001b[0;34m\u001b[0m\u001b[0;34m\u001b[0m\u001b[0m\n\u001b[1;32m    310\u001b[0m             \u001b[0muser_msg\u001b[0m\u001b[0;34m=\u001b[0m\u001b[0;32mNone\u001b[0m\u001b[0;34m,\u001b[0m\u001b[0;34m\u001b[0m\u001b[0;34m\u001b[0m\u001b[0m\n",
            "\u001b[0;32m/usr/local/lib/python3.10/dist-packages/llama_index/core/llms/function_calling.py\u001b[0m in \u001b[0;36mchat_with_tools\u001b[0;34m(self, tools, user_msg, chat_history, verbose, allow_parallel_tool_calls, **kwargs)\u001b[0m\n\u001b[1;32m     45\u001b[0m             \u001b[0;34m**\u001b[0m\u001b[0mkwargs\u001b[0m\u001b[0;34m,\u001b[0m\u001b[0;34m\u001b[0m\u001b[0;34m\u001b[0m\u001b[0m\n\u001b[1;32m     46\u001b[0m         )\n\u001b[0;32m---> 47\u001b[0;31m         \u001b[0mresponse\u001b[0m \u001b[0;34m=\u001b[0m \u001b[0mself\u001b[0m\u001b[0;34m.\u001b[0m\u001b[0mchat\u001b[0m\u001b[0;34m(\u001b[0m\u001b[0;34m**\u001b[0m\u001b[0mchat_kwargs\u001b[0m\u001b[0;34m)\u001b[0m\u001b[0;34m\u001b[0m\u001b[0;34m\u001b[0m\u001b[0m\n\u001b[0m\u001b[1;32m     48\u001b[0m         return self._validate_chat_with_tools_response(\n\u001b[1;32m     49\u001b[0m             \u001b[0mresponse\u001b[0m\u001b[0;34m,\u001b[0m\u001b[0;34m\u001b[0m\u001b[0;34m\u001b[0m\u001b[0m\n",
            "\u001b[0;32m/usr/local/lib/python3.10/dist-packages/llama_index/core/instrumentation/dispatcher.py\u001b[0m in \u001b[0;36mwrapper\u001b[0;34m(func, instance, args, kwargs)\u001b[0m\n\u001b[1;32m    319\u001b[0m \u001b[0;34m\u001b[0m\u001b[0m\n\u001b[1;32m    320\u001b[0m             \u001b[0;32mtry\u001b[0m\u001b[0;34m:\u001b[0m\u001b[0;34m\u001b[0m\u001b[0;34m\u001b[0m\u001b[0m\n\u001b[0;32m--> 321\u001b[0;31m                 \u001b[0mresult\u001b[0m \u001b[0;34m=\u001b[0m \u001b[0mfunc\u001b[0m\u001b[0;34m(\u001b[0m\u001b[0;34m*\u001b[0m\u001b[0margs\u001b[0m\u001b[0;34m,\u001b[0m \u001b[0;34m**\u001b[0m\u001b[0mkwargs\u001b[0m\u001b[0;34m)\u001b[0m\u001b[0;34m\u001b[0m\u001b[0;34m\u001b[0m\u001b[0m\n\u001b[0m\u001b[1;32m    322\u001b[0m                 \u001b[0;32mif\u001b[0m \u001b[0misinstance\u001b[0m\u001b[0;34m(\u001b[0m\u001b[0mresult\u001b[0m\u001b[0;34m,\u001b[0m \u001b[0masyncio\u001b[0m\u001b[0;34m.\u001b[0m\u001b[0mFuture\u001b[0m\u001b[0;34m)\u001b[0m\u001b[0;34m:\u001b[0m\u001b[0;34m\u001b[0m\u001b[0;34m\u001b[0m\u001b[0m\n\u001b[1;32m    323\u001b[0m                     \u001b[0;31m# If the result is a Future, wrap it\u001b[0m\u001b[0;34m\u001b[0m\u001b[0;34m\u001b[0m\u001b[0m\n",
            "\u001b[0;32m/usr/local/lib/python3.10/dist-packages/llama_index/core/llms/callbacks.py\u001b[0m in \u001b[0;36mwrapped_llm_chat\u001b[0;34m(_self, messages, **kwargs)\u001b[0m\n\u001b[1;32m    171\u001b[0m                 )\n\u001b[1;32m    172\u001b[0m                 \u001b[0;32mtry\u001b[0m\u001b[0;34m:\u001b[0m\u001b[0;34m\u001b[0m\u001b[0;34m\u001b[0m\u001b[0m\n\u001b[0;32m--> 173\u001b[0;31m                     \u001b[0mf_return_val\u001b[0m \u001b[0;34m=\u001b[0m \u001b[0mf\u001b[0m\u001b[0;34m(\u001b[0m\u001b[0m_self\u001b[0m\u001b[0;34m,\u001b[0m \u001b[0mmessages\u001b[0m\u001b[0;34m,\u001b[0m \u001b[0;34m**\u001b[0m\u001b[0mkwargs\u001b[0m\u001b[0;34m)\u001b[0m\u001b[0;34m\u001b[0m\u001b[0;34m\u001b[0m\u001b[0m\n\u001b[0m\u001b[1;32m    174\u001b[0m                 \u001b[0;32mexcept\u001b[0m \u001b[0mBaseException\u001b[0m \u001b[0;32mas\u001b[0m \u001b[0me\u001b[0m\u001b[0;34m:\u001b[0m\u001b[0;34m\u001b[0m\u001b[0;34m\u001b[0m\u001b[0m\n\u001b[1;32m    175\u001b[0m                     callback_manager.on_event_end(\n",
            "\u001b[0;32m/usr/local/lib/python3.10/dist-packages/llama_index/llms/ai21/base.py\u001b[0m in \u001b[0;36mchat\u001b[0;34m(self, messages, **kwargs)\u001b[0m\n\u001b[1;32m    240\u001b[0m \u001b[0;34m\u001b[0m\u001b[0m\n\u001b[1;32m    241\u001b[0m         \u001b[0mmessages\u001b[0m \u001b[0;34m=\u001b[0m \u001b[0;34m[\u001b[0m\u001b[0mmessage_to_ai21_message\u001b[0m\u001b[0;34m(\u001b[0m\u001b[0mmessage\u001b[0m\u001b[0;34m)\u001b[0m \u001b[0;32mfor\u001b[0m \u001b[0mmessage\u001b[0m \u001b[0;32min\u001b[0m \u001b[0mmessages\u001b[0m\u001b[0;34m]\u001b[0m\u001b[0;34m\u001b[0m\u001b[0;34m\u001b[0m\u001b[0m\n\u001b[0;32m--> 242\u001b[0;31m         response = self._client.chat.completions.create(\n\u001b[0m\u001b[1;32m    243\u001b[0m             \u001b[0mmessages\u001b[0m\u001b[0;34m=\u001b[0m\u001b[0mmessages\u001b[0m\u001b[0;34m,\u001b[0m\u001b[0;34m\u001b[0m\u001b[0;34m\u001b[0m\u001b[0m\n\u001b[1;32m    244\u001b[0m             \u001b[0mstream\u001b[0m\u001b[0;34m=\u001b[0m\u001b[0;32mFalse\u001b[0m\u001b[0;34m,\u001b[0m\u001b[0;34m\u001b[0m\u001b[0;34m\u001b[0m\u001b[0m\n",
            "\u001b[0;32m/usr/local/lib/python3.10/dist-packages/ai21/clients/studio/resources/chat/chat_completions.py\u001b[0m in \u001b[0;36mcreate\u001b[0;34m(self, messages, model, max_tokens, temperature, top_p, stop, n, stream, tools, response_format, documents, **kwargs)\u001b[0m\n\u001b[1;32m     90\u001b[0m         )\n\u001b[1;32m     91\u001b[0m \u001b[0;34m\u001b[0m\u001b[0m\n\u001b[0;32m---> 92\u001b[0;31m         return self._post(\n\u001b[0m\u001b[1;32m     93\u001b[0m             \u001b[0mpath\u001b[0m\u001b[0;34m=\u001b[0m\u001b[0;34mf\"/{self._module_name}\"\u001b[0m\u001b[0;34m,\u001b[0m\u001b[0;34m\u001b[0m\u001b[0;34m\u001b[0m\u001b[0m\n\u001b[1;32m     94\u001b[0m             \u001b[0mbody\u001b[0m\u001b[0;34m=\u001b[0m\u001b[0mbody\u001b[0m\u001b[0;34m,\u001b[0m\u001b[0;34m\u001b[0m\u001b[0;34m\u001b[0m\u001b[0m\n",
            "\u001b[0;32m/usr/local/lib/python3.10/dist-packages/ai21/clients/studio/resources/studio_resource.py\u001b[0m in \u001b[0;36m_post\u001b[0;34m(self, path, body, params, response_cls, stream_cls, stream, files)\u001b[0m\n\u001b[1;32m     58\u001b[0m         \u001b[0mfiles\u001b[0m\u001b[0;34m:\u001b[0m \u001b[0mOptional\u001b[0m\u001b[0;34m[\u001b[0m\u001b[0mDict\u001b[0m\u001b[0;34m[\u001b[0m\u001b[0mstr\u001b[0m\u001b[0;34m,\u001b[0m \u001b[0mBinaryIO\u001b[0m\u001b[0;34m]\u001b[0m\u001b[0;34m]\u001b[0m \u001b[0;34m=\u001b[0m \u001b[0;32mNone\u001b[0m\u001b[0;34m,\u001b[0m\u001b[0;34m\u001b[0m\u001b[0;34m\u001b[0m\u001b[0m\n\u001b[1;32m     59\u001b[0m     ) -> ResponseT | StreamT:\n\u001b[0;32m---> 60\u001b[0;31m         response = self._client.execute_http_request(\n\u001b[0m\u001b[1;32m     61\u001b[0m             \u001b[0mmethod\u001b[0m\u001b[0;34m=\u001b[0m\u001b[0;34m\"POST\"\u001b[0m\u001b[0;34m,\u001b[0m\u001b[0;34m\u001b[0m\u001b[0;34m\u001b[0m\u001b[0m\n\u001b[1;32m     62\u001b[0m             \u001b[0mpath\u001b[0m\u001b[0;34m=\u001b[0m\u001b[0mpath\u001b[0m\u001b[0;34m,\u001b[0m\u001b[0;34m\u001b[0m\u001b[0;34m\u001b[0m\u001b[0m\n",
            "\u001b[0;32m/usr/local/lib/python3.10/dist-packages/ai21/http_client/http_client.py\u001b[0m in \u001b[0;36mexecute_http_request\u001b[0;34m(self, method, path, params, body, stream, files, extra_headers)\u001b[0m\n\u001b[1;32m    108\u001b[0m                 \u001b[0mhandle_non_success_response\u001b[0m\u001b[0;34m(\u001b[0m\u001b[0mresponse\u001b[0m\u001b[0;34m.\u001b[0m\u001b[0mstatus_code\u001b[0m\u001b[0;34m,\u001b[0m \u001b[0mdetails\u001b[0m\u001b[0;34m)\u001b[0m\u001b[0;34m\u001b[0m\u001b[0;34m\u001b[0m\u001b[0m\n\u001b[1;32m    109\u001b[0m             \u001b[0;32melse\u001b[0m\u001b[0;34m:\u001b[0m\u001b[0;34m\u001b[0m\u001b[0;34m\u001b[0m\u001b[0m\n\u001b[0;32m--> 110\u001b[0;31m                 \u001b[0mhandle_non_success_response\u001b[0m\u001b[0;34m(\u001b[0m\u001b[0mresponse\u001b[0m\u001b[0;34m.\u001b[0m\u001b[0mstatus_code\u001b[0m\u001b[0;34m,\u001b[0m \u001b[0mresponse\u001b[0m\u001b[0;34m.\u001b[0m\u001b[0mtext\u001b[0m\u001b[0;34m)\u001b[0m\u001b[0;34m\u001b[0m\u001b[0;34m\u001b[0m\u001b[0m\n\u001b[0m\u001b[1;32m    111\u001b[0m \u001b[0;34m\u001b[0m\u001b[0m\n\u001b[1;32m    112\u001b[0m         \u001b[0;32mreturn\u001b[0m \u001b[0mresponse\u001b[0m\u001b[0;34m\u001b[0m\u001b[0;34m\u001b[0m\u001b[0m\n",
            "\u001b[0;32m/usr/local/lib/python3.10/dist-packages/ai21/http_client/base_http_client.py\u001b[0m in \u001b[0;36mhandle_non_success_response\u001b[0;34m(status_code, response_text)\u001b[0m\n\u001b[1;32m     40\u001b[0m         \u001b[0;32mraise\u001b[0m \u001b[0mUnauthorized\u001b[0m\u001b[0;34m(\u001b[0m\u001b[0mdetails\u001b[0m\u001b[0;34m=\u001b[0m\u001b[0mresponse_text\u001b[0m\u001b[0;34m)\u001b[0m\u001b[0;34m\u001b[0m\u001b[0;34m\u001b[0m\u001b[0m\n\u001b[1;32m     41\u001b[0m     \u001b[0;32mif\u001b[0m \u001b[0mstatus_code\u001b[0m \u001b[0;34m==\u001b[0m \u001b[0;36m422\u001b[0m\u001b[0;34m:\u001b[0m\u001b[0;34m\u001b[0m\u001b[0;34m\u001b[0m\u001b[0m\n\u001b[0;32m---> 42\u001b[0;31m         \u001b[0;32mraise\u001b[0m \u001b[0mUnprocessableEntity\u001b[0m\u001b[0;34m(\u001b[0m\u001b[0mdetails\u001b[0m\u001b[0;34m=\u001b[0m\u001b[0mresponse_text\u001b[0m\u001b[0;34m)\u001b[0m\u001b[0;34m\u001b[0m\u001b[0;34m\u001b[0m\u001b[0m\n\u001b[0m\u001b[1;32m     43\u001b[0m     \u001b[0;32mif\u001b[0m \u001b[0mstatus_code\u001b[0m \u001b[0;34m==\u001b[0m \u001b[0;36m429\u001b[0m\u001b[0;34m:\u001b[0m\u001b[0;34m\u001b[0m\u001b[0;34m\u001b[0m\u001b[0m\n\u001b[1;32m     44\u001b[0m         \u001b[0;32mraise\u001b[0m \u001b[0mTooManyRequestsError\u001b[0m\u001b[0;34m(\u001b[0m\u001b[0mdetails\u001b[0m\u001b[0;34m=\u001b[0m\u001b[0mresponse_text\u001b[0m\u001b[0;34m)\u001b[0m\u001b[0;34m\u001b[0m\u001b[0;34m\u001b[0m\u001b[0m\n",
            "\u001b[0;31mUnprocessableEntity\u001b[0m: Failed with http status code: 422 (UnprocessableEntity). Details: {\"detail\":{\"error\":[\"Value error, message content must not be an empty string\"]}}"
          ]
        }
      ]
    },
    {
      "cell_type": "code",
      "source": [
        "import warnings\n",
        "warnings.filterwarnings('ignore')\n",
        "from ai21 import AI21Client\n",
        "from ai21.logger import set_verbose\n",
        "from ai21.models.chat import ChatMessage, ToolMessage, FunctionToolDefinition, ToolDefinition, ToolParameters\n",
        "import json, requests, re\n",
        "from bs4 import BeautifulSoup"
      ],
      "metadata": {
        "id": "POis7jSQhxLO"
      },
      "execution_count": 90,
      "outputs": []
    },
    {
      "cell_type": "code",
      "source": [
        "client = AI21Client(api_key=key)"
      ],
      "metadata": {
        "id": "58FUPjL-kv14"
      },
      "execution_count": 91,
      "outputs": []
    },
    {
      "cell_type": "code",
      "source": [
        "multiplication_tool = ToolDefinition(\n",
        "    type=\"function\",\n",
        "    function=FunctionToolDefinition(\n",
        "        name=\"multiplication\",\n",
        "        description=\"Multiply two numbers\",\n",
        "        parameters=ToolParameters(\n",
        "            type=\"object\",\n",
        "            properties={\n",
        "                \"a\": {\"type\": \"number\", \"description\": \"The first number to multiply\"},\n",
        "                \"b\": {\"type\": \"number\", \"description\": \"The second number to multiply\"}\n",
        "            },\n",
        "            required=[\"a\", \"b\"],\n",
        "        ),\n",
        "    ),\n",
        ")\n",
        "\n",
        "addition_tool = ToolDefinition(\n",
        "    type=\"function\",\n",
        "    function=FunctionToolDefinition(\n",
        "        name=\"addition\",\n",
        "        description=\"Add two numbers\",\n",
        "        parameters=ToolParameters(\n",
        "            type=\"object\",\n",
        "            properties={\n",
        "                \"a\": {\"type\": \"number\", \"description\": \"The first number to add\"},\n",
        "                \"b\": {\"type\": \"number\", \"description\": \"The second number to add\"}\n",
        "            },\n",
        "            required=[\"a\", \"b\"],\n",
        "        ),\n",
        "    ),\n",
        ")"
      ],
      "metadata": {
        "id": "D-ATE5YbgefX"
      },
      "execution_count": 86,
      "outputs": []
    },
    {
      "cell_type": "code",
      "source": [
        "tools = [multiplication_tool, addition_tool]"
      ],
      "metadata": {
        "id": "HOExOTBjiQTr"
      },
      "execution_count": 87,
      "outputs": []
    },
    {
      "cell_type": "code",
      "source": [
        "messages = [\n",
        "    ChatMessage(role=\"system\", content=\"You are a helpful math assistant. Use the supplied tools to assist the user.\"),\n",
        "    ChatMessage(role=\"user\", content=\"What is the capital of France\")\n",
        "]"
      ],
      "metadata": {
        "id": "REVKiQ6cggd9"
      },
      "execution_count": 88,
      "outputs": []
    },
    {
      "cell_type": "code",
      "source": [
        "response = client.chat.completions.create(\n",
        "    messages=messages,\n",
        "    model=\"jamba-1.5-large\",\n",
        "    tools=tools)\n",
        "response.choices[0].message"
      ],
      "metadata": {
        "colab": {
          "base_uri": "https://localhost:8080/"
        },
        "id": "CM0OYQ8-k2Zy",
        "outputId": "2667dc88-5164-4dd0-f347-1316a8655711"
      },
      "execution_count": 92,
      "outputs": [
        {
          "output_type": "execute_result",
          "data": {
            "text/plain": [
              "AssistantMessage(role='assistant', content='The capital of France is Paris.', tool_calls=None)"
            ]
          },
          "metadata": {},
          "execution_count": 92
        }
      ]
    },
    {
      "cell_type": "code",
      "source": [
        "messages = [\n",
        "    ChatMessage(role=\"system\", content=\"You are a helpful math assistant. Use the supplied tools to assist the user.\"),\n",
        "    ChatMessage(role=\"user\", content=\"Can you help me multiply 62.74 and 3.5?\")\n",
        "]"
      ],
      "metadata": {
        "id": "nrx0rL_ak8ni"
      },
      "execution_count": 93,
      "outputs": []
    },
    {
      "cell_type": "code",
      "source": [
        "response = client.chat.completions.create(messages=messages, model=\"jamba-1.5-large\", tools=tools)\n",
        "response.choices[0].message"
      ],
      "metadata": {
        "colab": {
          "base_uri": "https://localhost:8080/"
        },
        "id": "r6vKSqK4k_iS",
        "outputId": "702d6b60-2fe7-44db-b70b-8c75cdab159a"
      },
      "execution_count": 94,
      "outputs": [
        {
          "output_type": "execute_result",
          "data": {
            "text/plain": [
              "AssistantMessage(role='assistant', content=None, tool_calls=[ToolCall(id='chatcmpl-tool-ccafa54e820e42f0a39659e7c6763317', function=ToolFunction(name='multiplication', arguments='{\"a\": 62.74, \"b\": 3.5}'), type='function')])"
            ]
          },
          "metadata": {},
          "execution_count": 94
        }
      ]
    },
    {
      "cell_type": "code",
      "source": [
        "assistant_message = response.choices[0].message\n",
        "tool_call = assistant_message.tool_calls[0]\n",
        "tools_parameters_dict = json.loads(tool_call.function.arguments)\n",
        "\n",
        "tool_result = multiplication(tools_parameters_dict[\"a\"], tools_parameters_dict[\"b\"])\n",
        "tool_result"
      ],
      "metadata": {
        "colab": {
          "base_uri": "https://localhost:8080/"
        },
        "id": "hAKC7uBElCeA",
        "outputId": "90592597-e079-420a-fdbe-c5d12eaa55b3"
      },
      "execution_count": 95,
      "outputs": [
        {
          "output_type": "stream",
          "name": "stdout",
          "text": [
            "Multiplying 62.74 and 3.5...\n"
          ]
        },
        {
          "output_type": "execute_result",
          "data": {
            "text/plain": [
              "219.59"
            ]
          },
          "metadata": {},
          "execution_count": 95
        }
      ]
    },
    {
      "cell_type": "code",
      "source": [
        "tool_message = ToolMessage(role=\"tool\",\n",
        "                           tool_call_id=tool_call.id,\n",
        "                           content=str(tool_result))"
      ],
      "metadata": {
        "id": "3_CIwkq7lFIC"
      },
      "execution_count": 96,
      "outputs": []
    },
    {
      "cell_type": "code",
      "source": [
        "messages.append(assistant_message)\n",
        "messages.append(tool_message)\n",
        "response_final = client.chat.completions.create(\n",
        "    messages=messages,\n",
        "    model=\"jamba-1.5-large\")\n",
        "response_final.choices[0].message.content"
      ],
      "metadata": {
        "colab": {
          "base_uri": "https://localhost:8080/",
          "height": 36
        },
        "id": "m_BFqKMllHTT",
        "outputId": "859b726c-fd5f-4b6f-c55d-4164a86b23bf"
      },
      "execution_count": 97,
      "outputs": [
        {
          "output_type": "execute_result",
          "data": {
            "text/plain": [
              "'The product of 62.74 and 3.5 is 219.59.'"
            ],
            "application/vnd.google.colaboratory.intrinsic+json": {
              "type": "string"
            }
          },
          "metadata": {},
          "execution_count": 97
        }
      ]
    },
    {
      "cell_type": "markdown",
      "source": [
        "## SEC 10-Q analysis tool calling with Jamba"
      ],
      "metadata": {
        "id": "T8i3LveRlOQn"
      }
    },
    {
      "cell_type": "code",
      "source": [
        "import os\n",
        "import json, requests, re\n",
        "from bs4 import BeautifulSoup\n",
        "\n",
        "def sec_10q(ticker: str) -> dict:\n",
        "    headers = {'User-Agent': 'Company Name CompanyEmail@domain.com'}\n",
        "\n",
        "    try:\n",
        "        # Step 1: Get the CIK number\n",
        "        cik_lookup_url = f\"https://www.sec.gov/cgi-bin/browse-edgar?CIK={ticker}&owner=exclude&action=getcompany\"\n",
        "        response = requests.get(cik_lookup_url, headers=headers)\n",
        "        response.raise_for_status()\n",
        "        cik_match = re.search(r'CIK=(\\d{10})', response.text)\n",
        "        if not cik_match:\n",
        "            return {\"error\": f\"CIK not found for ticker {ticker}\"}\n",
        "        cik = cik_match.group(1)\n",
        "        # Step 2: Get the latest 10-Q filing\n",
        "        filing_lookup_url = f\"https://www.sec.gov/cgi-bin/browse-edgar?action=getcompany&CIK={cik}&type=10-Q&dateb=&owner=exclude&count=1\"\n",
        "        response = requests.get(filing_lookup_url, headers=headers)\n",
        "        response.raise_for_status()\n",
        "        doc_link_match = re.search(r'<a href=\"(/Archives/edgar/data/[^\"]+)\"', response.text)\n",
        "        if not doc_link_match:\n",
        "            return {\"error\": f\"Latest 10-Q filing not found for ticker {ticker}\"}\n",
        "        doc_link = \"https://www.sec.gov\" + doc_link_match.group(1)\n",
        "        # Step 3: Get the index page of the filing\n",
        "        response = requests.get(doc_link, headers=headers)\n",
        "        response.raise_for_status()\n",
        "\n",
        "        # Step 4: Find the link to the actual 10-Q document\n",
        "        soup = BeautifulSoup(response.content, 'html.parser')\n",
        "        table = soup.find('table', class_='tableFile')\n",
        "        if not table:\n",
        "            return {\"error\": \"Unable to find the document table\"}\n",
        "\n",
        "        for row in table.find_all('tr'):\n",
        "            cells = row.find_all('td')\n",
        "            if len(cells) >= 4 and '10-Q' in cells[3].text:\n",
        "                doc_href = cells[2].a['href']\n",
        "                full_doc_url = f\"https://www.sec.gov{doc_href}\"\n",
        "                break\n",
        "        else:\n",
        "            return {\"error\": \"10-Q document link not found in the index\"}\n",
        "\n",
        "        # Remove 'ix?doc=/' from the URL\n",
        "        full_doc_url = full_doc_url.replace('ix?doc=/', '')\n",
        "        # Step 5: Get the actual 10-Q document\n",
        "        response = requests.get(full_doc_url, headers=headers)\n",
        "        response.raise_for_status()\n",
        "        soup = BeautifulSoup(response.content, 'html.parser')\n",
        "\n",
        "        # Extract text from the document\n",
        "        full_text = ' '.join(soup.stripped_strings)\n",
        "        # limit the full_text to 250000 characters\n",
        "        full_text = full_text[:250000]\n",
        "\n",
        "        return {\n",
        "            \"ticker\": ticker,\n",
        "            \"filing_type\": \"10-Q\",\n",
        "            \"filing_url\": full_doc_url,\n",
        "            \"full_text\": full_text,\n",
        "            \"full_text_length\": len(full_text)\n",
        "        }\n",
        "\n",
        "    except requests.RequestException as e:\n",
        "        return {\"error\": f\"HTTP request failed: {str(e)}\"}\n",
        "    except Exception as e:\n",
        "        return {\"error\": f\"An unexpected error occurred: {str(e)}\"}\n"
      ],
      "metadata": {
        "id": "GJi-jsiml_G7"
      },
      "execution_count": 100,
      "outputs": []
    },
    {
      "cell_type": "code",
      "source": [
        "tool_definition = ToolDefinition(\n",
        "    type=\"function\",\n",
        "    function=FunctionToolDefinition(\n",
        "        name=\"sec_10q\",\n",
        "        description=\"Retrieve the full text of the latest 10-Q filing for a given company ticker\",\n",
        "        parameters=ToolParameters(\n",
        "            type=\"object\",\n",
        "            properties={\n",
        "                \"ticker\": {\"type\": \"string\", \"description\": \"The ticker symbol of the company\"}\n",
        "            },\n",
        "            required=[\"ticker\"],\n",
        "        ),\n",
        "    ),\n",
        ")"
      ],
      "metadata": {
        "id": "JV1ra1aRlR7H"
      },
      "execution_count": 98,
      "outputs": []
    },
    {
      "cell_type": "code",
      "source": [
        "tools = [tool_definition]"
      ],
      "metadata": {
        "id": "wbSc5fvKlUVZ"
      },
      "execution_count": 99,
      "outputs": []
    },
    {
      "cell_type": "code",
      "source": [
        "messages = [\n",
        "    ChatMessage(\n",
        "        role=\"system\",\n",
        "        content=\"You are a helpful financial assistant. Use the supplied tools to assist the user with quarterly financial data.\",\n",
        "    ),\n",
        "    ChatMessage(\n",
        "        role=\"user\",\n",
        "        content=\"Provide a summary of Nvidia's most recent quarterly 10-Q filing\"),\n",
        "]"
      ],
      "metadata": {
        "id": "6J7SoxtqmOK5"
      },
      "execution_count": 101,
      "outputs": []
    },
    {
      "cell_type": "code",
      "source": [
        "response = client.chat.completions.create(\n",
        "    messages=messages,\n",
        "    model=\"jamba-1.5-large\",\n",
        "    tools=tools)\n",
        "response"
      ],
      "metadata": {
        "colab": {
          "base_uri": "https://localhost:8080/"
        },
        "id": "PTsr3qzWmQXY",
        "outputId": "2f4b1044-f127-42db-8f99-d76bf2735185"
      },
      "execution_count": 102,
      "outputs": [
        {
          "output_type": "execute_result",
          "data": {
            "text/plain": [
              "ChatCompletionResponse(id='chatcmpl-fa4ffc61-7862-8802-7ed6-2a94f0760a96', choices=[ChatCompletionResponseChoice(index=0, message=AssistantMessage(role='assistant', content=None, tool_calls=[ToolCall(id='chatcmpl-tool-ad094c1845a1405297d88bb43db76c91', function=ToolFunction(name='sec_10q', arguments='{\"ticker\": \"NVDA\"}'), type='function')]), logprobs=None, finish_reason='tool_calls')], usage=UsageInfo(prompt_tokens=179, completion_tokens=31, total_tokens=210))"
            ]
          },
          "metadata": {},
          "execution_count": 102
        }
      ]
    },
    {
      "cell_type": "code",
      "source": [
        "assistant_message = response.choices[0].message\n",
        "tool_call = assistant_message.tool_calls[0]\n",
        "tools_parameters_dict = json.loads(tool_call.function.arguments)\n",
        "\n",
        "tool_result = sec_10q(tools_parameters_dict[\"ticker\"])\n",
        "tool_result"
      ],
      "metadata": {
        "colab": {
          "base_uri": "https://localhost:8080/"
        },
        "id": "nBL-U1DRmTmV",
        "outputId": "cd110495-3a12-475f-8951-85de294bf0b5"
      },
      "execution_count": 103,
      "outputs": [
        {
          "output_type": "execute_result",
          "data": {
            "text/plain": [
              "{'ticker': 'NVDA',\n",
              " 'filing_type': '10-Q',\n",
              " 'filing_url': 'https://www.sec.gov/Archives/edgar/data/1045810/000104581024000316/nvda-20241027.htm',\n",
              " 'full_text': 'nvda-20241027 0001045810 1/26 2025 Q3 FALSE http://fasb.org/us-gaap/2024#AccruedLiabilitiesCurrent http://fasb.org/us-gaap/2024#AccruedLiabilitiesCurrent 0 550 456 xbrli:shares iso4217:USD iso4217:USD xbrli:shares xbrli:pure nvda:segment 0001045810 2024-01-29 2024-10-27 0001045810 2024-11-15 0001045810 2024-07-29 2024-10-27 0001045810 2023-07-31 2023-10-29 0001045810 2023-01-30 2023-10-29 0001045810 2024-10-27 0001045810 2024-01-28 0001045810 us-gaap:CommonStockMember 2024-07-28 0001045810 us-gaap:AdditionalPaidInCapitalMember 2024-07-28 0001045810 us-gaap:AccumulatedOtherComprehensiveIncomeMember 2024-07-28 0001045810 us-gaap:RetainedEarningsMember 2024-07-28 0001045810 2024-07-28 0001045810 us-gaap:RetainedEarningsMember 2024-07-29 2024-10-27 0001045810 us-gaap:AccumulatedOtherComprehensiveIncomeMember 2024-07-29 2024-10-27 0001045810 us-gaap:CommonStockMember 2024-07-29 2024-10-27 0001045810 us-gaap:AdditionalPaidInCapitalMember 2024-07-29 2024-10-27 0001045810 us-gaap:CommonStockMember 2024-10-27 0001045810 us-gaap:AdditionalPaidInCapitalMember 2024-10-27 0001045810 us-gaap:AccumulatedOtherComprehensiveIncomeMember 2024-10-27 0001045810 us-gaap:RetainedEarningsMember 2024-10-27 0001045810 us-gaap:CommonStockMember 2023-07-30 0001045810 us-gaap:AdditionalPaidInCapitalMember 2023-07-30 0001045810 us-gaap:AccumulatedOtherComprehensiveIncomeMember 2023-07-30 0001045810 us-gaap:RetainedEarningsMember 2023-07-30 0001045810 2023-07-30 0001045810 us-gaap:RetainedEarningsMember 2023-07-31 2023-10-29 0001045810 us-gaap:AccumulatedOtherComprehensiveIncomeMember 2023-07-31 2023-10-29 0001045810 us-gaap:CommonStockMember 2023-07-31 2023-10-29 0001045810 us-gaap:AdditionalPaidInCapitalMember 2023-07-31 2023-10-29 0001045810 us-gaap:CommonStockMember 2023-10-29 0001045810 us-gaap:AdditionalPaidInCapitalMember 2023-10-29 0001045810 us-gaap:AccumulatedOtherComprehensiveIncomeMember 2023-10-29 0001045810 us-gaap:RetainedEarningsMember 2023-10-29 0001045810 2023-10-29 0001045810 us-gaap:CommonStockMember 2024-01-28 0001045810 us-gaap:AdditionalPaidInCapitalMember 2024-01-28 0001045810 us-gaap:AccumulatedOtherComprehensiveIncomeMember 2024-01-28 0001045810 us-gaap:RetainedEarningsMember 2024-01-28 0001045810 us-gaap:RetainedEarningsMember 2024-01-29 2024-10-27 0001045810 us-gaap:AccumulatedOtherComprehensiveIncomeMember 2024-01-29 2024-10-27 0001045810 us-gaap:CommonStockMember 2024-01-29 2024-10-27 0001045810 us-gaap:AdditionalPaidInCapitalMember 2024-01-29 2024-10-27 0001045810 us-gaap:CommonStockMember 2023-01-29 0001045810 us-gaap:AdditionalPaidInCapitalMember 2023-01-29 0001045810 us-gaap:AccumulatedOtherComprehensiveIncomeMember 2023-01-29 0001045810 us-gaap:RetainedEarningsMember 2023-01-29 0001045810 2023-01-29 0001045810 us-gaap:RetainedEarningsMember 2023-01-30 2023-10-29 0001045810 us-gaap:AccumulatedOtherComprehensiveIncomeMember 2023-01-30 2023-10-29 0001045810 us-gaap:CommonStockMember 2023-01-30 2023-10-29 0001045810 us-gaap:AdditionalPaidInCapitalMember 2023-01-30 2023-10-29 0001045810 2024-05-01 2024-05-31 0001045810 2024-06-06 0001045810 2024-06-07 0001045810 us-gaap:OperatingLeaseLeaseNotYetCommencedMember 2024-10-27 0001045810 srt:MinimumMember 2024-10-27 0001045810 srt:MaximumMember 2024-10-27 0001045810 us-gaap:CostOfSalesMember 2024-07-29 2024-10-27 0001045810 us-gaap:CostOfSalesMember 2023-07-31 2023-10-29 0001045810 us-gaap:CostOfSalesMember 2024-01-29 2024-10-27 0001045810 us-gaap:CostOfSalesMember 2023-01-30 2023-10-29 0001045810 us-gaap:ResearchAndDevelopmentExpenseMember 2024-07-29 2024-10-27 0001045810 us-gaap:ResearchAndDevelopmentExpenseMember 2023-07-31 2023-10-29 0001045810 us-gaap:ResearchAndDevelopmentExpenseMember 2024-01-29 2024-10-27 0001045810 us-gaap:ResearchAndDevelopmentExpenseMember 2023-01-30 2023-10-29 0001045810 us-gaap:SellingGeneralAndAdministrativeExpensesMember 2024-07-29 2024-10-27 0001045810 us-gaap:SellingGeneralAndAdministrativeExpensesMember 2023-07-31 2023-10-29 0001045810 us-gaap:SellingGeneralAndAdministrativeExpensesMember 2024-01-29 2024-10-27 0001045810 us-gaap:SellingGeneralAndAdministrativeExpensesMember 2023-01-30 2023-10-29 0001045810 nvda:RSUsPSUsandMarketbasedPSUsMember 2024-01-28 0001045810 nvda:RSUsPSUsandMarketbasedPSUsMember 2024-01-29 2024-10-27 0001045810 nvda:RSUsPSUsandMarketbasedPSUsMember 2024-10-27 0001045810 us-gaap:EmployeeStockMember 2024-01-29 2024-10-27 0001045810 us-gaap:USTreasurySecuritiesMember 2024-10-27 0001045810 us-gaap:CorporateDebtSecuritiesMember 2024-10-27 0001045810 us-gaap:MoneyMarketFundsMember 2024-10-27 0001045810 us-gaap:USGovernmentAgenciesDebtSecuritiesMember 2024-10-27 0001045810 us-gaap:CertificatesOfDepositMember 2024-10-27 0001045810 nvda:MarketableSecuritiesWithFairValueAdjustmentsRecordedInOtherComprehensiveIncomeMember 2024-10-27 0001045810 nvda:PubliclyHeldEquitySecuritiesMember 2024-10-27 0001045810 us-gaap:FairValueInputsLevel1Member nvda:PubliclyHeldEquitySecuritiesMember 2024-01-29 2024-10-27 0001045810 us-gaap:FairValueInputsLevel1Member nvda:PubliclyHeldEquitySecuritiesMember 2024-07-29 2024-10-27 0001045810 us-gaap:CorporateDebtSecuritiesMember 2024-01-28 0001045810 us-gaap:USTreasurySecuritiesMember 2024-01-28 0001045810 us-gaap:MoneyMarketFundsMember 2024-01-28 0001045810 us-gaap:USGovernmentAgenciesDebtSecuritiesMember 2024-01-28 0001045810 us-gaap:CertificatesOfDepositMember 2024-01-28 0001045810 us-gaap:ForeignGovernmentDebtMember 2024-01-28 0001045810 nvda:MarketableSecuritiesWithFairValueAdjustmentsRecordedInOtherComprehensiveIncomeMember 2024-01-28 0001045810 us-gaap:FairValueInputsLevel1Member us-gaap:MoneyMarketFundsMember 2024-10-27 0001045810 us-gaap:FairValueInputsLevel1Member us-gaap:MoneyMarketFundsMember 2024-01-28 0001045810 us-gaap:FairValueInputsLevel1Member nvda:PubliclyHeldEquitySecuritiesMember 2024-10-27 0001045810 us-gaap:FairValueInputsLevel1Member nvda:PubliclyHeldEquitySecuritiesMember 2024-01-28 0001045810 us-gaap:FairValueInputsLevel2Member us-gaap:USTreasurySecuritiesMember 2024-10-27 0001045810 us-gaap:FairValueInputsLevel2Member us-gaap:USTreasurySecuritiesMember 2024-01-28 0001045810 us-gaap:FairValueInputsLevel2Member us-gaap:CorporateDebtSecuritiesMember 2024-10-27 0001045810 us-gaap:FairValueInputsLevel2Member us-gaap:CorporateDebtSecuritiesMember 2024-01-28 0001045810 us-gaap:FairValueInputsLevel2Member us-gaap:USGovernmentAgenciesDebtSecuritiesMember 2024-10-27 0001045810 us-gaap:FairValueInputsLevel2Member us-gaap:USGovernmentAgenciesDebtSecuritiesMember 2024-01-28 0001045810 us-gaap:FairValueInputsLevel2Member us-gaap:CertificatesOfDepositMember 2024-10-27 0001045810 us-gaap:FairValueInputsLevel2Member us-gaap:CertificatesOfDepositMember 2024-01-28 0001045810 us-gaap:FairValueInputsLevel2Member us-gaap:ForeignGovernmentDebtMember 2024-10-27 0001045810 us-gaap:FairValueInputsLevel2Member us-gaap:ForeignGovernmentDebtMember 2024-01-28 0001045810 us-gaap:FairValueInputsLevel1Member 2024-10-27 0001045810 us-gaap:FairValueInputsLevel1Member 2024-01-28 0001045810 nvda:A2024NotesMember us-gaap:NotesPayableOtherPayablesMember 2024-01-28 0001045810 nvda:A2024NotesMember us-gaap:NotesPayableOtherPayablesMember 2024-10-27 0001045810 us-gaap:FairValueInputsLevel2Member nvda:A2024NotesMember us-gaap:NotesPayableOtherPayablesMember 2024-10-27 0001045810 us-gaap:FairValueInputsLevel2Member nvda:A2024NotesMember us-gaap:NotesPayableOtherPayablesMember 2024-01-28 0001045810 nvda:A2026NotesMember us-gaap:NotesPayableOtherPayablesMember 2024-01-28 0001045810 nvda:A2026NotesMember us-gaap:NotesPayableOtherPayablesMember 2024-10-27 0001045810 us-gaap:FairValueInputsLevel2Member nvda:A2026NotesMember us-gaap:NotesPayableOtherPayablesMember 2024-10-27 0001045810 us-gaap:FairValueInputsLevel2Member nvda:A2026NotesMember us-gaap:NotesPayableOtherPayablesMember 2024-01-28 0001045810 nvda:A2028NotesMember us-gaap:NotesPayableOtherPayablesMember 2024-01-28 0001045810 nvda:A2028NotesMember us-gaap:NotesPayableOtherPayablesMember 2024-10-27 0001045810 us-gaap:FairValueInputsLevel2Member nvda:A2028NotesMember us-gaap:NotesPayableOtherPayablesMember 2024-10-27 0001045810 us-gaap:FairValueInputsLevel2Member nvda:A2028NotesMember us-gaap:NotesPayableOtherPayablesMember 2024-01-28 0001045810 nvda:A2030NotesMember us-gaap:NotesPayableOtherPayablesMember 2024-01-28 0001045810 nvda:A2030NotesMember us-gaap:NotesPayableOtherPayablesMember 2024-10-27 0001045810 us-gaap:FairValueInputsLevel2Member nvda:A2030NotesMember us-gaap:NotesPayableOtherPayablesMember 2024-10-27 0001045810 us-gaap:FairValueInputsLevel2Member nvda:A2030NotesMember us-gaap:NotesPayableOtherPayablesMember 2024-01-28 0001045810 nvda:A2031NotesMember us-gaap:NotesPayableOtherPayablesMember 2024-01-28 0001045810 nvda:A2031NotesMember us-gaap:NotesPayableOtherPayablesMember 2024-10-27 0001045810 us-gaap:FairValueInputsLevel2Member nvda:A2031NotesMember us-gaap:NotesPayableOtherPayablesMember 2024-10-27 0001045810 us-gaap:FairValueInputsLevel2Member nvda:A2031NotesMember us-gaap:NotesPayableOtherPayablesMember 2024-01-28 0001045810 nvda:A2040NotesMember us-gaap:NotesPayableOtherPayablesMember 2024-01-28 0001045810 nvda:A2040NotesMember us-gaap:NotesPayableOtherPayablesMember 2024-10-27 0001045810 us-gaap:FairValueInputsLevel2Member nvda:A2040NotesMember us-gaap:NotesPayableOtherPayablesMember 2024-10-27 0001045810 us-gaap:FairValueInputsLevel2Member nvda:A2040NotesMember us-gaap:NotesPayableOtherPayablesMember 2024-01-28 0001045810 nvda:A2050NotesMember us-gaap:NotesPayableOtherPayablesMember 2024-10-27 0001045810 nvda:A2050NotesMember us-gaap:NotesPayableOtherPayablesMember 2024-01-28 0001045810 us-gaap:FairValueInputsLevel2Member nvda:A2050NotesMember us-gaap:NotesPayableOtherPayablesMember 2024-10-27 0001045810 us-gaap:FairValueInputsLevel2Member nvda:A2050NotesMember us-gaap:NotesPayableOtherPayablesMember 2024-01-28 0001045810 nvda:A2060NotesMember us-gaap:NotesPayableOtherPayablesMember 2024-10-27 0001045810 nvda:A2060NotesMember us-gaap:NotesPayableOtherPayablesMember 2024-01-28 0001045810 us-gaap:FairValueInputsLevel2Member nvda:A2060NotesMember us-gaap:NotesPayableOtherPayablesMember 2024-10-27 0001045810 us-gaap:FairValueInputsLevel2Member nvda:A2060NotesMember us-gaap:NotesPayableOtherPayablesMember 2024-01-28 0001045810 nvda:IntangibleAssetsArisingFromBusinessCombinationMember 2024-10-27 0001045810 nvda:IntangibleAssetsArisingFromBusinessCombinationMember 2024-01-28 0001045810 nvda:PatentsAndLicensedTechnologyMember 2024-10-27 0001045810 nvda:PatentsAndLicensedTechnologyMember 2024-01-28 0001045810 nvda:CustomerOneMember us-gaap:CustomerConcentrationRiskMember us-gaap:AccountsReceivableMember 2024-01-29 2024-10-27 0001045810 nvda:CustomerTwoMember us-gaap:CustomerConcentrationRiskMember us-gaap:AccountsReceivableMember 2024-01-29 2024-10-27 0001045810 nvda:CustomerThreeMember us-gaap:CustomerConcentrationRiskMember us-gaap:AccountsReceivableMember 2024-01-29 2024-10-27 0001045810 nvda:CustomerFourMember us-gaap:CustomerConcentrationRiskMember us-gaap:AccountsReceivableMember 2024-01-29 2024-10-27 0001045810 nvda:CustomerOneMember us-gaap:CustomerConcentrationRiskMember us-gaap:AccountsReceivableMember 2023-01-30 2024-01-28 0001045810 nvda:CustomerTwoMember us-gaap:CustomerConcentrationRiskMember us-gaap:AccountsReceivableMember 2023-01-30 2024-01-28 0001045810 nvda:SupplyAndCapacityAgreementsMember 2024-10-27 0001045810 nvda:SupplyAndCapacityAgreementsMember 2024-01-28 0001045810 nvda:InventoryPurchaseObligationsInExcessOfProjectionsMember 2024-07-29 2024-10-27 0001045810 nvda:InventoryPurchaseObligationsInExcessOfProjectionsMember 2023-07-31 2023-10-29 0001045810 nvda:InventoryPurchaseObligationsInExcessOfProjectionsMember 2024-01-29 2024-10-27 0001045810 nvda:InventoryPurchaseObligationsInExcessOfProjectionsMember 2023-01-30 2023-10-29 0001045810 nvda:NatureOfExpenseCustomerAdvancesAndDeferralsMember 2024-10-27 0001045810 nvda:NatureOfExpenseCustomerAdvancesAndDeferralsMember 2024-01-28 0001045810 2024-10-28 2024-10-27 0001045810 us-gaap:ForeignExchangeForwardMember us-gaap:DesignatedAsHedgingInstrumentMember 2024-10-27 0001045810 us-gaap:ForeignExchangeForwardMember us-gaap:DesignatedAsHedgingInstrumentMember 2024-01-28 0001045810 us-gaap:ForeignExchangeForwardMember us-gaap:NondesignatedMember 2024-10-27 0001045810 us-gaap:ForeignExchangeForwardMember us-gaap:NondesignatedMember 2024-01-28 0001045810 us-gaap:ForeignExchangeForwardMember 2024-01-29 2024-10-27 0001045810 nvda:A2024NotesMember us-gaap:NotesPayableOtherPayablesMember 2024-01-29 2024-10-27 0001045810 nvda:A2026NotesMember us-gaap:NotesPayableOtherPayablesMember 2024-01-29 2024-10-27 0001045810 nvda:A2028NotesMember us-gaap:NotesPayableOtherPayablesMember 2024-01-29 2024-10-27 0001045810 nvda:A2030NotesMember us-gaap:NotesPayableOtherPayablesMember 2024-01-29 2024-10-27 0001045810 nvda:A2031NotesMember us-gaap:NotesPayableOtherPayablesMember 2024-01-29 2024-10-27 0001045810 nvda:A2040NotesMember us-gaap:NotesPayableOtherPayablesMember 2024-01-29 2024-10-27 0001045810 nvda:A2050NotesMember us-gaap:NotesPayableOtherPayablesMember 2024-01-29 2024-10-27 0001045810 nvda:A2060NotesMember us-gaap:NotesPayableOtherPayablesMember 2024-01-29 2024-10-27 0001045810 nvda:A2024NotesMember us-gaap:NotesPayableOtherPayablesMember 2024-07-28 0001045810 nvda:CommercialPaperProgramMember us-gaap:CommercialPaperMember 2024-10-27 0001045810 nvda:MultiYearCloudServiceAgreementsMember 2024-10-27 0001045810 2024-08-26 2024-08-26 0001045810 us-gaap:SubsequentEventMember 2024-10-28 2024-11-15 0001045810 us-gaap:OperatingSegmentsMember nvda:ComputeAndNetworkingMember 2024-07-29 2024-10-27 0001045810 us-gaap:OperatingSegmentsMember nvda:GraphicsMember 2024-07-29 2024-10-27 0001045810 us-gaap:CorporateNonSegmentMember 2024-07-29 2024-10-27 0001045810 us-gaap:OperatingSegmentsMember nvda:ComputeAndNetworkingMember 2023-07-31 2023-10-29 0001045810 us-gaap:OperatingSegmentsMember nvda:GraphicsMember 2023-07-31 2023-10-29 0001045810 us-gaap:CorporateNonSegmentMember 2023-07-31 2023-10-29 0001045810 us-gaap:OperatingSegmentsMember nvda:ComputeAndNetworkingMember 2024-01-29 2024-10-27 0001045810 us-gaap:OperatingSegmentsMember nvda:GraphicsMember 2024-01-29 2024-10-27 0001045810 us-gaap:CorporateNonSegmentMember 2024-01-29 2024-10-27 0001045810 us-gaap:OperatingSegmentsMember nvda:ComputeAndNetworkingMember 2023-01-30 2023-10-29 0001045810 us-gaap:OperatingSegmentsMember nvda:GraphicsMember 2023-01-30 2023-10-29 0001045810 us-gaap:CorporateNonSegmentMember 2023-01-30 2023-10-29 0001045810 country:US 2024-07-29 2024-10-27 0001045810 country:US 2023-07-31 2023-10-29 0001045810 country:US 2024-01-29 2024-10-27 0001045810 country:US 2023-01-30 2023-10-29 0001045810 country:SG 2024-07-29 2024-10-27 0001045810 country:SG 2023-07-31 2023-10-29 0001045810 country:SG 2024-01-29 2024-10-27 0001045810 country:SG 2023-01-30 2023-10-29 0001045810 nvda:ChinaIncludingHongKongMember 2024-07-29 2024-10-27 0001045810 nvda:ChinaIncludingHongKongMember 2023-07-31 2023-10-29 0001045810 nvda:ChinaIncludingHongKongMember 2024-01-29 2024-10-27 0001045810 nvda:ChinaIncludingHongKongMember 2023-01-30 2023-10-29 0001045810 country:TW 2024-07-29 2024-10-27 0001045810 country:TW 2023-07-31 2023-10-29 0001045810 country:TW 2024-01-29 2024-10-27 0001045810 country:TW 2023-01-30 2023-10-29 0001045810 nvda:AllOtherCountriesNotSeparatelyDisclosedMember 2024-07-29 2024-10-27 0001045810 nvda:AllOtherCountriesNotSeparatelyDisclosedMember 2023-07-31 2023-10-29 0001045810 nvda:AllOtherCountriesNotSeparatelyDisclosedMember 2024-01-29 2024-10-27 0001045810 nvda:AllOtherCountriesNotSeparatelyDisclosedMember 2023-01-30 2023-10-29 0001045810 nvda:CustomerAMember us-gaap:CustomerConcentrationRiskMember us-gaap:SalesRevenueNetMember nvda:ComputeAndNetworkingMember 2024-07-29 2024-10-27 0001045810 nvda:CustomerBMember us-gaap:CustomerConcentrationRiskMember us-gaap:SalesRevenueNetMember nvda:ComputeAndNetworkingMember 2024-07-29 2024-10-27 0001045810 nvda:CustomerBMember us-gaap:CustomerConcentrationRiskMember us-gaap:SalesRevenueNetMember nvda:ComputeAndNetworkingMember 2024-01-29 2024-10-27 0001045810 nvda:CustomerCMember us-gaap:CustomerConcentrationRiskMember us-gaap:SalesRevenueNetMember nvda:ComputeAndNetworkingMember 2024-07-29 2024-10-27 0001045810 nvda:CustomerCMember us-gaap:CustomerConcentrationRiskMember us-gaap:SalesRevenueNetMember nvda:ComputeAndNetworkingMember 2024-01-29 2024-10-27 0001045810 nvda:CustomerDMember us-gaap:CustomerConcentrationRiskMember us-gaap:SalesRevenueNetMember nvda:ComputeAndNetworkingMember 2024-01-29 2024-10-27 0001045810 nvda:CustomerOneMember us-gaap:CustomerConcentrationRiskMember us-gaap:SalesRevenueNetMember nvda:ComputeAndNetworkingSegmentMember 2023-07-31 2023-10-29 0001045810 nvda:CustomerTwoMember us-gaap:CustomerConcentrationRiskMember us-gaap:SalesRevenueNetMember nvda:ComputeAndNetworkingSegmentMember 2023-01-30 2023-10-29 0001045810 nvda:DataCenterMember 2024-07-29 2024-10-27 0001045810 nvda:DataCenterMember 2023-07-31 2023-10-29 0001045810 nvda:DataCenterMember 2024-01-29 2024-10-27 0001045810 nvda:DataCenterMember 2023-01-30 2023-10-29 0001045810 nvda:ComputeMember 2024-07-29 2024-10-27 0001045810 nvda:ComputeMember 2023-07-31 2023-10-29 0001045810 nvda:ComputeMember 2024-01-29 2024-10-27 0001045810 nvda:ComputeMember 2023-01-30 2023-10-29 0001045810 nvda:NetworkingMember 2024-07-29 2024-10-27 0001045810 nvda:NetworkingMember 2023-07-31 2023-10-29 0001045810 nvda:NetworkingMember 2024-01-29 2024-10-27 0001045810 nvda:NetworkingMember 2023-01-30 2023-10-29 0001045810 nvda:GamingMember 2024-07-29 2024-10-27 0001045810 nvda:GamingMember 2023-07-31 2023-10-29 0001045810 nvda:GamingMember 2024-01-29 2024-10-27 0001045810 nvda:GamingMember 2023-01-30 2023-10-29 0001045810 nvda:ProfessionalVisualizationMember 2024-07-29 2024-10-27 0001045810 nvda:ProfessionalVisualizationMember 2023-07-31 2023-10-29 0001045810 nvda:ProfessionalVisualizationMember 2024-01-29 2024-10-27 0001045810 nvda:ProfessionalVisualizationMember 2023-01-30 2023-10-29 0001045810 nvda:AutomotiveMember 2024-07-29 2024-10-27 0001045810 nvda:AutomotiveMember 2023-07-31 2023-10-29 0001045810 nvda:AutomotiveMember 2024-01-29 2024-10-27 0001045810 nvda:AutomotiveMember 2023-01-30 2023-10-29 0001045810 nvda:OEMAndOtherMember 2024-07-29 2024-10-27 0001045810 nvda:OEMAndOtherMember 2023-07-31 2023-10-29 0001045810 nvda:OEMAndOtherMember 2024-01-29 2024-10-27 0001045810 nvda:OEMAndOtherMember 2023-01-30 2023-10-29 0001045810 nvda:AartiShahMember 2024-01-29 2024-10-27 0001045810 nvda:AartiShahMember 2024-07-29 2024-10-27 0001045810 nvda:AartiShahMember 2024-10-27 0001045810 nvda:AjayK.PuriMember 2024-01-29 2024-10-27 0001045810 nvda:AjayK.PuriMember 2024-07-29 2024-10-27 0001045810 nvda:AjayK.PuriMember 2024-10-27 UNITED STATES SECURITIES AND EXCHANGE COMMISSION Washington, D.C.\\xa020549 FORM 10-Q ☒ QUARTERLY REPORT PURSUANT TO SECTION 13 OR 15(d) OF THE SECURITIES EXCHANGE ACT OF 1934 For the quarterly period ended October\\xa027, 2024 OR ☐ TRANSITION REPORT PURSUANT TO SECTION 13 OR 15(d) OF THE SECURITIES EXCHANGE ACT OF 1934 Commission File Number: 0-23985 NVIDIA CORP ORATION (Exact name of registrant as specified in its charter) Delaware 94-3177549 (State or other jurisdiction of (I.R.S. Employer incorporation or organization) Identification No.) 2788 San Tomas Expressway , Santa Clara , California 95051 (Address\\xa0of principal executive offices) (Zip Code) ( 408 ) 486-2000 (Registrant\\'s telephone number, including area code) N/A (Former name, former address and former fiscal year, if changed since last report) Securities registered pursuant to Section 12(b) of the Act: Title of each class Trading Symbol(s) Name of each exchange on which registered Common Stock, $0.001 par value per share NVDA The Nasdaq Global Select Market Indicate by check mark whether the registrant (1) has filed all reports required to be filed by Section 13 or 15(d) of the Securities Exchange Act of 1934 during the preceding 12 months (or for such shorter period that the registrant was required to file such reports), and (2) has been subject to such filing requirements for the past 90 days. Yes ☒ No ☐ Indicate by check mark whether the registrant has submitted electronically every Interactive Data File required to be submitted pursuant to Rule 405 of Regulation S-T (§232.405 of this chapter) during the preceding 12 months (or for such shorter period that the registrant was required to submit such files). Yes ☒ No ☐ Indicate by check mark whether the registrant is a large accelerated filer, an accelerated filer, a non-accelerated filer, a smaller reporting company, or an emerging growth company. See the definitions of “large accelerated filer,” “accelerated filer,” “smaller reporting company,” and “emerging growth company” in Rule 12b-2 of the Exchange Act. Large accelerated filer ☒ Accelerated filer ☐ Non-accelerated filer ☐ Smaller reporting company ☐ Emerging growth company ☐ If an emerging growth company, indicate by check mark if the registrant has elected not to use the extended transition period for complying with any new or revised financial accounting standards provided pursuant to Section 13(a) of the Exchange Act. ☐ Indicate by check mark whether the registrant is a shell company (as defined in Rule 12b-2 of the Exchange Act). Yes ☐ No ☒ The number of shares of common stock, $0.001 par value, outstanding as of\\xa0November\\xa015, 2024, was 24.49 billion. NVIDIA Corporation Form 10-Q For the Quarter Ended October\\xa027, 2024 Table of Contents Page Part I : Financial Information Item 1. Financial Statements (Unaudited) a) Condensed Consolidated Statements of Income for the three and nine months ended October 27, 2024 and October 29, 2023 3 b) Condensed Consolidated Statements of Comprehensive Income for the three and nine months ended October 27, 2024 and October 29, 2023 4 c) Condensed Consolidated Balance Sheets as of October 27, 2024 and January 28, 2024 5 d) Condensed Consolidated Statements of Shareholders\\' Equity for the three and nine months ended October 27, 2024 and October 29, 2023 6 e) Condensed Consolidated Statements of Cash Flows for the nine months ended October 27, 2024 and October 29, 2023 8 f) Notes to Condensed Consolidated Financial Statements 9 Item 2. Management’s Discussion and Analysis of Financial Condition and Results of Operations 24 Item 3. Quantitative and Qualitative Disclosures About Market Risk 32 Item 4. Controls and Procedures 33 Part II : Other Information Item 1. Legal Proceedings 34 Item 1A. Risk Factors 34 Item 2. Unregistered Sales of Equity Securities and Use of Proceeds 39 Item 5. Other Information 40 Item 6. Exhibits 41 Signature 42 Where You Can Find More Information Investors and others should note that we announce material financial information to our investors using our investor relations website, press releases, SEC filings and public conference calls and webcasts. We also use the following social media channels as a means of disclosing information about the company, our products, our planned financial and other announcements and attendance at upcoming investor and industry conferences, and other matters, and for complying with our disclosure obligations under Regulation FD: NVIDIA Corporate Blog (http://blogs.nvidia.com) NVIDIA Technical Blog (http://developer.nvidia.com/blog/) NVIDIA LinkedIn Page (http://www.linkedin.com/company/nvidia) NVIDIA Facebook Page (https://www.facebook.com/nvidia) NVIDIA Instagram Page (https://www.instagram.com/nvidia) NVIDIA X Account (https://x.com/nvidia) In addition, investors and others can view NVIDIA videos on YouTube (https://www.YouTube.com/nvidia). The information we post through these social media channels may be deemed material. Accordingly, investors should monitor these accounts and the blog, in addition to following our press releases, SEC filings and public conference calls and webcasts. This list may be updated from time to time. The information we post through these channels is not a part of this Quarterly Report on Form 10-Q. These channels may be updated from time to time on NVIDIA\\'s investor relations website. 2 Part I. Financial Information Item 1.\\xa0Financial Statements (Unaudited) NVIDIA Corporation and Subsidiaries Condensed Consolidated Statements of Income (In millions, except per share data) (Unaudited) Three Months Ended Nine Months Ended Oct 27, 2024 Oct 29, 2023 Oct 27, 2024 Oct 29, 2023 Revenue $ 35,082 $ 18,120 $ 91,166 $ 38,819 Cost of revenue 8,926 4,720 22,031 11,309 Gross profit 26,156 13,400 69,135 27,510 Operating expenses Research and development 3,390 2,294 9,200 6,210 Sales, general and administrative 897 689 2,516 1,942 Total operating expenses 4,287 2,983 11,716 8,152 Operating income 21,869 10,417 57,419 19,358 Interest income 472 234 1,275 572 Interest expense ( 61 ) ( 63 ) ( 186 ) ( 194 ) Other, net 36 ( 66 ) 301 ( 24 ) Other income (expense), net 447 105 1,390 354 Income before income tax 22,316 10,522 58,809 19,712 Income tax expense 3,007 1,279 8,020 2,237 Net income $ 19,309 $ 9,243 $ 50,789 $ 17,475 Net income per share: Basic $ 0.79 $ 0.37 $ 2.07 $ 0.71 Diluted $ 0.78 $ 0.37 $ 2.04 $ 0.70 Weighted average shares used in per share computation: Basic 24,533 24,680 24,577 24,700 Diluted 24,774 24,940 24,837 24,940 See accompanying Notes to Condensed Consolidated Financial Statements. 3 NVIDIA Corporation and Subsidiaries Condensed Consolidated Statements of Comprehensive Income (In millions) (Unaudited) Three Months Ended Nine Months Ended Oct 27, 2024 Oct 29, 2023 Oct 27, 2024 Oct 29, 2023 Net income $ 19,309 $ 9,243 $ 50,789 $ 17,475 Other comprehensive income (loss), net of tax Available-for-sale securities: Net change in unrealized gain 49 — 71 7 Cash flow hedges: Net change in unrealized gain (loss) — ( 23 ) 20 ( 14 ) Reclassification adjustments for net realized loss included in net income ( 2 ) ( 14 ) ( 15 ) ( 38 ) Net change in unrealized gain (loss) ( 2 ) ( 37 ) 5 ( 52 ) Other comprehensive income (loss), net of tax 47 ( 37 ) 76 ( 45 ) Total comprehensive income $ 19,356 $ 9,206 $ 50,865 $ 17,430 See accompanying Notes to Condensed Consolidated Financial Statements. 4 NVIDIA Corporation and Subsidiaries Condensed Consolidated Balance Sheets (In millions) (Unaudited) Oct 27, 2024 Jan 28, 2024 Assets Current assets: Cash and cash equivalents $ 9,107 $ 7,280 Marketable securities 29,380 18,704 Accounts receivable, net 17,693 9,999 Inventories 7,654 5,282 Prepaid expenses and other current assets 3,806 3,080 Total current assets 67,640 44,345 Property and equipment, net 5,343 3,914 Operating lease assets 1,755 1,346 Goodwill 4,724 4,430 Intangible assets, net 838 1,112 Deferred income tax assets 10,276 6,081 Other assets 5,437 4,500 Total assets $ 96,013 $ 65,728 Liabilities and Shareholders\\' Equity Current liabilities: Accounts payable $ 5,353 $ 2,699 Accrued and other current liabilities 11,126 6,682 Short-term debt — 1,250 Total current liabilities 16,479 10,631 Long-term debt 8,462 8,459 Long-term operating lease liabilities 1,490 1,119 Other long-term liabilities 3,683 2,541 Total liabilities 30,114 22,750 Commitments and contingencies - see Note 12 Shareholders’ equity: Preferred stock — — Common stock 25 25 Additional paid-in capital 11,821 13,109 Accumulated other comprehensive income 103 27 Retained earnings 53,950 29,817 Total shareholders\\' equity 65,899 42,978 Total liabilities and shareholders\\' equity $ 96,013 $ 65,728 See accompanying Notes to Condensed Consolidated Financial Statements. 5 NVIDIA Corporation and Subsidiaries Condensed Consolidated Statements of Shareholders\\' Equity For the Three Months Ended October\\xa027, 2024 and October\\xa029, 2023 (Unaudited) Common\\xa0Stock Outstanding Additional Paid-in Capital Accumulated Other Comprehensive Income (Loss) Retained Earnings Total Shareholders\\' Equity Shares Amount (In millions, except per share data) Balances, Jul\\xa028, 2024 24,562 $ 25 $ 12,115 $ 56 $ 45,961 $ 58,157 Net income — — — — 19,309 19,309 Other comprehensive income — — — 47 — 47 Issuance of common stock from stock plans 53 — 204 — — 204 Tax withholding related to vesting of restricted stock units ( 15 ) — ( 1,680 ) — — ( 1,680 ) Shares repurchased ( 92 ) — ( 71 ) — ( 11,075 ) ( 11,146 ) Cash dividends declared and paid ($ 0.01 per common share) — — — — ( 245 ) ( 245 ) Stock-based compensation — — 1,253 — — 1,253 Balances, Oct\\xa027, 2024 24,508 $ 25 $ 11,821 $ 103 $ 53,950 $ 65,899 Balances, Jul\\xa030, 2023 24,692 $ 25 $ 12,606 $ ( 51 ) $ 14,921 $ 27,501 Net income — — — — 9,243 9,243 Other comprehensive loss — — — ( 37 ) — ( 37 ) Issuance of common stock from stock plans 71 — 157 — — 157 Tax withholding related to vesting of restricted stock units ( 18 ) — ( 764 ) — — ( 764 ) Shares repurchased ( 83 ) — ( 14 ) — ( 3,705 ) ( 3,719 ) Cash dividends declared and paid ($ 0.004 per common share) — — — — ( 99 ) ( 99 ) Stock-based compensation — — 983 — — 983 Balances, Oct\\xa029, 2023 24,662 $ 25 $ 12,968 $ ( 88 ) $ 20,360 $ 33,265 See accompanying Notes to Condensed Consolidated Financial Statements. 6 NVIDIA Corporation and Subsidiaries Condensed Consolidated Statements of Shareholders\\' Equity For the Nine Months Ended October\\xa027, 2024 and October\\xa029, 2023 (Unaudited) Common\\xa0Stock Outstanding Additional Paid-in Capital Accumulated Other Comprehensive Income (Loss) Retained Earnings Total Shareholders\\' Equity Shares Amount (In millions, except per share data) Balances, Jan\\xa028, 2024 24,643 $ 25 $ 13,109 $ 27 $ 29,817 $ 42,978 Net income — — — — 50,789 50,789 Other comprehensive income — — — 76 — 76 Issuance of common stock from stock plans 165 — 489 — — 489 Tax withholding related to vesting of restricted stock units ( 46 ) — ( 5,068 ) — — ( 5,068 ) Shares repurchased ( 254 ) — ( 141 ) — ( 26,067 ) ( 26,208 ) Cash dividends declared and paid ($ 0.024 per common share) — — — — ( 589 ) ( 589 ) Stock-based compensation — — 3,432 — — 3,432 Balances, Oct\\xa027, 2024 24,508 $ 25 $ 11,821 $ 103 $ 53,950 $ 65,899 Balances, Jan\\xa029, 2023 24,661 $ 25 $ 11,948 $ ( 43 ) $ 10,171 $ 22,101 Net income — — — — 17,475 17,475 Other comprehensive loss — — — ( 45 ) — ( 45 ) Issuance of common stock from stock plans 214 — 403 — — 403 Tax withholding related to vesting of restricted stock units ( 54 ) — ( 1,942 ) — — ( 1,942 ) Shares repurchased ( 159 ) — ( 15 ) — ( 6,990 ) ( 7,005 ) Cash dividends declared and paid ($ 0.012 per common share) — — — — ( 296 ) ( 296 ) Stock-based compensation — — 2,574 — — 2,574 Balances, Oct\\xa029, 2023 24,662 $ 25 $ 12,968 $ ( 88 ) $ 20,360 $ 33,265 See accompanying Notes to Condensed Consolidated Financial Statements. 7 NVIDIA Corporation and Subsidiaries Condensed Consolidated Statements of Cash Flows (In millions) (Unaudited) Nine Months Ended Oct 27, 2024 Oct 29, 2023 Cash flows from operating activities: Net income $ 50,789 $ 17,475 Adjustments to reconcile net income to net cash provided by operating activities: Stock-based compensation expense 3,416 2,555 Depreciation and amortization 1,321 1,121 (Gains) losses on investments in non-affiliated entities and publicly-held equity securities, net ( 302 ) 24 Deferred income taxes ( 3,879 ) ( 2,411 ) Other ( 365 ) ( 170 ) Changes in operating assets and liabilities, net of acquisitions: Accounts receivable ( 7,694 ) ( 4,482 ) Inventories ( 2,357 ) 405 Prepaid expenses and other assets ( 726 ) ( 337 ) Accounts payable 2,490 1,250 Accrued and other current liabilities 3,918 953 Other long-term liabilities 849 208 Net cash provided by operating activities 47,460 16,591 Cash flows from investing activities: Proceeds from maturities of marketable securities 9,485 8,001 Proceeds from sales of marketable securities 318 — Proceeds from sales of investments in non-affiliated entities 171 — Purchases of marketable securities ( 19,565 ) ( 10,688 ) Purchases related to property and equipment and intangible assets ( 2,159 ) ( 815 ) Purchases of investments in non-affiliated entities ( 1,008 ) ( 897 ) Acquisitions, net of cash acquired ( 465 ) ( 83 ) Other — 25 Net cash used in investing activities ( 13,223 ) ( 4,457 ) Cash flows from financing activities: Proceeds related to employee stock plans 489 403 Payments related to repurchases of common stock ( 25,895 ) ( 6,874 ) Payments related to tax on restricted stock units ( 5,068 ) ( 1,942 ) Repayment of debt ( 1,250 ) ( 1,250 ) Dividends paid ( 589 ) ( 296 ) Principal payments on property and equipment and intangible assets ( 97 ) ( 44 ) Other — ( 1 ) Net cash used in financing activities ( 32,410 ) ( 10,004 ) Change in cash, cash equivalents, and restricted cash 1,827 2,130 Cash, cash equivalents, and restricted cash at beginning of period 7,280 3,389 Cash, cash equivalents, and restricted cash at end of period $ 9,107 $ 5,519 Supplemental disclosure of cash flow information: Cash paid for income taxes, net $ 10,989 $ 4,676 See accompanying Notes to Condensed Consolidated Financial Statements. 8 NVIDIA Corporation and Subsidiaries Notes to Condensed Consolidated Financial Statements (Unaudited) Note 1 - Summary of Significant Accounting Policies Basis of Presentation The accompanying unaudited condensed consolidated financial statements were prepared in accordance with accounting principles generally accepted in the United States of America, or U.S. GAAP, for interim financial information and with the instructions to Form 10-Q and Article 10 of Securities and Exchange Commission, or SEC, Regulation S-X. The January\\xa028, 2024 consolidated balance sheet was derived from our audited consolidated financial statements included in our Annual Report on Form 10-K for the fiscal year ended January\\xa028, 2024, as filed with the SEC, but does not include all disclosures required by U.S. GAAP. In the opinion of management, all adjustments, consisting only of normal recurring adjustments considered necessary for a fair presentation of results of operations and financial position, have been included. The results for the interim periods presented are not necessarily indicative of the results expected for any future period. The following information should be read in conjunction with the audited consolidated financial statements and notes thereto included in our Annual Report on Form 10-K for the fiscal year ended January\\xa028, 2024. In May 2024, we announced a ten -for-one stock split, or the Stock Split, of our issued common stock, which was effected through the filing of an amendment to the Company\\'s Restated Certificate of Incorporation, or the Amendment, with the Secretary of the State of Delaware. In June 2024, the Company filed the Amendment to effect the Stock Split and proportionately increased the number of shares of the Company’s authorized common stock from 8.0 billion to 80.0 billion. Shareholders of record at the close of market on June 6, 2024 received nine additional shares of common stock, distributed after the close of market on June 7, 2024. All share, equity award and per share amounts presented herein have been retrospectively adjusted to reflect the Stock Split. Significant Accounting Policies There have been no material changes to our significant accounting policies disclosed in Note 1 - Organization and Summary of Significant Accounting Policies, of the Notes to the Consolidated Financial Statements included in our Annual Report on Form 10-K for the fiscal year ended January\\xa028, 2024. Fiscal Year We operate on a 52- or 53-week year, ending on the last Sunday in January. Fiscal years 2025 and 2024 are both 52-week years. The third quarters of fiscal years 2025 and 2024 were both 13-week quarters. Principles of Consolidation Our condensed consolidated financial statements include the accounts of NVIDIA Corporation and our wholly-owned subsidiaries. All intercompany balances and transactions have been eliminated in consolidation. Use of Estimates The preparation of financial statements in conformity with U.S. GAAP requires management to make estimates and assumptions that affect the reported amounts of assets and liabilities and disclosures of contingent assets and liabilities at the date of the financial statements and the reported amounts of revenue and expenses during the reporting period. Actual results could differ materially from our estimates. On an on-going basis, we evaluate our estimates, including those related to accounts receivable, cash equivalents and marketable securities, goodwill, income taxes, inventories and product purchase commitments, investigation and settlement costs, litigation, other contingencies, property, plant, and equipment, revenue recognition, and stock-based compensation. These estimates are based on historical facts and other assumptions that we believe are reasonable. Recently Issued Accounting Pronouncements Recent Accounting Pronouncements Not Yet Adopted In November 2023, the Financial Accounting Standards Board, or FASB, issued a new accounting standard requiring disclosures of significant expenses in operating segments. We expect to adopt this standard in our fiscal year 2025 annual report. We are currently evaluating the impact of this standard on our Consolidated Financial Statements. In December 2023, the FASB issued a new accounting standard which includes new and updated income tax disclosures, including disaggregation of rate reconciliation and income taxes paid. We expect to adopt this standard in our fiscal year 2026 annual report. We are currently evaluating the impact of this standard on our Consolidated Financial Statements. In November 2024, the FASB issued a new accounting standard requiring disclosures of certain additional expense information on an annual and interim basis, including, among other items, the amounts of purchases of inventory, 9 NVIDIA CORPORATION AND SUBSIDIARIES NOTES TO CONDENSED CONSOLIDATED FINANCIAL STATEMENTS (Continued) (Unaudited) employee compensation, depreciation and intangible asset amortization included within each income statement expense caption, as applicable. We expect to adopt this standard in our fiscal year 2028 annual report. We are currently evaluating the impact of this standard on our Consolidated Financial Statements. Note 2 - Leases Our lease obligations primarily consist of operating leases for our headquarters\\' campus and domestic and international offices and data centers, with lease periods expiring between fiscal years 2025 and 2036. Future minimum lease obligations under our non-cancelable lease agreements as of October\\xa027, 2024 were as follows: Operating Lease Obligations (In\\xa0millions) Fiscal Year: 2025 (excluding the first nine months of fiscal year 2025) $ 78 2026 336 2027 340 2028 320 2029 288 2030 and thereafter 667 Total 2,029 Less imputed interest 266 Present value of net future minimum lease payments 1,763 Less short-term operating lease liabilities 273 Long-term operating lease liabilities $ 1,490 Between the fourth quarter of fiscal year 2025 and fiscal year 2027, we expect to commence leases with future obligations of $ 4.2 billion primarily of data center and office operating leases, with lease terms of 1.5 to 15.5 years. Operating lease expenses were $ 92 million and $ 69 million for the third quarter, and $ 258 million and $ 195 million for the first nine months, of fiscal years 2025 and 2024, respectively. Short-term and variable lease expenses for the third quarter and first nine months of fiscal years 2025 and 2024 were not significant. Other information related to leases was as follows: Nine Months Ended Oct 27, 2024 Oct 29, 2023 (In\\xa0millions) Supplemental cash flows information Operating cash flow used for operating leases $ 227 $ 200 Operating lease assets obtained in exchange for lease obligations $ 679 $ 439 As of October\\xa027, 2024, our operating leases have a weighted average remaining lease term of 6.5 years and a weighted average discount rate of 4.15 %. As of January\\xa028, 2024, our operating leases had a weighted average remaining lease term of 6.1 years and a weighted average discount rate of 3.76 %. Note 3 - Stock-Based Compensation Stock-based compensation expense is associated with restricted stock units, or RSUs, performance stock units, or PSUs, that are based on our corporate financial performance targets, market-based PSUs that are performance stock units based on our performance compared to market performance, and the employee stock purchase plan, or ESPP. Condensed Consolidated Statements of Income include stock-based compensation expense, net of amounts capitalized into inventory and subsequently recognized to cost of revenue, as follows: 10 NVIDIA Corporation and Subsidiaries Notes to Condensed Consolidated Financial Statements (Continued) (Unaudited) Three Months Ended Nine Months Ended Oct 27, 2024 Oct 29, 2023 Oct 27, 2024 Oct 29, 2023 (In millions) Cost of revenue $ 50 $ 38 $ 125 $ 96 Research and development 910 701 2,469 1,826 Sales, general and administrative 292 240 822 633 Total $ 1,252 $ 979 $ 3,416 $ 2,555 Equity Award Activity The following is a summary of our equity award transactions under our equity incentive plans: RSUs, PSUs, and Market-based PSUs Outstanding Number of Shares Weighted Average Grant-Date Fair Value Per Share (In millions, except per share data) Balance as of Jan\\xa028, 2024 367 $ 24.59 Granted 84 $ 84.70 Vested ( 135 ) $ 23.03 Canceled and forfeited ( 8 ) $ 31.23 Balance as of Oct\\xa027, 2024 308 $ 41.45 As of October\\xa027, 2024, aggregate unearned stock-based compensation expense was $ 12.4 billion, which is expected to be recognized over a weighted average period of 2.3 years for RSUs, PSUs, and market-based PSUs, and one year for ESPP. Note 4 - Net Income Per Share The following is a reconciliation of the denominator of the basic and diluted net income per share computations for the periods presented: Three Months Ended Nine Months Ended Oct 27, 2024 Oct 29, 2023 Oct 27, 2024 Oct 29, 2023 (In millions, except per share data) Numerator: Net income $ 19,309 $ 9,243 $ 50,789 $ 17,475 Denominator: Basic weighted average shares 24,533 24,680 24,577 24,700 Dilutive impact of outstanding equity awards 241 260 260 240 Diluted weighted average shares 24,774 24,940 24,837 24,940 Net income per share: Basic (1) $ 0.79 $ 0.37 $ 2.07 $ 0.71 Diluted (2) $ 0.78 $ 0.37 $ 2.04 $ 0.70 Anti-dilutive equity awards excluded from diluted net income per share 9 10 72 140 (1)\\xa0\\xa0\\xa0\\xa0Net income divided by basic weighted average shares. (2)\\xa0\\xa0\\xa0\\xa0Net income divided by diluted weighted average shares. Diluted net income per share was computed using the weighted average number of common and potentially dilutive shares outstanding during the period, using the treasury stock method. Note 5 - Income Taxes Income tax expense was $ 3.0 billion and $ 1.3 billion for the third quarter, and $ 8.0 billion and $ 2.2 billion for the first nine months, of fiscal years 2025 and 2024, respectively. The income tax expense as a percentage of income before income 11 NVIDIA Corporation and Subsidiaries Notes to Condensed Consolidated Financial Statements (Continued) (Unaudited) tax was 13.5 % and 12.2 % for the third quarter, and 13.6 % and 11.3 % for the first nine months, of fiscal years 2025 and 2024, respectively. The effective tax rate increased primarily due to a lower percentage of tax benefits from the foreign-derived intangible income deduction relative to the increase in income before income tax and a discrete benefit in fiscal year 2024 due to an IRS audit resolution. Effective tax rates for the first nine months of fiscal years 2025 and 2024 were lower than the U.S. federal statutory rate of 21% due to tax benefits from the foreign-derived intangible income deduction, stock-based compensation, the U.S. federal research tax credit, and income earned in jurisdictions that are subject to taxes lower than the U.S. federal statutory tax rate. Given our current and possible future earnings, we believe that we may release the valuation allowance associated with certain state deferred tax assets in the near term, which would decrease our income tax expense for the period the release is recorded. The timing and amount of the valuation allowance release could vary based on our assessment of all available information. While we believe that we have adequately provided for all uncertain tax positions, or tax positions where we believe it is not more-likely-than-not that the position will be sustained upon review, amounts asserted by tax authorities could be greater or less than our accrued position. Accordingly, our provisions on federal, state and foreign tax related matters to be recorded in the future may change as revised estimates are made or the underlying matters are settled or otherwise resolved with the respective tax authorities. As of October\\xa027, 2024, we do not believe that our estimates, as otherwise provided for, on such tax positions will significantly increase or decrease within the next 12 months. Note 6 - Cash Equivalents and Marketable Securities The following is a summary of cash equivalents and marketable securities: Oct 27, 2024 Amortized Cost Unrealized Gain Unrealized Loss Estimated Fair Value Reported as Cash Equivalents Marketable Securities (In millions) Debt securities issued by the U.S. Treasury $ 14,629 $ 72 $ ( 12 ) $ 14,689 $ 1,795 $ 12,894 Corporate debt securities 14,221 74 ( 17 ) 14,278 1,154 13,124 Money market funds 5,147 — — 5,147 5,147 — Debt securities issued by U.S. government agencies 3,542 11 ( 4 ) 3,549 759 2,790 Certificates of deposit 142 — — 142 42 100 Total debt securities with fair value adjustments recorded in other comprehensive income 37,681 157 ( 33 ) 37,805 8,897 28,908 Publicly-held equity securities (1) 472 — 472 Total $ 37,681 $ 157 $ ( 33 ) $ 38,277 $ 8,897 $ 29,380 (1)\\xa0\\xa0\\xa0\\xa0Fair value adjustments on publicly-held equity securities are recorded in net income. Beginning in the second quarter of fiscal year 2025, publicly-held equity securities from investments in non-affiliated entities were classified in marketable securities on our Condensed Consolidated Balance Sheets. Net unrealized gains on investments in publicly-held equity securities were not significant and $ 195 million for the third quarter and first nine months of fiscal year 2025, respectively. Net unrealized gains on investments in publicly-held equity securities were not significant for the third quarter and first nine months of fiscal year 2024. 12 NVIDIA Corporation and Subsidiaries Notes to Condensed Consolidated Financial Statements (Continued) (Unaudited) Jan 28, 2024 Amortized Cost Unrealized Gain Unrealized Loss Estimated Fair Value Reported as Cash Equivalents Marketable Securities (In millions) Corporate debt securities $ 10,126 $ 31 $ ( 5 ) $ 10,152 $ 2,231 $ 7,921 Debt securities issued by the U.S. Treasury 9,517 17 ( 10 ) 9,524 1,315 8,209 Money market funds 3,031 — — 3,031 3,031 — Debt securities issued by U.S. government agencies 2,326 8 ( 1 ) 2,333 89 2,244 Certificates of deposit 510 — — 510 294 216 Foreign government bonds 174 — — 174 60 114 Total debt securities with fair value changes recorded in other comprehensive income $ 25,684 $ 56 $ ( 16 ) $ 25,724 $ 7,020 $ 18,704 The following tables provide the breakdown of unrealized losses, aggregated by investment category and length of time that individual debt securities have been in a continuous loss position: Oct 27, 2024 Less than 12 Months 12 Months or Greater Total Estimated Fair Value Gross Unrealized Loss Estimated Fair Value Gross Unrealized Loss Estimated Fair Value Gross Unrealized Loss (In millions) Corporate debt securities $ 2,967 $ ( 17 ) $ 105 $ — $ 3,072 $ ( 17 ) Debt securities issued by the U.S. Treasury 2,562 ( 12 ) 532 — 3,094 ( 12 ) Debt securities issued by U.S. government agencies 1,134 ( 4 ) 21 — 1,155 ( 4 ) Total $ 6,663 $ ( 33 ) $ 658 $ — $ 7,321 $ ( 33 ) Jan 28, 2024 Less than 12 Months 12 Months or Greater Total Estimated Fair Value Gross Unrealized Loss Estimated Fair Value Gross Unrealized Loss Estimated Fair Value Gross Unrealized Loss (In millions) Debt securities issued by the U.S. Treasury $ 3,343 $ ( 5 ) $ 1,078 $ ( 5 ) $ 4,421 $ ( 10 ) Corporate debt securities 1,306 ( 3 ) 618 ( 2 ) 1,924 ( 5 ) Debt securities issued by U.S. government agencies 670 ( 1 ) — — 670 ( 1 ) Total $ 5,319 $ ( 9 ) $ 1,696 $ ( 7 ) $ 7,015 $ ( 16 ) Gross unrealized losses are related to fixed income securities, driven primarily by changes in interest rates. 13 NVIDIA Corporation and Subsidiaries Notes to Condensed Consolidated Financial Statements (Continued) (Unaudited) The amortized cost and estimated fair value of debt securities included in cash equivalents and marketable securities are shown below by contractual maturity. Oct 27, 2024 Jan 28, 2024 Amortized Cost Estimated Fair Value Amortized Cost Estimated Fair Value (In millions) Less than one year $ 17,695 $ 17,715 $ 16,336 $ 16,329 Due in 1 - 5 years 19,986 20,090 9,348 9,395 Total $ 37,681 $ 37,805 $ 25,684 $ 25,724 Note 7 - Fair Value of Financial Assets and Liabilities and Investments in Non-Affiliated Entities The fair values of our financial assets and liabilities are determined using quoted market prices of identical assets or market prices of similar assets from active markets. We review fair value classification on a quarterly basis. Pricing Category Fair Value at Oct 27, 2024 Jan 28, 2024 (In millions) Assets Cash equivalents and marketable securities: Money market funds Level 1 $ 5,147 $ 3,031 Publicly-held equity securities Level 1 $ 472 $ — Debt securities issued by the U.S. Treasury Level 2 $ 14,689 $ 9,524 Corporate debt securities Level 2 $ 14,278 $ 10,152 Debt securities issued by U.S. government agencies Level 2 $ 3,549 $ 2,333 Certificates of deposit Level 2 $ 142 $ 510 Foreign government bonds Level 2 $ — $ 174 Other assets (Investments in non-affiliated entities): Publicly-held equity securities Level 1 $ — $ 225 Liabilities (1) 0.584 % Notes Due 2024 Level 2 $ — $ 1,228 3.20 % Notes Due 2026 Level 2 $ 982 $ 970 1.55 % Notes Due 2028 Level 2 $ 1,139 $ 1,115 2.85 % Notes Due 2030 Level 2 $ 1,391 $ 1,367 2.00 % Notes Due 2031 Level 2 $ 1,079 $ 1,057 3.50 % Notes Due 2040 Level 2 $ 847 $ 851 3.50 % Notes Due 2050 Level 2 $ 1,556 $ 1,604 3.70 % Notes Due 2060 Level 2 $ 388 $ 403 (1)\\xa0\\xa0\\xa0\\xa0Liabilities are carried on our Condensed Consolidated Balance Sheets at their original issuance value, net of unamortized debt discount and issuance costs. Investments in Non-Affiliated Entities Our investments in non-affiliated entities include non-marketable equity securities, which are primarily investments in privately held companies. Beginning in the second quarter of fiscal year 2025, publicly-held equity securities from investments in non-affiliated entities were classified in marketable securities on our Condensed Consolidated Balance Sheets. Our non-marketable equity securities are recorded in long-term other assets on our Condensed Consolidated Balance Sheets and valued under the measurement alternative. Gains and losses on these investments, realized and unrealized, are recognized in Other income and expense, net on our Condensed Consolidated Statements of Income. 14 NVIDIA Corporation and Subsidiaries Notes to Condensed Consolidated Financial Statements (Continued) (Unaudited) Adjustments to the carrying value of our non-marketable equity securities during the third quarter and first nine months of fiscal years 2025 and 2024 were as follows: Three Months Ended Nine Months Ended Oct 27, 2024 Oct 29, 2023 Oct 27, 2024 Oct 29, 2023 (In millions) Balance at beginning of period $ 1,819 $ 676 $ 1,321 $ 288 Adjustments related to non-marketable equity securities: Net additions 409 341 830 743 Unrealized gains 23 3 115 3 Impairments and unrealized losses ( 14 ) ( 1 ) ( 29 ) ( 15 ) Balance at end of period $ 2,237 $ 1,019 $ 2,237 $ 1,019 Non-marketable equity securities had cumulative gross unrealized gains of $ 374 million and cumulative gross losses and impairments of $ 74 million as of October\\xa027, 2024. Note 8 - Amortizable Intangible Assets and Goodwill The components of our amortizable intangible assets are as follows: Oct 27, 2024 Jan 28, 2024 Gross Carrying Amount Accumulated Amortization Net\\xa0Carrying Amount Gross Carrying Amount Accumulated Amortization Net\\xa0Carrying Amount (In millions) Acquisition-related intangible assets $ 2,785 $ ( 2,117 ) $ 668 $ 2,642 $ ( 1,720 ) $ 922 Patents and licensed technology 444 ( 274 ) 170 449 ( 259 ) 190 Total intangible assets $ 3,229 $ ( 2,391 ) $ 838 $ 3,091 $ ( 1,979 ) $ 1,112 Amortization expense associated with intangible assets was $ 149 million and $ 144 million for the third quarter, and $ 438 million and $ 471 million for the first nine months, of fiscal years 2025 and 2024, respectively. The following table outlines the estimated amortization expense related to the net carrying amount of intangible assets as of October\\xa027, 2024: Future Amortization Expense (In\\xa0millions) Fiscal Year: 2025 (excluding the first nine months of fiscal year 2025) $ 150 2026 317 2027 203 2028 57 2029 10 2030 and thereafter 101 Total $ 838 In the first nine months of fiscal year 2025, goodwill increased by $ 294 million from business combinations assigned to our Compute & Networking reporting unit. 15 NVIDIA Corporation and Subsidiaries Notes to Condensed Consolidated Financial Statements (Continued) (Unaudited) Note 9 - Balance Sheet Components We refer to customers who purchase products directly from NVIDIA as direct customers, such as add-in board manufacturers, distributors, original device manufacturers, or ODMs, original equipment manufacturers, or OEMs, and system integrators. Four direct customers accounted for 18 %, 13 %, 11 % and 11 % of our accounts receivable balance as of October\\xa027, 2024. Two direct customers accounted for 24 % and 11 % of our accounts receivable balance as of January\\xa028, 2024. Certain balance sheet components are as follows: Oct 27, 2024 Jan 28, 2024 Inventories: (In millions) Raw materials $ 1,846 $ 1,719 Work in process 2,881 1,505 Finished goods 2,927 2,058 Total inventories (1) $ 7,654 $ 5,282 (1)\\xa0\\xa0\\xa0\\xa0We recorded an inventory provision of $ 322 million and $ 208 million for the third quarter, and $ 876 million and $ 657 million for the first nine months, of fiscal years 2025 and 2024, respectively, in cost of revenue. Oct 27, 2024 Jan 28, 2024 Other Assets (Long Term): (In millions) Investments in non-affiliated entities $ 2,237 $ 1,546 Prepaid supply and capacity agreements (1) 2,041 2,458 Income tax receivable 568 — Prepaid royalties 346 364 Other 245 132 Total other assets $ 5,437 $ 4,500 (1)\\xa0\\xa0\\xa0\\xa0Prepaid supply and capacity agreements of $ 3.2 billion and $ 2.5 billion were included in Prepaid expenses and other current assets as of October\\xa027, 2024 and January\\xa028, 2024, respectively. Oct 27, 2024 Jan 28, 2024 Accrued and Other Current Liabilities: (In millions) Customer program accruals $ 4,740 $ 2,081 Excess inventory purchase obligations (1) 1,728 1,655 Taxes payable 1,356 296 Product warranty and return provisions 1,107 415 Deferred revenue (2) 752 764 Accrued payroll and related expenses 677 675 Operating leases 273 228 Unsettled share repurchases 180 187 Licenses and royalties 148 182 Other 165 199 Total accrued and other current liabilities $ 11,126 $ 6,682 (1)\\xa0\\xa0\\xa0\\xa0We recorded $ 543 million and $ 473 million for the third quarter, and $ 1.3 billion and $ 734 million for the first nine months, of fiscal years 2025 and 2024, respectively, in cost of revenue. (2)\\xa0\\xa0\\xa0\\xa0Includes customer advances and unearned revenue related to hardware support, software support, cloud services, and license and development arrangements. The balance as of October\\xa027, 2024 and January\\xa028, 2024 included $ 101 million and $ 233 million of customer advances, respectively. 16 NVIDIA Corporation and Subsidiaries Notes to Condensed Consolidated Financial Statements (Continued) (Unaudited) Oct 27, 2024 Jan 28, 2024 Other Long-Term Liabilities: (In millions) Income tax payable (1) $ 1,945 $ 1,361 Deferred revenue (2) 833 573 Deferred income tax 790 462 Other 115 145 Total other long-term liabilities $ 3,683 $ 2,541 (1)\\xa0\\xa0\\xa0\\xa0Income tax payable is comprised of the long-term portion of the one-time transition tax payable, unrecognized tax benefits, and related interest and penalties. (2)\\xa0\\xa0\\xa0\\xa0Includes unearned revenue related to hardware support, software support and cloud services. Deferred Revenue The following table shows the changes in short- and long-term deferred revenue during the first nine months of fiscal years 2025 and 2024: Nine Months Ended Oct 27, 2024 Oct 29, 2023 (In millions) Balance at beginning of period $ 1,337 $ 572 Deferred revenue additions 2,115 1,269 Revenue recognized ( 1,867 ) ( 903 ) Balance at end of period $ 1,585 $ 938 We recognized revenue of $ 585 million and $ 256 million in the first nine months of fiscal years 2025 and 2024, respectively, that were included in the prior year end deferred revenue balances. As of October\\xa027, 2024, revenue related to remaining performance obligations from contracts greater than one year in length was $ 1.6 billion, which includes $ 1.4 billion from deferred revenue and $ 187 million which has not yet been billed nor recognized as revenue. Approximately 37 % of revenue from contracts greater than one year in length will be recognized over the next twelve months . Note 10 - Derivative Financial Instruments We utilize foreign currency forward contracts to mitigate the impact of foreign currency exchange rate movements on our operating expenses. The foreign currency forward contracts for operating expenses are designated as cash flow hedges. Gains or losses on the contracts are recorded in accumulated other comprehensive income or loss and reclassified to operating expense when the related operating expenses are recognized in earnings or ineffectiveness should occur. We also entered into foreign currency forward contracts mitigating the impact of foreign currency movements on monetary assets and liabilities. For our foreign currency contracts for assets and liabilities, the change in fair value of these non-designated contracts was recorded in other income or expense and offsets the change in fair value of the hedged foreign currency denominated monetary assets and liabilities, which was also recorded in other income or expense. The table below presents the notional value of our foreign currency contracts outstanding: Oct 27, 2024 Jan 28, 2024 (In millions) Designated as cash flow hedges $ 1,360 $ 1,168 Non-designated hedges $ 728 $ 597 The unrealized gains and losses or fair value of our foreign currency contracts were not significant as of October\\xa027, 2024 and January\\xa028, 2024. 17 NVIDIA Corporation and Subsidiaries Notes to Condensed Consolidated Financial Statements (Continued) (Unaudited) As of\\xa0October\\xa027, 2024,\\xa0all designated foreign currency contracts mature within 18 months and any unrealized gains and losses were not significant. During the first nine months of fiscal years 2025 and 2024, the impact of derivative financial instruments designated for cash flow hedges was not significant and the instruments were determined to be highly effective. Note 11 - Debt Long-Term Debt Expected Remaining Term (years) Effective Interest Rate Carrying Value at Oct 27, 2024 Jan 28, 2024 (In millions) 0.584 % Notes Due 2024 (1) — 0.66 % $ — $ 1,250 3.20 % Notes Due 2026 1.9 3.31 % 1,000 1,000 1.55 % Notes Due 2028 3.6 1.64 % 1,250 1,250 2.85 % Notes Due 2030 5.4 2.93 % 1,500 1,500 2.00 % Notes Due 2031 6.6 2.09 % 1,250 1,250 3.50 % Notes Due 2040 15.4 3.54 % 1,000 1,000 3.50 % Notes Due 2050 25.4 3.54 % 2,000 2,000 3.70 % Notes Due 2060 35.4 3.73 % 500 500 Unamortized debt discount and issuance costs ( 38 ) ( 41 ) Net carrying amount 8,462 9,709 Less short-term portion — ( 1,250 ) Total long-term portion $ 8,462 $ 8,459 (1) We repaid the 0.584 % Notes Due 2024 in the second quarter of fiscal year 2025. Our notes are unsecured senior obligations. Existing and future liabilities of our subsidiaries will be effectively senior to the notes. Our notes pay interest semi-annually. We may redeem each of our notes prior to maturity, as defined in the applicable form of note. The maturity of the notes is calendar year. As of October\\xa027, 2024, we complied with the required covenants, which are non-financial in nature, under the outstanding notes. Commercial Paper We have a $ 575 million commercial paper program to support general corporate purposes. As of October\\xa027, 2024, we had no commercial paper outstanding. Note 12 - Commitments and Contingencies Purchase Obligations Our purchase obligations reflect our commitment to purchase components used to manufacture our products, including long-term supply and capacity agreements, certain software and technology licenses, other goods and services and long-lived assets. As of October\\xa027, 2024, we had outstanding inventory purchase and long-term supply and capacity obligations totaling $ 28.9 billion, an increase from the prior year primarily due to commitments for Blackwell capacity and components. We enter into agreements with contract manufacturers that allow them to procure inventory based upon our defined criteria, and in certain instances, these agreements are cancellable, able to be rescheduled, or adjustable for our business needs prior to placing firm orders. Though, changes to these agreements may result in additional costs. Other non-inventory purchase obligations were $ 13.2 billion, including $ 11.3 billion of multi-year cloud service agreements. We expect our cloud service agreements to primarily be used to support our research and development efforts, as well as our DGX Cloud offerings. 18 NVIDIA Corporation and Subsidiaries Notes to Condensed Consolidated Financial Statements (Continued) (Unaudited) Total future purchase commitments as of October\\xa027, 2024 are as follows: Commitments (In\\xa0millions) Fiscal Year: 2025 (excluding the first nine months of fiscal year 2025) $ 14,178 2026 18,895 2027 3,381 2028 2,979 2029 1,990 2030 and thereafter 621 Total $ 42,044 Accrual for Product Warranty Liabilities The estimated amount of product warranty liabilities was $ 1.0 billion and $ 306 million as of October\\xa027, 2024 and January\\xa028, 2024, respectively. The estimated product returns and product warranty activity consisted of the following: Three Months Ended Nine Months Ended Oct 27, 2024 Oct 29, 2023 Oct 27, 2024 Oct 29, 2023 (In millions) Balance at beginning of period $ 741 $ 115 $ 306 $ 82 Additions 304 50 775 105 Utilization ( 36 ) ( 23 ) ( 72 ) ( 45 ) Balance at end of period $ 1,009 $ 142 $ 1,009 $ 142 We have provided indemnities for matters such as tax, product, and employee liabilities. We have included intellectual property indemnification provisions in our technology-related agreements with third parties. Maximum potential future payments cannot be estimated because many of these agreements do not have a maximum stated liability. We have not recorded any liability in our Condensed Consolidated Financial Statements for such indemnifications. Litigation Securities Class Action and Derivative Lawsuits The plaintiffs in the putative securities class action lawsuit, captioned 4:18-cv-07669-HSG, initially filed on December 21, 2018 in the United States District Court for the Northern District of California, and titled In Re NVIDIA Corporation Securities Litigation, filed an amended complaint on May 13, 2020. The amended complaint asserted that NVIDIA and certain NVIDIA executives violated Section 10(b) of the Securities Exchange Act of 1934, as amended, or the Exchange Act, and SEC Rule 10b-5, by making materially false or misleading statements related to channel inventory and the impact of cryptocurrency mining on GPU demand between May 10, 2017 and November 14, 2018. Plaintiffs also alleged that the NVIDIA executives who they named as defendants violated Section 20(a) of the Exchange Act. Plaintiffs sought class certification, an award of unspecified compensatory damages, an award of reasonable costs and expenses, including attorneys’ fees and expert fees, and further relief as the Court may deem just and proper. On March 2, 2021, the district court granted NVIDIA’s motion to dismiss the complaint without leave to amend, entered judgment in favor of NVIDIA and closed the case. On March 30, 2021, plaintiffs filed an appeal from judgment in the United States Court of Appeals for the Ninth Circuit, case number 21-15604. On August 25, 2023, a majority of a three-judge Ninth Circuit panel affirmed in part and reversed in part the district court’s dismissal of the case, with a third judge dissenting on the basis that the district court did not err in dismissing the case. On November 15, 2023, the Ninth Circuit denied NVIDIA’s petition for rehearing en banc of the Ninth Circuit panel’s majority decision to reverse in part the dismissal of the case, which NVIDIA had filed on October 10, 2023. On November 21, 2023, NVIDIA filed a motion with the Ninth Circuit for a stay of the mandate pending NVIDIA’s petition for a writ of certiorari in the Supreme Court of the United States and the Supreme Court’s resolution of the matter. On December 5, 2023, the Ninth Circuit granted NVIDIA’s motion to stay the mandate. NVIDIA filed a petition for a writ of certiorari on March 4, 2024. On June 17, 2024, the Supreme Court of the United States granted NVIDIA’s petition for a writ of certiorari. Briefing concluded on October 25, 2024 and the Supreme Court heard oral arguments on November 13, 2024. 19 NVIDIA Corporation and Subsidiaries Notes to Condensed Consolidated Financial Statements (Continued) (Unaudited) The putative derivative lawsuit pending in the United States District Court for the Northern District of California, captioned 4:19-cv-00341-HSG, initially filed January 18, 2019 and titled In re NVIDIA Corporation Consolidated Derivative Litigation, was stayed pending resolution of the plaintiffs’ appeal in the In Re NVIDIA Corporation Securities Litigation action. On February 22, 2022, the court administratively closed the case, but stated that it would reopen the case once the appeal in the In Re NVIDIA Corporation Securities Litigation action is resolved. The stay remains in place. The lawsuit asserts claims, purportedly on behalf of us, against certain officers and directors of the Company for breach of fiduciary duty, unjust enrichment, waste of corporate assets, and violations of Sections 14(a), 10(b), and 20(a) of the Exchange Act based on the dissemination of allegedly false and misleading statements related to channel inventory and the impact of cryptocurrency mining on GPU demand. The plaintiffs are seeking unspecified damages and other relief, including reforms and improvements to NVIDIA’s corporate governance and internal procedures. The putative derivative actions initially filed September 24, 2019 and pending in the United States District Court for the District of Delaware, Lipchitz v. Huang, et al. (Case No. 1:19-cv-01795-UNA) and Nelson v. Huang, et. al. (Case No. 1:19-cv-01798- UNA), remain stayed pending resolution of the plaintiffs’ appeal in the In Re NVIDIA Corporation Securities Litigation action. The lawsuits assert claims, purportedly on behalf of us, against certain officers and directors of the Company for breach of fiduciary duty, unjust enrichment, insider trading, misappropriation of information, corporate waste and violations of Sections 14(a), 10(b), and 20(a) of the Exchange Act based on the dissemination of allegedly false, and misleading statements related to channel inventory and the impact of cryptocurrency mining on GPU demand. The plaintiffs seek unspecified damages and other relief, including disgorgement of profits from the sale of NVIDIA stock and unspecified corporate governance measures. Another putative derivative action was filed on October 30, 2023 in the Court of Chancery of the State of Delaware, captioned Horanic v. Huang, et al. (Case No. 2023-1096-KSJM). This lawsuit asserts claims, purportedly on behalf of us, against certain officers and directors of the Company for breach of fiduciary duty and insider trading based on the dissemination of allegedly false and misleading statements related to channel inventory and the impact of cryptocurrency mining on GPU demand. The plaintiffs seek unspecified damages and other relief, including disgorgement of profits from the sale of NVIDIA stock and reform of unspecified corporate governance measures. This derivative matter is stayed pending the final resolution of In Re NVIDIA Corporation Securities Litigation action. Accounting for Loss Contingencies As of October\\xa027, 2024, there are no accrued contingent liabilities associated with the legal proceedings described above based on our belief that liabilities, while possible, are not probable. Further, except as described above, any possible loss or range of loss in these matters cannot be reasonably estimated at this time. We are engaged in legal actions not described above arising in the ordinary course of business and, while there can be no assurance of favorable outcomes, we believe that the ultimate outcome of these actions will not have a material adverse effect on our operating results, liquidity or financial position. Note 13 - Shareholders’ Equity Capital Return Program We repurchased 92 million and 83 million shares of our common stock for $ 11.1 billion and $ 3.7 billion during the third quarter, and 254 million and 159 million shares of our common stock for $ 26.2 billion and $ 7 billion during the first nine months, of fiscal years 2025 and 2024, respectively. On August 26, 2024, our Board of Directors approved an additional $ 50 billion to our share repurchase authorization, without expiration. As of October\\xa027, 2024, we were authorized, subject to certain specifications, to repurchase up to $ 46.4 billion of our common stock. Our share repurchase program aims to offset dilution from shares issued to employees while maintaining adequate liquidity to meet our operating requirements. We may pursue additional share repurchases as we weigh market factors and other investment opportunities. From October\\xa028, 2024 through November\\xa015, 2024, we repurchased 19 million shares for $ 2.7 billion pursuant to a pre-established trading plan. We paid cash dividends to our shareholders of $ 245 million and $ 99 million during the third quarter, and $ 589 million and $ 296 million during the first nine months, of fiscal years 2025 and 2024, respectively. Our cash dividend program and the payment of future cash dividends under that program are subject to our Board of Directors\\' continuing determination that the dividend program and the declaration of dividends thereunder are in the best interests of our shareholders. Note 14 - Segment Information Our Chief Executive Officer is our chief operating decision maker, or CODM, and reviews financial information presented on an operating segment basis for purposes of making decisions and assessing financial performance. 20 NVIDIA Corporation and Subsidiaries Notes to Condensed Consolidated Financial Statements (Continued) (Unaudited) The Compute & Networking segment includes our Data Center accelerated computing platforms and artificial intelligence, or AI, solutions and software; networking; automotive platforms and autonomous and electric vehicle solutions; Jetson for robotics and other embedded platforms; and DGX Cloud computing services. The Graphics segment includes GeForce GPUs for gaming and PCs, the GeForce NOW game streaming service and related infrastructure, and solutions for gaming platforms; Quadro/NVIDIA RTX GPUs for enterprise workstation graphics; virtual GPU software for cloud-based visual and virtual computing; automotive platforms for infotainment systems; and Omniverse Enterprise software for building and operating 3D internet applications. Operating results by segment include costs or expenses directly attributable to each segment, and costs or expenses that are leveraged across our unified architecture and therefore allocated between our two segments. The “All Other” category includes the expenses that our CODM does not assign to either Compute & Networking or Graphics for purposes of making operating decisions or assessing financial performance. The expenses include stock-based compensation expense, corporate infrastructure and support costs, acquisition-related and other costs, and other non-recurring charges and benefits that our CODM deems to be enterprise in nature. Our CODM does not review any information regarding total assets on a reportable segment basis. Depreciation and amortization expenses directly attributable to each reportable segment are included in operating results for each segment. However, our CODM does not review depreciation and amortization expense by operating segment and, therefore, it is not separately presented. The accounting policies for segment reporting are the same as for our consolidated financial statements. The table below presents details of our reportable segments and the “All Other” category. Compute & Networking Graphics All Other Consolidated (In millions) Three Months Ended Oct\\xa027, 2024 Revenue $ 31,036 $ 4,046 $ — $ 35,082 Operating income (loss) $ 22,081 $ 1,502 $ ( 1,714 ) $ 21,869 Three Months Ended Oct\\xa029, 2023 Revenue $ 14,645 $ 3,475 $ — $ 18,120 Operating income (loss) $ 10,262 $ 1,493 $ ( 1,338 ) $ 10,417 Nine Months Ended Oct\\xa027, 2024 Revenue $ 80,157 $ 11,009 $ — $ 91,166 Operating income (loss) $ 57,977 $ 4,111 $ ( 4,669 ) $ 57,419 Nine Months Ended Oct\\xa029, 2023 Revenue $ 29,507 $ 9,312 $ — $ 38,819 Operating income (loss) $ 19,149 $ 3,751 $ ( 3,542 ) $ 19,358 Three Months Ended Nine Months Ended Oct 27, 2024 Oct 29, 2023 Oct 27, 2024 Oct 29, 2023 (In millions) Reconciling items included in \"All Other\" category: Stock-based compensation expense $ ( 1,252 ) $ ( 979 ) $ ( 3,416 ) $ ( 2,555 ) Unallocated cost of revenue and operating expenses ( 307 ) ( 198 ) ( 816 ) ( 515 ) Acquisition-related and other costs ( 155 ) ( 135 ) ( 441 ) ( 446 ) Other — ( 26 ) 4 ( 26 ) Total $ ( 1,714 ) $ ( 1,338 ) $ ( 4,669 ) $ ( 3,542 ) 21 NVIDIA Corporation and Subsidiaries Notes to Condensed Consolidated Financial Statements (Continued) (Unaudited) Revenue by geographic area is based upon the billing location of the customer. The end customer and shipping location may be different from our customer’s billing location. For example, most shipments associated with Singapore revenue were to locations other than Singapore and shipments to Singapore were insignificant. Revenue by geographic area was as follows: Three Months Ended Nine Months Ended Oct 27, 2024 Oct 29, 2023 Oct 27, 2024 Oct 29, 2023 (In millions) Revenue: United States $ 14,800 $ 6,302 $ 41,318 $ 14,730 Singapore 7,697 2,702 17,356 4,506 China (including Hong Kong) 5,416 4,030 11,574 8,360 Taiwan 5,153 4,333 15,266 8,968 Other countries 2,016 753 5,652 2,255 Total revenue $ 35,082 $ 18,120 $ 91,166 $ 38,819 We refer to customers who purchase products directly from NVIDIA as direct customers, such as add-in board manufacturers, distributors, ODMs, OEMs, and system integrators. We have certain customers that may purchase products directly from NVIDIA and may use either internal resources or third-party system integrators to complete their build. We also have indirect customers, who purchase products through our direct customers; indirect customers include cloud service providers, consumer internet companies, enterprises, and public sector entities. Sales to direct customers which represented 10% or more of total revenue, all of which were primarily attributable to the Compute & Networking segment, are presented in the following table: Three Months Ended Nine Months Ended Oct 27, 2024 Oct 27, 2024 Customer A 12 % * Customer B 12 % 11 % Customer C 12 % 11 % Customer D * 12 % * Less than 10% of total revenue The customer references of A-D above may represent different customers than those reported in a previous period. Sales to one direct customer represented 12 % of total revenue for the third quarter of fiscal year 2024, and sales to a second direct customer represented 11 % of total revenue for the first nine months of fiscal year 2024, both of which were attributable to the Compute & Networking segment. 22 NVIDIA Corporation and Subsidiaries Notes to Condensed Consolidated Financial Statements (Continued) (Unaudited) The following table summarizes revenue by specialized markets: Three Months Ended Nine Months Ended Oct 27, 2024 Oct 29, 2023 Oct 27, 2024 Oct 29, 2023 (In millions) Revenue: Data Center $ 30,771 $ 14,514 $ 79,606 $ 29,121 Compute 27,644 11,908 69,640 23,877 Networking 3,127 2,606 9,966 5,244 Gaming 3,279 2,856 8,806 7,582 Professional Visualization 486 416 1,367 1,090 Automotive 449 261 1,124 810 OEM and Other 97 73 263 216 Total revenue $ 35,082 $ 18,120 $ 91,166 $ 38,819 23 Item 2. Management\\'s Discussion and Analysis of Financial Condition and Results of Operations Forward-Looking Statements This Quarterly Report on Form 10-Q contains forward-looking statements based on management’s beliefs and assumptions and on information currently available to management. In some cases, you can identify forward-looking statements by terms such as “may,” “will,” “should,” “could,” “goal,” “would,” “expect,” “plan,” “anticipate,” “believe,” “estimate,” “project,” “predict,” “potential” and similar expressions intended to identify forward-looking statements. These statements involve known and unknown risks, uncertainties and other factors, which may cause our actual results, performance, time frames or achievements to be materially different from any future results, performance, time frames or achievements expressed or implied by the forward-looking statements. We discuss many of these risks, uncertainties and other factors in this Quarterly Report on Form 10-Q and our Annual Report on Form 10-K for the fiscal year ended January\\xa028, 2024 in greater detail under the heading “Risk Factors” of such reports. Given these risks, uncertainties, and other factors, you should not place undue reliance on these forward-looking statements. Also, these forward-looking statements represent our estimates and assumptions only as of the date of this filing. You should read this Quarterly Report on Form 10-Q completely and understand that our actual future results may be materially different from what we expect. We hereby qualify our forward-looking statements by these cautionary statements. Except as required by law, we assume no obligation to update these forward-looking statements publicly, or to update the reasons actual results could differ materially from those anticipated in these forward-looking statements, even if new information becomes available in the future. All references to “NVIDIA,” “we,” “us,” “our” or the “Company” mean NVIDIA Corporation and its subsidiaries. © 2024 NVIDIA Corporation. All rights reserved. The following discussion and analysis of our financial condition and results of operations should be read in conjunction with the risk factors set forth in Item 1A. “Risk Factors” of our Annual Report on Form 10-K for the fiscal year ended January\\xa028, 2024 and Part II, Item 1A. “Risk Factors” of this Quarterly Report on Form 10-Q and our Condensed Consolidated Financial Statements and related Notes thereto, as well as other cautionary statements and risks described elsewhere in this Quarterly Report on Form 10-Q and our other filings with the SEC, before deciding to purchase, hold, or sell shares of our common stock. Overview Our Company and Our Businesses NVIDIA pioneered accelerated computing to help solve the most challenging computational problems. Since our original focus on PC graphics, we have expanded to several other large and important computationally intensive fields. Fueled by the sustained demand for exceptional 3D graphics and the scale of the gaming market, NVIDIA has leveraged its GPU architecture to create platforms for scientific computing, AI, data science, autonomous vehicles, robotics, and 3D internet applications. Our two operating segments are \"Compute & Networking\" and \"Graphics,\" as described in Note 14 of the Notes to Condensed Consolidated Financial Statements in Part I, Item 1 of this Quarterly Report on Form 10-Q. Headquartered in Santa Clara, California, NVIDIA was incorporated in California in April 1993 and reincorporated in Delaware in April 1998. Recent Developments, Future Objectives and Challenges Demand and Supply Revenue growth in the third quarter of fiscal year 2025 was driven by data center compute and networking platforms for accelerated computing and AI solutions. Demand for the Hopper architecture is strong and our H200 offering grew significantly in the quarter. We completed a successful mask change for Blackwell, our next Data Center architecture, that improved production yields. Blackwell production shipments are scheduled to begin in the fourth quarter of fiscal year 2025 and will continue to ramp into fiscal year 2026. We will be shipping both Hopper and Blackwell systems in the fourth quarter of fiscal year 2025 and beyond. Both Hopper and Blackwell systems have certain supply constraints, and the demand for Blackwell is expected to exceed supply for several quarters in fiscal year 2026. Demand estimates for our products, applications, and services can be incorrect and create volatility in our revenue or supply levels. We may not be able to generate significant revenue from them. Advancements in accelerated computing and generative AI models, along with the growth in model complexity and scale, have driven increased demand for our Data Center systems. We continue to increase our supply and capacity purchases with existing and new suppliers to support our demand projections. With these additions, we have also entered and may continue to enter into prepaid manufacturing and capacity agreements to supply both current and future products. The increased purchase volumes and integration of new suppliers and contract manufacturers into our supply chain may create more complexity in managing multiple suppliers with variations in production planning, execution and logistics. Our expanding product portfolio and varying component compatibility and quality may lead to increased inventory levels. We have incurred and may in the future incur inventory 24 provisions or impairments if our inventory or supply or capacity commitments exceed demand for our products or demand declines. Product Transitions and New Product Introductions Product transitions are complex and we often ship both new and prior architecture products simultaneously as our channel partners prepare to ship and support new products. We may be in various stages of transitioning the architectures of our Data Center, Gaming, Professional Visualization and Automotive products. The computing industry is experiencing a broader and faster launch cadence of accelerated computing platforms to meet a growing and diverse set of AI opportunities. We have introduced a new architecture cadence of our Data Center solutions where we seek to complete a new computing architecture each year and we are providing a greater variety of Data Center offerings. The increased frequency of these transitions and the larger number of products and product configurations may magnify the challenges associated with managing our supply and demand which may create volatility in our revenue. The increased frequency and complexity of newly introduced products could result in quality or production issues that could increase inventory provisions, warranty, or other costs or result in product delays. We incur significant engineering development resources for new products, and changes to our product roadmap may impact our ability to develop other products or adequately manage our supply chain cost. Customers may delay purchasing existing products as we increase the frequency of new products or may not be able to adopt our new products as fast as forecasted, both impacting the timing of our revenue and supply chain cost. While we have managed prior product transitions and have sold multiple product architectures at the same time, these transitions are difficult, may impair our ability to predict demand and impact our supply mix, and may cause us to incur additional costs. Global Trade In August 2022, the U.S. government, or the USG, announced licensing requirements that, with certain exceptions, impact exports to China (including Hong Kong and Macau) and Russia of our A100 and H100 integrated circuits, DGX or any other systems or boards which incorporate A100 or H100 integrated circuits. In July 2023, the USG informed us of an additional licensing requirement for a subset of A100 and H100 products destined to certain customers and other regions, including some countries in the Middle East. In October 2023, the USG announced new and updated licensing requirements that became effective in our fourth quarter of fiscal year 2024 for exports to China and Country Groups D1, D4, and D5 (including but not limited to Saudi Arabia, the United Arab Emirates, and Vietnam, but excluding Israel) of our products exceeding certain performance thresholds, including, but not limited to, the A100, A800, H100, H800, L4, L40, L40S and RTX 4090. The licensing requirements also apply to the export of products exceeding certain performance thresholds to a party headquartered in, or with an ultimate parent headquartered in, Country Group D5, including China. On October 23, 2023, the USG informed us the licensing requirements were effective immediately for shipments of our A100, A800, H100, H800, and L40S products (removing the grace period granted by the official rule). Our upcoming Blackwell systems, such as GB200 NVL 72 and NVL 36 as well as B200 will also be subject to these requirements and therefore require a license for any shipment to certain entities and to China and Country Groups D1, D4 and D5, excluding Israel. To date, we have not received licenses to ship these restricted products to China. Additionally, we understand that partners and customers have also not received a license to ship these restricted products. We expanded our Data Center product portfolio to offer new solutions, including those for which the USG does not require a license or advance notice before each shipment. We ramped new products designed specifically for China that do not require an export control license. Our Data Center revenue in China grew sequentially in the third quarter of fiscal year 2025. As a percentage of total Data Center revenue, it remains below levels seen prior to the imposition of export controls in October 2023. To the extent that a customer requires products covered by the licensing requirements, we may seek a license for the customer but have no assurance that the USG will grant such a license, or that the USG will act on the license application in a timely manner or at all. Our competitive position has been harmed, and our competitive position and future results may be further harmed in the long term, if there are further changes in the USG’s export controls. Given the increasing strategic importance of AI and rising geopolitical tensions, the USG has changed and may again change the export control rules at any time and further subject a wider range of our products to export restrictions and licensing requirements, negatively impacting our business and financial results. In the event of such change, we may be unable to sell our inventory of such products and may be unable to develop replacement products not subject to the licensing requirements, effectively excluding us from all or part of the China market, as well as other impacted markets, including the Middle East. In addition to export controls, the USG may impose restrictions on the import and sale of products that incorporate technologies developed or manufactured in whole or in part in China. For example, the USG is considering restrictions on the import and sale of certain automotive products in the United States, which if adopted and interpreted broadly, could impact our ability to develop and supply solutions for our automotive customers. While we work to enhance the resiliency and redundancy of our supply chain, which is currently concentrated in the Asia-Pacific region, new and existing export controls or changes to existing export controls could limit alternative 25 manufacturing locations and negatively impact our business. Refer to “Item 1A. Risk Factors” for a discussion of this potential impact. Macroeconomic Factors Macroeconomic factors, including\\u202finflation, interest rate changes, capital market volatility, global supply chain constraints and global economic and geopolitical developments, may have direct and indirect impacts on our results of operations, particularly demand for our products. While difficult to isolate and quantify, these macroeconomic factors can also impact our supply chain and manufacturing costs, employee wages, costs for capital equipment and value of our investments. Our product and solution pricing generally does not fluctuate with short-term changes in our costs. Within our supply chain, we continuously manage product availability and costs with our vendors. Israel and Regional Conflicts We are monitoring the impact of the geopolitical conflict in and around Israel on our operations, including the health and safety of our approximately 4,300 employees in the region who primarily support the research and development, operations, and sales and marketing of our networking products. Our global supply chain for our networking products has not experienced any significant impact. A substantial number of our employees in the region have been called-up for active military duty in Israel. Some employees in Israel have been on active military duty for an extended period and may continue to be absent, which may cause disruption to our product development or operations. We have not experienced significant impact or expense to our business; however, if the conflict is further extended or expanded, it could impact future product development, operations, and revenue or create other uncertainty for our business. Third Quarter of Fiscal Year 2025 Summary Three Months Ended Quarter-over-Quarter Change Year-over-Year Change Oct 27, 2024 Jul 28, 2024 Oct 29, 2023 ($ in millions, except per share data) Revenue $ 35,082 $ 30,040 $ 18,120 17 % 94 % Gross margin 74.6 % 75.1 % 74.0 % (0.5) pts 0.6 pts Operating expenses $ 4,287 $ 3,932 $ 2,983 9 % 44 % Operating income $ 21,869 $ 18,642 $ 10,417 17 % 110 % Net income $ 19,309 $ 16,599 $ 9,243 16 % 109 % Net income per diluted share $ 0.78 $ 0.67 $ 0.37 16 % 111 % We specialize in markets where our computing platforms can provide tremendous acceleration for applications. These platforms incorporate processors, interconnects, software, algorithms, systems and services to deliver unique value. Our platforms address four large markets where our expertise is critical: Data Center, Gaming, Professional Visualization, and Automotive. Revenue was $35.1 billion, up 94% from a year ago and up 17% sequentially. Data Center revenue was up 112% from a year ago and up 17% sequentially. The strong year-on-year and sequential growth was driven by demand for our Hopper computing platform for training and inferencing of large language models, recommendation engines, and generative AI applications. Cloud service providers represented approximately 50% of our Data Center revenue, and the remainder was represented by consumer internet and enterprise companies. Strong year-on-year growth was driven by all customer types from both compute and networking. Demand for the Hopper architecture is strong and our H200 offering grew significantly in the quarter. Data Center compute revenue was $27.6 billion, up 132% from a year ago and up 22% sequentially. Networking revenue was $3.1 billion, up 20% from a year ago driven by Ethernet for AI, which includes Spectrum-X end-to-end ethernet platform. Areas of sequential revenue growth include InfiniBand and Ethernet switches, SmartNICs, and BlueField DPUs. Though networking revenue was sequentially down 15%, networking demand is strong and growing. Gaming revenue was up 15% from a year ago and up 14% sequentially. These increases were driven by sales of our GeForce RTX 40 Series GPUs and game console SoCs. Professional Visualization revenue was up 17% from a year ago and up 7% sequentially. These increases were driven by the continued ramp of RTX GPU workstations based on our Ada architecture. Automotive revenue was up 72% from a year ago and up 30% sequentially. These increases were driven by our self-driving platforms. Gross margin increased from a year ago due to a higher mix of Data Center revenue. Sequentially, gross margin decreased primarily driven by a mix shift from H100 systems to more complex and higher cost systems within Data Center. 26 Operating expenses were up 44% from a year ago and up 9% sequentially, driven by higher compensation and benefits expenses due to employee growth and compensation increases. Financial Information by Business Segment and Geographic Data Refer to Note 14 of the Notes to the Condensed Consolidated Financial Statements for disclosure regarding segment information. Critical Accounting Policies and Estimates Refer to Part II, Item 7, \"Critical Accounting Policies and Estimates\" of our Annual Report on Form 10-K for the fiscal year ended January\\xa028, 2024. There have been no material changes to our Critical Accounting Policies and Estimates. Results of Operations The following table sets forth, for the periods indicated, certain items in our Condensed Consolidated Statements of Income expressed as a percentage of revenue. Three Months Ended Nine Months Ended Oct 27, 2024 Oct 29, 2023 Oct 27, 2024 Oct 29, 2023 Revenue 100.0 % 100.0 % 100.0 % 100.0 % Cost of revenue 25.4 26.0 24.2 29.1 Gross profit 74.6 74.0 75.8 70.9 Operating expenses Research and development 9.7 12.7 10.1 16.0 Sales, general and administrative 2.6 3.8 2.8 5.0 Total operating expenses 12.3 16.5 12.9 21.0 Operating income 62.3 57.5 62.9 49.9 Interest income 1.3 1.3 1.4 1.5 Interest expense (0.2) (0.3) (0.2) (0.5) Other, net 0.1 (0.4) 0.3 (0.1) Other income (expense), net 1.2 0.6 1.5 0.9 Income before income tax 63.5 58.1 64.4 50.8 Income tax expense 8.6 7.1 8.8 5.8 Net income 54.9 % 51.0 % 55.6 % 45.0 % Revenue Revenue by Reportable Segments Three Months Ended Nine Months Ended Oct 27, 2024 Oct 29, 2023 $ Change % Change Oct 27, 2024 Oct 29, 2023 $ Change % Change ($ in millions) Compute & Networking $ 31,036 $ 14,645 $ 16,391 112 % $ 80,157 $ 29,507 $ 50,650 172 % Graphics 4,046 3,475 571 16 % 11,009 9,312 1,697 18 % Total $ 35,082 $ 18,120 $ 16,962 94 % $ 91,166 $ 38,819 $ 52,347 135 % 27 Operating Income by Reportable Segments Three Months Ended Nine Months Ended Oct 27, 2024 Oct 29, 2023 $ Change % Change Oct 27, 2024 Oct 29, 2023 $ Change % Change ($ in millions) Compute & Networking $ 22,081 $ 10,262 $ 11,819 115 % $ 57,977 $ 19,149 $ 38,828 203 % Graphics 1,502 1,493 9 1 % $ 4,111 3,751 360 10 % All Other (1,714) (1,338) (376) 28 % $ (4,669) (3,542) (1,127) 32 % Total $ 21,869 $ 10,417 $ 11,452 110 % $ 57,419 $ 19,358 $ 38,061 197 % Compute & Networking revenue – The year over year increase in the third quarter and first nine months of fiscal year 2025 was due to strength in Data Center computing for accelerated computing and AI solutions. Revenue from Data Center computing grew 133% year-on-year and 195% compared to the first nine months of fiscal year 2024 driven by demand for our Hopper computing platform for training and inferencing of large language models, recommendation engines, and generative AI applications. Networking was up 20% year-on-year and 90% compared to the first nine months of fiscal year 2024 driven by Ethernet for AI revenue, which includes Spectrum-X end-to-end ethernet platform. Graphics revenue – The year over year increase in the third quarter and first nine months of fiscal year 2025 was led by higher sales of our GeForce RTX 40 Series GPUs. Reportable segment operating income – The year over year increase in Compute & Networking segment operating income in the third quarter and first nine months of fiscal year 2025 was primarily driven by growth in data center revenue. The year over year increase in Graphics segment operating income in the third quarter of fiscal year 2025 was primarily driven by growth in revenue, partially offset by an increase of 52% in segment operating expense. The year over year increase in Graphics segment operating income in the first nine months of fiscal year 2025 was primarily driven by growth in revenue. All Other operating loss – The year over year increase in the third quarter and first nine months of fiscal year 2025 was due to an increase in stock-based compensation expense reflecting employee growth and compensation increases. Concentration of Revenue Revenue by geographic region is designated based on the billing location even if the revenue may be attributable to indirect customers, such as enterprises and gamers in a different location. Revenue from sales to customers outside of the United States accounted for 58% and 65% of total revenue for the third quarter, and 55% and 62% of total revenue for the first nine months, of fiscal years 2025 and 2024, respectively. We refer to customers who purchase products directly from NVIDIA as direct customers, such as add-in board manufacturers, distributors, ODMs, OEMs, and system integrators. We have certain customers that may purchase products directly from NVIDIA and may use either internal resources or third-party system integrators to complete their build. We also have indirect customers, who purchase products through our direct customers; indirect customers include cloud service providers, consumer internet companies, enterprises, and public sector entities. Sales to direct customers which represented 10% or more of total revenue, all of which were primarily attributable to the Compute & Networking segment, are presented in the following table: Three Months Ended Nine Months Ended Oct 27, 2024 Oct 27, 2024 Customer A 12 % * Customer B 12 % 11 % Customer C 12 % 11 % Customer D * 12 % * Less than 10% of total revenue The customer references of A-D above may represent different customers than those reported in a previous period. For the third quarter and first nine months of fiscal year 2025, an indirect customer which primarily purchases our products through system integrators and distributors, including through Customer C, is estimated to represent 10% or more of total revenue, attributable to the Compute & Networking segment. 28 Indirect customer revenue is an estimation based upon multiple factors including customer purchase order information, product specifications, internal sales data and other sources. Actual indirect customer revenue may differ from our estimates. We have experienced periods where we receive a significant amount of our revenue from a limited number of customers, and this trend may continue. Gross Profit and Gross Margin Gross profit consists of total net revenue less cost of revenue. Gross margins increased to 74.6% for the third quarter of fiscal year 2025 compared to 74.0% for the third quarter of fiscal year 2024, due to a higher mix of Data Center revenue. Gross margins increased to 75.8% for the first nine months of fiscal year 2025 compared to 70.9% for the first nine months of fiscal year 2024, primarily due to higher mix of Data Center revenue. Provisions for inventory and excess inventory purchase obligations totaled $865 million and $2.2 billion for the third quarter and first nine months of fiscal year 2025, respectively. Sales of previously reserved inventory and settlements of excess inventory purchase obligations resulted in a provision release of $106 million and $305 million for the third quarter and first nine months of fiscal year 2025, respectively. The net effect on our gross margin was an unfavorable impact of 2.2% and 2.0% in the third quarter and first nine months of fiscal year 2025, respectively. Provisions for inventory and excess inventory purchase obligations totaled $681 million and $1.4 billion for the third quarter and first nine months of fiscal year 2024, respectively. Sales of previously reserved inventory and settlements of excess inventory purchase obligations resulted in a provision release of $239 million and $372 million for the third quarter and first nine months of fiscal year 2024, respectively. The net effect on our gross margin was an unfavorable impact of 2.4% and 2.6% in the third quarter and first nine months of fiscal year 2024, respectively. Operating Expenses Three Months Ended Nine Months Ended Oct 27, 2024 Oct 29, 2023 $ Change % Change Oct 27, 2024 Oct 29, 2023 $ Change % Change ($ in millions) Research and development expenses $ 3,390 $ 2,294 $ 1,096 48 % $ 9,200 $ 6,210 $ 2,990 48 % % of net revenue 9.7 % 12.7 % 10.1 % 16.0 % Sales, general and administrative expenses 897 689 208 30 % 2,516 1,942 574 30 % % of net revenue 2.6 % 3.8 % 2.8 % 5.0 % Total operating expenses $ 4,287 $ 2,983 $ 1,304 44 % $ 11,716 $ 8,152 $ 3,564 44 % % of net revenue 12.3 % 16.5 % 12.9 % 21.0 % The increases in research and development expenses for the third quarter and first nine months of fiscal year 2025 were driven by a 29% and 32% increase in compensation and benefits, including stock-based compensation, reflecting employee growth and compensation increases, a 107% and 113% increase in compute and infrastructure, and a 317% and 209% increase in engineering development costs for new product introductions, respectively. The increases in sales, general and administrative expenses for the third quarter and first nine months of fiscal year 2025 were primarily driven by compensation and benefits, including stock-based compensation, reflecting employee growth and compensation increases. 29 Other Income (Expense), Net Three Months Ended Nine Months Ended Oct 27, 2024 Oct 29, 2023 $ Change Oct 27, 2024 Oct 29, 2023 $ Change ($ in millions) Interest income $ 472 $ 234 $ 238 $ 1,275 $ 572 $ 703 Interest expense (61) (63) 2 (186) (194) 8 Other, net 36 (66) 102 301 (24) 325 Other income (expense), net $ 447 $ 105 $ 342 $ 1,390 $ 354 $ 1,036 The increases in interest income for the third quarter and first nine months of fiscal year 2025 was primarily due to growth in cash, cash equivalents, and publicly-held debt security balances. Interest expense is comprised of coupon interest and debt discount amortization related to our notes. Other, net consists of realized or unrealized gains and losses from investments in privately-held equity securities, publicly-held equity securities, and the impact of changes in foreign currency rates. The change in Other, net, compared to the third quarter and first nine months of fiscal year 2024, was primarily driven by an increase in fair value of our privately-held and publicly-held equity securities. Refer to Note 6 and 7 of the Notes to Condensed Consolidated Financial Statements in Part\\xa0I, Item\\xa01 of this Quarterly Report on Form\\xa010-Q for additional information regarding our investments in privately-held and publicly-held equity securities. Income Taxes Income tax expense was $3.0\\xa0billion and $1.3\\xa0billion for the third quarter, and $8.0\\xa0billion and $2.2\\xa0billion for the first nine months, of fiscal years 2025 and 2024, respectively. The income tax expense as a percentage of income before income tax was 13.5% and 12.2% for the third quarter, and 13.6% and 11.3% for the first nine months, of fiscal years 2025 and 2024, respectively. The effective tax rate increased primarily due to a lower percentage of tax benefits from the foreign-derived intangible income deduction relative to the increase in income before income tax and a discrete benefit in fiscal year 2024 due to an IRS audit resolution. Given our current and possible future earnings, we believe that we may release the valuation allowance associated with certain state deferred tax assets in the near term, which would decrease our income tax expense for the period the release is recorded. The timing and amount of the valuation allowance release could vary based on our assessment of all available information. Refer to Note 5 of the Notes to Condensed Consolidated Financial Statements in Part\\xa0I, Item\\xa01 of this Quarterly Report on Form\\xa010-Q for additional information. Liquidity and Capital Resources Oct 27, 2024 Jan 28, 2024 (In millions) Cash and cash equivalents $ 9,107 $ 7,280 Marketable securities 29,380 18,704 Cash, cash equivalents and marketable securities $ 38,487 $ 25,984 Nine Months Ended Oct 27, 2024 Oct 29, 2023 (In millions) Net cash provided by operating activities $ 47,460 $ 16,591 Net cash used in investing activities $ (13,223) $ (4,457) Net cash used in financing activities $ (32,410) $ (10,004) Our investment policy requires the purchase of high-rated fixed income securities, the diversification of investment types and credit exposures, and certain maturity limits on our portfolio. 30 Cash provided by operating activities increased in the first nine months of fiscal year 2025 compared to the first nine months of fiscal year 2024 due to growth in revenue, partially offset by advanced payments on supply agreements. Our accounts receivable balance at the end of the first nine months of fiscal year 2025 reflects the strong revenue growth, partially offset by $1.7\\xa0billion from customer payments received prior to the invoice due date. Cash used in investing activities increased in the first nine months of fiscal year 2025 compared to the first nine months of fiscal year 2024, primarily driven by net purchases of marketable securities, and purchase of land, property and equipment. Cash used in financing activities increased in the first nine months of fiscal year 2025 compared to the first nine months of fiscal year 2024, mainly due to higher share repurchases and higher tax payments related to RSUs. Liquidity Our primary sources of liquidity include cash, cash equivalents, and marketable securities, and the cash generated by our operations. As of October\\xa027, 2024, we had $38.5 billion in cash, cash equivalents, and marketable securities. We believe that we have sufficient liquidity to meet our operating requirements for at least the next twelve months, and for the foreseeable future, including our future supply obligations and share repurchases. We continuously evaluate our liquidity and capital resources, including our access to external capital, to ensure we can finance future capital requirements. Our marketable securities consist of publicly-held equity securities, debt securities issued by the U.S. government and its agencies, highly rated corporations and financial institutions, and foreign government entities, as well as certificates of deposit issued by highly rated financial institutions. Our corporate debt securities are publicly traded. These marketable securities are primarily denominated in U.S. dollars. Refer to Note 6 of the Notes to Condensed Consolidated Financial Statements in Part\\xa0I, Item\\xa01 of this Quarterly Report on Form\\xa010-Q for additional information. Except for approximately $1.4\\xa0billion of cash, cash equivalents, and marketable securities held outside the U.S. for which we have not accrued any related foreign or state taxes if we repatriate these amounts to the U.S., substantially all of our cash, cash equivalents, and marketable securities held outside the U.S. as of October\\xa027, 2024 are available for use in the U.S. without incurring additional U.S. federal income taxes. Payment from customers, per our standard payment terms, is generally due shortly after delivery of products, availability of software licenses or commencement of services. Capital Return to Shareholders We paid cash dividends to our shareholders of $245 million and $589 million during the third quarter and first nine months of fiscal year 2025, respectively. Our cash dividend program and the payment of future cash dividends under that program are subject to our Board of Directors\\' continuing determination that the dividend program and the declaration of dividends thereunder are in the best interests of our shareholders. We repurchased 92 million and 254 million shares of our common stock for $11.1 billion and $26.2 billion during the third quarter and first nine months of fiscal year 2025, respectively. On August 26, 2024, our Board of Directors approved an additional $50\\xa0billion to our share repurchase authorization, without expiration. As of October\\xa027, 2024, we were authorized, subject to certain specifications, to repurchase up to $46.4 billion of our common stock. Our share repurchase program aims to offset dilution from shares issued to employees while maintaining adequate liquidity to meet our operating requirements. We may pursue additional share repurchases as we weigh market factors and other investment opportunities. We plan to continue share repurchases this fiscal year. From October\\xa028, 2024 through November\\xa015, 2024, we repurchased 19\\xa0million shares for $2.7\\xa0billion pursuant to a pre-established trading plan. The U.S. Inflation Reduction Act of 2022 requires a 1% excise tax on certain share repurchases in excess of shares issued for employee compensation made after December 31, 2022. The excise tax is included in our share repurchase cost and was not material for the third quarter and first nine months of fiscal year 2025. 31 Outstanding Indebtedness and Commercial Paper Program Our aggregate debt maturities as of October\\xa027, 2024, by year payable, are as follows: Oct 27, 2024 (In millions) Due in one year $ — Due in one to five years 2,250 Due in five to ten years 2,750 Due in greater than ten years 3,500 Unamortized debt discount and issuance costs (38) Net long-term carrying amount $ 8,462 We have a $575 million commercial paper program to support general corporate purposes. As of October\\xa027, 2024, we had no commercial paper outstanding. Refer to Note 11 of the Notes to Condensed Consolidated Financial Statements in Part\\xa0I, Item\\xa01 of this Quarterly Report on Form\\xa010-Q for further discussion. Material Cash Requirements and Other Obligations Unrecognized tax benefits were $1.9\\xa0billion, which includes related interest and penalties of $215\\xa0million recorded in non-current income tax payable as of October\\xa027, 2024. We are unable to estimate the timing of any potential tax liability, interest payments, or penalties in individual years due to uncertainties in the underlying income tax positions and the timing of the effective settlement of such tax positions. Refer to Note 5 of the Notes to Condensed Consolidated Financial Statements for further information. Other than the contractual obligations described above, there were no material changes outside the ordinary course of business in our contractual obligations from those disclosed in our Annual Report on Form 10-K for the fiscal year ended January\\xa028, 2024. Refer to Item 7, “Management’s Discussion and Analysis of Financial Condition and Results of Operations - Liquidity and Capital Resources” in our Annual Report on Form 10-K for the fiscal year ended January\\xa028, 2024 for a description of our contractual obligations. For a description of our operating lease obligations, long-term debt, and purchase obligations, refer to Notes 2, 11, and 12 of the Notes to Condensed Consolidated Financial Statements in Part\\xa0I, Item\\xa01 of this Quarterly Report on Form\\xa010-Q, respectively. Climate Change To date, there has been no material impact to our results of operations associated with global sustainability regulations, compliance, costs from sourcing renewable energy or climate-related business trends. Adoption of New and Recently Issued Accounting Pronouncements There has been no adoption of any new and recently issued accounting pronouncements. Item 3. Quantitative and Qualitative Disclosures about Market Risk Investment and Interest Rate Risk Financial market risks related to investment and interest rate risk are described in Part II, Item 7A, “Quantitative and Qualitative Disclosures About Market Risk” in our Annual Report on Form 10-K for the fiscal year ended January\\xa028, 2024. As of\\xa0October\\xa027, 2024, there have been no material changes to the financial market risks described as of January\\xa028, 2024. Foreign Exchange Rate Risk The impact of foreign currency transactions related to foreign exchange rate risk is described in Part II, Item 7A, “Quantitative and Qualitative Disclosures About Market Risk” in our Annual Report on Form 10-K for the fiscal year ended January\\xa028, 2024. As of\\xa0October\\xa027, 2024, there have been no material changes to the foreign exchange rate risks described as of January\\xa028, 2024. 32 Item 4. Controls and Procedures Controls and Procedures Disclosure Controls and Procedures Based on their evaluation as of October\\xa027, 2024, our management, including our Chief Executive Officer and Chief Financial Officer, has concluded that our disclosure controls and procedures (as defined in Exchange Act Rule 13a-15(e) and 15d-15(e)) were effective to provide reasonable assurance that the information we are required to disclose in reports that we file or submit under the Exchange Act is recorded, processed, summarized and reported within the time periods specified in the SEC rules and forms, and that such information is accumulated and communicated to our management, including our Chief Executive Officer and our Chief Financial Officer, as appropriate, to allow timely decisions regarding required disclosures. Changes in Internal Control Over Financial Reporting There were no changes that occurred during the third quarter of fiscal year 2025 that have materially affected, or are reasonably likely to materially affect, our internal control over financial reporting. In fiscal year 2022, we began an upgrade of our enterprise resource planning, or ERP, system, which will update much of our existing core financial systems. The ERP system is designed to accurately maintain our financial records used to report operating results. The upgrade will occur in phases. We will continue to evaluate each quarter whether there are changes that materially affect our internal control over financial reporting. Inherent Limitations on Effectiveness of Controls Our management, including our Chief Executive Officer and Chief Financial Officer, does not expect that our disclosure controls and procedures or our internal controls, will prevent all error and all fraud. A control system, no matter how well conceived and operated, can provide only reasonable, not absolute, assurance that the objectives of the control system are met. Further, the design of a control system must reflect the fact that there are resource constraints, and the benefits of controls must be considered relative to their costs. Because of the inherent limitations in all control systems, no evaluation of controls can provide absolute assurance that all control issues and instances of fraud, if any, within NVIDIA have been detected. 33 Part II. Other Information Item 1. Legal Proceedings Refer to Part I, Item 1, Note 12\\xa0of the Notes to Condensed Consolidated Financial Statements for a discussion of significant developments in our legal proceedings since January\\xa028, 2024. Also refer to Item 3, “Legal Proceedings” in our Annual Report on Form 10-K for the fiscal year ended January\\xa028, 2024 for a prior discussion of our legal proceedings. Item 1A. Risk Factors Other than the risk factors listed below, there have been no material changes from the risk factors previously described under Item 1A of our Annual Report on Form 10-K for the fiscal year ended January\\u202f28, 2024 and Item 1A of our Quarterly Reports on Form 10-Q for the fiscal quarters ended April 28, 2024 and July 28, 2024. Purchasing or owning NVIDIA common stock involves investment risks including, but not limited to, the risks described in Item 1A of our Annual Report on Form 10-K for the fiscal year ended January\\u202f28, 2024, and Item 1A of our Quarterly Reports on Form 10-Q for the fiscal quarters ended April 28, 2024 and July 28, 2024, and below. Any one of those risks could harm our business, financial condition and results of operations or reputation, which could cause our stock price to decline. Additional risks, trends and uncertainties not presently known to us or that we currently believe are immaterial may also harm our business, financial condition, results of operations or reputation. Long manufacturing lead times and uncertain supply and component availability, combined with a failure to estimate customer demand accurately, has led and could lead to mismatches between supply and demand. We use third parties to manufacture and assemble our products, and we have long manufacturing lead times. We are not provided guaranteed wafer, component or capacity supply, and our supply deliveries and production may be non-linear within a quarter or year. If our estimates of customer demand are inaccurate, as we have experienced in the past, there could be a significant mismatch between supply and demand. This mismatch has resulted in both product shortages and excess inventory, has varied across our market platforms, and has significantly harmed our financial results. We build finished products and maintain inventory in advance of anticipated demand. While we have in the past entered and may in the future enter into long-term supply agreements and capacity commitments, we may not be able to secure sufficient commitments for capacity to address our business needs, or our long-term demand expectations may change. Additionally, our ability to sell certain products has been and could be impeded if components necessary for the finished products are not available from third parties. This risk may increase as a result of our platform strategy. In periods of shortages impacting the semiconductor industry and/or limited supply or capacity in our supply chain, the lead times on orders for certain supply may be extended. We have previously experienced and may continue to experience extended lead times of more than 12 months. We have paid premiums and provided deposits to secure future supply and capacity, which have increased our product costs and may continue to do so. If our existing suppliers are unable to scale their capabilities to meet our supply needs, we may require additional sources of capacity, which may require additional deposits. We may not have the ability to reduce our supply commitments at the same rate or at all if our revenue declines. Both Hopper and Blackwell systems have certain supply constraints, and the demand for Blackwell is expected to exceed supply for several quarters in fiscal year 2026. Many additional factors have caused and/or could in the future cause us to either underestimate or overestimate our customers’ future demand for our products, or otherwise cause a mismatch between supply and demand for our products and impact the timing and volume of our revenue, including: • changes in product development cycles and time to market; • competing technologies and competitor product releases, announcements or other actions; • changes in business and economic conditions; • sudden or sustained government lockdowns or public health issues; • rapidly changing technology or customer requirements; • the availability of sufficient data center capacity or energy for customers to procure; • new product introductions and transitions resulting in less demand for existing products; • new or unexpected end-use cases; • increase in demand for competitive products; • business decisions made by third parties; 34 • the demand for accelerated computing, AI-related cloud services, or large language models; • changes that impact the ecosystem for the architectures underlying our products and technologies; • the demand for our products; or • government actions or changes in governmental policies, such as export controls or increased restrictions on gaming usage. We continue to increase our supply and capacity purchases with existing and new suppliers to support our demand projections. With these additions, we have also entered and may continue to enter into prepaid manufacturing and capacity agreements to supply both current and future products. The increased purchase volumes and integration of new suppliers and contract manufacturers into our supply chain may create more complexity in managing multiple suppliers with variations in production planning, execution and logistics. Our expanding product portfolio and varying component compatibility and quality may lead to increased inventory levels. We have incurred and may in the future incur inventory provisions or impairments if our inventory or supply or capacity commitments exceed demand for our products or demand declines. Our customer orders and longer-term demand estimates may change or may not be correct, as we have experienced in the past. Product transitions are complex and we often ship both new and prior architecture products simultaneously as our channel partners prepare to ship and support new products. We may be in various stages of transitioning the architectures of our Data Center, Gaming, Professional Visualization and Automotive products. The computing industry is experiencing a broader and faster launch cadence of accelerated computing platforms to meet a growing and diverse set of AI opportunities. We have introduced a new architecture cadence of our Data Center solutions where we seek to complete a new computing architecture each year and we are providing a greater variety of Data Center offerings. The increased frequency of these transitions and the larger number of products and product configurations may magnify the challenges associated with managing our supply and demand. Qualification time for new products, customers anticipating product transitions and channel partners reducing channel inventory of prior architectures ahead of new product introductions can reduce or create volatility in our revenue. We have experienced and may in the future experience reduced demand for current generation architectures when customers anticipate transitions, and we may be unable to sell multiple product architectures at the same time for current and future architecture transitions. If we are unable to execute our architectural transitions as planned for any reason, our financial results may be negatively impacted. The increased frequency and complexity of newly introduced products could result in unanticipated quality or production issues that could increase the magnitude of inventory provisions, warranty, or other costs or result in product delays. For example, our gross margins in the second quarter of fiscal year 2025 were negatively impacted by inventory provisions for low-yielding Blackwell material. We incur significant engineering development resources for new products, and changes to our product roadmap may impact our ability to develop other products or adequately manage our supply chain cost. Customers may delay purchasing existing products as we increase the frequency of new products or may not be able to adopt our new products as fast as forecasted, both impacting the timing of our revenue and supply chain cost. While we have managed prior product transitions and have sold multiple product architectures at the same time, these transitions are difficult, may impair our ability to predict demand and impact our supply mix, and may cause us to incur additional costs. Our indirect customers purchase through multiple OEMs, ODMs, system integrators, distributors, and other channel partners. As a result, the decisions made by our multiple OEMs, ODMs, system integrators, distributors, and other channel partners, and in response to changing market conditions and changes in end-user demand for our products, have impacted and could in the future continue to impact our ability to accurately forecast demand, particularly as they are based on estimates provided by various downstream parties. If we underestimate our customers\\' future demand for our products, our foundry partners may not have adequate lead-time or capacity to increase production and we may not be able to obtain sufficient inventory to fill orders on a timely basis. If our contract manufacturers experience supply constraints, we may not be able to increase supply to meet customer demand in a timely manner, or at all. If we cannot procure sufficient supply to meet demand or otherwise fail to fulfill our customers’ orders on a timely basis, or at all, our customer relationships could be damaged, we could lose revenue and market share and our reputation could be harmed. Additionally, since some of our products are part of a complex data center buildout, supply constraints or availability issues with respect to any one component have had and may have a broader revenue impact. If we overestimate our customers’ future demand for our products, or if customers cancel or defer orders or choose to purchase from our competitors, we may not be able to reduce our inventory or other contractual purchase commitments. In the past, we have experienced a reduction in average selling prices, including due to channel pricing programs that we have implemented and may continue to implement, as a result of our overestimation of future demand, and we may need to continue these reductions. We have had to increase prices for certain of our products as a result of our suppliers’ increase in prices, and we may need to continue to do so for other products in the future. We have also written down our inventory, incurred cancellation penalties, and recorded impairments and may have to do so in the future. These impacts would be amplified by our placement of any non-cancellable and non-returnable purchase orders placed in advance of our 35 historical lead times and could be exacerbated if we need to make changes to the design of future products. The risk of these impacts has increased and may continue to increase as our purchase obligations and prepaids have grown and are expected to continue to grow and become a greater portion of our total supply. All of these factors may negatively impact our gross margins and financial results. Demand estimates for our products, applications, and services can be incorrect and create volatility in our revenue or supply levels. We may not be able to generate significant revenue from them. Advancements in accelerated computing and generative AI models, along with the growth in model complexity and scale, have driven increased demand for our Data Center systems. Because our products may be used in multiple use cases and applications, it is difficult for us to estimate with any reasonable degree of precision the impact of generative AI models on our reported revenue or forecasted demand. Challenges in estimating demand could become more pronounced or volatile in the future on both a global and regional basis. Extended lead times may occur if we experience other supply constraints caused by natural disasters, pandemics or other events. In addition, geopolitical tensions, such as those involving Taiwan and China, which comprise a significant portion of our revenue and where we have suppliers, contract manufacturers, and assembly partners who are critical to our supply continuity, could have a material adverse impact on us. The use of our GPUs other than that for which they were designed and marketed, including new and unexpected use cases, has impacted and can in the future impact demand for our products, including by leading to inconsistent spikes and drops in demand. For example, several years ago, our Gaming GPUs began to be used for mining digital currencies, such as Ethereum. It is difficult for us to estimate with any reasonable degree of precision the past or current impact of cryptocurrency mining, or forecast the future impact of cryptocurrency mining, on demand for our products. Volatility in the cryptocurrency market, including new compute technologies, price changes in cryptocurrencies, government cryptocurrency policies and regulations, new cryptocurrency standards and changes in the method of verifying blockchain transactions, has impacted and can in the future impact cryptocurrency mining and demand for our products and can further impact our ability to estimate demand for our products. Changes to cryptocurrency standards and processes including, but not limited to, the Ethereum 2.0 merge in 2022, have reduced and may in the future decrease the usage of GPUs for Ethereum mining. This has created and may in the future create increased aftermarket sales of our GPUs, which could negatively impact retail prices for our GPUs and reduce demand for our new GPUs. In general, our new products or previously sold products may be resold online or on the unauthorized “gray market,” which also makes demand forecasting difficult. Gray market products and reseller marketplaces compete with our new products and distribution channels. Additionally, we depend on developers, customers and other third parties to build, enhance, and maintain accelerated computing applications that leverage our platforms. We also rely on third-party content providers and publishers to make their content available on our platforms, such as GeForce NOW. Failure by developers, customers, and other third parties to build, enhance, and maintain applications that leverage our platforms, or failure by third-party content providers or publishers to make their content available on reasonable terms or at all for use by our customers or end users on our platforms, could adversely affect customer demand. Our operations could be affected by the complex laws, rules and regulations to which our business is subject, and political and other actions may adversely impact our business. We are subject to laws and regulations domestically and worldwide, affecting our operations in areas including, but not limited to, IP ownership and infringement; taxes; import and export requirements and tariffs; anti-corruption, including the Foreign Corrupt Practices Act; business acquisitions; foreign exchange controls and cash repatriation restrictions; data privacy requirements; competition and antitrust; advertising; employment; product regulations; cybersecurity; environmental, health, and safety requirements; the responsible use of AI; sustainability; cryptocurrency; and consumer laws. Compliance with such requirements can be onerous and expensive, could impact our competitive position, and may negatively impact our business operations and ability to manufacture and ship our products. There can be no assurance that our employees, contractors, suppliers, customers or agents will not violate applicable laws or the policies, controls, and procedures that we have designed to help ensure compliance with such laws, and violations could result in fines, criminal sanctions against us, our officers, or our employees, prohibitions on the conduct of our business, and damage to our reputation. Changes to the laws, rules and regulations to which we are subject, or changes to their interpretation and enforcement, could lead to materially greater compliance and other costs and/or further restrictions on our ability to manufacture and supply our products and operate our business. For example, we may face increased compliance costs as a result of changes or increases in antitrust legislation, regulation, administrative rule making, increased focus from regulators on cybersecurity vulnerabilities and risks. Our position in markets relating to AI has led to increased interest in our business from regulators worldwide, including the European Union, the United States, the United Kingdom, South Korea and China. For example, the French Competition Authority collected information from us regarding our business and competition in the graphics card and cloud service provider market as part of an ongoing inquiry into competition in those markets. We have also received requests for information from regulators in the European Union, the United States, the United Kingdom, China, and South Korea regarding our sales of GPUs and other NVIDIA products, our efforts to allocate supply, foundation models and our investments, partnerships and other agreements with companies developing foundation models, and we expect to receive additional requests for information in the future. Governments and 36 regulators are considering, and in certain cases, have imposed restrictions on the hardware, software, and systems used to develop frontier foundation models and generative AI. For example, the EU AI Act was formally adopted in June 2024 and will be implemented in phases between now and 2030. The State of California, among other jurisdictions, is considering similar legislation. Restrictions under this and any other regulations, if implemented, could increase the costs and burdens to us and our customers, delay or halt deployment of new systems using our products, and reduce the number of new entrants and customers, negatively impacting our business and financial results. Revisions to laws or regulations or their interpretation and enforcement could also result in increased taxation, trade sanctions, the imposition of or increase to import duties or tariffs, restrictions and controls on imports or exports, or other retaliatory actions, which could have an adverse effect on our business plans or impact the timing of our shipments. Additionally, changes in the public perception of governments in the regions where we operate or plan to operate could negatively impact our business and results of operations. Government actions, including trade protection and national and economic security policies of U.S. and foreign government bodies, such as tariffs, import or export regulations, including deemed export restrictions and restrictions on the activities of U.S. persons, trade and economic sanctions, decrees, quotas or other trade barriers and restrictions could affect our ability to ship products, provide services to our customers and employees, do business without an export license with entities on the U.S. Department of Commerce’s U.S. Entity List or other USG restricted parties lists (which is expected to change from time to time), and generally fulfill our contractual obligations and have a material adverse effect on our business. If we were ever found to have violated export control laws or sanctions of the U.S. or similar applicable non-U.S. laws, even if the violation occurred without our knowledge, we may be subject to various penalties available under the laws, any of which could have a material and adverse impact on our business, operating results and financial condition. For example, in response to the war in Ukraine, the United States and other jurisdictions imposed economic sanctions and export control measures which blocked the passage of our products, services and support into Russia, Belarus, and certain regions of Ukraine. In fiscal year 2023, we stopped direct sales to Russia and closed business operations in Russia. Concurrently, the war in Ukraine has impacted sales in EMEA and may continue to do so in the future. The increasing focus on the risks and strategic importance of AI technologies has resulted in regulatory restrictions that target products and services capable of enabling or facilitating AI and may in the future result in additional restrictions impacting some or all of our product and service offerings. Concerns regarding third-party use of AI for purposes contrary to local governmental interests, including concerns relating to the misuse of AI applications, models, and solutions, has resulted in and could in the future result in unilateral or multilateral restrictions on products that can be used for training, modifying, tuning, and deploying LLMs and other AI applications. Such restrictions have limited and could in the future limit the ability of downstream customers and users worldwide to acquire, deploy and use systems that include our products, software, and services, and negatively impact our business and financial results. Such restrictions could include additional unilateral or multilateral export controls on certain products or technology, including but not limited to AI technologies. As geopolitical tensions have increased, semiconductors associated with AI, including GPUs and associated products, are increasingly the focus of export control restrictions proposed by stakeholders in the U.S. and its allies. The United States has imposed unilateral controls restricting GPUs and associated products, and it is likely that additional unilateral or multilateral controls will be adopted. Such controls have been and may again be very broad in scope and application, prohibit us from exporting our products to any or all customers in one or more markets, including but not limited to China, and could negatively impact our manufacturing, testing and warehousing locations and options, or could impose other conditions that limit our ability to serve demand abroad and could negatively and materially impact our business, revenue and financial results. Export controls targeting GPUs and semiconductors associated with AI, which have been imposed and are increasingly likely to be further tightened, would further restrict our ability to export our technology, products, or services even though competitors may not be subject to similar restrictions, creating a competitive disadvantage for us and negatively impacting our business and financial results. Export controls targeting GPUs and semiconductors associated with AI have subjected and may in the future subject downstream users of our products to additional restrictions on the use, resale, repair, or transfer of our products, negatively impacting our business and financial results. Controls could negatively impact our cost and/or ability to provide services such as NVIDIA AI cloud services and could impact the cost and/or ability for our cloud service providers and customers to provide services to their end customers, even outside China. Export controls could disrupt our supply chain and distribution channels, negatively impacting our ability to serve demand, including in markets outside China and for our gaming products. The possibility of additional export controls has negatively impacted and may in the future negatively impact demand for our products, benefiting competitors that offer alternatives less likely to be restricted by further controls. Repeated changes in the export control rules are likely to impose compliance burdens on our business and our customers, negatively and materially impacting our business. Increasing use of economic sanctions and export controls has impacted and may in the future impact demand for our products or services, negatively impacting our business and financial results. Reduced demand due to export controls could also lead to excess inventory or cause us to incur related supply charges. Additional unilateral or multilateral 37 controls are also likely to include deemed export control limitations that negatively impact the ability of our research and development teams to execute our roadmap or other objectives in a timely manner. Additional export restrictions may not only impact our ability to serve overseas markets, but also provoke responses from foreign governments, including China, that negatively impact our supply chain or our ability to provide our products and services to customers in all markets worldwide, which could also substantially reduce our revenue. Regulators in China have inquired about our sales and efforts to supply the China market and our fulfillment of the commitments we entered at the close of our Mellanox acquisition. If the regulators conclude that we have failed to fulfill such commitments or we have violated any applicable law in China, we could be subject to various penalties or restrictions on our ability to conduct our business, any of which could have a material and adverse impact on our business, operating results and financial condition. During the third quarter of fiscal year 2023, the USG announced export restrictions and export licensing requirements targeting China’s semiconductor and supercomputing industries. These restrictions impact exports of certain chips, as well as software, hardware, equipment and technology used to develop, produce and manufacture certain chips to China (including Hong Kong and Macau) and Russia, and specifically impact our A100 and H100 integrated circuits, DGX or any other systems or boards which incorporate A100 or H100 integrated circuits. The licensing requirements also apply to any future NVIDIA integrated circuit achieving certain peak performance and chip-to-chip I/O performance thresholds, as well as any system or board that includes those circuits. There are also now licensing requirements to export a wide array of products, including networking products, destined for certain end users and for certain end uses in China. During the second quarter of fiscal year 2024, the USG also informed us of an additional licensing requirement for a subset of A100 and H100 products destined to certain customers and other regions, including some countries in the Middle East. In October 2023, the USG announced new and updated licensing requirements that became effective in our fourth quarter of fiscal year 2024 for exports to China and Country Groups D1, D4, and D5 (including but not limited to, Saudi Arabia, the United Arab Emirates, and Vietnam, but excluding Israel) of our products exceeding certain performance thresholds, including, but not limited to, the A100, A800, H100, H800, L4, L40, L40S and RTX 4090. The licensing requirements also apply to the export of products exceeding certain performance thresholds to a party headquartered in, or with an ultimate parent headquartered in, Country Group D5, including China. On October 23, 2023, the USG informed us that the licensing requirements were effective immediately for shipments of our A100, A800, H100, H800, and L40S products (removing the grace period granted by the official rule). Our upcoming Blackwell systems, such as GB200 NVL 72 and NVL 36 as well as B200 will also be subject to these requirements and therefore require a license for any shipment to certain entities and to China and Country Groups D1, D4, and D5, excluding Israel. To date, we have not received licenses to ship these restricted products to China. Following these export controls, we transitioned some operations, including certain testing, validation, and supply and distribution operations out of China and Hong Kong. Any future transitions could be costly and time consuming, and adversely affect our research and development and supply and distribution operations, as well as our revenue, during any such transition period. We expanded our Data Center product portfolio to offer new solutions, including those for which the USG does not require a license or advance notice before each shipment. To the extent that a customer requires products covered by the licensing requirements, we may seek a license for the customer. However, the licensing process is time-consuming. We have no assurance that the USG will grant such a license or that the USG will act on the license application in a timely manner or at all. Even if a license is approved, it may impose burdensome conditions that we or our customer or end users cannot or decide not to accept. The USG is evaluating license requests in a closed process that does not have clear standards or an opportunity for review. For example, the Notified Advanced Computing, or “NAC,” process has not resulted in approvals for exports of products to customers in China. The license process for exports to D1 and D4 countries has been time-consuming and resulted in license conditions that are onerous, even for small-sized systems that are not able to train frontier AI models. The requirements have a disproportionate impact on NVIDIA and already have disadvantaged and may in the future disadvantage NVIDIA against certain of our competitors who sell products that are not subject to the new restrictions or may be able to acquire licenses for their products. Management of these new licenses and other requirements is complicated and time consuming. Our competitive position has been harmed, and our competitive position and future results may be further harmed, over the long-term, if there are further changes in the USG’s export controls, including further expansion of the geographic, customer, or product scope of the controls, if customers purchase product from competitors, if customers develop their own internal solution, if we are unable to provide contractual warranty or other extended service obligations, if the USG does not grant licenses in a timely manner or denies licenses to significant customers or if we incur significant transition costs. Even if the USG grants any requested licenses, the licenses may be temporary or impose burdensome conditions that we or our customers or end users cannot or choose not to fulfill. The licensing requirements may benefit certain of our competitors, as the licensing process will make our pre-sale and post-sale technical support efforts more cumbersome and less certain and encourage customers in China to pursue alternatives to our products, including semiconductor suppliers based in China, Europe, and Israel. Given the increasing strategic importance of AI and rising geopolitical tensions, the USG has changed and may again change the export control rules at any time and further subject a wider range of our products to export restrictions and licensing requirements, negatively impacting our business and financial results. In the event of such change, we may be unable to sell our inventory of such products and may be unable to develop replacement products not subject to the licensing requirements, effectively excluding us from all or part of the China market, as well as other impacted markets, 38 including the Middle East. For example, the USG has already imposed conditions to limit the ability of foreign firms to create and offer as a service large-scale GPU clusters, for example by imposing license conditions on the use of products to be exported to certain countries, and may impose additional conditions such as requiring chip tracking and throttling mechanisms that could disable or impair GPUs if certain events, including unauthorized system configuration, use, or location, are detected. The USG has already imposed export controls restricting certain gaming GPUs, and if the USG expands such controls to restrict additional gaming products, it may disrupt a significant portion of our supply and distribution chain and negatively impact sales of such products to markets outside China, including the U.S. and Europe. In addition, as the performance of the gaming GPUs increases over time, export controls may have a greater impact on our ability to compete in markets subject to those controls. Export controls may disrupt our supply and distribution chain for a substantial portion of our products, which are warehoused in and distributed from Hong Kong. Export controls restricting our ability to sell data center GPUs may also negatively impact demand for our networking products used in servers containing our GPUs. The USG may also impose export controls on our networking products, such as high-speed network interconnects, to limit the ability of downstream parties to create large clusters for frontier model training. Any new control that impacts a wider range of our products would likely have a disproportionate impact on NVIDIA and may disadvantage us against certain of our competitors that sell chips that are outside the scope of such control. Excessive or shifting export controls have already and may in the future encourage customers outside China and other impacted regions to “design-out” certain U.S. semiconductors from their products to reduce the compliance burden and risk, and to ensure that they are able to serve markets worldwide. Excessive or shifting export controls have already encouraged and may in the future encourage overseas governments to request that our customers purchase from our competitors rather than NVIDIA or other U.S. firms, harming our business, market position, and financial results. As a result, excessive or shifting export controls may negatively impact demand for our products and services not only in China, but also in other markets, such as Europe, Latin America, and Southeast Asia. Excessive or shifting export controls increase the risk of investing in U.S. advanced semiconductor products, because by the time a new product is ready for market, it may be subject to new unilateral export controls restricting its sale. At the same time, such controls may increase investment in foreign competitors, which would be less likely to be restricted by U.S. controls. In addition to export controls, the USG may impose restrictions on the import and sale of products that incorporate technologies developed or manufactured in whole or in part in China. For example, the USG is considering restrictions on the import and sale of certain automotive products in the United States, which if adopted and interpreted broadly, could impact our ability to develop and supply solutions for our automotive customers. Additionally, restrictions imposed by the Chinese government on the duration of gaming activities and access to games may adversely affect our Gaming revenue, and increased oversight of digital platform companies may adversely affect our Data Center revenue. The Chinese government may also encourage customers to purchase from our China-based competitors, or impose restrictions on the sale to certain customers of our products, or any products containing components made by our partners and suppliers. For example, the Chinese government announced restrictions relating to certain sales of products containing certain products made by Micron, a supplier of ours. As another example, an agency of the Chinese government announced an Action Plan that endorses new standards regarding the compute performance per watt and per memory bandwidth of accelerators used in new and renovated data centers in China. If the Chinese government modifies or implements the Action Plan in a way that effectively prevents us from being able to design products to meet the new standard, this may restrict the ability of customers to use some of our data center products and may have a material and adverse impact on our business, operating results and financial condition. Further restrictions on our products or the products of our suppliers could negatively impact our business and financial results. Finally, our business depends on our ability to receive consistent and reliable supply from our overseas partners, especially in Taiwan. Any new restrictions that negatively impact our ability to receive supply of components, parts, or services from Taiwan, would negatively impact our business and financial results. Item 2. Unregistered Sales of Equity Securities and Use of Proceeds Issuer Purchases of Equity Securities We repurchased 92 million and 254 million shares of our common stock for $11.1 billion and $26.2 billion during the third quarter and first nine months of fiscal year 2025, respectively. As of October\\xa027, 2024, we were authorized, subject to certain specifications, to repurchase up to $46.4 billion of our common stock. The repurchases can be made in the open market, in privately negotiated transactions, pursuant to a Rule 10b5-1 trading plan or in structured share repurchase agreements in compliance with Rule 10b-18 of the Exchange Act, subject to market conditions, applicable legal requirements, and other factors. Our share repurchase program may be suspended at any time at our discretion. We paid cash dividends to our shareholders of $245 million and $589 million during the third quarter and first nine months of fiscal year 2025, respectively. Our cash dividend program and the payment of future cash dividends under that program are subject to our Board of Directors\\' continuing determination that the dividend program and the declaration of dividends thereunder are in the best interests of our shareholders. 39 The following table presents details of our share repurchase transactions during the third quarter of fiscal year 2025: Period Total Number of Shares Purchased (In millions) Average Price Paid per Share (1) Total Number of Shares Purchased as Part of Publicly Announced Program (In millions) Approximate Dollar Value of Shares that May Yet Be Purchased Under the Program (In billions) July 29, 2024 - August 25, 2024 30.2 $ 113.71 30.2 $ 4.1 August 26, 2024 - September 22, 2024 27.3 $ 114.77 27.3 $ 51.0 September 23, 2024 - October 27, 2024 34.8 $ 129.75 34.8 $ 46.4 Total 92.3 92.3 (1) \\xa0\\xa0\\xa0\\xa0Average price paid per share includes broker commissions, but excludes our liability under the 1% excise tax on the net amount of our share repurchases required by the Inflation Reduction Act of 2022. On August 26, 2024, our Board of Directors approved an additional $50\\xa0billion to our share repurchase authorization, without expiration. From October\\xa028, 2024 through November\\xa015, 2024, we repurchased 19\\xa0million shares for $2.7\\xa0billion pursuant to a pre-established trading plan. Restricted Stock Unit Share Withholding We withhold shares of our common stock associated with net share settlements to cover tax withholding obligations upon the vesting of RSU awards under our employee equity incentive program. During the third quarter and first nine months of fiscal year 2025, we withheld approximately 15 million and 46 million shares, respectively, for a total value of $1.7 billion and $5.1 billion, respectively, through net share settlements. Item 5. Other Information The following Section 16 officers and directors adopted, modified or terminated a trading arrangement that is intended to satisfy the affirmative defense conditions of Rule 10b5-1(c), or a Rule 10b5-1 Trading Arrangement: • On September 27, 2024 , Aarti Shah , a member of our Board of Directors , adopted a Rule 10b5-1 Trading Arrangement for the sale of up to 29,000 shares of our common stock through March 31, 2026 . • On September 30, 2024 , Ajay K. Puri , Executive Vice President , Worldwide Field Operations, adopted a Rule 10b5-1 Trading Arrangement for the sale of up to 204,890 shares of our common stock through December 30, 2025 . 40 Item 6. Exhibits Exhibit No. Exhibit Description 10.1+* Amended and Restated 2007 Equity Incentive Plan – Global Restricted Stock Unit Grant Notice and Global Restricted Stock Unit Agreement (2024) 31.1* Certification of Chief Executive Officer as required by Rule 13a-14(a) of the Securities Exchange Act of 1934 31.2* Certification of Chief Financial Officer as required by Rule 13a-14(a) of the Securities Exchange Act of 1934 32.1#* Certification of Chief Executive Officer as required by Rule 13a-14(b) of the Securities Exchange Act of 1934 32.2#* Certification of Chief Financial Officer as required by Rule 13a-14(b) of the Securities Exchange Act of 1934 101.INS* Inline XBRL Instance Document - the instance document does not appear in the Interactive Data File because its XBRL tags are embedded within the Inline XBRL document. 101.SCH* Inline XBRL Taxonomy Extension Schema Document 101.CAL* Inline XBRL Taxonomy Extension Calculation Linkbase Document 101.DEF* Inline XBRL Taxonomy Extension Definition Linkbase Document 101.LAB* Inline XBRL Taxonomy Extension Labels Linkbase Document 101.PRE* Inline XBRL Taxonomy Extension Presentation Linkbase Document 104 Cover Page Interactive Data File - the cover page interactive data file does not appear in the Interactive Data File because its XBRL tags are embedded within the Inline XBRL document. + Management contract or compensatory plan or arrangement. * Filed herewith. #\\xa0In accordance with Item\\xa0601(b)(32)(ii)\\xa0of Regulation S-K and SEC Release Nos. 33-8238 and 34-47986, Final Rule: Management\\'s Reports on Internal Control Over Financial Reporting and Certification of Disclosure in Exchange Act Periodic Reports, the certifications furnished in Exhibits 32.1 and 32.2 hereto are deemed to accompany this Quarterly Report on Form\\xa010-Q and will not be deemed “filed” for purpose of Section\\xa018 of the Exchange Act. Such certifications will not be deemed to be incorporated by reference into any filing under the Securities Act or the Exchange Act, except to the extent that the registrant specifically incorporates it by reference. Copies of above exhibits not contained herein are available to any shareholder upon written request to: Investor Relations: NVIDIA Corporation, 2788 San Tomas Expressway, Santa Clara, CA\\xa095051. 41 Signature Pursuant to the requirements of the Securities Exchange Act of 1934, the registrant has duly caused this report to be signed on its behalf by the undersigned thereunto duly authorized. Date: November\\xa020, 2024 NVIDIA Corporation By: /s/ Colette M. Kress Colette M. Kress Executive Vice President and Chief Financial Officer (Duly Authorized Officer and Principal Financial Officer) 42',\n",
              " 'full_text_length': 157848}"
            ]
          },
          "metadata": {},
          "execution_count": 103
        }
      ]
    },
    {
      "cell_type": "code",
      "source": [
        "messages.append(assistant_message)\n",
        "\n",
        "tool_message = ToolMessage(role=\"tool\",\n",
        "                           tool_call_id=tool_call.id,\n",
        "                           content=json.dumps(tool_result))\n",
        "messages.append(tool_message)\n",
        "\n",
        "response_final = client.chat.completions.create(\n",
        "    messages=messages,\n",
        "    model=\"jamba-1.5-large\")\n",
        "print(response_final.choices[0].message.content)"
      ],
      "metadata": {
        "colab": {
          "base_uri": "https://localhost:8080/"
        },
        "id": "eddImlWbmZon",
        "outputId": "cf32c01d-b969-4693-a08b-f9042f8ef51e"
      },
      "execution_count": 104,
      "outputs": [
        {
          "output_type": "stream",
          "name": "stdout",
          "text": [
            "Nvidia's most recent quarterly 10-Q filing provides a detailed overview of the company's financial performance for the three and nine months ended October 27, 2024. Here are the key highlights:\n",
            "\n",
            "1. **Revenue and Gross Profit**: Nvidia reported revenue of $35.08 billion for the quarter, an increase of 94% from the same period last year. Gross profit for the quarter was $26.16 billion, reflecting a gross margin of 74.6%.\n",
            "\n",
            "\n",
            "2. **Operating Expenses and Income**: Operating expenses totaled $4.29 billion, with research and development expenses amounting to $3.39 billion and sales, general, and administrative expenses at $897 million. Operating income was $21.87 billion, up 110% from the same period last year.\n",
            "\n",
            "\n",
            "3. **Net Income and Earnings Per Share**: Net income for the quarter was $19.31 billion, with earnings per share of $0.79 on a basic basis and $0.78 on a diluted basis.\n",
            "\n",
            "\n",
            "4. **Balance Sheet**: As of October 27, 2024, Nvidia's total assets were $96.01 billion, with total liabilities of $30.11 billion. Shareholders' equity was $65.9 billion.\n",
            "\n",
            "\n",
            "5. **Cash Flow**: Nvidia generated $47.46 billion in net cash from operating activities, used $13.22 billion in investing activities, and used $32.41 billion in financing activities.\n",
            "\n",
            "\n",
            "6. **Segment Performance**: The Compute & Networking segment generated $31.04 billion in revenue, while the Graphics segment generated $4.05 billion. The Compute & Networking segment had an operating income of $22.08 billion, and the Graphics segment had an operating income of $1.5 billion.\n",
            "\n",
            "\n",
            "7. **Geographic Revenue**: The United States contributed $14.8 billion to the revenue, Singapore $7.7 billion, China (including Hong Kong) $5.42 billion, Taiwan $5.15 billion, and other countries $2.02 billion.\n",
            "\n",
            "\n",
            "8. **Legal Proceedings**: Nvidia is involved in legal proceedings, including a securities class action and derivative lawsuits. The company does not believe that the outcome of these proceedings will have a material adverse effect on its financial condition or results of operations.\n",
            "\n",
            "\n",
            "9. **Risk Factors**: Nvidia highlighted several risk factors, including long manufacturing lead times, uncertain supply and component availability, geopolitical tensions, and regulatory risks.\n",
            "\n",
            "\n",
            "10. **Market Risk**: Nvidia discussed investment and interest rate risk, foreign exchange rate risk, and other market risks in its filing.\n",
            "\n",
            "\n",
            "Overall, Nvidia's quarterly report indicates strong financial performance, with significant increases in revenue, gross profit, and net income compared to the previous year.\n"
          ]
        }
      ]
    },
    {
      "cell_type": "code",
      "source": [
        "messages = [\n",
        "    ChatMessage(\n",
        "        role=\"system\",\n",
        "        content=\"You are a helpful financial assistant. Use the supplied tools to assist the user with quarterly financial data.\",\n",
        "    ),\n",
        "    ChatMessage(role=\"user\", content=\"Provide a summary of Nvidia's most recent quarterly 10-Q filing\"),\n",
        "]\n",
        "response = client.chat.completions.create(messages=messages, model=\"jamba-1.5-large\", tools=tools)\n",
        "assistant_message = response.choices[0].message\n",
        "messages.append(assistant_message)\n",
        "\n",
        "tool_result = None\n",
        "tool_calls = assistant_message.tool_calls\n",
        "if tool_calls:\n",
        "    tool_call = tool_calls[0]\n",
        "    if tool_call.function.name == \"sec_10q\":\n",
        "        tools_parameters_dict = json.loads(tool_call.function.arguments)\n",
        "        if \"ticker\" in tools_parameters_dict:\n",
        "            tool_result = sec_10q(tools_parameters_dict[\"ticker\"])\n",
        "        else:\n",
        "            print(\"Missing 'ticker' in function arguments\")\n",
        "    else:\n",
        "        print(f\"Unexpected tool call found - {tool_call.function.name}\")\n",
        "else:\n",
        "    print(\"No tool calls found\")\n",
        "\n",
        "if tool_result is not None:\n",
        "    tool_message = ToolMessage(role=\"tool\", tool_call_id=tool_call.id, content=json.dumps(tool_result))\n",
        "    messages.append(tool_message)\n",
        "    response_final = client.chat.completions.create(messages=messages, model=\"jamba-1.5-large\", tools=tools)\n",
        "\n",
        "print(\"Final response:\")\n",
        "print(response_final.choices[0].message.content)"
      ],
      "metadata": {
        "colab": {
          "base_uri": "https://localhost:8080/"
        },
        "id": "xOFrE4b7meDm",
        "outputId": "213e9314-0762-45c7-fbee-f0792118ac4a"
      },
      "execution_count": 105,
      "outputs": [
        {
          "output_type": "stream",
          "name": "stdout",
          "text": [
            "Final response:\n",
            "Nvidia's most recent quarterly 10-Q filing for the period ended October 27, 2024, shows a significant increase in revenue to $35.08 billion, up 94% from the previous year. The company's gross profit also rose to $26.16 billion, with operating income reaching $21.87 billion. Net income for the quarter was $19.31 billion, reflecting a substantial increase from $9.24 billion in the same period last year. Nvidia's financial performance was driven by strong demand for its data center compute and networking platforms, particularly the Hopper architecture. The company also experienced growth in gaming revenue, professional visualization, and automotive revenue. Nvidia's gross margins increased due to a higher mix of data center revenue. The company continued its share repurchase program, repurchasing 92 million shares for $11.1 billion during the quarter. Nvidia's financial position remains strong, with cash, cash equivalents, and marketable securities totaling $38.5 billion as of October 27, 2024.\n"
          ]
        }
      ]
    },
    {
      "cell_type": "code",
      "source": [
        "display(Markdown((f'{response_final.choices[0].message.content}')))"
      ],
      "metadata": {
        "colab": {
          "base_uri": "https://localhost:8080/",
          "height": 149
        },
        "id": "E0ZVVxeQm4yI",
        "outputId": "975bb25e-bb49-4441-eb82-62edaf2c3d4c"
      },
      "execution_count": 106,
      "outputs": [
        {
          "output_type": "display_data",
          "data": {
            "text/plain": [
              "<IPython.core.display.Markdown object>"
            ],
            "text/markdown": "Nvidia's most recent quarterly 10-Q filing for the period ended October 27, 2024, shows a significant increase in revenue to $35.08 billion, up 94% from the previous year. The company's gross profit also rose to $26.16 billion, with operating income reaching $21.87 billion. Net income for the quarter was $19.31 billion, reflecting a substantial increase from $9.24 billion in the same period last year. Nvidia's financial performance was driven by strong demand for its data center compute and networking platforms, particularly the Hopper architecture. The company also experienced growth in gaming revenue, professional visualization, and automotive revenue. Nvidia's gross margins increased due to a higher mix of data center revenue. The company continued its share repurchase program, repurchasing 92 million shares for $11.1 billion during the quarter. Nvidia's financial position remains strong, with cash, cash equivalents, and marketable securities totaling $38.5 billion as of October 27, 2024."
          },
          "metadata": {}
        }
      ]
    },
    {
      "cell_type": "markdown",
      "source": [],
      "metadata": {
        "id": "caBlj9H4m4PW"
      }
    },
    {
      "cell_type": "markdown",
      "source": [
        "Try implementing the above using LlamaIndex"
      ],
      "metadata": {
        "id": "Gc5X5_v9mjmm"
      }
    },
    {
      "cell_type": "code",
      "source": [
        "response = llm.chat(\n",
        "    messages=messages,\n",
        "    model=\"jamba-1.5-large\",\n",
        "    tools=tools)\n",
        "response.message.blocks[0].text"
      ],
      "metadata": {
        "colab": {
          "base_uri": "https://localhost:8080/",
          "height": 460
        },
        "id": "SrK4zrbChptF",
        "outputId": "647a1ea3-fd5d-4554-ef9f-399bc4cba2e4"
      },
      "execution_count": 89,
      "outputs": [
        {
          "output_type": "error",
          "ename": "ValidationError",
          "evalue": "2 validation errors for LLMChatStartEvent\nmessages.0\n  Input should be a valid dictionary or instance of ChatMessage [type=model_type, input_value=ChatMessage(role='system'...ls to assist the user.'), input_type=ChatMessage]\n    For further information visit https://errors.pydantic.dev/2.10/v/model_type\nmessages.1\n  Input should be a valid dictionary or instance of ChatMessage [type=model_type, input_value=ChatMessage(role='user', ... the capital of France'), input_type=ChatMessage]\n    For further information visit https://errors.pydantic.dev/2.10/v/model_type",
          "traceback": [
            "\u001b[0;31m---------------------------------------------------------------------------\u001b[0m",
            "\u001b[0;31mValidationError\u001b[0m                           Traceback (most recent call last)",
            "\u001b[0;32m<ipython-input-89-eea3c7987461>\u001b[0m in \u001b[0;36m<cell line: 1>\u001b[0;34m()\u001b[0m\n\u001b[0;32m----> 1\u001b[0;31m response = llm.chat(\n\u001b[0m\u001b[1;32m      2\u001b[0m     \u001b[0mmessages\u001b[0m\u001b[0;34m=\u001b[0m\u001b[0mmessages\u001b[0m\u001b[0;34m,\u001b[0m\u001b[0;34m\u001b[0m\u001b[0;34m\u001b[0m\u001b[0m\n\u001b[1;32m      3\u001b[0m     \u001b[0mmodel\u001b[0m\u001b[0;34m=\u001b[0m\u001b[0;34m\"jamba-1.5-large\"\u001b[0m\u001b[0;34m,\u001b[0m\u001b[0;34m\u001b[0m\u001b[0;34m\u001b[0m\u001b[0m\n\u001b[1;32m      4\u001b[0m     tools=tools)\n\u001b[1;32m      5\u001b[0m \u001b[0mresponse\u001b[0m\u001b[0;34m.\u001b[0m\u001b[0mmessage\u001b[0m\u001b[0;34m.\u001b[0m\u001b[0mblocks\u001b[0m\u001b[0;34m[\u001b[0m\u001b[0;36m0\u001b[0m\u001b[0;34m]\u001b[0m\u001b[0;34m.\u001b[0m\u001b[0mtext\u001b[0m\u001b[0;34m\u001b[0m\u001b[0;34m\u001b[0m\u001b[0m\n",
            "\u001b[0;32m/usr/local/lib/python3.10/dist-packages/llama_index/core/instrumentation/dispatcher.py\u001b[0m in \u001b[0;36mwrapper\u001b[0;34m(func, instance, args, kwargs)\u001b[0m\n\u001b[1;32m    319\u001b[0m \u001b[0;34m\u001b[0m\u001b[0m\n\u001b[1;32m    320\u001b[0m             \u001b[0;32mtry\u001b[0m\u001b[0;34m:\u001b[0m\u001b[0;34m\u001b[0m\u001b[0;34m\u001b[0m\u001b[0m\n\u001b[0;32m--> 321\u001b[0;31m                 \u001b[0mresult\u001b[0m \u001b[0;34m=\u001b[0m \u001b[0mfunc\u001b[0m\u001b[0;34m(\u001b[0m\u001b[0;34m*\u001b[0m\u001b[0margs\u001b[0m\u001b[0;34m,\u001b[0m \u001b[0;34m**\u001b[0m\u001b[0mkwargs\u001b[0m\u001b[0;34m)\u001b[0m\u001b[0;34m\u001b[0m\u001b[0;34m\u001b[0m\u001b[0m\n\u001b[0m\u001b[1;32m    322\u001b[0m                 \u001b[0;32mif\u001b[0m \u001b[0misinstance\u001b[0m\u001b[0;34m(\u001b[0m\u001b[0mresult\u001b[0m\u001b[0;34m,\u001b[0m \u001b[0masyncio\u001b[0m\u001b[0;34m.\u001b[0m\u001b[0mFuture\u001b[0m\u001b[0;34m)\u001b[0m\u001b[0;34m:\u001b[0m\u001b[0;34m\u001b[0m\u001b[0;34m\u001b[0m\u001b[0m\n\u001b[1;32m    323\u001b[0m                     \u001b[0;31m# If the result is a Future, wrap it\u001b[0m\u001b[0;34m\u001b[0m\u001b[0;34m\u001b[0m\u001b[0m\n",
            "\u001b[0;32m/usr/local/lib/python3.10/dist-packages/llama_index/core/llms/callbacks.py\u001b[0m in \u001b[0;36mwrapped_llm_chat\u001b[0;34m(_self, messages, **kwargs)\u001b[0m\n\u001b[1;32m    155\u001b[0m                 \u001b[0mmodel_dict\u001b[0m\u001b[0;34m.\u001b[0m\u001b[0mpop\u001b[0m\u001b[0;34m(\u001b[0m\u001b[0;34m\"api_key\"\u001b[0m\u001b[0;34m,\u001b[0m \u001b[0;32mNone\u001b[0m\u001b[0;34m)\u001b[0m\u001b[0;34m\u001b[0m\u001b[0;34m\u001b[0m\u001b[0m\n\u001b[1;32m    156\u001b[0m                 dispatcher.event(\n\u001b[0;32m--> 157\u001b[0;31m                     LLMChatStartEvent(\n\u001b[0m\u001b[1;32m    158\u001b[0m                         \u001b[0mmodel_dict\u001b[0m\u001b[0;34m=\u001b[0m\u001b[0mmodel_dict\u001b[0m\u001b[0;34m,\u001b[0m\u001b[0;34m\u001b[0m\u001b[0;34m\u001b[0m\u001b[0m\n\u001b[1;32m    159\u001b[0m                         \u001b[0mmessages\u001b[0m\u001b[0;34m=\u001b[0m\u001b[0mmessages\u001b[0m\u001b[0;34m,\u001b[0m\u001b[0;34m\u001b[0m\u001b[0;34m\u001b[0m\u001b[0m\n",
            "\u001b[0;32m/usr/local/lib/python3.10/dist-packages/pydantic/main.py\u001b[0m in \u001b[0;36m__init__\u001b[0;34m(self, **data)\u001b[0m\n\u001b[1;32m    212\u001b[0m         \u001b[0;31m# `__tracebackhide__` tells pytest and some other tools to omit this function from tracebacks\u001b[0m\u001b[0;34m\u001b[0m\u001b[0;34m\u001b[0m\u001b[0m\n\u001b[1;32m    213\u001b[0m         \u001b[0m__tracebackhide__\u001b[0m \u001b[0;34m=\u001b[0m \u001b[0;32mTrue\u001b[0m\u001b[0;34m\u001b[0m\u001b[0;34m\u001b[0m\u001b[0m\n\u001b[0;32m--> 214\u001b[0;31m         \u001b[0mvalidated_self\u001b[0m \u001b[0;34m=\u001b[0m \u001b[0mself\u001b[0m\u001b[0;34m.\u001b[0m\u001b[0m__pydantic_validator__\u001b[0m\u001b[0;34m.\u001b[0m\u001b[0mvalidate_python\u001b[0m\u001b[0;34m(\u001b[0m\u001b[0mdata\u001b[0m\u001b[0;34m,\u001b[0m \u001b[0mself_instance\u001b[0m\u001b[0;34m=\u001b[0m\u001b[0mself\u001b[0m\u001b[0;34m)\u001b[0m\u001b[0;34m\u001b[0m\u001b[0;34m\u001b[0m\u001b[0m\n\u001b[0m\u001b[1;32m    215\u001b[0m         \u001b[0;32mif\u001b[0m \u001b[0mself\u001b[0m \u001b[0;32mis\u001b[0m \u001b[0;32mnot\u001b[0m \u001b[0mvalidated_self\u001b[0m\u001b[0;34m:\u001b[0m\u001b[0;34m\u001b[0m\u001b[0;34m\u001b[0m\u001b[0m\n\u001b[1;32m    216\u001b[0m             warnings.warn(\n",
            "\u001b[0;31mValidationError\u001b[0m: 2 validation errors for LLMChatStartEvent\nmessages.0\n  Input should be a valid dictionary or instance of ChatMessage [type=model_type, input_value=ChatMessage(role='system'...ls to assist the user.'), input_type=ChatMessage]\n    For further information visit https://errors.pydantic.dev/2.10/v/model_type\nmessages.1\n  Input should be a valid dictionary or instance of ChatMessage [type=model_type, input_value=ChatMessage(role='user', ... the capital of France'), input_type=ChatMessage]\n    For further information visit https://errors.pydantic.dev/2.10/v/model_type"
          ]
        }
      ]
    },
    {
      "cell_type": "code",
      "source": [],
      "metadata": {
        "id": "7rBv7Iszj1dt"
      },
      "execution_count": null,
      "outputs": []
    },
    {
      "cell_type": "markdown",
      "source": [
        "##Long Context Prompting"
      ],
      "metadata": {
        "id": "WSlTe3dhIdAK"
      }
    },
    {
      "cell_type": "code",
      "source": [
        "import warnings\n",
        "warnings.filterwarnings('ignore')"
      ],
      "metadata": {
        "id": "J3VVZ8OPIn9Q"
      },
      "execution_count": 9,
      "outputs": []
    },
    {
      "cell_type": "code",
      "source": [
        "## The NVIDIA 10K filing data used in this lesson can be found online here\n",
        "## https://www.nasdaq.com/market-activity/stocks/nvda/sec-filings\n",
        "\n",
        "Filing2023 = open('/content/drive/MyDrive/Colab Notebooks/Data/Nvidia_10K_20240128.txt', 'r', encoding='utf-8').read()\n",
        "Filing2024 = open('/content/drive/MyDrive/Colab Notebooks/Data/Nvidia_10K_20230129.txt', 'r', encoding='utf-8').read()"
      ],
      "metadata": {
        "id": "nPHoycWMIhyV"
      },
      "execution_count": 11,
      "outputs": []
    },
    {
      "cell_type": "code",
      "source": [
        "system = \"You are a SEC Filing assistant.\"\n",
        "separator=\"\\n\\n***************\\n\\n\"\n",
        "\n",
        "prompt = f\"\"\"Summarize the following SEC annual report: {Filing2024}{separator}\n",
        "Summary:\"\"\"\n",
        "\n",
        "messages = [ChatMessage(role='system', content=system),\n",
        "            ChatMessage(role='user', content=prompt)]\n",
        "\n",
        "chat_completions = llm.chat(\n",
        "    messages=messages,\n",
        "    model=\"jamba-1.5-large\",\n",
        "    max_tokens=2000,\n",
        "    temperature=0.3)"
      ],
      "metadata": {
        "id": "LzNKW0mYIvQX"
      },
      "execution_count": 12,
      "outputs": []
    },
    {
      "cell_type": "code",
      "source": [
        "display(Markdown(chat_completions.message.blocks[0].text))"
      ],
      "metadata": {
        "colab": {
          "base_uri": "https://localhost:8080/",
          "height": 133
        },
        "id": "-sYmY9zFI50K",
        "outputId": "05ab5218-f6e5-4420-f93c-4d9d84103d7d"
      },
      "execution_count": 15,
      "outputs": [
        {
          "output_type": "display_data",
          "data": {
            "text/plain": [
              "<IPython.core.display.Markdown object>"
            ],
            "text/markdown": "NVIDIA Corporation, a Delaware-based company, has filed its annual report for the fiscal year ended January 29, 2023. The report includes the company's financial statements, which have been audited by PricewaterhouseCoopers LLP. The auditors have expressed their opinion that the financial statements present a fair view of the company's financial position and that NVIDIA's internal control over financial reporting was effective as of January 29, 2023. The report also includes a certification from NVIDIA's President and Chief Executive Officer, Jen-Hsun Huang, and its Executive Vice President and Chief Financial Officer, Colette M. Kress, stating that the report does not contain any untrue statements of material fact and that the financial statements fairly present the company's financial condition, results of operations, and cash flows."
          },
          "metadata": {}
        }
      ]
    },
    {
      "cell_type": "code",
      "source": [
        "def jamba_chat(query,filing, model=\"jamba-1.5-large\", max_tokens=2000, temperature=0.3):\n",
        "\n",
        "    system_message=\"\"\"You are a SEC Filing assistant.\n",
        "    Answer questions or performance requested tasks based on provided SEC filing doc in the prompt.\"\"\"\n",
        "    separator=\"\\n\\n***************\\n\\n\"\n",
        "\n",
        "    prompt = f\"\"\"Use the following SEC filing: {filing}{separator}\n",
        "    Answer the following question based on the context above: {query}\"\"\"\n",
        "\n",
        "    messages = [\n",
        "        ChatMessage(role=\"system\", content=system_message),\n",
        "        ChatMessage(role=\"user\", content=prompt)\n",
        "    ]\n",
        "\n",
        "    chat_completions = llm.chat(\n",
        "        messages=messages,\n",
        "        model=model,\n",
        "        max_tokens=max_tokens,\n",
        "        temperature=temperature\n",
        "    )\n",
        "\n",
        "    return chat_completions.message.blocks[0].text"
      ],
      "metadata": {
        "id": "cHynY4iFJHdK"
      },
      "execution_count": 16,
      "outputs": []
    },
    {
      "cell_type": "code",
      "source": [
        "JAMBA_QUERY = \"What drove the revenue growth in 2024?\"\n",
        "\n",
        "response = jamba_chat(JAMBA_QUERY, Filing2024)\n",
        "#print(response)\n"
      ],
      "metadata": {
        "colab": {
          "base_uri": "https://localhost:8080/"
        },
        "id": "OQkfUBLVJt5s",
        "outputId": "ac9bbb6a-1ade-48ec-9b7b-9df448701e26"
      },
      "execution_count": 17,
      "outputs": [
        {
          "output_type": "stream",
          "name": "stdout",
          "text": [
            "The revenue growth in 2024 was driven by strong growth from hyperscale customers and purchases made by several CSP partners to support multi-year cloud service agreements for NVIDIA's new AI cloud service offerings and research and development activities.\n"
          ]
        }
      ]
    },
    {
      "cell_type": "code",
      "source": [
        "display(Markdown(response))"
      ],
      "metadata": {
        "colab": {
          "base_uri": "https://localhost:8080/",
          "height": 64
        },
        "id": "lyLLbNebJv5a",
        "outputId": "6fb85a64-904f-48ea-97fd-bdad4860695c"
      },
      "execution_count": 18,
      "outputs": [
        {
          "output_type": "display_data",
          "data": {
            "text/plain": [
              "<IPython.core.display.Markdown object>"
            ],
            "text/markdown": "The revenue growth in 2024 was driven by strong growth from hyperscale customers and purchases made by several CSP partners to support multi-year cloud service agreements for NVIDIA's new AI cloud service offerings and research and development activities."
          },
          "metadata": {}
        }
      ]
    },
    {
      "cell_type": "code",
      "source": [
        "def jamba_json(query,filing, model=\"jamba-1.5-large\", max_tokens=2000, temperature=0):\n",
        "\n",
        "    system_message=\"\"\"You are a SEC Filing assistant.\n",
        "    Answer questions in JSON format based on provided SEC filing doc in the prompt.\"\"\"\n",
        "    separator=\"\\n\\n***************\\n\\n\"\n",
        "\n",
        "    prompt = f\"\"\"Use the following SEC filing: {filing}{separator}\n",
        "    Generate JSON output for Answer the following question based on the context above: {query}\"\"\"\n",
        "\n",
        "    messages = [\n",
        "        ChatMessage(role=\"system\", content=system_message),\n",
        "        ChatMessage(role=\"user\", content=prompt)\n",
        "    ]\n",
        "\n",
        "    chat_completions = llm.chat(\n",
        "        messages=messages,\n",
        "        model=model,\n",
        "        max_tokens=max_tokens,\n",
        "        temperature=temperature,\n",
        "        response_format={\"type\": \"json_object\"}\n",
        "    )\n",
        "\n",
        "    return chat_completions.message.blocks[0].text"
      ],
      "metadata": {
        "id": "1YJqZVpoJ7BO"
      },
      "execution_count": 19,
      "outputs": []
    },
    {
      "cell_type": "code",
      "source": [
        "JAMBA_QUERY = \"\"\"Create a JSON output of the financial performance from this 10K filing,\n",
        "including fiscal year end date, revenue, gross profit,\n",
        "net income per share, revenue by segment,\n",
        "revenue by geo region.\"\"\"\n",
        "\n",
        "response = jamba_json(JAMBA_QUERY, Filing2024)"
      ],
      "metadata": {
        "colab": {
          "base_uri": "https://localhost:8080/"
        },
        "id": "1i4EI76ULbPX",
        "outputId": "f75ce995-4c91-4b69-b1c4-27f4337db06b"
      },
      "execution_count": 20,
      "outputs": [
        {
          "output_type": "stream",
          "name": "stdout",
          "text": [
            "{\n",
            "  \"fiscal_year_end_date\": \"2023-01-29\",\n",
            "  \"revenue\": 26974000000.0,\n",
            "  \"gross_profit\": 15356000000.0,\n",
            "  \"net_income_per_share\": 1.74,\n",
            "  \"revenue_by_segment\": {\n",
            "    \"Compute & Networking\": 15068000000.0,\n",
            "    \"Graphics\": 11906000000.0\n",
            "  },\n",
            "  \"revenue_by_geo_region\": {\n",
            "    \"United States\": 8292000000.0,\n",
            "    \"Taiwan\": 6986000000.0,\n",
            "    \"China (including Hong Kong)\": 5785000000.0,\n",
            "    \"Other countries\": 5911000000.0\n",
            "  }\n",
            "}\n"
          ]
        }
      ]
    },
    {
      "cell_type": "code",
      "source": [
        "all_filings = Filing2023 + \"\\n\\n||||||\\n\\n\" + Filing2024\n",
        "\n",
        "JAMBA_QUERY = \"\"\"Create an html table of the financial performance\n",
        "from both of the filings, including the fiscal year,\n",
        "revenue, and earnings per share for year 2023 and 2024.\"\"\"\n",
        "\n",
        "response = jamba_chat(JAMBA_QUERY, all_filings)\n",
        "\n",
        "from IPython.display import display, Markdown, HTML\n",
        "display(HTML(response))"
      ],
      "metadata": {
        "colab": {
          "base_uri": "https://localhost:8080/",
          "height": 155
        },
        "id": "cAD2HUl0LlTR",
        "outputId": "cb706f0a-f90c-458d-c58b-aaef13adcb34"
      },
      "execution_count": 22,
      "outputs": [
        {
          "output_type": "display_data",
          "data": {
            "text/plain": [
              "<IPython.core.display.HTML object>"
            ],
            "text/html": [
              "Here is the HTML table of the financial performance from both filings, including the fiscal year, revenue, and earnings per share for the years 2023 and 2024:\n",
              "\n",
              "```html\n",
              "<!DOCTYPE html>\n",
              "<html>\n",
              "<head>\n",
              "    <title>NVIDIA Financial Performance</title>\n",
              "    <style>\n",
              "        table {\n",
              "            width: 100%;\n",
              "            border-collapse: collapse;\n",
              "        }\n",
              "        th, td {\n",
              "            border: 1px solid black;\n",
              "            padding: 8px;\n",
              "            text-align: left;\n",
              "        }\n",
              "        th {\n",
              "            background-color: #f2f2f2;\n",
              "        }\n",
              "    </style>\n",
              "</head>\n",
              "<body>\n",
              "    <table>\n",
              "        <thead>\n",
              "            <tr>\n",
              "                <th>Fiscal Year</th>\n",
              "                <th>Revenue</th>\n",
              "                <th>Earnings Per Share</th>\n",
              "            </tr>\n",
              "        </thead>\n",
              "        <tbody>\n",
              "            <tr>\n",
              "                <td>2023</td>\n",
              "                <td>$26,974</td>\n",
              "                <td>$1.74</td>\n",
              "            </tr>\n",
              "            <tr>\n",
              "                <td>2024</td>\n",
              "                <td>$60,922</td>\n",
              "                <td>$11.93</td>\n",
              "            </tr>\n",
              "        </tbody>\n",
              "    </table>\n",
              "</body>\n",
              "</html>\n",
              "```"
            ]
          },
          "metadata": {}
        }
      ]
    },
    {
      "cell_type": "code",
      "source": [],
      "metadata": {
        "id": "nDk-0pr6LvRu"
      },
      "execution_count": null,
      "outputs": []
    }
  ]
}